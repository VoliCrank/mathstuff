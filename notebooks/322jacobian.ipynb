{
 "cells": [
  {
   "cell_type": "code",
   "execution_count": 1,
   "id": "95e17d95-edfd-4f47-b824-b6b8cbaaa1c8",
   "metadata": {},
   "outputs": [],
   "source": [
    "from sympy.tensor.array import tensorproduct, Array\n",
    "from sympy import *\n",
    "from random import randint\n",
    "import numpy as np\n",
    "a11, a12, a21, a22,a23, a31, a32,a33, b11, b12, b21, b22,b23, b31, b32,b33= symbols('a11 a12 a21 a22 a23 a31 a32 a33 b11 b12 b21 b22 b23 b31 b32 b33')\n",
    "c11, c12, c21, c22, c23, c31, c32, c33, pi_1, pi_2, pi_3= symbols('c11 c12 c21 c22 c23 c31 c32 c33 pi_1 pi_2 pi_3')\n",
    "a13, b13, c13 = symbols('a13 b13 c13')"
   ]
  },
  {
   "cell_type": "code",
   "execution_count": 5,
   "id": "97e5e020-081d-4ac3-93a7-1210d7bab092",
   "metadata": {},
   "outputs": [
    {
     "data": {
      "text/latex": [
       "$\\displaystyle \\left[\\begin{matrix}\\left[\\begin{matrix}a_{11} a_{21} a_{31} + b_{11} b_{21} b_{31} + c_{11} c_{21} c_{31} & a_{11} a_{22} a_{31} + b_{11} b_{22} b_{31} + c_{11} c_{22} c_{31} & a_{11} a_{23} a_{31} + b_{11} b_{23} b_{31} + c_{11} c_{23} c_{31}\\\\a_{12} a_{21} a_{31} + b_{12} b_{21} b_{31} + c_{12} c_{21} c_{31} & a_{12} a_{22} a_{31} + b_{12} b_{22} b_{31} + c_{12} c_{22} c_{31} & a_{12} a_{23} a_{31} + b_{12} b_{23} b_{31} + c_{12} c_{23} c_{31}\\\\a_{13} a_{21} a_{31} + b_{13} b_{21} b_{31} + c_{13} c_{21} c_{31} & a_{13} a_{22} a_{31} + b_{13} b_{22} b_{31} + c_{13} c_{22} c_{31} & a_{13} a_{23} a_{31} + b_{13} b_{23} b_{31} + c_{13} c_{23} c_{31}\\end{matrix}\\right] & \\left[\\begin{matrix}a_{11} a_{21} a_{32} + b_{11} b_{21} b_{32} + c_{11} c_{21} c_{32} & a_{11} a_{22} a_{32} + b_{11} b_{22} b_{32} + c_{11} c_{22} c_{32} & a_{11} a_{23} a_{32} + b_{11} b_{23} b_{32} + c_{11} c_{23} c_{32}\\\\a_{12} a_{21} a_{32} + b_{12} b_{21} b_{32} + c_{12} c_{21} c_{32} & a_{12} a_{22} a_{32} + b_{12} b_{22} b_{32} + c_{12} c_{22} c_{32} & a_{12} a_{23} a_{32} + b_{12} b_{23} b_{32} + c_{12} c_{23} c_{32}\\\\a_{13} a_{21} a_{32} + b_{13} b_{21} b_{32} + c_{13} c_{21} c_{32} & a_{13} a_{22} a_{32} + b_{13} b_{22} b_{32} + c_{13} c_{22} c_{32} & a_{13} a_{23} a_{32} + b_{13} b_{23} b_{32} + c_{13} c_{23} c_{32}\\end{matrix}\\right]\\end{matrix}\\right]$"
      ],
      "text/plain": [
       "[[[a11*a21*a31 + b11*b21*b31 + c11*c21*c31, a11*a22*a31 + b11*b22*b31 + c11*c22*c31, a11*a23*a31 + b11*b23*b31 + c11*c23*c31], [a12*a21*a31 + b12*b21*b31 + c12*c21*c31, a12*a22*a31 + b12*b22*b31 + c12*c22*c31, a12*a23*a31 + b12*b23*b31 + c12*c23*c31], [a13*a21*a31 + b13*b21*b31 + c13*c21*c31, a13*a22*a31 + b13*b22*b31 + c13*c22*c31, a13*a23*a31 + b13*b23*b31 + c13*c23*c31]], [[a11*a21*a32 + b11*b21*b32 + c11*c21*c32, a11*a22*a32 + b11*b22*b32 + c11*c22*c32, a11*a23*a32 + b11*b23*b32 + c11*c23*c32], [a12*a21*a32 + b12*b21*b32 + c12*c21*c32, a12*a22*a32 + b12*b22*b32 + c12*c22*c32, a12*a23*a32 + b12*b23*b32 + c12*c23*c32], [a13*a21*a32 + b13*b21*b32 + c13*c21*c32, a13*a22*a32 + b13*b22*b32 + c13*c22*c32, a13*a23*a32 + b13*b23*b32 + c13*c23*c32]]]"
      ]
     },
     "execution_count": 5,
     "metadata": {},
     "output_type": "execute_result"
    }
   ],
   "source": [
    "A1 = Array([a11,a12,a13])\n",
    "B1 = Array([a21,a22,a23])\n",
    "C1 = Array([a31,a32])\n",
    "A2 = Array([b11,b12,b13])\n",
    "B2 = Array([b21,b22,b23])\n",
    "C2 = Array([b31,b32])\n",
    "A3 = Array([c11,c12,c13])\n",
    "B3 = Array([c21,c22,c23])\n",
    "C3 = Array([c31,c32])\n",
    "#tensorproduct(A1,B1,C1) + tensorproduct(A2, B2, C2)\n",
    "R = tensorproduct(C1,A1,B1) + tensorproduct(C2,A2,B2) + tensorproduct(C3,A3,B3)\n",
    "Y = Array([a11, a12 ,a21,a22,a31,a32,a33,b11,b12,b21,b22,b31,b32,b33,c11,c12,c21,c22,c31,c32,c33])\n",
    "#diff(R, a11)\n",
    "R"
   ]
  },
  {
   "cell_type": "code",
   "execution_count": 7,
   "id": "a8561071-b3c5-47f8-8f40-99d39076c6ed",
   "metadata": {},
   "outputs": [],
   "source": [
    "#A= Matrix(R[0]) * Matrix(R[1]).inv()\n",
    "#A[0]"
   ]
  },
  {
   "cell_type": "code",
   "execution_count": 4,
   "id": "4067cac2-c9b5-4e28-bed9-9dc4458da84c",
   "metadata": {},
   "outputs": [
    {
     "data": {
      "text/latex": [
       "$\\displaystyle a_{11} a_{21} a_{32} b_{13} b_{23} b_{32} + a_{11} a_{21} a_{32} c_{13} c_{23} c_{32} - a_{11} a_{23} a_{32} b_{13} b_{21} b_{32} - a_{11} a_{23} a_{32} c_{13} c_{21} c_{32} - a_{13} a_{21} a_{32} b_{11} b_{23} b_{32} - a_{13} a_{21} a_{32} c_{11} c_{23} c_{32} + a_{13} a_{23} a_{32} b_{11} b_{21} b_{32} + a_{13} a_{23} a_{32} c_{11} c_{21} c_{32} + b_{11} b_{21} b_{32} c_{13} c_{23} c_{32} - b_{11} b_{23} b_{32} c_{13} c_{21} c_{32} - b_{13} b_{21} b_{32} c_{11} c_{23} c_{32} + b_{13} b_{23} b_{32} c_{11} c_{21} c_{32}$"
      ],
      "text/plain": [
       "a11*a21*a32*b13*b23*b32 + a11*a21*a32*c13*c23*c32 - a11*a23*a32*b13*b21*b32 - a11*a23*a32*c13*c21*c32 - a13*a21*a32*b11*b23*b32 - a13*a21*a32*c11*c23*c32 + a13*a23*a32*b11*b21*b32 + a13*a23*a32*c11*c21*c32 + b11*b21*b32*c13*c23*c32 - b11*b23*b32*c13*c21*c32 - b13*b21*b32*c11*c23*c32 + b13*b23*b32*c11*c21*c32"
      ]
     },
     "execution_count": 4,
     "metadata": {},
     "output_type": "execute_result"
    }
   ],
   "source": [
    "factor(Matrix(R[1]).minor(1,1))"
   ]
  },
  {
   "cell_type": "code",
   "execution_count": 10,
   "id": "2327e92c-f856-4925-b257-9dd46ff7c03d",
   "metadata": {},
   "outputs": [
    {
     "data": {
      "text/latex": [
       "$\\displaystyle a_{11} a_{21} a_{32} b_{12} b_{22} b_{32} + a_{11} a_{21} a_{32} c_{12} c_{22} c_{32} - a_{11} a_{22} a_{32} b_{12} b_{21} b_{32} - a_{11} a_{22} a_{32} c_{12} c_{21} c_{32} - a_{12} a_{21} a_{32} b_{11} b_{22} b_{32} - a_{12} a_{21} a_{32} c_{11} c_{22} c_{32} + a_{12} a_{22} a_{32} b_{11} b_{21} b_{32} + a_{12} a_{22} a_{32} c_{11} c_{21} c_{32} + b_{11} b_{21} b_{32} c_{12} c_{22} c_{32} - b_{11} b_{22} b_{32} c_{12} c_{21} c_{32} - b_{12} b_{21} b_{32} c_{11} c_{22} c_{32} + b_{12} b_{22} b_{32} c_{11} c_{21} c_{32}$"
      ],
      "text/plain": [
       "a11*a21*a32*b12*b22*b32 + a11*a21*a32*c12*c22*c32 - a11*a22*a32*b12*b21*b32 - a11*a22*a32*c12*c21*c32 - a12*a21*a32*b11*b22*b32 - a12*a21*a32*c11*c22*c32 + a12*a22*a32*b11*b21*b32 + a12*a22*a32*c11*c21*c32 + b11*b21*b32*c12*c22*c32 - b11*b22*b32*c12*c21*c32 - b12*b21*b32*c11*c22*c32 + b12*b22*b32*c11*c21*c32"
      ]
     },
     "execution_count": 10,
     "metadata": {},
     "output_type": "execute_result"
    }
   ],
   "source": [
    "Matrix(R[1]).minor(2,2).factor()"
   ]
  },
  {
   "cell_type": "code",
   "execution_count": 26,
   "id": "c9f9de54-2c15-4266-b0c2-78b8df8e625e",
   "metadata": {},
   "outputs": [],
   "source": [
    "def r(n):\n",
    "    result = []\n",
    "    for i in range(n):\n",
    "        result.append(randint(0,1000))\n",
    "    result = [number / sum(result) for number in result]\n",
    "    return result"
   ]
  },
  {
   "cell_type": "code",
   "execution_count": 27,
   "id": "58b6cc0d-28ce-4e2f-a702-dfd647edc6e6",
   "metadata": {},
   "outputs": [
    {
     "data": {
      "text/latex": [
       "$\\displaystyle a_{11} a_{21} a_{31} \\pi_{1} + a_{11} a_{21} a_{32} \\pi_{1} + a_{11} a_{21} \\pi_{1} \\left(- a_{31} - a_{32} + 1\\right) + a_{11} a_{31} \\pi_{1} \\left(1 - a_{21}\\right) + a_{11} a_{32} \\pi_{1} \\left(1 - a_{21}\\right) + a_{11} \\pi_{1} \\left(1 - a_{21}\\right) \\left(- a_{31} - a_{32} + 1\\right) + a_{21} a_{31} \\pi_{1} \\left(1 - a_{11}\\right) + a_{21} a_{32} \\pi_{1} \\left(1 - a_{11}\\right) + a_{21} \\pi_{1} \\left(1 - a_{11}\\right) \\left(- a_{31} - a_{32} + 1\\right) + a_{31} \\pi_{1} \\left(1 - a_{11}\\right) \\left(1 - a_{21}\\right) + a_{32} \\pi_{1} \\left(1 - a_{11}\\right) \\left(1 - a_{21}\\right) + b_{11} b_{21} b_{31} \\pi_{2} + b_{11} b_{21} b_{32} \\pi_{2} + b_{11} b_{21} \\pi_{2} \\left(- b_{31} - b_{32} + 1\\right) + b_{11} b_{31} \\pi_{2} \\left(1 - b_{21}\\right) + b_{11} b_{32} \\pi_{2} \\left(1 - b_{21}\\right) + b_{11} \\pi_{2} \\left(1 - b_{21}\\right) \\left(- b_{31} - b_{32} + 1\\right) + b_{21} b_{31} \\pi_{2} \\left(1 - b_{11}\\right) + b_{21} b_{32} \\pi_{2} \\left(1 - b_{11}\\right) + b_{21} \\pi_{2} \\left(1 - b_{11}\\right) \\left(- b_{31} - b_{32} + 1\\right) + b_{31} \\pi_{2} \\left(1 - b_{11}\\right) \\left(1 - b_{21}\\right) + b_{32} \\pi_{2} \\left(1 - b_{11}\\right) \\left(1 - b_{21}\\right) + c_{11} c_{21} c_{31} \\left(- \\pi_{1} - \\pi_{2} + 1\\right) + c_{11} c_{21} c_{32} \\left(- \\pi_{1} - \\pi_{2} + 1\\right) + c_{11} c_{21} \\left(- c_{31} - c_{32} + 1\\right) \\left(- \\pi_{1} - \\pi_{2} + 1\\right) + c_{11} c_{31} \\left(1 - c_{21}\\right) \\left(- \\pi_{1} - \\pi_{2} + 1\\right) + c_{11} c_{32} \\left(1 - c_{21}\\right) \\left(- \\pi_{1} - \\pi_{2} + 1\\right) + c_{11} \\left(1 - c_{21}\\right) \\left(- c_{31} - c_{32} + 1\\right) \\left(- \\pi_{1} - \\pi_{2} + 1\\right) + c_{21} c_{31} \\left(1 - c_{11}\\right) \\left(- \\pi_{1} - \\pi_{2} + 1\\right) + c_{21} c_{32} \\left(1 - c_{11}\\right) \\left(- \\pi_{1} - \\pi_{2} + 1\\right) + c_{21} \\left(1 - c_{11}\\right) \\left(- c_{31} - c_{32} + 1\\right) \\left(- \\pi_{1} - \\pi_{2} + 1\\right) + c_{31} \\left(1 - c_{11}\\right) \\left(1 - c_{21}\\right) \\left(- \\pi_{1} - \\pi_{2} + 1\\right) + c_{32} \\left(1 - c_{11}\\right) \\left(1 - c_{21}\\right) \\left(- \\pi_{1} - \\pi_{2} + 1\\right) + \\pi_{1} \\left(1 - a_{11}\\right) \\left(1 - a_{21}\\right) \\left(- a_{31} - a_{32} + 1\\right) + \\pi_{2} \\left(1 - b_{11}\\right) \\left(1 - b_{21}\\right) \\left(- b_{31} - b_{32} + 1\\right) + \\left(1 - c_{11}\\right) \\left(1 - c_{21}\\right) \\left(- c_{31} - c_{32} + 1\\right) \\left(- \\pi_{1} - \\pi_{2} + 1\\right)$"
      ],
      "text/plain": [
       "a11*a21*a31*pi_1 + a11*a21*a32*pi_1 + a11*a21*pi_1*(-a31 - a32 + 1) + a11*a31*pi_1*(1 - a21) + a11*a32*pi_1*(1 - a21) + a11*pi_1*(1 - a21)*(-a31 - a32 + 1) + a21*a31*pi_1*(1 - a11) + a21*a32*pi_1*(1 - a11) + a21*pi_1*(1 - a11)*(-a31 - a32 + 1) + a31*pi_1*(1 - a11)*(1 - a21) + a32*pi_1*(1 - a11)*(1 - a21) + b11*b21*b31*pi_2 + b11*b21*b32*pi_2 + b11*b21*pi_2*(-b31 - b32 + 1) + b11*b31*pi_2*(1 - b21) + b11*b32*pi_2*(1 - b21) + b11*pi_2*(1 - b21)*(-b31 - b32 + 1) + b21*b31*pi_2*(1 - b11) + b21*b32*pi_2*(1 - b11) + b21*pi_2*(1 - b11)*(-b31 - b32 + 1) + b31*pi_2*(1 - b11)*(1 - b21) + b32*pi_2*(1 - b11)*(1 - b21) + c11*c21*c31*(-pi_1 - pi_2 + 1) + c11*c21*c32*(-pi_1 - pi_2 + 1) + c11*c21*(-c31 - c32 + 1)*(-pi_1 - pi_2 + 1) + c11*c31*(1 - c21)*(-pi_1 - pi_2 + 1) + c11*c32*(1 - c21)*(-pi_1 - pi_2 + 1) + c11*(1 - c21)*(-c31 - c32 + 1)*(-pi_1 - pi_2 + 1) + c21*c31*(1 - c11)*(-pi_1 - pi_2 + 1) + c21*c32*(1 - c11)*(-pi_1 - pi_2 + 1) + c21*(1 - c11)*(-c31 - c32 + 1)*(-pi_1 - pi_2 + 1) + c31*(1 - c11)*(1 - c21)*(-pi_1 - pi_2 + 1) + c32*(1 - c11)*(1 - c21)*(-pi_1 - pi_2 + 1) + pi_1*(1 - a11)*(1 - a21)*(-a31 - a32 + 1) + pi_2*(1 - b11)*(1 - b21)*(-b31 - b32 + 1) + (1 - c11)*(1 - c21)*(-c31 - c32 + 1)*(-pi_1 - pi_2 + 1)"
      ]
     },
     "execution_count": 27,
     "metadata": {},
     "output_type": "execute_result"
    }
   ],
   "source": [
    "M = f.jacobian(d)\n",
    "a1 = r(2)\n",
    "b1 = r(2)\n",
    "c1 = r(2)\n",
    "pi = r(3)\n",
    "a2 = r(2)\n",
    "b2 = r(2)\n",
    "c2 = r(2)\n",
    "a3 = r(3)\n",
    "b3 = r(3)\n",
    "c3 = r(3)\n",
    "M = M.subs([(a31,a3[0]),(b31,b3[0]), (c31,c3[0]), (a32,a3[1]), (b32,b3[1]), (c32,c3[1]), (a33,a3[2]),(b33,b3[2]), (c33,c3[2])])\n",
    "M = M.subs([(a21,a2[0]),(b21,b2[0]), (c21,c2[0]), (a22,a2[1]), (b22,b2[1]), (c22,c2[1])])\n",
    "M = M.subs([(a11,a1[0]),(b11,b1[0]), (c11,c1[0]), (a12,a1[1]), (b12,b1[1]), (c12,c1[1]), (pi_1,pi[0]),(pi_2,pi[1]),(pi_3, pi[2])])\n",
    "#f = f.subs([(a31,a3[0]),(b31,b3[0]), (c31,c3[0]), (a32,a3[1]), (b32,b3[1]), (c32,c3[1]), (a33,a3[2]),(b33,b3[2]), (c33,c3[2])])\n",
    "#f = f.subs([(a21,a2[0]),(b21,b2[0]), (c21,c2[0]), (a22,a2[1]), (b22,b2[1]), (c22,c2[1])])\n",
    "#f = f.subs([(a11,a1[0]),(b11,b1[0]), (c11,c1[0]), (a12,a1[1]), (b12,b1[1]), (c12,c1[1]), (pi_1,pi[0]),(pi_2,pi[1]),(pi_3, pi[2])])\n",
    "sum(f)"
   ]
  },
  {
   "cell_type": "code",
   "execution_count": 28,
   "id": "1db122ae-bae6-4595-a436-fa300555dcaa",
   "metadata": {},
   "outputs": [
    {
     "ename": "NonSquareMatrixError",
     "evalue": "",
     "output_type": "error",
     "traceback": [
      "\u001b[1;31m---------------------------------------------------------------------------\u001b[0m",
      "\u001b[1;31mNonSquareMatrixError\u001b[0m                      Traceback (most recent call last)",
      "\u001b[1;32m<ipython-input-28-20b70021692e>\u001b[0m in \u001b[0;36m<module>\u001b[1;34m\u001b[0m\n\u001b[1;32m----> 1\u001b[1;33m \u001b[0mM\u001b[0m\u001b[1;33m.\u001b[0m\u001b[0mdet\u001b[0m\u001b[1;33m(\u001b[0m\u001b[1;33m)\u001b[0m\u001b[1;33m\u001b[0m\u001b[1;33m\u001b[0m\u001b[0m\n\u001b[0m",
      "\u001b[1;32mc:\\users\\alex\\appdata\\local\\programs\\python\\python39\\lib\\site-packages\\sympy\\matrices\\matrices.py\u001b[0m in \u001b[0;36mdet\u001b[1;34m(self, method, iszerofunc)\u001b[0m\n\u001b[0;32m    124\u001b[0m \u001b[1;33m\u001b[0m\u001b[0m\n\u001b[0;32m    125\u001b[0m     \u001b[1;32mdef\u001b[0m \u001b[0mdet\u001b[0m\u001b[1;33m(\u001b[0m\u001b[0mself\u001b[0m\u001b[1;33m,\u001b[0m \u001b[0mmethod\u001b[0m\u001b[1;33m=\u001b[0m\u001b[1;34m\"bareiss\"\u001b[0m\u001b[1;33m,\u001b[0m \u001b[0miszerofunc\u001b[0m\u001b[1;33m=\u001b[0m\u001b[1;32mNone\u001b[0m\u001b[1;33m)\u001b[0m\u001b[1;33m:\u001b[0m\u001b[1;33m\u001b[0m\u001b[1;33m\u001b[0m\u001b[0m\n\u001b[1;32m--> 126\u001b[1;33m         \u001b[1;32mreturn\u001b[0m \u001b[0m_det\u001b[0m\u001b[1;33m(\u001b[0m\u001b[0mself\u001b[0m\u001b[1;33m,\u001b[0m \u001b[0mmethod\u001b[0m\u001b[1;33m=\u001b[0m\u001b[0mmethod\u001b[0m\u001b[1;33m,\u001b[0m \u001b[0miszerofunc\u001b[0m\u001b[1;33m=\u001b[0m\u001b[0miszerofunc\u001b[0m\u001b[1;33m)\u001b[0m\u001b[1;33m\u001b[0m\u001b[1;33m\u001b[0m\u001b[0m\n\u001b[0m\u001b[0;32m    127\u001b[0m \u001b[1;33m\u001b[0m\u001b[0m\n\u001b[0;32m    128\u001b[0m     \u001b[1;32mdef\u001b[0m \u001b[0mper\u001b[0m\u001b[1;33m(\u001b[0m\u001b[0mself\u001b[0m\u001b[1;33m)\u001b[0m\u001b[1;33m:\u001b[0m\u001b[1;33m\u001b[0m\u001b[1;33m\u001b[0m\u001b[0m\n",
      "\u001b[1;32mc:\\users\\alex\\appdata\\local\\programs\\python\\python39\\lib\\site-packages\\sympy\\matrices\\determinant.py\u001b[0m in \u001b[0;36m_det\u001b[1;34m(M, method, iszerofunc)\u001b[0m\n\u001b[0;32m    671\u001b[0m \u001b[1;33m\u001b[0m\u001b[0m\n\u001b[0;32m    672\u001b[0m     \u001b[1;32mif\u001b[0m \u001b[0mmethod\u001b[0m \u001b[1;33m==\u001b[0m \u001b[1;34m\"bareiss\"\u001b[0m\u001b[1;33m:\u001b[0m\u001b[1;33m\u001b[0m\u001b[1;33m\u001b[0m\u001b[0m\n\u001b[1;32m--> 673\u001b[1;33m         \u001b[1;32mreturn\u001b[0m \u001b[0mM\u001b[0m\u001b[1;33m.\u001b[0m\u001b[0m_eval_det_bareiss\u001b[0m\u001b[1;33m(\u001b[0m\u001b[0miszerofunc\u001b[0m\u001b[1;33m=\u001b[0m\u001b[0miszerofunc\u001b[0m\u001b[1;33m)\u001b[0m\u001b[1;33m\u001b[0m\u001b[1;33m\u001b[0m\u001b[0m\n\u001b[0m\u001b[0;32m    674\u001b[0m     \u001b[1;32melif\u001b[0m \u001b[0mmethod\u001b[0m \u001b[1;33m==\u001b[0m \u001b[1;34m\"berkowitz\"\u001b[0m\u001b[1;33m:\u001b[0m\u001b[1;33m\u001b[0m\u001b[1;33m\u001b[0m\u001b[0m\n\u001b[0;32m    675\u001b[0m         \u001b[1;32mreturn\u001b[0m \u001b[0mM\u001b[0m\u001b[1;33m.\u001b[0m\u001b[0m_eval_det_berkowitz\u001b[0m\u001b[1;33m(\u001b[0m\u001b[1;33m)\u001b[0m\u001b[1;33m\u001b[0m\u001b[1;33m\u001b[0m\u001b[0m\n",
      "\u001b[1;32mc:\\users\\alex\\appdata\\local\\programs\\python\\python39\\lib\\site-packages\\sympy\\matrices\\matrices.py\u001b[0m in \u001b[0;36m_eval_det_bareiss\u001b[1;34m(self, iszerofunc)\u001b[0m\n\u001b[0;32m    100\u001b[0m \u001b[1;33m\u001b[0m\u001b[0m\n\u001b[0;32m    101\u001b[0m     \u001b[1;32mdef\u001b[0m \u001b[0m_eval_det_bareiss\u001b[0m\u001b[1;33m(\u001b[0m\u001b[0mself\u001b[0m\u001b[1;33m,\u001b[0m \u001b[0miszerofunc\u001b[0m\u001b[1;33m=\u001b[0m\u001b[0m_is_zero_after_expand_mul\u001b[0m\u001b[1;33m)\u001b[0m\u001b[1;33m:\u001b[0m\u001b[1;33m\u001b[0m\u001b[1;33m\u001b[0m\u001b[0m\n\u001b[1;32m--> 102\u001b[1;33m         \u001b[1;32mreturn\u001b[0m \u001b[0m_det_bareiss\u001b[0m\u001b[1;33m(\u001b[0m\u001b[0mself\u001b[0m\u001b[1;33m,\u001b[0m \u001b[0miszerofunc\u001b[0m\u001b[1;33m=\u001b[0m\u001b[0miszerofunc\u001b[0m\u001b[1;33m)\u001b[0m\u001b[1;33m\u001b[0m\u001b[1;33m\u001b[0m\u001b[0m\n\u001b[0m\u001b[0;32m    103\u001b[0m \u001b[1;33m\u001b[0m\u001b[0m\n\u001b[0;32m    104\u001b[0m     \u001b[1;32mdef\u001b[0m \u001b[0m_eval_det_berkowitz\u001b[0m\u001b[1;33m(\u001b[0m\u001b[0mself\u001b[0m\u001b[1;33m)\u001b[0m\u001b[1;33m:\u001b[0m\u001b[1;33m\u001b[0m\u001b[1;33m\u001b[0m\u001b[0m\n",
      "\u001b[1;32mc:\\users\\alex\\appdata\\local\\programs\\python\\python39\\lib\\site-packages\\sympy\\matrices\\determinant.py\u001b[0m in \u001b[0;36m_det_bareiss\u001b[1;34m(M, iszerofunc)\u001b[0m\n\u001b[0;32m    736\u001b[0m \u001b[1;33m\u001b[0m\u001b[0m\n\u001b[0;32m    737\u001b[0m     \u001b[1;32mif\u001b[0m \u001b[1;32mnot\u001b[0m \u001b[0mM\u001b[0m\u001b[1;33m.\u001b[0m\u001b[0mis_square\u001b[0m\u001b[1;33m:\u001b[0m\u001b[1;33m\u001b[0m\u001b[1;33m\u001b[0m\u001b[0m\n\u001b[1;32m--> 738\u001b[1;33m         \u001b[1;32mraise\u001b[0m \u001b[0mNonSquareMatrixError\u001b[0m\u001b[1;33m(\u001b[0m\u001b[1;33m)\u001b[0m\u001b[1;33m\u001b[0m\u001b[1;33m\u001b[0m\u001b[0m\n\u001b[0m\u001b[0;32m    739\u001b[0m \u001b[1;33m\u001b[0m\u001b[0m\n\u001b[0;32m    740\u001b[0m     \u001b[1;32mif\u001b[0m \u001b[0mM\u001b[0m\u001b[1;33m.\u001b[0m\u001b[0mrows\u001b[0m \u001b[1;33m==\u001b[0m \u001b[1;36m0\u001b[0m\u001b[1;33m:\u001b[0m\u001b[1;33m\u001b[0m\u001b[1;33m\u001b[0m\u001b[0m\n",
      "\u001b[1;31mNonSquareMatrixError\u001b[0m: "
     ]
    }
   ],
   "source": [
    "M.det()"
   ]
  },
  {
   "cell_type": "code",
   "execution_count": null,
   "id": "63f6acc2-3fe0-4d69-831b-75ee4094650d",
   "metadata": {},
   "outputs": [],
   "source": []
  }
 ],
 "metadata": {
  "kernelspec": {
   "display_name": "Python 3",
   "language": "python",
   "name": "python3"
  },
  "language_info": {
   "codemirror_mode": {
    "name": "ipython",
    "version": 3
   },
   "file_extension": ".py",
   "mimetype": "text/x-python",
   "name": "python",
   "nbconvert_exporter": "python",
   "pygments_lexer": "ipython3",
   "version": "3.9.5"
  }
 },
 "nbformat": 4,
 "nbformat_minor": 5
}
