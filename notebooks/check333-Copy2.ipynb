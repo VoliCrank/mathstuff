{
 "cells": [
  {
   "cell_type": "code",
   "execution_count": 18,
   "id": "3ac4f6c5-0eca-408a-bce2-13587ce9ff66",
   "metadata": {},
   "outputs": [],
   "source": [
    "import tensorly as tl\n",
    "import numpy as np\n",
    "from numpy import linalg as la\n",
    "from sympy import *\n",
    "\n",
    "from tensorly.decomposition import parafac\n",
    "from tensorly.decomposition import non_negative_parafac_hals"
   ]
  },
  {
   "cell_type": "code",
   "execution_count": 19,
   "id": "61c8e43f-2fca-4706-a216-fe40fac9eefa",
   "metadata": {},
   "outputs": [],
   "source": [
    "def check_rank(tensor, rank, non_neg=True, n=10, tol=0.001, p=False):\n",
    "    if non_neg:\n",
    "        for k in range(n):\n",
    "            weights, factors = non_negative_parafac_hals(tensor, n_iter_max=1000000, rank=rank, init='random')\n",
    "            full = tl.cp_to_tensor((weights, factors))\n",
    "            diff = (full - tensor) / tensor\n",
    "            if p:\n",
    "                # print(full)\n",
    "                print(tl.max(abs(diff)))\n",
    "            if tl.max(abs(diff)) < tol:\n",
    "                return True\n",
    "    else:\n",
    "        for k in range(n):\n",
    "            weights, factors = parafac(tensor, n_iter_max=1000000, rank=rank)\n",
    "            full = tl.cp_to_tensor((weights, factors))\n",
    "            diff = (full - tensor) / tensor\n",
    "            if p:\n",
    "                print(tl.max(abs(diff)))\n",
    "            if tl.max(abs(diff)) < tol:\n",
    "                return True\n",
    "    return False\n",
    "\n",
    "#generates random rank 3 tensors\n",
    "def rank_tree():\n",
    "    return (low_tensor() + low_tensor() + low_tensor()) \n",
    "\n",
    "#generates random rank 4+ (hopefully) tensors\n",
    "def rank_for():\n",
    "    return  (low_tensor() + low_tensor() + low_tensor() + low_tensor())\n",
    "\n",
    "\n",
    "# generates rank 1, 2x2x3 tensors\n",
    "def low_tensor():\n",
    "    max = 30\n",
    "    a = np.random.randint(1, max, size=3)\n",
    "    b = np.random.randint(1, max, size=3)\n",
    "    c = np.random.randint(1, max, size=3)\n",
    "    tens = tl.tensor(np.kron(np.kron(a, b), c).reshape(3, 3, 3)) * 1.0\n",
    "    return (tens, a,b,c)"
   ]
  },
  {
   "cell_type": "code",
   "execution_count": 20,
   "id": "bf0de7ec-4877-4055-b030-b4614164ead1",
   "metadata": {},
   "outputs": [],
   "source": [
    "def check(t, p = False):\n",
    "    p000 = t[0][0][0]\n",
    "    p001 = t[1][0][0]\n",
    "    p002 = t[2][0][0]\n",
    "    p100 = t[0][1][0]\n",
    "    p101 = t[1][1][0]\n",
    "    p102 = t[2][1][0]\n",
    "    p010 = t[0][0][1]\n",
    "    p011 = t[1][0][1]\n",
    "    p012 = t[2][0][1]\n",
    "    p110 = t[0][1][1]\n",
    "    p111 = t[1][1][1]\n",
    "    p112 = t[2][1][1]\n",
    "    p210 = t[0][2][1]\n",
    "    p211 = t[1][1][2]\n",
    "    p212 = t[2][2][1]\n",
    "    p220 = t[0][2][2]\n",
    "    p221 = t[1][2][2]\n",
    "    p222 = t[2][2][2]\n",
    "    p120 = t[0][1][2]\n",
    "    p121 = t[1][1][2]\n",
    "    p122 = t[2][1][2]\n",
    "    p200 = t[0][2][0]\n",
    "    p201 = t[1][2][0]\n",
    "    p202 = t[2][2][0]\n",
    "    p020 = t[0][0][2]\n",
    "    p021 = t[1][0][2]\n",
    "    p022 = t[2][0][2]\n",
    "    \n",
    "\n",
    "def check_req(p):\n",
    "    d1 = Matrix(p[0])\n",
    "    d2 = Matrix(p[1])\n",
    "    d3 = Matrix(p[2])\n",
    "    v1 = Matrix(p[:,:,0])\n",
    "    v2 = Matrix(p[:,:,1])\n",
    "    v3 = Matrix(p[:,:,2])\n",
    "    h1 = Matrix(p[:,0])\n",
    "    h2 = Matrix(p[:,1])\n",
    "    h3 = Matrix(p[:,2])\n",
    "    zero = Matrix([[0, 0, 0], [0, 0, 0], [0, 0, 0]])\n",
    "    #d1a = d1.adjugate()\n",
    "    d2a = d2.adjugate()\n",
    "    #d3a = d3.adjugate()\n",
    "    #v1a = v1.adjugate()\n",
    "    #v2a = v2.adjugate()\n",
    "    #v3a = v3.adjugate()\n",
    "    #h1a = h1.adjugate()\n",
    "    #h2a = h2.adjugate()\n",
    "    #h3a = h3.adjugate()\n",
    "    a1 = d1 * d2a * d3 - d3* d2a * d1\n",
    "    #a2 = d2 * d3a * d1 - d1* d3a * d2\n",
    "    #a3 = d3 * d1a * d2 - d2* d1a * d3\n",
    "    #b1 = v1 * v2a * v3 - v3* v2a * v1 \n",
    "    #b2 = v2 * v3a * v1 - v1* v3a * v2 \n",
    "    #b3 = v3 * v1a * v2 - v2* v1a * v3 \n",
    "    #c1 = h1 * h2a * h3 - h3* h2a * h1\n",
    "    #c2 = h2 * h3a * h1 - h1* h3a * h2 \n",
    "    #c3 = h3 * h1a * h2 - h2* h1a * h3 \n",
    "    #print(a1,a2,a3)\n",
    "    #print(a,b,c)\n",
    "    #a = check(a1) and check(a2) and check(a3)\n",
    "    #b = check(b1) and check(b2) and check(b3)\n",
    "    #c = check(c1) and check(c2) and check(c3)\n",
    "    return check(a1)\n",
    "    \n",
    "def check(a):\n",
    "    return max(abs(a)) < 5\n"
   ]
  },
  {
   "cell_type": "code",
   "execution_count": null,
   "id": "520c8c69-8caf-4802-b9b6-42c9c42dc507",
   "metadata": {},
   "outputs": [],
   "source": [
    "wrong = []"
   ]
  },
  {
   "cell_type": "code",
   "execution_count": 22,
   "id": "27965e4e-46de-48bb-a8ad-1de102dae3f3",
   "metadata": {},
   "outputs": [
    {
     "name": "stdout",
     "output_type": "stream",
     "text": [
      "[[[ 8464. 11008.  7824.]\n",
      "  [14973. 13101. 12702.]\n",
      "  [19205. 18605. 16614.]]\n",
      "\n",
      " [[20074. 25890. 17454.]\n",
      "  [23667. 22521. 17680.]\n",
      "  [33704. 35466. 26407.]]\n",
      "\n",
      " [[16954. 20622. 15542.]\n",
      "  [26199. 23718. 22799.]\n",
      "  [34676. 34029. 30570.]]] 45\n",
      "False\n",
      "[[[15126. 12576. 28395.]\n",
      "  [18448. 17040. 30385.]\n",
      "  [16787. 14808. 29390.]]\n",
      "\n",
      " [[ 9620.  9090. 15738.]\n",
      "  [12252. 12438. 17582.]\n",
      "  [10936. 10764. 16660.]]\n",
      "\n",
      " [[ 5820.  5478. 12762.]\n",
      "  [ 9362. 10494. 15414.]\n",
      "  [ 7591.  7986. 14088.]]] 91\n",
      "False\n",
      "{True: 5, False: 999995}\n"
     ]
    }
   ],
   "source": [
    "res = {True:0, False:0}\n",
    "\n",
    "for i in range(1000000):\n",
    "    t1 = low_tensor()\n",
    "    t2 = low_tensor()\n",
    "    t3 = low_tensor()\n",
    "    t4 = low_tensor()\n",
    "    v = np.random.randint(0,100)\n",
    "    t = t1[0] + t2[0] + t3[0] + t4[0]\n",
    "    if v%2 == 0:\n",
    "        t = np.random.randint(0,100000,size = (3,3,3))\n",
    "    key = check_req(t)\n",
    "    res[key] = res[key] + 1\n",
    "    if key and not check_rank(t,3, tol = 0.01):\n",
    "        print(t,v)\n",
    "        wrong.append((t,t1,t2,t3,t4,v))\n",
    "        print(check_rank(t,3))\n",
    "print(res)"
   ]
  },
  {
   "cell_type": "code",
   "execution_count": 23,
   "id": "8dfe760a-d6fa-4ef0-9cf8-ec24682e19d8",
   "metadata": {},
   "outputs": [
    {
     "name": "stdout",
     "output_type": "stream",
     "text": [
      "[(array([[[ 8464., 11008.,  7824.],\n",
      "        [14973., 13101., 12702.],\n",
      "        [19205., 18605., 16614.]],\n",
      "\n",
      "       [[20074., 25890., 17454.],\n",
      "        [23667., 22521., 17680.],\n",
      "        [33704., 35466., 26407.]],\n",
      "\n",
      "       [[16954., 20622., 15542.],\n",
      "        [26199., 23718., 22799.],\n",
      "        [34676., 34029., 30570.]]]), (array([[[ 3024.,  2800.,  2240.],\n",
      "        [ 2835.,  2625.,  2100.],\n",
      "        [ 4347.,  4025.,  3220.]],\n",
      "\n",
      "       [[11664., 10800.,  8640.],\n",
      "        [10935., 10125.,  8100.],\n",
      "        [16767., 15525., 12420.]],\n",
      "\n",
      "       [[10368.,  9600.,  7680.],\n",
      "        [ 9720.,  9000.,  7200.],\n",
      "        [14904., 13800., 11040.]]]), array([ 7, 27, 24]), array([16, 15, 23]), array([27, 25, 20])), (array([[[2520., 1008.,  168.],\n",
      "        [2880., 1152.,  192.],\n",
      "        [4140., 1656.,  276.]],\n",
      "\n",
      "       [[5250., 2100.,  350.],\n",
      "        [6000., 2400.,  400.],\n",
      "        [8625., 3450.,  575.]],\n",
      "\n",
      "       [[2310.,  924.,  154.],\n",
      "        [2640., 1056.,  176.],\n",
      "        [3795., 1518.,  253.]]]), array([12, 25, 11]), array([14, 16, 23]), array([15,  6,  1])), (array([[[ 2088.,  1584.,  2088.],\n",
      "        [ 8874.,  6732.,  8874.],\n",
      "        [ 9918.,  7524.,  9918.]],\n",
      "\n",
      "       [[ 1392.,  1056.,  1392.],\n",
      "        [ 5916.,  4488.,  5916.],\n",
      "        [ 6612.,  5016.,  6612.]],\n",
      "\n",
      "       [[ 3132.,  2376.,  3132.],\n",
      "        [13311., 10098., 13311.],\n",
      "        [14877., 11286., 14877.]]]), array([18, 12, 27]), array([ 4, 17, 19]), array([29, 22, 29])), (array([[[  832.,  5616.,  3328.],\n",
      "        [  384.,  2592.,  1536.],\n",
      "        [  800.,  5400.,  3200.]],\n",
      "\n",
      "       [[ 1768., 11934.,  7072.],\n",
      "        [  816.,  5508.,  3264.],\n",
      "        [ 1700., 11475.,  6800.]],\n",
      "\n",
      "       [[ 1144.,  7722.,  4576.],\n",
      "        [  528.,  3564.,  2112.],\n",
      "        [ 1100.,  7425.,  4400.]]]), array([ 8, 17, 11]), array([26, 12, 25]), array([ 4, 27, 16])), 45), (array([[[15126., 12576., 28395.],\n",
      "        [18448., 17040., 30385.],\n",
      "        [16787., 14808., 29390.]],\n",
      "\n",
      "       [[ 9620.,  9090., 15738.],\n",
      "        [12252., 12438., 17582.],\n",
      "        [10936., 10764., 16660.]],\n",
      "\n",
      "       [[ 5820.,  5478., 12762.],\n",
      "        [ 9362., 10494., 15414.],\n",
      "        [ 7591.,  7986., 14088.]]]), (array([[[3078., 1539., 9747.],\n",
      "        [2850., 1425., 9025.],\n",
      "        [2964., 1482., 9386.]],\n",
      "\n",
      "       [[ 324.,  162., 1026.],\n",
      "        [ 300.,  150.,  950.],\n",
      "        [ 312.,  156.,  988.]],\n",
      "\n",
      "       [[2916., 1458., 9234.],\n",
      "        [2700., 1350., 8550.],\n",
      "        [2808., 1404., 8892.]]]), array([19,  2, 18]), array([27, 25, 26]), array([ 6,  3, 19])), (array([[[1224., 3213., 3672.],\n",
      "        [ 952., 2499., 2856.],\n",
      "        [1088., 2856., 3264.]],\n",
      "\n",
      "       [[1152., 3024., 3456.],\n",
      "        [ 896., 2352., 2688.],\n",
      "        [1024., 2688., 3072.]],\n",
      "\n",
      "       [[ 288.,  756.,  864.],\n",
      "        [ 224.,  588.,  672.],\n",
      "        [ 256.,  672.,  768.]]]), array([17, 16,  4]), array([9, 7, 8]), array([ 8, 21, 24])), (array([[[2184., 3024., 2016.],\n",
      "        [6006., 8316., 5544.],\n",
      "        [4095., 5670., 3780.]],\n",
      "\n",
      "       [[1664., 2304., 1536.],\n",
      "        [4576., 6336., 4224.],\n",
      "        [3120., 4320., 2880.]],\n",
      "\n",
      "       [[2184., 3024., 2016.],\n",
      "        [6006., 8316., 5544.],\n",
      "        [4095., 5670., 3780.]]]), array([21, 16, 21]), array([ 8, 22, 15]), array([13, 18, 12])), (array([[[ 8640.,  4800., 12960.],\n",
      "        [ 8640.,  4800., 12960.],\n",
      "        [ 8640.,  4800., 12960.]],\n",
      "\n",
      "       [[ 6480.,  3600.,  9720.],\n",
      "        [ 6480.,  3600.,  9720.],\n",
      "        [ 6480.,  3600.,  9720.]],\n",
      "\n",
      "       [[  432.,   240.,   648.],\n",
      "        [  432.,   240.,   648.],\n",
      "        [  432.,   240.,   648.]]]), array([20, 15,  1]), array([24, 24, 24]), array([18, 10, 27])), 91)]\n"
     ]
    }
   ],
   "source": [
    "print(wrong)"
   ]
  },
  {
   "cell_type": "code",
   "execution_count": 178,
   "id": "118f0e27-88bb-4780-a2a6-74ca6a5e543b",
   "metadata": {},
   "outputs": [
    {
     "name": "stdout",
     "output_type": "stream",
     "text": [
      "{True: 9980, False: 20}\n"
     ]
    }
   ],
   "source": [
    "result = {True:0, False:0}\n",
    "for i in range(10000):\n",
    "    t = low_tensor()[0] + low_tensor()[0] + low_tensor()[0]\n",
    "    key = min_det(t)\n",
    "    result[key] = result[key] + 1\n",
    "print(result)"
   ]
  },
  {
   "cell_type": "code",
   "execution_count": 174,
   "id": "a21ca10a-5e0f-4e8a-aa6c-e71722a548bb",
   "metadata": {},
   "outputs": [
    {
     "data": {
      "text/latex": [
       "$\\displaystyle \\text{False}$"
      ],
      "text/plain": [
       "False"
      ]
     },
     "execution_count": 174,
     "metadata": {},
     "output_type": "execute_result"
    }
   ],
   "source": [
    "t= wrong[1][0]\n",
    "min_det(t)"
   ]
  },
  {
   "cell_type": "code",
   "execution_count": 157,
   "id": "1dd9670d-c826-4453-82dc-b319fc5620bc",
   "metadata": {},
   "outputs": [],
   "source": [
    "def min_det(t):\n",
    "    #t = tl.tensor(low_tensor()[0] + low_tensor()[0] + low_tensor()[0] + low_tensor()[0])\n",
    "    P1s = Matrix(t[:,0] + t[:,1] + t[:,2]).transpose()\n",
    "    P2s = Matrix(t[:,:,0] + t[:,:,1] + t[:,:,2]).transpose()\n",
    "    P3s = Matrix(t[0] + t[1] + t[2]).transpose()\n",
    "    P1a = P1s.adjugate()\n",
    "    dP1s = det(P1s)\n",
    "    A1 = P2s * P1a * t[0].transpose() * dP1s\n",
    "    A2 = P2s * P1a  * t[1].transpose() * dP1s\n",
    "    A3 = P2s * P1a * t[2].transpose() * dP1s\n",
    "    a = check_prin(Matrix(A1)) and check_prin(Matrix(A2)) and check_prin(Matrix(A3))\n",
    "    B1 = t[:,:,0].transpose() * P1a * P3s * dP1s\n",
    "    B2 = t[:,:,1].transpose() * P1a * P3s * dP1s\n",
    "    B3 = t[:,:,2].transpose() * P1a * P3s * dP1s\n",
    "    b = check_prin(B1) and check_prin(B2) and check_prin(B3)\n",
    "    C1 = t[:,0].transpose() * P2s.adjugate() * P3s.transpose() * det(P2s)\n",
    "    C2 = t[:,1].transpose() * P2s.adjugate() * P3s.transpose() * det(P2s)\n",
    "    C3 = t[:,2].transpose() * P2s.adjugate() * P3s.transpose() * det(P2s)\n",
    "    c = check_prin(C1) and check_prin(C2) and check_prin(C3)\n",
    "    return a and b and c\n",
    "\n"
   ]
  },
  {
   "cell_type": "code",
   "execution_count": 171,
   "id": "9b27810e-552b-4331-b309-d96a3883e1de",
   "metadata": {},
   "outputs": [],
   "source": [
    "def check_prin(A):\n",
    "    a1 = A[0,0] > 0\n",
    "    a2 = A.minor(2,2) > 0\n",
    "    A = A/1e+20\n",
    "    a3 = det(A) > 0\n",
    "    #print(A[0,0], A.minor(2,2), det(A))\n",
    "    return a1 and a2 and a3"
   ]
  },
  {
   "cell_type": "code",
   "execution_count": 120,
   "id": "4f49589d-2822-455a-abbd-c66a7559e671",
   "metadata": {},
   "outputs": [
    {
     "data": {
      "text/latex": [
       "$\\displaystyle 1.3855102892987 \\cdot 10^{32}$"
      ],
      "text/plain": [
       "1.38551028929870e+32"
      ]
     },
     "execution_count": 120,
     "metadata": {},
     "output_type": "execute_result"
    }
   ],
   "source": [
    "K1 = A1/1e+15\n",
    "K1s = P1s\n",
    "K2s = P2s\n",
    "K3s = P3s\n",
    "B1 = K2s * P1s.adjugate() * t[0].transpose() * det(P1s)\n",
    "det(K1)"
   ]
  },
  {
   "cell_type": "code",
   "execution_count": 121,
   "id": "82517f38-58e9-4f68-bc71-dab0b4400fd5",
   "metadata": {},
   "outputs": [
    {
     "data": {
      "text/latex": [
       "$\\displaystyle 1.38551028929868 \\cdot 10^{32}$"
      ],
      "text/plain": [
       "1.38551028929868e+32"
      ]
     },
     "execution_count": 121,
     "metadata": {},
     "output_type": "execute_result"
    }
   ],
   "source": [
    "det(A1)/(1e+15)**3"
   ]
  },
  {
   "cell_type": "code",
   "execution_count": null,
   "id": "8348ef23-d7c3-45a2-b781-c5834232b8b0",
   "metadata": {},
   "outputs": [],
   "source": []
  }
 ],
 "metadata": {
  "kernelspec": {
   "display_name": "Python 3",
   "language": "python",
   "name": "python3"
  },
  "language_info": {
   "codemirror_mode": {
    "name": "ipython",
    "version": 3
   },
   "file_extension": ".py",
   "mimetype": "text/x-python",
   "name": "python",
   "nbconvert_exporter": "python",
   "pygments_lexer": "ipython3",
   "version": "3.9.5"
  }
 },
 "nbformat": 4,
 "nbformat_minor": 5
}
