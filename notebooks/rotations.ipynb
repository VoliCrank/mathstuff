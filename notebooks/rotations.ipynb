{
 "cells": [
  {
   "cell_type": "code",
   "execution_count": 1,
   "id": "intimate-chaos",
   "metadata": {},
   "outputs": [],
   "source": [
    "import tensorly as tl\n",
    "import numpy as np\n",
    "from numpy import linalg as la\n",
    "from sympy import *\n",
    "from sympy import Matrix, symbols, solve_linear_system\n",
    "from sympy.solvers.solveset import linsolve\n",
    "import time\n",
    "from joblib import Parallel, delayed\n",
    "x,y,z_1,z_2,z_3 = symbols('x y z_1 z_2 z_3')\n",
    "x,y,z1,z2,z3 ,b= symbols(\"x,y,z1,z2,z3,b\")\n",
    "p_112, p_102, p_002, p_012 = symbols('p_112 p_102 p_002 p_012')\n",
    "p_000, p_001, p_100, p_101, p_200, p_201, p_010, p_011, p_020, p_021, p_110, p_111, p_210, p_211, p_120, p_121, p_220, p_221 = symbols('p_000 p_001 p_100 p_101 p_200 p_201 p_010 p_011 p_020 p_021 p_110 p_111 p_210 p_211 p_120 p_121 p_220 p_221')"
   ]
  },
  {
   "cell_type": "code",
   "execution_count": 2,
   "id": "27f9f040-b028-40d9-a4cf-d06e5e5fe2dd",
   "metadata": {},
   "outputs": [],
   "source": [
    "from tensorly.decomposition import parafac\n",
    "from tensorly.decomposition import non_negative_parafac_hals\n",
    "\n",
    "def check_rank(tensor, rank, non_neg=True, n=10, tol=0.001, p=False):\n",
    "    if non_neg:\n",
    "        for k in range(n):\n",
    "            weights, factors = non_negative_parafac_hals(tensor, n_iter_max=1000000, rank=rank, init='random')\n",
    "            full = tl.cp_to_tensor((weights, factors))\n",
    "            diff = (full - tensor) / tensor\n",
    "            if p:\n",
    "                # print(full)\n",
    "                print(tl.max(abs(diff)))\n",
    "            if tl.max(abs(diff)) < tol:\n",
    "                return True\n",
    "    else:\n",
    "        for k in range(n):\n",
    "            weights, factors = parafac(tensor, n_iter_max=1000000, rank=rank)\n",
    "            full = tl.cp_to_tensor((weights, factors))\n",
    "            diff = (full - tensor) / tensor\n",
    "            if p:\n",
    "                print(tl.max(abs(diff)))\n",
    "            if tl.max(abs(diff)) < tol:\n",
    "                return True\n",
    "    return False"
   ]
  },
  {
   "cell_type": "code",
   "execution_count": 3,
   "id": "infrared-place",
   "metadata": {},
   "outputs": [],
   "source": [
    "#generates random rank 3 tensors\n",
    "def rank_tree():\n",
    "    return (low_tensor() + low_tensor() + low_tensor()) \n",
    "\n",
    "# random tensor of some dim\n",
    "def rand_tensor():\n",
    "    return tl.tensor(np.random.randint(1, 100000, size=(3,2,2)))*1.0\n",
    "\n",
    "# generates rank 1 tensors\n",
    "def low_tensor():\n",
    "    max = 300\n",
    "    a = np.random.randint(1, max, size=3) \n",
    "    b = np.random.randint(1, max, size=2)\n",
    "    c = np.random.randint(1, max, size=2)\n",
    "    tens = tl.tensor(np.kron(np.kron(a, b), c).reshape(3, 2, 2)) * 1.0\n",
    "    return tens\n",
    "\n",
    "# checks if all subtensors have nonneg rank 3\n",
    "def check(t):\n",
    "    t1 = tl.tensor([t[0], t[1]])\n",
    "    t2 = tl.tensor([t[1], t[2]])\n",
    "    t3 = tl.tensor([t[0], t[2]])\n",
    "    a1 = det(Matrix(t1[0]))\n",
    "    a2 = det(Matrix(t1[1]))\n",
    "    a3 = det(Matrix(t2[0]))\n",
    "    a4 = det(Matrix(t2[1]))\n",
    "    b1 = det(Matrix(t1[:,0]))\n",
    "    b2 = det(Matrix(t1[:,1]))\n",
    "    b3 = det(Matrix(t2[:,0]))\n",
    "    b4 = det(Matrix(t2[:,1]))\n",
    "    c1 = det(Matrix(t1[:,:,0]))\n",
    "    c2 = det(Matrix(t1[:,:,1]))\n",
    "    c3 = det(Matrix(t2[:,:,0]))\n",
    "    c4 = det(Matrix(t2[:,:,1]))\n",
    "\n",
    "    a5 = det(Matrix(t3[0]))\n",
    "    a6 = det(Matrix(t3[1]))\n",
    "\n",
    "    b5 = det(Matrix(t3[:,0]))\n",
    "    b6 = det(Matrix(t3[:,1]))\n",
    "\n",
    "    c5 = det(Matrix(t3[:,:,0]))\n",
    "    c6 = det(Matrix(t3[:,:,1]))\n",
    "    return sgn([a1, a2,a3,a4,a5,a6]) or sgn([b1,b2,b3,b4,b5,b6]) or sgn([c1,c2,c3,c4,c5,c6])\n",
    "\n",
    "# determines sign of a list\n",
    "def sgn(a):\n",
    "    t = 0\n",
    "    ab = 0\n",
    "    for a_i in a:\n",
    "        t+= abs(a_i)\n",
    "        ab += a_i\n",
    "    return t == abs(ab)\n",
    "\n",
    "\n",
    "# checks if the give 2x2x2 tensor has nonneg rank 3\n",
    "def check_r3(t):\n",
    "    a1 = det(Matrix(t[0]))\n",
    "    a2 = det(Matrix(t[1]))\n",
    "    b1 = det(Matrix(t[:,0]))\n",
    "    b2 = det(Matrix(t[:,1]))\n",
    "    c1 = det(Matrix(t[:,:,0]))\n",
    "    c2 = det(Matrix(t[:,:,1]))\n",
    "    return sgn([a1,a2]) or sgn([b1,b2]) or sgn([c1,c2])\n",
    "\n",
    "# checks if given 2x2x2 has nonneg rank 2\n",
    "def check_r2(t):\n",
    "    a1 = det(Matrix(t[0]))\n",
    "    a2 = det(Matrix(t[1]))\n",
    "    b1 = det(Matrix(t[:,0]))\n",
    "    b2 = det(Matrix(t[:,1]))\n",
    "    c1 = det(Matrix(t[:,:,0]))\n",
    "    c2 = det(Matrix(t[:,:,1]))\n",
    "    d1 = ineq(a1,a2,b1,b2,c1,c2,ge,ge,ge)\n",
    "    d2 = ineq(a1,a2,b1,b2,c1,c2,le,le,ge)\n",
    "    d3 = ineq(a1,a2,b1,b2,c1,c2,le,ge,le)\n",
    "    d4 = ineq(a1,a2,b1,b2,c1,c2,ge,le,le)\n",
    "    supermod = d1 or d2 or d3 or d4\n",
    "    return supermod\n",
    "\n",
    "\n",
    "# helpers\n",
    "def ineq(a1,a2,b1,b2,c1,c2,f1,f2,f3):\n",
    "    t1 = f1(a1,0) and f1(a2,0)\n",
    "    t2 = f2(b1,0) and f2(b2,0)\n",
    "    t3 = f3(c1,0) and f3(c2,0)\n",
    "    return t1 and t2 and t3\n",
    "    \n",
    "def ge(a1,a2):\n",
    "    return a1 >= a2\n",
    "\n",
    "def le(a1,a2):\n",
    "    return a1 <= a2\n",
    "\n",
    "# Checks if 2x2x3 contains a 2x2x2 with nonneg 4\n",
    "def check_r4(t):\n",
    "    a1 = not check_r3(tl.tensor([t[0],t[1]]))\n",
    "    a2 = not check_r3(tl.tensor([t[0],t[2]]))\n",
    "    a3 = not check_r3(tl.tensor([t[1],t[2]]))\n",
    "    return a1 or a2 or a3 "
   ]
  },
  {
   "cell_type": "code",
   "execution_count": 13,
   "id": "muslim-collector",
   "metadata": {},
   "outputs": [],
   "source": [
    "def mat_inv(t):\n",
    "    tens = t.copy()\n",
    "    M_1 = Matrix([Matrix(tens[0][1]).transpose(),Matrix(tens[0][0]).transpose()])\n",
    "    M_2 = Matrix([Matrix(tens[1][1]).transpose(),Matrix(tens[1][0]).transpose()])\n",
    "    M_3 = Matrix([Matrix(tens[2][1]).transpose(),Matrix(tens[2][0]).transpose()])\n",
    "    tens[0] = M_1\n",
    "    tens[1] = M_2\n",
    "    tens[2] = M_3\n",
    "    return tens\n",
    "\n",
    "def mat_trans(t):\n",
    "    tens = t.copy()\n",
    "    tens[0] = tens[0].transpose()\n",
    "    tens[1] = tens[1].transpose()\n",
    "    tens[2] = tens[2].transpose()\n",
    "    return tens\n",
    "\n",
    "def rotate(t):\n",
    "    return mat_inv(mat_trans(t))\n",
    "\n",
    "\n",
    "def proc_tensor(t):\n",
    "    tens = t.copy()\n",
    "    M_b = Matrix([[Matrix(tens[:,0,0]), Matrix(tens[:,0,1]), Matrix(tens[:,1,1])]]).transpose()\n",
    "    M_a = Matrix([[Matrix(tens[:,0,0]), Matrix(tens[:,0,1]), Matrix(tens[:,1,0])]]).transpose()\n",
    "    if abs(M_a.det()) < 10:\n",
    "        print(\"warning det too small\")\n",
    "    a = 1\n",
    "    b = M_b.det() / M_a.det()\n",
    "    M = Matrix([[tens[0][0][0],0,a,0,0],[0,tens[0][0][1],b,0,0],\n",
    "                [tens[1][0][0],0,0,a,0],[0,tens[1][0][1],0,b,0],\n",
    "                [tens[2][0][0],0,0,0,a],[0,tens[2][0][1],0,0,b]])\n",
    "    R = Matrix([Matrix(tens[0,1]),Matrix(tens[1,1]),Matrix(tens[2,1])])\n",
    "    M_sub = Matrix(M[0:5,0:5])\n",
    "    #sol = np.array(np.array(M_sub.inv(), dtype = \"float\") @ np.array(Matrix(R[0:5]), dtype = \"float\"), dtype = \"float\")\n",
    "    sol = la.solve(np.array(M.T@M,dtype = \"float\"), np.array(M.T@R, dtype = \"float\"))\n",
    "    return np.append(np.array([b], dtype = \"float\"),sol)\n",
    "\n",
    "\n",
    "def test(tens):\n",
    "    ret = [0] *11\n",
    "    c1 = proc_tensor(tens)\n",
    "    if np.all(c1>=0):\n",
    "        ret[1] = 1\n",
    "    c2 = proc_tensor(mat_trans(tens))\n",
    "    if np.all(c2>=0):\n",
    "        ret[2] = 1\n",
    "    c3 = proc_tensor(mat_inv(tens))\n",
    "    if np.all(c3>=0):\n",
    "        ret[3] = 1\n",
    "    c4 = proc_tensor(rotate(tens))\n",
    "    if np.all(c4>=0):\n",
    "        ret[4] = 1\n",
    "    c5 = proc_tensor(mat_trans(mat_inv(tens)))\n",
    "    if np.all(c5>=0):\n",
    "        ret[5] = 1\n",
    "    total = sum(ret)\n",
    "    if total >= 1:\n",
    "        ret[0] = 1\n",
    "    ret[6+total] = 1\n",
    "    r4 = check_r4(tens)\n",
    "    if r4:\n",
    "        ret[6] = 1\n",
    "    else:\n",
    "        ret[6] = 0\n",
    "    return ret\n",
    "\n",
    "# happens w.p 0 so probably pointless to try\n",
    "# also probably implied by the larger guess\n",
    "def proc_small(tens):\n",
    "    M = Matrix([[Matrix(tens[:,0,0]), Matrix(tens[:,1,1]),Matrix(tens[:,0,1])]])\n",
    "    M1 = Matrix([[Matrix(tens[:,0,0]), Matrix(tens[:,1,1]),Matrix(tens[:,1,0])]])\n",
    "    M2 = Matrix([[Matrix(tens[:,0,0]), Matrix(tens[:,1,0]),Matrix(tens[:,0,1])]])\n",
    "    M3 = Matrix([[Matrix(tens[:,1,1]), Matrix(tens[:,1,0]),Matrix(tens[:,0,1])]])\n",
    "    return solve_mat(M) or solve_mat(M1) or solve_mat(M2) or solve_mat(M3)\n",
    "\n",
    "def solve_mat(M):\n",
    "    if abs(det(M))> 100:\n",
    "        return False\n",
    "    M1 = M[:,0:2]\n",
    "    R = M[:,2]\n",
    "    sol = la.solve(np.array(M1.T@M1,dtype = \"float\"),np.array(M1.T@R, dtype = \"float\"))\n",
    "    return np.all(sol >=0)\n",
    "    "
   ]
  },
  {
   "cell_type": "code",
   "execution_count": 5,
   "id": "5d42bd52-47a5-46da-a342-ba5bdbc4903a",
   "metadata": {},
   "outputs": [],
   "source": [
    "def loop_rotations(i):\n",
    "    tens = rand_tensor()\n",
    "    tens = rank_tree()\n",
    "    ret = [0] *11\n",
    "    c1 = proc_tensor(tens)\n",
    "    if np.all(c1>=0):\n",
    "        ret[1] = 1\n",
    "    c2 = proc_tensor(mat_trans(tens))\n",
    "    if np.all(c2>=0):\n",
    "        ret[2] = 1\n",
    "    c3 = proc_tensor(mat_inv(tens))\n",
    "    if np.all(c3>=0):\n",
    "        ret[3] = 1\n",
    "    c4 = proc_tensor(rotate(tens))\n",
    "    if np.all(c4>=0):\n",
    "        ret[4] = 1\n",
    "    c5 = proc_small(tens)\n",
    "    if c5:\n",
    "        ret[5] = 1\n",
    "    total = sum(ret)\n",
    "    if total >= 1:\n",
    "        ret[0] = 1\n",
    "    #ret[6+total] = 1\n",
    "    r4 = check_r4(tens)\n",
    "    if r4:\n",
    "        ret[6] = 1\n",
    "    else:\n",
    "        ret[6] = 0\n",
    "    return ret"
   ]
  },
  {
   "cell_type": "code",
   "execution_count": 114,
   "id": "under-custom",
   "metadata": {},
   "outputs": [
    {
     "name": "stdout",
     "output_type": "stream",
     "text": [
      "[772, 359, 327, 300, 326, 0, 0, 0, 0, 0, 0]\n",
      "3.8584988117218018\n"
     ]
    }
   ],
   "source": [
    "te = time.time()\n",
    "total = 1000\n",
    "results = Parallel(n_jobs=6)(delayed(loop_rotations)(i) for i in range(total))\n",
    "res = [sum(x) for x in zip(*results)]\n",
    "print(res)\n",
    "print(time.time() - te)"
   ]
  },
  {
   "cell_type": "code",
   "execution_count": 7,
   "id": "random-shepherd",
   "metadata": {},
   "outputs": [
    {
     "data": {
      "text/plain": [
       "array([[ 1.11433914e+01],\n",
       "       [ 1.25368265e+01],\n",
       "       [-1.83211490e+07],\n",
       "       [-2.00294909e+07],\n",
       "       [-1.72537657e+06]])"
      ]
     },
     "execution_count": 7,
     "metadata": {},
     "output_type": "execute_result"
    }
   ],
   "source": [
    "tens = rank_tree()\n",
    "#tens = tl.tensor(np.random.randint(1, 100000, size=(3,2,2)))*1.0\n",
    "M_b = Matrix([[Matrix(tens[:,0,0]), Matrix(tens[:,0,1]), Matrix(tens[:,1,1])]]).transpose()\n",
    "M_a = Matrix([[Matrix(tens[:,0,0]), Matrix(tens[:,0,1]), Matrix(tens[:,1,0])]]).transpose()\n",
    "a = 1\n",
    "b = M_b.det() / M_a.det()\n",
    "M = Matrix([[tens[0][0][0],0,a,0,0],[0,tens[0][0][1],b,0,0],\n",
    "            [tens[1][0][0],0,0,a,0],[0,tens[1][0][1],0,b,0],\n",
    "            [tens[2][0][0],0,0,0,a],[0,tens[2][0][1],0,0,b]])\n",
    "R = Matrix([Matrix(tens[0,1]),Matrix(tens[1,1]),Matrix(tens[2,1])])\n",
    "M_sub = Matrix(M[0:5,0:5])\n",
    "sol = np.array((M_sub.adjugate() @ Matrix(R[0:5])) /M_sub.det(), dtype = \"float\")\n",
    "sol1 = la.solve(np.array(M.T @ M, dtype = \"float\"), np.array(M.T @ R, dtype = \"float\"))\n",
    "sol\n"
   ]
  },
  {
   "cell_type": "code",
   "execution_count": 16,
   "id": "buried-affect",
   "metadata": {},
   "outputs": [
    {
     "data": {
      "text/plain": [
       "array([ 2.10764179e+00,  1.25438573e+00,  1.22806933e+00, -3.02891638e+06,\n",
       "       -1.00037285e+07, -5.20657049e+06])"
      ]
     },
     "execution_count": 16,
     "metadata": {},
     "output_type": "execute_result"
    }
   ],
   "source": [
    "tens = rank_tree()\n",
    "proc_tensor(tens)"
   ]
  },
  {
   "cell_type": "code",
   "execution_count": 22,
   "id": "9a85f924-a9f5-40a6-a8b2-ae07c23fe514",
   "metadata": {},
   "outputs": [],
   "source": [
    "for i in range(1000):\n",
    "    tens = rank_tree()\n",
    "    proc_tensor(tens)\n",
    "    proc_tensor(mat_inv(tens))\n",
    "    proc_tensor(mat_trans(tens))\n",
    "    proc_tensor(rotate(tens))\n"
   ]
  },
  {
   "cell_type": "code",
   "execution_count": 12,
   "id": "a9dce63e-15ed-4dd6-a21b-f4cbf9ea37c2",
   "metadata": {},
   "outputs": [
    {
     "data": {
      "text/plain": [
       "array([[[71639., 57940.],\n",
       "        [82820., 77230.]],\n",
       "\n",
       "       [[59299., 85536.],\n",
       "        [62629., 50797.]],\n",
       "\n",
       "       [[56222.,  1604.],\n",
       "        [85405., 46788.]]])"
      ]
     },
     "execution_count": 12,
     "metadata": {},
     "output_type": "execute_result"
    }
   ],
   "source": [
    "t"
   ]
  },
  {
   "cell_type": "code",
   "execution_count": 14,
   "id": "60050924-ca12-40b9-81a0-1d8571fca788",
   "metadata": {},
   "outputs": [
    {
     "data": {
      "text/plain": [
       "array([-1.44926912e-01,  7.33860205e+00,  2.74634528e-01, -3.35925544e+05,\n",
       "       -4.29858967e+05, -6.28423882e+05])"
      ]
     },
     "execution_count": 14,
     "metadata": {},
     "output_type": "execute_result"
    }
   ],
   "source": [
    "sol = proc_tensor(tens)\n",
    "sol"
   ]
  },
  {
   "cell_type": "code",
   "execution_count": 69,
   "id": "3a965a34-16bc-4f4e-8647-64d84cb33f08",
   "metadata": {},
   "outputs": [
    {
     "name": "stdout",
     "output_type": "stream",
     "text": [
      "1.8189894035458565e-12\n"
     ]
    }
   ],
   "source": [
    "sol = proc_tensor(tens)\n",
    "b = sol[0]\n",
    "x = sol[1]\n",
    "y = sol[2]\n",
    "z1 = sol[3]\n",
    "z2 = sol[4]\n",
    "z3 = sol[5]\n",
    "t = tens\n",
    "a1=t[0,0,0]*x + z1 - t[0,1,0]\n",
    "a2=t[0,0,1]*y + b*z1 - t[0,1,1]\n",
    "a3=t[1,0,0]*x + z2 - t[1,1,0]\n",
    "a4=t[1,0,1]*y + b*z2 - t[1,1,1]\n",
    "a5=t[2,0,0]*x + z3 - t[2,1,0]\n",
    "a6=t[2,0,1]*y + b*z3 - t[2,1,1]\n",
    "print(max(a1,a2,a3,a4,a5,a6))"
   ]
  },
  {
   "cell_type": "code",
   "execution_count": 39,
   "id": "5c6caff5-f0d2-46ee-a4a5-ce1c6b6867da",
   "metadata": {},
   "outputs": [
    {
     "data": {
      "text/plain": [
       "array([[[ 7477., 75400.],\n",
       "        [46794., 97276.]],\n",
       "\n",
       "       [[19990., 85580.],\n",
       "        [61299., 84774.]],\n",
       "\n",
       "       [[ 9807., 99704.],\n",
       "        [86969., 31418.]]])"
      ]
     },
     "execution_count": 39,
     "metadata": {},
     "output_type": "execute_result"
    }
   ],
   "source": [
    "mat_inv(tens)"
   ]
  },
  {
   "cell_type": "code",
   "execution_count": 40,
   "id": "0b4863ec-50bc-4546-a37e-a1e522d28c2e",
   "metadata": {},
   "outputs": [
    {
     "name": "stdout",
     "output_type": "stream",
     "text": [
      "1.4551915228366852e-10\n"
     ]
    }
   ],
   "source": [
    "sol = proc_tensor(mat_inv(tens))\n",
    "t = tens\n",
    "b = sol[0]\n",
    "x = sol[1]\n",
    "y = sol[2]\n",
    "z1 = sol[3]\n",
    "z2 = sol[4]\n",
    "z3 = sol[5]\n",
    "a1=t[0,1,0]*x + z1 - t[0,0,0]\n",
    "a2=t[0,1,1]*y + b*z1 - t[0,0,1]\n",
    "a3=t[1,1,0]*x + z2 - t[1,0,0]\n",
    "a4=t[1,1,1]*y + b*z2 - t[1,0,1]\n",
    "a5=t[2,1,0]*x + z3 - t[2,0,0]\n",
    "a6=t[2,1,1]*y + b*z3 - t[2,0,1]\n",
    "print(max(a1,a2,a3,a4,a5,a6))"
   ]
  },
  {
   "cell_type": "code",
   "execution_count": 45,
   "id": "9dbed131-5448-4719-8f3c-2b2cf78a5063",
   "metadata": {},
   "outputs": [
    {
     "name": "stdout",
     "output_type": "stream",
     "text": [
      "[0, 37, 40]\n"
     ]
    }
   ],
   "source": [
    "count = [0,0,0]\n",
    "for i in range(100):\n",
    "    tens = rank_tree()\n",
    "    c1 = np.all(proc_tensor(tens) >=0)\n",
    "    c2 = np.all(proc_tensor(mat_inv(tens))>=0)\n",
    "    if c1 and c2:\n",
    "        count[0] += 1\n",
    "    if c1:\n",
    "        count[1] += 1\n",
    "    if c2:\n",
    "        count[2] += 1\n",
    "print(count)"
   ]
  },
  {
   "cell_type": "code",
   "execution_count": 82,
   "id": "77d5dd7b-84ab-49f6-8fd8-06420ca6f8ac",
   "metadata": {},
   "outputs": [
    {
     "name": "stdout",
     "output_type": "stream",
     "text": [
      "7.275957614183426e-12\n"
     ]
    }
   ],
   "source": [
    "sol = proc_tensor(rotate(tens))\n",
    "b = sol[0]\n",
    "x = sol[1]\n",
    "y = sol[2]\n",
    "z1 = sol[3]\n",
    "z2 = sol[4]\n",
    "z3 = sol[5]\n",
    "t = tens\n",
    "a1=t[0,0,1]*x + z1 - t[0,0,0]\n",
    "a2=t[0,1,1]*y + b*z1 - t[0,1,0]\n",
    "a3=t[1,0,1]*x + z2 - t[1,0,0]\n",
    "a4=t[1,1,1]*y + b*z2 - t[1,1,0]\n",
    "a5=t[2,0,1]*x + z3 - t[2,0,0]\n",
    "a6=t[2,1,1]*y + b*z3 - t[2,1,0]\n",
    "print(max(a1,a2,a3,a4,a5,a6))"
   ]
  },
  {
   "cell_type": "code",
   "execution_count": 83,
   "id": "00f3e641-0414-48ed-9e57-401a0addf55f",
   "metadata": {},
   "outputs": [
    {
     "data": {
      "text/plain": [
       "array([[[15441., 12988.],\n",
       "        [ 7623.,  3708.]],\n",
       "\n",
       "       [[13023., 21032.],\n",
       "        [ 5337.,  6444.]],\n",
       "\n",
       "       [[ 5309., 12780.],\n",
       "        [ 1827.,  4176.]]])"
      ]
     },
     "execution_count": 83,
     "metadata": {},
     "output_type": "execute_result"
    }
   ],
   "source": [
    "tens"
   ]
  },
  {
   "cell_type": "code",
   "execution_count": 84,
   "id": "d1f59b25-82e9-468a-be40-1810107cf30e",
   "metadata": {},
   "outputs": [
    {
     "data": {
      "text/plain": [
       "array([3708., 6444., 4176.])"
      ]
     },
     "execution_count": 84,
     "metadata": {},
     "output_type": "execute_result"
    }
   ],
   "source": [
    "tens[:,1,1]"
   ]
  },
  {
   "cell_type": "code",
   "execution_count": 111,
   "id": "43c3563d-fd6f-4c22-bb04-a7325811eeee",
   "metadata": {},
   "outputs": [
    {
     "data": {
      "text/plain": [
       "array([[[z1 - 4917.64910788592, 0],\n",
       "        [-2.42325425351385*z1 - 6230.85827512589, 0]],\n",
       "\n",
       "       [[z2 - 3192.18718106464, 0],\n",
       "        [-2.42325425351385*z2 - 3411.14404111334, 0]],\n",
       "\n",
       "       [[z3 - 4296.51586080836, 0],\n",
       "        [-2.42325425351385*z3 - 4493.63023415741, 0]]], dtype=object)"
      ]
     },
     "execution_count": 111,
     "metadata": {},
     "output_type": "execute_result"
    }
   ],
   "source": [
    "a1 = np.array([1,0])\n",
    "a2 = np.array([x,1])\n",
    "a3 = np.array(tens[:,0,1])\n",
    "t1= np.kron(np.kron(a3,a1),a2).reshape(3,2,2)\n",
    "\n",
    "b1 = np.array([0,1])\n",
    "b2 = np.array([y,1])\n",
    "b3 = np.array(tens[:,1,1])\n",
    "t2 = np.kron(np.kron(b3,b1),b2).reshape(3,2,2)\n",
    "\n",
    "c1 = np.array([1,b])\n",
    "c2 = np.array([1,0])\n",
    "c3 = np.array([z1,z2,z3])\n",
    "t3 = np.kron(np.kron(c3,c1),c2).reshape(3,2,2)\n",
    "t3+t1+t2-tens"
   ]
  },
  {
   "cell_type": "code",
   "execution_count": 6,
   "id": "a0fc42d1-f8b4-47c9-8f12-b0820800317e",
   "metadata": {},
   "outputs": [
    {
     "ename": "NameError",
     "evalue": "name 'tens' is not defined",
     "output_type": "error",
     "traceback": [
      "\u001b[1;31m---------------------------------------------------------------------------\u001b[0m",
      "\u001b[1;31mNameError\u001b[0m                                 Traceback (most recent call last)",
      "\u001b[1;32m~\\AppData\\Local\\Temp/ipykernel_8860/548990099.py\u001b[0m in \u001b[0;36m<module>\u001b[1;34m\u001b[0m\n\u001b[1;32m----> 1\u001b[1;33m \u001b[0mproc_tensor\u001b[0m\u001b[1;33m(\u001b[0m\u001b[0mrotate\u001b[0m\u001b[1;33m(\u001b[0m\u001b[0mrotate\u001b[0m\u001b[1;33m(\u001b[0m\u001b[0mtens\u001b[0m\u001b[1;33m)\u001b[0m\u001b[1;33m)\u001b[0m\u001b[1;33m)\u001b[0m\u001b[1;33m\u001b[0m\u001b[1;33m\u001b[0m\u001b[0m\n\u001b[0m",
      "\u001b[1;31mNameError\u001b[0m: name 'tens' is not defined"
     ]
    }
   ],
   "source": [
    "proc_tensor(rotate(rotate(tens)))"
   ]
  },
  {
   "cell_type": "code",
   "execution_count": 90,
   "id": "af8bdd44-f249-4d4f-ac26-98b23e7eea6b",
   "metadata": {},
   "outputs": [
    {
     "data": {
      "text/plain": [
       "array([ 4.95783144e-01,  1.88814841e+00,  1.53788225e+00, -1.61668997e+04,\n",
       "       -3.55735681e+03,  2.75582006e+03])"
      ]
     },
     "execution_count": 90,
     "metadata": {},
     "output_type": "execute_result"
    }
   ],
   "source": [
    "proc_tensor(mat_trans(tens))"
   ]
  },
  {
   "cell_type": "code",
   "execution_count": 91,
   "id": "f228d455-ed59-4a11-8a22-67e64a7877f6",
   "metadata": {},
   "outputs": [
    {
     "data": {
      "text/plain": [
       "array([1.88814841e+00, 1.64283973e+00, 2.01701089e+00, 2.91763274e+03,\n",
       "       4.25516436e+03, 2.30753181e+03])"
      ]
     },
     "execution_count": 91,
     "metadata": {},
     "output_type": "execute_result"
    }
   ],
   "source": [
    "proc_tensor(mat_inv(tens))"
   ]
  },
  {
   "cell_type": "code",
   "execution_count": 92,
   "id": "91c561c9-74a1-4318-a4f1-24148a306518",
   "metadata": {},
   "outputs": [
    {
     "data": {
      "text/plain": [
       "array([[[ 3708.,  7623.],\n",
       "        [12988., 15441.]],\n",
       "\n",
       "       [[ 6444.,  5337.],\n",
       "        [21032., 13023.]],\n",
       "\n",
       "       [[ 4176.,  1827.],\n",
       "        [12780.,  5309.]]])"
      ]
     },
     "execution_count": 92,
     "metadata": {},
     "output_type": "execute_result"
    }
   ],
   "source": [
    "rotate(rotate(tens))"
   ]
  },
  {
   "cell_type": "code",
   "execution_count": 44,
   "id": "d1b23cac-d425-44e5-b3fa-20ed3c4c2098",
   "metadata": {},
   "outputs": [
    {
     "data": {
      "text/plain": [
       "array([[[36161., 80559.],\n",
       "        [84230., 61531.]],\n",
       "\n",
       "       [[ 5502., 47097.],\n",
       "        [31617., 36592.]],\n",
       "\n",
       "       [[94529., 38236.],\n",
       "        [52133., 45258.]]])"
      ]
     },
     "execution_count": 44,
     "metadata": {},
     "output_type": "execute_result"
    }
   ],
   "source": [
    "tens = rand_tensor()\n",
    "tens"
   ]
  },
  {
   "cell_type": "code",
   "execution_count": 50,
   "id": "813acaed-b0e0-437f-934a-eabe3cdfaff5",
   "metadata": {},
   "outputs": [
    {
     "data": {
      "text/latex": [
       "$\\displaystyle \\left[\\begin{matrix}36161.0 & 61531.0 & 84230.0\\\\5502.0 & 36592.0 & 31617.0\\\\94529.0 & 45258.0 & 52133.0\\end{matrix}\\right]$"
      ],
      "text/plain": [
       "Matrix([\n",
       "[36161.0, 61531.0, 84230.0],\n",
       "[ 5502.0, 36592.0, 31617.0],\n",
       "[94529.0, 45258.0, 52133.0]])"
      ]
     },
     "execution_count": 50,
     "metadata": {},
     "output_type": "execute_result"
    }
   ],
   "source": [
    "M = Matrix([[Matrix(tens[:,0,0]), Matrix(tens[:,1,1]),Matrix(tens[:,1,0])]])\n",
    "M"
   ]
  },
  {
   "cell_type": "code",
   "execution_count": 67,
   "id": "eff0cf8b-e128-4710-9768-567c72b4f2e6",
   "metadata": {},
   "outputs": [
    {
     "name": "stdout",
     "output_type": "stream",
     "text": [
      "11\n"
     ]
    }
   ],
   "source": [
    "counter = 0\n",
    "tensors = []\n",
    "for i in range(10000):\n",
    "    tens = rank_tree()\n",
    "    M = Matrix([[Matrix(tens[:,0,0]), Matrix(tens[:,1,1]),Matrix(tens[:,0,1])]])\n",
    "    M1 = Matrix([[Matrix(tens[:,0,0]), Matrix(tens[:,1,1]),Matrix(tens[:,1,0])]])\n",
    "    M2 = Matrix([[Matrix(tens[:,0,0]), Matrix(tens[:,1,0]),Matrix(tens[:,0,1])]])\n",
    "    M3 = Matrix([[Matrix(tens[:,1,1]), Matrix(tens[:,1,0]),Matrix(tens[:,0,1])]])\n",
    "    if abs(det(M)) < 10 or abs(det(M1))<10 or abs(det(M2))<10 or abs(det(M3))<10:\n",
    "        counter += 1\n",
    "        tensors.append(tens)\n",
    "print(counter)\n",
    "        "
   ]
  },
  {
   "cell_type": "code",
   "execution_count": 70,
   "id": "5e442236-2bcc-43a0-8706-b1c7b2f7bd9d",
   "metadata": {},
   "outputs": [
    {
     "data": {
      "text/plain": [
       "array([[[ 5140.,  5690.],\n",
       "        [11720., 12375.]],\n",
       "\n",
       "       [[ 3356.,  4192.],\n",
       "        [ 7472.,  9155.]],\n",
       "\n",
       "       [[ 4520.,  5719.],\n",
       "        [10036., 12495.]]])"
      ]
     },
     "execution_count": 70,
     "metadata": {},
     "output_type": "execute_result"
    }
   ],
   "source": [
    "tens = tensors[0]\n",
    "tens"
   ]
  },
  {
   "cell_type": "code",
   "execution_count": 88,
   "id": "dcf0e34d-24d9-4f39-bdd7-6d46abf06348",
   "metadata": {},
   "outputs": [
    {
     "data": {
      "text/latex": [
       "$\\displaystyle \\left[\\begin{matrix}5140.0 & 12375.0 & 5690.0\\\\3356.0 & 9155.0 & 4192.0\\\\4520.0 & 12495.0 & 5719.0\\end{matrix}\\right]$"
      ],
      "text/plain": [
       "Matrix([\n",
       "[5140.0, 12375.0, 5690.0],\n",
       "[3356.0,  9155.0, 4192.0],\n",
       "[4520.0, 12495.0, 5719.0]])"
      ]
     },
     "execution_count": 88,
     "metadata": {},
     "output_type": "execute_result"
    }
   ],
   "source": [
    "M = Matrix([[Matrix(tens[:,0,0]), Matrix(tens[:,1,1]),Matrix(tens[:,0,1])]])\n",
    "M"
   ]
  },
  {
   "cell_type": "code",
   "execution_count": 89,
   "id": "2c2ef900-4ba8-47e1-9b64-55e3428e85f2",
   "metadata": {},
   "outputs": [
    {
     "data": {
      "text/latex": [
       "$\\displaystyle \\left[\\begin{matrix}5690.0\\\\4192.0\\\\5719.0\\end{matrix}\\right]$"
      ],
      "text/plain": [
       "Matrix([\n",
       "[5690.0],\n",
       "[4192.0],\n",
       "[5719.0]])"
      ]
     },
     "execution_count": 89,
     "metadata": {},
     "output_type": "execute_result"
    }
   ],
   "source": [
    "M[:,2]"
   ]
  },
  {
   "cell_type": "code",
   "execution_count": 90,
   "id": "37849f90-974d-4884-b236-f24b7078ff5e",
   "metadata": {},
   "outputs": [
    {
     "data": {
      "text/plain": [
       "array([[0.03907749],\n",
       "       [0.44356701]])"
      ]
     },
     "execution_count": 90,
     "metadata": {},
     "output_type": "execute_result"
    }
   ],
   "source": [
    "M1 = M[:,0:2]\n",
    "R = M[:,2]\n",
    "sol = la.solve(np.array(M1.T@M1,dtype = \"float\"),np.array(M1.T@R, dtype = \"float\"))\n",
    "sol"
   ]
  },
  {
   "cell_type": "code",
   "execution_count": 79,
   "id": "581f2359-0c3d-4fcf-9bd4-ddd65fc3299d",
   "metadata": {},
   "outputs": [
    {
     "data": {
      "text/plain": [
       "array([[[ 0.00000000e+00,  1.00044417e-11],\n",
       "        [ 0.00000000e+00,  0.00000000e+00]],\n",
       "\n",
       "       [[ 0.00000000e+00, -4.54747351e-12],\n",
       "        [ 0.00000000e+00,  0.00000000e+00]],\n",
       "\n",
       "       [[ 0.00000000e+00, -7.27595761e-12],\n",
       "        [ 0.00000000e+00,  0.00000000e+00]]])"
      ]
     },
     "execution_count": 79,
     "metadata": {},
     "output_type": "execute_result"
    }
   ],
   "source": [
    "x = sol[0][0]\n",
    "y = sol[1][0]\n",
    "a1 = np.array([1,0])\n",
    "a2 = np.array([1,x])\n",
    "a3 = np.array(tens[:,0,0], dtype = \"float\")\n",
    "t1= np.kron(np.kron(a3,a1),a2).reshape(3,2,2)\n",
    "\n",
    "b1 = np.array([y,1])\n",
    "b2 = np.array([0,1])\n",
    "b3 = np.array(tens[:,1,1], dtype = \"float\")\n",
    "t2 = np.kron(np.kron(b3,b1),b2).reshape(3,2,2)\n",
    "\n",
    "c1 = np.array([0,1])\n",
    "c2 = np.array([1,0])\n",
    "c3 = np.array(tens[:,1,0], dtype = \"float\")\n",
    "t3 = np.kron(np.kron(c3,c1),c2).reshape(3,2,2)\n",
    "t3+t1+t2-tens"
   ]
  },
  {
   "cell_type": "code",
   "execution_count": 81,
   "id": "615639ef-dad2-4ae1-8b85-f501211080e6",
   "metadata": {},
   "outputs": [
    {
     "data": {
      "text/plain": [
       "True"
      ]
     },
     "execution_count": 81,
     "metadata": {},
     "output_type": "execute_result"
    }
   ],
   "source": [
    "np.all(sol>=0)"
   ]
  },
  {
   "cell_type": "code",
   "execution_count": null,
   "id": "e22a7ad3-dbf8-44cf-9949-a37d3f925720",
   "metadata": {},
   "outputs": [],
   "source": []
  }
 ],
 "metadata": {
  "kernelspec": {
   "display_name": "Python 3 (ipykernel)",
   "language": "python",
   "name": "python3"
  },
  "language_info": {
   "codemirror_mode": {
    "name": "ipython",
    "version": 3
   },
   "file_extension": ".py",
   "mimetype": "text/x-python",
   "name": "python",
   "nbconvert_exporter": "python",
   "pygments_lexer": "ipython3",
   "version": "3.9.5"
  }
 },
 "nbformat": 4,
 "nbformat_minor": 5
}
