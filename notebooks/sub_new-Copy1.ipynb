{
 "cells": [
  {
   "cell_type": "code",
   "execution_count": 21,
   "id": "specific-bible",
   "metadata": {},
   "outputs": [],
   "source": [
    "import tensorly as tl\n",
    "import numpy as np\n",
    "from numpy import linalg as la\n",
    "from sympy import *\n",
    "from sympy import Matrix, symbols, solve_linear_system\n",
    "from sympy.solvers.solveset import linsolve\n",
    "import time\n",
    "from joblib import Parallel, delayed\n",
    "a,b,b1 = symbols('a b b_1')\n",
    "x,y,z_1,z_2,z_3 = symbols('x y z_1 z_2 z_3')\n",
    "p_112, p_102, p_002, p_012 = symbols('p_112 p_102 p_002 p_012')\n",
    "p_000, p_001, p_100, p_101, p_200, p_201, p_010, p_011, p_020, p_021, p_110, p_111, p_210, p_211, p_120, p_121, p_220, p_221 = symbols('p_000 p_001 p_100 p_101 p_200 p_201 p_010 p_011 p_020 p_021 p_110 p_111 p_210 p_211 p_120 p_121 p_220 p_221')\n",
    "from IPython.display import display, Latex"
   ]
  },
  {
   "cell_type": "code",
   "execution_count": 2,
   "id": "determined-chair",
   "metadata": {},
   "outputs": [],
   "source": [
    "from tensorly.decomposition import parafac\n",
    "from tensorly.decomposition import non_negative_parafac_hals\n",
    "from tensorly.decomposition import non_negative_parafac\n",
    "\n",
    "def check_rank(tensor, rank, non_neg=True, n=10, tol=0.0001, p=False):\n",
    "    if non_neg:\n",
    "        for k in range(n):\n",
    "            weights, factors = non_negative_parafac_hals(tensor, n_iter_max=1000000, rank=rank, init='random')\n",
    "            full = tl.cp_to_tensor((weights, factors))\n",
    "            diff = (full - tensor) / tensor\n",
    "            if p:\n",
    "                # print('doing', k)\n",
    "                # print(full)\n",
    "                print(tl.max(abs(diff)))\n",
    "                print(factors)\n",
    "            if tl.max(abs(diff)) < tol:\n",
    "                return True\n",
    "    else:\n",
    "        for k in range(n):\n",
    "            weights, factors = parafac(tensor, n_iter_max=1000000, rank=rank)\n",
    "            full = tl.cp_to_tensor((weights, factors))\n",
    "            diff = (full - tensor) / tensor\n",
    "            if p:\n",
    "                print(tl.max(abs(diff)))\n",
    "                print(factors)\n",
    "            if tl.max(abs(diff)) < tol:\n",
    "                return True\n",
    "    return False\n"
   ]
  },
  {
   "cell_type": "code",
   "execution_count": 3,
   "id": "administrative-ultimate",
   "metadata": {},
   "outputs": [],
   "source": [
    "#generates random rank 3 tensors\n",
    "def rank_tree():\n",
    "    return (low_tensor() + low_tensor() + low_tensor()) \n",
    "\n",
    "#generates random rank 4+ (hopefully) tensors\n",
    "def rank_for():\n",
    "    return  (low_tensor() + low_tensor() + low_tensor() + low_tensor())\n",
    "\n",
    "\n",
    "# generates rank 1, 2x2x3 tensors\n",
    "def low_tensor():\n",
    "    max = 30\n",
    "    a = np.random.randint(1, max, size=3) \n",
    "    b = np.random.randint(1, max, size=2)\n",
    "    c = np.random.randint(1, max, size=2)\n",
    "    tens = tl.tensor(np.kron(np.kron(a, b), c).reshape(3, 2, 2)) * 1.0\n",
    "    return tens\n",
    "\n",
    "def low_tensor_spec():\n",
    "    max = 300\n",
    "    a = np.random.randint(1, max, size=2) * 0.1\n",
    "    b = np.random.randint(1, max, size=3)* 0.1\n",
    "    c = np.random.randint(1, max, size=3)* 0.1\n",
    "    tens = tl.tensor(np.kron(np.kron(a, b), c).reshape(3, 2, 2 )) * 1.0\n",
    "    return tens\n",
    "\n",
    "def check(t):\n",
    "    t1 = tl.tensor([t[0], t[1]])\n",
    "    t2 = tl.tensor([t[1], t[2]])\n",
    "    t3 = tl.tensor([t[0], t[2]])\n",
    "    a1 = det(Matrix(t1[0]))\n",
    "    a2 = det(Matrix(t1[1]))\n",
    "    a3 = det(Matrix(t2[0]))\n",
    "    a4 = det(Matrix(t2[1]))\n",
    "    b1 = det(Matrix(t1[:,0]))\n",
    "    b2 = det(Matrix(t1[:,1]))\n",
    "    b3 = det(Matrix(t2[:,0]))\n",
    "    b4 = det(Matrix(t2[:,1]))\n",
    "    c1 = det(Matrix(t1[:,:,0]))\n",
    "    c2 = det(Matrix(t1[:,:,1]))\n",
    "    c3 = det(Matrix(t2[:,:,0]))\n",
    "    c4 = det(Matrix(t2[:,:,1]))\n",
    "\n",
    "    a5 = det(Matrix(t3[0]))\n",
    "    a6 = det(Matrix(t3[1]))\n",
    "\n",
    "    b5 = det(Matrix(t3[:,0]))\n",
    "    b6 = det(Matrix(t3[:,1]))\n",
    "\n",
    "    c5 = det(Matrix(t3[:,:,0]))\n",
    "    c6 = det(Matrix(t3[:,:,1]))\n",
    "    return sgn([a1, a2,a3,a4,a5,a6]) or sgn([b1,b2,b3,b4,b5,b6]) or sgn([c1,c2,c3,c4,c5,c6])\n",
    "\n",
    "def sgn(a):\n",
    "    t = 0\n",
    "    ab = 0\n",
    "    for a_i in a:\n",
    "        t+= abs(a_i)\n",
    "        ab += a_i\n",
    "    return t == abs(ab)\n",
    "\n",
    "def check_r3(t):\n",
    "    a1 = det(Matrix(t[0]))\n",
    "    a2 = det(Matrix(t[1]))\n",
    "    b1 = det(Matrix(t[:,0]))\n",
    "    b2 = det(Matrix(t[:,1]))\n",
    "    c1 = det(Matrix(t[:,:,0]))\n",
    "    c2 = det(Matrix(t[:,:,1]))\n",
    "    return sgn([a1,a2]) or sgn([b1,b2]) or sgn([c1,c2])\n",
    "\n",
    "def check_r2(t):\n",
    "    a1 = det(Matrix(t[0]))\n",
    "    a2 = det(Matrix(t[1]))\n",
    "    b1 = det(Matrix(t[:,0]))\n",
    "    b2 = det(Matrix(t[:,1]))\n",
    "    c1 = det(Matrix(t[:,:,0]))\n",
    "    c2 = det(Matrix(t[:,:,1]))\n",
    "    d1 = ineq(a1,a2,b1,b2,c1,c2,ge,ge,ge)\n",
    "    d2 = ineq(a1,a2,b1,b2,c1,c2,le,le,ge)\n",
    "    d3 = ineq(a1,a2,b1,b2,c1,c2,le,ge,le)\n",
    "    d4 = ineq(a1,a2,b1,b2,c1,c2,ge,le,le)\n",
    "    supermod = d1 or d2 or d3 or d4\n",
    "    return supermod\n",
    "\n",
    "def ineq(a1,a2,b1,b2,c1,c2,f1,f2,f3):\n",
    "    t1 = f1(a1,0) and f1(a2,0)\n",
    "    t2 = f2(b1,0) and f2(b2,0)\n",
    "    t3 = f3(c1,0) and f3(c2,0)\n",
    "    return t1 and t2 and t3\n",
    "    \n",
    "def ge(a1,a2):\n",
    "    return a1 >= a2\n",
    "\n",
    "def le(a1,a2):\n",
    "    return a1 <= a2\n",
    "\n",
    "def check_r4(t):\n",
    "    a1 = not check_r3(tl.tensor([t[0],t[1]]))\n",
    "    a2 = not check_r3(tl.tensor([t[0],t[2]]))\n",
    "    a3 = not check_r3(tl.tensor([t[1],t[2]]))\n",
    "    return a1 or a2 or a3\n",
    "\n",
    "def check_sub(t, i, j):\n",
    "    temp = np.copy(t)\n",
    "    temp[0][i][j] = 0\n",
    "    temp[1][i][j] = 0\n",
    "    temp[2][i][j] = 0\n",
    "    t1 = tl.tensor([temp[0],temp[1]])\n",
    "    t2 = tl.tensor([temp[0],temp[2]])\n",
    "    t3 = tl.tensor([temp[1],temp[2]])\n",
    "    return check_r2(t1) and check_r2(t2) and check_r2(t3)\n",
    "    "
   ]
  },
  {
   "cell_type": "code",
   "execution_count": 10,
   "id": "powerful-public",
   "metadata": {},
   "outputs": [
    {
     "name": "stdout",
     "output_type": "stream",
     "text": [
      "[16, 16, 4956] 5028\n",
      "34.05723166465759\n"
     ]
    }
   ],
   "source": [
    "def proc(i):\n",
    "    tens = tl.tensor(np.random.randint(100, 2000000, size=(3,2,2))) * 0.01\n",
    "    #tens = rank_tree()\n",
    "    if True or check_r4(tens):\n",
    "        if check_sub(tens, 0,0) or check_sub(tens, 1,0) or check_sub(tens, 0,1) or check_sub(tens, 1,1):\n",
    "            if check(tens):\n",
    "                return (1,1,0)\n",
    "            return (1,0,0)\n",
    "        #return (0,0,0)\n",
    "    if check_r4(tens):\n",
    "        return (0,0,1)\n",
    "    return (0,0,0)\n",
    "\n",
    "te = time.time()\n",
    "total = 10000\n",
    "results = Parallel(n_jobs=4)(delayed(proc)(i) for i in range(total))\n",
    "res = [sum(x) for x in zip(*results)]\n",
    "print(res, total-res[0] - res[2])\n",
    "print(time.time() - te)"
   ]
  },
  {
   "cell_type": "code",
   "execution_count": 43,
   "id": "close-treatment",
   "metadata": {},
   "outputs": [
    {
     "name": "stdout",
     "output_type": "stream",
     "text": [
      "[2666, 3012, 1329, 0, 5051]\n",
      "52.13955307006836\n"
     ]
    }
   ],
   "source": [
    "def proc(i):\n",
    "    tens = tl.tensor(np.random.randint(100, 2000000, size=(3,2,2))) * 0.01\n",
    "    a = check_sub(tens, 0,0) or check_sub(tens, 1,0) or check_sub(tens, 0,1) or check_sub(tens, 1,1)\n",
    "    b = check(tens)\n",
    "    c = check_r4(tens)\n",
    "    ret = [0,0,0,0,0]\n",
    "    if a:\n",
    "        ret[0] = 1\n",
    "    if b:\n",
    "        ret[1] = 1\n",
    "    if a and b:\n",
    "        ret[2] = 1\n",
    "    if a and c:\n",
    "        ret[3] = 1\n",
    "    if c:\n",
    "        ret[4] = 1\n",
    "        \n",
    "    return tuple(ret)\n",
    "\n",
    "te = time.time()\n",
    "total = 10000\n",
    "results = Parallel(n_jobs=4)(delayed(proc)(i) for i in range(total))\n",
    "res = [sum(x) for x in zip(*results)]\n",
    "print(res)\n",
    "print(time.time() - te)"
   ]
  },
  {
   "cell_type": "code",
   "execution_count": 61,
   "id": "verbal-hopkins",
   "metadata": {},
   "outputs": [
    {
     "name": "stdout",
     "output_type": "stream",
     "text": [
      "0.637930430915342\n"
     ]
    },
    {
     "data": {
      "text/latex": [
       "$\\displaystyle \\left[\\begin{matrix}1.29396706836745\\\\1.496893506514\\\\-4562.75875703678\\\\-1678.20160886424\\\\535.128888449212\\end{matrix}\\right]$"
      ],
      "text/plain": [
       "Matrix([\n",
       "[ 1.29396706836745],\n",
       "[   1.496893506514],\n",
       "[-4562.75875703678],\n",
       "[-1678.20160886424],\n",
       "[ 535.128888449212]])"
      ]
     },
     "execution_count": 61,
     "metadata": {},
     "output_type": "execute_result"
    }
   ],
   "source": [
    "tens = rank_tree()\n",
    "x,y,z1,z2,z3 = symbols(\"x,y,z1,z2,z3\")\n",
    "#tens = tl.tensor(np.random.randint(1, 100000, size=(3,2,2)))*1.0\n",
    "a= 1\n",
    "M = Matrix([[tens[0][0][0],0,a,0,0],[0,tens[0][0][1],b,0,0],\n",
    "       [tens[1][0][0],0,0,a,0],[0,tens[1][0][1],0,b,0],\n",
    "      [tens[2][0][0],0,0,0,a],[0,tens[2][0][1],0,0,b]])\n",
    "\n",
    "R = Matrix([Matrix(tens[0,1]),Matrix(tens[1,1]),Matrix(tens[2,1])])\n",
    "M1 = Matrix([[M,R]])\n",
    "#display(Latex(latex(M1)))\n",
    "l = solve(M1.det()/b)[0]\n",
    "M_1 = Matrix([[tens[0][0][0],0,a,0,0],[0,tens[0][0][1],l,0,0],\n",
    "              [tens[1][0][0],0,0,a,0],[0,tens[1][0][1],0,l,0],\n",
    "              [tens[2][0][0],0,0,0,a],[0,tens[2][0][1],0,0,l]])\n",
    "M_2 = (M_1,R)\n",
    "print(l)\n",
    "N = np.array(M_1, dtype= 'float')\n",
    "sol = la.solve(N.T @ N, N.T @ np.array(R, dtype='float'))\n",
    "M_sub = Matrix(M_1[0:5,0:5])\n",
    "M_sub.adjugate() * Matrix(R[0:5]) /det(M_sub)"
   ]
  },
  {
   "cell_type": "code",
   "execution_count": 42,
   "id": "jewish-leisure",
   "metadata": {},
   "outputs": [
    {
     "data": {
      "text/latex": [
       "$\\displaystyle \\left[\\begin{matrix}9642.0 & 0 & 1 & 0 & 0\\\\0 & 4780.0 & 0.439354549529377 & 0 & 0\\\\12447.0 & 0 & 0 & 1 & 0\\\\0 & 7114.0 & 0 & 0.439354549529377 & 0\\\\7116.0 & 0 & 0 & 0 & 1\\\\0 & 4152.0 & 0 & 0 & 0.439354549529377\\end{matrix}\\right]$"
      ],
      "text/plain": [
       "Matrix([\n",
       "[ 9642.0,      0,                 1,                 0,                 0],\n",
       "[      0, 4780.0, 0.439354549529377,                 0,                 0],\n",
       "[12447.0,      0,                 0,                 1,                 0],\n",
       "[      0, 7114.0,                 0, 0.439354549529377,                 0],\n",
       "[ 7116.0,      0,                 0,                 0,                 1],\n",
       "[      0, 4152.0,                 0,                 0, 0.439354549529377]])"
      ]
     },
     "execution_count": 42,
     "metadata": {},
     "output_type": "execute_result"
    }
   ],
   "source": [
    "M_1"
   ]
  },
  {
   "cell_type": "code",
   "execution_count": 48,
   "id": "moved-anderson",
   "metadata": {},
   "outputs": [
    {
     "data": {
      "text/latex": [
       "$\\displaystyle \\left[\\begin{matrix}11890315.9809953\\\\9041167.66194879\\\\-61723436753.7098\\\\-79489029329.6207\\\\-45980343624.7638\\end{matrix}\\right]$"
      ],
      "text/plain": [
       "Matrix([\n",
       "[ 11890315.9809953],\n",
       "[ 9041167.66194879],\n",
       "[-61723436753.7098],\n",
       "[-79489029329.6207],\n",
       "[-45980343624.7638]])"
      ]
     },
     "execution_count": 48,
     "metadata": {},
     "output_type": "execute_result"
    }
   ],
   "source": [
    "M_sub = Matrix(M_1[0:5,0:5])\n",
    "M_sub.adjugate() * Matrix(R[0:5]) "
   ]
  },
  {
   "cell_type": "code",
   "execution_count": 28,
   "id": "wrong-attribute",
   "metadata": {},
   "outputs": [
    {
     "data": {
      "text/plain": [
       "[{b: (p_000*p_011*p_112 - p_000*p_012*p_111 - p_001*p_010*p_112 + p_001*p_012*p_110 + p_002*p_010*p_111 - p_002*p_011*p_110)/(p_000*p_011*p_102 - p_000*p_012*p_101 - p_001*p_010*p_102 + p_001*p_012*p_100 + p_002*p_010*p_101 - p_002*p_011*p_100)}]"
      ]
     },
     "execution_count": 28,
     "metadata": {},
     "output_type": "execute_result"
    }
   ],
   "source": [
    "M = Matrix([[p_000,0,1,0,0],[0,p_010,b,0,0],\n",
    "       [p_001,0,0,1,0],[0,p_011,0,b,0],\n",
    "      [p_002,0,0,0,1],[0,p_012,0,0,b]])\n",
    "R = Matrix([p_100, p_110, p_101, p_111, p_102, p_112])\n",
    "a= 1\n",
    "bs = solve((Matrix([[M,R]]).det()/b).simplify())"
   ]
  },
  {
   "cell_type": "code",
   "execution_count": 29,
   "id": "rocky-endorsement",
   "metadata": {},
   "outputs": [],
   "source": [
    "bs = solve((Matrix([[M,R]]).det()/b).simplify())\n",
    "bs"
   ]
  },
  {
   "cell_type": "code",
   "execution_count": 7,
   "id": "respiratory-mixer",
   "metadata": {},
   "outputs": [],
   "source": [
    "def proc_new(i):\n",
    "    tens = rank_tree()\n",
    "    tens = tl.tensor(np.random.randint(1, 100000, size=(3,2,2)))*1.0\n",
    "    a= 1\n",
    "    M = Matrix([[tens[0][0][0],0,a,0,0],[0,tens[0][0][1],b,0,0],\n",
    "                [tens[1][0][0],0,0,a,0],[0,tens[1][0][1],0,b,0],\n",
    "                [tens[2][0][0],0,0,0,a],[0,tens[2][0][1],0,0,b]])\n",
    "    R = Matrix([Matrix(tens[0,1]),Matrix(tens[1,1]),Matrix(tens[2,1])])\n",
    "    M1 = Matrix([[M,R]])\n",
    "    #display(Latex(latex(M1)))\n",
    "    sol = solve(M1.det()/b)\n",
    "    if len(sol) == 0:\n",
    "        return (0,1)\n",
    "    l = sol[0]\n",
    "    M_1 = Matrix([[tens[0][0][0],0,a,0,0],[0,tens[0][0][1],l,0,0],\n",
    "                  [tens[1][0][0],0,0,a,0],[0,tens[1][0][1],0,l,0],\n",
    "                  [tens[2][0][0],0,0,0,a],[0,tens[2][0][1],0,0,l]])\n",
    "    N = np.array(M_1, dtype= 'float')\n",
    "    sol = la.solve(N.T @ N, N.T @ np.array(R, dtype='float'))\n",
    "    cond = np.all(sol >= 0) and l >= 0\n",
    "    cond1 = check_r4(tens)\n",
    "    ret = [0,0,0]\n",
    "    if cond and cond1:\n",
    "        ret[0] = 1\n",
    "    if cond:\n",
    "        ret[1] = 1\n",
    "    if cond1:\n",
    "        ret[2] = 1\n",
    "    return tuple(ret)"
   ]
  },
  {
   "cell_type": "code",
   "execution_count": 9,
   "id": "collaborative-indicator",
   "metadata": {},
   "outputs": [
    {
     "name": "stdout",
     "output_type": "stream",
     "text": [
      "[0, 500, 5071]\n",
      "262.84266114234924\n"
     ]
    }
   ],
   "source": [
    "te = time.time()\n",
    "total = 10000\n",
    "results = Parallel(n_jobs=4)(delayed(proc_new)(i) for i in range(total))\n",
    "res = [sum(x) for x in zip(*results)]\n",
    "print(res)\n",
    "print(time.time() - te)"
   ]
  },
  {
   "cell_type": "code",
   "execution_count": null,
   "id": "limited-providence",
   "metadata": {},
   "outputs": [],
   "source": []
  }
 ],
 "metadata": {
  "kernelspec": {
   "display_name": "Python 3 (ipykernel)",
   "language": "python",
   "name": "python3"
  },
  "language_info": {
   "codemirror_mode": {
    "name": "ipython",
    "version": 3
   },
   "file_extension": ".py",
   "mimetype": "text/x-python",
   "name": "python",
   "nbconvert_exporter": "python",
   "pygments_lexer": "ipython3",
   "version": "3.9.5"
  }
 },
 "nbformat": 4,
 "nbformat_minor": 5
}
