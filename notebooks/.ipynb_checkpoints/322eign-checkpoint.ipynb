{
 "cells": [
  {
   "cell_type": "code",
   "execution_count": 1,
   "id": "70f864f0-aad1-4184-bc31-9f83722c3cb1",
   "metadata": {},
   "outputs": [],
   "source": [
    "import tensorly as tl\n",
    "import numpy as np\n",
    "from numpy import linalg as la\n",
    "from sympy import *"
   ]
  },
  {
   "cell_type": "code",
   "execution_count": 2,
   "id": "27e4b289-fe4b-4a74-ae8b-5c6f3354e5e5",
   "metadata": {},
   "outputs": [],
   "source": [
    "from tensorly.decomposition import parafac\n",
    "from tensorly.decomposition import non_negative_parafac_hals\n",
    "from tensorly.decomposition import non_negative_parafac\n",
    "\n",
    "def check_rank(tensor, rank, non_neg=True, n=10, tol=0.0001, p=False):\n",
    "    if non_neg:\n",
    "        for k in range(n):\n",
    "            weights, factors = non_negative_parafac_hals(tensor, n_iter_max=1000000, rank=rank, init='random')\n",
    "            full = tl.cp_to_tensor((weights, factors))\n",
    "            diff = (full - tensor) / tensor\n",
    "            if p:\n",
    "                # print('doing', k)\n",
    "                # print(full)\n",
    "                print(tl.max(abs(diff)))\n",
    "                print(factors)\n",
    "            if tl.max(abs(diff)) < tol:\n",
    "                return True\n",
    "    else:\n",
    "        for k in range(n):\n",
    "            weights, factors = parafac(tensor, n_iter_max=1000000, rank=rank)\n",
    "            full = tl.cp_to_tensor((weights, factors))\n",
    "            diff = (full - tensor) / tensor\n",
    "            if p:\n",
    "                print(tl.max(abs(diff)))\n",
    "                print(factors)\n",
    "            if tl.max(abs(diff)) < tol:\n",
    "                return True\n",
    "    return False\n"
   ]
  },
  {
   "cell_type": "code",
   "execution_count": 3,
   "id": "a858689c-e0bb-4db4-84da-45355deee127",
   "metadata": {},
   "outputs": [],
   "source": [
    "#generates random rank 3 tensors\n",
    "def rank_tree():\n",
    "    return (low_tensor() + low_tensor() + low_tensor()) \n",
    "\n",
    "#generates random rank 4+ (hopefully) tensors\n",
    "def rank_for():\n",
    "    return  (low_tensor() + low_tensor() + low_tensor() + low_tensor())\n",
    "\n",
    "\n",
    "# generates rank 1, 2x2x3 tensors\n",
    "def low_tensor():\n",
    "    max = 300\n",
    "    a = np.random.randint(1, max, size=3) * 0.1\n",
    "    b = np.random.randint(1, max, size=2)* 0.1\n",
    "    c = np.random.randint(1, max, size=2)* 0.1\n",
    "    tens = tl.tensor(np.kron(np.kron(a, b), c).reshape(3, 2, 2)) * 1.0\n",
    "    return tens\n",
    "\n",
    "def low_tensor_inv():\n",
    "    max = 300\n",
    "    a = np.random.randint(1, max, size=2) * -0.1\n",
    "    b = np.random.randint(1, max, size=3)* 0.1\n",
    "    c = np.random.randint(1, max, size=3)* 0.1\n",
    "    tens = tl.tensor(np.kron(np.kron(a, b), c).reshape(2, 3, 3)) * 1.0\n",
    "    return tens\n",
    "\n",
    "def check(t):\n",
    "    t1 = tl.tensor([t[0], t[1]])\n",
    "    t2 = tl.tensor([t[0], t[2]])\n",
    "    a1 = det(Matrix(t1[0]))\n",
    "    a2 = det(Matrix(t1[1]))\n",
    "    a3 = det(Matrix(t2[0]))\n",
    "    a4 = det(Matrix(t2[1]))\n",
    "    b1 = det(Matrix(t1[:,0]))\n",
    "    b2 = det(Matrix(t1[:,1]))\n",
    "    b3 = det(Matrix(t2[:,0]))\n",
    "    b4 = det(Matrix(t2[:,1]))\n",
    "    c1 = det(Matrix(t1[:,:,0]))\n",
    "    c2 = det(Matrix(t1[:,:,1]))\n",
    "    c3 = det(Matrix(t2[:,:,0]))\n",
    "    c4 = det(Matrix(t2[:,:,1]))\n",
    "    return sgn(a1, a2,a3,a4) or sgn(b1,b2,b3,b4) or sgn(c1,c2,c3,c4)\n",
    "\n",
    "def sgn(a1,a2,a3,a4):\n",
    "    return abs(a1) + abs(a2) + abs(a3) + abs(a4) == abs(a1 + a2 + a3 + a4)\n",
    "    "
   ]
  },
  {
   "cell_type": "code",
   "execution_count": 61,
   "id": "7e1518dc-59a4-4654-8f9d-db1e2f52bdc7",
   "metadata": {},
   "outputs": [
    {
     "name": "stdout",
     "output_type": "stream",
     "text": [
      "8772\n"
     ]
    }
   ],
   "source": [
    "counter = 0\n",
    "for i in range(10000):\n",
    "    t = rank_for() + rank_for() + rank_for()  + rank_for() + rank_for() + rank_for() + rank_for() + rank_for()\n",
    "    if check(t):\n",
    "        #print(check_rank(t,3,n=20))\n",
    "        counter = counter+1\n",
    "print(counter)\n"
   ]
  },
  {
   "cell_type": "code",
   "execution_count": 57,
   "id": "92e32f24-a8ca-4157-b2a2-61e4ff24372f",
   "metadata": {},
   "outputs": [
    {
     "name": "stdout",
     "output_type": "stream",
     "text": [
      "[[[ 8911.975  8800.05 ]\n",
      "  [10324.44  10196.92 ]]\n",
      "\n",
      " [[ 8910.975  8801.05 ]\n",
      "  [10325.44  10195.92 ]]\n",
      "\n",
      " [[ 7478.23   7385.14 ]\n",
      "  [ 8664.432  8556.576]]]\n",
      "6.255981006200784e-05\n",
      "[array([[19559.74358895,   175.15549471,  9145.1734489 ],\n",
      "       [19557.99983832,   176.0667306 ,  9146.64180264],\n",
      "       [16413.07944061,   147.35350563,  7675.29995231]]), array([[0.70558096, 2.33323841, 0.52805009],\n",
      "       [0.71602663, 0.        , 1.08204479]]), array([[0.55455427, 0.02391339, 0.25854093],\n",
      "       [0.51090596, 0.64833218, 0.30732201]])]\n"
     ]
    },
    {
     "data": {
      "text/plain": [
       "True"
      ]
     },
     "execution_count": 57,
     "metadata": {},
     "output_type": "execute_result"
    }
   ],
   "source": [
    "A = [1,0]\n",
    "B = [0,1]\n",
    "C1 = [1,0,0]\n",
    "C2 = [0,1,0]\n",
    "t1 = np.kron(np.kron(C1,A),A).reshape(3,2,2)\n",
    "t2 = np.kron(np.kron(C1,B),B).reshape(3,2,2)\n",
    "t3=np.kron(np.kron(C2,B),A).reshape(3,2,2)\n",
    "t4=np.kron(np.kron(C2,A),B).reshape(3,2,2)\n",
    "t = t1 + t2 + t3 + t4 + low_tensor()\n",
    "print(t)\n",
    "check_rank(t,3, p = True)"
   ]
  },
  {
   "cell_type": "code",
   "execution_count": 217,
   "id": "447a9235-6997-43de-ad1c-6d90663b347c",
   "metadata": {},
   "outputs": [
    {
     "data": {
      "text/plain": [
       "[(49.1666666666667,\n",
       "  1,\n",
       "  [Matrix([\n",
       "   [ -0.917378869030917],\n",
       "   [-0.0867790822056271],\n",
       "   [ -0.388439701301379]])]),\n",
       " (1.05319148936148,\n",
       "  1,\n",
       "  [Matrix([\n",
       "   [-0.828980717806854],\n",
       "   [ -1.07995653145482],\n",
       "   [-0.308015771295232]])]),\n",
       " (0.434944237918307,\n",
       "  1,\n",
       "  [Matrix([\n",
       "   [-0.783472770444663],\n",
       "   [  -1.0813219228451],\n",
       "   [-0.369073949713589]])])]"
      ]
     },
     "execution_count": 217,
     "metadata": {},
     "output_type": "execute_result"
    }
   ],
   "source": [
    "B = P1.transpose() * P2.transpose()\n",
    "B.eigenvects()"
   ]
  },
  {
   "cell_type": "code",
   "execution_count": 182,
   "id": "2d698776-3066-4ab6-9fb9-439680f7565c",
   "metadata": {},
   "outputs": [
    {
     "data": {
      "text/plain": [
       "[(14.6470588235294,\n",
       "  1,\n",
       "  [Matrix([\n",
       "   [-0.379470952289146],\n",
       "   [-0.917526780161815],\n",
       "   [-0.118938656687643]])]),\n",
       " (0.931034482758621,\n",
       "  1,\n",
       "  [Matrix([\n",
       "   [-0.143597906725126],\n",
       "   [  -1.0105037880657],\n",
       "   [-0.154234788704765]])]),\n",
       " (0.267857142857143,\n",
       "  1,\n",
       "  [Matrix([\n",
       "   [-0.0974234014813838],\n",
       "   [ -0.201805617354295],\n",
       "   [ -0.285311390052624]])])]"
      ]
     },
     "execution_count": 182,
     "metadata": {},
     "output_type": "execute_result"
    }
   ],
   "source": [
    "C = P1 * P3\n",
    "C.eigenvects()"
   ]
  },
  {
   "cell_type": "code",
   "execution_count": 210,
   "id": "7d4f2acd-3f6f-4268-9d43-a6be5ecb22dd",
   "metadata": {},
   "outputs": [
    {
     "data": {
      "text/plain": [
       "array([[[16920.192 , 28519.892 , 20423.842 ],\n",
       "        [ 6208.416 ,  8137.986 ,  5379.321 ],\n",
       "        [ 2023.359 ,  4677.409 ,  2567.234 ]],\n",
       "\n",
       "       [[15968.9336, 18838.7496, 14788.3776],\n",
       "        [ 6340.1426,  6713.5946,  5204.4506],\n",
       "        [ 1694.2368,  2401.3528,  1620.4508]]])"
      ]
     },
     "execution_count": 210,
     "metadata": {},
     "output_type": "execute_result"
    }
   ],
   "source": [
    "t"
   ]
  },
  {
   "cell_type": "code",
   "execution_count": null,
   "id": "e5648870-16cf-4a85-a4a3-36fc6da5e0ec",
   "metadata": {},
   "outputs": [],
   "source": []
  }
 ],
 "metadata": {
  "kernelspec": {
   "display_name": "Python 3",
   "language": "python",
   "name": "python3"
  },
  "language_info": {
   "codemirror_mode": {
    "name": "ipython",
    "version": 3
   },
   "file_extension": ".py",
   "mimetype": "text/x-python",
   "name": "python",
   "nbconvert_exporter": "python",
   "pygments_lexer": "ipython3",
   "version": "3.9.5"
  }
 },
 "nbformat": 4,
 "nbformat_minor": 5
}
