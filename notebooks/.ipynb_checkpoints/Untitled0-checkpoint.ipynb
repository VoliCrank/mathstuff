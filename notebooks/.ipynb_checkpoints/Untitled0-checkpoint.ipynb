{
 "cells": [
  {
   "cell_type": "code",
   "execution_count": 1,
   "metadata": {
    "id": "GjiDD5mDoQMV"
   },
   "outputs": [],
   "source": [
    "from sympy.tensor.array import tensorproduct, Array\n",
    "from sympy import *\n",
    "from random import randint\n",
    "import numpy as np\n",
    "import tensorly as tl\n",
    "a11, a12, a21, a22,a23, a31, a32,a33, b11, b12, b21, b22,b23, b31, b32,b33= symbols('a11 a12 a21 a22 a23 a31 a32 a33 b11 b12 b21 b22 b23 b31 b32 b33')\n",
    "c11, c12, c21, c22, c23, c31, c32, c33, pi_1, pi_2, pi_3= symbols('c11 c12 c21 c22 c23 c31 c32 c33 pi_1 pi_2 pi_3')\n",
    "a13, b13, c13 = symbols('a13 b13 c13')\n",
    "p_000, p_001, p_100, p_101, p_200, p_201, p_010, p_011, p_020, p_021, p_110, p_111, p_210, p_211, p_120, p_121, p_220, p_221 = symbols('p_000 p_001 p_100 p_101 p_200 p_201 p_010 p_011 p_020 p_021 p_110 p_111 p_210 p_211 p_120 p_121 p_220 p_221')\n",
    "p_002, p_012, p_022, p_102, p_112, p_122, p_202, p_212, p_222 = symbols('p_002 p_012 p_022 p_102 p_112 p_122 p_202 p_212 p_222')\n",
    "x_1, x_2, x_3 = symbols('x_1 x_2 x_3')"
   ]
  },
  {
   "cell_type": "code",
   "execution_count": 2,
   "metadata": {
    "id": "EGFm6_dK0hNo"
   },
   "outputs": [],
   "source": [
    "from tensorly.decomposition import parafac\n",
    "from tensorly.decomposition import non_negative_parafac_hals\n",
    "from tensorly.decomposition import non_negative_parafac\n",
    "\n",
    "def check_rank(tensor, rank, non_neg=True, n=10, tol=0.001, p=False):\n",
    "    if non_neg:\n",
    "        for k in range(n):\n",
    "            weights, factors = non_negative_parafac_hals(tensor, n_iter_max=1000000, rank=rank, init='random')\n",
    "            full = tl.cp_to_tensor((weights, factors))\n",
    "            diff = (full - tensor) / tensor\n",
    "            if p:\n",
    "                # print('doing', k)\n",
    "                # print(full)\n",
    "                print(tl.max(abs(diff)))\n",
    "                print(factors)\n",
    "            if tl.max(abs(diff)) < tol:\n",
    "                return True\n",
    "    else:\n",
    "        for k in range(n):\n",
    "            weights, factors = parafac(tensor, n_iter_max=1000000, rank=rank)\n",
    "            full = tl.cp_to_tensor((weights, factors))\n",
    "            diff = (full - tensor) / tensor\n",
    "            if p:\n",
    "                print(tl.max(abs(diff)))\n",
    "                print(factors)\n",
    "            if tl.max(abs(diff)) < tol:\n",
    "                return True\n",
    "    return False"
   ]
  },
  {
   "cell_type": "code",
   "execution_count": 3,
   "metadata": {
    "id": "4XZKL96ZwMDs"
   },
   "outputs": [],
   "source": [
    "def find_det(A):\n",
    "    upper = A[0:2,0:2]\n",
    "    lower = Matrix([A[2,0], A[2,1]]).transpose()\n",
    "    B = Matrix([lower,lower * upper])\n",
    "    return det(B)"
   ]
  },
  {
   "cell_type": "code",
   "execution_count": 15,
   "metadata": {
    "id": "8XAMByXIoW1Z"
   },
   "outputs": [],
   "source": [
    "high = 80\n",
    "def low_tensor_spec():\n",
    "    a = np.random.randint(1, high/2, size=2) * 0.1\n",
    "    b = np.random.randint(1, high, size=3)  * 1.0\n",
    "    c = np.random.randint(1, high, size=3) * 1.0\n",
    "    #c[1] = -c[1]\n",
    "    #c[0] = -c[0]\n",
    "    a[1] = -3.1\n",
    "    a[0] = -4.2\n",
    "    #print(a,b,c)\n",
    "    tens = tl.tensor(np.kron(np.kron(a, b), c).reshape(2, 3, 3)) * 1.0\n",
    "    return (tens,a,b,c)\n",
    "\n",
    "def low_tensor_spec1():\n",
    "    a = np.random.randint(1, high/2, size=2) * 0.1\n",
    "    b = np.random.randint(1, high, size=3)  * 1.0\n",
    "    c = np.random.randint(1, high, size=3) *1.0\n",
    "    a[0] = 0\n",
    "    #a[1] = -a[1]\n",
    "    #a[1] = 32\n",
    "    #a[1] = 0\n",
    "    #a[0] = 0\n",
    "    #c[1] = -c[1]\n",
    "    #c[0] = 0\n",
    "    #print(a,b,c)\n",
    "    tens = tl.tensor(np.kron(np.kron(a, b), c).reshape(2, 3, 3)) * 1.0\n",
    "    return (tens,a,b,c)\n",
    "\n",
    "def low_tensor():\n",
    "    a = np.random.randint(1, high, size=2) * 1.0\n",
    "    b = np.random.randint(1, high, size=3) * 1.0\n",
    "    c = np.random.randint(1, high, size=3) * 1.0\n",
    "    #a= a/sum(a)\n",
    "    #b = b/sum(b)\n",
    "    #c= c/sum(c)\n",
    "    tens = tl.tensor(np.kron(np.kron(a, b), c).reshape(2, 3, 3)) * 1.0\n",
    "    #print(a,b,c)\n",
    "    return (tens,a,b,c)\n"
   ]
  },
  {
   "cell_type": "code",
   "execution_count": 37,
   "metadata": {
    "colab": {
     "base_uri": "https://localhost:8080/"
    },
    "id": "FFf05YCuoco_",
    "outputId": "94b74dd8-e438-4639-b4c3-2f56f4797048"
   },
   "outputs": [
    {
     "name": "stdout",
     "output_type": "stream",
     "text": [
      "-2.67752876753558e+35 1.13454608793790e+33 2.13227926527767e+36\n",
      "-58837954014.0015 -1054433364336.02 -6036310943.40000 -2689362610.20000 10937448.0000000\n",
      "3.56910791317617e+31 -1.18851293508678e+33 -8.84919125050696e+33\n"
     ]
    },
    {
     "data": {
      "text/plain": [
       "array([[[130232. ,  32360.9, 115979.9],\n",
       "        [ 33185. ,   4466.1,  19490.1],\n",
       "        [  8107. ,    691.7,   3817.7]],\n",
       "\n",
       "       [[320750. ,  51268.2, 209464.2],\n",
       "        [196637. ,  12610.8,  78079.8],\n",
       "        [ 31381. ,   1815.6,  12108.6]]])"
      ]
     },
     "execution_count": 37,
     "metadata": {},
     "output_type": "execute_result"
    }
   ],
   "source": [
    "t1 = low_tensor()\n",
    "t2 = low_tensor()\n",
    "t3 = low_tensor()\n",
    "t4 = low_tensor()\n",
    "t5 = low_tensor()\n",
    "a1 = Matrix([Array(t1[2]), Array(t2[2]), Array(t3[2])]).transpose()\n",
    "a2 = Matrix([Array(t1[3]), Array(t2[3]), Array(t3[3])]).transpose()\n",
    "a3 = t1[1]\n",
    "b3 = t2[1]\n",
    "c3 = t3[1]\n",
    "tens = t1[0]*0.1 +t2[0]*0.5 + t3[0]\n",
    "#tens = np.random.randint(1,100000,size = (2,3,3))\n",
    "#tens\n",
    "t01 = Matrix(tens[0])\n",
    "t02 = Matrix(tens[1])\n",
    "\n",
    "tens[0] = t01\n",
    "tens[1] = t02\n",
    "t11 = Matrix([tens[0][0],tens[0][2],tens[0][1]])\n",
    "t12 = Matrix([tens[1][0],tens[1][2],tens[1][1]])\n",
    "\n",
    "t21 = Matrix([tens[0][2],tens[0][1],tens[0][0]])\n",
    "t22 = Matrix([tens[1][2],tens[1][1],tens[1][0]])\n",
    "\n",
    "cs = (a3[0] * b3[1] - a3[1] *b3[0])*(a3[0] * c3[1] - a3[1] * c3[0])*(b3[0] * c3[1] - c3[0] * b3[1])\n",
    "A1a = t01 * t02.adjugate()\n",
    "A2a = -t11 * t12.adjugate()\n",
    "A3a = -t21 * t22.adjugate()\n",
    "inver = abs(det(t02)) > 10 and abs(det(t01)) > 10\n",
    "if inver:\n",
    "    A1 = t01*t02.inv() #/(abs(det(t02))/det(t02))\n",
    "    A2 = t11*t12.inv() #/(abs(det(t12))/det(t12))\n",
    "    A3 = t21 * t22.inv() #/(abs(det(t22))/det(t22))\n",
    "    #print(find_det(A1),find_det(A2),find_det(A3))\n",
    "    \n",
    "print(find_det(A1a),find_det(A2a),find_det(A3a))\n",
    "print(det(t01), det(t02), t02.minor(2,2), t02.minor(1,1), t02.minor(0,0))\n",
    "#print(t11.eigenvects())\n",
    "#print(t12.eigenvects())\n",
    "prod1 = a1[2,0] * a1[2,1] * a1[2,2]\n",
    "prod2 = a1[1,0] * a1[1,1] * a1[1,2]\n",
    "prod3 = a1[0,0] * a1[0,1] * a1[0,2]\n",
    "r1 = cs * det(a1) * det(a2)**2 *prod1 #/ -det(t02)**2\n",
    "r2 = cs * -det(a1) * det(a2)**2 *prod2#/ -det(t02)**2\n",
    "r3 = cs * -det(a1) * det(a2)**2 *prod3# / -det(t02)**2\n",
    "t01 = Matrix(tens[0]).transpose()\n",
    "t02 = Matrix(tens[1]).transpose()\n",
    "tens[0] = t01\n",
    "tens[1] = t02\n",
    "t11 = Matrix([tens[0][0],tens[0][2],tens[0][1]])\n",
    "t12 = Matrix([tens[1][0],tens[1][2],tens[1][1]])\n",
    "t21 = Matrix([tens[0][2],tens[0][1],tens[0][0]])\n",
    "t22 = Matrix([tens[1][2],tens[1][1],tens[1][0]])\n",
    "if inver:\n",
    "    A11 = t01*t02.inv() #/(abs(det(t02))/det(t02))\n",
    "    A21 = t11*t12.inv() #/(abs(det(t12))/det(t12))\n",
    "    A31 = t21 * t22.inv() #/(abs(det(t22))/det(t22))\n",
    "    #print(find_det(A11),find_det(A21),find_det(A31))\n",
    "    \n",
    "A11a = t01 * t02.adjugate() #/(abs(det(t02))/det(t02))\n",
    "A21a = -t11 * t12.adjugate() #/(abs(det(t12))/det(t12))\n",
    "A31a = -t21 * t22.adjugate() #/(abs(det(t22))/det(t22))\n",
    "print(find_det(A11a),find_det(A21a),find_det(A31a))\n",
    "#print(r1,r2,r3)\n",
    "tens"
   ]
  },
  {
   "cell_type": "code",
   "execution_count": 28,
   "metadata": {},
   "outputs": [
    {
     "name": "stdout",
     "output_type": "stream",
     "text": [
      "0.003189963339630697\n",
      "[array([[199778.65198363,  61589.78825247,  22392.11142994],\n",
      "       [255230.59871119,  79540.4068643 ,  38614.23778221]]), array([[0.57733041, 1.5368305 , 0.04364961],\n",
      "       [0.31505089, 0.31070572, 0.62976181],\n",
      "       [0.34911611, 0.6981831 , 0.29081744]]), array([[0.12216685, 0.90650292, 1.07751664],\n",
      "       [0.36011696, 0.32001813, 0.32904995],\n",
      "       [0.19838123, 0.36014155, 0.41804326]])]\n",
      "0.029991851863720134\n",
      "[array([[12933.76758545, 61843.00010109, 45099.74243568],\n",
      "       [15325.72367776, 82169.89068168, 65092.08274424]]), array([[1.05293012, 1.19927805, 0.        ],\n",
      "       [0.        , 0.23872898, 0.4484831 ],\n",
      "       [0.        , 0.89585972, 0.        ]]), array([[2.02947698, 0.99148248, 1.31295862],\n",
      "       [1.2964321 , 0.73129811, 1.07018271],\n",
      "       [1.05497866, 0.57814285, 0.81476103]])]\n",
      "0.0032133425362005975\n",
      "[array([[ 34274.00837634,   2009.65406507, 140224.08463745],\n",
      "       [ 43968.28544912,   4911.66672003, 182225.35350846]]), array([[1.93839105, 0.08374734, 0.44681961],\n",
      "       [0.90740658, 2.71470948, 0.1070352 ],\n",
      "       [1.10629176, 1.21404534, 0.2102323 ]]), array([[0.6854069 , 1.04171016, 0.88161439],\n",
      "       [0.9570904 , 0.30202895, 0.13568182],\n",
      "       [0.61392092, 0.40381332, 0.26374185]])]\n",
      "0.0031880878084757803\n",
      "[array([[ 13186.79073418,  71879.8430389 , 136385.59760587],\n",
      "       [ 26529.44799433,  92934.33374918, 175064.08456633]]), array([[0.00962999, 1.10092182, 0.89801095],\n",
      "       [0.3738915 , 0.33247179, 0.40210877],\n",
      "       [0.16683905, 0.54812775, 0.50447151]]), array([[1.8133236 , 1.19634651, 0.04936245],\n",
      "       [0.52320833, 0.12081993, 0.51042399],\n",
      "       [0.7147438 , 0.3415744 , 0.24704482]])]\n",
      "0.0034141240201133885\n",
      "[array([[167974.42452549,  81627.30388067,    244.79746674],\n",
      "       [210380.42815121,  96188.81891034,   5839.06488778]]), array([[0.38388324, 0.90696367, 1.43819137],\n",
      "       [0.18134177, 0.30182956, 1.64043098],\n",
      "       [0.21982737, 0.46358715, 1.24004646]]), array([[0.70337088, 0.7462761 , 1.03669577],\n",
      "       [1.03636742, 0.07062379, 0.34030995],\n",
      "       [0.67572235, 0.18334437, 0.41086376]])]\n",
      "0.0034586244874666946\n",
      "[array([[108049.37594561,  28907.41300729,    861.70221174],\n",
      "       [103238.32292413,  66586.55676097,    620.55611369]]), array([[7.22229285e-01, 1.37140981e+00, 1.69923600e+01],\n",
      "       [2.43497864e-03, 9.57400963e-01, 5.02724397e+01],\n",
      "       [2.63947868e-01, 9.20795151e-01, 2.84580669e+01]]), array([[0.86019747, 0.67086511, 0.49492032],\n",
      "       [0.59720264, 0.47375855, 0.46528724],\n",
      "       [0.47607665, 0.38330448, 0.33571174]])]\n",
      "0.0032553087736946077\n",
      "[array([[137364.80235755,      0.        ,  83756.72577828],\n",
      "       [174704.92627008,   8241.49783646, 102797.86738285]]), array([[0.43835752, 1.90469903, 1.35108848],\n",
      "       [0.21645162, 2.83190617, 0.50536341],\n",
      "       [0.25514469, 1.9288737 , 0.71513082]]), array([[0.34180222, 0.36859354, 0.71033021],\n",
      "       [0.89523579, 0.11185961, 0.16135118],\n",
      "       [0.53051426, 0.14287669, 0.22414667]])]\n",
      "0.0029128093925914543\n",
      "[array([[ 24084.27429425, 105678.6672623 , 145861.14895758],\n",
      "       [ 61223.04167508, 134227.96825465, 178273.97142979]]), array([[4.16727941e-01, 9.74621372e-01, 1.84766998e-02],\n",
      "       [9.05203856e-01, 4.31767346e-01, 5.66337436e-06],\n",
      "       [5.47050460e-01, 5.45528736e-01, 6.75307960e-03]]), array([[0.26443062, 0.75517881, 7.61492919],\n",
      "       [0.08542111, 0.69221117, 0.        ],\n",
      "       [0.10628985, 0.50286043, 1.66439274]])]\n",
      "0.0032482541724346116\n",
      "[array([[ 98878.47885633,  45910.46337836,    623.25637356],\n",
      "       [129135.25744731,  58038.99709097,   2370.76559569]]), array([[0.56918351, 1.20653719, 0.0857011 ],\n",
      "       [0.11447357, 0.82807825, 2.17457202],\n",
      "       [0.25810524, 0.80430727, 0.97797696]]), array([[1.16253997, 0.63926586, 2.04152337],\n",
      "       [0.62058051, 0.67110328, 0.66613403],\n",
      "       [0.55630372, 0.46989978, 0.81633443]])]\n",
      "0.003200628119703731\n",
      "[array([[ 91751.65465112, 139745.8107007 ,  21582.8302889 ],\n",
      "       [135607.17473602, 181733.6961922 ,  25973.03928205]]), array([[0.37638344, 0.46646003, 4.80814696],\n",
      "       [0.42753791, 0.29372902, 0.03230546],\n",
      "       [0.32482857, 0.29920282, 1.77128776]]), array([[0.87753852, 0.13173451, 0.59796203],\n",
      "       [0.20745561, 0.6116414 , 0.24239364],\n",
      "       [0.32015189, 0.30484966, 0.25458783]])]\n"
     ]
    },
    {
     "data": {
      "text/plain": [
       "False"
      ]
     },
     "execution_count": 28,
     "metadata": {},
     "output_type": "execute_result"
    }
   ],
   "source": [
    "check_rank(tens,3,p= True, non_neg = True)"
   ]
  },
  {
   "cell_type": "code",
   "execution_count": 124,
   "metadata": {},
   "outputs": [
    {
     "data": {
      "text/plain": [
       "[(474488799523.053,\n",
       "  1,\n",
       "  [Matrix([\n",
       "   [0.293380711889363],\n",
       "   [0.497471641899339],\n",
       "   [0.816363720039828]])]),\n",
       " (-0.127400853230118,\n",
       "  1,\n",
       "  [Matrix([\n",
       "   [-0.563311175619855],\n",
       "   [ -0.61826836348582],\n",
       "   [-0.645746957419894]])]),\n",
       " (112708483171.012,\n",
       "  1,\n",
       "  [Matrix([\n",
       "   [-0.119446056612228],\n",
       "   [-0.371609953905703],\n",
       "   [-0.955568452901191]])])]"
      ]
     },
     "execution_count": 124,
     "metadata": {},
     "output_type": "execute_result"
    }
   ],
   "source": [
    "A1a.eigenvects()"
   ]
  },
  {
   "cell_type": "code",
   "execution_count": 125,
   "metadata": {},
   "outputs": [
    {
     "data": {
      "text/plain": [
       "[(0.0327829423219696,\n",
       "  1,\n",
       "  [Matrix([\n",
       "   [ 0.05362703388568],\n",
       "   [0.706089279495332],\n",
       "   [0.706089279495438]])]),\n",
       " (112708483171.272,\n",
       "  1,\n",
       "  [Matrix([\n",
       "   [-0.976477766031913],\n",
       "   [-0.390591106413513],\n",
       "   [-0.927653877731321]])]),\n",
       " (474488799522.625,\n",
       "  1,\n",
       "  [Matrix([\n",
       "   [-0.586209097577232],\n",
       "   [ -0.45724309611023],\n",
       "   [-0.914486192220423]])])]"
      ]
     },
     "execution_count": 125,
     "metadata": {},
     "output_type": "execute_result"
    }
   ],
   "source": [
    "M = A11a.eigenvects()\n",
    "M"
   ]
  },
  {
   "cell_type": "code",
   "execution_count": 111,
   "metadata": {
    "colab": {
     "base_uri": "https://localhost:8080/"
    },
    "id": "HTJ-1BJW6Rh1",
    "outputId": "3b988a2d-e766-4511-9ae5-9151cbd13a6b"
   },
   "outputs": [
    {
     "data": {
      "text/latex": [
       "$\\displaystyle \\left[\\begin{matrix}0.00268015265464783 & 1414683.78650759 & -1409277.68553178\\\\0.00394018739461899 & 1769837.53198448 & -2073062.82271748\\\\-0.00681251287460327 & -3060300.4368331 & 3584620.02712829\\end{matrix}\\right]$"
      ],
      "text/plain": [
       "Matrix([\n",
       "[ 0.00268015265464783, 1414683.78650759, -1409277.68553178],\n",
       "[ 0.00394018739461899, 1769837.53198448, -2073062.82271748],\n",
       "[-0.00681251287460327, -3060300.4368331,  3584620.02712829]])"
      ]
     },
     "execution_count": 111,
     "metadata": {},
     "output_type": "execute_result"
    }
   ],
   "source": [
    "M = A1a.eigenvects()\n",
    "M1 = abs(Matrix([[Matrix(M[0][2]),Matrix(M[1][2]),Matrix(M[2][2])]])).transpose()\n",
    "M1\n",
    "K = A11a.eigenvects()\n",
    "K1 = abs(Matrix([[Matrix(K[0][2]),Matrix(K[1][2]),Matrix(K[2][2])]]))\n",
    "K1.inv() * Matrix(tens[1]) * M1.inv()"
   ]
  },
  {
   "cell_type": "code",
   "execution_count": 112,
   "metadata": {
    "colab": {
     "base_uri": "https://localhost:8080/"
    },
    "id": "TEyLe2Umg1dG",
    "outputId": "d9f55ab8-446a-4fea-8691-556deaf2cfab"
   },
   "outputs": [
    {
     "data": {
      "text/latex": [
       "$\\displaystyle \\left[\\begin{matrix}0.00012505054473877 & 3104443.79869714 & -53344.3249796629\\\\0.000162839889526367 & 4034432.04488708 & -69324.5128810406\\\\1034.32029461861 & -6976105.95673348 & 119871.92791152\\end{matrix}\\right]$"
      ],
      "text/plain": [
       "Matrix([\n",
       "[ 0.00012505054473877,  3104443.79869714, -53344.3249796629],\n",
       "[0.000162839889526367,  4034432.04488708, -69324.5128810406],\n",
       "[    1034.32029461861, -6976105.95673348,   119871.92791152]])"
      ]
     },
     "execution_count": 112,
     "metadata": {},
     "output_type": "execute_result"
    }
   ],
   "source": [
    "K1.inv() * Matrix(tens[0]) * M1.inv()"
   ]
  },
  {
   "cell_type": "code",
   "execution_count": 8,
   "metadata": {
    "colab": {
     "base_uri": "https://localhost:8080/",
     "height": 37
    },
    "id": "OuQQ0XRupNB5",
    "outputId": "c35b3067-9b91-47a8-f592-856d7af81a63"
   },
   "outputs": [
    {
     "ename": "NameError",
     "evalue": "name 't12' is not defined",
     "output_type": "error",
     "traceback": [
      "\u001b[1;31m---------------------------------------------------------------------------\u001b[0m",
      "\u001b[1;31mNameError\u001b[0m                                 Traceback (most recent call last)",
      "\u001b[1;32m<ipython-input-8-9d5d88a5db2c>\u001b[0m in \u001b[0;36m<module>\u001b[1;34m\u001b[0m\n\u001b[1;32m----> 1\u001b[1;33m \u001b[0mK\u001b[0m \u001b[1;33m=\u001b[0m \u001b[0mt01\u001b[0m \u001b[1;33m*\u001b[0m \u001b[0mt12\u001b[0m\u001b[1;33m.\u001b[0m\u001b[0minv\u001b[0m\u001b[1;33m(\u001b[0m\u001b[1;33m)\u001b[0m\u001b[1;33m\u001b[0m\u001b[1;33m\u001b[0m\u001b[0m\n\u001b[0m\u001b[0;32m      2\u001b[0m \u001b[0mK\u001b[0m\u001b[1;33m.\u001b[0m\u001b[0meigenvects\u001b[0m\u001b[1;33m(\u001b[0m\u001b[1;33m)\u001b[0m\u001b[1;33m\u001b[0m\u001b[1;33m\u001b[0m\u001b[0m\n",
      "\u001b[1;31mNameError\u001b[0m: name 't12' is not defined"
     ]
    }
   ],
   "source": [
    "K = t01 * t12.inv()\n",
    "K.eigenvects()"
   ]
  },
  {
   "cell_type": "code",
   "execution_count": 9,
   "metadata": {},
   "outputs": [],
   "source": [
    "def find_det1(A):\n",
    "    #lower = Matrix([A[2,0], A[2,1]]).transpose()\n",
    "    #B = Matrix([lower,lower * upper])\n",
    "    return (A[1,0],A[2,0])"
   ]
  },
  {
   "cell_type": "code",
   "execution_count": 183,
   "metadata": {},
   "outputs": [],
   "source": []
  },
  {
   "cell_type": "code",
   "execution_count": 210,
   "metadata": {
    "colab": {
     "base_uri": "https://localhost:8080/"
    },
    "id": "_PvPFWEouxz3",
    "outputId": "6ddecdce-7699-450b-ff44-1b11855b4134"
   },
   "outputs": [
    {
     "name": "stdout",
     "output_type": "stream",
     "text": [
      "-6.00000000000000 0 202394155.040001 92765608.3200073 666491696.639999 -80409288.9599991 -27911869.4400024 -338775557.119995\n",
      "[(1.28472780776442, 1, [Matrix([\n",
      "[-0.388885451763465],\n",
      "[-0.160318315979255],\n",
      "[-0.907229928390979]])]), (0.000657946440063254, 1, [Matrix([\n",
      "[-0.0578938377835887],\n",
      "[ 0.0876258271578048],\n",
      "[  -1.09292465201625]])]), (57096096977.9060, 1, [Matrix([\n",
      "[0.590146956813343],\n",
      "[0.490275933345675],\n",
      "[0.762651451899074]])])]\n"
     ]
    },
    {
     "data": {
      "text/plain": [
       "array([[[ 250331.6 ,  462350.6 ,  160572.  ],\n",
       "        [ 102513.76,  190146.56,   65606.4 ],\n",
       "        [ 584480.96, 1077507.76,  375278.4 ]],\n",
       "\n",
       "       [[ 132117.44,  238261.6 ,   85124.16],\n",
       "        [  54337.92,   97384.8 ,   35034.88],\n",
       "        [ 309312.64,  563045.6 ,  199080.96]]])"
      ]
     },
     "execution_count": 210,
     "metadata": {},
     "output_type": "execute_result"
    }
   ],
   "source": [
    "t1 = low_tensor()\n",
    "t2 = low_tensor_spec()\n",
    "t3 = low_tensor_spec1()\n",
    "t4 = low_tensor()\n",
    "t5 = low_tensor()\n",
    "tens = t1[0] -t2[0]*0.1 -t3[0]*0.1\n",
    "t01 = Matrix(tens[0])\n",
    "t02 = Matrix(tens[1])\n",
    "print(det(t01), det(t02),t01.minor(2,2),t01.minor(1,1),t01.minor(0,0),t02.minor(2,2),t02.minor(1,1),t02.minor(0,0))\n",
    "A = t01 * t02.adjugate()\n",
    "print(A.eigenvects())\n",
    "tens"
   ]
  },
  {
   "cell_type": "code",
   "execution_count": 170,
   "metadata": {},
   "outputs": [
    {
     "data": {
      "text/plain": [
       "[(8.07692307692299,\n",
       "  1,\n",
       "  [Matrix([\n",
       "   [-0.925305138660671],\n",
       "   [-0.364054480784529],\n",
       "   [-0.106182556895493]])]),\n",
       " (0.333333333333430,\n",
       "  1,\n",
       "  [Matrix([\n",
       "   [-0.765729428086548],\n",
       "   [-0.592164091053593],\n",
       "   [-0.714680799547438]])]),\n",
       " (93.9999999999999,\n",
       "  1,\n",
       "  [Matrix([\n",
       "   [-0.886872630879788],\n",
       "   [-0.147812105146632],\n",
       "   [ -1.18249684117305]])])]"
      ]
     },
     "execution_count": 170,
     "metadata": {},
     "output_type": "execute_result"
    }
   ],
   "source": []
  },
  {
   "cell_type": "code",
   "execution_count": null,
   "metadata": {},
   "outputs": [],
   "source": []
  }
 ],
 "metadata": {
  "colab": {
   "collapsed_sections": [],
   "name": "Untitled0.ipynb",
   "provenance": []
  },
  "kernelspec": {
   "display_name": "Python 3",
   "language": "python",
   "name": "python3"
  },
  "language_info": {
   "codemirror_mode": {
    "name": "ipython",
    "version": 3
   },
   "file_extension": ".py",
   "mimetype": "text/x-python",
   "name": "python",
   "nbconvert_exporter": "python",
   "pygments_lexer": "ipython3",
   "version": "3.9.5"
  }
 },
 "nbformat": 4,
 "nbformat_minor": 4
}
