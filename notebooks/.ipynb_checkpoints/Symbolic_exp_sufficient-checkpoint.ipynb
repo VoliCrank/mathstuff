{
 "cells": [
  {
   "cell_type": "code",
   "execution_count": 29,
   "id": "found-principal",
   "metadata": {},
   "outputs": [],
   "source": [
    "import tensorly as tl\n",
    "import numpy as np\n",
    "from numpy import linalg as la\n",
    "from sympy import *\n",
    "from sympy import Matrix, symbols, solve_linear_system\n",
    "from sympy.solvers.solveset import linsolve\n",
    "import time\n",
    "from joblib import Parallel, delayed\n",
    "x,y,z_1,z_2,z_3 = symbols('x y z_1 z_2 z_3')\n",
    "x,y,z1,z2,z3 ,b= symbols(\"x,y,z1,z2,z3,b\")\n",
    "p_112, p_102, p_002, p_012 = symbols('p_112 p_102 p_002 p_012')\n",
    "p_000, p_001, p_100, p_101, p_200, p_201, p_010, p_011, p_020, p_021, p_110, p_111, p_210, p_211, p_120, p_121, p_220, p_221 = symbols('p_000 p_001 p_100 p_101 p_200 p_201 p_010 p_011 p_020 p_021 p_110 p_111 p_210 p_211 p_120 p_121 p_220 p_221')"
   ]
  },
  {
   "cell_type": "code",
   "execution_count": 3,
   "id": "central-authority",
   "metadata": {},
   "outputs": [],
   "source": [
    "#generates random rank 3 tensors\n",
    "def rank_tree():\n",
    "    return (low_tensor() + low_tensor() + low_tensor()) \n",
    "\n",
    "# random tensor of some dim\n",
    "def rand_tensor():\n",
    "    return tl.tensor(np.random.randint(1, 100000, size=(3,2,2)))*1.0\n",
    "\n",
    "# generates rank 1 tensors\n",
    "def low_tensor():\n",
    "    max = 30\n",
    "    a = np.random.randint(1, max, size=3) \n",
    "    b = np.random.randint(1, max, size=2)\n",
    "    c = np.random.randint(1, max, size=2)\n",
    "    tens = tl.tensor(np.kron(np.kron(a, b), c).reshape(3, 2, 2)) * 1.0\n",
    "    return tens\n",
    "\n",
    "# checks if all subtensors have nonneg rank 3\n",
    "def check(t):\n",
    "    t1 = tl.tensor([t[0], t[1]])\n",
    "    t2 = tl.tensor([t[1], t[2]])\n",
    "    t3 = tl.tensor([t[0], t[2]])\n",
    "    a1 = det(Matrix(t1[0]))\n",
    "    a2 = det(Matrix(t1[1]))\n",
    "    a3 = det(Matrix(t2[0]))\n",
    "    a4 = det(Matrix(t2[1]))\n",
    "    b1 = det(Matrix(t1[:,0]))\n",
    "    b2 = det(Matrix(t1[:,1]))\n",
    "    b3 = det(Matrix(t2[:,0]))\n",
    "    b4 = det(Matrix(t2[:,1]))\n",
    "    c1 = det(Matrix(t1[:,:,0]))\n",
    "    c2 = det(Matrix(t1[:,:,1]))\n",
    "    c3 = det(Matrix(t2[:,:,0]))\n",
    "    c4 = det(Matrix(t2[:,:,1]))\n",
    "\n",
    "    a5 = det(Matrix(t3[0]))\n",
    "    a6 = det(Matrix(t3[1]))\n",
    "\n",
    "    b5 = det(Matrix(t3[:,0]))\n",
    "    b6 = det(Matrix(t3[:,1]))\n",
    "\n",
    "    c5 = det(Matrix(t3[:,:,0]))\n",
    "    c6 = det(Matrix(t3[:,:,1]))\n",
    "    return sgn([a1, a2,a3,a4,a5,a6]) or sgn([b1,b2,b3,b4,b5,b6]) or sgn([c1,c2,c3,c4,c5,c6])\n",
    "\n",
    "# determines sign of a list\n",
    "def sgn(a):\n",
    "    t = 0\n",
    "    ab = 0\n",
    "    for a_i in a:\n",
    "        t+= abs(a_i)\n",
    "        ab += a_i\n",
    "    return t == abs(ab)\n",
    "\n",
    "\n",
    "# checks if the give 2x2x2 tensor has nonneg rank 3\n",
    "def check_r3(t):\n",
    "    a1 = det(Matrix(t[0]))\n",
    "    a2 = det(Matrix(t[1]))\n",
    "    b1 = det(Matrix(t[:,0]))\n",
    "    b2 = det(Matrix(t[:,1]))\n",
    "    c1 = det(Matrix(t[:,:,0]))\n",
    "    c2 = det(Matrix(t[:,:,1]))\n",
    "    return sgn([a1,a2]) or sgn([b1,b2]) or sgn([c1,c2])\n",
    "\n",
    "# checks if given 2x2x2 has nonneg rank 2\n",
    "def check_r2(t):\n",
    "    a1 = det(Matrix(t[0]))\n",
    "    a2 = det(Matrix(t[1]))\n",
    "    b1 = det(Matrix(t[:,0]))\n",
    "    b2 = det(Matrix(t[:,1]))\n",
    "    c1 = det(Matrix(t[:,:,0]))\n",
    "    c2 = det(Matrix(t[:,:,1]))\n",
    "    d1 = ineq(a1,a2,b1,b2,c1,c2,ge,ge,ge)\n",
    "    d2 = ineq(a1,a2,b1,b2,c1,c2,le,le,ge)\n",
    "    d3 = ineq(a1,a2,b1,b2,c1,c2,le,ge,le)\n",
    "    d4 = ineq(a1,a2,b1,b2,c1,c2,ge,le,le)\n",
    "    supermod = d1 or d2 or d3 or d4\n",
    "    return supermod\n",
    "\n",
    "\n",
    "# helpers\n",
    "def ineq(a1,a2,b1,b2,c1,c2,f1,f2,f3):\n",
    "    t1 = f1(a1,0) and f1(a2,0)\n",
    "    t2 = f2(b1,0) and f2(b2,0)\n",
    "    t3 = f3(c1,0) and f3(c2,0)\n",
    "    return t1 and t2 and t3\n",
    "    \n",
    "def ge(a1,a2):\n",
    "    return a1 >= a2\n",
    "\n",
    "def le(a1,a2):\n",
    "    return a1 <= a2\n",
    "\n",
    "# Checks if 2x2x3 contains a 2x2x2 with nonneg 4\n",
    "def check_r4(t):\n",
    "    a1 = not check_r3(tl.tensor([t[0],t[1]]))\n",
    "    a2 = not check_r3(tl.tensor([t[0],t[2]]))\n",
    "    a3 = not check_r3(tl.tensor([t[1],t[2]]))\n",
    "    return a1 or a2 or a3 "
   ]
  },
  {
   "cell_type": "code",
   "execution_count": 37,
   "id": "welcome-organizer",
   "metadata": {},
   "outputs": [
    {
     "data": {
      "text/latex": [
       "$\\displaystyle \\left[\\begin{matrix}\\left[\\begin{matrix}p_{000} & p_{010}\\\\p_{100} & p_{110}\\end{matrix}\\right] & \\left[\\begin{matrix}p_{001} & p_{011}\\\\p_{101} & p_{111}\\end{matrix}\\right] & \\left[\\begin{matrix}p_{002} & p_{012}\\\\p_{102} & p_{112}\\end{matrix}\\right]\\end{matrix}\\right]$"
      ],
      "text/plain": [
       "[[[p_000, p_010], [p_100, p_110]], [[p_001, p_011], [p_101, p_111]], [[p_002, p_012], [p_102, p_112]]]"
      ]
     },
     "execution_count": 37,
     "metadata": {},
     "output_type": "execute_result"
    }
   ],
   "source": [
    "P = Array([[[p_000, p_010],[p_100, p_110]],\n",
    "          [[p_001, p_011],[p_101, p_111]],\n",
    "           [[p_002, p_012],[p_102, p_112]]])\n",
    "P"
   ]
  },
  {
   "cell_type": "code",
   "execution_count": 38,
   "id": "willing-signal",
   "metadata": {},
   "outputs": [
    {
     "data": {
      "text/latex": [
       "$\\displaystyle \\left[\\begin{matrix}\\left[\\begin{matrix}p_{000} & p_{010}\\\\p_{100} & p_{110}\\end{matrix}\\right] & \\left[\\begin{matrix}p_{001} & p_{011}\\\\p_{101} & p_{111}\\end{matrix}\\right] & \\left[\\begin{matrix}p_{002} & p_{012}\\\\p_{102} & p_{112}\\end{matrix}\\right]\\end{matrix}\\right]$"
      ],
      "text/plain": [
       "[[[p_000, p_010], [p_100, p_110]], [[p_001, p_011], [p_101, p_111]], [[p_002, p_012], [p_102, p_112]]]"
      ]
     },
     "execution_count": 38,
     "metadata": {},
     "output_type": "execute_result"
    }
   ],
   "source": [
    "tens = P\n",
    "tens"
   ]
  },
  {
   "cell_type": "code",
   "execution_count": 39,
   "id": "beneficial-gambling",
   "metadata": {},
   "outputs": [
    {
     "data": {
      "text/latex": [
       "$\\displaystyle \\left[\\begin{matrix}p_{100} & p_{101} & p_{102}\\end{matrix}\\right]$"
      ],
      "text/plain": [
       "[p_100, p_101, p_102]"
      ]
     },
     "execution_count": 39,
     "metadata": {},
     "output_type": "execute_result"
    }
   ],
   "source": [
    "tens[:,1,0]"
   ]
  },
  {
   "cell_type": "code",
   "execution_count": 40,
   "id": "thirty-ribbon",
   "metadata": {},
   "outputs": [
    {
     "data": {
      "text/latex": [
       "$\\displaystyle \\left[\\begin{matrix}p_{000} & p_{001} & p_{002}\\\\p_{010} & p_{011} & p_{012}\\\\p_{110} & p_{111} & p_{112}\\end{matrix}\\right]$"
      ],
      "text/plain": [
       "Matrix([\n",
       "[p_000, p_001, p_002],\n",
       "[p_010, p_011, p_012],\n",
       "[p_110, p_111, p_112]])"
      ]
     },
     "execution_count": 40,
     "metadata": {},
     "output_type": "execute_result"
    }
   ],
   "source": [
    "M_b = Matrix([[Matrix(tens[:,0,0]), Matrix(tens[:,0,1]), Matrix(tens[:,1,1])]]).transpose()\n",
    "M_b"
   ]
  },
  {
   "cell_type": "code",
   "execution_count": 43,
   "id": "bound-balance",
   "metadata": {},
   "outputs": [
    {
     "data": {
      "text/latex": [
       "$\\displaystyle p_{000} p_{011} p_{102} - p_{000} p_{012} p_{101} - p_{001} p_{010} p_{102} + p_{001} p_{012} p_{100} + p_{002} p_{010} p_{101} - p_{002} p_{011} p_{100}$"
      ],
      "text/plain": [
       "p_000*p_011*p_102 - p_000*p_012*p_101 - p_001*p_010*p_102 + p_001*p_012*p_100 + p_002*p_010*p_101 - p_002*p_011*p_100"
      ]
     },
     "execution_count": 43,
     "metadata": {},
     "output_type": "execute_result"
    }
   ],
   "source": [
    "M_a = Matrix([[Matrix(tens[:,0,0]), Matrix(tens[:,0,1]), Matrix(tens[:,1,0])]]).transpose()\n",
    "M_a.det()"
   ]
  },
  {
   "cell_type": "code",
   "execution_count": 57,
   "id": "greatest-addiction",
   "metadata": {},
   "outputs": [
    {
     "data": {
      "text/latex": [
       "$\\displaystyle \\left[\\begin{matrix}p_{000} & 0 & a & 0 & 0\\\\0 & p_{010} & b & 0 & 0\\\\p_{001} & 0 & 0 & a & 0\\\\0 & p_{011} & 0 & b & 0\\\\p_{002} & 0 & 0 & 0 & a\\\\0 & p_{012} & 0 & 0 & b\\end{matrix}\\right]$"
      ],
      "text/plain": [
       "Matrix([\n",
       "[p_000,     0, a, 0, 0],\n",
       "[    0, p_010, b, 0, 0],\n",
       "[p_001,     0, 0, a, 0],\n",
       "[    0, p_011, 0, b, 0],\n",
       "[p_002,     0, 0, 0, a],\n",
       "[    0, p_012, 0, 0, b]])"
      ]
     },
     "execution_count": 57,
     "metadata": {},
     "output_type": "execute_result"
    }
   ],
   "source": [
    "a, b = symbols(\"a b\")\n",
    "M = Matrix([[tens[0][0][0],0,a,0,0],[0,tens[0][0][1],b,0,0],\n",
    "            [tens[1][0][0],0,0,a,0],[0,tens[1][0][1],0,b,0],\n",
    "            [tens[2][0][0],0,0,0,a],[0,tens[2][0][1],0,0,b]])\n",
    "M"
   ]
  },
  {
   "cell_type": "code",
   "execution_count": 58,
   "id": "turned-decision",
   "metadata": {},
   "outputs": [
    {
     "data": {
      "text/latex": [
       "$\\displaystyle \\left[\\begin{matrix}p_{100}\\\\p_{110}\\\\p_{101}\\\\p_{111}\\\\p_{102}\\\\p_{112}\\end{matrix}\\right]$"
      ],
      "text/plain": [
       "Matrix([\n",
       "[p_100],\n",
       "[p_110],\n",
       "[p_101],\n",
       "[p_111],\n",
       "[p_102],\n",
       "[p_112]])"
      ]
     },
     "execution_count": 58,
     "metadata": {},
     "output_type": "execute_result"
    }
   ],
   "source": [
    "R = Matrix([Matrix(tens[0,1]),Matrix(tens[1,1]),Matrix(tens[2,1])])\n",
    "R"
   ]
  },
  {
   "cell_type": "code",
   "execution_count": 72,
   "id": "boxed-error",
   "metadata": {},
   "outputs": [
    {
     "data": {
      "text/latex": [
       "$\\displaystyle \\left[\\begin{matrix}a \\left(a p_{010} p_{111} - a p_{011} p_{110} - b p_{010} p_{101} + b p_{011} p_{100}\\right)\\\\b \\left(a p_{000} p_{111} - a p_{001} p_{110} - b p_{000} p_{101} + b p_{001} p_{100}\\right)\\\\- a p_{000} p_{010} p_{111} + a p_{000} p_{011} p_{110} + b p_{000} p_{010} p_{101} - b p_{001} p_{010} p_{100}\\\\- a p_{001} p_{010} p_{111} + a p_{001} p_{011} p_{110} + b p_{000} p_{011} p_{101} - b p_{001} p_{011} p_{100}\\\\- a p_{002} p_{010} p_{111} + a p_{002} p_{011} p_{110} + b p_{002} p_{010} p_{101} - b p_{002} p_{011} p_{100} + b p_{102} \\left(p_{000} p_{011} - p_{001} p_{010}\\right)\\end{matrix}\\right]$"
      ],
      "text/plain": [
       "Matrix([\n",
       "[                                                           a*(a*p_010*p_111 - a*p_011*p_110 - b*p_010*p_101 + b*p_011*p_100)],\n",
       "[                                                           b*(a*p_000*p_111 - a*p_001*p_110 - b*p_000*p_101 + b*p_001*p_100)],\n",
       "[                                      -a*p_000*p_010*p_111 + a*p_000*p_011*p_110 + b*p_000*p_010*p_101 - b*p_001*p_010*p_100],\n",
       "[                                      -a*p_001*p_010*p_111 + a*p_001*p_011*p_110 + b*p_000*p_011*p_101 - b*p_001*p_011*p_100],\n",
       "[-a*p_002*p_010*p_111 + a*p_002*p_011*p_110 + b*p_002*p_010*p_101 - b*p_002*p_011*p_100 + b*p_102*(p_000*p_011 - p_001*p_010)]])"
      ]
     },
     "execution_count": 72,
     "metadata": {},
     "output_type": "execute_result"
    }
   ],
   "source": [
    "M_sub = Matrix(M[0:5,0:5])\n",
    "L = simplify((M_sub.adjugate() @ Matrix(R[0:5]))/a)\n",
    "L"
   ]
  },
  {
   "cell_type": "code",
   "execution_count": 76,
   "id": "reasonable-detection",
   "metadata": {},
   "outputs": [
    {
     "data": {
      "text/latex": [
       "$\\displaystyle - \\left(p_{010} p_{101} \\left(p_{000} p_{011} p_{112} - p_{000} p_{012} p_{111} - p_{001} p_{010} p_{112} + p_{001} p_{012} p_{110} + p_{002} p_{010} p_{111} - p_{002} p_{011} p_{110}\\right) - p_{010} p_{111} \\left(p_{000} p_{011} p_{102} - p_{000} p_{012} p_{101} - p_{001} p_{010} p_{102} + p_{001} p_{012} p_{100} + p_{002} p_{010} p_{101} - p_{002} p_{011} p_{100}\\right) - p_{011} p_{100} \\left(p_{000} p_{011} p_{112} - p_{000} p_{012} p_{111} - p_{001} p_{010} p_{112} + p_{001} p_{012} p_{110} + p_{002} p_{010} p_{111} - p_{002} p_{011} p_{110}\\right) + p_{011} p_{110} \\left(p_{000} p_{011} p_{102} - p_{000} p_{012} p_{101} - p_{001} p_{010} p_{102} + p_{001} p_{012} p_{100} + p_{002} p_{010} p_{101} - p_{002} p_{011} p_{100}\\right)\\right) \\left(p_{000} p_{011} p_{102} - p_{000} p_{012} p_{101} - p_{001} p_{010} p_{102} + p_{001} p_{012} p_{100} + p_{002} p_{010} p_{101} - p_{002} p_{011} p_{100}\\right)$"
      ],
      "text/plain": [
       "-(p_010*p_101*(p_000*p_011*p_112 - p_000*p_012*p_111 - p_001*p_010*p_112 + p_001*p_012*p_110 + p_002*p_010*p_111 - p_002*p_011*p_110) - p_010*p_111*(p_000*p_011*p_102 - p_000*p_012*p_101 - p_001*p_010*p_102 + p_001*p_012*p_100 + p_002*p_010*p_101 - p_002*p_011*p_100) - p_011*p_100*(p_000*p_011*p_112 - p_000*p_012*p_111 - p_001*p_010*p_112 + p_001*p_012*p_110 + p_002*p_010*p_111 - p_002*p_011*p_110) + p_011*p_110*(p_000*p_011*p_102 - p_000*p_012*p_101 - p_001*p_010*p_102 + p_001*p_012*p_100 + p_002*p_010*p_101 - p_002*p_011*p_100))*(p_000*p_011*p_102 - p_000*p_012*p_101 - p_001*p_010*p_102 + p_001*p_012*p_100 + p_002*p_010*p_101 - p_002*p_011*p_100)"
      ]
     },
     "execution_count": 76,
     "metadata": {},
     "output_type": "execute_result"
    }
   ],
   "source": [
    "# symbolic equation with explicit values for a,b\n",
    "simplify(L.subs([(a, M_a.det()), (b,M_b.det())]))[0]"
   ]
  },
  {
   "cell_type": "code",
   "execution_count": 77,
   "id": "diagnostic-myrtle",
   "metadata": {},
   "outputs": [
    {
     "data": {
      "text/latex": [
       "$\\displaystyle \\left[\\begin{matrix}- \\left(p_{010} p_{101} \\left(p_{000} p_{011} p_{112} - p_{000} p_{012} p_{111} - p_{001} p_{010} p_{112} + p_{001} p_{012} p_{110} + p_{002} p_{010} p_{111} - p_{002} p_{011} p_{110}\\right) - p_{010} p_{111} \\left(p_{000} p_{011} p_{102} - p_{000} p_{012} p_{101} - p_{001} p_{010} p_{102} + p_{001} p_{012} p_{100} + p_{002} p_{010} p_{101} - p_{002} p_{011} p_{100}\\right) - p_{011} p_{100} \\left(p_{000} p_{011} p_{112} - p_{000} p_{012} p_{111} - p_{001} p_{010} p_{112} + p_{001} p_{012} p_{110} + p_{002} p_{010} p_{111} - p_{002} p_{011} p_{110}\\right) + p_{011} p_{110} \\left(p_{000} p_{011} p_{102} - p_{000} p_{012} p_{101} - p_{001} p_{010} p_{102} + p_{001} p_{012} p_{100} + p_{002} p_{010} p_{101} - p_{002} p_{011} p_{100}\\right)\\right) \\left(p_{000} p_{011} p_{102} - p_{000} p_{012} p_{101} - p_{001} p_{010} p_{102} + p_{001} p_{012} p_{100} + p_{002} p_{010} p_{101} - p_{002} p_{011} p_{100}\\right)\\\\- \\left(p_{000} p_{101} \\left(p_{000} p_{011} p_{112} - p_{000} p_{012} p_{111} - p_{001} p_{010} p_{112} + p_{001} p_{012} p_{110} + p_{002} p_{010} p_{111} - p_{002} p_{011} p_{110}\\right) - p_{000} p_{111} \\left(p_{000} p_{011} p_{102} - p_{000} p_{012} p_{101} - p_{001} p_{010} p_{102} + p_{001} p_{012} p_{100} + p_{002} p_{010} p_{101} - p_{002} p_{011} p_{100}\\right) - p_{001} p_{100} \\left(p_{000} p_{011} p_{112} - p_{000} p_{012} p_{111} - p_{001} p_{010} p_{112} + p_{001} p_{012} p_{110} + p_{002} p_{010} p_{111} - p_{002} p_{011} p_{110}\\right) + p_{001} p_{110} \\left(p_{000} p_{011} p_{102} - p_{000} p_{012} p_{101} - p_{001} p_{010} p_{102} + p_{001} p_{012} p_{100} + p_{002} p_{010} p_{101} - p_{002} p_{011} p_{100}\\right)\\right) \\left(p_{000} p_{011} p_{112} - p_{000} p_{012} p_{111} - p_{001} p_{010} p_{112} + p_{001} p_{012} p_{110} + p_{002} p_{010} p_{111} - p_{002} p_{011} p_{110}\\right)\\\\p_{000} p_{010} p_{101} \\left(p_{000} p_{011} p_{112} - p_{000} p_{012} p_{111} - p_{001} p_{010} p_{112} + p_{001} p_{012} p_{110} + p_{002} p_{010} p_{111} - p_{002} p_{011} p_{110}\\right) - p_{000} p_{010} p_{111} \\left(p_{000} p_{011} p_{102} - p_{000} p_{012} p_{101} - p_{001} p_{010} p_{102} + p_{001} p_{012} p_{100} + p_{002} p_{010} p_{101} - p_{002} p_{011} p_{100}\\right) + p_{000} p_{011} p_{110} \\left(p_{000} p_{011} p_{102} - p_{000} p_{012} p_{101} - p_{001} p_{010} p_{102} + p_{001} p_{012} p_{100} + p_{002} p_{010} p_{101} - p_{002} p_{011} p_{100}\\right) - p_{001} p_{010} p_{100} \\left(p_{000} p_{011} p_{112} - p_{000} p_{012} p_{111} - p_{001} p_{010} p_{112} + p_{001} p_{012} p_{110} + p_{002} p_{010} p_{111} - p_{002} p_{011} p_{110}\\right)\\\\p_{000} p_{011} p_{101} \\left(p_{000} p_{011} p_{112} - p_{000} p_{012} p_{111} - p_{001} p_{010} p_{112} + p_{001} p_{012} p_{110} + p_{002} p_{010} p_{111} - p_{002} p_{011} p_{110}\\right) - p_{001} p_{010} p_{111} \\left(p_{000} p_{011} p_{102} - p_{000} p_{012} p_{101} - p_{001} p_{010} p_{102} + p_{001} p_{012} p_{100} + p_{002} p_{010} p_{101} - p_{002} p_{011} p_{100}\\right) - p_{001} p_{011} p_{100} \\left(p_{000} p_{011} p_{112} - p_{000} p_{012} p_{111} - p_{001} p_{010} p_{112} + p_{001} p_{012} p_{110} + p_{002} p_{010} p_{111} - p_{002} p_{011} p_{110}\\right) + p_{001} p_{011} p_{110} \\left(p_{000} p_{011} p_{102} - p_{000} p_{012} p_{101} - p_{001} p_{010} p_{102} + p_{001} p_{012} p_{100} + p_{002} p_{010} p_{101} - p_{002} p_{011} p_{100}\\right)\\\\p_{000}^{2} p_{011}^{2} p_{102} p_{112} - p_{000}^{2} p_{011} p_{012} p_{102} p_{111} - 2 p_{000} p_{001} p_{010} p_{011} p_{102} p_{112} + p_{000} p_{001} p_{010} p_{012} p_{102} p_{111} + p_{000} p_{001} p_{011} p_{012} p_{102} p_{110} + p_{000} p_{002} p_{010} p_{011} p_{101} p_{112} - p_{000} p_{002} p_{011}^{2} p_{100} p_{112} + p_{000} p_{002} p_{011} p_{012} p_{100} p_{111} - p_{000} p_{002} p_{011} p_{012} p_{101} p_{110} + p_{001}^{2} p_{010}^{2} p_{102} p_{112} - p_{001}^{2} p_{010} p_{012} p_{102} p_{110} - p_{001} p_{002} p_{010}^{2} p_{101} p_{112} + p_{001} p_{002} p_{010} p_{011} p_{100} p_{112} - p_{001} p_{002} p_{010} p_{012} p_{100} p_{111} + p_{001} p_{002} p_{010} p_{012} p_{101} p_{110}\\end{matrix}\\right]$"
      ],
      "text/plain": [
       "Matrix([\n",
       "[-(p_010*p_101*(p_000*p_011*p_112 - p_000*p_012*p_111 - p_001*p_010*p_112 + p_001*p_012*p_110 + p_002*p_010*p_111 - p_002*p_011*p_110) - p_010*p_111*(p_000*p_011*p_102 - p_000*p_012*p_101 - p_001*p_010*p_102 + p_001*p_012*p_100 + p_002*p_010*p_101 - p_002*p_011*p_100) - p_011*p_100*(p_000*p_011*p_112 - p_000*p_012*p_111 - p_001*p_010*p_112 + p_001*p_012*p_110 + p_002*p_010*p_111 - p_002*p_011*p_110) + p_011*p_110*(p_000*p_011*p_102 - p_000*p_012*p_101 - p_001*p_010*p_102 + p_001*p_012*p_100 + p_002*p_010*p_101 - p_002*p_011*p_100))*(p_000*p_011*p_102 - p_000*p_012*p_101 - p_001*p_010*p_102 + p_001*p_012*p_100 + p_002*p_010*p_101 - p_002*p_011*p_100)],\n",
       "[-(p_000*p_101*(p_000*p_011*p_112 - p_000*p_012*p_111 - p_001*p_010*p_112 + p_001*p_012*p_110 + p_002*p_010*p_111 - p_002*p_011*p_110) - p_000*p_111*(p_000*p_011*p_102 - p_000*p_012*p_101 - p_001*p_010*p_102 + p_001*p_012*p_100 + p_002*p_010*p_101 - p_002*p_011*p_100) - p_001*p_100*(p_000*p_011*p_112 - p_000*p_012*p_111 - p_001*p_010*p_112 + p_001*p_012*p_110 + p_002*p_010*p_111 - p_002*p_011*p_110) + p_001*p_110*(p_000*p_011*p_102 - p_000*p_012*p_101 - p_001*p_010*p_102 + p_001*p_012*p_100 + p_002*p_010*p_101 - p_002*p_011*p_100))*(p_000*p_011*p_112 - p_000*p_012*p_111 - p_001*p_010*p_112 + p_001*p_012*p_110 + p_002*p_010*p_111 - p_002*p_011*p_110)],\n",
       "[                                                                                                   p_000*p_010*p_101*(p_000*p_011*p_112 - p_000*p_012*p_111 - p_001*p_010*p_112 + p_001*p_012*p_110 + p_002*p_010*p_111 - p_002*p_011*p_110) - p_000*p_010*p_111*(p_000*p_011*p_102 - p_000*p_012*p_101 - p_001*p_010*p_102 + p_001*p_012*p_100 + p_002*p_010*p_101 - p_002*p_011*p_100) + p_000*p_011*p_110*(p_000*p_011*p_102 - p_000*p_012*p_101 - p_001*p_010*p_102 + p_001*p_012*p_100 + p_002*p_010*p_101 - p_002*p_011*p_100) - p_001*p_010*p_100*(p_000*p_011*p_112 - p_000*p_012*p_111 - p_001*p_010*p_112 + p_001*p_012*p_110 + p_002*p_010*p_111 - p_002*p_011*p_110)],\n",
       "[                                                                                                   p_000*p_011*p_101*(p_000*p_011*p_112 - p_000*p_012*p_111 - p_001*p_010*p_112 + p_001*p_012*p_110 + p_002*p_010*p_111 - p_002*p_011*p_110) - p_001*p_010*p_111*(p_000*p_011*p_102 - p_000*p_012*p_101 - p_001*p_010*p_102 + p_001*p_012*p_100 + p_002*p_010*p_101 - p_002*p_011*p_100) - p_001*p_011*p_100*(p_000*p_011*p_112 - p_000*p_012*p_111 - p_001*p_010*p_112 + p_001*p_012*p_110 + p_002*p_010*p_111 - p_002*p_011*p_110) + p_001*p_011*p_110*(p_000*p_011*p_102 - p_000*p_012*p_101 - p_001*p_010*p_102 + p_001*p_012*p_100 + p_002*p_010*p_101 - p_002*p_011*p_100)],\n",
       "[                                                                                                               p_000**2*p_011**2*p_102*p_112 - p_000**2*p_011*p_012*p_102*p_111 - 2*p_000*p_001*p_010*p_011*p_102*p_112 + p_000*p_001*p_010*p_012*p_102*p_111 + p_000*p_001*p_011*p_012*p_102*p_110 + p_000*p_002*p_010*p_011*p_101*p_112 - p_000*p_002*p_011**2*p_100*p_112 + p_000*p_002*p_011*p_012*p_100*p_111 - p_000*p_002*p_011*p_012*p_101*p_110 + p_001**2*p_010**2*p_102*p_112 - p_001**2*p_010*p_012*p_102*p_110 - p_001*p_002*p_010**2*p_101*p_112 + p_001*p_002*p_010*p_011*p_100*p_112 - p_001*p_002*p_010*p_012*p_100*p_111 + p_001*p_002*p_010*p_012*p_101*p_110]])"
      ]
     },
     "execution_count": 77,
     "metadata": {},
     "output_type": "execute_result"
    }
   ],
   "source": [
    "simplify(L.subs([(a, M_a.det()), (b,M_b.det())]))"
   ]
  },
  {
   "cell_type": "code",
   "execution_count": 31,
   "id": "straight-particle",
   "metadata": {},
   "outputs": [
    {
     "name": "stdout",
     "output_type": "stream",
     "text": [
      "718733837284774.\n"
     ]
    },
    {
     "data": {
      "text/latex": [
       "$\\displaystyle \\left[\\begin{matrix}0.279100921444095\\\\3.32206827434548\\\\-4.21262530124438 \\cdot 10^{-10}\\\\-2.00355862561557 \\cdot 10^{-10}\\\\-1.60543344217581 \\cdot 10^{-10}\\end{matrix}\\right]$"
      ],
      "text/plain": [
       "Matrix([\n",
       "[    0.279100921444095],\n",
       "[     3.32206827434548],\n",
       "[-4.21262530124438e-10],\n",
       "[-2.00355862561557e-10],\n",
       "[-1.60543344217581e-10]])"
      ]
     },
     "execution_count": 31,
     "metadata": {},
     "output_type": "execute_result"
    }
   ],
   "source": [
    "#tens = tl.tensor(np.random.randint(1, 100000, size=(3,2,2)))*1.0\n",
    "\n",
    "M1 = Matrix([[M,R]])\n",
    "#display(Latex(latex(M1)))\n",
    "l = solve(M1.det()/b)[0]\n",
    "M_1 = Matrix([[tens[0][0][0],0,a,0,0],[0,tens[0][0][1],l,0,0],\n",
    "              [tens[1][0][0],0,0,a,0],[0,tens[1][0][1],0,l,0],\n",
    "              [tens[2][0][0],0,0,0,a],[0,tens[2][0][1],0,0,l]])\n",
    "M_2 = (M_1,R)\n",
    "print(l)\n",
    "N = np.array(M_1, dtype= 'float')\n",
    "sol = la.solve(N.T @ N, N.T @ np.array(R, dtype='float'))\n",
    "M_sub = Matrix(M_1[0:5,0:5])\n",
    "M_sub.adjugate() * Matrix(R[0:5]) /det(M_sub)"
   ]
  },
  {
   "cell_type": "code",
   "execution_count": 42,
   "id": "circular-cleveland",
   "metadata": {},
   "outputs": [
    {
     "data": {
      "text/latex": [
       "$\\displaystyle \\left[\\begin{matrix}9642.0 & 0 & 1 & 0 & 0\\\\0 & 4780.0 & 0.439354549529377 & 0 & 0\\\\12447.0 & 0 & 0 & 1 & 0\\\\0 & 7114.0 & 0 & 0.439354549529377 & 0\\\\7116.0 & 0 & 0 & 0 & 1\\\\0 & 4152.0 & 0 & 0 & 0.439354549529377\\end{matrix}\\right]$"
      ],
      "text/plain": [
       "Matrix([\n",
       "[ 9642.0,      0,                 1,                 0,                 0],\n",
       "[      0, 4780.0, 0.439354549529377,                 0,                 0],\n",
       "[12447.0,      0,                 0,                 1,                 0],\n",
       "[      0, 7114.0,                 0, 0.439354549529377,                 0],\n",
       "[ 7116.0,      0,                 0,                 0,                 1],\n",
       "[      0, 4152.0,                 0,                 0, 0.439354549529377]])"
      ]
     },
     "execution_count": 42,
     "metadata": {},
     "output_type": "execute_result"
    }
   ],
   "source": [
    "M_1"
   ]
  },
  {
   "cell_type": "code",
   "execution_count": 48,
   "id": "unsigned-insulation",
   "metadata": {},
   "outputs": [
    {
     "data": {
      "text/latex": [
       "$\\displaystyle \\left[\\begin{matrix}11890315.9809953\\\\9041167.66194879\\\\-61723436753.7098\\\\-79489029329.6207\\\\-45980343624.7638\\end{matrix}\\right]$"
      ],
      "text/plain": [
       "Matrix([\n",
       "[ 11890315.9809953],\n",
       "[ 9041167.66194879],\n",
       "[-61723436753.7098],\n",
       "[-79489029329.6207],\n",
       "[-45980343624.7638]])"
      ]
     },
     "execution_count": 48,
     "metadata": {},
     "output_type": "execute_result"
    }
   ],
   "source": [
    "M_sub = Matrix(M_1[0:5,0:5])\n",
    "M_sub.adjugate() * Matrix(R[0:5]) "
   ]
  },
  {
   "cell_type": "code",
   "execution_count": 28,
   "id": "reserved-cowboy",
   "metadata": {},
   "outputs": [
    {
     "data": {
      "text/plain": [
       "[{b: (p_000*p_011*p_112 - p_000*p_012*p_111 - p_001*p_010*p_112 + p_001*p_012*p_110 + p_002*p_010*p_111 - p_002*p_011*p_110)/(p_000*p_011*p_102 - p_000*p_012*p_101 - p_001*p_010*p_102 + p_001*p_012*p_100 + p_002*p_010*p_101 - p_002*p_011*p_100)}]"
      ]
     },
     "execution_count": 28,
     "metadata": {},
     "output_type": "execute_result"
    }
   ],
   "source": [
    "M = Matrix([[p_000,0,1,0,0],[0,p_010,b,0,0],\n",
    "       [p_001,0,0,1,0],[0,p_011,0,b,0],\n",
    "      [p_002,0,0,0,1],[0,p_012,0,0,b]])\n",
    "R = Matrix([p_100, p_110, p_101, p_111, p_102, p_112])\n",
    "a= 1\n",
    "bs = solve((Matrix([[M,R]]).det()/b).simplify())"
   ]
  },
  {
   "cell_type": "code",
   "execution_count": 29,
   "id": "victorian-disabled",
   "metadata": {},
   "outputs": [],
   "source": [
    "bs = solve((Matrix([[M,R]]).det()/b).simplify())\n",
    "bs"
   ]
  },
  {
   "cell_type": "code",
   "execution_count": 7,
   "id": "dress-structure",
   "metadata": {},
   "outputs": [],
   "source": [
    "def proc_new(i):\n",
    "    tens = rank_tree()\n",
    "    tens = tl.tensor(np.random.randint(1, 100000, size=(3,2,2)))*1.0\n",
    "    a= 1\n",
    "    M = Matrix([[tens[0][0][0],0,a,0,0],[0,tens[0][0][1],b,0,0],\n",
    "                [tens[1][0][0],0,0,a,0],[0,tens[1][0][1],0,b,0],\n",
    "                [tens[2][0][0],0,0,0,a],[0,tens[2][0][1],0,0,b]])\n",
    "    R = Matrix([Matrix(tens[0,1]),Matrix(tens[1,1]),Matrix(tens[2,1])])\n",
    "    M1 = Matrix([[M,R]])\n",
    "    #display(Latex(latex(M1)))\n",
    "    sol = solve(M1.det()/b)\n",
    "    if len(sol) == 0:\n",
    "        return (0,1)\n",
    "    l = sol[0]\n",
    "    M_1 = Matrix([[tens[0][0][0],0,a,0,0],[0,tens[0][0][1],l,0,0],\n",
    "                  [tens[1][0][0],0,0,a,0],[0,tens[1][0][1],0,l,0],\n",
    "                  [tens[2][0][0],0,0,0,a],[0,tens[2][0][1],0,0,l]])\n",
    "    N = np.array(M_1, dtype= 'float')\n",
    "    sol = la.solve(N.T @ N, N.T @ np.array(R, dtype='float'))\n",
    "    cond = np.all(sol >= 0) and l >= 0\n",
    "    cond1 = check_r4(tens)\n",
    "    ret = [0,0,0]\n",
    "    if cond and cond1:\n",
    "        ret[0] = 1\n",
    "    if cond:\n",
    "        ret[1] = 1\n",
    "    if cond1:\n",
    "        ret[2] = 1\n",
    "    return tuple(ret)"
   ]
  },
  {
   "cell_type": "code",
   "execution_count": 9,
   "id": "lined-nirvana",
   "metadata": {},
   "outputs": [
    {
     "name": "stdout",
     "output_type": "stream",
     "text": [
      "[0, 500, 5071]\n",
      "262.84266114234924\n"
     ]
    }
   ],
   "source": [
    "te = time.time()\n",
    "total = 10000\n",
    "results = Parallel(n_jobs=4)(delayed(proc_new)(i) for i in range(total))\n",
    "res = [sum(x) for x in zip(*results)]\n",
    "print(res)\n",
    "print(time.time() - te)"
   ]
  },
  {
   "cell_type": "code",
   "execution_count": null,
   "id": "expanded-leadership",
   "metadata": {},
   "outputs": [],
   "source": []
  }
 ],
 "metadata": {
  "kernelspec": {
   "display_name": "Python 3",
   "language": "python",
   "name": "python3"
  },
  "language_info": {
   "codemirror_mode": {
    "name": "ipython",
    "version": 3
   },
   "file_extension": ".py",
   "mimetype": "text/x-python",
   "name": "python",
   "nbconvert_exporter": "python",
   "pygments_lexer": "ipython3",
   "version": "3.9.1"
  }
 },
 "nbformat": 4,
 "nbformat_minor": 5
}
