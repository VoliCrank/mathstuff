{
 "cells": [
  {
   "cell_type": "code",
   "execution_count": 1,
   "id": "3ac4f6c5-0eca-408a-bce2-13587ce9ff66",
   "metadata": {},
   "outputs": [],
   "source": [
    "import tensorly as tl\n",
    "import numpy as np\n",
    "from numpy import linalg as la\n",
    "from sympy import *\n",
    "\n",
    "from tensorly.decomposition import parafac\n",
    "from tensorly.decomposition import non_negative_parafac_hals"
   ]
  },
  {
   "cell_type": "code",
   "execution_count": 2,
   "id": "61c8e43f-2fca-4706-a216-fe40fac9eefa",
   "metadata": {},
   "outputs": [],
   "source": [
    "def check_rank(tensor, rank, non_neg=True, n=10, tol=0.001, p=False):\n",
    "    if non_neg:\n",
    "        for k in range(n):\n",
    "            weights, factors = non_negative_parafac_hals(tensor, n_iter_max=1000000, rank=rank, init='random')\n",
    "            full = tl.cp_to_tensor((weights, factors))\n",
    "            diff = (full - tensor) / tensor\n",
    "            if p:\n",
    "                # print(full)\n",
    "                print(tl.max(abs(diff)))\n",
    "            if tl.max(abs(diff)) < tol:\n",
    "                return True\n",
    "    else:\n",
    "        for k in range(n):\n",
    "            weights, factors = parafac(tensor, n_iter_max=1000000, rank=rank)\n",
    "            full = tl.cp_to_tensor((weights, factors))\n",
    "            diff = (full - tensor) / tensor\n",
    "            if p:\n",
    "                print(tl.max(abs(diff)))\n",
    "            if tl.max(abs(diff)) < tol:\n",
    "                return True\n",
    "    return False\n",
    "\n",
    "#generates random rank 3 tensors\n",
    "def rank_tree():\n",
    "    return (low_tensor() + low_tensor() + low_tensor()) \n",
    "\n",
    "#generates random rank 4+ (hopefully) tensors\n",
    "def rank_for():\n",
    "    return  (low_tensor() + low_tensor() + low_tensor() + low_tensor())\n",
    "\n",
    "\n",
    "# generates rank 1, 2x2x3 tensors\n",
    "def low_tensor():\n",
    "    max = 30\n",
    "    a = np.random.randint(1, max, size=3)\n",
    "    b = np.random.randint(1, max, size=3)\n",
    "    c = np.random.randint(1, max, size=3)\n",
    "    tens = tl.tensor(np.kron(np.kron(a, b), c).reshape(3, 3, 3)) * 1.0\n",
    "    return (tens, a,b,c)"
   ]
  },
  {
   "cell_type": "code",
   "execution_count": 3,
   "id": "bf0de7ec-4877-4055-b030-b4614164ead1",
   "metadata": {},
   "outputs": [],
   "source": [
    "def check(t, p = False):\n",
    "    p000 = t[0][0][0]\n",
    "    p001 = t[1][0][0]\n",
    "    p002 = t[2][0][0]\n",
    "    p100 = t[0][1][0]\n",
    "    p101 = t[1][1][0]\n",
    "    p102 = t[2][1][0]\n",
    "    p010 = t[0][0][1]\n",
    "    p011 = t[1][0][1]\n",
    "    p012 = t[2][0][1]\n",
    "    p110 = t[0][1][1]\n",
    "    p111 = t[1][1][1]\n",
    "    p112 = t[2][1][1]\n",
    "    p210 = t[0][2][1]\n",
    "    p211 = t[1][1][2]\n",
    "    p212 = t[2][2][1]\n",
    "    p220 = t[0][2][2]\n",
    "    p221 = t[1][2][2]\n",
    "    p222 = t[2][2][2]\n",
    "    p120 = t[0][1][2]\n",
    "    p121 = t[1][1][2]\n",
    "    p122 = t[2][1][2]\n",
    "    p200 = t[0][2][0]\n",
    "    p201 = t[1][2][0]\n",
    "    p202 = t[2][2][0]\n",
    "    p020 = t[0][0][2]\n",
    "    p021 = t[1][0][2]\n",
    "    p022 = t[2][0][2]\n",
    "    \n",
    "\n",
    "def check_req(p):\n",
    "    d1 = Matrix(p[0])\n",
    "    d2 = Matrix(p[1])\n",
    "    d3 = Matrix(p[2])\n",
    "    v1 = Matrix(p[:,:,0])\n",
    "    v2 = Matrix(p[:,:,1])\n",
    "    v3 = Matrix(p[:,:,2])\n",
    "    h1 = Matrix(p[:,0])\n",
    "    h2 = Matrix(p[:,1])\n",
    "    h3 = Matrix(p[:,2])\n",
    "    zero = Matrix([[0, 0, 0], [0, 0, 0], [0, 0, 0]])\n",
    "    d1a = d1.adjugate()\n",
    "    d2a = d2.adjugate()\n",
    "    d3a = d3.adjugate()\n",
    "    v1a = v1.adjugate()\n",
    "    v2a = v2.adjugate()\n",
    "    v3a = v3.adjugate()\n",
    "    h1a = h1.adjugate()\n",
    "    h2a = h2.adjugate()\n",
    "    h3a = h3.adjugate()\n",
    "    a1 = d1 * d2a * d3 - d3* d2a * d1\n",
    "    a2 = d2 * d3a * d1 - d1* d3a * d2\n",
    "    a3 = d3 * d1a * d2 - d2* d1a * d3\n",
    "    b1 = v1 * v2a * v3 - v3* v2a * v1 \n",
    "    b2 = v2 * v3a * v1 - v1* v3a * v2 \n",
    "    b3 = v3 * v1a * v2 - v2* v1a * v3 \n",
    "    c1 = h1 * h2a * h3 - h3* h2a * h1\n",
    "    c2 = h2 * h3a * h1 - h1* h3a * h2 \n",
    "    c3 = h3 * h1a * h2 - h2* h1a * h3 \n",
    "    #print(a1,a2,a3)\n",
    "    #print(a,b,c)\n",
    "    a = check(a1) and check(a2) and check(a3)\n",
    "    b = check(b1) and check(b2) and check(b3)\n",
    "    c = check(c1) and check(c2) and check(c3)\n",
    "    return a or b or c\n",
    "    \n",
    "def check(a):\n",
    "    return max(abs(a)) < 5\n"
   ]
  },
  {
   "cell_type": "code",
   "execution_count": 4,
   "id": "8dd876a0-79d7-4395-98c0-a58755a7c612",
   "metadata": {},
   "outputs": [
    {
     "ename": "KeyboardInterrupt",
     "evalue": "",
     "output_type": "error",
     "traceback": [
      "\u001b[1;31m---------------------------------------------------------------------------\u001b[0m",
      "\u001b[1;31mKeyError\u001b[0m                                  Traceback (most recent call last)",
      "\u001b[1;32mc:\\users\\alex\\appdata\\local\\programs\\python\\python39\\lib\\site-packages\\sympy\\core\\assumptions.py\u001b[0m in \u001b[0;36mgetit\u001b[1;34m(self)\u001b[0m\n\u001b[0;32m    453\u001b[0m         \u001b[1;32mtry\u001b[0m\u001b[1;33m:\u001b[0m\u001b[1;33m\u001b[0m\u001b[1;33m\u001b[0m\u001b[0m\n\u001b[1;32m--> 454\u001b[1;33m             \u001b[1;32mreturn\u001b[0m \u001b[0mself\u001b[0m\u001b[1;33m.\u001b[0m\u001b[0m_assumptions\u001b[0m\u001b[1;33m[\u001b[0m\u001b[0mfact\u001b[0m\u001b[1;33m]\u001b[0m\u001b[1;33m\u001b[0m\u001b[1;33m\u001b[0m\u001b[0m\n\u001b[0m\u001b[0;32m    455\u001b[0m         \u001b[1;32mexcept\u001b[0m \u001b[0mKeyError\u001b[0m\u001b[1;33m:\u001b[0m\u001b[1;33m\u001b[0m\u001b[1;33m\u001b[0m\u001b[0m\n",
      "\u001b[1;31mKeyError\u001b[0m: 'zero'",
      "\nDuring handling of the above exception, another exception occurred:\n",
      "\u001b[1;31mKeyboardInterrupt\u001b[0m                         Traceback (most recent call last)",
      "\u001b[1;32m<ipython-input-4-abf57d076a44>\u001b[0m in \u001b[0;36m<module>\u001b[1;34m\u001b[0m\n\u001b[0;32m     10\u001b[0m     \u001b[1;32mif\u001b[0m \u001b[0mv\u001b[0m\u001b[1;33m%\u001b[0m\u001b[1;36m2\u001b[0m \u001b[1;33m==\u001b[0m \u001b[1;36m0\u001b[0m\u001b[1;33m:\u001b[0m\u001b[1;33m\u001b[0m\u001b[1;33m\u001b[0m\u001b[0m\n\u001b[0;32m     11\u001b[0m         \u001b[0mt\u001b[0m \u001b[1;33m=\u001b[0m \u001b[0mnp\u001b[0m\u001b[1;33m.\u001b[0m\u001b[0mrandom\u001b[0m\u001b[1;33m.\u001b[0m\u001b[0mrandint\u001b[0m\u001b[1;33m(\u001b[0m\u001b[1;36m0\u001b[0m\u001b[1;33m,\u001b[0m\u001b[1;36m100000\u001b[0m\u001b[1;33m,\u001b[0m\u001b[0msize\u001b[0m \u001b[1;33m=\u001b[0m \u001b[1;33m(\u001b[0m\u001b[1;36m3\u001b[0m\u001b[1;33m,\u001b[0m\u001b[1;36m3\u001b[0m\u001b[1;33m,\u001b[0m\u001b[1;36m3\u001b[0m\u001b[1;33m)\u001b[0m\u001b[1;33m)\u001b[0m\u001b[1;33m\u001b[0m\u001b[1;33m\u001b[0m\u001b[0m\n\u001b[1;32m---> 12\u001b[1;33m     \u001b[0mkey\u001b[0m \u001b[1;33m=\u001b[0m \u001b[0mcheck_req\u001b[0m\u001b[1;33m(\u001b[0m\u001b[0mt\u001b[0m\u001b[1;33m)\u001b[0m\u001b[1;33m\u001b[0m\u001b[1;33m\u001b[0m\u001b[0m\n\u001b[0m\u001b[0;32m     13\u001b[0m     \u001b[0mres\u001b[0m\u001b[1;33m[\u001b[0m\u001b[0mkey\u001b[0m\u001b[1;33m]\u001b[0m \u001b[1;33m=\u001b[0m \u001b[0mres\u001b[0m\u001b[1;33m[\u001b[0m\u001b[0mkey\u001b[0m\u001b[1;33m]\u001b[0m \u001b[1;33m+\u001b[0m \u001b[1;36m1\u001b[0m\u001b[1;33m\u001b[0m\u001b[1;33m\u001b[0m\u001b[0m\n\u001b[0;32m     14\u001b[0m     \u001b[1;32mif\u001b[0m \u001b[0mkey\u001b[0m \u001b[1;32mand\u001b[0m \u001b[1;32mnot\u001b[0m \u001b[0mcheck_rank\u001b[0m\u001b[1;33m(\u001b[0m\u001b[0mt\u001b[0m\u001b[1;33m,\u001b[0m\u001b[1;36m3\u001b[0m\u001b[1;33m,\u001b[0m \u001b[0mtol\u001b[0m \u001b[1;33m=\u001b[0m \u001b[1;36m0.01\u001b[0m\u001b[1;33m)\u001b[0m\u001b[1;33m:\u001b[0m\u001b[1;33m\u001b[0m\u001b[1;33m\u001b[0m\u001b[0m\n",
      "\u001b[1;32m<ipython-input-3-c7df78650f8c>\u001b[0m in \u001b[0;36mcheck_req\u001b[1;34m(p)\u001b[0m\n\u001b[0;32m     51\u001b[0m     \u001b[0ma1\u001b[0m \u001b[1;33m=\u001b[0m \u001b[0md1\u001b[0m \u001b[1;33m*\u001b[0m \u001b[0md2a\u001b[0m \u001b[1;33m*\u001b[0m \u001b[0md3\u001b[0m \u001b[1;33m-\u001b[0m \u001b[0md3\u001b[0m\u001b[1;33m*\u001b[0m \u001b[0md2a\u001b[0m \u001b[1;33m*\u001b[0m \u001b[0md1\u001b[0m\u001b[1;33m\u001b[0m\u001b[1;33m\u001b[0m\u001b[0m\n\u001b[0;32m     52\u001b[0m     \u001b[0ma2\u001b[0m \u001b[1;33m=\u001b[0m \u001b[0md2\u001b[0m \u001b[1;33m*\u001b[0m \u001b[0md3a\u001b[0m \u001b[1;33m*\u001b[0m \u001b[0md1\u001b[0m \u001b[1;33m-\u001b[0m \u001b[0md1\u001b[0m\u001b[1;33m*\u001b[0m \u001b[0md3a\u001b[0m \u001b[1;33m*\u001b[0m \u001b[0md2\u001b[0m\u001b[1;33m\u001b[0m\u001b[1;33m\u001b[0m\u001b[0m\n\u001b[1;32m---> 53\u001b[1;33m     \u001b[0ma3\u001b[0m \u001b[1;33m=\u001b[0m \u001b[0md3\u001b[0m \u001b[1;33m*\u001b[0m \u001b[0md1a\u001b[0m \u001b[1;33m*\u001b[0m \u001b[0md2\u001b[0m \u001b[1;33m-\u001b[0m \u001b[0md2\u001b[0m\u001b[1;33m*\u001b[0m \u001b[0md1a\u001b[0m \u001b[1;33m*\u001b[0m \u001b[0md3\u001b[0m\u001b[1;33m\u001b[0m\u001b[1;33m\u001b[0m\u001b[0m\n\u001b[0m\u001b[0;32m     54\u001b[0m     \u001b[0mb1\u001b[0m \u001b[1;33m=\u001b[0m \u001b[0mv1\u001b[0m \u001b[1;33m*\u001b[0m \u001b[0mv2a\u001b[0m \u001b[1;33m*\u001b[0m \u001b[0mv3\u001b[0m \u001b[1;33m-\u001b[0m \u001b[0mv3\u001b[0m\u001b[1;33m*\u001b[0m \u001b[0mv2a\u001b[0m \u001b[1;33m*\u001b[0m \u001b[0mv1\u001b[0m\u001b[1;33m\u001b[0m\u001b[1;33m\u001b[0m\u001b[0m\n\u001b[0;32m     55\u001b[0m     \u001b[0mb2\u001b[0m \u001b[1;33m=\u001b[0m \u001b[0mv2\u001b[0m \u001b[1;33m*\u001b[0m \u001b[0mv3a\u001b[0m \u001b[1;33m*\u001b[0m \u001b[0mv1\u001b[0m \u001b[1;33m-\u001b[0m \u001b[0mv1\u001b[0m\u001b[1;33m*\u001b[0m \u001b[0mv3a\u001b[0m \u001b[1;33m*\u001b[0m \u001b[0mv2\u001b[0m\u001b[1;33m\u001b[0m\u001b[1;33m\u001b[0m\u001b[0m\n",
      "\u001b[1;32mc:\\users\\alex\\appdata\\local\\programs\\python\\python39\\lib\\site-packages\\sympy\\core\\decorators.py\u001b[0m in \u001b[0;36mbinary_op_wrapper\u001b[1;34m(self, other)\u001b[0m\n\u001b[0;32m    134\u001b[0m                     \u001b[1;32mif\u001b[0m \u001b[0mf\u001b[0m \u001b[1;32mis\u001b[0m \u001b[1;32mnot\u001b[0m \u001b[1;32mNone\u001b[0m\u001b[1;33m:\u001b[0m\u001b[1;33m\u001b[0m\u001b[1;33m\u001b[0m\u001b[0m\n\u001b[0;32m    135\u001b[0m                         \u001b[1;32mreturn\u001b[0m \u001b[0mf\u001b[0m\u001b[1;33m(\u001b[0m\u001b[0mself\u001b[0m\u001b[1;33m)\u001b[0m\u001b[1;33m\u001b[0m\u001b[1;33m\u001b[0m\u001b[0m\n\u001b[1;32m--> 136\u001b[1;33m             \u001b[1;32mreturn\u001b[0m \u001b[0mfunc\u001b[0m\u001b[1;33m(\u001b[0m\u001b[0mself\u001b[0m\u001b[1;33m,\u001b[0m \u001b[0mother\u001b[0m\u001b[1;33m)\u001b[0m\u001b[1;33m\u001b[0m\u001b[1;33m\u001b[0m\u001b[0m\n\u001b[0m\u001b[0;32m    137\u001b[0m         \u001b[1;32mreturn\u001b[0m \u001b[0mbinary_op_wrapper\u001b[0m\u001b[1;33m\u001b[0m\u001b[1;33m\u001b[0m\u001b[0m\n\u001b[0;32m    138\u001b[0m     \u001b[1;32mreturn\u001b[0m \u001b[0mpriority_decorator\u001b[0m\u001b[1;33m\u001b[0m\u001b[1;33m\u001b[0m\u001b[0m\n",
      "\u001b[1;32mc:\\users\\alex\\appdata\\local\\programs\\python\\python39\\lib\\site-packages\\sympy\\matrices\\common.py\u001b[0m in \u001b[0;36m__sub__\u001b[1;34m(self, a)\u001b[0m\n\u001b[0;32m   2975\u001b[0m     \u001b[1;33m@\u001b[0m\u001b[0mcall_highest_priority\u001b[0m\u001b[1;33m(\u001b[0m\u001b[1;34m'__rsub__'\u001b[0m\u001b[1;33m)\u001b[0m\u001b[1;33m\u001b[0m\u001b[1;33m\u001b[0m\u001b[0m\n\u001b[0;32m   2976\u001b[0m     \u001b[1;32mdef\u001b[0m \u001b[0m__sub__\u001b[0m\u001b[1;33m(\u001b[0m\u001b[0mself\u001b[0m\u001b[1;33m,\u001b[0m \u001b[0ma\u001b[0m\u001b[1;33m)\u001b[0m\u001b[1;33m:\u001b[0m\u001b[1;33m\u001b[0m\u001b[1;33m\u001b[0m\u001b[0m\n\u001b[1;32m-> 2977\u001b[1;33m         \u001b[1;32mreturn\u001b[0m \u001b[0mself\u001b[0m \u001b[1;33m+\u001b[0m \u001b[1;33m(\u001b[0m\u001b[1;33m-\u001b[0m\u001b[0ma\u001b[0m\u001b[1;33m)\u001b[0m\u001b[1;33m\u001b[0m\u001b[1;33m\u001b[0m\u001b[0m\n\u001b[0m\u001b[0;32m   2978\u001b[0m \u001b[1;33m\u001b[0m\u001b[0m\n\u001b[0;32m   2979\u001b[0m class MatrixCommon(MatrixArithmetic, MatrixOperations, MatrixProperties,\n",
      "\u001b[1;32mc:\\users\\alex\\appdata\\local\\programs\\python\\python39\\lib\\site-packages\\sympy\\matrices\\common.py\u001b[0m in \u001b[0;36m__neg__\u001b[1;34m(self)\u001b[0m\n\u001b[0;32m   2812\u001b[0m \u001b[1;33m\u001b[0m\u001b[0m\n\u001b[0;32m   2813\u001b[0m     \u001b[1;32mdef\u001b[0m \u001b[0m__neg__\u001b[0m\u001b[1;33m(\u001b[0m\u001b[0mself\u001b[0m\u001b[1;33m)\u001b[0m\u001b[1;33m:\u001b[0m\u001b[1;33m\u001b[0m\u001b[1;33m\u001b[0m\u001b[0m\n\u001b[1;32m-> 2814\u001b[1;33m         \u001b[1;32mreturn\u001b[0m \u001b[0mself\u001b[0m\u001b[1;33m.\u001b[0m\u001b[0m_eval_scalar_mul\u001b[0m\u001b[1;33m(\u001b[0m\u001b[1;33m-\u001b[0m\u001b[1;36m1\u001b[0m\u001b[1;33m)\u001b[0m\u001b[1;33m\u001b[0m\u001b[1;33m\u001b[0m\u001b[0m\n\u001b[0m\u001b[0;32m   2815\u001b[0m \u001b[1;33m\u001b[0m\u001b[0m\n\u001b[0;32m   2816\u001b[0m     \u001b[1;33m@\u001b[0m\u001b[0mcall_highest_priority\u001b[0m\u001b[1;33m(\u001b[0m\u001b[1;34m'__rpow__'\u001b[0m\u001b[1;33m)\u001b[0m\u001b[1;33m\u001b[0m\u001b[1;33m\u001b[0m\u001b[0m\n",
      "\u001b[1;32mc:\\users\\alex\\appdata\\local\\programs\\python\\python39\\lib\\site-packages\\sympy\\matrices\\dense.py\u001b[0m in \u001b[0;36m_eval_scalar_mul\u001b[1;34m(self, other)\u001b[0m\n\u001b[0;32m    180\u001b[0m \u001b[1;33m\u001b[0m\u001b[0m\n\u001b[0;32m    181\u001b[0m     \u001b[1;32mdef\u001b[0m \u001b[0m_eval_scalar_mul\u001b[0m\u001b[1;33m(\u001b[0m\u001b[0mself\u001b[0m\u001b[1;33m,\u001b[0m \u001b[0mother\u001b[0m\u001b[1;33m)\u001b[0m\u001b[1;33m:\u001b[0m\u001b[1;33m\u001b[0m\u001b[1;33m\u001b[0m\u001b[0m\n\u001b[1;32m--> 182\u001b[1;33m         \u001b[0mmat\u001b[0m \u001b[1;33m=\u001b[0m \u001b[1;33m[\u001b[0m\u001b[0mother\u001b[0m\u001b[1;33m*\u001b[0m\u001b[0ma\u001b[0m \u001b[1;32mfor\u001b[0m \u001b[0ma\u001b[0m \u001b[1;32min\u001b[0m \u001b[0mself\u001b[0m\u001b[1;33m.\u001b[0m\u001b[0m_mat\u001b[0m\u001b[1;33m]\u001b[0m\u001b[1;33m\u001b[0m\u001b[1;33m\u001b[0m\u001b[0m\n\u001b[0m\u001b[0;32m    183\u001b[0m         \u001b[1;32mreturn\u001b[0m \u001b[0mself\u001b[0m\u001b[1;33m.\u001b[0m\u001b[0m_new\u001b[0m\u001b[1;33m(\u001b[0m\u001b[0mself\u001b[0m\u001b[1;33m.\u001b[0m\u001b[0mrows\u001b[0m\u001b[1;33m,\u001b[0m \u001b[0mself\u001b[0m\u001b[1;33m.\u001b[0m\u001b[0mcols\u001b[0m\u001b[1;33m,\u001b[0m \u001b[0mmat\u001b[0m\u001b[1;33m,\u001b[0m \u001b[0mcopy\u001b[0m\u001b[1;33m=\u001b[0m\u001b[1;32mFalse\u001b[0m\u001b[1;33m)\u001b[0m\u001b[1;33m\u001b[0m\u001b[1;33m\u001b[0m\u001b[0m\n\u001b[0;32m    184\u001b[0m \u001b[1;33m\u001b[0m\u001b[0m\n",
      "\u001b[1;32mc:\\users\\alex\\appdata\\local\\programs\\python\\python39\\lib\\site-packages\\sympy\\matrices\\dense.py\u001b[0m in \u001b[0;36m<listcomp>\u001b[1;34m(.0)\u001b[0m\n\u001b[0;32m    180\u001b[0m \u001b[1;33m\u001b[0m\u001b[0m\n\u001b[0;32m    181\u001b[0m     \u001b[1;32mdef\u001b[0m \u001b[0m_eval_scalar_mul\u001b[0m\u001b[1;33m(\u001b[0m\u001b[0mself\u001b[0m\u001b[1;33m,\u001b[0m \u001b[0mother\u001b[0m\u001b[1;33m)\u001b[0m\u001b[1;33m:\u001b[0m\u001b[1;33m\u001b[0m\u001b[1;33m\u001b[0m\u001b[0m\n\u001b[1;32m--> 182\u001b[1;33m         \u001b[0mmat\u001b[0m \u001b[1;33m=\u001b[0m \u001b[1;33m[\u001b[0m\u001b[0mother\u001b[0m\u001b[1;33m*\u001b[0m\u001b[0ma\u001b[0m \u001b[1;32mfor\u001b[0m \u001b[0ma\u001b[0m \u001b[1;32min\u001b[0m \u001b[0mself\u001b[0m\u001b[1;33m.\u001b[0m\u001b[0m_mat\u001b[0m\u001b[1;33m]\u001b[0m\u001b[1;33m\u001b[0m\u001b[1;33m\u001b[0m\u001b[0m\n\u001b[0m\u001b[0;32m    183\u001b[0m         \u001b[1;32mreturn\u001b[0m \u001b[0mself\u001b[0m\u001b[1;33m.\u001b[0m\u001b[0m_new\u001b[0m\u001b[1;33m(\u001b[0m\u001b[0mself\u001b[0m\u001b[1;33m.\u001b[0m\u001b[0mrows\u001b[0m\u001b[1;33m,\u001b[0m \u001b[0mself\u001b[0m\u001b[1;33m.\u001b[0m\u001b[0mcols\u001b[0m\u001b[1;33m,\u001b[0m \u001b[0mmat\u001b[0m\u001b[1;33m,\u001b[0m \u001b[0mcopy\u001b[0m\u001b[1;33m=\u001b[0m\u001b[1;32mFalse\u001b[0m\u001b[1;33m)\u001b[0m\u001b[1;33m\u001b[0m\u001b[1;33m\u001b[0m\u001b[0m\n\u001b[0;32m    184\u001b[0m \u001b[1;33m\u001b[0m\u001b[0m\n",
      "\u001b[1;32mc:\\users\\alex\\appdata\\local\\programs\\python\\python39\\lib\\site-packages\\sympy\\core\\decorators.py\u001b[0m in \u001b[0;36m_func\u001b[1;34m(self, other)\u001b[0m\n\u001b[0;32m    264\u001b[0m             \u001b[1;32mif\u001b[0m \u001b[1;32mnot\u001b[0m \u001b[0misinstance\u001b[0m\u001b[1;33m(\u001b[0m\u001b[0mother\u001b[0m\u001b[1;33m,\u001b[0m \u001b[0mexpectedcls\u001b[0m\u001b[1;33m)\u001b[0m\u001b[1;33m:\u001b[0m\u001b[1;33m\u001b[0m\u001b[1;33m\u001b[0m\u001b[0m\n\u001b[0;32m    265\u001b[0m                 \u001b[1;32mreturn\u001b[0m \u001b[0mretval\u001b[0m\u001b[1;33m\u001b[0m\u001b[1;33m\u001b[0m\u001b[0m\n\u001b[1;32m--> 266\u001b[1;33m             \u001b[1;32mreturn\u001b[0m \u001b[0mfunc\u001b[0m\u001b[1;33m(\u001b[0m\u001b[0mself\u001b[0m\u001b[1;33m,\u001b[0m \u001b[0mother\u001b[0m\u001b[1;33m)\u001b[0m\u001b[1;33m\u001b[0m\u001b[1;33m\u001b[0m\u001b[0m\n\u001b[0m\u001b[0;32m    267\u001b[0m \u001b[1;33m\u001b[0m\u001b[0m\n\u001b[0;32m    268\u001b[0m         \u001b[1;32mreturn\u001b[0m \u001b[0m_func\u001b[0m\u001b[1;33m\u001b[0m\u001b[1;33m\u001b[0m\u001b[0m\n",
      "\u001b[1;32mc:\\users\\alex\\appdata\\local\\programs\\python\\python39\\lib\\site-packages\\sympy\\core\\decorators.py\u001b[0m in \u001b[0;36mbinary_op_wrapper\u001b[1;34m(self, other)\u001b[0m\n\u001b[0;32m    134\u001b[0m                     \u001b[1;32mif\u001b[0m \u001b[0mf\u001b[0m \u001b[1;32mis\u001b[0m \u001b[1;32mnot\u001b[0m \u001b[1;32mNone\u001b[0m\u001b[1;33m:\u001b[0m\u001b[1;33m\u001b[0m\u001b[1;33m\u001b[0m\u001b[0m\n\u001b[0;32m    135\u001b[0m                         \u001b[1;32mreturn\u001b[0m \u001b[0mf\u001b[0m\u001b[1;33m(\u001b[0m\u001b[0mself\u001b[0m\u001b[1;33m)\u001b[0m\u001b[1;33m\u001b[0m\u001b[1;33m\u001b[0m\u001b[0m\n\u001b[1;32m--> 136\u001b[1;33m             \u001b[1;32mreturn\u001b[0m \u001b[0mfunc\u001b[0m\u001b[1;33m(\u001b[0m\u001b[0mself\u001b[0m\u001b[1;33m,\u001b[0m \u001b[0mother\u001b[0m\u001b[1;33m)\u001b[0m\u001b[1;33m\u001b[0m\u001b[1;33m\u001b[0m\u001b[0m\n\u001b[0m\u001b[0;32m    137\u001b[0m         \u001b[1;32mreturn\u001b[0m \u001b[0mbinary_op_wrapper\u001b[0m\u001b[1;33m\u001b[0m\u001b[1;33m\u001b[0m\u001b[0m\n\u001b[0;32m    138\u001b[0m     \u001b[1;32mreturn\u001b[0m \u001b[0mpriority_decorator\u001b[0m\u001b[1;33m\u001b[0m\u001b[1;33m\u001b[0m\u001b[0m\n",
      "\u001b[1;32mc:\\users\\alex\\appdata\\local\\programs\\python\\python39\\lib\\site-packages\\sympy\\core\\expr.py\u001b[0m in \u001b[0;36m__rmul__\u001b[1;34m(self, other)\u001b[0m\n\u001b[0;32m    228\u001b[0m     \u001b[1;33m@\u001b[0m\u001b[0mcall_highest_priority\u001b[0m\u001b[1;33m(\u001b[0m\u001b[1;34m'__mul__'\u001b[0m\u001b[1;33m)\u001b[0m\u001b[1;33m\u001b[0m\u001b[1;33m\u001b[0m\u001b[0m\n\u001b[0;32m    229\u001b[0m     \u001b[1;32mdef\u001b[0m \u001b[0m__rmul__\u001b[0m\u001b[1;33m(\u001b[0m\u001b[0mself\u001b[0m\u001b[1;33m,\u001b[0m \u001b[0mother\u001b[0m\u001b[1;33m)\u001b[0m\u001b[1;33m:\u001b[0m\u001b[1;33m\u001b[0m\u001b[1;33m\u001b[0m\u001b[0m\n\u001b[1;32m--> 230\u001b[1;33m         \u001b[1;32mreturn\u001b[0m \u001b[0mMul\u001b[0m\u001b[1;33m(\u001b[0m\u001b[0mother\u001b[0m\u001b[1;33m,\u001b[0m \u001b[0mself\u001b[0m\u001b[1;33m)\u001b[0m\u001b[1;33m\u001b[0m\u001b[1;33m\u001b[0m\u001b[0m\n\u001b[0m\u001b[0;32m    231\u001b[0m \u001b[1;33m\u001b[0m\u001b[0m\n\u001b[0;32m    232\u001b[0m     \u001b[1;33m@\u001b[0m\u001b[0msympify_return\u001b[0m\u001b[1;33m(\u001b[0m\u001b[1;33m[\u001b[0m\u001b[1;33m(\u001b[0m\u001b[1;34m'other'\u001b[0m\u001b[1;33m,\u001b[0m \u001b[1;34m'Expr'\u001b[0m\u001b[1;33m)\u001b[0m\u001b[1;33m]\u001b[0m\u001b[1;33m,\u001b[0m \u001b[0mNotImplemented\u001b[0m\u001b[1;33m)\u001b[0m\u001b[1;33m\u001b[0m\u001b[1;33m\u001b[0m\u001b[0m\n",
      "\u001b[1;32mc:\\users\\alex\\appdata\\local\\programs\\python\\python39\\lib\\site-packages\\sympy\\core\\cache.py\u001b[0m in \u001b[0;36mwrapper\u001b[1;34m(*args, **kwargs)\u001b[0m\n\u001b[0;32m     70\u001b[0m         \u001b[1;32mdef\u001b[0m \u001b[0mwrapper\u001b[0m\u001b[1;33m(\u001b[0m\u001b[1;33m*\u001b[0m\u001b[0margs\u001b[0m\u001b[1;33m,\u001b[0m \u001b[1;33m**\u001b[0m\u001b[0mkwargs\u001b[0m\u001b[1;33m)\u001b[0m\u001b[1;33m:\u001b[0m\u001b[1;33m\u001b[0m\u001b[1;33m\u001b[0m\u001b[0m\n\u001b[0;32m     71\u001b[0m             \u001b[1;32mtry\u001b[0m\u001b[1;33m:\u001b[0m\u001b[1;33m\u001b[0m\u001b[1;33m\u001b[0m\u001b[0m\n\u001b[1;32m---> 72\u001b[1;33m                 \u001b[0mretval\u001b[0m \u001b[1;33m=\u001b[0m \u001b[0mcfunc\u001b[0m\u001b[1;33m(\u001b[0m\u001b[1;33m*\u001b[0m\u001b[0margs\u001b[0m\u001b[1;33m,\u001b[0m \u001b[1;33m**\u001b[0m\u001b[0mkwargs\u001b[0m\u001b[1;33m)\u001b[0m\u001b[1;33m\u001b[0m\u001b[1;33m\u001b[0m\u001b[0m\n\u001b[0m\u001b[0;32m     73\u001b[0m             \u001b[1;32mexcept\u001b[0m \u001b[0mTypeError\u001b[0m\u001b[1;33m:\u001b[0m\u001b[1;33m\u001b[0m\u001b[1;33m\u001b[0m\u001b[0m\n\u001b[0;32m     74\u001b[0m                 \u001b[0mretval\u001b[0m \u001b[1;33m=\u001b[0m \u001b[0mfunc\u001b[0m\u001b[1;33m(\u001b[0m\u001b[1;33m*\u001b[0m\u001b[0margs\u001b[0m\u001b[1;33m,\u001b[0m \u001b[1;33m**\u001b[0m\u001b[0mkwargs\u001b[0m\u001b[1;33m)\u001b[0m\u001b[1;33m\u001b[0m\u001b[1;33m\u001b[0m\u001b[0m\n",
      "\u001b[1;32mc:\\users\\alex\\appdata\\local\\programs\\python\\python39\\lib\\site-packages\\sympy\\core\\operations.py\u001b[0m in \u001b[0;36m__new__\u001b[1;34m(cls, evaluate, _sympify, *args)\u001b[0m\n\u001b[0;32m     83\u001b[0m             \u001b[1;32mreturn\u001b[0m \u001b[0margs\u001b[0m\u001b[1;33m[\u001b[0m\u001b[1;36m0\u001b[0m\u001b[1;33m]\u001b[0m\u001b[1;33m\u001b[0m\u001b[1;33m\u001b[0m\u001b[0m\n\u001b[0;32m     84\u001b[0m \u001b[1;33m\u001b[0m\u001b[0m\n\u001b[1;32m---> 85\u001b[1;33m         \u001b[0mc_part\u001b[0m\u001b[1;33m,\u001b[0m \u001b[0mnc_part\u001b[0m\u001b[1;33m,\u001b[0m \u001b[0morder_symbols\u001b[0m \u001b[1;33m=\u001b[0m \u001b[0mcls\u001b[0m\u001b[1;33m.\u001b[0m\u001b[0mflatten\u001b[0m\u001b[1;33m(\u001b[0m\u001b[0margs\u001b[0m\u001b[1;33m)\u001b[0m\u001b[1;33m\u001b[0m\u001b[1;33m\u001b[0m\u001b[0m\n\u001b[0m\u001b[0;32m     86\u001b[0m         \u001b[0mis_commutative\u001b[0m \u001b[1;33m=\u001b[0m \u001b[1;32mnot\u001b[0m \u001b[0mnc_part\u001b[0m\u001b[1;33m\u001b[0m\u001b[1;33m\u001b[0m\u001b[0m\n\u001b[0;32m     87\u001b[0m         \u001b[0mobj\u001b[0m \u001b[1;33m=\u001b[0m \u001b[0mcls\u001b[0m\u001b[1;33m.\u001b[0m\u001b[0m_from_args\u001b[0m\u001b[1;33m(\u001b[0m\u001b[0mc_part\u001b[0m \u001b[1;33m+\u001b[0m \u001b[0mnc_part\u001b[0m\u001b[1;33m,\u001b[0m \u001b[0mis_commutative\u001b[0m\u001b[1;33m)\u001b[0m\u001b[1;33m\u001b[0m\u001b[1;33m\u001b[0m\u001b[0m\n",
      "\u001b[1;32mc:\\users\\alex\\appdata\\local\\programs\\python\\python39\\lib\\site-packages\\sympy\\core\\mul.py\u001b[0m in \u001b[0;36mflatten\u001b[1;34m(cls, seq)\u001b[0m\n\u001b[0;32m    670\u001b[0m \u001b[1;33m\u001b[0m\u001b[0m\n\u001b[0;32m    671\u001b[0m         \u001b[1;31m# 0\u001b[0m\u001b[1;33m\u001b[0m\u001b[1;33m\u001b[0m\u001b[1;33m\u001b[0m\u001b[0m\n\u001b[1;32m--> 672\u001b[1;33m         \u001b[1;32melif\u001b[0m \u001b[0mcoeff\u001b[0m\u001b[1;33m.\u001b[0m\u001b[0mis_zero\u001b[0m\u001b[1;33m:\u001b[0m\u001b[1;33m\u001b[0m\u001b[1;33m\u001b[0m\u001b[0m\n\u001b[0m\u001b[0;32m    673\u001b[0m             \u001b[1;31m# we know for sure the result will be 0 except the multiplicand\u001b[0m\u001b[1;33m\u001b[0m\u001b[1;33m\u001b[0m\u001b[1;33m\u001b[0m\u001b[0m\n\u001b[0;32m    674\u001b[0m             \u001b[1;31m# is infinity or a matrix\u001b[0m\u001b[1;33m\u001b[0m\u001b[1;33m\u001b[0m\u001b[1;33m\u001b[0m\u001b[0m\n",
      "\u001b[1;32mc:\\users\\alex\\appdata\\local\\programs\\python\\python39\\lib\\site-packages\\sympy\\core\\assumptions.py\u001b[0m in \u001b[0;36mgetit\u001b[1;34m(self)\u001b[0m\n\u001b[0;32m    456\u001b[0m             \u001b[1;32mif\u001b[0m \u001b[0mself\u001b[0m\u001b[1;33m.\u001b[0m\u001b[0m_assumptions\u001b[0m \u001b[1;32mis\u001b[0m \u001b[0mself\u001b[0m\u001b[1;33m.\u001b[0m\u001b[0mdefault_assumptions\u001b[0m\u001b[1;33m:\u001b[0m\u001b[1;33m\u001b[0m\u001b[1;33m\u001b[0m\u001b[0m\n\u001b[0;32m    457\u001b[0m                 \u001b[0mself\u001b[0m\u001b[1;33m.\u001b[0m\u001b[0m_assumptions\u001b[0m \u001b[1;33m=\u001b[0m \u001b[0mself\u001b[0m\u001b[1;33m.\u001b[0m\u001b[0mdefault_assumptions\u001b[0m\u001b[1;33m.\u001b[0m\u001b[0mcopy\u001b[0m\u001b[1;33m(\u001b[0m\u001b[1;33m)\u001b[0m\u001b[1;33m\u001b[0m\u001b[1;33m\u001b[0m\u001b[0m\n\u001b[1;32m--> 458\u001b[1;33m             \u001b[1;32mreturn\u001b[0m \u001b[0m_ask\u001b[0m\u001b[1;33m(\u001b[0m\u001b[0mfact\u001b[0m\u001b[1;33m,\u001b[0m \u001b[0mself\u001b[0m\u001b[1;33m)\u001b[0m\u001b[1;33m\u001b[0m\u001b[1;33m\u001b[0m\u001b[0m\n\u001b[0m\u001b[0;32m    459\u001b[0m \u001b[1;33m\u001b[0m\u001b[0m\n\u001b[0;32m    460\u001b[0m     \u001b[0mgetit\u001b[0m\u001b[1;33m.\u001b[0m\u001b[0mfunc_name\u001b[0m \u001b[1;33m=\u001b[0m \u001b[0mas_property\u001b[0m\u001b[1;33m(\u001b[0m\u001b[0mfact\u001b[0m\u001b[1;33m)\u001b[0m\u001b[1;33m\u001b[0m\u001b[1;33m\u001b[0m\u001b[0m\n",
      "\u001b[1;32mc:\\users\\alex\\appdata\\local\\programs\\python\\python39\\lib\\site-packages\\sympy\\core\\assumptions.py\u001b[0m in \u001b[0;36m_ask\u001b[1;34m(fact, obj)\u001b[0m\n\u001b[0;32m    501\u001b[0m         \u001b[0ma\u001b[0m \u001b[1;33m=\u001b[0m \u001b[0mevaluate\u001b[0m\u001b[1;33m(\u001b[0m\u001b[0mobj\u001b[0m\u001b[1;33m)\u001b[0m\u001b[1;33m\u001b[0m\u001b[1;33m\u001b[0m\u001b[0m\n\u001b[0;32m    502\u001b[0m         \u001b[1;32mif\u001b[0m \u001b[0ma\u001b[0m \u001b[1;32mis\u001b[0m \u001b[1;32mnot\u001b[0m \u001b[1;32mNone\u001b[0m\u001b[1;33m:\u001b[0m\u001b[1;33m\u001b[0m\u001b[1;33m\u001b[0m\u001b[0m\n\u001b[1;32m--> 503\u001b[1;33m             \u001b[0massumptions\u001b[0m\u001b[1;33m.\u001b[0m\u001b[0mdeduce_all_facts\u001b[0m\u001b[1;33m(\u001b[0m\u001b[1;33m(\u001b[0m\u001b[1;33m(\u001b[0m\u001b[0mfact\u001b[0m\u001b[1;33m,\u001b[0m \u001b[0ma\u001b[0m\u001b[1;33m)\u001b[0m\u001b[1;33m,\u001b[0m\u001b[1;33m)\u001b[0m\u001b[1;33m)\u001b[0m\u001b[1;33m\u001b[0m\u001b[1;33m\u001b[0m\u001b[0m\n\u001b[0m\u001b[0;32m    504\u001b[0m             \u001b[1;32mreturn\u001b[0m \u001b[0ma\u001b[0m\u001b[1;33m\u001b[0m\u001b[1;33m\u001b[0m\u001b[0m\n\u001b[0;32m    505\u001b[0m \u001b[1;33m\u001b[0m\u001b[0m\n",
      "\u001b[1;32mc:\\users\\alex\\appdata\\local\\programs\\python\\python39\\lib\\site-packages\\sympy\\core\\facts.py\u001b[0m in \u001b[0;36mdeduce_all_facts\u001b[1;34m(self, facts)\u001b[0m\n\u001b[0;32m    530\u001b[0m             \u001b[0mfacts\u001b[0m \u001b[1;33m=\u001b[0m \u001b[1;33m[\u001b[0m\u001b[1;33m]\u001b[0m\u001b[1;33m\u001b[0m\u001b[1;33m\u001b[0m\u001b[0m\n\u001b[0;32m    531\u001b[0m             \u001b[1;32mfor\u001b[0m \u001b[0mbidx\u001b[0m \u001b[1;32min\u001b[0m \u001b[0mbeta_maytrigger\u001b[0m\u001b[1;33m:\u001b[0m\u001b[1;33m\u001b[0m\u001b[1;33m\u001b[0m\u001b[0m\n\u001b[1;32m--> 532\u001b[1;33m                 \u001b[0mbcond\u001b[0m\u001b[1;33m,\u001b[0m \u001b[0mbimpl\u001b[0m \u001b[1;33m=\u001b[0m \u001b[0mbeta_rules\u001b[0m\u001b[1;33m[\u001b[0m\u001b[0mbidx\u001b[0m\u001b[1;33m]\u001b[0m\u001b[1;33m\u001b[0m\u001b[1;33m\u001b[0m\u001b[0m\n\u001b[0m\u001b[0;32m    533\u001b[0m                 \u001b[1;32mif\u001b[0m \u001b[0mall\u001b[0m\u001b[1;33m(\u001b[0m\u001b[0mself\u001b[0m\u001b[1;33m.\u001b[0m\u001b[0mget\u001b[0m\u001b[1;33m(\u001b[0m\u001b[0mk\u001b[0m\u001b[1;33m)\u001b[0m \u001b[1;32mis\u001b[0m \u001b[0mv\u001b[0m \u001b[1;32mfor\u001b[0m \u001b[0mk\u001b[0m\u001b[1;33m,\u001b[0m \u001b[0mv\u001b[0m \u001b[1;32min\u001b[0m \u001b[0mbcond\u001b[0m\u001b[1;33m)\u001b[0m\u001b[1;33m:\u001b[0m\u001b[1;33m\u001b[0m\u001b[1;33m\u001b[0m\u001b[0m\n\u001b[0;32m    534\u001b[0m                     \u001b[0mfacts\u001b[0m\u001b[1;33m.\u001b[0m\u001b[0mappend\u001b[0m\u001b[1;33m(\u001b[0m\u001b[0mbimpl\u001b[0m\u001b[1;33m)\u001b[0m\u001b[1;33m\u001b[0m\u001b[1;33m\u001b[0m\u001b[0m\n",
      "\u001b[1;31mKeyboardInterrupt\u001b[0m: "
     ]
    }
   ],
   "source": [
    "res = {True:0, False:0}\n",
    "wrong = []\n",
    "for i in range(1000000):\n",
    "    t1 = low_tensor()\n",
    "    t2 = low_tensor()\n",
    "    t3 = low_tensor()\n",
    "    t4 = low_tensor()\n",
    "    v = np.random.randint(0,100)\n",
    "    t = t1[0] + t2[0] + t3[0] + t4[0]\n",
    "    if v%2 == 0:\n",
    "        t = np.random.randint(0,100000,size = (3,3,3))\n",
    "    key = check_req(t)\n",
    "    res[key] = res[key] + 1\n",
    "    if key and not check_rank(t,3, tol = 0.01):\n",
    "        print(t,v)\n",
    "        wrong.append((t,t1,t2,t3,t4,v))\n",
    "        print(check_rank(t,3))\n",
    "print(res)"
   ]
  },
  {
   "cell_type": "code",
   "execution_count": 14,
   "id": "8dfe760a-d6fa-4ef0-9cf8-ec24682e19d8",
   "metadata": {},
   "outputs": [
    {
     "name": "stdout",
     "output_type": "stream",
     "text": [
      "0.045830939118916704\n",
      "0.033696318952316284\n",
      "0.03306980638599513\n",
      "0.026697583810441135\n",
      "0.026512544968288684\n",
      "0.023407923276113154\n",
      "0.03297705699400026\n",
      "0.045922556284607126\n",
      "0.0336892950015127\n",
      "0.02354167409206532\n",
      "next\n",
      "0.04556130899823477\n",
      "0.02654858788106088\n",
      "0.023264646292921257\n",
      "0.03320160563700788\n",
      "0.03307009407359299\n",
      "0.033702555062605194\n",
      "0.03382739852832674\n",
      "0.03319219599207252\n",
      "0.03686819973290271\n",
      "0.024084799374888114\n",
      "next\n",
      "0.023266375259834167\n",
      "0.04539355652961921\n",
      "0.023474001173287767\n",
      "0.02679726433205275\n",
      "0.03365921962025601\n",
      "0.026696658443884143\n",
      "0.02327785870973293\n",
      "0.04589374063085459\n",
      "0.045892804005399\n",
      "0.023277115924968114\n",
      "next\n",
      "0.0330698556134337\n",
      "0.026835132268434442\n",
      "0.04539667813362636\n",
      "0.03381699833673908\n",
      "0.0331935300691726\n",
      "0.02324891521207985\n",
      "0.03843650835319427\n",
      "0.045903386462151675\n",
      "0.03252174379939509\n",
      "0.023264859633452168\n",
      "next\n",
      "0.03319191315744479\n",
      "0.04541717745721741\n",
      "0.045391503403933366\n",
      "0.027438627048341116\n",
      "0.045396562079919274\n",
      "0.02355949321179262\n",
      "0.023704772549525615\n",
      "0.026797246881640112\n",
      "0.023406860208434358\n",
      "0.03370392287825286\n",
      "next\n"
     ]
    }
   ],
   "source": [
    "for x in wrong:\n",
    "    tens = tl.tensor(x[0])\n",
    "    if not check_rank(t,3,tol = 0.01):\n",
    "        check_rank(t,3,tol = 0.01, p = True)\n",
    "        print('next')"
   ]
  },
  {
   "cell_type": "code",
   "execution_count": 6,
   "id": "118f0e27-88bb-4780-a2a6-74ca6a5e543b",
   "metadata": {},
   "outputs": [
    {
     "name": "stdout",
     "output_type": "stream",
     "text": [
      "0.02612115820541427\n",
      "0.042598746287914525\n",
      "0.02126579166991271\n",
      "0.020041938333754672\n",
      "0.020035784364786275\n",
      "0.03197970956666255\n",
      "0.03674234235518229\n",
      "0.022596216850776937\n",
      "0.04766321136135373\n",
      "0.020109142295212785\n"
     ]
    },
    {
     "data": {
      "text/plain": [
       "False"
      ]
     },
     "execution_count": 6,
     "metadata": {},
     "output_type": "execute_result"
    }
   ],
   "source": [
    "check_rank(tl.tensor(t),3,tol = 0.01, p = True)"
   ]
  },
  {
   "cell_type": "code",
   "execution_count": 21,
   "id": "1dd9670d-c826-4453-82dc-b319fc5620bc",
   "metadata": {},
   "outputs": [
    {
     "data": {
      "text/latex": [
       "$\\displaystyle 2.19766299362767 \\cdot 10^{17}$"
      ],
      "text/plain": [
       "2.19766299362767e+17"
      ]
     },
     "execution_count": 21,
     "metadata": {},
     "output_type": "execute_result"
    }
   ],
   "source": [
    "P1 = Matrix(t[:,0] + t[:,1] + t[:,2]).transpose()\n",
    "P2 = (t[:,:,0] + t[:,:,1] + t[:,:,2]).transpose()\n",
    "P3 = (t[0] + t[1] + t[2]).transpose()\n",
    "A = P2 * P1.adjugate() * P3\n",
    "A[0,0]"
   ]
  },
  {
   "cell_type": "code",
   "execution_count": 72,
   "id": "9b27810e-552b-4331-b309-d96a3883e1de",
   "metadata": {},
   "outputs": [],
   "source": [
    "def cond4(t):\n",
    "    P1 = Matrix(t[:,0] + t[:,1] + t[:,2]).transpose()\n",
    "    P2 = (t[:,:,0] + t[:,:,1] + t[:,:,2]).transpose()\n",
    "    P3 = (t[0] + t[1] + t[2]).transpose()\n",
    "    if det(P1) == 0:\n",
    "        print(\"found sth\", t)\n",
    "        return True\n",
    "    A = det(P1) * P2 * P1.adjugate() * P3\n",
    "    c1 = det(A) > 0\n",
    "    c2 = A[0,0] > 0\n",
    "    c3 = A.minor(2,2) > 0\n",
    "    print(det(A), A[0,0], A.minor(2,2), det(P1))\n",
    "    return c1 and c2 and c3"
   ]
  },
  {
   "cell_type": "code",
   "execution_count": 77,
   "id": "4f49589d-2822-455a-abbd-c66a7559e671",
   "metadata": {},
   "outputs": [
    {
     "name": "stdout",
     "output_type": "stream",
     "text": [
      "1.97197837166412e+84 8.68191250035974e+28 3.61879102864704e+57 1766093896020.00\n"
     ]
    },
    {
     "data": {
      "text/latex": [
       "$\\displaystyle \\text{True}$"
      ],
      "text/plain": [
       "True"
      ]
     },
     "execution_count": 77,
     "metadata": {},
     "output_type": "execute_result"
    }
   ],
   "source": [
    "cond4(rank_for())"
   ]
  },
  {
   "cell_type": "code",
   "execution_count": null,
   "id": "82517f38-58e9-4f68-bc71-dab0b4400fd5",
   "metadata": {},
   "outputs": [],
   "source": []
  }
 ],
 "metadata": {
  "kernelspec": {
   "display_name": "Python 3",
   "language": "python",
   "name": "python3"
  },
  "language_info": {
   "codemirror_mode": {
    "name": "ipython",
    "version": 3
   },
   "file_extension": ".py",
   "mimetype": "text/x-python",
   "name": "python",
   "nbconvert_exporter": "python",
   "pygments_lexer": "ipython3",
   "version": "3.9.5"
  }
 },
 "nbformat": 4,
 "nbformat_minor": 5
}
