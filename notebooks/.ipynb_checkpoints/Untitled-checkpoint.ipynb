{
 "cells": [
  {
   "cell_type": "code",
   "execution_count": 5,
   "id": "9d0f8933-02bd-4fb5-9e2a-383bacacf0eb",
   "metadata": {},
   "outputs": [],
   "source": [
    "from sympy.tensor.array import tensorproduct, Array\n",
    "from sympy import *\n",
    "from random import randint\n",
    "import numpy as np\n",
    "a11, a12, a21, a22,a23, a31, a32,a33, b11, b12, b21, b22,b23, b31, b32,b33= symbols('a11 a12 a21 a22 a23 a31 a32 a33 b11 b12 b21 b22 b23 b31 b32 b33')\n",
    "c11, c12, c21, c22, c23, c31, c32, c33, pi_1, pi_2, pi_3= symbols('c11 c12 c21 c22 c23 c31 c32 c33 pi_1 pi_2 pi_3')\n",
    "a34,b34,c34 = symbols('a34,b34,c34')\n",
    "import numpy as np\n",
    "import tensorly as tl"
   ]
  },
  {
   "cell_type": "code",
   "execution_count": 3,
   "id": "7b0102a1-b972-4caa-a49e-e0b2cf10d691",
   "metadata": {},
   "outputs": [
    {
     "data": {
      "text/latex": [
       "$\\displaystyle \\left[\\begin{matrix}a_{31} & b_{31} & c_{31}\\\\a_{32} & b_{32} & c_{32}\\\\a_{33} & b_{33} & c_{33}\\\\a_{34} & b_{34} & c_{34}\\end{matrix}\\right]$"
      ],
      "text/plain": [
       "Matrix([\n",
       "[a31, b31, c31],\n",
       "[a32, b32, c32],\n",
       "[a33, b33, c33],\n",
       "[a34, b34, c34]])"
      ]
     },
     "execution_count": 3,
     "metadata": {},
     "output_type": "execute_result"
    }
   ],
   "source": [
    "def low_tensor():\n",
    "    high = 25\n",
    "    a = np.random.randint(1, high, size=3)\n",
    "    b = np.random.randint(1, high, size=2)\n",
    "    c = np.random.randint(1, high, size=2)\n",
    "    tens = tl.tensor(np.kron(np.kron(a, b), c).reshape(3, 2, 2)) * 1.0\n",
    "    return (tens, a,b,c)"
   ]
  },
  {
   "cell_type": "code",
   "execution_count": 13,
   "id": "bc5391e1-d4e7-41b3-a50e-075f2b86838d",
   "metadata": {},
   "outputs": [],
   "source": [
    "a = np.random.randint(1, 25, size=3)\n",
    "b = np.random.randint(1, 25, size=3)\n",
    "c = np.random.randint(1, 25, size=3)\n",
    "d = a + b - c"
   ]
  },
  {
   "cell_type": "code",
   "execution_count": 14,
   "id": "7980b827-0650-4826-ac44-8a437c9faac1",
   "metadata": {},
   "outputs": [
    {
     "data": {
      "text/latex": [
       "$\\displaystyle \\left[\\begin{matrix}8 & 20 & 10\\\\17 & 16 & 15\\\\5 & 4 & 4\\\\20 & 32 & 21\\end{matrix}\\right]$"
      ],
      "text/plain": [
       "Matrix([\n",
       "[ 8, 20, 10],\n",
       "[17, 16, 15],\n",
       "[ 5,  4,  4],\n",
       "[20, 32, 21]])"
      ]
     },
     "execution_count": 14,
     "metadata": {},
     "output_type": "execute_result"
    }
   ],
   "source": [
    "M = Matrix([a,b,c,d])\n",
    "M"
   ]
  },
  {
   "cell_type": "code",
   "execution_count": 15,
   "id": "aacbd2d4-cb6c-4ae0-9637-21ea9d7b6a35",
   "metadata": {},
   "outputs": [
    {
     "data": {
      "text/plain": [
       "3"
      ]
     },
     "execution_count": 15,
     "metadata": {},
     "output_type": "execute_result"
    }
   ],
   "source": [
    "M.rank()"
   ]
  },
  {
   "cell_type": "code",
   "execution_count": null,
   "id": "36c393be-d3c4-4a8c-a9b4-7a13e92d7438",
   "metadata": {},
   "outputs": [],
   "source": []
  }
 ],
 "metadata": {
  "kernelspec": {
   "display_name": "Python 3",
   "language": "python",
   "name": "python3"
  },
  "language_info": {
   "codemirror_mode": {
    "name": "ipython",
    "version": 3
   },
   "file_extension": ".py",
   "mimetype": "text/x-python",
   "name": "python",
   "nbconvert_exporter": "python",
   "pygments_lexer": "ipython3",
   "version": "3.9.5"
  }
 },
 "nbformat": 4,
 "nbformat_minor": 5
}
