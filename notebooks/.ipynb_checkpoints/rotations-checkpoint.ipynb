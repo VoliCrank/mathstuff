{
 "cells": [
  {
   "cell_type": "code",
   "execution_count": 1,
   "id": "intimate-chaos",
   "metadata": {},
   "outputs": [],
   "source": [
    "import tensorly as tl\n",
    "import numpy as np\n",
    "from numpy import linalg as la\n",
    "from sympy import *\n",
    "from sympy import Matrix, symbols, solve_linear_system\n",
    "from sympy.solvers.solveset import linsolve\n",
    "import time\n",
    "from joblib import Parallel, delayed\n",
    "x,y,z_1,z_2,z_3 = symbols('x y z_1 z_2 z_3')\n",
    "x,y,z1,z2,z3 ,b= symbols(\"x,y,z1,z2,z3,b\")\n",
    "p_112, p_102, p_002, p_012 = symbols('p_112 p_102 p_002 p_012')\n",
    "p_000, p_001, p_100, p_101, p_200, p_201, p_010, p_011, p_020, p_021, p_110, p_111, p_210, p_211, p_120, p_121, p_220, p_221 = symbols('p_000 p_001 p_100 p_101 p_200 p_201 p_010 p_011 p_020 p_021 p_110 p_111 p_210 p_211 p_120 p_121 p_220 p_221')"
   ]
  },
  {
   "cell_type": "code",
   "execution_count": 2,
   "id": "27f9f040-b028-40d9-a4cf-d06e5e5fe2dd",
   "metadata": {},
   "outputs": [],
   "source": [
    "from tensorly.decomposition import parafac\n",
    "from tensorly.decomposition import non_negative_parafac_hals\n",
    "\n",
    "def check_rank(tensor, rank, non_neg=True, n=10, tol=0.001, p=False):\n",
    "    if non_neg:\n",
    "        for k in range(n):\n",
    "            weights, factors = non_negative_parafac_hals(tensor, n_iter_max=1000000, rank=rank, init='random')\n",
    "            full = tl.cp_to_tensor((weights, factors))\n",
    "            diff = (full - tensor) / tensor\n",
    "            if p:\n",
    "                # print(full)\n",
    "                print(tl.max(abs(diff)))\n",
    "            if tl.max(abs(diff)) < tol:\n",
    "                return True\n",
    "    else:\n",
    "        for k in range(n):\n",
    "            weights, factors = parafac(tensor, n_iter_max=1000000, rank=rank)\n",
    "            full = tl.cp_to_tensor((weights, factors))\n",
    "            diff = (full - tensor) / tensor\n",
    "            if p:\n",
    "                print(tl.max(abs(diff)))\n",
    "            if tl.max(abs(diff)) < tol:\n",
    "                return True\n",
    "    return False"
   ]
  },
  {
   "cell_type": "code",
   "execution_count": 3,
   "id": "infrared-place",
   "metadata": {},
   "outputs": [],
   "source": [
    "#generates random rank 3 tensors\n",
    "def rank_tree():\n",
    "    return (low_tensor() + low_tensor() + low_tensor()) \n",
    "\n",
    "# random tensor of some dim\n",
    "def rand_tensor():\n",
    "    return tl.tensor(np.random.randint(1, 100000, size=(3,2,2)))*1.0\n",
    "\n",
    "# generates rank 1 tensors\n",
    "def low_tensor():\n",
    "    max = 30\n",
    "    a = np.random.randint(1, max, size=3) \n",
    "    b = np.random.randint(1, max, size=2)\n",
    "    c = np.random.randint(1, max, size=2)\n",
    "    tens = tl.tensor(np.kron(np.kron(a, b), c).reshape(3, 2, 2)) * 1.0\n",
    "    return tens\n",
    "\n",
    "# checks if all subtensors have nonneg rank 3\n",
    "def check(t):\n",
    "    t1 = tl.tensor([t[0], t[1]])\n",
    "    t2 = tl.tensor([t[1], t[2]])\n",
    "    t3 = tl.tensor([t[0], t[2]])\n",
    "    a1 = det(Matrix(t1[0]))\n",
    "    a2 = det(Matrix(t1[1]))\n",
    "    a3 = det(Matrix(t2[0]))\n",
    "    a4 = det(Matrix(t2[1]))\n",
    "    b1 = det(Matrix(t1[:,0]))\n",
    "    b2 = det(Matrix(t1[:,1]))\n",
    "    b3 = det(Matrix(t2[:,0]))\n",
    "    b4 = det(Matrix(t2[:,1]))\n",
    "    c1 = det(Matrix(t1[:,:,0]))\n",
    "    c2 = det(Matrix(t1[:,:,1]))\n",
    "    c3 = det(Matrix(t2[:,:,0]))\n",
    "    c4 = det(Matrix(t2[:,:,1]))\n",
    "\n",
    "    a5 = det(Matrix(t3[0]))\n",
    "    a6 = det(Matrix(t3[1]))\n",
    "\n",
    "    b5 = det(Matrix(t3[:,0]))\n",
    "    b6 = det(Matrix(t3[:,1]))\n",
    "\n",
    "    c5 = det(Matrix(t3[:,:,0]))\n",
    "    c6 = det(Matrix(t3[:,:,1]))\n",
    "    return sgn([a1, a2,a3,a4,a5,a6]) or sgn([b1,b2,b3,b4,b5,b6]) or sgn([c1,c2,c3,c4,c5,c6])\n",
    "\n",
    "# determines sign of a list\n",
    "def sgn(a):\n",
    "    t = 0\n",
    "    ab = 0\n",
    "    for a_i in a:\n",
    "        t+= abs(a_i)\n",
    "        ab += a_i\n",
    "    return t == abs(ab)\n",
    "\n",
    "\n",
    "# checks if the give 2x2x2 tensor has nonneg rank 3\n",
    "def check_r3(t):\n",
    "    a1 = det(Matrix(t[0]))\n",
    "    a2 = det(Matrix(t[1]))\n",
    "    b1 = det(Matrix(t[:,0]))\n",
    "    b2 = det(Matrix(t[:,1]))\n",
    "    c1 = det(Matrix(t[:,:,0]))\n",
    "    c2 = det(Matrix(t[:,:,1]))\n",
    "    return sgn([a1,a2]) or sgn([b1,b2]) or sgn([c1,c2])\n",
    "\n",
    "# checks if given 2x2x2 has nonneg rank 2\n",
    "def check_r2(t):\n",
    "    a1 = det(Matrix(t[0]))\n",
    "    a2 = det(Matrix(t[1]))\n",
    "    b1 = det(Matrix(t[:,0]))\n",
    "    b2 = det(Matrix(t[:,1]))\n",
    "    c1 = det(Matrix(t[:,:,0]))\n",
    "    c2 = det(Matrix(t[:,:,1]))\n",
    "    d1 = ineq(a1,a2,b1,b2,c1,c2,ge,ge,ge)\n",
    "    d2 = ineq(a1,a2,b1,b2,c1,c2,le,le,ge)\n",
    "    d3 = ineq(a1,a2,b1,b2,c1,c2,le,ge,le)\n",
    "    d4 = ineq(a1,a2,b1,b2,c1,c2,ge,le,le)\n",
    "    supermod = d1 or d2 or d3 or d4\n",
    "    return supermod\n",
    "\n",
    "\n",
    "# helpers\n",
    "def ineq(a1,a2,b1,b2,c1,c2,f1,f2,f3):\n",
    "    t1 = f1(a1,0) and f1(a2,0)\n",
    "    t2 = f2(b1,0) and f2(b2,0)\n",
    "    t3 = f3(c1,0) and f3(c2,0)\n",
    "    return t1 and t2 and t3\n",
    "    \n",
    "def ge(a1,a2):\n",
    "    return a1 >= a2\n",
    "\n",
    "def le(a1,a2):\n",
    "    return a1 <= a2\n",
    "\n",
    "# Checks if 2x2x3 contains a 2x2x2 with nonneg 4\n",
    "def check_r4(t):\n",
    "    a1 = not check_r3(tl.tensor([t[0],t[1]]))\n",
    "    a2 = not check_r3(tl.tensor([t[0],t[2]]))\n",
    "    a3 = not check_r3(tl.tensor([t[1],t[2]]))\n",
    "    return a1 or a2 or a3 "
   ]
  },
  {
   "cell_type": "code",
   "execution_count": 4,
   "id": "muslim-collector",
   "metadata": {},
   "outputs": [],
   "source": [
    "def mat_inv(t):\n",
    "    tens = t.copy()\n",
    "    M_1 = Matrix([Matrix(tens[0][1]).transpose(),Matrix(tens[0][0]).transpose()])\n",
    "    M_2 = Matrix([Matrix(tens[1][1]).transpose(),Matrix(tens[1][0]).transpose()])\n",
    "    M_3 = Matrix([Matrix(tens[2][1]).transpose(),Matrix(tens[2][0]).transpose()])\n",
    "    tens[0] = M_1\n",
    "    tens[1] = M_2\n",
    "    tens[2] = M_3\n",
    "    return tens\n",
    "\n",
    "def mat_trans(t):\n",
    "    tens = t.copy()\n",
    "    tens[0] = tens[0].transpose()\n",
    "    tens[1] = tens[1].transpose()\n",
    "    tens[2] = tens[2].transpose()\n",
    "    return tens\n",
    "\n",
    "def rotate(t):\n",
    "    return mat_inv(mat_trans(t))\n",
    "\n",
    "\n",
    "def proc_tensor(t):\n",
    "    tens = t.copy()\n",
    "    M_b = Matrix([[Matrix(tens[:,0,0]), Matrix(tens[:,0,1]), Matrix(tens[:,1,1])]]).transpose()\n",
    "    M_a = Matrix([[Matrix(tens[:,0,0]), Matrix(tens[:,0,1]), Matrix(tens[:,1,0])]]).transpose()\n",
    "    a = 1\n",
    "    b = M_b.det() / M_a.det()\n",
    "    M = Matrix([[tens[0][0][0],0,a,0,0],[0,tens[0][0][1],b,0,0],\n",
    "                [tens[1][0][0],0,0,a,0],[0,tens[1][0][1],0,b,0],\n",
    "                [tens[2][0][0],0,0,0,a],[0,tens[2][0][1],0,0,b]])\n",
    "    R = Matrix([Matrix(tens[0,1]),Matrix(tens[1,1]),Matrix(tens[2,1])])\n",
    "    M_sub = Matrix(M[0:5,0:5])\n",
    "    sol = np.array(np.array(M_sub.inv(), dtype = \"float\") @ np.array(Matrix(R[0:5]), dtype = \"float\"), dtype = \"float\")\n",
    "    return np.append(np.array([b], dtype = \"float\"),sol)\n",
    "\n",
    "def loop_rotations(i):\n",
    "    tens = rand_tensor()\n",
    "    tens = rank_tree()\n",
    "    ret = [0] *11\n",
    "    c1 = proc_tensor(tens)\n",
    "    if np.all(c1>=0):\n",
    "        ret[1] = 1\n",
    "    c2 = proc_tensor(mat_trans(tens))\n",
    "    if np.all(c2>=0):\n",
    "        ret[2] = 1\n",
    "    c3 = proc_tensor(mat_inv(tens))\n",
    "    if np.all(c3>=0):\n",
    "        ret[3] = 1\n",
    "    c4 = proc_tensor(rotate(tens))\n",
    "    if np.all(c4>=0):\n",
    "        ret[4] = 1\n",
    "    total = sum(ret)\n",
    "    if total >= 1:\n",
    "        ret[0] = 1\n",
    "    #ret[6+total] = 1\n",
    "    r4 = check_r4(tens)\n",
    "    if r4:\n",
    "        ret[6] = 1\n",
    "    else:\n",
    "        ret[6] = 0\n",
    "    return ret\n",
    "\n",
    "def test(tens):\n",
    "    ret = [0] *11\n",
    "    c1 = proc_tensor(tens)\n",
    "    if np.all(c1>=0):\n",
    "        ret[1] = 1\n",
    "    c2 = proc_tensor(mat_trans(tens))\n",
    "    if np.all(c2>=0):\n",
    "        ret[2] = 1\n",
    "    c3 = proc_tensor(mat_inv(tens))\n",
    "    if np.all(c3>=0):\n",
    "        ret[3] = 1\n",
    "    c4 = proc_tensor(rotate(tens))\n",
    "    if np.all(c4>=0):\n",
    "        ret[4] = 1\n",
    "    total = sum(ret)\n",
    "    if total >= 1:\n",
    "        ret[0] = 1\n",
    "    #ret[6+total] = 1\n",
    "    r4 = check_r4(tens)\n",
    "    if r4:\n",
    "        ret[6] = 1\n",
    "    else:\n",
    "        ret[6] = 0\n",
    "    return ret"
   ]
  },
  {
   "cell_type": "code",
   "execution_count": 5,
   "id": "under-custom",
   "metadata": {},
   "outputs": [
    {
     "name": "stdout",
     "output_type": "stream",
     "text": [
      "[69, 28, 37, 29, 24, 0, 0, 0, 0, 0, 0]\n",
      "2.369194984436035\n"
     ]
    }
   ],
   "source": [
    "te = time.time()\n",
    "total = 100\n",
    "results = Parallel(n_jobs=6)(delayed(loop_rotations)(i) for i in range(total))\n",
    "res = [sum(x) for x in zip(*results)]\n",
    "print(res)\n",
    "print(time.time() - te)"
   ]
  },
  {
   "cell_type": "code",
   "execution_count": 22,
   "id": "random-shepherd",
   "metadata": {},
   "outputs": [
    {
     "data": {
      "text/plain": [
       "array([[ 3.59715640e-01],\n",
       "       [-8.66250000e+00],\n",
       "       [ 3.47716303e+03],\n",
       "       [ 4.00846493e+03],\n",
       "       [ 3.92031469e+03]])"
      ]
     },
     "execution_count": 22,
     "metadata": {},
     "output_type": "execute_result"
    }
   ],
   "source": [
    "tens = rank_tree()\n",
    "#tens = tl.tensor(np.random.randint(1, 100000, size=(3,2,2)))*1.0\n",
    "M_b = Matrix([[Matrix(tens[:,0,0]), Matrix(tens[:,0,1]), Matrix(tens[:,1,1])]]).transpose()\n",
    "M_a = Matrix([[Matrix(tens[:,0,0]), Matrix(tens[:,0,1]), Matrix(tens[:,1,0])]]).transpose()\n",
    "a = 1\n",
    "b = M_b.det() / M_a.det()\n",
    "M = Matrix([[tens[0][0][0],0,a,0,0],[0,tens[0][0][1],b,0,0],\n",
    "            [tens[1][0][0],0,0,a,0],[0,tens[1][0][1],0,b,0],\n",
    "            [tens[2][0][0],0,0,0,a],[0,tens[2][0][1],0,0,b]])\n",
    "R = Matrix([Matrix(tens[0,1]),Matrix(tens[1,1]),Matrix(tens[2,1])])\n",
    "M_sub = Matrix(M[0:5,0:5])\n",
    "sol = np.array((M_sub.adjugate() @ Matrix(R[0:5])) /M_sub.det(), dtype = \"float\")\n",
    "sol1 = la.solve(np.array(M.T @ M, dtype = \"float\"), np.array(M.T @ R, dtype = \"float\"))\n",
    "sol\n"
   ]
  },
  {
   "cell_type": "code",
   "execution_count": 222,
   "id": "buried-affect",
   "metadata": {},
   "outputs": [
    {
     "name": "stdout",
     "output_type": "stream",
     "text": [
      "True [1, 0, 0, 0, 0, 1, 1, 0, 0, 0, 1]\n"
     ]
    }
   ],
   "source": [
    "tens = rand_tensor()\n",
    "print(check_r4(tens), test(tens))"
   ]
  },
  {
   "cell_type": "code",
   "execution_count": 182,
   "id": "9a85f924-a9f5-40a6-a8b2-ae07c23fe514",
   "metadata": {},
   "outputs": [],
   "source": [
    "t = rand_tensor()\n",
    "tens = mat_inv(t)\n",
    "b = symbols('b')\n",
    "M = Matrix([[tens[0,1,0]*b,tens[0,0,1]*1],[tens[1,1,0],tens[1,0,1]],\n",
    "           [tens[2,1,0],tens[2,0,1]]])\n",
    "R1= Matrix([tens[0,1,1],tens[1,1,1],tens[2,1,1]])\n",
    "R2 = Matrix([tens[0,0,0],tens[1,0,0],tens[2,0,0]])\n",
    "M1 = Matrix([[M,R1]])\n",
    "M2 = Matrix([[M,R2]])\n",
    "b1 = solve(M1.det(),b)[0]\n",
    "b2 = solve(M2.det(),b)[0]\n",
    "M1 = Matrix([[tens[0,1,0]*b1,tens[0,0,1]],[tens[1,1,0],tens[1,0,1]],\n",
    "            [tens[2,1,0],tens[2,0,1]]])\n",
    "M2 = Matrix([[tens[0,1,0]*b2,tens[0,0,1]],[tens[1,1,0],tens[1,0,1]],\n",
    "            [tens[2,1,0],tens[2,0,1]]])\n",
    "M1_sub = Matrix(M1[0:2,0:2])\n",
    "M2_sub = Matrix(M2[0:2,0:2])\n",
    "sol1 = np.array(M1_sub.adjugate() @ Matrix(R1[0:2]) /det(M1_sub), dtype = \"float\")\n",
    "sol2 = np.array(M2_sub.adjugate() @ Matrix(R2[0:2]) /det(M2_sub), dtype = \"float\")\n",
    "sol1 = np.append(np.array(b1, dtype =\"float\"),sol1)\n",
    "sol2 = np.append(np.array(b2, dtype =\"float\"),sol2)"
   ]
  },
  {
   "cell_type": "code",
   "execution_count": 12,
   "id": "a9dce63e-15ed-4dd6-a21b-f4cbf9ea37c2",
   "metadata": {},
   "outputs": [
    {
     "data": {
      "text/plain": [
       "array([[[46794., 97276.],\n",
       "        [ 7477., 75400.]],\n",
       "\n",
       "       [[61299., 84774.],\n",
       "        [19990., 85580.]],\n",
       "\n",
       "       [[86969., 31418.],\n",
       "        [ 9807., 99704.]]])"
      ]
     },
     "execution_count": 12,
     "metadata": {},
     "output_type": "execute_result"
    }
   ],
   "source": [
    "tens = rand_tensor()\n",
    "tens"
   ]
  },
  {
   "cell_type": "code",
   "execution_count": 14,
   "id": "60050924-ca12-40b9-81a0-1d8571fca788",
   "metadata": {},
   "outputs": [
    {
     "data": {
      "text/plain": [
       "array([-1.44926912e-01,  7.33860205e+00,  2.74634528e-01, -3.35925544e+05,\n",
       "       -4.29858967e+05, -6.28423882e+05])"
      ]
     },
     "execution_count": 14,
     "metadata": {},
     "output_type": "execute_result"
    }
   ],
   "source": [
    "sol = proc_tensor(tens)\n",
    "sol"
   ]
  },
  {
   "cell_type": "code",
   "execution_count": 69,
   "id": "3a965a34-16bc-4f4e-8647-64d84cb33f08",
   "metadata": {},
   "outputs": [
    {
     "name": "stdout",
     "output_type": "stream",
     "text": [
      "1.8189894035458565e-12\n"
     ]
    }
   ],
   "source": [
    "sol = proc_tensor(tens)\n",
    "b = sol[0]\n",
    "x = sol[1]\n",
    "y = sol[2]\n",
    "z1 = sol[3]\n",
    "z2 = sol[4]\n",
    "z3 = sol[5]\n",
    "t = tens\n",
    "a1=t[0,0,0]*x + z1 - t[0,1,0]\n",
    "a2=t[0,0,1]*y + b*z1 - t[0,1,1]\n",
    "a3=t[1,0,0]*x + z2 - t[1,1,0]\n",
    "a4=t[1,0,1]*y + b*z2 - t[1,1,1]\n",
    "a5=t[2,0,0]*x + z3 - t[2,1,0]\n",
    "a6=t[2,0,1]*y + b*z3 - t[2,1,1]\n",
    "print(max(a1,a2,a3,a4,a5,a6))"
   ]
  },
  {
   "cell_type": "code",
   "execution_count": 39,
   "id": "5c6caff5-f0d2-46ee-a4a5-ce1c6b6867da",
   "metadata": {},
   "outputs": [
    {
     "data": {
      "text/plain": [
       "array([[[ 7477., 75400.],\n",
       "        [46794., 97276.]],\n",
       "\n",
       "       [[19990., 85580.],\n",
       "        [61299., 84774.]],\n",
       "\n",
       "       [[ 9807., 99704.],\n",
       "        [86969., 31418.]]])"
      ]
     },
     "execution_count": 39,
     "metadata": {},
     "output_type": "execute_result"
    }
   ],
   "source": [
    "mat_inv(tens)"
   ]
  },
  {
   "cell_type": "code",
   "execution_count": 40,
   "id": "0b4863ec-50bc-4546-a37e-a1e522d28c2e",
   "metadata": {},
   "outputs": [
    {
     "name": "stdout",
     "output_type": "stream",
     "text": [
      "1.4551915228366852e-10\n"
     ]
    }
   ],
   "source": [
    "sol = proc_tensor(mat_inv(tens))\n",
    "t = tens\n",
    "b = sol[0]\n",
    "x = sol[1]\n",
    "y = sol[2]\n",
    "z1 = sol[3]\n",
    "z2 = sol[4]\n",
    "z3 = sol[5]\n",
    "a1=t[0,1,0]*x + z1 - t[0,0,0]\n",
    "a2=t[0,1,1]*y + b*z1 - t[0,0,1]\n",
    "a3=t[1,1,0]*x + z2 - t[1,0,0]\n",
    "a4=t[1,1,1]*y + b*z2 - t[1,0,1]\n",
    "a5=t[2,1,0]*x + z3 - t[2,0,0]\n",
    "a6=t[2,1,1]*y + b*z3 - t[2,0,1]\n",
    "print(max(a1,a2,a3,a4,a5,a6))"
   ]
  },
  {
   "cell_type": "code",
   "execution_count": 45,
   "id": "9dbed131-5448-4719-8f3c-2b2cf78a5063",
   "metadata": {},
   "outputs": [
    {
     "name": "stdout",
     "output_type": "stream",
     "text": [
      "[0, 37, 40]\n"
     ]
    }
   ],
   "source": [
    "count = [0,0,0]\n",
    "for i in range(100):\n",
    "    tens = rank_tree()\n",
    "    c1 = np.all(proc_tensor(tens) >=0)\n",
    "    c2 = np.all(proc_tensor(mat_inv(tens))>=0)\n",
    "    if c1 and c2:\n",
    "        count[0] += 1\n",
    "    if c1:\n",
    "        count[1] += 1\n",
    "    if c2:\n",
    "        count[2] += 1\n",
    "print(count)"
   ]
  },
  {
   "cell_type": "code",
   "execution_count": 82,
   "id": "77d5dd7b-84ab-49f6-8fd8-06420ca6f8ac",
   "metadata": {},
   "outputs": [
    {
     "name": "stdout",
     "output_type": "stream",
     "text": [
      "7.275957614183426e-12\n"
     ]
    }
   ],
   "source": [
    "sol = proc_tensor(rotate(tens))\n",
    "b = sol[0]\n",
    "x = sol[1]\n",
    "y = sol[2]\n",
    "z1 = sol[3]\n",
    "z2 = sol[4]\n",
    "z3 = sol[5]\n",
    "t = tens\n",
    "a1=t[0,0,1]*x + z1 - t[0,0,0]\n",
    "a2=t[0,1,1]*y + b*z1 - t[0,1,0]\n",
    "a3=t[1,0,1]*x + z2 - t[1,0,0]\n",
    "a4=t[1,1,1]*y + b*z2 - t[1,1,0]\n",
    "a5=t[2,0,1]*x + z3 - t[2,0,0]\n",
    "a6=t[2,1,1]*y + b*z3 - t[2,1,0]\n",
    "print(max(a1,a2,a3,a4,a5,a6))"
   ]
  },
  {
   "cell_type": "code",
   "execution_count": 83,
   "id": "00f3e641-0414-48ed-9e57-401a0addf55f",
   "metadata": {},
   "outputs": [
    {
     "data": {
      "text/plain": [
       "array([[[15441., 12988.],\n",
       "        [ 7623.,  3708.]],\n",
       "\n",
       "       [[13023., 21032.],\n",
       "        [ 5337.,  6444.]],\n",
       "\n",
       "       [[ 5309., 12780.],\n",
       "        [ 1827.,  4176.]]])"
      ]
     },
     "execution_count": 83,
     "metadata": {},
     "output_type": "execute_result"
    }
   ],
   "source": [
    "tens"
   ]
  },
  {
   "cell_type": "code",
   "execution_count": 84,
   "id": "d1f59b25-82e9-468a-be40-1810107cf30e",
   "metadata": {},
   "outputs": [
    {
     "data": {
      "text/plain": [
       "array([3708., 6444., 4176.])"
      ]
     },
     "execution_count": 84,
     "metadata": {},
     "output_type": "execute_result"
    }
   ],
   "source": [
    "tens[:,1,1]"
   ]
  },
  {
   "cell_type": "code",
   "execution_count": 88,
   "id": "43c3563d-fd6f-4c22-bb04-a7325811eeee",
   "metadata": {},
   "outputs": [
    {
     "data": {
      "text/plain": [
       "array([[[ 7.27595761e-12,  0.00000000e+00],\n",
       "        [-1.81898940e-12,  0.00000000e+00]],\n",
       "\n",
       "       [[-1.63709046e-11,  0.00000000e+00],\n",
       "        [-2.18278728e-11,  0.00000000e+00]],\n",
       "\n",
       "       [[-3.63797881e-12,  0.00000000e+00],\n",
       "        [-1.00044417e-11,  0.00000000e+00]]])"
      ]
     },
     "execution_count": 88,
     "metadata": {},
     "output_type": "execute_result"
    }
   ],
   "source": [
    "a1 = np.array([1,0])\n",
    "a2 = np.array([x,1])\n",
    "a3 = np.array(tens[:,0,1])\n",
    "t1= np.kron(np.kron(a3,a1),a2).reshape(3,2,2)\n",
    "\n",
    "b1 = np.array([0,1])\n",
    "b2 = np.array([y,1])\n",
    "b3 = np.array(tens[:,1,1])\n",
    "t2 = np.kron(np.kron(b3,b1),b2).reshape(3,2,2)\n",
    "\n",
    "c1 = np.array([1,b])\n",
    "c2 = np.array([1,0])\n",
    "c3 = np.array([z1,z2,z3])\n",
    "t3 = np.kron(np.kron(c3,c1),c2).reshape(3,2,2)\n",
    "t3+t1+t2-tens"
   ]
  },
  {
   "cell_type": "code",
   "execution_count": 89,
   "id": "a0fc42d1-f8b4-47c9-8f12-b0820800317e",
   "metadata": {},
   "outputs": [
    {
     "data": {
      "text/plain": [
       "array([5.29619384e-01, 2.01701089e+00, 1.64283973e+00, 5.50892363e+03,\n",
       "       8.03438184e+03, 4.35696254e+03])"
      ]
     },
     "execution_count": 89,
     "metadata": {},
     "output_type": "execute_result"
    }
   ],
   "source": [
    "proc_tensor(rotate(rotate(tens)))"
   ]
  },
  {
   "cell_type": "code",
   "execution_count": 90,
   "id": "af8bdd44-f249-4d4f-ac26-98b23e7eea6b",
   "metadata": {},
   "outputs": [
    {
     "data": {
      "text/plain": [
       "array([ 4.95783144e-01,  1.88814841e+00,  1.53788225e+00, -1.61668997e+04,\n",
       "       -3.55735681e+03,  2.75582006e+03])"
      ]
     },
     "execution_count": 90,
     "metadata": {},
     "output_type": "execute_result"
    }
   ],
   "source": [
    "proc_tensor(mat_trans(tens))"
   ]
  },
  {
   "cell_type": "code",
   "execution_count": 91,
   "id": "f228d455-ed59-4a11-8a22-67e64a7877f6",
   "metadata": {},
   "outputs": [
    {
     "data": {
      "text/plain": [
       "array([1.88814841e+00, 1.64283973e+00, 2.01701089e+00, 2.91763274e+03,\n",
       "       4.25516436e+03, 2.30753181e+03])"
      ]
     },
     "execution_count": 91,
     "metadata": {},
     "output_type": "execute_result"
    }
   ],
   "source": [
    "proc_tensor(mat_inv(tens))"
   ]
  },
  {
   "cell_type": "code",
   "execution_count": 92,
   "id": "91c561c9-74a1-4318-a4f1-24148a306518",
   "metadata": {},
   "outputs": [
    {
     "data": {
      "text/plain": [
       "array([[[ 3708.,  7623.],\n",
       "        [12988., 15441.]],\n",
       "\n",
       "       [[ 6444.,  5337.],\n",
       "        [21032., 13023.]],\n",
       "\n",
       "       [[ 4176.,  1827.],\n",
       "        [12780.,  5309.]]])"
      ]
     },
     "execution_count": 92,
     "metadata": {},
     "output_type": "execute_result"
    }
   ],
   "source": [
    "rotate(rotate(tens))"
   ]
  },
  {
   "cell_type": "code",
   "execution_count": 97,
   "id": "d1b23cac-d425-44e5-b3fa-20ed3c4c2098",
   "metadata": {},
   "outputs": [
    {
     "name": "stdout",
     "output_type": "stream",
     "text": [
      "[32, 32, 32]\n"
     ]
    }
   ],
   "source": [
    "count = [0,0,0]\n",
    "for i in range(100):\n",
    "    tens = rank_tree()\n",
    "    c1 = np.all(proc_tensor(rotate(rotate(rotate(tens)))) >=0)\n",
    "    c2 = np.all(proc_tensor(mat_trans(tens))>=0)\n",
    "    if c1 and c2:\n",
    "        count[0] += 1\n",
    "    if c1:\n",
    "        count[1] += 1\n",
    "    if c2:\n",
    "        count[2] += 1\n",
    "print(count)"
   ]
  },
  {
   "cell_type": "code",
   "execution_count": null,
   "id": "813acaed-b0e0-437f-934a-eabe3cdfaff5",
   "metadata": {},
   "outputs": [],
   "source": []
  }
 ],
 "metadata": {
  "kernelspec": {
   "display_name": "Python 3 (ipykernel)",
   "language": "python",
   "name": "python3"
  },
  "language_info": {
   "codemirror_mode": {
    "name": "ipython",
    "version": 3
   },
   "file_extension": ".py",
   "mimetype": "text/x-python",
   "name": "python",
   "nbconvert_exporter": "python",
   "pygments_lexer": "ipython3",
   "version": "3.9.1"
  }
 },
 "nbformat": 4,
 "nbformat_minor": 5
}
