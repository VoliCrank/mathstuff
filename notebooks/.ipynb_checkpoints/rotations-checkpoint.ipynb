{
 "cells": [
  {
   "cell_type": "code",
   "execution_count": 2,
   "id": "intimate-chaos",
   "metadata": {},
   "outputs": [],
   "source": [
    "import tensorly as tl\n",
    "import numpy as np\n",
    "from numpy import linalg as la\n",
    "from sympy import *\n",
    "from sympy import Matrix, symbols, solve_linear_system\n",
    "from sympy.solvers.solveset import linsolve\n",
    "import time\n",
    "from joblib import Parallel, delayed\n",
    "x,y,z_1,z_2,z_3 = symbols('x y z_1 z_2 z_3')\n",
    "x,y,z1,z2,z3 ,b= symbols(\"x,y,z1,z2,z3,b\")\n",
    "p_112, p_102, p_002, p_012 = symbols('p_112 p_102 p_002 p_012')\n",
    "p_000, p_001, p_100, p_101, p_200, p_201, p_010, p_011, p_020, p_021, p_110, p_111, p_210, p_211, p_120, p_121, p_220, p_221 = symbols('p_000 p_001 p_100 p_101 p_200 p_201 p_010 p_011 p_020 p_021 p_110 p_111 p_210 p_211 p_120 p_121 p_220 p_221')"
   ]
  },
  {
   "cell_type": "code",
   "execution_count": 203,
   "id": "27f9f040-b028-40d9-a4cf-d06e5e5fe2dd",
   "metadata": {},
   "outputs": [],
   "source": [
    "from tensorly.decomposition import parafac\n",
    "from tensorly.decomposition import non_negative_parafac_hals\n",
    "\n",
    "def check_rank(tensor, rank, non_neg=True, n=10, tol=0.001, p=False):\n",
    "    if non_neg:\n",
    "        for k in range(n):\n",
    "            weights, factors = non_negative_parafac_hals(tensor, n_iter_max=1000000, rank=rank, init='random')\n",
    "            full = tl.cp_to_tensor((weights, factors))\n",
    "            diff = (full - tensor) / tensor\n",
    "            if p:\n",
    "                # print(full)\n",
    "                print(tl.max(abs(diff)))\n",
    "            if tl.max(abs(diff)) < tol:\n",
    "                return True\n",
    "    else:\n",
    "        for k in range(n):\n",
    "            weights, factors = parafac(tensor, n_iter_max=1000000, rank=rank)\n",
    "            full = tl.cp_to_tensor((weights, factors))\n",
    "            diff = (full - tensor) / tensor\n",
    "            if p:\n",
    "                print(tl.max(abs(diff)))\n",
    "            if tl.max(abs(diff)) < tol:\n",
    "                return True\n",
    "    return False"
   ]
  },
  {
   "cell_type": "code",
   "execution_count": 3,
   "id": "infrared-place",
   "metadata": {},
   "outputs": [],
   "source": [
    "#generates random rank 3 tensors\n",
    "def rank_tree():\n",
    "    return (low_tensor() + low_tensor() + low_tensor()) \n",
    "\n",
    "# random tensor of some dim\n",
    "def rand_tensor():\n",
    "    return tl.tensor(np.random.randint(1, 100000, size=(3,2,2)))*1.0\n",
    "\n",
    "# generates rank 1 tensors\n",
    "def low_tensor():\n",
    "    max = 30\n",
    "    a = np.random.randint(1, max, size=3) \n",
    "    b = np.random.randint(1, max, size=2)\n",
    "    c = np.random.randint(1, max, size=2)\n",
    "    tens = tl.tensor(np.kron(np.kron(a, b), c).reshape(3, 2, 2)) * 1.0\n",
    "    return tens\n",
    "\n",
    "# checks if all subtensors have nonneg rank 3\n",
    "def check(t):\n",
    "    t1 = tl.tensor([t[0], t[1]])\n",
    "    t2 = tl.tensor([t[1], t[2]])\n",
    "    t3 = tl.tensor([t[0], t[2]])\n",
    "    a1 = det(Matrix(t1[0]))\n",
    "    a2 = det(Matrix(t1[1]))\n",
    "    a3 = det(Matrix(t2[0]))\n",
    "    a4 = det(Matrix(t2[1]))\n",
    "    b1 = det(Matrix(t1[:,0]))\n",
    "    b2 = det(Matrix(t1[:,1]))\n",
    "    b3 = det(Matrix(t2[:,0]))\n",
    "    b4 = det(Matrix(t2[:,1]))\n",
    "    c1 = det(Matrix(t1[:,:,0]))\n",
    "    c2 = det(Matrix(t1[:,:,1]))\n",
    "    c3 = det(Matrix(t2[:,:,0]))\n",
    "    c4 = det(Matrix(t2[:,:,1]))\n",
    "\n",
    "    a5 = det(Matrix(t3[0]))\n",
    "    a6 = det(Matrix(t3[1]))\n",
    "\n",
    "    b5 = det(Matrix(t3[:,0]))\n",
    "    b6 = det(Matrix(t3[:,1]))\n",
    "\n",
    "    c5 = det(Matrix(t3[:,:,0]))\n",
    "    c6 = det(Matrix(t3[:,:,1]))\n",
    "    return sgn([a1, a2,a3,a4,a5,a6]) or sgn([b1,b2,b3,b4,b5,b6]) or sgn([c1,c2,c3,c4,c5,c6])\n",
    "\n",
    "# determines sign of a list\n",
    "def sgn(a):\n",
    "    t = 0\n",
    "    ab = 0\n",
    "    for a_i in a:\n",
    "        t+= abs(a_i)\n",
    "        ab += a_i\n",
    "    return t == abs(ab)\n",
    "\n",
    "\n",
    "# checks if the give 2x2x2 tensor has nonneg rank 3\n",
    "def check_r3(t):\n",
    "    a1 = det(Matrix(t[0]))\n",
    "    a2 = det(Matrix(t[1]))\n",
    "    b1 = det(Matrix(t[:,0]))\n",
    "    b2 = det(Matrix(t[:,1]))\n",
    "    c1 = det(Matrix(t[:,:,0]))\n",
    "    c2 = det(Matrix(t[:,:,1]))\n",
    "    return sgn([a1,a2]) or sgn([b1,b2]) or sgn([c1,c2])\n",
    "\n",
    "# checks if given 2x2x2 has nonneg rank 2\n",
    "def check_r2(t):\n",
    "    a1 = det(Matrix(t[0]))\n",
    "    a2 = det(Matrix(t[1]))\n",
    "    b1 = det(Matrix(t[:,0]))\n",
    "    b2 = det(Matrix(t[:,1]))\n",
    "    c1 = det(Matrix(t[:,:,0]))\n",
    "    c2 = det(Matrix(t[:,:,1]))\n",
    "    d1 = ineq(a1,a2,b1,b2,c1,c2,ge,ge,ge)\n",
    "    d2 = ineq(a1,a2,b1,b2,c1,c2,le,le,ge)\n",
    "    d3 = ineq(a1,a2,b1,b2,c1,c2,le,ge,le)\n",
    "    d4 = ineq(a1,a2,b1,b2,c1,c2,ge,le,le)\n",
    "    supermod = d1 or d2 or d3 or d4\n",
    "    return supermod\n",
    "\n",
    "\n",
    "# helpers\n",
    "def ineq(a1,a2,b1,b2,c1,c2,f1,f2,f3):\n",
    "    t1 = f1(a1,0) and f1(a2,0)\n",
    "    t2 = f2(b1,0) and f2(b2,0)\n",
    "    t3 = f3(c1,0) and f3(c2,0)\n",
    "    return t1 and t2 and t3\n",
    "    \n",
    "def ge(a1,a2):\n",
    "    return a1 >= a2\n",
    "\n",
    "def le(a1,a2):\n",
    "    return a1 <= a2\n",
    "\n",
    "# Checks if 2x2x3 contains a 2x2x2 with nonneg 4\n",
    "def check_r4(t):\n",
    "    a1 = not check_r3(tl.tensor([t[0],t[1]]))\n",
    "    a2 = not check_r3(tl.tensor([t[0],t[2]]))\n",
    "    a3 = not check_r3(tl.tensor([t[1],t[2]]))\n",
    "    return a1 or a2 or a3 "
   ]
  },
  {
   "cell_type": "code",
   "execution_count": 229,
   "id": "muslim-collector",
   "metadata": {},
   "outputs": [],
   "source": [
    "def mat_inv(t):\n",
    "    tens = t.copy()\n",
    "    M_1 = Matrix([Matrix(tens[0][1]).transpose(),Matrix(tens[0][0]).transpose()])\n",
    "    M_2 = Matrix([Matrix(tens[1][1]).transpose(),Matrix(tens[1][0]).transpose()])\n",
    "    M_3 = Matrix([Matrix(tens[2][1]).transpose(),Matrix(tens[2][0]).transpose()])\n",
    "    tens[0] = M_1\n",
    "    tens[1] = M_2\n",
    "    tens[2] = M_3\n",
    "    return tens\n",
    "\n",
    "def mat_trans(t):\n",
    "    tens = t.copy()\n",
    "    tens[0] = tens[0].transpose()\n",
    "    tens[1] = tens[1].transpose()\n",
    "    tens[2] = tens[2].transpose()\n",
    "    return tens\n",
    "\n",
    "def rotate(t):\n",
    "    return mat_inv(mat_trans(t))\n",
    "\n",
    "def proc_smaller(t):\n",
    "    tens = t.copy()\n",
    "    b = symbols('b')\n",
    "    M = Matrix([[tens[0,1,0]*b,tens[0,0,1]*1],[tens[1,1,0],tens[1,0,1]],\n",
    "               [tens[2,1,0],tens[2,0,1]]])\n",
    "    R1 = Matrix([tens[0,1,1],tens[1,1,1],tens[2,1,1]])\n",
    "    R2 = Matrix([tens[0,0,0],tens[1,0,0],tens[2,0,0]])\n",
    "    M1 = Matrix([[M,R1]])\n",
    "    M2 = Matrix([[M,R2]])\n",
    "    b1 = solve(M1.det(),b)[0]\n",
    "    b2 = solve(M2.det(),b)[0]\n",
    "    M1 = Matrix([[tens[0,1,0]*b1,tens[0,0,1]],[tens[1,1,0],tens[1,0,1]],\n",
    "                [tens[2,1,0],tens[2,0,1]]])\n",
    "    M2 = Matrix([[tens[0,1,0]*b2,tens[0,0,1]],[tens[1,1,0],tens[1,0,1]],\n",
    "                [tens[2,1,0],tens[2,0,1]]])\n",
    "    M1_sub = Matrix(M1[0:2,0:2])\n",
    "    M2_sub = Matrix(M2[0:2,0:2])\n",
    "    sol1 = np.array(M1_sub.adjugate() @ Matrix(R1[0:2]) /det(M1_sub), dtype = \"float\")\n",
    "    sol2 = np.array(M2_sub.adjugate() @ Matrix(R2[0:2]) /det(M2_sub), dtype = \"float\")\n",
    "    sol1 = np.append(np.array(b1, dtype =\"float\"),sol1)\n",
    "    sol2 = np.append(np.array(b2, dtype =\"float\"),sol2)\n",
    "    return (sol1,sol2)\n",
    "\n",
    "def proc_tensor(t):\n",
    "    tens = t.copy()\n",
    "    M_b = Matrix([[Matrix(tens[:,0,0]), Matrix(tens[:,0,1]), Matrix(tens[:,1,1])]]).transpose()\n",
    "    M_a = Matrix([[Matrix(tens[:,0,0]), Matrix(tens[:,0,1]), Matrix(tens[:,1,0])]]).transpose()\n",
    "    a = 1\n",
    "    b = M_b.det() / M_a.det()\n",
    "    M = Matrix([[tens[0][0][0],0,a,0,0],[0,tens[0][0][1],b,0,0],\n",
    "                [tens[1][0][0],0,0,a,0],[0,tens[1][0][1],0,b,0],\n",
    "                [tens[2][0][0],0,0,0,a],[0,tens[2][0][1],0,0,b]])\n",
    "    R = Matrix([Matrix(tens[0,1]),Matrix(tens[1,1]),Matrix(tens[2,1])])\n",
    "    M_sub = Matrix(M[0:5,0:5])\n",
    "    sol = np.array(np.array(M_sub.adjugate(), dtype = \"float\") @ np.array(Matrix(R[0:5]), dtype = \"float\") /M_sub.det(), dtype = \"float\")\n",
    "    return np.append(np.array([b], dtype = \"float\"),sol)\n",
    "\n",
    "def loop_rotations(i):\n",
    "    tens = rand_tensor()\n",
    "    tens = rank_tree()\n",
    "    ret = [0] *11\n",
    "    c1 = proc_tensor(tens)\n",
    "    if np.all(c1>=0):\n",
    "        ret[1] = 1\n",
    "    c2 = proc_tensor(mat_trans(tens))\n",
    "    if np.all(c2>=0):\n",
    "        ret[2] = 1\n",
    "    c3 = proc_tensor(mat_inv(tens))\n",
    "    if np.all(c3>=0):\n",
    "        ret[3] = 1\n",
    "    c4 = proc_tensor(rotate(tens))\n",
    "    if np.all(c4>=0):\n",
    "        ret[4] = 1\n",
    "    a1 = proc_smaller(tens)\n",
    "    a2 = proc_smaller(mat_inv(tens))\n",
    "    c5 = np.all(a1[0] >=0) or np.all(a1[1] >=0)\n",
    "    c6 = np.all(a2[0] >=0) or np.all(a2[1] >=0)\n",
    "    if c5 or c6:\n",
    "        ret[5] = 1\n",
    "    total = sum(ret)\n",
    "    if total >= 1:\n",
    "        ret[0] = 1\n",
    "    #ret[6+total] = 1\n",
    "    r4 = check_r4(tens)\n",
    "    if r4:\n",
    "        ret[6] = 1\n",
    "    else:\n",
    "        ret[6] = 0\n",
    "    if r4 and (c5 or c6):\n",
    "        ret[10] = 1\n",
    "    return ret\n",
    "\n",
    "def test(tens):\n",
    "    ret = [0] *11\n",
    "    c1 = proc_tensor(tens)\n",
    "    if np.all(c1>=0):\n",
    "        ret[1] = 1\n",
    "    c2 = proc_tensor(mat_trans(tens))\n",
    "    if np.all(c2>=0):\n",
    "        ret[2] = 1\n",
    "    c3 = proc_tensor(mat_inv(tens))\n",
    "    if np.all(c3>=0):\n",
    "        ret[3] = 1\n",
    "    c4 = proc_tensor(rotate(tens))\n",
    "    if np.all(c4>=0):\n",
    "        ret[4] = 1\n",
    "    c5 = proc_smaller(tens)\n",
    "    c6 = proc_smaller(mat_inv(tens))\n",
    "    if c5 or c6:\n",
    "        ret[5] = 1\n",
    "    total = sum(ret)\n",
    "    if total >= 1:\n",
    "        ret[0] = 1\n",
    "    #ret[6+total] = 1\n",
    "    r4 = check_r4(tens)\n",
    "    if r4:\n",
    "        ret[6] = 1\n",
    "    else:\n",
    "        ret[6] = 0\n",
    "    if r4 and (c5 or c6):\n",
    "        ret[10] = 1\n",
    "    return ret"
   ]
  },
  {
   "cell_type": "code",
   "execution_count": 195,
   "id": "under-custom",
   "metadata": {},
   "outputs": [
    {
     "name": "stdout",
     "output_type": "stream",
     "text": [
      "[980, 332, 337, 343, 329, 976, 0, 189, 245, 546, 0]\n",
      "38.888128995895386\n"
     ]
    }
   ],
   "source": [
    "te = time.time()\n",
    "total = 1000\n",
    "results = Parallel(n_jobs=6)(delayed(loop_rotations)(i) for i in range(total))\n",
    "res = [sum(x) for x in zip(*results)]\n",
    "print(res)\n",
    "print(time.time() - te)"
   ]
  },
  {
   "cell_type": "code",
   "execution_count": 22,
   "id": "random-shepherd",
   "metadata": {},
   "outputs": [
    {
     "data": {
      "text/plain": [
       "array([[ 3.59715640e-01],\n",
       "       [-8.66250000e+00],\n",
       "       [ 3.47716303e+03],\n",
       "       [ 4.00846493e+03],\n",
       "       [ 3.92031469e+03]])"
      ]
     },
     "execution_count": 22,
     "metadata": {},
     "output_type": "execute_result"
    }
   ],
   "source": [
    "tens = rank_tree()\n",
    "#tens = tl.tensor(np.random.randint(1, 100000, size=(3,2,2)))*1.0\n",
    "M_b = Matrix([[Matrix(tens[:,0,0]), Matrix(tens[:,0,1]), Matrix(tens[:,1,1])]]).transpose()\n",
    "M_a = Matrix([[Matrix(tens[:,0,0]), Matrix(tens[:,0,1]), Matrix(tens[:,1,0])]]).transpose()\n",
    "a = 1\n",
    "b = M_b.det() / M_a.det()\n",
    "M = Matrix([[tens[0][0][0],0,a,0,0],[0,tens[0][0][1],b,0,0],\n",
    "            [tens[1][0][0],0,0,a,0],[0,tens[1][0][1],0,b,0],\n",
    "            [tens[2][0][0],0,0,0,a],[0,tens[2][0][1],0,0,b]])\n",
    "R = Matrix([Matrix(tens[0,1]),Matrix(tens[1,1]),Matrix(tens[2,1])])\n",
    "M_sub = Matrix(M[0:5,0:5])\n",
    "sol = np.array((M_sub.adjugate() @ Matrix(R[0:5])) /M_sub.det(), dtype = \"float\")\n",
    "sol1 = la.solve(np.array(M.T @ M, dtype = \"float\"), np.array(M.T @ R, dtype = \"float\"))\n",
    "sol\n"
   ]
  },
  {
   "cell_type": "code",
   "execution_count": 222,
   "id": "buried-affect",
   "metadata": {},
   "outputs": [
    {
     "name": "stdout",
     "output_type": "stream",
     "text": [
      "True [1, 0, 0, 0, 0, 1, 1, 0, 0, 0, 1]\n"
     ]
    }
   ],
   "source": [
    "tens = rand_tensor()\n",
    "print(check_r4(tens), test(tens))"
   ]
  },
  {
   "cell_type": "code",
   "execution_count": 237,
   "id": "fleet-requirement",
   "metadata": {},
   "outputs": [
    {
     "data": {
      "text/plain": [
       "(array([1.13857673e+01, 9.91700137e-02, 8.57771441e-03]),\n",
       " array([-6.75037962, -0.1512679 ,  0.52594589]))"
      ]
     },
     "execution_count": 237,
     "metadata": {},
     "output_type": "execute_result"
    }
   ],
   "source": [
    "sol = proc_smaller(mat_inv(tens))\n",
    "sol1 = sol[0]\n",
    "sol2 = sol[1]\n",
    "sol"
   ]
  },
  {
   "cell_type": "code",
   "execution_count": 235,
   "id": "powered-resource",
   "metadata": {},
   "outputs": [
    {
     "data": {
      "text/plain": [
       "array([[[56038., 63283.],\n",
       "        [57773.,  1049.]],\n",
       "\n",
       "       [[68631.,  7656.],\n",
       "        [41728., 99078.]],\n",
       "\n",
       "       [[ 7841.,  1498.],\n",
       "        [42986., 83986.]]])"
      ]
     },
     "execution_count": 235,
     "metadata": {},
     "output_type": "execute_result"
    }
   ],
   "source": [
    "tens"
   ]
  },
  {
   "cell_type": "code",
   "execution_count": 240,
   "id": "major-arthritis",
   "metadata": {},
   "outputs": [
    {
     "name": "stdout",
     "output_type": "stream",
     "text": [
      "63283.0 7656.0 1498.0000000000005\n"
     ]
    }
   ],
   "source": [
    "t = tens\n",
    "a = t[0,0,0]*sol1[0]*sol1[1] + t[0,1,1]*sol1[2]# - t[0,0,1]\n",
    "b = t[1,0,0]*sol1[1] + t[1,1,1]*sol1[2] #- t[1,0,1]\n",
    "c = t[2,0,0]*sol1[1] + t[2,1,1]*sol1[2] #- t[2,0,1]\n",
    "print(a,b,c)"
   ]
  },
  {
   "cell_type": "code",
   "execution_count": 241,
   "id": "7ba86a9f-1db8-4834-98de-b4a78e477877",
   "metadata": {},
   "outputs": [
    {
     "name": "stdout",
     "output_type": "stream",
     "text": [
      "57772.99999999999 41728.0 42986.00000000001\n"
     ]
    }
   ],
   "source": [
    "a = t[0,0,0]*sol2[0]*sol2[1] + t[0,1,1]*sol2[2] #- t[0,0,1]\n",
    "b = t[1,0,0]*sol2[1] + t[1,1,1]*sol2[2]# - t[1,0,1]\n",
    "c = t[2,0,0]*sol2[1] + t[2,1,1]*sol2[2]# - t[2,0,1]\n",
    "print(a,b,c)"
   ]
  },
  {
   "cell_type": "code",
   "execution_count": 251,
   "id": "quality-somalia",
   "metadata": {},
   "outputs": [
    {
     "data": {
      "text/plain": [
       "array([[[ 56038.        ,      0.        ],\n",
       "        [638035.62793975,      0.        ]],\n",
       "\n",
       "       [[ 68631.        ,      0.        ],\n",
       "        [781416.59554468,      0.        ]],\n",
       "\n",
       "       [[  7841.        ,      0.        ],\n",
       "        [ 89275.80139683,      0.        ]]])"
      ]
     },
     "execution_count": 251,
     "metadata": {},
     "output_type": "execute_result"
    }
   ],
   "source": [
    "a1 = np.array([1,0])\n",
    "a2 = np.array([1,sol1[0]])\n",
    "a3 = np.array([t[0,0,0],t[1,0,0],t[2,0,0]])\n",
    "np.kron(np.kron(a3,a2),a1).reshape((3,2,2))"
   ]
  },
  {
   "cell_type": "code",
   "execution_count": 178,
   "id": "significant-breach",
   "metadata": {},
   "outputs": [
    {
     "data": {
      "text/plain": [
       "array([[[  927.,   822.],\n",
       "        [ 3152.,  1984.]],\n",
       "\n",
       "       [[ 2017.,  1762.],\n",
       "        [ 6982.,  4324.]],\n",
       "\n",
       "       [[ 5604.,  6864.],\n",
       "        [ 9437., 10490.]]])"
      ]
     },
     "execution_count": 178,
     "metadata": {},
     "output_type": "execute_result"
    }
   ],
   "source": []
  },
  {
   "cell_type": "code",
   "execution_count": 75,
   "id": "major-twenty",
   "metadata": {},
   "outputs": [],
   "source": [
    "def proc_new(i):\n",
    "    tens = rank_tree()\n",
    "    tens = tl.tensor(np.random.randint(1, 100000, size=(3,2,2)))*1.0\n",
    "    M_b = Matrix([[Matrix(tens[:,0,0]), Matrix(tens[:,0,1]), Matrix(tens[:,1,1])]]).transpose()\n",
    "    M_a = Matrix([[Matrix(tens[:,0,0]), Matrix(tens[:,0,1]), Matrix(tens[:,1,0])]]).transpose()\n",
    "    a = 1\n",
    "    b = M_b.det() / M_a.det()\n",
    "    M = Matrix([[tens[0][0][0],0,a,0,0],[0,tens[0][0][1],b,0,0],\n",
    "                [tens[1][0][0],0,0,a,0],[0,tens[1][0][1],0,b,0],\n",
    "                [tens[2][0][0],0,0,0,a],[0,tens[2][0][1],0,0,b]])\n",
    "    R = Matrix([Matrix(tens[0,1]),Matrix(tens[1,1]),Matrix(tens[2,1])])\n",
    "    M_sub = Matrix(M[0:5,0:5])\n",
    "    sol = np.array(np.array(M_sub.adjugate(), dtype = \"float\") @ np.array(Matrix(R[0:5], dtype = \"float\")) /M_sub.det(), dtype = \"float\")\n",
    "    #display(Latex(latex(M1)))\n",
    "    ret = [0,0,0,0]\n",
    "    cond = np.all(sol >= 0) and b >= 0\n",
    "    cond1 = check_r4(tens)\n",
    "    if np.all(sol > 0) and b >= 0:\n",
    "        ret[3] = 1\n",
    "    if cond and cond1:\n",
    "        ret[0] = 1\n",
    "    if cond:\n",
    "        ret[1] = 1\n",
    "    if cond1:\n",
    "        ret[2] = 1\n",
    "    return tuple(ret)"
   ]
  },
  {
   "cell_type": "code",
   "execution_count": 77,
   "id": "monetary-passion",
   "metadata": {},
   "outputs": [
    {
     "name": "stdout",
     "output_type": "stream",
     "text": [
      "[0, 42, 514, 42]\n",
      "6.84350061416626\n"
     ]
    }
   ],
   "source": [
    "te = time.time()\n",
    "total = 1000\n",
    "results = Parallel(n_jobs=4)(delayed(proc_new)(i) for i in range(total))\n",
    "res = [sum(x) for x in zip(*results)]\n",
    "print(res)\n",
    "print(time.time() - te)"
   ]
  },
  {
   "cell_type": "code",
   "execution_count": 145,
   "id": "compound-geography",
   "metadata": {},
   "outputs": [
    {
     "data": {
      "text/plain": [
       "array([[[82580., 17454.],\n",
       "        [10171., 65847.]],\n",
       "\n",
       "       [[53559.,  5176.],\n",
       "        [91069.,  2536.]],\n",
       "\n",
       "       [[93689., 42512.],\n",
       "        [47881., 31643.]]])"
      ]
     },
     "execution_count": 145,
     "metadata": {},
     "output_type": "execute_result"
    }
   ],
   "source": [
    "tens = rand_tensor()\n",
    "tens"
   ]
  },
  {
   "cell_type": "code",
   "execution_count": 118,
   "id": "supreme-james",
   "metadata": {},
   "outputs": [
    {
     "data": {
      "text/plain": [
       "array([[[17191., 16872.],\n",
       "        [64846., 39390.]],\n",
       "\n",
       "       [[69681., 55270.],\n",
       "        [99211., 13057.]],\n",
       "\n",
       "       [[15872., 84638.],\n",
       "        [37720., 79047.]]])"
      ]
     },
     "execution_count": 118,
     "metadata": {},
     "output_type": "execute_result"
    }
   ],
   "source": [
    "tens"
   ]
  },
  {
   "cell_type": "code",
   "execution_count": 119,
   "id": "eb13c0d3-6159-42a3-8801-7d777f04ca70",
   "metadata": {},
   "outputs": [
    {
     "data": {
      "text/latex": [
       "$\\displaystyle 39390.0$"
      ],
      "text/plain": [
       "39390.0000000000"
      ]
     },
     "execution_count": 119,
     "metadata": {},
     "output_type": "execute_result"
    }
   ],
   "source": [
    "64846*b1*sol1[1] + 16872*sol1[2]"
   ]
  },
  {
   "cell_type": "code",
   "execution_count": 122,
   "id": "c3406760-d5d8-43cb-87c3-b6504a65bdd1",
   "metadata": {},
   "outputs": [
    {
     "data": {
      "text/plain": [
       "13056.999999999993"
      ]
     },
     "execution_count": 122,
     "metadata": {},
     "output_type": "execute_result"
    }
   ],
   "source": [
    "99211 * sol1[1] + 55270*sol1[2]"
   ]
  },
  {
   "cell_type": "code",
   "execution_count": 123,
   "id": "6bcefe8c-86fd-4403-b74f-87f1d2cb6e53",
   "metadata": {},
   "outputs": [
    {
     "data": {
      "text/plain": [
       "79046.99999999999"
      ]
     },
     "execution_count": 123,
     "metadata": {},
     "output_type": "execute_result"
    }
   ],
   "source": [
    "37720 * sol1[1] + 84638*sol1[2]"
   ]
  },
  {
   "cell_type": "code",
   "execution_count": 179,
   "id": "smart-marsh",
   "metadata": {},
   "outputs": [
    {
     "data": {
      "text/plain": [
       "array([1.30822778, 0.63907839, 0.25265719])"
      ]
     },
     "execution_count": 179,
     "metadata": {},
     "output_type": "execute_result"
    }
   ],
   "source": [
    "tens = rand_tensor()\n",
    "b = symbols('b')\n",
    "M = Matrix([[tens[0,1,0]*b,tens[0,0,1]*1],[tens[1,1,0],tens[1,0,1]],\n",
    "           [tens[2,1,0],tens[2,0,1]]])\n",
    "R1= Matrix([tens[0,1,1],tens[1,1,1],tens[2,1,1]])\n",
    "R2 = Matrix([tens[0,0,0],tens[1,0,0],tens[2,0,0]])\n",
    "M1 = Matrix([[M,R1]])\n",
    "M2 = Matrix([[M,R2]])\n",
    "b1 = solve(M1.det(),b)[0]\n",
    "b2 = solve(M2.det(),b)[0]\n",
    "M1 = Matrix([[tens[0,1,0]*b1,tens[0,0,1]],[tens[1,1,0],tens[1,0,1]],\n",
    "            [tens[2,1,0],tens[2,0,1]]])\n",
    "M2 = Matrix([[tens[0,1,0]*b2,tens[0,0,1]],[tens[1,1,0],tens[1,0,1]],\n",
    "            [tens[2,1,0],tens[2,0,1]]])\n",
    "M1_sub = Matrix(M1[0:2,0:2])\n",
    "M2_sub = Matrix(M2[0:2,0:2])\n",
    "sol1 = np.array(M1_sub.adjugate() * Matrix(R1[0:2]) /det(M1_sub), dtype = \"float\")\n",
    "sol2 = np.array(M2_sub.adjugate() * Matrix(R2[0:2]) /det(M2_sub), dtype = \"float\")\n",
    "sol1 = np.append(np.array(b1, dtype =\"float\"),sol1)\n",
    "sol2 = np.append(np.array(b2, dtype =\"float\"),sol2)\n",
    "sol1"
   ]
  },
  {
   "cell_type": "code",
   "execution_count": 180,
   "id": "940b4d5d-36f9-49c0-9408-cc88e78794a0",
   "metadata": {},
   "outputs": [
    {
     "data": {
      "text/plain": [
       "array([ 2.64822072,  1.71079805, -2.90639503])"
      ]
     },
     "execution_count": 180,
     "metadata": {},
     "output_type": "execute_result"
    }
   ],
   "source": [
    "sol2"
   ]
  },
  {
   "cell_type": "code",
   "execution_count": 182,
   "id": "9a85f924-a9f5-40a6-a8b2-ae07c23fe514",
   "metadata": {},
   "outputs": [],
   "source": [
    "t = rand_tensor()\n",
    "tens = mat_inv(t)\n",
    "b = symbols('b')\n",
    "M = Matrix([[tens[0,1,0]*b,tens[0,0,1]*1],[tens[1,1,0],tens[1,0,1]],\n",
    "           [tens[2,1,0],tens[2,0,1]]])\n",
    "R1= Matrix([tens[0,1,1],tens[1,1,1],tens[2,1,1]])\n",
    "R2 = Matrix([tens[0,0,0],tens[1,0,0],tens[2,0,0]])\n",
    "M1 = Matrix([[M,R1]])\n",
    "M2 = Matrix([[M,R2]])\n",
    "b1 = solve(M1.det(),b)[0]\n",
    "b2 = solve(M2.det(),b)[0]\n",
    "M1 = Matrix([[tens[0,1,0]*b1,tens[0,0,1]],[tens[1,1,0],tens[1,0,1]],\n",
    "            [tens[2,1,0],tens[2,0,1]]])\n",
    "M2 = Matrix([[tens[0,1,0]*b2,tens[0,0,1]],[tens[1,1,0],tens[1,0,1]],\n",
    "            [tens[2,1,0],tens[2,0,1]]])\n",
    "M1_sub = Matrix(M1[0:2,0:2])\n",
    "M2_sub = Matrix(M2[0:2,0:2])\n",
    "sol1 = np.array(M1_sub.adjugate() @ Matrix(R1[0:2]) /det(M1_sub), dtype = \"float\")\n",
    "sol2 = np.array(M2_sub.adjugate() @ Matrix(R2[0:2]) /det(M2_sub), dtype = \"float\")\n",
    "sol1 = np.append(np.array(b1, dtype =\"float\"),sol1)\n",
    "sol2 = np.append(np.array(b2, dtype =\"float\"),sol2)"
   ]
  },
  {
   "cell_type": "code",
   "execution_count": 183,
   "id": "cde65c9b-f17c-4f96-acc3-2dead3d2de86",
   "metadata": {},
   "outputs": [
    {
     "data": {
      "text/plain": [
       "array([ 0.12490955,  3.76697215, -1.2575577 ])"
      ]
     },
     "execution_count": 183,
     "metadata": {},
     "output_type": "execute_result"
    }
   ],
   "source": [
    "sol1"
   ]
  },
  {
   "cell_type": "code",
   "execution_count": 184,
   "id": "43ea220e-8b40-4363-a864-dc3174b3b2cb",
   "metadata": {},
   "outputs": [
    {
     "data": {
      "text/plain": [
       "array([ 0.16918824,  3.56517757, -0.27575945])"
      ]
     },
     "execution_count": 184,
     "metadata": {},
     "output_type": "execute_result"
    }
   ],
   "source": [
    "sol2"
   ]
  },
  {
   "cell_type": "code",
   "execution_count": 185,
   "id": "3e6e92bc-0376-4472-85c0-56acf414e51a",
   "metadata": {},
   "outputs": [
    {
     "data": {
      "text/plain": [
       "(array([ 0.12490955,  3.76697215, -1.2575577 ]),\n",
       " array([ 0.16918824,  3.56517757, -0.27575945]))"
      ]
     },
     "execution_count": 185,
     "metadata": {},
     "output_type": "execute_result"
    }
   ],
   "source": [
    "proc_smaller(tens)"
   ]
  },
  {
   "cell_type": "code",
   "execution_count": 175,
   "id": "4c3c12fe-3fc4-431f-8f76-197c800e2bdb",
   "metadata": {},
   "outputs": [
    {
     "data": {
      "text/plain": [
       "array([[[70658., 25974.],\n",
       "        [55008., 19464.]],\n",
       "\n",
       "       [[33948., 63817.],\n",
       "        [59161., 74908.]],\n",
       "\n",
       "       [[54140., 51160.],\n",
       "        [46581., 94278.]]])"
      ]
     },
     "execution_count": 175,
     "metadata": {},
     "output_type": "execute_result"
    }
   ],
   "source": [
    "t"
   ]
  },
  {
   "cell_type": "code",
   "execution_count": 174,
   "id": "b980ae4a-ba5d-4cdf-b6a4-ecb3d7d07f48",
   "metadata": {},
   "outputs": [
    {
     "name": "stdout",
     "output_type": "stream",
     "text": [
      "25974.0000000000 63816.999999999985 51159.99999999997\n"
     ]
    }
   ],
   "source": [
    "a = t[0,0,0]*b1*sol1[1] + t[0,1,1]*sol1[2]# - t[0,0,1]\n",
    "b = t[1,0,0]*sol1[1] + t[1,1,1]*sol1[2] #- t[1,0,1]\n",
    "c = t[2,0,0]*sol1[1] + t[2,1,1]*sol1[2] #- t[2,0,1]\n",
    "print(a,b,c)"
   ]
  },
  {
   "cell_type": "code",
   "execution_count": 173,
   "id": "31e85315-2268-40f5-b503-900d1d82d5da",
   "metadata": {},
   "outputs": [
    {
     "name": "stdout",
     "output_type": "stream",
     "text": [
      "55008.0000000000 59160.999999999985 46581.0\n"
     ]
    }
   ],
   "source": [
    "a = t[0,0,0]*sol2[0]*sol2[1] + t[0,1,1]*sol2[2] #- t[0,0,1]\n",
    "b = t[1,0,0]*sol2[1] + t[1,1,1]*sol2[2]# - t[1,0,1]\n",
    "c = t[2,0,0]*sol2[1] + t[2,1,1]*sol2[2]# - t[2,0,1]\n",
    "print(a,b,c)"
   ]
  },
  {
   "cell_type": "code",
   "execution_count": 257,
   "id": "a9dce63e-15ed-4dd6-a21b-f4cbf9ea37c2",
   "metadata": {},
   "outputs": [],
   "source": [
    "b = symbols('b')\n",
    "M = Matrix([[tens[0,1,0]*b,tens[0,0,1]*1],[tens[1,1,0]*b,tens[1,0,1]],\n",
    "           [tens[2,1,0]*b,tens[2,0,1]]])\n",
    "R1= Matrix([tens[0,1,1],tens[1,1,1],tens[2,1,1]])\n",
    "M1= Matrix([[M,R1]])"
   ]
  },
  {
   "cell_type": "code",
   "execution_count": 259,
   "id": "60050924-ca12-40b9-81a0-1d8571fca788",
   "metadata": {},
   "outputs": [
    {
     "data": {
      "text/latex": [
       "$\\displaystyle 76034236128328.0 b$"
      ],
      "text/plain": [
       "76034236128328.0*b"
      ]
     },
     "execution_count": 259,
     "metadata": {},
     "output_type": "execute_result"
    }
   ],
   "source": [
    "M1.det()"
   ]
  },
  {
   "cell_type": "code",
   "execution_count": null,
   "id": "3a965a34-16bc-4f4e-8647-64d84cb33f08",
   "metadata": {},
   "outputs": [],
   "source": []
  }
 ],
 "metadata": {
  "kernelspec": {
   "display_name": "Python 3 (ipykernel)",
   "language": "python",
   "name": "python3"
  },
  "language_info": {
   "codemirror_mode": {
    "name": "ipython",
    "version": 3
   },
   "file_extension": ".py",
   "mimetype": "text/x-python",
   "name": "python",
   "nbconvert_exporter": "python",
   "pygments_lexer": "ipython3",
   "version": "3.9.1"
  }
 },
 "nbformat": 4,
 "nbformat_minor": 5
}
