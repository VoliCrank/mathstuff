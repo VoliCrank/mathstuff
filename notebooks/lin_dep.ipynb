{
 "cells": [
  {
   "cell_type": "code",
   "execution_count": 1,
   "id": "02220d69-63e3-4c3c-838b-839f18fdc320",
   "metadata": {},
   "outputs": [],
   "source": [
    "import tensorly as tl\n",
    "import numpy as np\n",
    "from numpy import linalg as la\n",
    "from sympy import *\n",
    "from tensorly.decomposition import parafac\n",
    "from tensorly.decomposition import non_negative_parafac_hals"
   ]
  },
  {
   "cell_type": "code",
   "execution_count": 30,
   "id": "ad24eb2d-fc8b-4091-98b0-ee308b80b660",
   "metadata": {},
   "outputs": [],
   "source": [
    "def check_rank(tensor, rank, non_neg=True, n=10, tol=0.001, p=False):\n",
    "    if non_neg:\n",
    "        for k in range(n):\n",
    "            weights, factors = non_negative_parafac_hals(tensor, n_iter_max=1000000, rank=rank, init='random')\n",
    "            full = tl.cp_to_tensor((weights, factors))\n",
    "            diff = (full - tensor) / tensor\n",
    "            if p:\n",
    "                print(factors)\n",
    "                print(tl.max(abs(diff)))\n",
    "            if tl.max(abs(diff)) < tol:\n",
    "                return True\n",
    "    else:\n",
    "        for k in range(n):\n",
    "            weights, factors = parafac(tensor, n_iter_max=1000000, rank=rank)\n",
    "            full = tl.cp_to_tensor((weights, factors))\n",
    "            diff = (full - tensor) / tensor\n",
    "            if p:\n",
    "                print(tl.max(abs(diff)))\n",
    "            if tl.max(abs(diff)) < tol:\n",
    "                return True\n",
    "    return False\n",
    "\n",
    "def low_tensor():\n",
    "    high = 200\n",
    "    a = np.random.randint(1, high, size=3) * 0.1\n",
    "    b = np.random.randint(1, high, size=3) * 0.1\n",
    "    c = np.random.randint(1, high, size=3) * 0.1\n",
    "    tens = tl.tensor(np.kron(np.kron(a, b), c).reshape(3, 3, 3)) * 1.0\n",
    "    return (tens, a,b,c)\n",
    "\n",
    "def check_req(p):\n",
    "    d1 = Matrix(p[0])\n",
    "    d2 = Matrix(p[1])\n",
    "    d3 = Matrix(p[2])\n",
    "    v1 = Matrix(p[:,:,0])\n",
    "    v2 = Matrix(p[:,:,1])\n",
    "    v3 = Matrix(p[:,:,2])\n",
    "    h1 = Matrix(p[:,0])\n",
    "    h2 = Matrix(p[:,1])\n",
    "    h3 = Matrix(p[:,2])\n",
    "    zero = Matrix([[0, 0, 0], [0, 0, 0], [0, 0, 0]])\n",
    "    #d1a = d1.adjugate()\n",
    "    d2a = d2.adjugate()\n",
    "    #d3a = d3.adjugate()\n",
    "    #v1a = v1.adjugate()\n",
    "    #v2a = v2.adjugate()\n",
    "    #v3a = v3.adjugate()\n",
    "    #h1a = h1.adjugate()\n",
    "    #h2a = h2.adjugate()\n",
    "    #h3a = h3.adjugate()\n",
    "    a1 = d1 * d2a * d3 - d3* d2a * d1\n",
    "    #a2 = d2 * d3a * d1 - d1* d3a * d2\n",
    "    #a3 = d3 * d1a * d2 - d2* d1a * d3\n",
    "    #b1 = v1 * v2a * v3 - v3* v2a * v1 \n",
    "    #b2 = v2 * v3a * v1 - v1* v3a * v2 \n",
    "    #b3 = v3 * v1a * v2 - v2* v1a * v3 \n",
    "    #c1 = h1 * h2a * h3 - h3* h2a * h1\n",
    "    #c2 = h2 * h3a * h1 - h1* h3a * h2 \n",
    "    #c3 = h3 * h1a * h2 - h2* h1a * h3 \n",
    "    #print(a1,a2,a3)\n",
    "    #print(a,b,c)\n",
    "    #a = check(a1) and check(a2) and check(a3)\n",
    "    #b = check(b1) and check(b2) and check(b3)\n",
    "    #c = check(c1) and check(c2) and check(c3)\n",
    "    return check(a1)\n",
    "    \n",
    "def check(a):\n",
    "    a = Matrix(a)\n",
    "    return (max(abs(a)) < 5)"
   ]
  },
  {
   "cell_type": "code",
   "execution_count": 31,
   "id": "7f1c5f85-d0d8-473c-9c79-9bbfe5294961",
   "metadata": {},
   "outputs": [],
   "source": [
    "def lin_for():\n",
    "    high = 25\n",
    "    a = np.random.randint(1, high, size=3)\n",
    "    b = np.random.randint(1, high, size=3)\n",
    "    c = np.random.randint(1, high, size=3)\n",
    "    tens = tl.tensor(np.kron(np.kron(a, b), c).reshape(3, 3, 3)) * 1.0\n",
    "    a1 = np.random.randint(1, high, size=3)\n",
    "    b1 = np.random.randint(1, high, size=3)\n",
    "    c1 = np.random.randint(1, high, size=3)\n",
    "    a2 = 5* a1 + 2*a\n",
    "    b2 = np.random.randint(1, high, size=3)\n",
    "    c2 = np.random.randint(1, high, size=3)\n",
    "    tens1 = tl.tensor(np.kron(np.kron(a1, b1), c1).reshape(3, 3, 3)) * 1.0\n",
    "    tens2 = tl.tensor(np.kron(np.kron(a2, b2), c2).reshape(3, 3, 3)) * 1.0\n",
    "    a3 = a1 + 3*a\n",
    "    b3 = np.random.randint(1, high, size=3)\n",
    "    c3 = np.random.randint(1, high, size=3)\n",
    "    tens3 = tl.tensor(np.kron(np.kron(a3, b3), c3).reshape(3, 3, 3)) * 1.0\n",
    "    return ((tens + tens1 + tens2 + tens3),a,b,c,a1,b1,c1,a2,b2,c2,a3,b3,c3)\n",
    "\n",
    "def lin_tree():\n",
    "    high = 25\n",
    "    a = np.random.randint(1, high, size=3)\n",
    "    b = np.random.randint(1, high, size=3)\n",
    "    c = np.random.randint(1, high, size=3)\n",
    "    tens = tl.tensor(np.kron(np.kron(a, b), c).reshape(3, 3, 3)) * 1.0\n",
    "    a1 = np.random.randint(1, high, size=3)\n",
    "    b1 = np.random.randint(1, high, size=3)\n",
    "    c1 = np.random.randint(1, high, size=3)\n",
    "    a2 = 5* a1 + 2*a\n",
    "    b2 = np.random.randint(1, high, size=3)\n",
    "    c2 = np.random.randint(1, high, size=3)\n",
    "    tens1 = tl.tensor(np.kron(np.kron(a1, b1), c1).reshape(3, 3, 3)) * 1.0\n",
    "    tens2 = tl.tensor(np.kron(np.kron(a2, b2), c2).reshape(3, 3, 3)) * 1.0\n",
    "    a3 = a1 + 3*a\n",
    "    b3 = np.random.randint(1, high, size=3)\n",
    "    c3 = np.random.randint(1, high, size=3)\n",
    "    tens3 = tl.tensor(np.kron(np.kron(a3, b3), c3).reshape(3, 3, 3)) * 1.0\n",
    "    return ((tens + tens1 + tens2),a,b,c,a1,b1,c1,a2,b2,c2,a3,b3,c3)\n",
    "\n",
    "def min_det(t):\n",
    "    #t = tl.tensor(low_tensor()[0] + low_tensor()[0] + low_tensor()[0] + low_tensor()[0])\n",
    "    P1s = Matrix(t[:,0] + t[:,1] + t[:,2]).transpose()\n",
    "    P2s = Matrix(t[:,:,0] + t[:,:,1] + t[:,:,2]).transpose()\n",
    "    P3s = Matrix(t[0] + t[1] + t[2]).transpose()\n",
    "    P1a = P1s.adjugate()\n",
    "    dP1s = det(P1s)\n",
    "    A1 = P2s * P1a * t[0].transpose() * dP1s\n",
    "    A2 = P2s * P1a  * t[1].transpose() * dP1s\n",
    "    A3 = P2s * P1a * t[2].transpose() * dP1s\n",
    "    a = check_prin(Matrix(A1)) and check_prin(Matrix(A2)) and check_prin(Matrix(A3))\n",
    "    B1 = t[:,:,0].transpose() * P1a * P3s * dP1s\n",
    "    B2 = t[:,:,1].transpose() * P1a * P3s * dP1s\n",
    "    B3 = t[:,:,2].transpose() * P1a * P3s * dP1s\n",
    "    b = check_prin(B1) and check_prin(B2) and check_prin(B3)\n",
    "    C1 = t[:,0].transpose() * P2s.adjugate() * P3s.transpose() * det(P2s)\n",
    "    C2 = t[:,1].transpose() * P2s.adjugate() * P3s.transpose() * det(P2s)\n",
    "    C3 = t[:,2].transpose() * P2s.adjugate() * P3s.transpose() * det(P2s)\n",
    "    c = check_prin(C1) and check_prin(C2) and check_prin(C3)\n",
    "    return a and b and c\n",
    "\n",
    "def check_prin(A):\n",
    "    a1 = A[0,0] > 0\n",
    "    a2 = A.minor(2,2) > 0\n",
    "    A = A/1e+10\n",
    "    a3 = det(A) > 0\n",
    "    #print(A[0,0], A.minor(2,2), det(A))\n",
    "    return a1 and a2 and a3"
   ]
  },
  {
   "cell_type": "code",
   "execution_count": 32,
   "id": "357fb9de-561b-423b-81e3-a7eeffaf0027",
   "metadata": {},
   "outputs": [
    {
     "data": {
      "text/plain": [
       "array([[[1566.307, 2256.266, 1825.766],\n",
       "        [2188.665, 3112.542, 2388.672],\n",
       "        [1239.74 , 2074.888, 1398.094]],\n",
       "\n",
       "       [[1668.253, 2133.098, 2936.536],\n",
       "        [1924.519, 2660.254, 2879.026],\n",
       "        [1723.732, 2238.5  , 3151.132]],\n",
       "\n",
       "       [[1369.047, 2066.472, 2043.339],\n",
       "        [1832.853, 2801.544, 2584.524],\n",
       "        [1396.8  , 2177.826, 2082.282]]])"
      ]
     },
     "execution_count": 32,
     "metadata": {},
     "output_type": "execute_result"
    }
   ],
   "source": [
    "t = tl.tensor(low_tensor()[0] + low_tensor()[0] + low_tensor()[0] + low_tensor()[0])\n",
    "t"
   ]
  },
  {
   "cell_type": "code",
   "execution_count": 36,
   "id": "449bad49-ad11-4c78-9266-e7434b477246",
   "metadata": {},
   "outputs": [
    {
     "data": {
      "text/latex": [
       "$\\displaystyle 14246537.9907713$"
      ],
      "text/plain": [
       "14246537.9907713"
      ]
     },
     "execution_count": 36,
     "metadata": {},
     "output_type": "execute_result"
    }
   ],
   "source": [
    "det(Matrix(t[2]))"
   ]
  },
  {
   "cell_type": "code",
   "execution_count": 34,
   "id": "35acd791-b395-4764-adf7-f39910b0022c",
   "metadata": {},
   "outputs": [
    {
     "name": "stdout",
     "output_type": "stream",
     "text": [
      "1827855181.46573 158956010.719846\n"
     ]
    }
   ],
   "source": [
    "A = det(Matrix(t[:,:,0] + t[:,:,1] + t[:,:,2]))\n",
    "B = det(Matrix(t[:,0] + t[:,1] + t[:,2]))\n",
    "C = det(Matrix(t[0] + t[1] + t[2]))\n",
    "a1 = det(Matrix(t[0]))\n",
    "a2 = det(Matrix(t[1]))\n",
    "a3 = det(Matrix(t[2]))\n",
    "print(C, a1+a2+a3)"
   ]
  },
  {
   "cell_type": "code",
   "execution_count": 37,
   "id": "c2830f1e-8bb0-40c0-86a0-983ae7054630",
   "metadata": {},
   "outputs": [
    {
     "ename": "NameError",
     "evalue": "name 'lin_dep_tensor' is not defined",
     "output_type": "error",
     "traceback": [
      "\u001b[1;31m---------------------------------------------------------------------------\u001b[0m",
      "\u001b[1;31mNameError\u001b[0m                                 Traceback (most recent call last)",
      "\u001b[1;32m<ipython-input-37-5ed15a955b4f>\u001b[0m in \u001b[0;36m<module>\u001b[1;34m\u001b[0m\n\u001b[0;32m      2\u001b[0m \u001b[0mcounter\u001b[0m \u001b[1;33m=\u001b[0m \u001b[1;36m0\u001b[0m\u001b[1;33m\u001b[0m\u001b[1;33m\u001b[0m\u001b[0m\n\u001b[0;32m      3\u001b[0m \u001b[1;32mfor\u001b[0m \u001b[0mi\u001b[0m \u001b[1;32min\u001b[0m \u001b[0mrange\u001b[0m\u001b[1;33m(\u001b[0m\u001b[1;36m1000\u001b[0m\u001b[1;33m)\u001b[0m\u001b[1;33m:\u001b[0m\u001b[1;33m\u001b[0m\u001b[1;33m\u001b[0m\u001b[0m\n\u001b[1;32m----> 4\u001b[1;33m     \u001b[0mt\u001b[0m \u001b[1;33m=\u001b[0m \u001b[0mlin_dep_tensor\u001b[0m\u001b[1;33m(\u001b[0m\u001b[1;33m)\u001b[0m\u001b[1;33m\u001b[0m\u001b[1;33m\u001b[0m\u001b[0m\n\u001b[0m\u001b[0;32m      5\u001b[0m     \u001b[0mkey\u001b[0m \u001b[1;33m=\u001b[0m \u001b[0mcheck_req\u001b[0m\u001b[1;33m(\u001b[0m\u001b[0mt\u001b[0m\u001b[1;33m[\u001b[0m\u001b[1;36m0\u001b[0m\u001b[1;33m]\u001b[0m\u001b[1;33m)\u001b[0m\u001b[1;33m\u001b[0m\u001b[1;33m\u001b[0m\u001b[0m\n\u001b[0;32m      6\u001b[0m     \u001b[0mres\u001b[0m\u001b[1;33m[\u001b[0m\u001b[0mkey\u001b[0m\u001b[1;33m]\u001b[0m \u001b[1;33m=\u001b[0m \u001b[0mres\u001b[0m\u001b[1;33m[\u001b[0m\u001b[0mkey\u001b[0m\u001b[1;33m]\u001b[0m \u001b[1;33m+\u001b[0m \u001b[1;36m1\u001b[0m\u001b[1;33m\u001b[0m\u001b[1;33m\u001b[0m\u001b[0m\n",
      "\u001b[1;31mNameError\u001b[0m: name 'lin_dep_tensor' is not defined"
     ]
    }
   ],
   "source": [
    "res = {True:0, False:0}\n",
    "counter = 0\n",
    "for i in range(1000):\n",
    "    t = lin_dep_tensor()\n",
    "    key = check_req(t[0])\n",
    "    res[key] = res[key] + 1\n",
    "    if True:\n",
    "        #print(t, '\\n')\n",
    "        M = Matrix([t[2], t[5], t[8], t[11]])\n",
    "        M1 = Matrix([t[3], t[6], t[9], t[12]])\n",
    "        M2= Matrix([t[1], t[4], t[7], t[10]])\n",
    "        r1 = M.rank()\n",
    "        r2 = M1.rank()\n",
    "        if r1 != 3 or r2 != 3:\n",
    "            print(M.rank(), M1.rank())\n",
    "        else: \n",
    "            counter = counter + 1\n",
    "\n",
    "print(res)\n",
    "print(counter)"
   ]
  },
  {
   "cell_type": "code",
   "execution_count": null,
   "id": "573800d4-6d7f-4faf-9fb9-78438eb82803",
   "metadata": {},
   "outputs": [],
   "source": []
  }
 ],
 "metadata": {
  "kernelspec": {
   "display_name": "Python 3",
   "language": "python",
   "name": "python3"
  },
  "language_info": {
   "codemirror_mode": {
    "name": "ipython",
    "version": 3
   },
   "file_extension": ".py",
   "mimetype": "text/x-python",
   "name": "python",
   "nbconvert_exporter": "python",
   "pygments_lexer": "ipython3",
   "version": "3.9.5"
  }
 },
 "nbformat": 4,
 "nbformat_minor": 5
}
