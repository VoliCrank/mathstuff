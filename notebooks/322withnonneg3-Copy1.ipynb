{
 "cells": [
  {
   "cell_type": "code",
   "execution_count": 1,
   "id": "5dfc395f-cc20-4e82-bdfb-4c927017ab7d",
   "metadata": {},
   "outputs": [],
   "source": [
    "from sympy import *\n",
    "import numpy as np\n",
    "import tensorly as tl\n",
    "from tensorly.decomposition import parafac\n",
    "from tensorly.decomposition import non_negative_parafac_hals"
   ]
  },
  {
   "cell_type": "code",
   "execution_count": 2,
   "id": "36af5b8e-14aa-44ef-9046-cc10d0b88163",
   "metadata": {},
   "outputs": [],
   "source": [
    "def low_tensor():\n",
    "    high = 25\n",
    "    a = np.random.randint(1, high, size=3) \n",
    "    b = np.random.randint(1, high, size=2) \n",
    "    c = np.random.randint(1, high, size=2) \n",
    "    tens = tl.tensor(np.kron(np.kron(a, b), c).reshape(3, 2, 2)) * 1.0\n",
    "    return tens\n",
    "\n",
    "\n",
    "def ntree(p):\n",
    "    a1 = det(Matrix(p[0]))\n",
    "    a2 = det(Matrix(p[1]))\n",
    "    b1 = det(Matrix(p[:,0]))\n",
    "    b2 = det(Matrix(p[:,1]))\n",
    "    c1 = det(Matrix(p[:,:,0]))\n",
    "    c2 = det(Matrix(p[:,:,1]))\n",
    "    return a1 * a2 >= 0 or b1 * b2 >= 0 or c1 * c2 >= 0\n",
    "\n",
    "def check_rank(tensor, rank, non_neg=True, n=10, tol=0.001, p=False):\n",
    "    if non_neg:\n",
    "        for k in range(n):\n",
    "            weights, factors = non_negative_parafac_hals(tensor, n_iter_max=1000000, rank=rank, init='random')\n",
    "            full = tl.cp_to_tensor((weights, factors))\n",
    "            diff = (full - tensor) / tensor\n",
    "            if p:\n",
    "                print(weights,factors)\n",
    "                print(tl.max(abs(diff)))\n",
    "            if tl.max(abs(diff)) < tol:\n",
    "                return True\n",
    "    else:\n",
    "        for k in range(n):\n",
    "            weights, factors = parafac(tensor, n_iter_max=1000000, rank=rank)\n",
    "            full = tl.cp_to_tensor((weights, factors))\n",
    "            diff = (full - tensor) / tensor\n",
    "            if p:\n",
    "                print(tl.max(abs(diff)))\n",
    "            if tl.max(abs(diff)) < tol:\n",
    "                return True\n",
    "    return False\n",
    "    "
   ]
  },
  {
   "cell_type": "code",
   "execution_count": 11,
   "id": "1645dd11-2b66-4f7c-8df3-026a0570f9f1",
   "metadata": {},
   "outputs": [],
   "source": [
    "def mac(t):\n",
    "    a = Matrix(t[0]).reshape(4,1)\n",
    "    b = Matrix(t[1]).reshape(4,1)\n",
    "    c = Matrix(t[2]).reshape(4,1)\n",
    "    d = Matrix(t[3]).reshape(4,1)\n",
    "    #e = Matrix(t[4]).reshape(4,1)\n",
    "    M = ones(4,4)\n",
    "    M[:, 0] = a\n",
    "    M[:, 1] = b\n",
    "    M[:, 2] = c\n",
    "    M[:, 3] = d\n",
    "    #M[:, 4] = e\n",
    "    #if abs(M.det()) >= 1:\n",
    "    #    print(M.det())\n",
    "    return abs(det(M))< 4\n",
    "\n",
    "def check_det(p):\n",
    "    A = tl.tensor([p[0], p[1]])\n",
    "    B = tl.tensor([p[1], p[2]])\n",
    "    C = tl.tensor([p[0], p[2]])\n",
    "    r2 = check_r2(A) or check_r2(B) or check_r2(C)\n",
    "    return check_r3(A) and check_r3(B) and check_r3(C)\n",
    "\n",
    "def check_r3(m):\n",
    "    a = det(Matrix(m[0])) * det(Matrix(m[1]))\n",
    "    b = det(Matrix(m[:,0])) * det(Matrix(m[:,1]))\n",
    "    c = det(Matrix(m[:,:,0])) * det(Matrix(m[:,:,1]))\n",
    "    #print(a,b,c)\n",
    "    return a >= 0 or b >= 0 or c >= 0\n",
    "\n",
    "def check_r2(m):\n",
    "    a = det(Matrix(m[0])) * det(Matrix(m[1]))\n",
    "    b = det(Matrix(m[:,0])) * det(Matrix(m[:,1]))\n",
    "    c = det(Matrix(m[:,:,0])) * det(Matrix(m[:,:,1]))\n",
    "    #print(a * b,b * c, a * b)\n",
    "    return a >= 0 and b >= 0 and c >= 0\n",
    "\n",
    "def rt():\n",
    "    return tl.tensor(np.random.randint(0,10000000, size = (3,2,2))) * 0.03\n",
    "    "
   ]
  },
  {
   "cell_type": "code",
   "execution_count": 12,
   "id": "b5395161-34bd-49eb-a311-f2556569bb7f",
   "metadata": {},
   "outputs": [
    {
     "name": "stdout",
     "output_type": "stream",
     "text": [
      "{True: 1000, False: 0}\n",
      "[]\n"
     ]
    }
   ],
   "source": [
    "res = {True:0, False:0}\n",
    "wrong = []\n",
    "for i in range(1000):\n",
    "    t1 = low_tensor() * 0.01\n",
    "    t2 = low_tensor() * 0.01\n",
    "    t3 = low_tensor() * 0.01\n",
    "    t4 = low_tensor()\n",
    "    t5 = low_tensor()\n",
    "    #t = rt() + rt() + rt() + rt() + rt() / 3 + rt() / 5 + rt() / 7 + rt() / 11 + rt()/ 13 + rt()/ 17 + rt() / 19 + rt() / 23 + rt() / 29 \n",
    "    t = t1 + t2 + t3\n",
    "    key = check_det(t)\n",
    "    res[key] = res[key] + 1\n",
    "print(res)\n",
    "print(wrong)   "
   ]
  },
  {
   "cell_type": "code",
   "execution_count": 57,
   "id": "9cae9cf4-a049-49b6-9170-6c2c1c1a42c1",
   "metadata": {},
   "outputs": [
    {
     "data": {
      "text/latex": [
       "$\\displaystyle \\text{False}$"
      ],
      "text/plain": [
       "False"
      ]
     },
     "execution_count": 57,
     "metadata": {},
     "output_type": "execute_result"
    }
   ],
   "source": [
    "p = tl.tensor(np.random.randint(0,10000, size = (3,2,2))) * 1.0 + tl.tensor(np.random.randint(0,10000, size = (3,2,2))) * 1.0 + low_tensor() / 3\n",
    "check_det(p)"
   ]
  },
  {
   "cell_type": "code",
   "execution_count": 27,
   "id": "19bbf7aa-5da3-490c-9505-0bf3ec176305",
   "metadata": {},
   "outputs": [
    {
     "data": {
      "text/plain": [
       "array([[[6980., 2711.],\n",
       "        [1776., 4475.]],\n",
       "\n",
       "       [[7327., 8708.],\n",
       "        [4475., 3245.]],\n",
       "\n",
       "       [[4073., 1663.],\n",
       "        [6595., 9122.]]])"
      ]
     },
     "execution_count": 27,
     "metadata": {},
     "output_type": "execute_result"
    }
   ],
   "source": [
    "A = tl.tensor([p[0], p[1]])\n",
    "p"
   ]
  },
  {
   "cell_type": "code",
   "execution_count": 28,
   "id": "823ee58e-172d-477a-8f2f-2b049df9da74",
   "metadata": {},
   "outputs": [
    {
     "data": {
      "text/latex": [
       "$\\displaystyle \\text{False}$"
      ],
      "text/plain": [
       "False"
      ]
     },
     "execution_count": 28,
     "metadata": {},
     "output_type": "execute_result"
    }
   ],
   "source": []
  },
  {
   "cell_type": "code",
   "execution_count": null,
   "id": "54fb9895-0d93-49a2-a017-d91745a27ddf",
   "metadata": {},
   "outputs": [],
   "source": []
  }
 ],
 "metadata": {
  "kernelspec": {
   "display_name": "Python 3",
   "language": "python",
   "name": "python3"
  },
  "language_info": {
   "codemirror_mode": {
    "name": "ipython",
    "version": 3
   },
   "file_extension": ".py",
   "mimetype": "text/x-python",
   "name": "python",
   "nbconvert_exporter": "python",
   "pygments_lexer": "ipython3",
   "version": "3.9.5"
  }
 },
 "nbformat": 4,
 "nbformat_minor": 5
}
