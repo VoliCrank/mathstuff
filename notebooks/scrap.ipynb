{
 "cells": [
  {
   "cell_type": "code",
   "execution_count": 18,
   "id": "88c33143-5661-4a2d-9021-4bf47702024f",
   "metadata": {},
   "outputs": [],
   "source": [
    "import tensorly as tl\n",
    "import numpy as np\n",
    "from numpy import linalg as la\n",
    "from sympy import *\n",
    "from tensorly.decomposition import parafac\n",
    "from tensorly.decomposition import non_negative_parafac_hals"
   ]
  },
  {
   "cell_type": "code",
   "execution_count": 19,
   "id": "30939cf8-4468-4bc8-8394-2f44db9e53ae",
   "metadata": {},
   "outputs": [],
   "source": [
    "def check_rank(tensor, rank, non_neg=True, n=10, tol=0.001, p=False):\n",
    "    if non_neg:\n",
    "        for k in range(n):\n",
    "            weights, factors = non_negative_parafac_hals(tensor, n_iter_max=1000000, rank=rank, init='random')\n",
    "            full = tl.cp_to_tensor((weights, factors))\n",
    "            diff = (full - tensor) / tensor\n",
    "            if p:\n",
    "                # print(full)\n",
    "                print(tl.max(abs(diff)))\n",
    "            if tl.max(abs(diff)) < tol:\n",
    "                return True\n",
    "    else:\n",
    "        for k in range(n):\n",
    "            weights, factors = parafac(tensor, n_iter_max=1000000, rank=rank)\n",
    "            full = tl.cp_to_tensor((weights, factors))\n",
    "            diff = (full - tensor) / tensor\n",
    "            if p:\n",
    "                print(tl.max(abs(diff)))\n",
    "            if tl.max(abs(diff)) < tol:\n",
    "                return True\n",
    "    return False\n",
    "\n",
    "def low_tensor():\n",
    "    max = 30\n",
    "    a = np.random.randint(1, max, size=3)\n",
    "    b = np.random.randint(1, max, size=3)\n",
    "    c = np.random.randint(1, max, size=3)\n",
    "    tens = tl.tensor(np.kron(np.kron(a, b), c).reshape(3, 3, 3)) * 1.0\n",
    "    return (tens, a,b,c)\n",
    "\n"
   ]
  },
  {
   "cell_type": "code",
   "execution_count": 13,
   "id": "e71fb767-4d30-404f-989f-23d3e3121955",
   "metadata": {},
   "outputs": [
    {
     "data": {
      "text/plain": [
       "(Matrix([\n",
       " [1, 0, 0],\n",
       " [0, 1, 0],\n",
       " [0, 0, 1],\n",
       " [0, 0, 0]]),\n",
       " (0, 1, 2))"
      ]
     },
     "execution_count": 13,
     "metadata": {},
     "output_type": "execute_result"
    }
   ],
   "source": [
    "M = Matrix([[ 7, 27, 24], [12, 25, 11], [18, 12, 27], [ 8, 17, 11]])\n",
    "M.rref()"
   ]
  },
  {
   "cell_type": "code",
   "execution_count": 16,
   "id": "2902a503-c1df-419e-9328-cf422a65d8e7",
   "metadata": {},
   "outputs": [
    {
     "data": {
      "text/plain": [
       "(Matrix([\n",
       " [1, 0, 1/2],\n",
       " [0, 1,   1],\n",
       " [0, 0,   0],\n",
       " [0, 0,   0]]),\n",
       " (0, 1))"
      ]
     },
     "execution_count": 16,
     "metadata": {},
     "output_type": "execute_result"
    }
   ],
   "source": [
    "M1 = Matrix([[16, 15, 23], [14, 16, 23],[ 4, 17, 19],[26, 12, 25]])\n",
    "M1.rref()"
   ]
  },
  {
   "cell_type": "code",
   "execution_count": 14,
   "id": "ef119ae3-8d20-46d9-b1a9-6c142829002d",
   "metadata": {},
   "outputs": [
    {
     "data": {
      "text/plain": [
       "(Matrix([\n",
       " [1, 0, 1/3],\n",
       " [0, 1, 2/3],\n",
       " [0, 0,   0],\n",
       " [0, 0,   0]]),\n",
       " (0, 1))"
      ]
     },
     "execution_count": 14,
     "metadata": {},
     "output_type": "execute_result"
    }
   ],
   "source": [
    "M2 = Matrix([[17,  2,  7],[6, 3, 4], [ 1, 28, 19], [ 2, 26, 18]])\n",
    "M2.rref()"
   ]
  },
  {
   "cell_type": "code",
   "execution_count": 5,
   "id": "4d3c1ecb-89a4-4346-978e-eb925a804ef9",
   "metadata": {},
   "outputs": [],
   "source": [
    "max = 40\n",
    "a = np.random.randint(1, max, size=3)\n",
    "b = np.random.randint(1, max, size=3)\n",
    "c = np.random.randint(1, max, size=3)\n",
    "tens = tl.tensor(np.kron(np.kron(a, b), c).reshape(3, 3, 3)) * 1.0\n",
    "a1 = np.random.randint(1, max, size=3)\n",
    "b1 = np.random.randint(1, max, size=3)\n",
    "c1 = np.random.randint(1, max, size=3)\n",
    "a2 = a1 + 2*a\n",
    "b2 = np.random.randint(1, max, size=3)\n",
    "c2 = np.random.randint(1, max, size=3)\n",
    "tens1 = tl.tensor(np.kron(np.kron(a1, b1), c1).reshape(3, 3, 3)) * 1.0\n",
    "tens2 = tl.tensor(np.kron(np.kron(a2, b2), c2).reshape(3, 3, 3)) * 1.0\n",
    "a3 = a1 + 2*a2 + 3*a\n",
    "b3 = np.random.randint(1, max, size=3)\n",
    "c3 = np.random.randint(1, max, size=3)\n",
    "tens3 = tl.tensor(np.kron(np.kron(a3, b3), c3).reshape(3, 3, 3)) * 1.0"
   ]
  },
  {
   "cell_type": "code",
   "execution_count": 6,
   "id": "f3d4ef40-6853-4cef-958b-6190567c3349",
   "metadata": {},
   "outputs": [
    {
     "name": "stdout",
     "output_type": "stream",
     "text": [
      "0.0018949584180216312\n"
     ]
    },
    {
     "data": {
      "text/plain": [
       "True"
      ]
     },
     "execution_count": 6,
     "metadata": {},
     "output_type": "execute_result"
    }
   ],
   "source": [
    "check_rank(tl.tensor(tens + tens1 + tens2 + tens3), 3, tol = 0.01, p= True)"
   ]
  },
  {
   "cell_type": "code",
   "execution_count": 7,
   "id": "f8f61a3e-1e39-43f9-a861-c02cd17f3394",
   "metadata": {},
   "outputs": [],
   "source": [
    "t= (tens + tens1 + tens2+tens3)*1.0"
   ]
  },
  {
   "cell_type": "code",
   "execution_count": 8,
   "id": "573b8c6a-829f-4457-80c3-1ce98e9cd954",
   "metadata": {},
   "outputs": [
    {
     "data": {
      "text/latex": [
       "$\\displaystyle -1189399841216.0$"
      ],
      "text/plain": [
       "-1189399841216.00"
      ]
     },
     "execution_count": 8,
     "metadata": {},
     "output_type": "execute_result"
    }
   ],
   "source": [
    "det(Matrix(t[0]+t[1] + t[2]))"
   ]
  },
  {
   "cell_type": "code",
   "execution_count": 9,
   "id": "48dc0d68-798f-4e4a-aaa1-12e3f72071fd",
   "metadata": {},
   "outputs": [],
   "source": [
    "def check_req(p):\n",
    "    d1 = Matrix(p[0])\n",
    "    d2 = Matrix(p[1])\n",
    "    d3 = Matrix(p[2])\n",
    "    v1 = Matrix(p[:,:,0])\n",
    "    v2 = Matrix(p[:,:,1])\n",
    "    v3 = Matrix(p[:,:,2])\n",
    "    h1 = Matrix(p[:,0])\n",
    "    h2 = Matrix(p[:,1])\n",
    "    h3 = Matrix(p[:,2])\n",
    "    zero = Matrix([[0, 0, 0], [0, 0, 0], [0, 0, 0]])\n",
    "    #d1a = d1.adjugate()\n",
    "    d2a = d2.adjugate()\n",
    "    #d3a = d3.adjugate()\n",
    "    #v1a = v1.adjugate()\n",
    "    #v2a = v2.adjugate()\n",
    "    #v3a = v3.adjugate()\n",
    "    #h1a = h1.adjugate()\n",
    "    #h2a = h2.adjugate()\n",
    "    #h3a = h3.adjugate()\n",
    "    a1 = d1 * d2a * d3 - d3* d2a * d1\n",
    "    #a2 = d2 * d3a * d1 - d1* d3a * d2\n",
    "    #a3 = d3 * d1a * d2 - d2* d1a * d3\n",
    "    #b1 = v1 * v2a * v3 - v3* v2a * v1 \n",
    "    #b2 = v2 * v3a * v1 - v1* v3a * v2 \n",
    "    #b3 = v3 * v1a * v2 - v2* v1a * v3 \n",
    "    #c1 = h1 * h2a * h3 - h3* h2a * h1\n",
    "    #c2 = h2 * h3a * h1 - h1* h3a * h2 \n",
    "    #c3 = h3 * h1a * h2 - h2* h1a * h3 \n",
    "    #print(a1,a2,a3)\n",
    "    #print(a,b,c)\n",
    "    #a = check(a1) and check(a2) and check(a3)\n",
    "    #b = check(b1) and check(b2) and check(b3)\n",
    "    #c = check(c1) and check(c2) and check(c3)\n",
    "    return check(a1)\n",
    "    \n",
    "def check(a):\n",
    "    return max(abs(a)) < 5"
   ]
  },
  {
   "cell_type": "code",
   "execution_count": 10,
   "id": "38104033-4189-4677-a959-5d68b6e69a13",
   "metadata": {},
   "outputs": [],
   "source": [
    "p= t"
   ]
  },
  {
   "cell_type": "code",
   "execution_count": 11,
   "id": "0d9bf913-12c7-4dab-bbd6-dc9aa31e57b8",
   "metadata": {},
   "outputs": [
    {
     "data": {
      "text/latex": [
       "$\\displaystyle \\left[\\begin{matrix}0 & 0 & 0\\\\0 & 0 & 0\\\\0 & 0 & 0\\end{matrix}\\right]$"
      ],
      "text/plain": [
       "Matrix([\n",
       "[0, 0, 0],\n",
       "[0, 0, 0],\n",
       "[0, 0, 0]])"
      ]
     },
     "execution_count": 11,
     "metadata": {},
     "output_type": "execute_result"
    }
   ],
   "source": [
    "d1 = Matrix(p[0])\n",
    "d2 = Matrix(p[1])\n",
    "d3 = Matrix(p[2])\n",
    "d2a = d2.adjugate()\n",
    "a1 = d1 * d2a * d3 - d3* d2a * d1\n",
    "a1"
   ]
  },
  {
   "cell_type": "code",
   "execution_count": 17,
   "id": "b603dff2-d9e9-48b9-be31-334b41f6918e",
   "metadata": {},
   "outputs": [],
   "source": [
    "max = 20\n",
    "a = np.random.randint(1, max, size=3)\n",
    "b = np.random.randint(1, max, size=3)\n",
    "c = np.random.randint(1, max, size=3)\n",
    "tens = tl.tensor(np.kron(np.kron(a, b), c).reshape(3, 3, 3)) * 1.0\n",
    "a1 = np.random.randint(1, max, size=3)\n",
    "b1 = np.random.randint(1, max, size=3)\n",
    "c1 = np.random.randint(1, max, size=3)\n",
    "a2 = a1 + 2*a\n",
    "b2 = np.random.randint(1, max, size=3)\n",
    "c2 = np.random.randint(1, max, size=3)\n",
    "tens1 = tl.tensor(np.kron(np.kron(a1, b1), c1).reshape(3, 3, 3)) * 1.0\n",
    "tens2 = tl.tensor(np.kron(np.kron(a2, b2), c2).reshape(3, 3, 3)) * 1.0\n",
    "a3 = a1 + 2*a2 + 3*a\n",
    "b3 = np.random.randint(1, max, size=3)\n",
    "c3 = np.random.randint(1, max, size=3)\n",
    "tens3 = tl.tensor(np.kron(np.kron(a3, b3), c3).reshape(3, 3, 3)) * 1.0\n",
    "p= tens + tens1 + tens2 + tens3\n",
    "\n",
    "d1 = Matrix(p[0])\n",
    "d2 = Matrix(p[1])\n",
    "d3 = Matrix(p[2])\n",
    "v1 = Matrix(p[:,:,0])\n",
    "v2 = Matrix(p[:,:,1])\n",
    "v3 = Matrix(p[:,:,2])\n",
    "h1 = Matrix(p[:,0])\n",
    "h2 = Matrix(p[:,1])\n",
    "h3 = Matrix(p[:,2])\n",
    "zero = Matrix([[0, 0, 0], [0, 0, 0], [0, 0, 0]])\n",
    "d1a = d1.adjugate()\n",
    "d2a = d2.adjugate()\n",
    "d3a = d3.adjugate()\n",
    "v1a = v1.adjugate()\n",
    "v2a = v2.adjugate()\n",
    "v3a = v3.adjugate()\n",
    "h1a = h1.adjugate()\n",
    "h2a = h2.adjugate()\n",
    "h3a = h3.adjugate()\n",
    "a1 = d1 * d2a * d3 - d3* d2a * d1\n",
    "a2 = d2 * d3a * d1 - d1* d3a * d2\n",
    "a3 = d3 * d1a * d2 - d2* d1a * d3\n",
    "b1 = v1 * v2a * v3 - v3* v2a * v1 \n",
    "b2 = v2 * v3a * v1 - v1* v3a * v2 \n",
    "b3 = v3 * v1a * v2 - v2* v1a * v3 \n",
    "c1 = h1 * h2a * h3 - h3* h2a * h1\n",
    "c2 = h2 * h3a * h1 - h1* h3a * h2 \n",
    "c3 = h3 * h1a * h2 - h2* h1a * h3 \n",
    "#print(a1,a2,a3, b1,b2,b3,c1,c2,c3)\n",
    "\n",
    "#a = check(a1) and check(a2) and check(a3)\n",
    "#b = check(b1) and check(b2) and check(b3)\n",
    "#c = check(c1) and check(c2) and check(c3)\n",
    "#print(a,b,c)"
   ]
  },
  {
   "cell_type": "code",
   "execution_count": 120,
   "id": "35c9903d-5b30-40e4-819a-9a623d93583d",
   "metadata": {},
   "outputs": [
    {
     "data": {
      "text/plain": [
       "(Matrix([\n",
       " [1, 0, 52/135],\n",
       " [0, 1, 67/405],\n",
       " [0, 0,      0],\n",
       " [0, 0,      0]]),\n",
       " (0, 1))"
      ]
     },
     "execution_count": 120,
     "metadata": {},
     "output_type": "execute_result"
    }
   ],
   "source": [
    "check_rank(p, 3, tol = 0.)"
   ]
  },
  {
   "cell_type": "code",
   "execution_count": 1,
   "id": "1bd05061-5017-4087-9df0-eb01c4446b67",
   "metadata": {},
   "outputs": [
    {
     "ename": "NameError",
     "evalue": "name 'rand_tensor' is not defined",
     "output_type": "error",
     "traceback": [
      "\u001b[0;31m---------------------------------------------------------------------------\u001b[0m",
      "\u001b[0;31mNameError\u001b[0m                                 Traceback (most recent call last)",
      "\u001b[0;32m/var/folders/9j/krll5bd51gg0w1t7kc1n3jdr0000gn/T/ipykernel_36449/2832694341.py\u001b[0m in \u001b[0;36m<module>\u001b[0;34m\u001b[0m\n\u001b[0;32m----> 1\u001b[0;31m \u001b[0mtens\u001b[0m \u001b[0;34m=\u001b[0m \u001b[0mrand_tensor\u001b[0m\u001b[0;34m(\u001b[0m\u001b[0;34m)\u001b[0m\u001b[0;34m\u001b[0m\u001b[0;34m\u001b[0m\u001b[0m\n\u001b[0m\u001b[1;32m      2\u001b[0m \u001b[0mb\u001b[0m \u001b[0;34m=\u001b[0m \u001b[0msymbols\u001b[0m\u001b[0;34m(\u001b[0m\u001b[0;34m'b'\u001b[0m\u001b[0;34m)\u001b[0m\u001b[0;34m\u001b[0m\u001b[0;34m\u001b[0m\u001b[0m\n\u001b[1;32m      3\u001b[0m M = Matrix([[tens[0,1,0]*b,tens[0,0,1]*1,tens[0,1,1]],[tens[1,1,0],tens[1,0,1],tens[1,1,1]],\n\u001b[1;32m      4\u001b[0m             [tens[2,1,0],tens[2,0,1],tens[2,1,1]]])\n\u001b[1;32m      5\u001b[0m \u001b[0mb\u001b[0m \u001b[0;34m=\u001b[0m \u001b[0msolve\u001b[0m\u001b[0;34m(\u001b[0m\u001b[0mM\u001b[0m\u001b[0;34m.\u001b[0m\u001b[0mdet\u001b[0m\u001b[0;34m(\u001b[0m\u001b[0;34m)\u001b[0m\u001b[0;34m,\u001b[0m\u001b[0mb\u001b[0m\u001b[0;34m)\u001b[0m\u001b[0;34m[\u001b[0m\u001b[0;36m0\u001b[0m\u001b[0;34m]\u001b[0m\u001b[0;34m\u001b[0m\u001b[0;34m\u001b[0m\u001b[0m\n",
      "\u001b[0;31mNameError\u001b[0m: name 'rand_tensor' is not defined"
     ]
    }
   ],
   "source": [
    "tens = rand_tensor()\n",
    "b = symbols('b')\n",
    "M = Matrix([[tens[0,1,0]*b,tens[0,0,1]*1,tens[0,1,1]],[tens[1,1,0],tens[1,0,1],tens[1,1,1]],\n",
    "            [tens[2,1,0],tens[2,0,1],tens[2,1,1]]])\n",
    "b = solve(M.det(),b)[0]\n",
    "M = Matrix([[tens[0,1,0]*b,tens[0,0,1]*1,tens[0,1,1]],[tens[1,1,0],tens[1,0,1],tens[1,1,1]],\n",
    "            [tens[2,1,0],tens[2,0,1],tens[2,1,1]]])\n",
    "M_sub = Matrix(M[0:2,0:2])\n",
    "print(b)\n",
    "M_sub.adjugate() * Matrix(M[0:2,2]) /det(M_sub)"
   ]
  },
  {
   "cell_type": "code",
   "execution_count": null,
   "id": "25bff0c1-df25-41d7-86b3-80fc4d96e706",
   "metadata": {},
   "outputs": [],
   "source": []
  }
 ],
 "metadata": {
  "kernelspec": {
   "display_name": "Python 3 (ipykernel)",
   "language": "python",
   "name": "python3"
  },
  "language_info": {
   "codemirror_mode": {
    "name": "ipython",
    "version": 3
   },
   "file_extension": ".py",
   "mimetype": "text/x-python",
   "name": "python",
   "nbconvert_exporter": "python",
   "pygments_lexer": "ipython3",
   "version": "3.9.1"
  }
 },
 "nbformat": 4,
 "nbformat_minor": 5
}
