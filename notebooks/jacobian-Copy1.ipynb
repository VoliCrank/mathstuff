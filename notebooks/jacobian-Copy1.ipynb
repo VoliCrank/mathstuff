{
 "cells": [
  {
   "cell_type": "code",
   "execution_count": 1,
   "id": "hidden-medium",
   "metadata": {},
   "outputs": [],
   "source": [
    "from sympy.tensor.array import tensorproduct, Array\n",
    "from sympy import *\n",
    "from random import randint\n",
    "a11, a12, a21, a22,a23, a31, a32,a33, b11, b12, b21, b22,b23, b31, b32,b33= symbols('a11 a12 a21 a22 a23 a31 a32 a33 b11 b12 b21 b22 b23 b31 b32 b33')\n",
    "c11, c12, c21, c22, c23, c31, c32, c33, pi_1, pi_2, pi_3= symbols('c11 c12 c21 c22 c23 c31 c32 c33 pi_1 pi_2 pi_3')"
   ]
  },
  {
   "cell_type": "code",
   "execution_count": 4,
   "id": "listed-cabin",
   "metadata": {},
   "outputs": [
    {
     "data": {
      "text/latex": [
       "$\\displaystyle \\left[\\begin{matrix}\\left[\\begin{matrix}15 & 18\\\\20 & 24\\end{matrix}\\right] & \\left[\\begin{matrix}30 & 36\\\\40 & 48\\end{matrix}\\right]\\end{matrix}\\right]$"
      ],
      "text/plain": [
       "[[[15, 18], [20, 24]], [[30, 36], [40, 48]]]"
      ]
     },
     "execution_count": 4,
     "metadata": {},
     "output_type": "execute_result"
    }
   ],
   "source": [
    "A = Array([1,2])\n",
    "B = Array([3,4])\n",
    "C = Array([5,6])\n",
    "tensorproduct(A,B,C)"
   ]
  },
  {
   "cell_type": "code",
   "execution_count": 3,
   "id": "authorized-george",
   "metadata": {},
   "outputs": [
    {
     "data": {
      "text/latex": [
       "$\\displaystyle \\left[\\begin{matrix}\\left[\\begin{matrix}a_{11} a_{21} a_{31} \\pi_{1} + b_{11} b_{21} b_{31} \\pi_{2} + c_{11} c_{21} c_{31} \\pi_{3} & a_{11} a_{21} a_{32} \\pi_{1} + b_{11} b_{21} b_{32} \\pi_{2} + c_{11} c_{21} c_{32} \\pi_{3} & a_{11} a_{21} \\pi_{1} \\left(- a_{31} - a_{32} + 1\\right) + b_{11} b_{21} \\pi_{2} \\left(- b_{31} - b_{32} + 1\\right) + c_{11} c_{21} \\pi_{3} \\left(- c_{31} - c_{32} + 1\\right)\\\\a_{11} a_{22} a_{31} \\pi_{1} + b_{11} b_{22} b_{31} \\pi_{2} + c_{11} c_{22} c_{31} \\pi_{3} & a_{11} a_{22} a_{32} \\pi_{1} + b_{11} b_{22} b_{32} \\pi_{2} + c_{11} c_{22} c_{32} \\pi_{3} & a_{11} a_{22} \\pi_{1} \\left(- a_{31} - a_{32} + 1\\right) + b_{11} b_{22} \\pi_{2} \\left(- b_{31} - b_{32} + 1\\right) + c_{11} c_{22} \\pi_{3} \\left(- c_{31} - c_{32} + 1\\right)\\\\a_{11} a_{31} \\pi_{1} \\left(- a_{21} - a_{22} + 1\\right) + b_{11} b_{31} \\pi_{2} \\left(- b_{21} - b_{22} + 1\\right) + c_{11} c_{31} \\pi_{3} \\left(- c_{21} - c_{22} + 1\\right) & a_{11} a_{32} \\pi_{1} \\left(- a_{21} - a_{22} + 1\\right) + b_{11} b_{32} \\pi_{2} \\left(- b_{21} - b_{22} + 1\\right) + c_{11} c_{32} \\pi_{3} \\left(- c_{21} - c_{22} + 1\\right) & a_{11} \\pi_{1} \\left(- a_{21} - a_{22} + 1\\right) \\left(- a_{31} - a_{32} + 1\\right) + b_{11} \\pi_{2} \\left(- b_{21} - b_{22} + 1\\right) \\left(- b_{31} - b_{32} + 1\\right) + c_{11} \\pi_{3} \\left(- c_{21} - c_{22} + 1\\right) \\left(- c_{31} - c_{32} + 1\\right)\\end{matrix}\\right] & \\left[\\begin{matrix}a_{21} a_{31} \\pi_{1} \\left(1 - a_{11}\\right) + b_{21} b_{31} \\pi_{2} \\left(1 - b_{12}\\right) + c_{21} c_{31} \\pi_{3} \\left(1 - c_{11}\\right) & a_{21} a_{32} \\pi_{1} \\left(1 - a_{11}\\right) + b_{21} b_{32} \\pi_{2} \\left(1 - b_{12}\\right) + c_{21} c_{32} \\pi_{3} \\left(1 - c_{11}\\right) & a_{21} \\pi_{1} \\left(1 - a_{11}\\right) \\left(- a_{31} - a_{32} + 1\\right) + b_{21} \\pi_{2} \\left(1 - b_{12}\\right) \\left(- b_{31} - b_{32} + 1\\right) + c_{21} \\pi_{3} \\left(1 - c_{11}\\right) \\left(- c_{31} - c_{32} + 1\\right)\\\\a_{22} a_{31} \\pi_{1} \\left(1 - a_{11}\\right) + b_{22} b_{31} \\pi_{2} \\left(1 - b_{12}\\right) + c_{22} c_{31} \\pi_{3} \\left(1 - c_{11}\\right) & a_{22} a_{32} \\pi_{1} \\left(1 - a_{11}\\right) + b_{22} b_{32} \\pi_{2} \\left(1 - b_{12}\\right) + c_{22} c_{32} \\pi_{3} \\left(1 - c_{11}\\right) & a_{22} \\pi_{1} \\left(1 - a_{11}\\right) \\left(- a_{31} - a_{32} + 1\\right) + b_{22} \\pi_{2} \\left(1 - b_{12}\\right) \\left(- b_{31} - b_{32} + 1\\right) + c_{22} \\pi_{3} \\left(1 - c_{11}\\right) \\left(- c_{31} - c_{32} + 1\\right)\\\\a_{31} \\pi_{1} \\left(1 - a_{11}\\right) \\left(- a_{21} - a_{22} + 1\\right) + b_{31} \\pi_{2} \\left(1 - b_{12}\\right) \\left(- b_{21} - b_{22} + 1\\right) + c_{31} \\pi_{3} \\left(1 - c_{11}\\right) \\left(- c_{21} - c_{22} + 1\\right) & a_{32} \\pi_{1} \\left(1 - a_{11}\\right) \\left(- a_{21} - a_{22} + 1\\right) + b_{32} \\pi_{2} \\left(1 - b_{12}\\right) \\left(- b_{21} - b_{22} + 1\\right) + c_{32} \\pi_{3} \\left(1 - c_{11}\\right) \\left(- c_{21} - c_{22} + 1\\right) & \\pi_{1} \\left(1 - a_{11}\\right) \\left(- a_{21} - a_{22} + 1\\right) \\left(- a_{31} - a_{32} + 1\\right) + \\pi_{2} \\left(1 - b_{12}\\right) \\left(- b_{21} - b_{22} + 1\\right) \\left(- b_{31} - b_{32} + 1\\right) + \\pi_{3} \\left(1 - c_{11}\\right) \\left(- c_{21} - c_{22} + 1\\right) \\left(- c_{31} - c_{32} + 1\\right)\\end{matrix}\\right]\\end{matrix}\\right]$"
      ],
      "text/plain": [
       "[[[a11*a21*a31*pi_1 + b11*b21*b31*pi_2 + c11*c21*c31*pi_3, a11*a21*a32*pi_1 + b11*b21*b32*pi_2 + c11*c21*c32*pi_3, a11*a21*pi_1*(-a31 - a32 + 1) + b11*b21*pi_2*(-b31 - b32 + 1) + c11*c21*pi_3*(-c31 - c32 + 1)], [a11*a22*a31*pi_1 + b11*b22*b31*pi_2 + c11*c22*c31*pi_3, a11*a22*a32*pi_1 + b11*b22*b32*pi_2 + c11*c22*c32*pi_3, a11*a22*pi_1*(-a31 - a32 + 1) + b11*b22*pi_2*(-b31 - b32 + 1) + c11*c22*pi_3*(-c31 - c32 + 1)], [a11*a31*pi_1*(-a21 - a22 + 1) + b11*b31*pi_2*(-b21 - b22 + 1) + c11*c31*pi_3*(-c21 - c22 + 1), a11*a32*pi_1*(-a21 - a22 + 1) + b11*b32*pi_2*(-b21 - b22 + 1) + c11*c32*pi_3*(-c21 - c22 + 1), a11*pi_1*(-a21 - a22 + 1)*(-a31 - a32 + 1) + b11*pi_2*(-b21 - b22 + 1)*(-b31 - b32 + 1) + c11*pi_3*(-c21 - c22 + 1)*(-c31 - c32 + 1)]], [[a21*a31*pi_1*(1 - a11) + b21*b31*pi_2*(1 - b12) + c21*c31*pi_3*(1 - c11), a21*a32*pi_1*(1 - a11) + b21*b32*pi_2*(1 - b12) + c21*c32*pi_3*(1 - c11), a21*pi_1*(1 - a11)*(-a31 - a32 + 1) + b21*pi_2*(1 - b12)*(-b31 - b32 + 1) + c21*pi_3*(1 - c11)*(-c31 - c32 + 1)], [a22*a31*pi_1*(1 - a11) + b22*b31*pi_2*(1 - b12) + c22*c31*pi_3*(1 - c11), a22*a32*pi_1*(1 - a11) + b22*b32*pi_2*(1 - b12) + c22*c32*pi_3*(1 - c11), a22*pi_1*(1 - a11)*(-a31 - a32 + 1) + b22*pi_2*(1 - b12)*(-b31 - b32 + 1) + c22*pi_3*(1 - c11)*(-c31 - c32 + 1)], [a31*pi_1*(1 - a11)*(-a21 - a22 + 1) + b31*pi_2*(1 - b12)*(-b21 - b22 + 1) + c31*pi_3*(1 - c11)*(-c21 - c22 + 1), a32*pi_1*(1 - a11)*(-a21 - a22 + 1) + b32*pi_2*(1 - b12)*(-b21 - b22 + 1) + c32*pi_3*(1 - c11)*(-c21 - c22 + 1), pi_1*(1 - a11)*(-a21 - a22 + 1)*(-a31 - a32 + 1) + pi_2*(1 - b12)*(-b21 - b22 + 1)*(-b31 - b32 + 1) + pi_3*(1 - c11)*(-c21 - c22 + 1)*(-c31 - c32 + 1)]]]"
      ]
     },
     "execution_count": 3,
     "metadata": {},
     "output_type": "execute_result"
    }
   ],
   "source": [
    "A1 = Array([a11,1-a11])\n",
    "B1 = Array([a21,a22,1-a21-a22])\n",
    "C1 = Array([a31,a32,1-a31-a32])\n",
    "A2 = Array([b11,1-b11])\n",
    "B2 = Array([b21,b22,1-b22-b21])\n",
    "C2 = Array([b31,b32,1-b31-b32])\n",
    "A3 = Array([c11,1-c11])\n",
    "B3 = Array([c21,c22,1-c21-c22])\n",
    "C3 = Array([c31,c32,1-c31-c32])\n",
    "#tensorproduct(A1,B1,C1) + tensorproduct(A2, B2, C2)\n",
    "R = pi_1 * tensorproduct(A1,B1,C1) + pi_2 * tensorproduct(A2,B2,C2) + pi_3 * tensorproduct(A3,B3,C3)\n",
    "Y = Array([a11,a21,a22,a31,a32,b11,b21,b22,b31,b32])\n",
    "#diff(R, a11)\n",
    "R"
   ]
  },
  {
   "cell_type": "code",
   "execution_count": 4,
   "id": "elder-error",
   "metadata": {},
   "outputs": [
    {
     "data": {
      "text/plain": [
       "[[[a11*a21*a31*pi_1 + b11*b21*b31*pi_2 + c11*c21*c31*pi_3,\n",
       "   a11*a21*a32*pi_1 + b11*b21*b32*pi_2 + c11*c21*c32*pi_3,\n",
       "   a11*a21*pi_1*(-a31 - a32 + 1) + b11*b21*pi_2*(-b31 - b32 + 1) + c11*c21*pi_3*(-c31 - c32 + 1)],\n",
       "  [a11*a22*a31*pi_1 + b11*b22*b31*pi_2 + c11*c22*c31*pi_3,\n",
       "   a11*a22*a32*pi_1 + b11*b22*b32*pi_2 + c11*c22*c32*pi_3,\n",
       "   a11*a22*pi_1*(-a31 - a32 + 1) + b11*b22*pi_2*(-b31 - b32 + 1) + c11*c22*pi_3*(-c31 - c32 + 1)],\n",
       "  [a11*a31*pi_1*(-a21 - a22 + 1) + b11*b31*pi_2*(-b21 - b22 + 1) + c11*c31*pi_3*(-c21 - c22 + 1),\n",
       "   a11*a32*pi_1*(-a21 - a22 + 1) + b11*b32*pi_2*(-b21 - b22 + 1) + c11*c32*pi_3*(-c21 - c22 + 1),\n",
       "   a11*pi_1*(-a21 - a22 + 1)*(-a31 - a32 + 1) + b11*pi_2*(-b21 - b22 + 1)*(-b31 - b32 + 1) + c11*pi_3*(-c21 - c22 + 1)*(-c31 - c32 + 1)]],\n",
       " [[a21*a31*pi_1*(1 - a11) + b21*b31*pi_2*(1 - b12) + c21*c31*pi_3*(1 - c11),\n",
       "   a21*a32*pi_1*(1 - a11) + b21*b32*pi_2*(1 - b12) + c21*c32*pi_3*(1 - c11),\n",
       "   a21*pi_1*(1 - a11)*(-a31 - a32 + 1) + b21*pi_2*(1 - b12)*(-b31 - b32 + 1) + c21*pi_3*(1 - c11)*(-c31 - c32 + 1)],\n",
       "  [a22*a31*pi_1*(1 - a11) + b22*b31*pi_2*(1 - b12) + c22*c31*pi_3*(1 - c11),\n",
       "   a22*a32*pi_1*(1 - a11) + b22*b32*pi_2*(1 - b12) + c22*c32*pi_3*(1 - c11),\n",
       "   a22*pi_1*(1 - a11)*(-a31 - a32 + 1) + b22*pi_2*(1 - b12)*(-b31 - b32 + 1) + c22*pi_3*(1 - c11)*(-c31 - c32 + 1)],\n",
       "  [a31*pi_1*(1 - a11)*(-a21 - a22 + 1) + b31*pi_2*(1 - b12)*(-b21 - b22 + 1) + c31*pi_3*(1 - c11)*(-c21 - c22 + 1),\n",
       "   a32*pi_1*(1 - a11)*(-a21 - a22 + 1) + b32*pi_2*(1 - b12)*(-b21 - b22 + 1) + c32*pi_3*(1 - c11)*(-c21 - c22 + 1),\n",
       "   pi_1*(1 - a11)*(-a21 - a22 + 1)*(-a31 - a32 + 1) + pi_2*(1 - b12)*(-b21 - b22 + 1)*(-b31 - b32 + 1) + pi_3*(1 - c11)*(-c21 - c22 + 1)*(-c31 - c32 + 1)]]]"
      ]
     },
     "execution_count": 4,
     "metadata": {},
     "output_type": "execute_result"
    }
   ],
   "source": [
    "R.tolist()\n"
   ]
  },
  {
   "cell_type": "code",
   "execution_count": 39,
   "id": "dynamic-identification",
   "metadata": {},
   "outputs": [
    {
     "data": {
      "text/latex": [
       "$\\displaystyle \\left[\\begin{matrix}a_{11} a_{21} a_{31} \\pi_{1} + b_{11} b_{21} b_{31} \\pi_{2} + c_{11} c_{21} c_{31} \\pi_{3}\\\\a_{11} a_{21} a_{32} \\pi_{1} + b_{11} b_{21} b_{32} \\pi_{2} + c_{11} c_{21} c_{32} \\pi_{3}\\\\a_{11} a_{21} a_{33} \\pi_{1} + b_{11} b_{21} b_{33} \\pi_{2} + c_{11} c_{21} c_{33} \\pi_{3}\\\\a_{11} a_{22} a_{31} \\pi_{1} + b_{11} b_{22} b_{31} \\pi_{2} + c_{11} c_{22} c_{31} \\pi_{3}\\\\a_{11} a_{22} a_{32} \\pi_{1} + b_{11} b_{22} b_{32} \\pi_{2} + c_{11} c_{22} c_{32} \\pi_{3}\\\\a_{11} a_{22} a_{33} \\pi_{1} + b_{11} b_{22} b_{33} \\pi_{2} + c_{11} c_{22} c_{33} \\pi_{3}\\\\a_{11} a_{23} a_{31} \\pi_{1} + b_{11} b_{23} b_{31} \\pi_{2} + c_{11} c_{23} c_{31} \\pi_{3}\\\\a_{11} a_{23} a_{32} \\pi_{1} + b_{11} b_{23} b_{32} \\pi_{2} + c_{11} c_{23} c_{32} \\pi_{3}\\\\a_{11} a_{23} a_{33} \\pi_{1} + b_{11} b_{23} b_{33} \\pi_{2} + c_{11} c_{23} c_{33} \\pi_{3}\\\\a_{12} a_{21} a_{31} \\pi_{1} + b_{12} b_{21} b_{31} \\pi_{2} + c_{12} c_{21} c_{31} \\pi_{3}\\\\a_{12} a_{21} a_{32} \\pi_{1} + b_{12} b_{21} b_{32} \\pi_{2} + c_{12} c_{21} c_{32} \\pi_{3}\\\\a_{12} a_{21} a_{33} \\pi_{1} + b_{12} b_{21} b_{33} \\pi_{2} + c_{12} c_{21} c_{33} \\pi_{3}\\\\a_{12} a_{22} a_{31} \\pi_{1} + b_{12} b_{22} b_{31} \\pi_{2} + c_{12} c_{22} c_{31} \\pi_{3}\\\\a_{12} a_{22} a_{32} \\pi_{1} + b_{12} b_{22} b_{32} \\pi_{2} + c_{12} c_{22} c_{32} \\pi_{3}\\\\a_{12} a_{22} a_{33} \\pi_{1} + b_{12} b_{22} b_{33} \\pi_{2} + c_{12} c_{22} c_{33} \\pi_{3}\\\\a_{12} a_{23} a_{31} \\pi_{1} + b_{12} b_{23} b_{31} \\pi_{2} + c_{12} c_{23} c_{31} \\pi_{3}\\\\a_{12} a_{23} a_{32} \\pi_{1} + b_{12} b_{23} b_{32} \\pi_{2} + c_{12} c_{23} c_{32} \\pi_{3}\\\\a_{12} a_{23} a_{33} \\pi_{1} + b_{12} b_{23} b_{33} \\pi_{2} + c_{12} c_{23} c_{33} \\pi_{3}\\end{matrix}\\right]$"
      ],
      "text/plain": [
       "Matrix([\n",
       "[a11*a21*a31*pi_1 + b11*b21*b31*pi_2 + c11*c21*c31*pi_3],\n",
       "[a11*a21*a32*pi_1 + b11*b21*b32*pi_2 + c11*c21*c32*pi_3],\n",
       "[a11*a21*a33*pi_1 + b11*b21*b33*pi_2 + c11*c21*c33*pi_3],\n",
       "[a11*a22*a31*pi_1 + b11*b22*b31*pi_2 + c11*c22*c31*pi_3],\n",
       "[a11*a22*a32*pi_1 + b11*b22*b32*pi_2 + c11*c22*c32*pi_3],\n",
       "[a11*a22*a33*pi_1 + b11*b22*b33*pi_2 + c11*c22*c33*pi_3],\n",
       "[a11*a23*a31*pi_1 + b11*b23*b31*pi_2 + c11*c23*c31*pi_3],\n",
       "[a11*a23*a32*pi_1 + b11*b23*b32*pi_2 + c11*c23*c32*pi_3],\n",
       "[a11*a23*a33*pi_1 + b11*b23*b33*pi_2 + c11*c23*c33*pi_3],\n",
       "[a12*a21*a31*pi_1 + b12*b21*b31*pi_2 + c12*c21*c31*pi_3],\n",
       "[a12*a21*a32*pi_1 + b12*b21*b32*pi_2 + c12*c21*c32*pi_3],\n",
       "[a12*a21*a33*pi_1 + b12*b21*b33*pi_2 + c12*c21*c33*pi_3],\n",
       "[a12*a22*a31*pi_1 + b12*b22*b31*pi_2 + c12*c22*c31*pi_3],\n",
       "[a12*a22*a32*pi_1 + b12*b22*b32*pi_2 + c12*c22*c32*pi_3],\n",
       "[a12*a22*a33*pi_1 + b12*b22*b33*pi_2 + c12*c22*c33*pi_3],\n",
       "[a12*a23*a31*pi_1 + b12*b23*b31*pi_2 + c12*c23*c31*pi_3],\n",
       "[a12*a23*a32*pi_1 + b12*b23*b32*pi_2 + c12*c23*c32*pi_3],\n",
       "[a12*a23*a33*pi_1 + b12*b23*b33*pi_2 + c12*c23*c33*pi_3]])"
      ]
     },
     "execution_count": 39,
     "metadata": {},
     "output_type": "execute_result"
    }
   ],
   "source": [
    "f = Matrix([\n",
    "    a11*a21*a31*pi_1 + b11*b21*b31*pi_2 + c11*c21*c31*pi_3,\n",
    "   a11*a21*a32*pi_1 + b11*b21*b32*pi_2 + c11*c21*c32*pi_3,\n",
    "   a11*a21*a33*pi_1 + b11*b21*b33*pi_2 + c11*c21*c33*pi_3,\n",
    "  a11*a22*a31*pi_1 + b11*b22*b31*pi_2 + c11*c22*c31*pi_3,\n",
    "   a11*a22*a32*pi_1 + b11*b22*b32*pi_2 + c11*c22*c32*pi_3,\n",
    "   a11*a22*a33*pi_1 + b11*b22*b33*pi_2 + c11*c22*c33*pi_3,\n",
    "  a11*a23*a31*pi_1 + b11*b23*b31*pi_2 + c11*c23*c31*pi_3,\n",
    "   a11*a23*a32*pi_1 + b11*b23*b32*pi_2 + c11*c23*c32*pi_3,\n",
    "   a11*a23*a33*pi_1 + b11*b23*b33*pi_2 + c11*c23*c33*pi_3,\n",
    " a12*a21*a31*pi_1 + b12*b21*b31*pi_2 + c12*c21*c31*pi_3,\n",
    "   a12*a21*a32*pi_1 + b12*b21*b32*pi_2 + c12*c21*c32*pi_3,\n",
    "   a12*a21*a33*pi_1 + b12*b21*b33*pi_2 + c12*c21*c33*pi_3,\n",
    "  a12*a22*a31*pi_1 + b12*b22*b31*pi_2 + c12*c22*c31*pi_3,\n",
    "   a12*a22*a32*pi_1 + b12*b22*b32*pi_2 + c12*c22*c32*pi_3,\n",
    "   a12*a22*a33*pi_1 + b12*b22*b33*pi_2 + c12*c22*c33*pi_3,\n",
    "  a12*a23*a31*pi_1 + b12*b23*b31*pi_2 + c12*c23*c31*pi_3,\n",
    "   a12*a23*a32*pi_1 + b12*b23*b32*pi_2 + c12*c23*c32*pi_3,\n",
    "    a12*a23*a33*pi_1 + b12*b23*b33*pi_2 + c12*c23*c33*pi_3\n",
    "])\n",
    "#f = Matrix(R.tolist())\n",
    "d = Matrix([a11, a21, a22, a31, a32, b11, b21, b22, b31, b32,c11, c21, c22, c31, c32, pi_1, pi_2])\n",
    "f"
   ]
  },
  {
   "cell_type": "code",
   "execution_count": 40,
   "id": "planned-shark",
   "metadata": {},
   "outputs": [
    {
     "data": {
      "text/latex": [
       "$\\displaystyle \\left[\\begin{matrix}a_{11} a_{21} a_{31} \\pi_{1} + b_{11} b_{21} b_{31} \\pi_{2} + c_{11} c_{21} c_{31} \\left(- \\pi_{1} - \\pi_{2} + 1\\right)\\\\a_{11} a_{21} a_{32} \\pi_{1} + b_{11} b_{21} b_{32} \\pi_{2} + c_{11} c_{21} c_{32} \\left(- \\pi_{1} - \\pi_{2} + 1\\right)\\\\a_{11} a_{21} \\pi_{1} \\left(- a_{31} - a_{32} + 1\\right) + b_{11} b_{21} \\pi_{2} \\left(- b_{31} - b_{32} + 1\\right) + c_{11} c_{21} \\left(- c_{31} - c_{32} + 1\\right) \\left(- \\pi_{1} - \\pi_{2} + 1\\right)\\\\a_{11} a_{22} a_{31} \\pi_{1} + b_{11} b_{22} b_{31} \\pi_{2} + c_{11} c_{22} c_{31} \\left(- \\pi_{1} - \\pi_{2} + 1\\right)\\\\a_{11} a_{22} a_{32} \\pi_{1} + b_{11} b_{22} b_{32} \\pi_{2} + c_{11} c_{22} c_{32} \\left(- \\pi_{1} - \\pi_{2} + 1\\right)\\\\a_{11} a_{22} \\pi_{1} \\left(- a_{31} - a_{32} + 1\\right) + b_{11} b_{22} \\pi_{2} \\left(- b_{31} - b_{32} + 1\\right) + c_{11} c_{22} \\left(- c_{31} - c_{32} + 1\\right) \\left(- \\pi_{1} - \\pi_{2} + 1\\right)\\\\a_{11} a_{31} \\pi_{1} \\left(- a_{21} - a_{22} + 1\\right) + b_{11} b_{31} \\pi_{2} \\left(- b_{21} - b_{22} + 1\\right) + c_{11} c_{31} \\left(- c_{21} - c_{22} + 1\\right) \\left(- \\pi_{1} - \\pi_{2} + 1\\right)\\\\a_{11} a_{32} \\pi_{1} \\left(- a_{21} - a_{22} + 1\\right) + b_{11} b_{32} \\pi_{2} \\left(- b_{21} - b_{22} + 1\\right) + c_{11} c_{32} \\left(- c_{21} - c_{22} + 1\\right) \\left(- \\pi_{1} - \\pi_{2} + 1\\right)\\\\a_{11} \\pi_{1} \\left(- a_{21} - a_{22} + 1\\right) \\left(- a_{31} - a_{32} + 1\\right) + b_{11} \\pi_{2} \\left(- b_{21} - b_{22} + 1\\right) \\left(- b_{31} - b_{32} + 1\\right) + c_{11} \\left(- c_{21} - c_{22} + 1\\right) \\left(- c_{31} - c_{32} + 1\\right) \\left(- \\pi_{1} - \\pi_{2} + 1\\right)\\\\a_{21} a_{31} \\pi_{1} \\left(1 - a_{11}\\right) + b_{21} b_{31} \\pi_{2} \\left(1 - b_{11}\\right) + c_{21} c_{31} \\left(1 - c_{11}\\right) \\left(- \\pi_{1} - \\pi_{2} + 1\\right)\\\\a_{21} a_{32} \\pi_{1} \\left(1 - a_{11}\\right) + b_{21} b_{32} \\pi_{2} \\left(1 - b_{11}\\right) + c_{21} c_{32} \\left(1 - c_{11}\\right) \\left(- \\pi_{1} - \\pi_{2} + 1\\right)\\\\a_{21} \\pi_{1} \\left(1 - a_{11}\\right) \\left(- a_{31} - a_{32} + 1\\right) + b_{21} \\pi_{2} \\left(1 - b_{11}\\right) \\left(- b_{31} - b_{32} + 1\\right) + c_{21} \\left(1 - c_{11}\\right) \\left(- c_{31} - c_{32} + 1\\right) \\left(- \\pi_{1} - \\pi_{2} + 1\\right)\\\\a_{22} a_{31} \\pi_{1} \\left(1 - a_{11}\\right) + b_{22} b_{31} \\pi_{2} \\left(1 - b_{11}\\right) + c_{22} c_{31} \\left(1 - c_{11}\\right) \\left(- \\pi_{1} - \\pi_{2} + 1\\right)\\\\a_{22} a_{32} \\pi_{1} \\left(1 - a_{11}\\right) + b_{22} b_{32} \\pi_{2} \\left(1 - b_{11}\\right) + c_{22} c_{32} \\left(1 - c_{11}\\right) \\left(- \\pi_{1} - \\pi_{2} + 1\\right)\\\\a_{22} \\pi_{1} \\left(1 - a_{11}\\right) \\left(- a_{31} - a_{32} + 1\\right) + b_{22} \\pi_{2} \\left(1 - b_{11}\\right) \\left(- b_{31} - b_{32} + 1\\right) + c_{22} \\left(1 - c_{11}\\right) \\left(- c_{31} - c_{32} + 1\\right) \\left(- \\pi_{1} - \\pi_{2} + 1\\right)\\\\a_{31} \\pi_{1} \\left(1 - a_{11}\\right) \\left(- a_{21} - a_{22} + 1\\right) + b_{31} \\pi_{2} \\left(1 - b_{11}\\right) \\left(- b_{21} - b_{22} + 1\\right) + c_{31} \\left(1 - c_{11}\\right) \\left(- c_{21} - c_{22} + 1\\right) \\left(- \\pi_{1} - \\pi_{2} + 1\\right)\\\\a_{32} \\pi_{1} \\left(1 - a_{11}\\right) \\left(- a_{21} - a_{22} + 1\\right) + b_{32} \\pi_{2} \\left(1 - b_{11}\\right) \\left(- b_{21} - b_{22} + 1\\right) + c_{32} \\left(1 - c_{11}\\right) \\left(- c_{21} - c_{22} + 1\\right) \\left(- \\pi_{1} - \\pi_{2} + 1\\right)\\\\\\pi_{1} \\left(1 - a_{11}\\right) \\left(- a_{21} - a_{22} + 1\\right) \\left(- a_{31} - a_{32} + 1\\right) + \\pi_{2} \\left(1 - b_{11}\\right) \\left(- b_{21} - b_{22} + 1\\right) \\left(- b_{31} - b_{32} + 1\\right) + \\left(1 - c_{11}\\right) \\left(- c_{21} - c_{22} + 1\\right) \\left(- c_{31} - c_{32} + 1\\right) \\left(- \\pi_{1} - \\pi_{2} + 1\\right)\\end{matrix}\\right]$"
      ],
      "text/plain": [
       "Matrix([\n",
       "[                                                                                                a11*a21*a31*pi_1 + b11*b21*b31*pi_2 + c11*c21*c31*(-pi_1 - pi_2 + 1)],\n",
       "[                                                                                                a11*a21*a32*pi_1 + b11*b21*b32*pi_2 + c11*c21*c32*(-pi_1 - pi_2 + 1)],\n",
       "[                                                         a11*a21*pi_1*(-a31 - a32 + 1) + b11*b21*pi_2*(-b31 - b32 + 1) + c11*c21*(-c31 - c32 + 1)*(-pi_1 - pi_2 + 1)],\n",
       "[                                                                                                a11*a22*a31*pi_1 + b11*b22*b31*pi_2 + c11*c22*c31*(-pi_1 - pi_2 + 1)],\n",
       "[                                                                                                a11*a22*a32*pi_1 + b11*b22*b32*pi_2 + c11*c22*c32*(-pi_1 - pi_2 + 1)],\n",
       "[                                                         a11*a22*pi_1*(-a31 - a32 + 1) + b11*b22*pi_2*(-b31 - b32 + 1) + c11*c22*(-c31 - c32 + 1)*(-pi_1 - pi_2 + 1)],\n",
       "[                                                         a11*a31*pi_1*(-a21 - a22 + 1) + b11*b31*pi_2*(-b21 - b22 + 1) + c11*c31*(-c21 - c22 + 1)*(-pi_1 - pi_2 + 1)],\n",
       "[                                                         a11*a32*pi_1*(-a21 - a22 + 1) + b11*b32*pi_2*(-b21 - b22 + 1) + c11*c32*(-c21 - c22 + 1)*(-pi_1 - pi_2 + 1)],\n",
       "[                  a11*pi_1*(-a21 - a22 + 1)*(-a31 - a32 + 1) + b11*pi_2*(-b21 - b22 + 1)*(-b31 - b32 + 1) + c11*(-c21 - c22 + 1)*(-c31 - c32 + 1)*(-pi_1 - pi_2 + 1)],\n",
       "[                                                                              a21*a31*pi_1*(1 - a11) + b21*b31*pi_2*(1 - b11) + c21*c31*(1 - c11)*(-pi_1 - pi_2 + 1)],\n",
       "[                                                                              a21*a32*pi_1*(1 - a11) + b21*b32*pi_2*(1 - b11) + c21*c32*(1 - c11)*(-pi_1 - pi_2 + 1)],\n",
       "[                                       a21*pi_1*(1 - a11)*(-a31 - a32 + 1) + b21*pi_2*(1 - b11)*(-b31 - b32 + 1) + c21*(1 - c11)*(-c31 - c32 + 1)*(-pi_1 - pi_2 + 1)],\n",
       "[                                                                              a22*a31*pi_1*(1 - a11) + b22*b31*pi_2*(1 - b11) + c22*c31*(1 - c11)*(-pi_1 - pi_2 + 1)],\n",
       "[                                                                              a22*a32*pi_1*(1 - a11) + b22*b32*pi_2*(1 - b11) + c22*c32*(1 - c11)*(-pi_1 - pi_2 + 1)],\n",
       "[                                       a22*pi_1*(1 - a11)*(-a31 - a32 + 1) + b22*pi_2*(1 - b11)*(-b31 - b32 + 1) + c22*(1 - c11)*(-c31 - c32 + 1)*(-pi_1 - pi_2 + 1)],\n",
       "[                                       a31*pi_1*(1 - a11)*(-a21 - a22 + 1) + b31*pi_2*(1 - b11)*(-b21 - b22 + 1) + c31*(1 - c11)*(-c21 - c22 + 1)*(-pi_1 - pi_2 + 1)],\n",
       "[                                       a32*pi_1*(1 - a11)*(-a21 - a22 + 1) + b32*pi_2*(1 - b11)*(-b21 - b22 + 1) + c32*(1 - c11)*(-c21 - c22 + 1)*(-pi_1 - pi_2 + 1)],\n",
       "[pi_1*(1 - a11)*(-a21 - a22 + 1)*(-a31 - a32 + 1) + pi_2*(1 - b11)*(-b21 - b22 + 1)*(-b31 - b32 + 1) + (1 - c11)*(-c21 - c22 + 1)*(-c31 - c32 + 1)*(-pi_1 - pi_2 + 1)]])"
      ]
     },
     "execution_count": 40,
     "metadata": {},
     "output_type": "execute_result"
    }
   ],
   "source": [
    "f = f.subs([(a12, 1-a11), (a23, 1-a21-a22), (a33,1-a31-a32)])\n",
    "f = f.subs([(b12, 1-b11), (b23, 1-b21-b22), (b33,1-b31-b32)])\n",
    "f = f.subs([(c12, 1-c11), (c23, 1-c21-c22), (c33,1-c31-c32)])\n",
    "f = f.subs(pi_3, 1-pi_1 - pi_2)\n",
    "f"
   ]
  },
  {
   "cell_type": "code",
   "execution_count": 70,
   "id": "palestinian-privacy",
   "metadata": {},
   "outputs": [],
   "source": [
    "def r(n):\n",
    "    result = []\n",
    "    for i in range(n):\n",
    "        result.append(randint(0,1000))\n",
    "    result = [number / sum(result) for number in result]\n",
    "    return result\n",
    "\n",
    "def gen():\n",
    "    result = []\n",
    "    for i in range(18):\n",
    "        result.append(randint(0,1000))\n",
    "    result = [num / sum(result) for num in result]\n",
    "    return result"
   ]
  },
  {
   "cell_type": "code",
   "execution_count": 77,
   "id": "positive-evolution",
   "metadata": {},
   "outputs": [
    {
     "name": "stdout",
     "output_type": "stream",
     "text": [
      "[0.31790123456790126, 0.6820987654320988] [0.8541846419327006, 0.1458153580672994]\n"
     ]
    }
   ],
   "source": [
    "M = f.jacobian(d)\n",
    "#tot = gen()\n",
    "a1 = r(2)\n",
    "b1 = r(2)\n",
    "c1 = r(2)\n",
    "pi = r(3)\n",
    "a2 = r(3)\n",
    "b2 = r(3)\n",
    "c2 = r(3)\n",
    "a3 = r(3)\n",
    "b3 = r(3)\n",
    "c3 = r(3)\n",
    "#M = M.subs([(a31,a3[0]),(b31,b3[0]), (c31,c3[0]), (a32,a3[1]), (b32,b3[1]), (c32,c3[1]), (a33,a3[2]),(b33,b3[2]), (c33,c3[2])])\n",
    "#M = M.subs([(a21,a2[0]),(b21,b2[0]), (c21,c2[0]), (a22,a2[1]), (b22,b2[1]), (c22,c2[1]), (a23,a2[2]),(b23,b2[2]), (c23,c2[2])])\n",
    "#M = M.subs([(a11,a1[0]),(b11,b1[0]), (c11,c1[0]), (a12,a1[1]), (b12,b1[1]), (c12,c1[1]), (pi_1,pi[0]),(pi_2,pi[1]),(pi_3, pi[2])])\n",
    "#f = f.subs([(a31,a3[0]),(b31,b3[0]), (c31,c3[0]), (a32,a3[1]), (b32,b3[1]), (c32,c3[1]), (a33,a3[2]),(b33,b3[2]), (c33,c3[2])])\n",
    "#f = f.subs([(a21,a2[0]),(b21,b2[0]), (c21,c2[0]), (a22,a2[1]), (b22,b2[1]), (c22,c2[1]), (a23,a2[2]),(b23,b2[2]), (c23,c2[2])])\n",
    "#f = f.subs([(a11,a1[0]),(b11,b1[0]), (c11,c1[0]), (a12,a1[1]), (b12,b1[1]), (c12,c1[1]), (pi_1,pi[0] + pi[1]),(pi_2,0),(pi_3, pi[2])])\n",
    "#M = M.subs(a12,12)\n",
    "#sum(f)\n",
    "print(a1,b1)"
   ]
  },
  {
   "cell_type": "code",
   "execution_count": 79,
   "id": "unavailable-junction",
   "metadata": {},
   "outputs": [
    {
     "data": {
      "text/latex": [
       "$\\displaystyle \\left[\\begin{array}{ccccccccccccccccc}a_{21} a_{31} \\pi_{1} & a_{11} a_{31} \\pi_{1} & 0 & a_{11} a_{21} \\pi_{1} & 0 & b_{21} b_{31} \\pi_{2} & b_{11} b_{31} \\pi_{2} & 0 & b_{11} b_{21} \\pi_{2} & 0 & c_{21} c_{31} \\left(- \\pi_{1} - \\pi_{2} + 1\\right) & c_{11} c_{31} \\left(- \\pi_{1} - \\pi_{2} + 1\\right) & 0 & c_{11} c_{21} \\left(- \\pi_{1} - \\pi_{2} + 1\\right) & 0 & a_{11} a_{21} a_{31} - c_{11} c_{21} c_{31} & b_{11} b_{21} b_{31} - c_{11} c_{21} c_{31}\\\\a_{21} a_{32} \\pi_{1} & a_{11} a_{32} \\pi_{1} & 0 & 0 & a_{11} a_{21} \\pi_{1} & b_{21} b_{32} \\pi_{2} & b_{11} b_{32} \\pi_{2} & 0 & 0 & b_{11} b_{21} \\pi_{2} & c_{21} c_{32} \\left(- \\pi_{1} - \\pi_{2} + 1\\right) & c_{11} c_{32} \\left(- \\pi_{1} - \\pi_{2} + 1\\right) & 0 & 0 & c_{11} c_{21} \\left(- \\pi_{1} - \\pi_{2} + 1\\right) & a_{11} a_{21} a_{32} - c_{11} c_{21} c_{32} & b_{11} b_{21} b_{32} - c_{11} c_{21} c_{32}\\\\a_{21} \\pi_{1} \\left(- a_{31} - a_{32} + 1\\right) & a_{11} \\pi_{1} \\left(- a_{31} - a_{32} + 1\\right) & 0 & - a_{11} a_{21} \\pi_{1} & - a_{11} a_{21} \\pi_{1} & b_{21} \\pi_{2} \\left(- b_{31} - b_{32} + 1\\right) & b_{11} \\pi_{2} \\left(- b_{31} - b_{32} + 1\\right) & 0 & - b_{11} b_{21} \\pi_{2} & - b_{11} b_{21} \\pi_{2} & c_{21} \\left(- c_{31} - c_{32} + 1\\right) \\left(- \\pi_{1} - \\pi_{2} + 1\\right) & c_{11} \\left(- c_{31} - c_{32} + 1\\right) \\left(- \\pi_{1} - \\pi_{2} + 1\\right) & 0 & - c_{11} c_{21} \\left(- \\pi_{1} - \\pi_{2} + 1\\right) & - c_{11} c_{21} \\left(- \\pi_{1} - \\pi_{2} + 1\\right) & a_{11} a_{21} \\left(- a_{31} - a_{32} + 1\\right) - c_{11} c_{21} \\left(- c_{31} - c_{32} + 1\\right) & b_{11} b_{21} \\left(- b_{31} - b_{32} + 1\\right) - c_{11} c_{21} \\left(- c_{31} - c_{32} + 1\\right)\\\\a_{22} a_{31} \\pi_{1} & 0 & a_{11} a_{31} \\pi_{1} & a_{11} a_{22} \\pi_{1} & 0 & b_{22} b_{31} \\pi_{2} & 0 & b_{11} b_{31} \\pi_{2} & b_{11} b_{22} \\pi_{2} & 0 & c_{22} c_{31} \\left(- \\pi_{1} - \\pi_{2} + 1\\right) & 0 & c_{11} c_{31} \\left(- \\pi_{1} - \\pi_{2} + 1\\right) & c_{11} c_{22} \\left(- \\pi_{1} - \\pi_{2} + 1\\right) & 0 & a_{11} a_{22} a_{31} - c_{11} c_{22} c_{31} & b_{11} b_{22} b_{31} - c_{11} c_{22} c_{31}\\\\a_{22} a_{32} \\pi_{1} & 0 & a_{11} a_{32} \\pi_{1} & 0 & a_{11} a_{22} \\pi_{1} & b_{22} b_{32} \\pi_{2} & 0 & b_{11} b_{32} \\pi_{2} & 0 & b_{11} b_{22} \\pi_{2} & c_{22} c_{32} \\left(- \\pi_{1} - \\pi_{2} + 1\\right) & 0 & c_{11} c_{32} \\left(- \\pi_{1} - \\pi_{2} + 1\\right) & 0 & c_{11} c_{22} \\left(- \\pi_{1} - \\pi_{2} + 1\\right) & a_{11} a_{22} a_{32} - c_{11} c_{22} c_{32} & b_{11} b_{22} b_{32} - c_{11} c_{22} c_{32}\\\\a_{22} \\pi_{1} \\left(- a_{31} - a_{32} + 1\\right) & 0 & a_{11} \\pi_{1} \\left(- a_{31} - a_{32} + 1\\right) & - a_{11} a_{22} \\pi_{1} & - a_{11} a_{22} \\pi_{1} & b_{22} \\pi_{2} \\left(- b_{31} - b_{32} + 1\\right) & 0 & b_{11} \\pi_{2} \\left(- b_{31} - b_{32} + 1\\right) & - b_{11} b_{22} \\pi_{2} & - b_{11} b_{22} \\pi_{2} & c_{22} \\left(- c_{31} - c_{32} + 1\\right) \\left(- \\pi_{1} - \\pi_{2} + 1\\right) & 0 & c_{11} \\left(- c_{31} - c_{32} + 1\\right) \\left(- \\pi_{1} - \\pi_{2} + 1\\right) & - c_{11} c_{22} \\left(- \\pi_{1} - \\pi_{2} + 1\\right) & - c_{11} c_{22} \\left(- \\pi_{1} - \\pi_{2} + 1\\right) & a_{11} a_{22} \\left(- a_{31} - a_{32} + 1\\right) - c_{11} c_{22} \\left(- c_{31} - c_{32} + 1\\right) & b_{11} b_{22} \\left(- b_{31} - b_{32} + 1\\right) - c_{11} c_{22} \\left(- c_{31} - c_{32} + 1\\right)\\\\a_{31} \\pi_{1} \\left(- a_{21} - a_{22} + 1\\right) & - a_{11} a_{31} \\pi_{1} & - a_{11} a_{31} \\pi_{1} & a_{11} \\pi_{1} \\left(- a_{21} - a_{22} + 1\\right) & 0 & b_{31} \\pi_{2} \\left(- b_{21} - b_{22} + 1\\right) & - b_{11} b_{31} \\pi_{2} & - b_{11} b_{31} \\pi_{2} & b_{11} \\pi_{2} \\left(- b_{21} - b_{22} + 1\\right) & 0 & c_{31} \\left(- c_{21} - c_{22} + 1\\right) \\left(- \\pi_{1} - \\pi_{2} + 1\\right) & - c_{11} c_{31} \\left(- \\pi_{1} - \\pi_{2} + 1\\right) & - c_{11} c_{31} \\left(- \\pi_{1} - \\pi_{2} + 1\\right) & c_{11} \\left(- c_{21} - c_{22} + 1\\right) \\left(- \\pi_{1} - \\pi_{2} + 1\\right) & 0 & a_{11} a_{31} \\left(- a_{21} - a_{22} + 1\\right) - c_{11} c_{31} \\left(- c_{21} - c_{22} + 1\\right) & b_{11} b_{31} \\left(- b_{21} - b_{22} + 1\\right) - c_{11} c_{31} \\left(- c_{21} - c_{22} + 1\\right)\\\\a_{32} \\pi_{1} \\left(- a_{21} - a_{22} + 1\\right) & - a_{11} a_{32} \\pi_{1} & - a_{11} a_{32} \\pi_{1} & 0 & a_{11} \\pi_{1} \\left(- a_{21} - a_{22} + 1\\right) & b_{32} \\pi_{2} \\left(- b_{21} - b_{22} + 1\\right) & - b_{11} b_{32} \\pi_{2} & - b_{11} b_{32} \\pi_{2} & 0 & b_{11} \\pi_{2} \\left(- b_{21} - b_{22} + 1\\right) & c_{32} \\left(- c_{21} - c_{22} + 1\\right) \\left(- \\pi_{1} - \\pi_{2} + 1\\right) & - c_{11} c_{32} \\left(- \\pi_{1} - \\pi_{2} + 1\\right) & - c_{11} c_{32} \\left(- \\pi_{1} - \\pi_{2} + 1\\right) & 0 & c_{11} \\left(- c_{21} - c_{22} + 1\\right) \\left(- \\pi_{1} - \\pi_{2} + 1\\right) & a_{11} a_{32} \\left(- a_{21} - a_{22} + 1\\right) - c_{11} c_{32} \\left(- c_{21} - c_{22} + 1\\right) & b_{11} b_{32} \\left(- b_{21} - b_{22} + 1\\right) - c_{11} c_{32} \\left(- c_{21} - c_{22} + 1\\right)\\\\\\pi_{1} \\left(- a_{21} - a_{22} + 1\\right) \\left(- a_{31} - a_{32} + 1\\right) & - a_{11} \\pi_{1} \\left(- a_{31} - a_{32} + 1\\right) & - a_{11} \\pi_{1} \\left(- a_{31} - a_{32} + 1\\right) & - a_{11} \\pi_{1} \\left(- a_{21} - a_{22} + 1\\right) & - a_{11} \\pi_{1} \\left(- a_{21} - a_{22} + 1\\right) & \\pi_{2} \\left(- b_{21} - b_{22} + 1\\right) \\left(- b_{31} - b_{32} + 1\\right) & - b_{11} \\pi_{2} \\left(- b_{31} - b_{32} + 1\\right) & - b_{11} \\pi_{2} \\left(- b_{31} - b_{32} + 1\\right) & - b_{11} \\pi_{2} \\left(- b_{21} - b_{22} + 1\\right) & - b_{11} \\pi_{2} \\left(- b_{21} - b_{22} + 1\\right) & \\left(- c_{21} - c_{22} + 1\\right) \\left(- c_{31} - c_{32} + 1\\right) \\left(- \\pi_{1} - \\pi_{2} + 1\\right) & - c_{11} \\left(- c_{31} - c_{32} + 1\\right) \\left(- \\pi_{1} - \\pi_{2} + 1\\right) & - c_{11} \\left(- c_{31} - c_{32} + 1\\right) \\left(- \\pi_{1} - \\pi_{2} + 1\\right) & - c_{11} \\left(- c_{21} - c_{22} + 1\\right) \\left(- \\pi_{1} - \\pi_{2} + 1\\right) & - c_{11} \\left(- c_{21} - c_{22} + 1\\right) \\left(- \\pi_{1} - \\pi_{2} + 1\\right) & a_{11} \\left(- a_{21} - a_{22} + 1\\right) \\left(- a_{31} - a_{32} + 1\\right) - c_{11} \\left(- c_{21} - c_{22} + 1\\right) \\left(- c_{31} - c_{32} + 1\\right) & b_{11} \\left(- b_{21} - b_{22} + 1\\right) \\left(- b_{31} - b_{32} + 1\\right) - c_{11} \\left(- c_{21} - c_{22} + 1\\right) \\left(- c_{31} - c_{32} + 1\\right)\\\\- a_{21} a_{31} \\pi_{1} & a_{31} \\pi_{1} \\left(1 - a_{11}\\right) & 0 & a_{21} \\pi_{1} \\left(1 - a_{11}\\right) & 0 & - b_{21} b_{31} \\pi_{2} & b_{31} \\pi_{2} \\left(1 - b_{11}\\right) & 0 & b_{21} \\pi_{2} \\left(1 - b_{11}\\right) & 0 & - c_{21} c_{31} \\left(- \\pi_{1} - \\pi_{2} + 1\\right) & c_{31} \\left(1 - c_{11}\\right) \\left(- \\pi_{1} - \\pi_{2} + 1\\right) & 0 & c_{21} \\left(1 - c_{11}\\right) \\left(- \\pi_{1} - \\pi_{2} + 1\\right) & 0 & a_{21} a_{31} \\left(1 - a_{11}\\right) - c_{21} c_{31} \\left(1 - c_{11}\\right) & b_{21} b_{31} \\left(1 - b_{11}\\right) - c_{21} c_{31} \\left(1 - c_{11}\\right)\\\\- a_{21} a_{32} \\pi_{1} & a_{32} \\pi_{1} \\left(1 - a_{11}\\right) & 0 & 0 & a_{21} \\pi_{1} \\left(1 - a_{11}\\right) & - b_{21} b_{32} \\pi_{2} & b_{32} \\pi_{2} \\left(1 - b_{11}\\right) & 0 & 0 & b_{21} \\pi_{2} \\left(1 - b_{11}\\right) & - c_{21} c_{32} \\left(- \\pi_{1} - \\pi_{2} + 1\\right) & c_{32} \\left(1 - c_{11}\\right) \\left(- \\pi_{1} - \\pi_{2} + 1\\right) & 0 & 0 & c_{21} \\left(1 - c_{11}\\right) \\left(- \\pi_{1} - \\pi_{2} + 1\\right) & a_{21} a_{32} \\left(1 - a_{11}\\right) - c_{21} c_{32} \\left(1 - c_{11}\\right) & b_{21} b_{32} \\left(1 - b_{11}\\right) - c_{21} c_{32} \\left(1 - c_{11}\\right)\\\\- a_{21} \\pi_{1} \\left(- a_{31} - a_{32} + 1\\right) & \\pi_{1} \\left(1 - a_{11}\\right) \\left(- a_{31} - a_{32} + 1\\right) & 0 & - a_{21} \\pi_{1} \\left(1 - a_{11}\\right) & - a_{21} \\pi_{1} \\left(1 - a_{11}\\right) & - b_{21} \\pi_{2} \\left(- b_{31} - b_{32} + 1\\right) & \\pi_{2} \\left(1 - b_{11}\\right) \\left(- b_{31} - b_{32} + 1\\right) & 0 & - b_{21} \\pi_{2} \\left(1 - b_{11}\\right) & - b_{21} \\pi_{2} \\left(1 - b_{11}\\right) & - c_{21} \\left(- c_{31} - c_{32} + 1\\right) \\left(- \\pi_{1} - \\pi_{2} + 1\\right) & \\left(1 - c_{11}\\right) \\left(- c_{31} - c_{32} + 1\\right) \\left(- \\pi_{1} - \\pi_{2} + 1\\right) & 0 & - c_{21} \\left(1 - c_{11}\\right) \\left(- \\pi_{1} - \\pi_{2} + 1\\right) & - c_{21} \\left(1 - c_{11}\\right) \\left(- \\pi_{1} - \\pi_{2} + 1\\right) & a_{21} \\left(1 - a_{11}\\right) \\left(- a_{31} - a_{32} + 1\\right) - c_{21} \\left(1 - c_{11}\\right) \\left(- c_{31} - c_{32} + 1\\right) & b_{21} \\left(1 - b_{11}\\right) \\left(- b_{31} - b_{32} + 1\\right) - c_{21} \\left(1 - c_{11}\\right) \\left(- c_{31} - c_{32} + 1\\right)\\\\- a_{22} a_{31} \\pi_{1} & 0 & a_{31} \\pi_{1} \\left(1 - a_{11}\\right) & a_{22} \\pi_{1} \\left(1 - a_{11}\\right) & 0 & - b_{22} b_{31} \\pi_{2} & 0 & b_{31} \\pi_{2} \\left(1 - b_{11}\\right) & b_{22} \\pi_{2} \\left(1 - b_{11}\\right) & 0 & - c_{22} c_{31} \\left(- \\pi_{1} - \\pi_{2} + 1\\right) & 0 & c_{31} \\left(1 - c_{11}\\right) \\left(- \\pi_{1} - \\pi_{2} + 1\\right) & c_{22} \\left(1 - c_{11}\\right) \\left(- \\pi_{1} - \\pi_{2} + 1\\right) & 0 & a_{22} a_{31} \\left(1 - a_{11}\\right) - c_{22} c_{31} \\left(1 - c_{11}\\right) & b_{22} b_{31} \\left(1 - b_{11}\\right) - c_{22} c_{31} \\left(1 - c_{11}\\right)\\\\- a_{22} a_{32} \\pi_{1} & 0 & a_{32} \\pi_{1} \\left(1 - a_{11}\\right) & 0 & a_{22} \\pi_{1} \\left(1 - a_{11}\\right) & - b_{22} b_{32} \\pi_{2} & 0 & b_{32} \\pi_{2} \\left(1 - b_{11}\\right) & 0 & b_{22} \\pi_{2} \\left(1 - b_{11}\\right) & - c_{22} c_{32} \\left(- \\pi_{1} - \\pi_{2} + 1\\right) & 0 & c_{32} \\left(1 - c_{11}\\right) \\left(- \\pi_{1} - \\pi_{2} + 1\\right) & 0 & c_{22} \\left(1 - c_{11}\\right) \\left(- \\pi_{1} - \\pi_{2} + 1\\right) & a_{22} a_{32} \\left(1 - a_{11}\\right) - c_{22} c_{32} \\left(1 - c_{11}\\right) & b_{22} b_{32} \\left(1 - b_{11}\\right) - c_{22} c_{32} \\left(1 - c_{11}\\right)\\\\- a_{22} \\pi_{1} \\left(- a_{31} - a_{32} + 1\\right) & 0 & \\pi_{1} \\left(1 - a_{11}\\right) \\left(- a_{31} - a_{32} + 1\\right) & - a_{22} \\pi_{1} \\left(1 - a_{11}\\right) & - a_{22} \\pi_{1} \\left(1 - a_{11}\\right) & - b_{22} \\pi_{2} \\left(- b_{31} - b_{32} + 1\\right) & 0 & \\pi_{2} \\left(1 - b_{11}\\right) \\left(- b_{31} - b_{32} + 1\\right) & - b_{22} \\pi_{2} \\left(1 - b_{11}\\right) & - b_{22} \\pi_{2} \\left(1 - b_{11}\\right) & - c_{22} \\left(- c_{31} - c_{32} + 1\\right) \\left(- \\pi_{1} - \\pi_{2} + 1\\right) & 0 & \\left(1 - c_{11}\\right) \\left(- c_{31} - c_{32} + 1\\right) \\left(- \\pi_{1} - \\pi_{2} + 1\\right) & - c_{22} \\left(1 - c_{11}\\right) \\left(- \\pi_{1} - \\pi_{2} + 1\\right) & - c_{22} \\left(1 - c_{11}\\right) \\left(- \\pi_{1} - \\pi_{2} + 1\\right) & a_{22} \\left(1 - a_{11}\\right) \\left(- a_{31} - a_{32} + 1\\right) - c_{22} \\left(1 - c_{11}\\right) \\left(- c_{31} - c_{32} + 1\\right) & b_{22} \\left(1 - b_{11}\\right) \\left(- b_{31} - b_{32} + 1\\right) - c_{22} \\left(1 - c_{11}\\right) \\left(- c_{31} - c_{32} + 1\\right)\\\\- a_{31} \\pi_{1} \\left(- a_{21} - a_{22} + 1\\right) & - a_{31} \\pi_{1} \\left(1 - a_{11}\\right) & - a_{31} \\pi_{1} \\left(1 - a_{11}\\right) & \\pi_{1} \\left(1 - a_{11}\\right) \\left(- a_{21} - a_{22} + 1\\right) & 0 & - b_{31} \\pi_{2} \\left(- b_{21} - b_{22} + 1\\right) & - b_{31} \\pi_{2} \\left(1 - b_{11}\\right) & - b_{31} \\pi_{2} \\left(1 - b_{11}\\right) & \\pi_{2} \\left(1 - b_{11}\\right) \\left(- b_{21} - b_{22} + 1\\right) & 0 & - c_{31} \\left(- c_{21} - c_{22} + 1\\right) \\left(- \\pi_{1} - \\pi_{2} + 1\\right) & - c_{31} \\left(1 - c_{11}\\right) \\left(- \\pi_{1} - \\pi_{2} + 1\\right) & - c_{31} \\left(1 - c_{11}\\right) \\left(- \\pi_{1} - \\pi_{2} + 1\\right) & \\left(1 - c_{11}\\right) \\left(- c_{21} - c_{22} + 1\\right) \\left(- \\pi_{1} - \\pi_{2} + 1\\right) & 0 & a_{31} \\left(1 - a_{11}\\right) \\left(- a_{21} - a_{22} + 1\\right) - c_{31} \\left(1 - c_{11}\\right) \\left(- c_{21} - c_{22} + 1\\right) & b_{31} \\left(1 - b_{11}\\right) \\left(- b_{21} - b_{22} + 1\\right) - c_{31} \\left(1 - c_{11}\\right) \\left(- c_{21} - c_{22} + 1\\right)\\\\- a_{32} \\pi_{1} \\left(- a_{21} - a_{22} + 1\\right) & - a_{32} \\pi_{1} \\left(1 - a_{11}\\right) & - a_{32} \\pi_{1} \\left(1 - a_{11}\\right) & 0 & \\pi_{1} \\left(1 - a_{11}\\right) \\left(- a_{21} - a_{22} + 1\\right) & - b_{32} \\pi_{2} \\left(- b_{21} - b_{22} + 1\\right) & - b_{32} \\pi_{2} \\left(1 - b_{11}\\right) & - b_{32} \\pi_{2} \\left(1 - b_{11}\\right) & 0 & \\pi_{2} \\left(1 - b_{11}\\right) \\left(- b_{21} - b_{22} + 1\\right) & - c_{32} \\left(- c_{21} - c_{22} + 1\\right) \\left(- \\pi_{1} - \\pi_{2} + 1\\right) & - c_{32} \\left(1 - c_{11}\\right) \\left(- \\pi_{1} - \\pi_{2} + 1\\right) & - c_{32} \\left(1 - c_{11}\\right) \\left(- \\pi_{1} - \\pi_{2} + 1\\right) & 0 & \\left(1 - c_{11}\\right) \\left(- c_{21} - c_{22} + 1\\right) \\left(- \\pi_{1} - \\pi_{2} + 1\\right) & a_{32} \\left(1 - a_{11}\\right) \\left(- a_{21} - a_{22} + 1\\right) - c_{32} \\left(1 - c_{11}\\right) \\left(- c_{21} - c_{22} + 1\\right) & b_{32} \\left(1 - b_{11}\\right) \\left(- b_{21} - b_{22} + 1\\right) - c_{32} \\left(1 - c_{11}\\right) \\left(- c_{21} - c_{22} + 1\\right)\\\\- \\pi_{1} \\left(- a_{21} - a_{22} + 1\\right) \\left(- a_{31} - a_{32} + 1\\right) & - \\pi_{1} \\left(1 - a_{11}\\right) \\left(- a_{31} - a_{32} + 1\\right) & - \\pi_{1} \\left(1 - a_{11}\\right) \\left(- a_{31} - a_{32} + 1\\right) & - \\pi_{1} \\left(1 - a_{11}\\right) \\left(- a_{21} - a_{22} + 1\\right) & - \\pi_{1} \\left(1 - a_{11}\\right) \\left(- a_{21} - a_{22} + 1\\right) & - \\pi_{2} \\left(- b_{21} - b_{22} + 1\\right) \\left(- b_{31} - b_{32} + 1\\right) & - \\pi_{2} \\left(1 - b_{11}\\right) \\left(- b_{31} - b_{32} + 1\\right) & - \\pi_{2} \\left(1 - b_{11}\\right) \\left(- b_{31} - b_{32} + 1\\right) & - \\pi_{2} \\left(1 - b_{11}\\right) \\left(- b_{21} - b_{22} + 1\\right) & - \\pi_{2} \\left(1 - b_{11}\\right) \\left(- b_{21} - b_{22} + 1\\right) & \\left(c_{21} + c_{22} - 1\\right) \\left(- c_{31} - c_{32} + 1\\right) \\left(- \\pi_{1} - \\pi_{2} + 1\\right) & \\left(c_{11} - 1\\right) \\left(- c_{31} - c_{32} + 1\\right) \\left(- \\pi_{1} - \\pi_{2} + 1\\right) & \\left(c_{11} - 1\\right) \\left(- c_{31} - c_{32} + 1\\right) \\left(- \\pi_{1} - \\pi_{2} + 1\\right) & - \\left(1 - c_{11}\\right) \\left(- c_{21} - c_{22} + 1\\right) \\left(- \\pi_{1} - \\pi_{2} + 1\\right) & - \\left(1 - c_{11}\\right) \\left(- c_{21} - c_{22} + 1\\right) \\left(- \\pi_{1} - \\pi_{2} + 1\\right) & \\left(1 - a_{11}\\right) \\left(- a_{21} - a_{22} + 1\\right) \\left(- a_{31} - a_{32} + 1\\right) - \\left(1 - c_{11}\\right) \\left(- c_{21} - c_{22} + 1\\right) \\left(- c_{31} - c_{32} + 1\\right) & \\left(1 - b_{11}\\right) \\left(- b_{21} - b_{22} + 1\\right) \\left(- b_{31} - b_{32} + 1\\right) - \\left(1 - c_{11}\\right) \\left(- c_{21} - c_{22} + 1\\right) \\left(- c_{31} - c_{32} + 1\\right)\\end{array}\\right]$"
      ],
      "text/plain": [
       "Matrix([\n",
       "[                           a21*a31*pi_1,                     a11*a31*pi_1,                                0,                     a11*a21*pi_1,                                0,                            b21*b31*pi_2,                     b11*b31*pi_2,                                0,                     b11*b21*pi_2,                                0,                           c21*c31*(-pi_1 - pi_2 + 1),                    c11*c31*(-pi_1 - pi_2 + 1),                                             0,                     c11*c21*(-pi_1 - pi_2 + 1),                                              0,                                                                 a11*a21*a31 - c11*c21*c31,                                                                 b11*b21*b31 - c11*c21*c31],\n",
       "[                           a21*a32*pi_1,                     a11*a32*pi_1,                                0,                                0,                     a11*a21*pi_1,                            b21*b32*pi_2,                     b11*b32*pi_2,                                0,                                0,                     b11*b21*pi_2,                           c21*c32*(-pi_1 - pi_2 + 1),                    c11*c32*(-pi_1 - pi_2 + 1),                                             0,                                              0,                     c11*c21*(-pi_1 - pi_2 + 1),                                                                 a11*a21*a32 - c11*c21*c32,                                                                 b11*b21*b32 - c11*c21*c32],\n",
       "[              a21*pi_1*(-a31 - a32 + 1),        a11*pi_1*(-a31 - a32 + 1),                                0,                    -a11*a21*pi_1,                    -a11*a21*pi_1,               b21*pi_2*(-b31 - b32 + 1),        b11*pi_2*(-b31 - b32 + 1),                                0,                    -b11*b21*pi_2,                    -b11*b21*pi_2,              c21*(-c31 - c32 + 1)*(-pi_1 - pi_2 + 1),       c11*(-c31 - c32 + 1)*(-pi_1 - pi_2 + 1),                                             0,                    -c11*c21*(-pi_1 - pi_2 + 1),                    -c11*c21*(-pi_1 - pi_2 + 1),                                       a11*a21*(-a31 - a32 + 1) - c11*c21*(-c31 - c32 + 1),                                       b11*b21*(-b31 - b32 + 1) - c11*c21*(-c31 - c32 + 1)],\n",
       "[                           a22*a31*pi_1,                                0,                     a11*a31*pi_1,                     a11*a22*pi_1,                                0,                            b22*b31*pi_2,                                0,                     b11*b31*pi_2,                     b11*b22*pi_2,                                0,                           c22*c31*(-pi_1 - pi_2 + 1),                                             0,                    c11*c31*(-pi_1 - pi_2 + 1),                     c11*c22*(-pi_1 - pi_2 + 1),                                              0,                                                                 a11*a22*a31 - c11*c22*c31,                                                                 b11*b22*b31 - c11*c22*c31],\n",
       "[                           a22*a32*pi_1,                                0,                     a11*a32*pi_1,                                0,                     a11*a22*pi_1,                            b22*b32*pi_2,                                0,                     b11*b32*pi_2,                                0,                     b11*b22*pi_2,                           c22*c32*(-pi_1 - pi_2 + 1),                                             0,                    c11*c32*(-pi_1 - pi_2 + 1),                                              0,                     c11*c22*(-pi_1 - pi_2 + 1),                                                                 a11*a22*a32 - c11*c22*c32,                                                                 b11*b22*b32 - c11*c22*c32],\n",
       "[              a22*pi_1*(-a31 - a32 + 1),                                0,        a11*pi_1*(-a31 - a32 + 1),                    -a11*a22*pi_1,                    -a11*a22*pi_1,               b22*pi_2*(-b31 - b32 + 1),                                0,        b11*pi_2*(-b31 - b32 + 1),                    -b11*b22*pi_2,                    -b11*b22*pi_2,              c22*(-c31 - c32 + 1)*(-pi_1 - pi_2 + 1),                                             0,       c11*(-c31 - c32 + 1)*(-pi_1 - pi_2 + 1),                    -c11*c22*(-pi_1 - pi_2 + 1),                    -c11*c22*(-pi_1 - pi_2 + 1),                                       a11*a22*(-a31 - a32 + 1) - c11*c22*(-c31 - c32 + 1),                                       b11*b22*(-b31 - b32 + 1) - c11*c22*(-c31 - c32 + 1)],\n",
       "[              a31*pi_1*(-a21 - a22 + 1),                    -a11*a31*pi_1,                    -a11*a31*pi_1,        a11*pi_1*(-a21 - a22 + 1),                                0,               b31*pi_2*(-b21 - b22 + 1),                    -b11*b31*pi_2,                    -b11*b31*pi_2,        b11*pi_2*(-b21 - b22 + 1),                                0,              c31*(-c21 - c22 + 1)*(-pi_1 - pi_2 + 1),                   -c11*c31*(-pi_1 - pi_2 + 1),                   -c11*c31*(-pi_1 - pi_2 + 1),        c11*(-c21 - c22 + 1)*(-pi_1 - pi_2 + 1),                                              0,                                       a11*a31*(-a21 - a22 + 1) - c11*c31*(-c21 - c22 + 1),                                       b11*b31*(-b21 - b22 + 1) - c11*c31*(-c21 - c22 + 1)],\n",
       "[              a32*pi_1*(-a21 - a22 + 1),                    -a11*a32*pi_1,                    -a11*a32*pi_1,                                0,        a11*pi_1*(-a21 - a22 + 1),               b32*pi_2*(-b21 - b22 + 1),                    -b11*b32*pi_2,                    -b11*b32*pi_2,                                0,        b11*pi_2*(-b21 - b22 + 1),              c32*(-c21 - c22 + 1)*(-pi_1 - pi_2 + 1),                   -c11*c32*(-pi_1 - pi_2 + 1),                   -c11*c32*(-pi_1 - pi_2 + 1),                                              0,        c11*(-c21 - c22 + 1)*(-pi_1 - pi_2 + 1),                                       a11*a32*(-a21 - a22 + 1) - c11*c32*(-c21 - c22 + 1),                                       b11*b32*(-b21 - b22 + 1) - c11*c32*(-c21 - c22 + 1)],\n",
       "[ pi_1*(-a21 - a22 + 1)*(-a31 - a32 + 1),       -a11*pi_1*(-a31 - a32 + 1),       -a11*pi_1*(-a31 - a32 + 1),       -a11*pi_1*(-a21 - a22 + 1),       -a11*pi_1*(-a21 - a22 + 1),  pi_2*(-b21 - b22 + 1)*(-b31 - b32 + 1),       -b11*pi_2*(-b31 - b32 + 1),       -b11*pi_2*(-b31 - b32 + 1),       -b11*pi_2*(-b21 - b22 + 1),       -b11*pi_2*(-b21 - b22 + 1), (-c21 - c22 + 1)*(-c31 - c32 + 1)*(-pi_1 - pi_2 + 1),      -c11*(-c31 - c32 + 1)*(-pi_1 - pi_2 + 1),      -c11*(-c31 - c32 + 1)*(-pi_1 - pi_2 + 1),       -c11*(-c21 - c22 + 1)*(-pi_1 - pi_2 + 1),       -c11*(-c21 - c22 + 1)*(-pi_1 - pi_2 + 1),             a11*(-a21 - a22 + 1)*(-a31 - a32 + 1) - c11*(-c21 - c22 + 1)*(-c31 - c32 + 1),             b11*(-b21 - b22 + 1)*(-b31 - b32 + 1) - c11*(-c21 - c22 + 1)*(-c31 - c32 + 1)],\n",
       "[                          -a21*a31*pi_1,               a31*pi_1*(1 - a11),                                0,               a21*pi_1*(1 - a11),                                0,                           -b21*b31*pi_2,               b31*pi_2*(1 - b11),                                0,               b21*pi_2*(1 - b11),                                0,                          -c21*c31*(-pi_1 - pi_2 + 1),              c31*(1 - c11)*(-pi_1 - pi_2 + 1),                                             0,               c21*(1 - c11)*(-pi_1 - pi_2 + 1),                                              0,                                                     a21*a31*(1 - a11) - c21*c31*(1 - c11),                                                     b21*b31*(1 - b11) - c21*c31*(1 - c11)],\n",
       "[                          -a21*a32*pi_1,               a32*pi_1*(1 - a11),                                0,                                0,               a21*pi_1*(1 - a11),                           -b21*b32*pi_2,               b32*pi_2*(1 - b11),                                0,                                0,               b21*pi_2*(1 - b11),                          -c21*c32*(-pi_1 - pi_2 + 1),              c32*(1 - c11)*(-pi_1 - pi_2 + 1),                                             0,                                              0,               c21*(1 - c11)*(-pi_1 - pi_2 + 1),                                                     a21*a32*(1 - a11) - c21*c32*(1 - c11),                                                     b21*b32*(1 - b11) - c21*c32*(1 - c11)],\n",
       "[             -a21*pi_1*(-a31 - a32 + 1),  pi_1*(1 - a11)*(-a31 - a32 + 1),                                0,              -a21*pi_1*(1 - a11),              -a21*pi_1*(1 - a11),              -b21*pi_2*(-b31 - b32 + 1),  pi_2*(1 - b11)*(-b31 - b32 + 1),                                0,              -b21*pi_2*(1 - b11),              -b21*pi_2*(1 - b11),             -c21*(-c31 - c32 + 1)*(-pi_1 - pi_2 + 1), (1 - c11)*(-c31 - c32 + 1)*(-pi_1 - pi_2 + 1),                                             0,              -c21*(1 - c11)*(-pi_1 - pi_2 + 1),              -c21*(1 - c11)*(-pi_1 - pi_2 + 1),                           a21*(1 - a11)*(-a31 - a32 + 1) - c21*(1 - c11)*(-c31 - c32 + 1),                           b21*(1 - b11)*(-b31 - b32 + 1) - c21*(1 - c11)*(-c31 - c32 + 1)],\n",
       "[                          -a22*a31*pi_1,                                0,               a31*pi_1*(1 - a11),               a22*pi_1*(1 - a11),                                0,                           -b22*b31*pi_2,                                0,               b31*pi_2*(1 - b11),               b22*pi_2*(1 - b11),                                0,                          -c22*c31*(-pi_1 - pi_2 + 1),                                             0,              c31*(1 - c11)*(-pi_1 - pi_2 + 1),               c22*(1 - c11)*(-pi_1 - pi_2 + 1),                                              0,                                                     a22*a31*(1 - a11) - c22*c31*(1 - c11),                                                     b22*b31*(1 - b11) - c22*c31*(1 - c11)],\n",
       "[                          -a22*a32*pi_1,                                0,               a32*pi_1*(1 - a11),                                0,               a22*pi_1*(1 - a11),                           -b22*b32*pi_2,                                0,               b32*pi_2*(1 - b11),                                0,               b22*pi_2*(1 - b11),                          -c22*c32*(-pi_1 - pi_2 + 1),                                             0,              c32*(1 - c11)*(-pi_1 - pi_2 + 1),                                              0,               c22*(1 - c11)*(-pi_1 - pi_2 + 1),                                                     a22*a32*(1 - a11) - c22*c32*(1 - c11),                                                     b22*b32*(1 - b11) - c22*c32*(1 - c11)],\n",
       "[             -a22*pi_1*(-a31 - a32 + 1),                                0,  pi_1*(1 - a11)*(-a31 - a32 + 1),              -a22*pi_1*(1 - a11),              -a22*pi_1*(1 - a11),              -b22*pi_2*(-b31 - b32 + 1),                                0,  pi_2*(1 - b11)*(-b31 - b32 + 1),              -b22*pi_2*(1 - b11),              -b22*pi_2*(1 - b11),             -c22*(-c31 - c32 + 1)*(-pi_1 - pi_2 + 1),                                             0, (1 - c11)*(-c31 - c32 + 1)*(-pi_1 - pi_2 + 1),              -c22*(1 - c11)*(-pi_1 - pi_2 + 1),              -c22*(1 - c11)*(-pi_1 - pi_2 + 1),                           a22*(1 - a11)*(-a31 - a32 + 1) - c22*(1 - c11)*(-c31 - c32 + 1),                           b22*(1 - b11)*(-b31 - b32 + 1) - c22*(1 - c11)*(-c31 - c32 + 1)],\n",
       "[             -a31*pi_1*(-a21 - a22 + 1),              -a31*pi_1*(1 - a11),              -a31*pi_1*(1 - a11),  pi_1*(1 - a11)*(-a21 - a22 + 1),                                0,              -b31*pi_2*(-b21 - b22 + 1),              -b31*pi_2*(1 - b11),              -b31*pi_2*(1 - b11),  pi_2*(1 - b11)*(-b21 - b22 + 1),                                0,             -c31*(-c21 - c22 + 1)*(-pi_1 - pi_2 + 1),             -c31*(1 - c11)*(-pi_1 - pi_2 + 1),             -c31*(1 - c11)*(-pi_1 - pi_2 + 1),  (1 - c11)*(-c21 - c22 + 1)*(-pi_1 - pi_2 + 1),                                              0,                           a31*(1 - a11)*(-a21 - a22 + 1) - c31*(1 - c11)*(-c21 - c22 + 1),                           b31*(1 - b11)*(-b21 - b22 + 1) - c31*(1 - c11)*(-c21 - c22 + 1)],\n",
       "[             -a32*pi_1*(-a21 - a22 + 1),              -a32*pi_1*(1 - a11),              -a32*pi_1*(1 - a11),                                0,  pi_1*(1 - a11)*(-a21 - a22 + 1),              -b32*pi_2*(-b21 - b22 + 1),              -b32*pi_2*(1 - b11),              -b32*pi_2*(1 - b11),                                0,  pi_2*(1 - b11)*(-b21 - b22 + 1),             -c32*(-c21 - c22 + 1)*(-pi_1 - pi_2 + 1),             -c32*(1 - c11)*(-pi_1 - pi_2 + 1),             -c32*(1 - c11)*(-pi_1 - pi_2 + 1),                                              0,  (1 - c11)*(-c21 - c22 + 1)*(-pi_1 - pi_2 + 1),                           a32*(1 - a11)*(-a21 - a22 + 1) - c32*(1 - c11)*(-c21 - c22 + 1),                           b32*(1 - b11)*(-b21 - b22 + 1) - c32*(1 - c11)*(-c21 - c22 + 1)],\n",
       "[-pi_1*(-a21 - a22 + 1)*(-a31 - a32 + 1), -pi_1*(1 - a11)*(-a31 - a32 + 1), -pi_1*(1 - a11)*(-a31 - a32 + 1), -pi_1*(1 - a11)*(-a21 - a22 + 1), -pi_1*(1 - a11)*(-a21 - a22 + 1), -pi_2*(-b21 - b22 + 1)*(-b31 - b32 + 1), -pi_2*(1 - b11)*(-b31 - b32 + 1), -pi_2*(1 - b11)*(-b31 - b32 + 1), -pi_2*(1 - b11)*(-b21 - b22 + 1), -pi_2*(1 - b11)*(-b21 - b22 + 1),  (c21 + c22 - 1)*(-c31 - c32 + 1)*(-pi_1 - pi_2 + 1), (c11 - 1)*(-c31 - c32 + 1)*(-pi_1 - pi_2 + 1), (c11 - 1)*(-c31 - c32 + 1)*(-pi_1 - pi_2 + 1), -(1 - c11)*(-c21 - c22 + 1)*(-pi_1 - pi_2 + 1), -(1 - c11)*(-c21 - c22 + 1)*(-pi_1 - pi_2 + 1), (1 - a11)*(-a21 - a22 + 1)*(-a31 - a32 + 1) - (1 - c11)*(-c21 - c22 + 1)*(-c31 - c32 + 1), (1 - b11)*(-b21 - b22 + 1)*(-b31 - b32 + 1) - (1 - c11)*(-c21 - c22 + 1)*(-c31 - c32 + 1)]])"
      ]
     },
     "execution_count": 79,
     "metadata": {},
     "output_type": "execute_result"
    }
   ],
   "source": [
    "M"
   ]
  },
  {
   "cell_type": "code",
   "execution_count": 76,
   "id": "loved-senior",
   "metadata": {},
   "outputs": [
    {
     "data": {
      "text/latex": [
       "$\\displaystyle \\left[\\begin{array}{ccccccccccccccccc}0.0169752186265527 & 0.0332973545998976 & 0 & 0.0169286481906762 & 0 & 0.000939560032383828 & 0.0032731509882151 & 0 & 0.00873236289051941 & 0 & 0.0427389872332172 & 0.0319121522843417 & 0 & 0.094123915022088 & 0 & -0.057034356356342 & -0.0700445831660872\\\\0.0089796446357851 & 0.0176138180129893 & 0 & 0 & 0.0169286481906762 & 0.0135164776588551 & 0.0470874352690593 & 0 & 0 & 0.00873236289051941 & 0.0498017859709099 & 0.0371857706703134 & 0 & 0 & 0.094123915022088 & -0.075269808642439 & -0.070559709747929\\\\0.0304139333725735 & 0.0596577603248166 & 0 & -0.0169286481906762 & -0.0169286481906762 & 0.0146208727846396 & 0.0509348232727507 & 0 & -0.00873236289051941 & -0.00873236289051941 & 0.100146864152412 & 0.0747772042933938 & 0 & -0.094123915022088 & -0.094123915022088 & -0.141281314950246 & -0.153071968757598\\\\0.0498572854765882 & 0 & 0.0332973545998976 & 0.0497205051754127 & 0 & 0.00321158701978472 & 0 & 0.0032731509882151 & 0.0298488040621391 & 0 & 0.0212473822245137 & 0 & 0.0319121522843417 & 0.0467930320395523 & 0 & 0.00543085242626486 & -0.032378513366255\\\\0.0263737814477604 & 0 & 0.0176138180129893 & 0 & 0.0497205051754127 & 0.0462017781793591 & 0 & 0.0470874352690593 & 0 & 0.0298488040621391 & 0.0247586021683952 & 0 & 0.0371857706703134 & 0 & 0.0467930320395523 & -0.0195480325298742 & 7.60194858233018 \\cdot 10^{-5}\\\\0.0893276364788873 & 0 & 0.0596577603248166 & -0.0497205051754127 & -0.0497205051754127 & 0.0499768015184043 & 0 & 0.0509348232727507 & -0.0298488040621391 & -0.0298488040621391 & 0.0497872981786275 & 0 & 0.0747772042933938 & -0.0467930320395523 & -0.0467930320395523 & -0.00970540332842726 & -0.0380719991982036\\\\0.0440406021709863 & -0.0332973545998976 & -0.0332973545998976 & 0.0439197795716145 & 0 & 0.00674774932348385 & -0.0032731509882151 & -0.0032731509882151 & 0.0627142425773667 & 0 & 0.00134322531304397 & -0.0319121522843417 & -0.0319121522843417 & 0.00295818018640848 & 0 & 0.0336965113295745 & 0.00378039357495171\\\\0.0232968402788551 & -0.0176138180129893 & -0.0176138180129893 & 0 & 0.0439197795716145 & 0.0970728850045045 & -0.0470874352690593 & -0.0470874352690593 & 0 & 0.0627142425773667 & 0.00156519898765717 & -0.0371857706703134 & -0.0371857706703134 & 0 & 0.00295818018640848 & 0.0164075545156428 & 0.0838362986545011\\\\0.0789060788896837 & -0.0596577603248166 & -0.0596577603248166 & -0.0439197795716145 & -0.0439197795716145 & 0.105004449998775 & -0.0509348232727507 & -0.0509348232727507 & -0.0627142425773667 & -0.0627142425773667 & 0.00314747287336151 & -0.0747772042933938 & -0.0747772042933938 & -0.00295818018640848 & -0.00295818018640848 & 0.0591442236809263 & 0.0882742886658776\\\\-0.0169752186265527 & 0.0775757516742295 & 0 & 0.039440148444235 & 0 & -0.000939560032383828 & 0.0076257453874373 & 0 & 0.020344547585359 & 0 & -0.0427389872332172 & 0.0334174424864332 & 0 & 0.0985637223344507 & 0 & -0.0419645145449606 & -0.0722755748783033\\\\-0.0089796446357851 & 0.0410364483494113 & 0 & 0 & 0.039440148444235 & -0.0135164776588551 & 0.109703705573659 & 0 & 0 & 0.020344547585359 & -0.0498017859709099 & 0.0389398164566489 & 0 & 0 & 0.0985637223344507 & -0.0694254137803082 & -0.0584518855048008\\\\-0.0304139333725735 & 0.138989888416328 & 0 & -0.039440148444235 & -0.039440148444235 & -0.0146208727846396 & 0.118667301029068 & 0 & -0.020344547585359 & -0.020344547585359 & -0.100146864152412 & 0.0783044309110067 & 0 & -0.0985637223344507 & -0.0985637223344507 & -0.116125274148807 & -0.143594988870193\\\\-0.0498572854765882 & 0 & 0.0775757516742295 & 0.115838198227823 & 0 & -0.00321158701978472 & 0 & 0.0076257453874373 & 0.0695413626554091 & 0 & -0.0212473822245137 & 0 & 0.0334174424864332 & 0.049000250531984 & 0 & 0.0578496784769177 & -0.0302380992737403\\\\-0.0263737814477604 & 0 & 0.0410364483494113 & 0 & 0.115838198227823 & -0.0462017781793591 & 0 & 0.109703705573659 & 0 & 0.0695413626554091 & -0.0247586021683952 & 0 & 0.0389398164566489 & 0 & 0.049000250531984 & 0.0071231783259333 & 0.0528430441922924\\\\-0.0893276364788873 & 0 & 0.138989888416328 & -0.115838198227823 & -0.115838198227823 & -0.0499768015184043 & 0 & 0.118667301029068 & -0.0695413626554091 & -0.0695413626554091 & -0.0497872981786275 & 0 & 0.0783044309110067 & -0.049000250531984 & -0.049000250531984 & 0.0832948826259035 & 0.0172067496952544\\\\-0.0440406021709863 & -0.0775757516742295 & -0.0775757516742295 & 0.10232374176791 & 0 & -0.00674774932348385 & -0.0076257453874373 & -0.0076257453874373 & 0.146110841749397 & 0 & -0.00134322531304397 & -0.0334174424864332 & -0.0334174424864332 & 0.00309771698765417 & 0 & 0.0813629802381405 & 0.0116647910013066\\\\-0.0232968402788551 & -0.0410364483494113 & -0.0410364483494113 & 0 & 0.10232374176791 & -0.0970728850045045 & -0.109703705573659 & -0.109703705573659 & 0 & 0.146110841749397 & -0.00156519898765717 & -0.0389398164566489 & -0.0389398164566489 & 0 & 0.00309771698765417 & 0.0415555667110887 & 0.198650194013322\\\\-0.0789060788896837 & -0.138989888416328 & -0.138989888416328 & -0.10232374176791 & -0.10232374176791 & -0.105004449998775 & -0.118667301029068 & -0.118667301029068 & -0.146110841749397 & -0.146110841749397 & -0.00314747287336151 & -0.0783044309110067 & -0.0783044309110067 & -0.00309771698765417 & -0.00309771698765417 & 0.144488689951011 & 0.212355543479781\\end{array}\\right]$"
      ],
      "text/plain": [
       "Matrix([\n",
       "[ 0.0169752186265527,  0.0332973545998976,                   0,  0.0169286481906762,                   0,  0.000939560032383828,  0.0032731509882151,                   0,  0.00873236289051941,                    0,   0.0427389872332172,  0.0319121522843417,                   0,    0.094123915022088,                    0,   -0.057034356356342, -0.0700445831660872],\n",
       "[ 0.0089796446357851,  0.0176138180129893,                   0,                   0,  0.0169286481906762,    0.0135164776588551,  0.0470874352690593,                   0,                    0,  0.00873236289051941,   0.0498017859709099,  0.0371857706703134,                   0,                    0,    0.094123915022088,   -0.075269808642439,  -0.070559709747929],\n",
       "[ 0.0304139333725735,  0.0596577603248166,                   0, -0.0169286481906762, -0.0169286481906762,    0.0146208727846396,  0.0509348232727507,                   0, -0.00873236289051941, -0.00873236289051941,    0.100146864152412,  0.0747772042933938,                   0,   -0.094123915022088,   -0.094123915022088,   -0.141281314950246,  -0.153071968757598],\n",
       "[ 0.0498572854765882,                   0,  0.0332973545998976,  0.0497205051754127,                   0,   0.00321158701978472,                   0,  0.0032731509882151,   0.0298488040621391,                    0,   0.0212473822245137,                   0,  0.0319121522843417,   0.0467930320395523,                    0,  0.00543085242626486,  -0.032378513366255],\n",
       "[ 0.0263737814477604,                   0,  0.0176138180129893,                   0,  0.0497205051754127,    0.0462017781793591,                   0,  0.0470874352690593,                    0,   0.0298488040621391,   0.0247586021683952,                   0,  0.0371857706703134,                    0,   0.0467930320395523,  -0.0195480325298742, 7.60194858233018e-5],\n",
       "[ 0.0893276364788873,                   0,  0.0596577603248166, -0.0497205051754127, -0.0497205051754127,    0.0499768015184043,                   0,  0.0509348232727507,  -0.0298488040621391,  -0.0298488040621391,   0.0497872981786275,                   0,  0.0747772042933938,  -0.0467930320395523,  -0.0467930320395523, -0.00970540332842726, -0.0380719991982036],\n",
       "[ 0.0440406021709863, -0.0332973545998976, -0.0332973545998976,  0.0439197795716145,                   0,   0.00674774932348385, -0.0032731509882151, -0.0032731509882151,   0.0627142425773667,                    0,  0.00134322531304397, -0.0319121522843417, -0.0319121522843417,  0.00295818018640848,                    0,   0.0336965113295745, 0.00378039357495171],\n",
       "[ 0.0232968402788551, -0.0176138180129893, -0.0176138180129893,                   0,  0.0439197795716145,    0.0970728850045045, -0.0470874352690593, -0.0470874352690593,                    0,   0.0627142425773667,  0.00156519898765717, -0.0371857706703134, -0.0371857706703134,                    0,  0.00295818018640848,   0.0164075545156428,  0.0838362986545011],\n",
       "[ 0.0789060788896837, -0.0596577603248166, -0.0596577603248166, -0.0439197795716145, -0.0439197795716145,     0.105004449998775, -0.0509348232727507, -0.0509348232727507,  -0.0627142425773667,  -0.0627142425773667,  0.00314747287336151, -0.0747772042933938, -0.0747772042933938, -0.00295818018640848, -0.00295818018640848,   0.0591442236809263,  0.0882742886658776],\n",
       "[-0.0169752186265527,  0.0775757516742295,                   0,   0.039440148444235,                   0, -0.000939560032383828,  0.0076257453874373,                   0,    0.020344547585359,                    0,  -0.0427389872332172,  0.0334174424864332,                   0,   0.0985637223344507,                    0,  -0.0419645145449606, -0.0722755748783033],\n",
       "[-0.0089796446357851,  0.0410364483494113,                   0,                   0,   0.039440148444235,   -0.0135164776588551,   0.109703705573659,                   0,                    0,    0.020344547585359,  -0.0498017859709099,  0.0389398164566489,                   0,                    0,   0.0985637223344507,  -0.0694254137803082, -0.0584518855048008],\n",
       "[-0.0304139333725735,   0.138989888416328,                   0,  -0.039440148444235,  -0.039440148444235,   -0.0146208727846396,   0.118667301029068,                   0,   -0.020344547585359,   -0.020344547585359,   -0.100146864152412,  0.0783044309110067,                   0,  -0.0985637223344507,  -0.0985637223344507,   -0.116125274148807,  -0.143594988870193],\n",
       "[-0.0498572854765882,                   0,  0.0775757516742295,   0.115838198227823,                   0,  -0.00321158701978472,                   0,  0.0076257453874373,   0.0695413626554091,                    0,  -0.0212473822245137,                   0,  0.0334174424864332,    0.049000250531984,                    0,   0.0578496784769177, -0.0302380992737403],\n",
       "[-0.0263737814477604,                   0,  0.0410364483494113,                   0,   0.115838198227823,   -0.0462017781793591,                   0,   0.109703705573659,                    0,   0.0695413626554091,  -0.0247586021683952,                   0,  0.0389398164566489,                    0,    0.049000250531984,   0.0071231783259333,  0.0528430441922924],\n",
       "[-0.0893276364788873,                   0,   0.138989888416328,  -0.115838198227823,  -0.115838198227823,   -0.0499768015184043,                   0,   0.118667301029068,  -0.0695413626554091,  -0.0695413626554091,  -0.0497872981786275,                   0,  0.0783044309110067,   -0.049000250531984,   -0.049000250531984,   0.0832948826259035,  0.0172067496952544],\n",
       "[-0.0440406021709863, -0.0775757516742295, -0.0775757516742295,    0.10232374176791,                   0,  -0.00674774932348385, -0.0076257453874373, -0.0076257453874373,    0.146110841749397,                    0, -0.00134322531304397, -0.0334174424864332, -0.0334174424864332,  0.00309771698765417,                    0,   0.0813629802381405,  0.0116647910013066],\n",
       "[-0.0232968402788551, -0.0410364483494113, -0.0410364483494113,                   0,    0.10232374176791,   -0.0970728850045045,  -0.109703705573659,  -0.109703705573659,                    0,    0.146110841749397, -0.00156519898765717, -0.0389398164566489, -0.0389398164566489,                    0,  0.00309771698765417,   0.0415555667110887,   0.198650194013322],\n",
       "[-0.0789060788896837,  -0.138989888416328,  -0.138989888416328,   -0.10232374176791,   -0.10232374176791,    -0.105004449998775,  -0.118667301029068,  -0.118667301029068,   -0.146110841749397,   -0.146110841749397, -0.00314747287336151, -0.0783044309110067, -0.0783044309110067, -0.00309771698765417, -0.00309771698765417,    0.144488689951011,   0.212355543479781]])"
      ]
     },
     "execution_count": 76,
     "metadata": {},
     "output_type": "execute_result"
    }
   ],
   "source": [
    "M"
   ]
  },
  {
   "cell_type": "code",
   "execution_count": 44,
   "id": "exact-berry",
   "metadata": {},
   "outputs": [
    {
     "data": {
      "text/latex": [
       "$\\displaystyle \\left[\\begin{matrix}a_{11} a_{21} a_{31} \\pi_{1} + b_{11} b_{21} b_{31} \\pi_{2} + c_{11} c_{21} c_{31} \\left(- \\pi_{1} - \\pi_{2} + 1\\right)\\\\a_{11} a_{21} a_{32} \\pi_{1} + b_{11} b_{21} b_{32} \\pi_{2} + c_{11} c_{21} c_{32} \\left(- \\pi_{1} - \\pi_{2} + 1\\right)\\\\a_{11} a_{21} \\pi_{1} \\left(- a_{31} - a_{32} + 1\\right) + b_{11} b_{21} \\pi_{2} \\left(- b_{31} - b_{32} + 1\\right) + c_{11} c_{21} \\left(- c_{31} - c_{32} + 1\\right) \\left(- \\pi_{1} - \\pi_{2} + 1\\right)\\\\a_{11} a_{22} a_{31} \\pi_{1} + b_{11} b_{22} b_{31} \\pi_{2} + c_{11} c_{22} c_{31} \\left(- \\pi_{1} - \\pi_{2} + 1\\right)\\\\a_{11} a_{22} a_{32} \\pi_{1} + b_{11} b_{22} b_{32} \\pi_{2} + c_{11} c_{22} c_{32} \\left(- \\pi_{1} - \\pi_{2} + 1\\right)\\\\a_{11} a_{22} \\pi_{1} \\left(- a_{31} - a_{32} + 1\\right) + b_{11} b_{22} \\pi_{2} \\left(- b_{31} - b_{32} + 1\\right) + c_{11} c_{22} \\left(- c_{31} - c_{32} + 1\\right) \\left(- \\pi_{1} - \\pi_{2} + 1\\right)\\\\a_{11} a_{31} \\pi_{1} \\left(- a_{21} - a_{22} + 1\\right) + b_{11} b_{31} \\pi_{2} \\left(- b_{21} - b_{22} + 1\\right) + c_{11} c_{31} \\left(- c_{21} - c_{22} + 1\\right) \\left(- \\pi_{1} - \\pi_{2} + 1\\right)\\\\a_{11} a_{32} \\pi_{1} \\left(- a_{21} - a_{22} + 1\\right) + b_{11} b_{32} \\pi_{2} \\left(- b_{21} - b_{22} + 1\\right) + c_{11} c_{32} \\left(- c_{21} - c_{22} + 1\\right) \\left(- \\pi_{1} - \\pi_{2} + 1\\right)\\\\a_{11} \\pi_{1} \\left(- a_{21} - a_{22} + 1\\right) \\left(- a_{31} - a_{32} + 1\\right) + b_{11} \\pi_{2} \\left(- b_{21} - b_{22} + 1\\right) \\left(- b_{31} - b_{32} + 1\\right) + c_{11} \\left(- c_{21} - c_{22} + 1\\right) \\left(- c_{31} - c_{32} + 1\\right) \\left(- \\pi_{1} - \\pi_{2} + 1\\right)\\\\a_{21} a_{31} \\pi_{1} \\left(1 - a_{11}\\right) + b_{21} b_{31} \\pi_{2} \\left(1 - b_{11}\\right) + c_{21} c_{31} \\left(1 - c_{11}\\right) \\left(- \\pi_{1} - \\pi_{2} + 1\\right)\\\\a_{21} a_{32} \\pi_{1} \\left(1 - a_{11}\\right) + b_{21} b_{32} \\pi_{2} \\left(1 - b_{11}\\right) + c_{21} c_{32} \\left(1 - c_{11}\\right) \\left(- \\pi_{1} - \\pi_{2} + 1\\right)\\\\a_{21} \\pi_{1} \\left(1 - a_{11}\\right) \\left(- a_{31} - a_{32} + 1\\right) + b_{21} \\pi_{2} \\left(1 - b_{11}\\right) \\left(- b_{31} - b_{32} + 1\\right) + c_{21} \\left(1 - c_{11}\\right) \\left(- c_{31} - c_{32} + 1\\right) \\left(- \\pi_{1} - \\pi_{2} + 1\\right)\\\\a_{22} a_{31} \\pi_{1} \\left(1 - a_{11}\\right) + b_{22} b_{31} \\pi_{2} \\left(1 - b_{11}\\right) + c_{22} c_{31} \\left(1 - c_{11}\\right) \\left(- \\pi_{1} - \\pi_{2} + 1\\right)\\\\a_{22} a_{32} \\pi_{1} \\left(1 - a_{11}\\right) + b_{22} b_{32} \\pi_{2} \\left(1 - b_{11}\\right) + c_{22} c_{32} \\left(1 - c_{11}\\right) \\left(- \\pi_{1} - \\pi_{2} + 1\\right)\\\\a_{22} \\pi_{1} \\left(1 - a_{11}\\right) \\left(- a_{31} - a_{32} + 1\\right) + b_{22} \\pi_{2} \\left(1 - b_{11}\\right) \\left(- b_{31} - b_{32} + 1\\right) + c_{22} \\left(1 - c_{11}\\right) \\left(- c_{31} - c_{32} + 1\\right) \\left(- \\pi_{1} - \\pi_{2} + 1\\right)\\\\a_{31} \\pi_{1} \\left(1 - a_{11}\\right) \\left(- a_{21} - a_{22} + 1\\right) + b_{31} \\pi_{2} \\left(1 - b_{11}\\right) \\left(- b_{21} - b_{22} + 1\\right) + c_{31} \\left(1 - c_{11}\\right) \\left(- c_{21} - c_{22} + 1\\right) \\left(- \\pi_{1} - \\pi_{2} + 1\\right)\\\\a_{32} \\pi_{1} \\left(1 - a_{11}\\right) \\left(- a_{21} - a_{22} + 1\\right) + b_{32} \\pi_{2} \\left(1 - b_{11}\\right) \\left(- b_{21} - b_{22} + 1\\right) + c_{32} \\left(1 - c_{11}\\right) \\left(- c_{21} - c_{22} + 1\\right) \\left(- \\pi_{1} - \\pi_{2} + 1\\right)\\\\\\pi_{1} \\left(1 - a_{11}\\right) \\left(- a_{21} - a_{22} + 1\\right) \\left(- a_{31} - a_{32} + 1\\right) + \\pi_{2} \\left(1 - b_{11}\\right) \\left(- b_{21} - b_{22} + 1\\right) \\left(- b_{31} - b_{32} + 1\\right) + \\left(1 - c_{11}\\right) \\left(- c_{21} - c_{22} + 1\\right) \\left(- c_{31} - c_{32} + 1\\right) \\left(- \\pi_{1} - \\pi_{2} + 1\\right)\\end{matrix}\\right]$"
      ],
      "text/plain": [
       "Matrix([\n",
       "[                                                                                                a11*a21*a31*pi_1 + b11*b21*b31*pi_2 + c11*c21*c31*(-pi_1 - pi_2 + 1)],\n",
       "[                                                                                                a11*a21*a32*pi_1 + b11*b21*b32*pi_2 + c11*c21*c32*(-pi_1 - pi_2 + 1)],\n",
       "[                                                         a11*a21*pi_1*(-a31 - a32 + 1) + b11*b21*pi_2*(-b31 - b32 + 1) + c11*c21*(-c31 - c32 + 1)*(-pi_1 - pi_2 + 1)],\n",
       "[                                                                                                a11*a22*a31*pi_1 + b11*b22*b31*pi_2 + c11*c22*c31*(-pi_1 - pi_2 + 1)],\n",
       "[                                                                                                a11*a22*a32*pi_1 + b11*b22*b32*pi_2 + c11*c22*c32*(-pi_1 - pi_2 + 1)],\n",
       "[                                                         a11*a22*pi_1*(-a31 - a32 + 1) + b11*b22*pi_2*(-b31 - b32 + 1) + c11*c22*(-c31 - c32 + 1)*(-pi_1 - pi_2 + 1)],\n",
       "[                                                         a11*a31*pi_1*(-a21 - a22 + 1) + b11*b31*pi_2*(-b21 - b22 + 1) + c11*c31*(-c21 - c22 + 1)*(-pi_1 - pi_2 + 1)],\n",
       "[                                                         a11*a32*pi_1*(-a21 - a22 + 1) + b11*b32*pi_2*(-b21 - b22 + 1) + c11*c32*(-c21 - c22 + 1)*(-pi_1 - pi_2 + 1)],\n",
       "[                  a11*pi_1*(-a21 - a22 + 1)*(-a31 - a32 + 1) + b11*pi_2*(-b21 - b22 + 1)*(-b31 - b32 + 1) + c11*(-c21 - c22 + 1)*(-c31 - c32 + 1)*(-pi_1 - pi_2 + 1)],\n",
       "[                                                                              a21*a31*pi_1*(1 - a11) + b21*b31*pi_2*(1 - b11) + c21*c31*(1 - c11)*(-pi_1 - pi_2 + 1)],\n",
       "[                                                                              a21*a32*pi_1*(1 - a11) + b21*b32*pi_2*(1 - b11) + c21*c32*(1 - c11)*(-pi_1 - pi_2 + 1)],\n",
       "[                                       a21*pi_1*(1 - a11)*(-a31 - a32 + 1) + b21*pi_2*(1 - b11)*(-b31 - b32 + 1) + c21*(1 - c11)*(-c31 - c32 + 1)*(-pi_1 - pi_2 + 1)],\n",
       "[                                                                              a22*a31*pi_1*(1 - a11) + b22*b31*pi_2*(1 - b11) + c22*c31*(1 - c11)*(-pi_1 - pi_2 + 1)],\n",
       "[                                                                              a22*a32*pi_1*(1 - a11) + b22*b32*pi_2*(1 - b11) + c22*c32*(1 - c11)*(-pi_1 - pi_2 + 1)],\n",
       "[                                       a22*pi_1*(1 - a11)*(-a31 - a32 + 1) + b22*pi_2*(1 - b11)*(-b31 - b32 + 1) + c22*(1 - c11)*(-c31 - c32 + 1)*(-pi_1 - pi_2 + 1)],\n",
       "[                                       a31*pi_1*(1 - a11)*(-a21 - a22 + 1) + b31*pi_2*(1 - b11)*(-b21 - b22 + 1) + c31*(1 - c11)*(-c21 - c22 + 1)*(-pi_1 - pi_2 + 1)],\n",
       "[                                       a32*pi_1*(1 - a11)*(-a21 - a22 + 1) + b32*pi_2*(1 - b11)*(-b21 - b22 + 1) + c32*(1 - c11)*(-c21 - c22 + 1)*(-pi_1 - pi_2 + 1)],\n",
       "[pi_1*(1 - a11)*(-a21 - a22 + 1)*(-a31 - a32 + 1) + pi_2*(1 - b11)*(-b21 - b22 + 1)*(-b31 - b32 + 1) + (1 - c11)*(-c21 - c22 + 1)*(-c31 - c32 + 1)*(-pi_1 - pi_2 + 1)]])"
      ]
     },
     "execution_count": 44,
     "metadata": {},
     "output_type": "execute_result"
    }
   ],
   "source": [
    "f"
   ]
  },
  {
   "cell_type": "code",
   "execution_count": 12,
   "id": "crucial-refrigerator",
   "metadata": {},
   "outputs": [
    {
     "data": {
      "text/plain": [
       "[0.1, 0.2, 0.3, 0.4]"
      ]
     },
     "execution_count": 12,
     "metadata": {},
     "output_type": "execute_result"
    }
   ],
   "source": [
    "result"
   ]
  },
  {
   "cell_type": "code",
   "execution_count": null,
   "id": "welcome-hawaii",
   "metadata": {},
   "outputs": [],
   "source": []
  }
 ],
 "metadata": {
  "kernelspec": {
   "display_name": "Python 3 (ipykernel)",
   "language": "python",
   "name": "python3"
  },
  "language_info": {
   "codemirror_mode": {
    "name": "ipython",
    "version": 3
   },
   "file_extension": ".py",
   "mimetype": "text/x-python",
   "name": "python",
   "nbconvert_exporter": "python",
   "pygments_lexer": "ipython3",
   "version": "3.9.5"
  }
 },
 "nbformat": 4,
 "nbformat_minor": 5
}
