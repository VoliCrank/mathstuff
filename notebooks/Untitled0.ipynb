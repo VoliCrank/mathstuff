{
 "cells": [
  {
   "cell_type": "code",
   "execution_count": 7,
   "metadata": {
    "id": "GjiDD5mDoQMV"
   },
   "outputs": [],
   "source": [
    "from sympy.tensor.array import tensorproduct, Array\n",
    "from sympy import *\n",
    "from random import randint\n",
    "import numpy as np\n",
    "import tensorly as tl\n",
    "a11, a12, a21, a22,a23, a31, a32,a33, b11, b12, b21, b22,b23, b31, b32,b33= symbols('a11 a12 a21 a22 a23 a31 a32 a33 b11 b12 b21 b22 b23 b31 b32 b33')\n",
    "c11, c12, c21, c22, c23, c31, c32, c33, pi_1, pi_2, pi_3= symbols('c11 c12 c21 c22 c23 c31 c32 c33 pi_1 pi_2 pi_3')\n",
    "a13, b13, c13 = symbols('a13 b13 c13')\n",
    "p_000, p_001, p_100, p_101, p_200, p_201, p_010, p_011, p_020, p_021, p_110, p_111, p_210, p_211, p_120, p_121, p_220, p_221 = symbols('p_000 p_001 p_100 p_101 p_200 p_201 p_010 p_011 p_020 p_021 p_110 p_111 p_210 p_211 p_120 p_121 p_220 p_221')\n",
    "p_002, p_012, p_022, p_102, p_112, p_122, p_202, p_212, p_222 = symbols('p_002 p_012 p_022 p_102 p_112 p_122 p_202 p_212 p_222')\n",
    "x_1, x_2, x_3 = symbols('x_1 x_2 x_3')"
   ]
  },
  {
   "cell_type": "code",
   "execution_count": 8,
   "metadata": {
    "id": "EGFm6_dK0hNo"
   },
   "outputs": [],
   "source": [
    "from tensorly.decomposition import parafac\n",
    "from tensorly.decomposition import non_negative_parafac_hals\n",
    "from tensorly.decomposition import non_negative_parafac\n",
    "\n",
    "def check_rank(tensor, rank, non_neg=True, n=10, tol=0.001, p=False):\n",
    "    if non_neg:\n",
    "        for k in range(n):\n",
    "            weights, factors = non_negative_parafac_hals(tensor, n_iter_max=1000000, rank=rank, init='random')\n",
    "            full = tl.cp_to_tensor((weights, factors))\n",
    "            diff = (full - tensor) / tensor\n",
    "            if p:\n",
    "                # print('doing', k)\n",
    "                # print(full)\n",
    "                print(tl.max(abs(diff)))\n",
    "                print(factors)\n",
    "            if tl.max(abs(diff)) < tol:\n",
    "                return True\n",
    "    else:\n",
    "        for k in range(n):\n",
    "            weights, factors = parafac(tensor, n_iter_max=1000000, rank=rank)\n",
    "            full = tl.cp_to_tensor((weights, factors))\n",
    "            diff = (full - tensor) / tensor\n",
    "            if p:\n",
    "                print(tl.max(abs(diff)))\n",
    "                print(factors)\n",
    "            if tl.max(abs(diff)) < tol:\n",
    "                return True\n",
    "    return False"
   ]
  },
  {
   "cell_type": "code",
   "execution_count": 9,
   "metadata": {
    "id": "4XZKL96ZwMDs"
   },
   "outputs": [],
   "source": [
    "def find_det(A):\n",
    "    upper = A[0:2,0:2]\n",
    "    lower = Matrix([A[2,0], A[2,1]]).transpose()\n",
    "    B = Matrix([lower,lower * upper])\n",
    "    return det(B)"
   ]
  },
  {
   "cell_type": "code",
   "execution_count": 10,
   "metadata": {
    "id": "8XAMByXIoW1Z"
   },
   "outputs": [],
   "source": [
    "high = 80\n",
    "def low_tensor_spec():\n",
    "    a = np.random.randint(1, high/2, size=2) * 0.1\n",
    "    b = np.random.randint(1, high, size=3)  * 1.0\n",
    "    c = np.random.randint(1, high, size=3) * 1.0\n",
    "    #c[1] = -c[1]\n",
    "    #c[0] = -c[0]\n",
    "    a[1] = -3.1\n",
    "    a[0] = -4.2\n",
    "    #print(a,b,c)\n",
    "    tens = tl.tensor(np.kron(np.kron(a, b), c).reshape(2, 3, 3)) * 1.0\n",
    "    return (tens,a,b,c)\n",
    "\n",
    "def low_tensor_spec1():\n",
    "    a = np.random.randint(1, high/2, size=2) * 0.1\n",
    "    b = np.random.randint(1, high, size=3)  * 1.0\n",
    "    c = np.random.randint(1, high, size=3) *1.0\n",
    "    a[0] = 0\n",
    "    #a[1] = -a[1]\n",
    "    #a[1] = 32\n",
    "    #a[1] = 0\n",
    "    #a[0] = 0\n",
    "    #c[1] = -c[1]\n",
    "    #c[0] = 0\n",
    "    #print(a,b,c)\n",
    "    tens = tl.tensor(np.kron(np.kron(a, b), c).reshape(2, 3, 3)) * 1.0\n",
    "    return (tens,a,b,c)\n",
    "\n",
    "def low_tensor():\n",
    "    a = np.random.randint(1, high, size=2) * 1.0\n",
    "    b = np.random.randint(1, high, size=3) * 1.0\n",
    "    c = np.random.randint(1, high, size=3) * 1.0\n",
    "    #a= a/sum(a)\n",
    "    #b = b/sum(b)\n",
    "    #c= c/sum(c)\n",
    "    tens = tl.tensor(np.kron(np.kron(a, b), c).reshape(2, 3, 3)) * 1.0\n",
    "    #print(a,b,c)\n",
    "    return (tens,a,b,c)\n"
   ]
  },
  {
   "cell_type": "code",
   "execution_count": 11,
   "metadata": {
    "colab": {
     "base_uri": "https://localhost:8080/"
    },
    "id": "FFf05YCuoco_",
    "outputId": "94b74dd8-e438-4639-b4c3-2f56f4797048"
   },
   "outputs": [
    {
     "ename": "ValueError",
     "evalue": "The truth value of an array with more than one element is ambiguous. Use a.any() or a.all()",
     "output_type": "error",
     "traceback": [
      "\u001b[0;31m---------------------------------------------------------------------------\u001b[0m",
      "\u001b[0;31mValueError\u001b[0m                                Traceback (most recent call last)",
      "\u001b[0;32m<ipython-input-11-737d436f745d>\u001b[0m in \u001b[0;36m<module>\u001b[0;34m\u001b[0m\n\u001b[1;32m     17\u001b[0m \u001b[0mtens\u001b[0m\u001b[0;34m[\u001b[0m\u001b[0;36m0\u001b[0m\u001b[0;34m]\u001b[0m \u001b[0;34m=\u001b[0m \u001b[0mt01\u001b[0m\u001b[0;34m\u001b[0m\u001b[0;34m\u001b[0m\u001b[0m\n\u001b[1;32m     18\u001b[0m \u001b[0mtens\u001b[0m\u001b[0;34m[\u001b[0m\u001b[0;36m1\u001b[0m\u001b[0;34m]\u001b[0m \u001b[0;34m=\u001b[0m \u001b[0mt02\u001b[0m\u001b[0;34m\u001b[0m\u001b[0;34m\u001b[0m\u001b[0m\n\u001b[0;32m---> 19\u001b[0;31m \u001b[0mt11\u001b[0m \u001b[0;34m=\u001b[0m \u001b[0mMatrix\u001b[0m\u001b[0;34m(\u001b[0m\u001b[0;34m[\u001b[0m\u001b[0mtens\u001b[0m\u001b[0;34m[\u001b[0m\u001b[0;36m0\u001b[0m\u001b[0;34m]\u001b[0m\u001b[0;34m[\u001b[0m\u001b[0;36m0\u001b[0m\u001b[0;34m]\u001b[0m\u001b[0;34m,\u001b[0m\u001b[0mtens\u001b[0m\u001b[0;34m[\u001b[0m\u001b[0;36m0\u001b[0m\u001b[0;34m]\u001b[0m\u001b[0;34m[\u001b[0m\u001b[0;36m2\u001b[0m\u001b[0;34m]\u001b[0m\u001b[0;34m,\u001b[0m\u001b[0mtens\u001b[0m\u001b[0;34m[\u001b[0m\u001b[0;36m0\u001b[0m\u001b[0;34m]\u001b[0m\u001b[0;34m[\u001b[0m\u001b[0;36m1\u001b[0m\u001b[0;34m]\u001b[0m\u001b[0;34m]\u001b[0m\u001b[0;34m)\u001b[0m\u001b[0;34m\u001b[0m\u001b[0;34m\u001b[0m\u001b[0m\n\u001b[0m\u001b[1;32m     20\u001b[0m \u001b[0mt12\u001b[0m \u001b[0;34m=\u001b[0m \u001b[0mMatrix\u001b[0m\u001b[0;34m(\u001b[0m\u001b[0;34m[\u001b[0m\u001b[0mtens\u001b[0m\u001b[0;34m[\u001b[0m\u001b[0;36m1\u001b[0m\u001b[0;34m]\u001b[0m\u001b[0;34m[\u001b[0m\u001b[0;36m0\u001b[0m\u001b[0;34m]\u001b[0m\u001b[0;34m,\u001b[0m\u001b[0mtens\u001b[0m\u001b[0;34m[\u001b[0m\u001b[0;36m1\u001b[0m\u001b[0;34m]\u001b[0m\u001b[0;34m[\u001b[0m\u001b[0;36m2\u001b[0m\u001b[0;34m]\u001b[0m\u001b[0;34m,\u001b[0m\u001b[0mtens\u001b[0m\u001b[0;34m[\u001b[0m\u001b[0;36m1\u001b[0m\u001b[0;34m]\u001b[0m\u001b[0;34m[\u001b[0m\u001b[0;36m1\u001b[0m\u001b[0;34m]\u001b[0m\u001b[0;34m]\u001b[0m\u001b[0;34m)\u001b[0m\u001b[0;34m\u001b[0m\u001b[0;34m\u001b[0m\u001b[0m\n\u001b[1;32m     21\u001b[0m \u001b[0;34m\u001b[0m\u001b[0m\n",
      "\u001b[0;32m/Library/Frameworks/Python.framework/Versions/3.9/lib/python3.9/site-packages/sympy/matrices/dense.py\u001b[0m in \u001b[0;36m__new__\u001b[0;34m(cls, *args, **kwargs)\u001b[0m\n\u001b[1;32m    428\u001b[0m \u001b[0;32mclass\u001b[0m \u001b[0mMutableDenseMatrix\u001b[0m\u001b[0;34m(\u001b[0m\u001b[0mDenseMatrix\u001b[0m\u001b[0;34m,\u001b[0m \u001b[0mMatrixBase\u001b[0m\u001b[0;34m)\u001b[0m\u001b[0;34m:\u001b[0m\u001b[0;34m\u001b[0m\u001b[0;34m\u001b[0m\u001b[0m\n\u001b[1;32m    429\u001b[0m     \u001b[0;32mdef\u001b[0m \u001b[0m__new__\u001b[0m\u001b[0;34m(\u001b[0m\u001b[0mcls\u001b[0m\u001b[0;34m,\u001b[0m \u001b[0;34m*\u001b[0m\u001b[0margs\u001b[0m\u001b[0;34m,\u001b[0m \u001b[0;34m**\u001b[0m\u001b[0mkwargs\u001b[0m\u001b[0;34m)\u001b[0m\u001b[0;34m:\u001b[0m\u001b[0;34m\u001b[0m\u001b[0;34m\u001b[0m\u001b[0m\n\u001b[0;32m--> 430\u001b[0;31m         \u001b[0;32mreturn\u001b[0m \u001b[0mcls\u001b[0m\u001b[0;34m.\u001b[0m\u001b[0m_new\u001b[0m\u001b[0;34m(\u001b[0m\u001b[0;34m*\u001b[0m\u001b[0margs\u001b[0m\u001b[0;34m,\u001b[0m \u001b[0;34m**\u001b[0m\u001b[0mkwargs\u001b[0m\u001b[0;34m)\u001b[0m\u001b[0;34m\u001b[0m\u001b[0;34m\u001b[0m\u001b[0m\n\u001b[0m\u001b[1;32m    431\u001b[0m \u001b[0;34m\u001b[0m\u001b[0m\n\u001b[1;32m    432\u001b[0m     \u001b[0;34m@\u001b[0m\u001b[0mclassmethod\u001b[0m\u001b[0;34m\u001b[0m\u001b[0;34m\u001b[0m\u001b[0m\n",
      "\u001b[0;32m/Library/Frameworks/Python.framework/Versions/3.9/lib/python3.9/site-packages/sympy/matrices/dense.py\u001b[0m in \u001b[0;36m_new\u001b[0;34m(cls, *args, **kwargs)\u001b[0m\n\u001b[1;32m    440\u001b[0m             \u001b[0mrows\u001b[0m\u001b[0;34m,\u001b[0m \u001b[0mcols\u001b[0m\u001b[0;34m,\u001b[0m \u001b[0mflat_list\u001b[0m \u001b[0;34m=\u001b[0m \u001b[0margs\u001b[0m\u001b[0;34m\u001b[0m\u001b[0;34m\u001b[0m\u001b[0m\n\u001b[1;32m    441\u001b[0m         \u001b[0;32melse\u001b[0m\u001b[0;34m:\u001b[0m\u001b[0;34m\u001b[0m\u001b[0;34m\u001b[0m\u001b[0m\n\u001b[0;32m--> 442\u001b[0;31m             \u001b[0mrows\u001b[0m\u001b[0;34m,\u001b[0m \u001b[0mcols\u001b[0m\u001b[0;34m,\u001b[0m \u001b[0mflat_list\u001b[0m \u001b[0;34m=\u001b[0m \u001b[0mcls\u001b[0m\u001b[0;34m.\u001b[0m\u001b[0m_handle_creation_inputs\u001b[0m\u001b[0;34m(\u001b[0m\u001b[0;34m*\u001b[0m\u001b[0margs\u001b[0m\u001b[0;34m,\u001b[0m \u001b[0;34m**\u001b[0m\u001b[0mkwargs\u001b[0m\u001b[0;34m)\u001b[0m\u001b[0;34m\u001b[0m\u001b[0;34m\u001b[0m\u001b[0m\n\u001b[0m\u001b[1;32m    443\u001b[0m             \u001b[0mflat_list\u001b[0m \u001b[0;34m=\u001b[0m \u001b[0mlist\u001b[0m\u001b[0;34m(\u001b[0m\u001b[0mflat_list\u001b[0m\u001b[0;34m)\u001b[0m \u001b[0;31m# create a shallow copy\u001b[0m\u001b[0;34m\u001b[0m\u001b[0;34m\u001b[0m\u001b[0m\n\u001b[1;32m    444\u001b[0m         \u001b[0mself\u001b[0m \u001b[0;34m=\u001b[0m \u001b[0mobject\u001b[0m\u001b[0;34m.\u001b[0m\u001b[0m__new__\u001b[0m\u001b[0;34m(\u001b[0m\u001b[0mcls\u001b[0m\u001b[0;34m)\u001b[0m\u001b[0;34m\u001b[0m\u001b[0;34m\u001b[0m\u001b[0m\n",
      "\u001b[0;32m/Library/Frameworks/Python.framework/Versions/3.9/lib/python3.9/site-packages/sympy/matrices/matrices.py\u001b[0m in \u001b[0;36m_handle_creation_inputs\u001b[0;34m(cls, *args, **kwargs)\u001b[0m\n\u001b[1;32m   2621\u001b[0m                                 \u001b[0;32mnot\u001b[0m \u001b[0mgetattr\u001b[0m\u001b[0;34m(\u001b[0m\u001b[0mrow\u001b[0m\u001b[0;34m,\u001b[0m \u001b[0;34m'is_Matrix'\u001b[0m\u001b[0;34m,\u001b[0m \u001b[0;32mFalse\u001b[0m\u001b[0;34m)\u001b[0m\u001b[0;34m:\u001b[0m\u001b[0;34m\u001b[0m\u001b[0;34m\u001b[0m\u001b[0m\n\u001b[1;32m   2622\u001b[0m                             \u001b[0;32mraise\u001b[0m \u001b[0mValueError\u001b[0m\u001b[0;34m(\u001b[0m\u001b[0;34m'expecting list of lists'\u001b[0m\u001b[0;34m)\u001b[0m\u001b[0;34m\u001b[0m\u001b[0;34m\u001b[0m\u001b[0m\n\u001b[0;32m-> 2623\u001b[0;31m                         \u001b[0;32mif\u001b[0m \u001b[0;32mnot\u001b[0m \u001b[0mrow\u001b[0m\u001b[0;34m:\u001b[0m\u001b[0;34m\u001b[0m\u001b[0;34m\u001b[0m\u001b[0m\n\u001b[0m\u001b[1;32m   2624\u001b[0m                             \u001b[0;32mcontinue\u001b[0m\u001b[0;34m\u001b[0m\u001b[0;34m\u001b[0m\u001b[0m\n\u001b[1;32m   2625\u001b[0m                         \u001b[0;32mif\u001b[0m \u001b[0mevaluate\u001b[0m \u001b[0;32mand\u001b[0m \u001b[0mall\u001b[0m\u001b[0;34m(\u001b[0m\u001b[0mismat\u001b[0m\u001b[0;34m(\u001b[0m\u001b[0mi\u001b[0m\u001b[0;34m)\u001b[0m \u001b[0;32mfor\u001b[0m \u001b[0mi\u001b[0m \u001b[0;32min\u001b[0m \u001b[0mrow\u001b[0m\u001b[0;34m)\u001b[0m\u001b[0;34m:\u001b[0m\u001b[0;34m\u001b[0m\u001b[0;34m\u001b[0m\u001b[0m\n",
      "\u001b[0;31mValueError\u001b[0m: The truth value of an array with more than one element is ambiguous. Use a.any() or a.all()"
     ]
    }
   ],
   "source": [
    "t1 = low_tensor()\n",
    "t2 = low_tensor()\n",
    "t3 = low_tensor()\n",
    "t4 = low_tensor()\n",
    "t5 = low_tensor()\n",
    "a1 = Matrix([Array(t1[2]), Array(t2[2]), Array(t3[2])]).transpose()\n",
    "a2 = Matrix([Array(t1[3]), Array(t2[3]), Array(t3[3])]).transpose()\n",
    "a3 = t1[1]\n",
    "b3 = t2[1]\n",
    "c3 = t3[1]\n",
    "tens = t1[0]*0.1 +t2[0]*0.5 + t3[0]\n",
    "#tens = np.random.randint(1,100000,size = (2,3,3))\n",
    "#tens\n",
    "t01 = Matrix(tens[0])\n",
    "t02 = Matrix(tens[1])\n",
    "\n",
    "tens[0] = t01\n",
    "tens[1] = t02\n",
    "t11 = Matrix([tens[0][0],tens[0][2],tens[0][1]])\n",
    "t12 = Matrix([tens[1][0],tens[1][2],tens[1][1]])\n",
    "\n",
    "t21 = Matrix([tens[0][2],tens[0][1],tens[0][0]])\n",
    "t22 = Matrix([tens[1][2],tens[1][1],tens[1][0]])\n",
    "\n",
    "cs = (a3[0] * b3[1] - a3[1] *b3[0])*(a3[0] * c3[1] - a3[1] * c3[0])*(b3[0] * c3[1] - c3[0] * b3[1])\n",
    "A1a = t01 * t02.adjugate()\n",
    "A2a = -t11 * t12.adjugate()\n",
    "A3a = -t21 * t22.adjugate()\n",
    "inver = abs(det(t02)) > 10 and abs(det(t01)) > 10\n",
    "if inver:\n",
    "    A1 = t01*t02.inv() #/(abs(det(t02))/det(t02))\n",
    "    A2 = t11*t12.inv() #/(abs(det(t12))/det(t12))\n",
    "    A3 = t21 * t22.inv() #/(abs(det(t22))/det(t22))\n",
    "    #print(find_det(A1),find_det(A2),find_det(A3))\n",
    "    \n",
    "print(find_det(A1a),find_det(A2a),find_det(A3a))\n",
    "print(det(t01), det(t02), t02.minor(2,2), t02.minor(1,1), t02.minor(0,0))\n",
    "#print(t11.eigenvects())\n",
    "#print(t12.eigenvects())\n",
    "prod1 = a1[2,0] * a1[2,1] * a1[2,2]\n",
    "prod2 = a1[1,0] * a1[1,1] * a1[1,2]\n",
    "prod3 = a1[0,0] * a1[0,1] * a1[0,2]\n",
    "r1 = cs * det(a1) * det(a2)**2 *prod1 #/ -det(t02)**2\n",
    "r2 = cs * -det(a1) * det(a2)**2 *prod2#/ -det(t02)**2\n",
    "r3 = cs * -det(a1) * det(a2)**2 *prod3# / -det(t02)**2\n",
    "t01 = Matrix(tens[0]).transpose()\n",
    "t02 = Matrix(tens[1]).transpose()\n",
    "tens[0] = t01\n",
    "tens[1] = t02\n",
    "t11 = Matrix([tens[0][0],tens[0][2],tens[0][1]])\n",
    "t12 = Matrix([tens[1][0],tens[1][2],tens[1][1]])\n",
    "t21 = Matrix([tens[0][2],tens[0][1],tens[0][0]])\n",
    "t22 = Matrix([tens[1][2],tens[1][1],tens[1][0]])\n",
    "if inver:\n",
    "    A11 = t01*t02.inv() #/(abs(det(t02))/det(t02))\n",
    "    A21 = t11*t12.inv() #/(abs(det(t12))/det(t12))\n",
    "    A31 = t21 * t22.inv() #/(abs(det(t22))/det(t22))\n",
    "    #print(find_det(A11),find_det(A21),find_det(A31))\n",
    "    \n",
    "A11a = t01 * t02.adjugate() #/(abs(det(t02))/det(t02))\n",
    "A21a = -t11 * t12.adjugate() #/(abs(det(t12))/det(t12))\n",
    "A31a = -t21 * t22.adjugate() #/(abs(det(t22))/det(t22))\n",
    "print(find_det(A11a),find_det(A21a),find_det(A31a))\n",
    "#print(r1,r2,r3)\n",
    "tens"
   ]
  },
  {
   "cell_type": "code",
   "execution_count": 17,
   "metadata": {},
   "outputs": [
    {
     "data": {
      "text/latex": [
       "$\\displaystyle \\left[\\begin{matrix}128150.0\\\\321543.0\\\\350434.0\\end{matrix}\\right]$"
      ],
      "text/plain": [
       "Matrix([\n",
       "[128150.0],\n",
       "[321543.0],\n",
       "[350434.0]])"
      ]
     },
     "execution_count": 17,
     "metadata": {},
     "output_type": "execute_result"
    }
   ],
   "source": [
    "Matrix(tens[0][0])"
   ]
  },
  {
   "cell_type": "code",
   "execution_count": 124,
   "metadata": {},
   "outputs": [
    {
     "data": {
      "text/plain": [
       "[(474488799523.053,\n",
       "  1,\n",
       "  [Matrix([\n",
       "   [0.293380711889363],\n",
       "   [0.497471641899339],\n",
       "   [0.816363720039828]])]),\n",
       " (-0.127400853230118,\n",
       "  1,\n",
       "  [Matrix([\n",
       "   [-0.563311175619855],\n",
       "   [ -0.61826836348582],\n",
       "   [-0.645746957419894]])]),\n",
       " (112708483171.012,\n",
       "  1,\n",
       "  [Matrix([\n",
       "   [-0.119446056612228],\n",
       "   [-0.371609953905703],\n",
       "   [-0.955568452901191]])])]"
      ]
     },
     "execution_count": 124,
     "metadata": {},
     "output_type": "execute_result"
    }
   ],
   "source": [
    "A1a.eigenvects()"
   ]
  },
  {
   "cell_type": "code",
   "execution_count": 125,
   "metadata": {},
   "outputs": [
    {
     "data": {
      "text/plain": [
       "[(0.0327829423219696,\n",
       "  1,\n",
       "  [Matrix([\n",
       "   [ 0.05362703388568],\n",
       "   [0.706089279495332],\n",
       "   [0.706089279495438]])]),\n",
       " (112708483171.272,\n",
       "  1,\n",
       "  [Matrix([\n",
       "   [-0.976477766031913],\n",
       "   [-0.390591106413513],\n",
       "   [-0.927653877731321]])]),\n",
       " (474488799522.625,\n",
       "  1,\n",
       "  [Matrix([\n",
       "   [-0.586209097577232],\n",
       "   [ -0.45724309611023],\n",
       "   [-0.914486192220423]])])]"
      ]
     },
     "execution_count": 125,
     "metadata": {},
     "output_type": "execute_result"
    }
   ],
   "source": [
    "M = A11a.eigenvects()\n",
    "M"
   ]
  },
  {
   "cell_type": "code",
   "execution_count": 111,
   "metadata": {
    "colab": {
     "base_uri": "https://localhost:8080/"
    },
    "id": "HTJ-1BJW6Rh1",
    "outputId": "3b988a2d-e766-4511-9ae5-9151cbd13a6b"
   },
   "outputs": [
    {
     "data": {
      "text/latex": [
       "$\\displaystyle \\left[\\begin{matrix}0.00268015265464783 & 1414683.78650759 & -1409277.68553178\\\\0.00394018739461899 & 1769837.53198448 & -2073062.82271748\\\\-0.00681251287460327 & -3060300.4368331 & 3584620.02712829\\end{matrix}\\right]$"
      ],
      "text/plain": [
       "Matrix([\n",
       "[ 0.00268015265464783, 1414683.78650759, -1409277.68553178],\n",
       "[ 0.00394018739461899, 1769837.53198448, -2073062.82271748],\n",
       "[-0.00681251287460327, -3060300.4368331,  3584620.02712829]])"
      ]
     },
     "execution_count": 111,
     "metadata": {},
     "output_type": "execute_result"
    }
   ],
   "source": [
    "M = A1a.eigenvects()\n",
    "M1 = abs(Matrix([[Matrix(M[0][2]),Matrix(M[1][2]),Matrix(M[2][2])]])).transpose()\n",
    "M1\n",
    "K = A11a.eigenvects()\n",
    "K1 = abs(Matrix([[Matrix(K[0][2]),Matrix(K[1][2]),Matrix(K[2][2])]]))\n",
    "K1.inv() * Matrix(tens[1]) * M1.inv()"
   ]
  },
  {
   "cell_type": "code",
   "execution_count": 112,
   "metadata": {
    "colab": {
     "base_uri": "https://localhost:8080/"
    },
    "id": "TEyLe2Umg1dG",
    "outputId": "d9f55ab8-446a-4fea-8691-556deaf2cfab"
   },
   "outputs": [
    {
     "data": {
      "text/latex": [
       "$\\displaystyle \\left[\\begin{matrix}0.00012505054473877 & 3104443.79869714 & -53344.3249796629\\\\0.000162839889526367 & 4034432.04488708 & -69324.5128810406\\\\1034.32029461861 & -6976105.95673348 & 119871.92791152\\end{matrix}\\right]$"
      ],
      "text/plain": [
       "Matrix([\n",
       "[ 0.00012505054473877,  3104443.79869714, -53344.3249796629],\n",
       "[0.000162839889526367,  4034432.04488708, -69324.5128810406],\n",
       "[    1034.32029461861, -6976105.95673348,   119871.92791152]])"
      ]
     },
     "execution_count": 112,
     "metadata": {},
     "output_type": "execute_result"
    }
   ],
   "source": [
    "K1.inv() * Matrix(tens[0]) * M1.inv()"
   ]
  },
  {
   "cell_type": "code",
   "execution_count": 8,
   "metadata": {
    "colab": {
     "base_uri": "https://localhost:8080/",
     "height": 37
    },
    "id": "OuQQ0XRupNB5",
    "outputId": "c35b3067-9b91-47a8-f592-856d7af81a63"
   },
   "outputs": [
    {
     "ename": "NameError",
     "evalue": "name 't12' is not defined",
     "output_type": "error",
     "traceback": [
      "\u001b[1;31m---------------------------------------------------------------------------\u001b[0m",
      "\u001b[1;31mNameError\u001b[0m                                 Traceback (most recent call last)",
      "\u001b[1;32m<ipython-input-8-9d5d88a5db2c>\u001b[0m in \u001b[0;36m<module>\u001b[1;34m\u001b[0m\n\u001b[1;32m----> 1\u001b[1;33m \u001b[0mK\u001b[0m \u001b[1;33m=\u001b[0m \u001b[0mt01\u001b[0m \u001b[1;33m*\u001b[0m \u001b[0mt12\u001b[0m\u001b[1;33m.\u001b[0m\u001b[0minv\u001b[0m\u001b[1;33m(\u001b[0m\u001b[1;33m)\u001b[0m\u001b[1;33m\u001b[0m\u001b[1;33m\u001b[0m\u001b[0m\n\u001b[0m\u001b[0;32m      2\u001b[0m \u001b[0mK\u001b[0m\u001b[1;33m.\u001b[0m\u001b[0meigenvects\u001b[0m\u001b[1;33m(\u001b[0m\u001b[1;33m)\u001b[0m\u001b[1;33m\u001b[0m\u001b[1;33m\u001b[0m\u001b[0m\n",
      "\u001b[1;31mNameError\u001b[0m: name 't12' is not defined"
     ]
    }
   ],
   "source": [
    "K = t01 * t12.inv()\n",
    "K.eigenvects()"
   ]
  },
  {
   "cell_type": "code",
   "execution_count": 9,
   "metadata": {},
   "outputs": [],
   "source": [
    "def find_det1(A):\n",
    "    #lower = Matrix([A[2,0], A[2,1]]).transpose()\n",
    "    #B = Matrix([lower,lower * upper])\n",
    "    return (A[1,0],A[2,0])"
   ]
  },
  {
   "cell_type": "code",
   "execution_count": 183,
   "metadata": {},
   "outputs": [],
   "source": []
  },
  {
   "cell_type": "code",
   "execution_count": 210,
   "metadata": {
    "colab": {
     "base_uri": "https://localhost:8080/"
    },
    "id": "_PvPFWEouxz3",
    "outputId": "6ddecdce-7699-450b-ff44-1b11855b4134"
   },
   "outputs": [
    {
     "name": "stdout",
     "output_type": "stream",
     "text": [
      "-6.00000000000000 0 202394155.040001 92765608.3200073 666491696.639999 -80409288.9599991 -27911869.4400024 -338775557.119995\n",
      "[(1.28472780776442, 1, [Matrix([\n",
      "[-0.388885451763465],\n",
      "[-0.160318315979255],\n",
      "[-0.907229928390979]])]), (0.000657946440063254, 1, [Matrix([\n",
      "[-0.0578938377835887],\n",
      "[ 0.0876258271578048],\n",
      "[  -1.09292465201625]])]), (57096096977.9060, 1, [Matrix([\n",
      "[0.590146956813343],\n",
      "[0.490275933345675],\n",
      "[0.762651451899074]])])]\n"
     ]
    },
    {
     "data": {
      "text/plain": [
       "array([[[ 250331.6 ,  462350.6 ,  160572.  ],\n",
       "        [ 102513.76,  190146.56,   65606.4 ],\n",
       "        [ 584480.96, 1077507.76,  375278.4 ]],\n",
       "\n",
       "       [[ 132117.44,  238261.6 ,   85124.16],\n",
       "        [  54337.92,   97384.8 ,   35034.88],\n",
       "        [ 309312.64,  563045.6 ,  199080.96]]])"
      ]
     },
     "execution_count": 210,
     "metadata": {},
     "output_type": "execute_result"
    }
   ],
   "source": [
    "t1 = low_tensor()\n",
    "t2 = low_tensor_spec()\n",
    "t3 = low_tensor_spec1()\n",
    "t4 = low_tensor()\n",
    "t5 = low_tensor()\n",
    "tens = t1[0] -t2[0]*0.1 -t3[0]*0.1\n",
    "t01 = Matrix(tens[0])\n",
    "t02 = Matrix(tens[1])\n",
    "print(det(t01), det(t02),t01.minor(2,2),t01.minor(1,1),t01.minor(0,0),t02.minor(2,2),t02.minor(1,1),t02.minor(0,0))\n",
    "A = t01 * t02.adjugate()\n",
    "print(A.eigenvects())\n",
    "tens"
   ]
  },
  {
   "cell_type": "code",
   "execution_count": 170,
   "metadata": {},
   "outputs": [
    {
     "data": {
      "text/plain": [
       "[(8.07692307692299,\n",
       "  1,\n",
       "  [Matrix([\n",
       "   [-0.925305138660671],\n",
       "   [-0.364054480784529],\n",
       "   [-0.106182556895493]])]),\n",
       " (0.333333333333430,\n",
       "  1,\n",
       "  [Matrix([\n",
       "   [-0.765729428086548],\n",
       "   [-0.592164091053593],\n",
       "   [-0.714680799547438]])]),\n",
       " (93.9999999999999,\n",
       "  1,\n",
       "  [Matrix([\n",
       "   [-0.886872630879788],\n",
       "   [-0.147812105146632],\n",
       "   [ -1.18249684117305]])])]"
      ]
     },
     "execution_count": 170,
     "metadata": {},
     "output_type": "execute_result"
    }
   ],
   "source": []
  },
  {
   "cell_type": "code",
   "execution_count": null,
   "metadata": {},
   "outputs": [],
   "source": []
  }
 ],
 "metadata": {
  "colab": {
   "collapsed_sections": [],
   "name": "Untitled0.ipynb",
   "provenance": []
  },
  "kernelspec": {
   "display_name": "Python 3",
   "language": "python",
   "name": "python3"
  },
  "language_info": {
   "codemirror_mode": {
    "name": "ipython",
    "version": 3
   },
   "file_extension": ".py",
   "mimetype": "text/x-python",
   "name": "python",
   "nbconvert_exporter": "python",
   "pygments_lexer": "ipython3",
   "version": "3.9.1"
  }
 },
 "nbformat": 4,
 "nbformat_minor": 4
}
