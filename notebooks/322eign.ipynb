{
 "cells": [
  {
   "cell_type": "code",
   "execution_count": 4,
   "id": "70f864f0-aad1-4184-bc31-9f83722c3cb1",
   "metadata": {},
   "outputs": [],
   "source": [
    "import tensorly as tl\n",
    "import numpy as np\n",
    "from numpy import linalg as la\n",
    "from sympy import *"
   ]
  },
  {
   "cell_type": "code",
   "execution_count": 5,
   "id": "27e4b289-fe4b-4a74-ae8b-5c6f3354e5e5",
   "metadata": {},
   "outputs": [],
   "source": [
    "from tensorly.decomposition import parafac\n",
    "from tensorly.decomposition import non_negative_parafac_hals\n",
    "from tensorly.decomposition import non_negative_parafac\n",
    "\n",
    "def check_rank(tensor, rank, non_neg=True, n=10, tol=0.001, p=False):\n",
    "    if non_neg:\n",
    "        for k in range(n):\n",
    "            weights, factors = non_negative_parafac_hals(tensor, n_iter_max=1000000, rank=rank, init='random')\n",
    "            full = tl.cp_to_tensor((weights, factors))\n",
    "            diff = (full - tensor) / tensor\n",
    "            if p:\n",
    "                # print('doing', k)\n",
    "                # print(full)\n",
    "                print(tl.max(abs(diff)))\n",
    "                print(factors)\n",
    "            if tl.max(abs(diff)) < tol:\n",
    "                return True\n",
    "    else:\n",
    "        for k in range(n):\n",
    "            weights, factors = parafac(tensor, n_iter_max=1000000, rank=rank)\n",
    "            full = tl.cp_to_tensor((weights, factors))\n",
    "            diff = (full - tensor) / tensor\n",
    "            if p:\n",
    "                print(tl.max(abs(diff)))\n",
    "                print(factors)\n",
    "            if tl.max(abs(diff)) < tol:\n",
    "                return True\n",
    "    return False\n"
   ]
  },
  {
   "cell_type": "code",
   "execution_count": 10,
   "id": "a858689c-e0bb-4db4-84da-45355deee127",
   "metadata": {},
   "outputs": [],
   "source": [
    "#generates random rank 3 tensors\n",
    "def rank_tree():\n",
    "    return (low_tensor() + low_tensor() + low_tensor()) \n",
    "\n",
    "#generates random rank 4+ (hopefully) tensors\n",
    "def rank_for():\n",
    "    return  (low_tensor() + low_tensor() + low_tensor() + low_tensor())\n",
    "\n",
    "\n",
    "# generates rank 1, 2x2x3 tensors\n",
    "def low_tensor():\n",
    "    max = 300\n",
    "    a = np.random.randint(1, max, size=3) * 0.1\n",
    "    b = np.random.randint(1, max, size=2)* 0.1\n",
    "    c = np.random.randint(1, max, size=2)* 0.1\n",
    "    tens = tl.tensor(np.kron(np.kron(a, b), c).reshape(3, 2, 2)) * 1.0\n",
    "    return tens\n",
    "\n",
    "def low_tensor_inv():\n",
    "    max = 300\n",
    "    a = np.random.randint(1, max, size=2) * -0.1\n",
    "    b = np.random.randint(1, max, size=3)* 0.1\n",
    "    c = np.random.randint(1, max, size=3)* 0.1\n",
    "    tens = tl.tensor(np.kron(np.kron(a, b), c).reshape(2, 3, 3)) * 1.0\n",
    "    return tens"
   ]
  },
  {
   "cell_type": "code",
   "execution_count": 11,
   "id": "7e1518dc-59a4-4654-8f9d-db1e2f52bdc7",
   "metadata": {},
   "outputs": [
    {
     "data": {
      "text/plain": [
       "array([[[10944.703,  5567.892],\n",
       "        [ 8439.258,  5019.471]],\n",
       "\n",
       "       [[21044.358, 10219.56 ],\n",
       "        [15934.458,  9158.388]],\n",
       "\n",
       "       [[30384.637, 13711.848],\n",
       "        [22434.607, 11303.664]]])"
      ]
     },
     "execution_count": 11,
     "metadata": {},
     "output_type": "execute_result"
    }
   ],
   "source": [
    "t = low_tensor()+ low_tensor() + low_tensor()\n",
    "t\n"
   ]
  },
  {
   "cell_type": "code",
   "execution_count": 245,
   "id": "92e32f24-a8ca-4157-b2a2-61e4ff24372f",
   "metadata": {},
   "outputs": [
    {
     "name": "stdout",
     "output_type": "stream",
     "text": [
      "0.020181041542741883\n",
      "[array([[1.32387342e+04, 4.96135996e+02, 1.66579248e+04],\n",
      "       [9.33553674e+00, 1.03325000e+03, 3.08545931e+04]]), array([[0.38919243, 0.        , 0.5457797 ],\n",
      "       [0.2998335 , 0.54673564, 0.47798031],\n",
      "       [0.62226227, 0.41041383, 0.60154388]]), array([[0.57142245, 4.24041895, 0.13146303],\n",
      "       [0.86766786, 7.23562994, 0.1245112 ],\n",
      "       [1.96300277, 0.        , 1.16199264]])]\n",
      "0.020182388360050485\n",
      "[array([[1.87730579e+04, 7.05893394e+02, 1.05288830e+04],\n",
      "       [1.31009318e+01, 1.47008418e+03, 1.95016331e+04]]), array([[0.25177745, 0.        , 0.64959829],\n",
      "       [0.19396849, 1.6727428 , 0.5689018 ],\n",
      "       [0.40255818, 1.25566564, 0.71597144]]), array([[0.62288705, 0.97413647, 0.17475511],\n",
      "       [0.94581638, 1.66221609, 0.16551512],\n",
      "       [2.13977369, 0.        , 1.54463649]])]\n",
      "0.020188278965077605\n",
      "[array([[5.65143861e+04, 1.03959579e+04, 1.62420193e+03],\n",
      "       [3.56014268e+01, 1.92550058e+04, 3.38233579e+03]]), array([[0.27654243, 0.94170631, 0.        ],\n",
      "       [0.2130452 , 0.82472038, 0.73425924],\n",
      "       [0.4421557 , 1.03794308, 0.55120356]]), array([[0.18837144, 0.12210413, 0.96453419],\n",
      "       [0.28603092, 0.11565536, 1.64583416],\n",
      "       [0.64710439, 1.07919009, 0.        ]])]\n",
      "0.02233929690396599\n",
      "[array([[42441.44212255,  4006.72958269, 34215.45606758],\n",
      "       [15811.22948919,  7689.14784581, 47108.58368605]]), array([[0.48916353, 1.75544021, 0.        ],\n",
      "       [0.24987003, 0.15111574, 0.40615039],\n",
      "       [0.71123203, 0.95167457, 0.19846997]]), array([[0.17720148, 0.06418442, 0.18695696],\n",
      "       [0.27024606, 0.        , 0.25303619],\n",
      "       [0.62615509, 1.0914649 , 0.70051807]])]\n",
      "0.020189301163405116\n",
      "[array([[3.57429826e+03, 8.72363374e+03, 1.75433329e+04],\n",
      "       [7.44281591e+03, 5.19733035e+00, 3.24964047e+04]]), array([[0.        , 0.63436282, 0.88597311],\n",
      "       [0.08336165, 0.48870851, 0.77589853],\n",
      "       [0.06258184, 1.01423381, 0.97651215]]), array([[3.86079327e+00, 5.31998413e-01, 7.69046167e-02],\n",
      "       [6.58782550e+00, 8.07795461e-01, 7.28451724e-02],\n",
      "       [3.67846149e-04, 1.82767188e+00, 6.79687661e-01]])]\n",
      "0.017239873071591128\n",
      "[array([[ 7577.45454684, 86396.05511043,  7158.06078333],\n",
      "       [14600.00364472, 32335.47677147, 20150.96166797]]), array([[0.9474072 , 0.60477159, 0.        ],\n",
      "       [0.35297953, 0.53721167, 0.13196522],\n",
      "       [0.6450884 , 0.98973655, 0.06442795]]), array([[0.05982514, 0.07124139, 1.06000891],\n",
      "       [0.        , 0.10718741, 1.5196663 ],\n",
      "       [1.06217192, 0.24976404, 2.75694985]])]\n",
      "0.019559968447861915\n",
      "[array([[17616.41020689, 20753.43470272,  4055.46080479],\n",
      "       [ 5299.57609856, 39345.67196695,  9033.11630069]]), array([[0.80844471, 0.63877807, 0.        ],\n",
      "       [0.65102745, 0.39667507, 1.17087409],\n",
      "       [1.29807135, 0.53251925, 0.65332924]]), array([[0.24785733, 0.04617054, 0.2631592 ],\n",
      "       [0.3751545 , 0.01945213, 0.40773879],\n",
      "       [0.86406133, 0.63155043, 0.40697435]])]\n",
      "0.019832198550819715\n",
      "[array([[ 2737.09623842, 35346.98127868, 12231.86059956],\n",
      "       [  510.36263952, 66383.94271308, 27075.3710897 ]]), array([[0.79306996, 0.56743488, 0.        ],\n",
      "       [0.63754592, 0.36899761, 0.1731238 ],\n",
      "       [1.27904457, 0.50432466, 0.11196897]]), array([[1.51368708, 0.04263372, 0.59994963],\n",
      "       [2.29352972, 0.03106104, 0.94081704],\n",
      "       [5.24523457, 0.4633014 , 0.8719314 ]])]\n",
      "0.019955289435325613\n",
      "[array([[69871.11650506, 14714.80505228,  1722.50222368],\n",
      "       [ 7184.99397442, 27460.50700636,  3746.94431054]]), array([[0.22496304, 0.94449843, 0.        ],\n",
      "       [0.17895966, 0.66479194, 1.25917615],\n",
      "       [0.36267054, 0.89568408, 0.87942994]]), array([[0.1987846 , 0.07308788, 0.58347225],\n",
      "       [0.30143845, 0.06215436, 0.93239806],\n",
      "       [0.68603243, 0.71197423, 0.69159574]])]\n",
      "0.02018984003235084\n",
      "[array([[1.03844603e+03, 3.30975573e+04, 1.88753241e+04],\n",
      "       [2.16236312e+03, 1.95259492e+01, 3.49633739e+04]]), array([[0.        , 0.30930834, 0.60449875],\n",
      "       [0.35577868, 0.23828809, 0.5294031 ],\n",
      "       [0.26709304, 0.49453023, 0.66628073]]), array([[3.11362012, 0.28757709, 0.10476189],\n",
      "       [5.31292602, 0.43666254, 0.0992325 ],\n",
      "       [0.        , 0.98796151, 0.92588547]])]\n"
     ]
    },
    {
     "data": {
      "text/plain": [
       "False"
      ]
     },
     "execution_count": 245,
     "metadata": {},
     "output_type": "execute_result"
    }
   ],
   "source": [
    "check_rank(t,3, p = True, non_neg = True)"
   ]
  },
  {
   "cell_type": "code",
   "execution_count": 217,
   "id": "447a9235-6997-43de-ad1c-6d90663b347c",
   "metadata": {},
   "outputs": [
    {
     "data": {
      "text/plain": [
       "[(49.1666666666667,\n",
       "  1,\n",
       "  [Matrix([\n",
       "   [ -0.917378869030917],\n",
       "   [-0.0867790822056271],\n",
       "   [ -0.388439701301379]])]),\n",
       " (1.05319148936148,\n",
       "  1,\n",
       "  [Matrix([\n",
       "   [-0.828980717806854],\n",
       "   [ -1.07995653145482],\n",
       "   [-0.308015771295232]])]),\n",
       " (0.434944237918307,\n",
       "  1,\n",
       "  [Matrix([\n",
       "   [-0.783472770444663],\n",
       "   [  -1.0813219228451],\n",
       "   [-0.369073949713589]])])]"
      ]
     },
     "execution_count": 217,
     "metadata": {},
     "output_type": "execute_result"
    }
   ],
   "source": [
    "B = P1.transpose() * P2.transpose()\n",
    "B.eigenvects()"
   ]
  },
  {
   "cell_type": "code",
   "execution_count": 182,
   "id": "2d698776-3066-4ab6-9fb9-439680f7565c",
   "metadata": {},
   "outputs": [
    {
     "data": {
      "text/plain": [
       "[(14.6470588235294,\n",
       "  1,\n",
       "  [Matrix([\n",
       "   [-0.379470952289146],\n",
       "   [-0.917526780161815],\n",
       "   [-0.118938656687643]])]),\n",
       " (0.931034482758621,\n",
       "  1,\n",
       "  [Matrix([\n",
       "   [-0.143597906725126],\n",
       "   [  -1.0105037880657],\n",
       "   [-0.154234788704765]])]),\n",
       " (0.267857142857143,\n",
       "  1,\n",
       "  [Matrix([\n",
       "   [-0.0974234014813838],\n",
       "   [ -0.201805617354295],\n",
       "   [ -0.285311390052624]])])]"
      ]
     },
     "execution_count": 182,
     "metadata": {},
     "output_type": "execute_result"
    }
   ],
   "source": [
    "C = P1 * P3\n",
    "C.eigenvects()"
   ]
  },
  {
   "cell_type": "code",
   "execution_count": 210,
   "id": "7d4f2acd-3f6f-4268-9d43-a6be5ecb22dd",
   "metadata": {},
   "outputs": [
    {
     "data": {
      "text/plain": [
       "array([[[16920.192 , 28519.892 , 20423.842 ],\n",
       "        [ 6208.416 ,  8137.986 ,  5379.321 ],\n",
       "        [ 2023.359 ,  4677.409 ,  2567.234 ]],\n",
       "\n",
       "       [[15968.9336, 18838.7496, 14788.3776],\n",
       "        [ 6340.1426,  6713.5946,  5204.4506],\n",
       "        [ 1694.2368,  2401.3528,  1620.4508]]])"
      ]
     },
     "execution_count": 210,
     "metadata": {},
     "output_type": "execute_result"
    }
   ],
   "source": [
    "t"
   ]
  },
  {
   "cell_type": "code",
   "execution_count": null,
   "id": "e5648870-16cf-4a85-a4a3-36fc6da5e0ec",
   "metadata": {},
   "outputs": [],
   "source": []
  }
 ],
 "metadata": {
  "kernelspec": {
   "display_name": "Python 3",
   "language": "python",
   "name": "python3"
  },
  "language_info": {
   "codemirror_mode": {
    "name": "ipython",
    "version": 3
   },
   "file_extension": ".py",
   "mimetype": "text/x-python",
   "name": "python",
   "nbconvert_exporter": "python",
   "pygments_lexer": "ipython3",
   "version": "3.9.5"
  }
 },
 "nbformat": 4,
 "nbformat_minor": 5
}
