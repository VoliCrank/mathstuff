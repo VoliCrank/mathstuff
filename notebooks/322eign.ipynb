{
 "cells": [
  {
   "cell_type": "code",
   "execution_count": 1,
   "id": "unlikely-techno",
   "metadata": {},
   "outputs": [],
   "source": [
    "import tensorly as tl\n",
    "import numpy as np\n",
    "from numpy import linalg as la\n",
    "from sympy import *"
   ]
  },
  {
   "cell_type": "code",
   "execution_count": 2,
   "id": "departmental-magnet",
   "metadata": {},
   "outputs": [],
   "source": [
    "from tensorly.decomposition import parafac\n",
    "from tensorly.decomposition import non_negative_parafac_hals\n",
    "from tensorly.decomposition import non_negative_parafac\n",
    "\n",
    "def check_rank(tensor, rank, non_neg=True, n=10, tol=0.0001, p=False):\n",
    "    if non_neg:\n",
    "        for k in range(n):\n",
    "            weights, factors = non_negative_parafac_hals(tensor, n_iter_max=1000000, rank=rank, init='random')\n",
    "            full = tl.cp_to_tensor((weights, factors))\n",
    "            diff = (full - tensor) / tensor\n",
    "            if p:\n",
    "                # print('doing', k)\n",
    "                # print(full)\n",
    "                print(tl.max(abs(diff)))\n",
    "                print(factors)\n",
    "            if tl.max(abs(diff)) < tol:\n",
    "                return True\n",
    "    else:\n",
    "        for k in range(n):\n",
    "            weights, factors = parafac(tensor, n_iter_max=1000000, rank=rank)\n",
    "            full = tl.cp_to_tensor((weights, factors))\n",
    "            diff = (full - tensor) / tensor\n",
    "            if p:\n",
    "                print(tl.max(abs(diff)))\n",
    "                print(factors)\n",
    "            if tl.max(abs(diff)) < tol:\n",
    "                return True\n",
    "    return False\n"
   ]
  },
  {
   "cell_type": "code",
   "execution_count": 11,
   "id": "respected-syndication",
   "metadata": {},
   "outputs": [],
   "source": [
    "#generates random rank 3 tensors\n",
    "def rank_tree():\n",
    "    return (low_tensor() + low_tensor() + low_tensor()) \n",
    "\n",
    "#generates random rank 4+ (hopefully) tensors\n",
    "def rank_for():\n",
    "    return  (low_tensor() + low_tensor() + low_tensor() + low_tensor())\n",
    "\n",
    "\n",
    "# generates rank 1, 2x2x3 tensors\n",
    "def low_tensor():\n",
    "    max = 300\n",
    "    a = np.random.randint(1, max, size=3) * 0.1\n",
    "    b = np.random.randint(1, max, size=2)* 0.1\n",
    "    c = np.random.randint(1, max, size=2)* 0.1\n",
    "    tens = tl.tensor(np.kron(np.kron(a, b), c).reshape(3, 2, 2)) * 1.0\n",
    "    return tens\n",
    "\n",
    "def low_tensor_spec():\n",
    "    max = 300\n",
    "    a = np.random.randint(1, max, size=2) * 0.1\n",
    "    b = np.random.randint(1, max, size=3)* 0.1\n",
    "    c = np.random.randint(1, max, size=3)* 0.1\n",
    "    tens = tl.tensor(np.kron(np.kron(a, b), c).reshape(3, 2, 2 )) * 1.0\n",
    "    return tens\n",
    "\n",
    "def check(t):\n",
    "    t1 = tl.tensor([t[0], t[1]])\n",
    "    t2 = tl.tensor([t[1], t[2]])\n",
    "    t2 = tl.tensor([t[1]+t[0], t[1]+t[2]])\n",
    "    a1 = det(Matrix(t1[0]))\n",
    "    a2 = det(Matrix(t1[1]))\n",
    "    a3 = det(Matrix(t2[0]))\n",
    "    a4 = det(Matrix(t2[1]))\n",
    "    b1 = det(Matrix(t1[:,0]))\n",
    "    b2 = det(Matrix(t1[:,1]))\n",
    "    b3 = det(Matrix(t2[:,0]))\n",
    "    b4 = det(Matrix(t2[:,1]))\n",
    "    c1 = det(Matrix(t1[:,:,0]))\n",
    "    c2 = det(Matrix(t1[:,:,1]))\n",
    "    c3 = det(Matrix(t2[:,:,0]))\n",
    "    c4 = det(Matrix(t2[:,:,1]))\n",
    "\n",
    "    #a5 = det(Matrix(t2[0]))\n",
    "    #a6 = det(Matrix(t2[1]))\n",
    "\n",
    "    #b5 = det(Matrix(t2[:,0]))\n",
    "    #b6 = det(Matrix(t2[:,1]))\n",
    "\n",
    "    #c5 = det(Matrix(t2[:,:,0]))\n",
    "    #c6 = det(Matrix(t2[:,:,1]))\n",
    "    return sgn([a1, a2,a3,a4]) or sgn([b1,b2,b3,b4]) or sgn([c1,c2,c3,c4])\n",
    "\n",
    "def sgn(a):\n",
    "    t = 0\n",
    "    ab = 0\n",
    "    for a_i in a:\n",
    "        t+= abs(a_i)\n",
    "        ab += a_i\n",
    "    return t == abs(ab)\n",
    "\n",
    "def check_r3(t):\n",
    "    a1 = det(Matrix(t[0]))\n",
    "    a2 = det(Matrix(t[1]))\n",
    "    b1 = det(Matrix(t[:,0]))\n",
    "    b2 = det(Matrix(t[:,1]))\n",
    "    c1 = det(Matrix(t[:,:,0]))\n",
    "    c2 = det(Matrix(t[:,:,1]))\n",
    "    return sgn([a1,a2]) or sgn([b1,b2]) or sgn([c1,c2])\n",
    "\n",
    "def check_r2(t):\n",
    "    a1 = det(Matrix(t[0]))\n",
    "    a2 = det(Matrix(t[1]))\n",
    "    b1 = det(Matrix(t[:,0]))\n",
    "    b2 = det(Matrix(t[:,1]))\n",
    "    c1 = det(Matrix(t[:,:,0]))\n",
    "    c2 = det(Matrix(t[:,:,1]))\n",
    "    d1 = ineq(a1,a2,b1,b2,c1,c2,ge,ge,ge)\n",
    "    d2 = ineq(a1,a2,b1,b2,c1,c2,le,le,ge)\n",
    "    d3 = ineq(a1,a2,b1,b2,c1,c2,le,ge,le)\n",
    "    d4 = ineq(a1,a2,b1,b2,c1,c2,ge,le,le)\n",
    "    supermod = d1 or d2 or d3 or d4\n",
    "    return supermod\n",
    "\n",
    "def ineq(a1,a2,b1,b2,c1,c2,f1,f2,f3):\n",
    "    t1 = f1(a1,0) and f1(a2,0)\n",
    "    t2 = f2(b1,0) and f2(b2,0)\n",
    "    t3 = f3(c1,0) and f3(c2,0)\n",
    "    return t1 and t2 and t3\n",
    "    \n",
    "def ge(a1,a2):\n",
    "    return a1 >= a2\n",
    "\n",
    "def le(a1,a2):\n",
    "    return a1 <= a2\n",
    "\n",
    "def check_r4(t):\n",
    "    a1 = not check_r3(tl.tensor([t[0],t[1]]))\n",
    "    a2 = not check_r3(tl.tensor([t[0],t[2]]))\n",
    "    a3 = not check_r3(tl.tensor([t[1],t[2]]))\n",
    "    return a1 or a2 or a3\n",
    "\n",
    "def check_sub(t, i, j):\n",
    "    temp = np.copy(t)\n",
    "    temp[0][i][j] = 0\n",
    "    temp[1][i][j] = 0\n",
    "    temp[2][i][j] = 0\n",
    "    t1 = tl.tensor([temp[0],temp[1]])\n",
    "    t2 = tl.tensor([temp[0],temp[2]])\n",
    "    t3 = tl.tensor([temp[1],temp[2]])\n",
    "    return check_r2(t1) and check_r2(t2) and check_r2(t3)\n",
    "    "
   ]
  },
  {
   "cell_type": "code",
   "execution_count": 15,
   "id": "stylish-earthquake",
   "metadata": {},
   "outputs": [
    {
     "name": "stdout",
     "output_type": "stream",
     "text": [
      "True\n"
     ]
    }
   ],
   "source": [
    "print(check_r2(np.random.randint(1, 200, size=(2,2,2))))"
   ]
  },
  {
   "cell_type": "code",
   "execution_count": 21,
   "id": "golden-matter",
   "metadata": {},
   "outputs": [
    {
     "data": {
      "text/latex": [
       "$\\displaystyle \\left[\\begin{matrix}15053.22 & 15797.052 & 8609.416 & 8589.0\\\\6655.732 & 7118.406 & 17119.988 & 17059.744\\\\16343.428 & 17273.598 & 9322.256 & 9758.492\\end{matrix}\\right]$"
      ],
      "text/plain": [
       "Matrix([\n",
       "[ 15053.22, 15797.052,  8609.416,    8589.0],\n",
       "[ 6655.732,  7118.406, 17119.988, 17059.744],\n",
       "[16343.428, 17273.598,  9322.256,  9758.492]])"
      ]
     },
     "execution_count": 21,
     "metadata": {},
     "output_type": "execute_result"
    }
   ],
   "source": [
    "Matrix([[Matrix(tens[:,:,0]),Matrix(tens[:,:,1])]])"
   ]
  },
  {
   "cell_type": "code",
   "execution_count": 19,
   "id": "daily-latitude",
   "metadata": {},
   "outputs": [
    {
     "data": {
      "text/latex": [
       "$\\displaystyle \\left[\\begin{matrix}\\left[\\begin{matrix}15053.22 & 15797.052\\\\6655.732 & 7118.406\\\\16343.428 & 17273.598\\end{matrix}\\right] & \\left[\\begin{matrix}8609.416 & 8589.0\\\\17119.988 & 17059.744\\\\9322.256 & 9758.492\\end{matrix}\\right]\\end{matrix}\\right]$"
      ],
      "text/plain": [
       "Matrix([[[[15053.2200000000, 15797.0520000000], [6655.73200000000, 7118.40600000000], [16343.4280000000, 17273.5980000000]], [[8609.41600000000, 8589.00000000000], [17119.9880000000, 17059.7440000000], [9322.25600000000, 9758.49200000000]]]])"
      ]
     },
     "execution_count": 19,
     "metadata": {},
     "output_type": "execute_result"
    }
   ],
   "source": [
    "Matrix([[tens[:,:,0],tens[:,:,1]]])"
   ]
  },
  {
   "cell_type": "code",
   "execution_count": 59,
   "id": "patient-heading",
   "metadata": {},
   "outputs": [
    {
     "name": "stdout",
     "output_type": "stream",
     "text": [
      "True\n"
     ]
    }
   ],
   "source": [
    "t1 = tl.tensor([tens[0], tens[1]])\n",
    "t2 = tl.tensor([tens[1], tens[2]])\n",
    "a1 = det(Matrix(t1[0]))\n",
    "a2 = det(Matrix(t1[1]))\n",
    "a3 = det(Matrix(t2[0]))\n",
    "a4 = det(Matrix(t2[1]))\n",
    "b1 = det(Matrix(t1[:,0]))\n",
    "b2 = det(Matrix(t1[:,1]))\n",
    "b3 = det(Matrix(t2[:,0]))\n",
    "b4 = det(Matrix(t2[:,1]))\n",
    "c1 = det(Matrix(t1[:,:,0]))\n",
    "c2 = det(Matrix(t1[:,:,1]))\n",
    "c3 = det(Matrix(t2[:,:,0]))\n",
    "c4 = det(Matrix(t2[:,:,1]))\n",
    "print(check(tens))"
   ]
  },
  {
   "cell_type": "code",
   "execution_count": 27,
   "id": "original-debut",
   "metadata": {},
   "outputs": [
    {
     "name": "stdout",
     "output_type": "stream",
     "text": [
      "[[[ 4666.92 16869.7 ]\n",
      "  [19066.2   6344.81]]\n",
      "\n",
      " [[17891.12 12077.95]\n",
      "  [ 9340.69 16540.91]]\n",
      "\n",
      " [[  902.53 18879.51]\n",
      "  [10250.98  7614.94]]]\n"
     ]
    }
   ],
   "source": [
    "counter = 0\n",
    "tensor_r4 = []\n",
    "for i in range(2000):\n",
    "    t = rank_for()\n",
    "    tens = tl.tensor(np.random.randint(100, 2000000, size=(3,2,2))) * 0.01\n",
    "    if check_r4(tens):\n",
    "        tensor_r4.append(tens)\n",
    "        if check_sub(tens, 0,0) or check_sub(tens, 1,0) or check_sub(tens, 0,1) or check_sub(tens, 1,1):\n",
    "            counter += 1\n",
    "print(counter)"
   ]
  },
  {
   "cell_type": "code",
   "execution_count": 28,
   "id": "sustainable-bookmark",
   "metadata": {},
   "outputs": [
    {
     "name": "stdout",
     "output_type": "stream",
     "text": [
      "0\n"
     ]
    }
   ],
   "source": [
    "print(counter)"
   ]
  },
  {
   "cell_type": "code",
   "execution_count": 18,
   "id": "statistical-senator",
   "metadata": {},
   "outputs": [
    {
     "name": "stdout",
     "output_type": "stream",
     "text": [
      "0\n"
     ]
    }
   ],
   "source": [
    "count = 0\n",
    "for i in range(100):\n",
    "    if check_sub(tensor_r4[i+20], 0, 0):\n",
    "        count += 1\n",
    "        \n",
    "print(count)"
   ]
  },
  {
   "cell_type": "code",
   "execution_count": 26,
   "id": "reserved-economy",
   "metadata": {},
   "outputs": [
    {
     "name": "stdout",
     "output_type": "stream",
     "text": [
      "0\n"
     ]
    }
   ],
   "source": [
    "count = 0\n",
    "for i in range(100): \n",
    "    tens = tensor_r4[i+200]\n",
    "    if check_sub(tens, 0,0) or check_sub(tens, 1,0) or check_sub(tens, 0,1) or check_sub(tens, 1,1):\n",
    "        count += 1\n",
    "print(count)"
   ]
  },
  {
   "cell_type": "code",
   "execution_count": 253,
   "id": "dietary-spell",
   "metadata": {},
   "outputs": [
    {
     "name": "stdout",
     "output_type": "stream",
     "text": [
      "[[[    0.    6281.91]\n",
      "  [    0.   17149.45]]\n",
      "\n",
      " [[    0.   14292.4 ]\n",
      "  [    0.   12637.41]]\n",
      "\n",
      " [[    0.    1534.81]\n",
      "  [    0.    6700.4 ]]]\n"
     ]
    }
   ],
   "source": [
    "print(tensor_r4[1002])"
   ]
  },
  {
   "cell_type": "code",
   "execution_count": 235,
   "id": "broken-shift",
   "metadata": {},
   "outputs": [
    {
     "name": "stdout",
     "output_type": "stream",
     "text": [
      "-35991306622.1029\n"
     ]
    }
   ],
   "source": [
    "    M = Matrix([[Matrix(tens[:,1]),Matrix(tens[:,0])]])\n",
    "    M1 = Matrix([[M[:,0],M[:,1],M[:,2]]])\n",
    "    M2 = Matrix([[M[:,0],M[:,3],M[:,2]]])\n",
    "    M3 = Matrix([[M[:,3],M[:,2],M[:,1]]])\n",
    "    M4 = Matrix([[M[:,3],M[:,1],M[:,0]]])"
   ]
  },
  {
   "cell_type": "code",
   "execution_count": 230,
   "id": "unauthorized-freeware",
   "metadata": {},
   "outputs": [
    {
     "data": {
      "text/latex": [
       "$\\displaystyle \\left[\\begin{matrix}1 & 0 & 0\\\\0 & 1 & 0\\\\0 & 0 & 1\\end{matrix}\\right]$"
      ],
      "text/plain": [
       "Matrix([\n",
       "[1, 0, 0],\n",
       "[0, 1, 0],\n",
       "[0, 0, 1]])"
      ]
     },
     "execution_count": 230,
     "metadata": {},
     "output_type": "execute_result"
    }
   ],
   "source": [
    "M2.rref()[0]"
   ]
  },
  {
   "cell_type": "code",
   "execution_count": 231,
   "id": "lightweight-transcript",
   "metadata": {},
   "outputs": [
    {
     "data": {
      "text/latex": [
       "$\\displaystyle \\left[\\begin{matrix}1 & 0 & 0\\\\0 & 1 & 0\\\\0 & 0 & 1\\end{matrix}\\right]$"
      ],
      "text/plain": [
       "Matrix([\n",
       "[1, 0, 0],\n",
       "[0, 1, 0],\n",
       "[0, 0, 1]])"
      ]
     },
     "execution_count": 231,
     "metadata": {},
     "output_type": "execute_result"
    }
   ],
   "source": [
    "M3.rref()[0]"
   ]
  },
  {
   "cell_type": "code",
   "execution_count": 232,
   "id": "swiss-cooperative",
   "metadata": {},
   "outputs": [
    {
     "data": {
      "text/latex": [
       "$\\displaystyle \\left[\\begin{matrix}1 & 0 & 0\\\\0 & 1 & 0\\\\0 & 0 & 1\\end{matrix}\\right]$"
      ],
      "text/plain": [
       "Matrix([\n",
       "[1, 0, 0],\n",
       "[0, 1, 0],\n",
       "[0, 0, 1]])"
      ]
     },
     "execution_count": 232,
     "metadata": {},
     "output_type": "execute_result"
    }
   ],
   "source": [
    "M4.rref()[0]"
   ]
  },
  {
   "cell_type": "code",
   "execution_count": 184,
   "id": "minute-template",
   "metadata": {},
   "outputs": [
    {
     "data": {
      "text/latex": [
       "$\\displaystyle \\left[\\begin{matrix}0.0555975569303306\\\\0.939245855062972\\\\-0.272028900972627\\end{matrix}\\right]$"
      ],
      "text/plain": [
       "Matrix([\n",
       "[0.0555975569303306],\n",
       "[ 0.939245855062972],\n",
       "[-0.272028900972627]])"
      ]
     },
     "execution_count": 184,
     "metadata": {},
     "output_type": "execute_result"
    }
   ],
   "source": [
    "K = M4.rref()[0][:,3]\n",
    "K"
   ]
  },
  {
   "cell_type": "code",
   "execution_count": 187,
   "id": "streaming-synthesis",
   "metadata": {},
   "outputs": [
    {
     "data": {
      "text/plain": [
       "array([[0.0555975569303306],\n",
       "       [0.939245855062972],\n",
       "       [-0.272028900972627]], dtype=object)"
      ]
     },
     "execution_count": 187,
     "metadata": {},
     "output_type": "execute_result"
    }
   ],
   "source": [
    "np.array(K)"
   ]
  },
  {
   "cell_type": "code",
   "execution_count": 218,
   "id": "cleared-drink",
   "metadata": {},
   "outputs": [
    {
     "name": "stdout",
     "output_type": "stream",
     "text": [
      "1.1010236849202595\n",
      "[array([[15662.09260276, 12584.21401129,   556.23305632],\n",
      "       [ 8988.28341608, 14894.42948998,     0.        ],\n",
      "       [ 9526.58124322, 15044.73420337,   193.2194049 ]]), array([[ 0.74081396,  0.49884142, 11.05972315],\n",
      "       [ 0.80872382,  0.83760546,  0.        ]]), array([[0.        , 0.80629132, 1.08818613],\n",
      "       [1.04173683, 0.        , 0.        ]])]\n",
      "0.3051047525407385\n",
      "[array([[14495.48138099,  1344.07513256, 10686.53607437],\n",
      "       [14440.25495165,     0.        ,  8585.13803643],\n",
      "       [ 5817.21460626,  1195.54557485,  9864.81752175]]), array([[0.94499894, 0.        , 1.88762579],\n",
      "       [0.30225456, 8.5077478 , 2.01641285]]), array([[0.        , 0.        , 0.48234794],\n",
      "       [0.82577357, 0.89961888, 0.        ]])]\n",
      "0.30510505968415463\n",
      "[array([[39883.25531396, 14087.35238726, 27935.43611174],\n",
      "       [ 2414.92624591, 11317.22539777, 28460.82202871],\n",
      "       [32632.70730546, 13004.14013841,  9501.70785521]]), array([[0.        , 0.65997052, 0.5526391 ],\n",
      "       [0.36547538, 0.70499845, 0.10368355]]), array([[0.        , 1.04654814, 0.        ],\n",
      "       [0.73664484, 0.12768709, 0.65580469]])]\n",
      "0.4535692629239956\n",
      "[array([[15112.1454426 , 17120.33917327,     0.        ],\n",
      "       [ 3917.2793705 , 12945.46615006,  3478.91561507],\n",
      "       [11523.42000434,  9500.28158503,  1628.60441633]]), array([[0.        , 1.04693634, 0.        ],\n",
      "       [0.88397654, 0.        , 0.72007268]]), array([[0.6361761 , 0.62132477, 3.13682324],\n",
      "       [1.04087265, 0.66341469, 0.        ]])]\n",
      "0.3051028388728498\n",
      "[array([[15012.08172479, 11457.54959047, 10620.12895585],\n",
      "       [   84.95533959,  9204.52156423, 11656.2222901 ],\n",
      "       [10582.32906364, 10576.53224325,  1349.17121376]]), array([[0.        , 0.71239553, 2.02751697],\n",
      "       [0.7475649 , 0.76100078, 0.05120392]]), array([[0.        , 1.19206674, 0.        ],\n",
      "       [0.85139519, 0.47747559, 0.3443305 ]])]\n",
      "0.3050986254478706\n",
      "[array([[101348.53829432,  31262.00339692,   3675.91099372],\n",
      "       [ 81418.5432806 ,   1394.08980659,   6676.0126893 ],\n",
      "       [ 93554.95479693,  27119.07233456,      0.        ]]), array([[0.55324173, 0.43408997, 1.40487245],\n",
      "       [0.5909869 , 1.01355741, 0.38940838]]), array([[0.1735335 , 0.        , 0.        ],\n",
      "       [0.        , 0.38570487, 1.17664459]])]\n",
      "0.30510333479369756\n",
      "[array([[ 21755.71845481, 136662.26155074,  16773.94435171],\n",
      "       [ 21672.85906263, 109788.76281542,      0.        ],\n",
      "       [  8730.83689302, 126153.71851754,  14920.26812716]]), array([[0.64161034, 0.07437479, 0.        ],\n",
      "       [0.20521622, 0.07944913, 1.04309313]]), array([[0.        , 0.95728118, 0.        ],\n",
      "       [0.81036357, 0.        , 0.58794856]])]\n",
      "0.931204003780057\n",
      "[array([[13007.59879536, 36446.95426754,  6373.42896899],\n",
      "       [14222.65665731, 21600.03099543,     0.        ],\n",
      "       [ 3597.25324333, 33481.44762366,  6322.03436051]]), array([[0.71150339, 0.28317949, 0.68837799],\n",
      "       [0.        , 1.51349355, 0.        ]]), array([[0.47312514, 0.19649772, 1.21894351],\n",
      "       [0.98482847, 0.21291059, 0.        ]])]\n",
      "0.4826724166104911\n",
      "[array([[28889.27581829,     0.        ,     0.        ],\n",
      "       [    0.        , 11360.51866812, 29341.64601699],\n",
      "       [12598.2201578 ,     0.        , 19670.70513371]]), array([[0.70602136, 0.97667515, 1.49199138],\n",
      "       [0.74834346, 0.        , 3.09957765]]), array([[0.479411  , 0.11620669, 0.10736011],\n",
      "       [0.6014192 , 0.82991563, 0.04706101]])]\n",
      "0.3051017323599864\n",
      "[array([[26481.07534689, 14433.50306302,  9476.88073472],\n",
      "       [21273.74288209, 15366.40247959,   164.12907314],\n",
      "       [24444.79766263,  3119.5487849 ,  7176.27743104]]), array([[0.76885206, 0.45424161, 0.        ],\n",
      "       [0.82130828, 0.04548091, 0.34956798]]), array([[0.47789878, 0.        , 0.        ],\n",
      "       [0.14552627, 1.27338225, 2.98967912]])]\n"
     ]
    },
    {
     "data": {
      "text/plain": [
       "False"
      ]
     },
     "execution_count": 218,
     "metadata": {},
     "output_type": "execute_result"
    }
   ],
   "source": [
    "check_rank(tens, 3, p = True)"
   ]
  },
  {
   "cell_type": "code",
   "execution_count": null,
   "id": "cloudy-senate",
   "metadata": {},
   "outputs": [],
   "source": []
  }
 ],
 "metadata": {
  "kernelspec": {
   "display_name": "Python 3 (ipykernel)",
   "language": "python",
   "name": "python3"
  },
  "language_info": {
   "codemirror_mode": {
    "name": "ipython",
    "version": 3
   },
   "file_extension": ".py",
   "mimetype": "text/x-python",
   "name": "python",
   "nbconvert_exporter": "python",
   "pygments_lexer": "ipython3",
   "version": "3.9.5"
  }
 },
 "nbformat": 4,
 "nbformat_minor": 5
}
