{
 "cells": [
  {
   "cell_type": "code",
   "execution_count": 11,
   "id": "intimate-chaos",
   "metadata": {},
   "outputs": [],
   "source": [
    "import tensorly as tl\n",
    "import numpy as np\n",
    "from numpy import linalg as la\n",
    "from sympy import *\n",
    "from sympy.solvers.inequalities import *\n",
    "from sympy.polys import Poly\n",
    "from sympy.abc import x\n",
    "from sympy.solvers.solveset import linsolve"
   ]
  },
  {
   "cell_type": "code",
   "execution_count": 13,
   "id": "infrared-place",
   "metadata": {},
   "outputs": [],
   "source": [
    "#generates random rank 3 tensors\n",
    "def rank_tree(size = 100):\n",
    "    return (low_tensor(size) + low_tensor(size) + low_tensor(size)) \n",
    "\n",
    "# random tensor of some dim\n",
    "def rand_tensor(size = 100000):\n",
    "    return tl.tensor(np.random.randint(1, size, size=(3,2,2)))*1.0\n",
    "\n",
    "# generates rank 1 tensors\n",
    "def low_tensor(size = 100):\n",
    "    a = np.random.randint(1, size, size=2) \n",
    "    b = np.random.randint(1, size, size=3)\n",
    "    c = np.random.randint(1, size, size=3)\n",
    "    tens = tl.tensor(np.kron(np.kron(a, b), c).reshape(2, 3, 3)) * 1.0\n",
    "    return tens\n"
   ]
  },
  {
   "cell_type": "code",
   "execution_count": 166,
   "id": "da93ee77-509f-4fc2-bb1e-952d6ade29ab",
   "metadata": {},
   "outputs": [],
   "source": [
    "s1 = solveset(a2 >= 0, b, S.Reals)\n",
    "s2 = solveset(res1[0] >= 0, b, S.Reals)\n",
    "s3 = solveset(res1[1] >=0,b,S.Reals)\n",
    "s4 = solveset(res1[2] >=0,b,S.Reals)\n",
    "s5 = solveset(b >=0,b,S.Reals)"
   ]
  },
  {
   "cell_type": "code",
   "execution_count": 167,
   "id": "6bc55418-5d32-45e5-9745-2a530cbc5160",
   "metadata": {},
   "outputs": [
    {
     "data": {
      "text/latex": [
       "$\\displaystyle \\emptyset$"
      ],
      "text/plain": [
       "EmptySet"
      ]
     },
     "execution_count": 167,
     "metadata": {},
     "output_type": "execute_result"
    }
   ],
   "source": [
    "sol = Intersection(s1,s2,s3,s4,s5)\n",
    "sol"
   ]
  },
  {
   "cell_type": "code",
   "execution_count": 76,
   "id": "12480c78-390e-4340-9b86-9fc96371288c",
   "metadata": {},
   "outputs": [
    {
     "data": {
      "text/plain": [
       "array([[[ 54344.,  61686.,  48262.],\n",
       "        [ 90440.,  95526.,  73078.],\n",
       "        [ 41232.,  45160.,  37912.]],\n",
       "\n",
       "       [[ 67940., 117852.,  45976.],\n",
       "        [ 71780., 121452.,  48616.],\n",
       "        [ 36650.,  58475.,  28725.]]])"
      ]
     },
     "execution_count": 76,
     "metadata": {},
     "output_type": "execute_result"
    }
   ],
   "source": [
    "tens = rank_tree(size = 50)\n",
    "tens"
   ]
  },
  {
   "cell_type": "code",
   "execution_count": 77,
   "id": "476b241a-d1f6-4f27-b5b6-93d783953170",
   "metadata": {},
   "outputs": [
    {
     "data": {
      "text/plain": [
       "[(9.39999999999999,\n",
       "  1,\n",
       "  [Matrix([\n",
       "   [0.367572937554749],\n",
       "   [0.886499437632042],\n",
       "   [0.281085187541867]])]),\n",
       " (0.116279069767447,\n",
       "  1,\n",
       "  [Matrix([\n",
       "   [-0.729292893341215],\n",
       "   [-0.729292893341215],\n",
       "   [-0.303872038892172]])]),\n",
       " (1.31034482758621,\n",
       "  1,\n",
       "  [Matrix([\n",
       "   [-0.671903016746567],\n",
       "   [-0.671903016746567],\n",
       "   [-0.559919180622138]])])]"
      ]
     },
     "execution_count": 77,
     "metadata": {},
     "output_type": "execute_result"
    }
   ],
   "source": [
    "A = Matrix(tens[0]) @ Matrix(tens[1]).inv()\n",
    "eig = A.eigenvects()\n",
    "eig"
   ]
  },
  {
   "cell_type": "code",
   "execution_count": 78,
   "id": "92d57621-6321-4745-8486-e7746072e476",
   "metadata": {},
   "outputs": [
    {
     "data": {
      "text/plain": [
       "[(9.40000000000000,\n",
       "  1,\n",
       "  [Matrix([\n",
       "   [0.652111316751378],\n",
       "   [0.611354359454417],\n",
       "   [0.448326530266572]])]),\n",
       " (0.116279069767441,\n",
       "  1,\n",
       "  [Matrix([\n",
       "   [0.478643622335644],\n",
       "   [0.957287244671284],\n",
       "   [0.228916515030094]])]),\n",
       " (1.31034482758619,\n",
       "  1,\n",
       "  [Matrix([\n",
       "   [-0.527983165793798],\n",
       "   [-0.605627748998767],\n",
       "   [-0.636685582280757]])])]"
      ]
     },
     "execution_count": 78,
     "metadata": {},
     "output_type": "execute_result"
    }
   ],
   "source": [
    "B = Matrix(tens[0]).T @ Matrix(tens[1]).T.inv()\n",
    "eig1 = B.eigenvects()\n",
    "eig1"
   ]
  },
  {
   "cell_type": "code",
   "execution_count": 79,
   "id": "074bb511-8e93-4a41-9629-a61f39d1a401",
   "metadata": {},
   "outputs": [],
   "source": [
    "a1 = eig[0][2]\n",
    "b1 = eig[1][2]\n",
    "c1 = eig[2][2]\n",
    "\n",
    "a2 = eig1[0][2]\n",
    "b2 = eig1[1][2]\n",
    "c2 = eig1[2][2]"
   ]
  },
  {
   "cell_type": "code",
   "execution_count": 80,
   "id": "bebeef52-b750-49a5-8500-026aefaba222",
   "metadata": {},
   "outputs": [
    {
     "data": {
      "text/latex": [
       "$\\displaystyle 1.0$"
      ],
      "text/plain": [
       "1.00000000000000"
      ]
     },
     "execution_count": 80,
     "metadata": {},
     "output_type": "execute_result"
    }
   ],
   "source": [
    "sum(T1) / sum(abs(T1))"
   ]
  },
  {
   "cell_type": "code",
   "execution_count": 93,
   "id": "a6d24024-d9f9-45bf-b8b4-7bc9514714f8",
   "metadata": {},
   "outputs": [
    {
     "name": "stdout",
     "output_type": "stream",
     "text": [
      "True\n"
     ]
    },
    {
     "data": {
      "text/latex": [
       "$\\displaystyle \\left[\\begin{matrix}0.175936442303759 & 0.385054370617213 & 0.438155560979827\\\\0.351872884607516 & 0.441680013355038 & 0.410770838418588\\\\0.0841435158844076 & 0.46433027045017 & 0.301231948173631\\\\0.424317302026712 & 0.385054370617213 & 0.438155560979827\\\\0.84863460405342 & 0.441680013355038 & 0.410770838418588\\\\0.202934361838865 & 0.46433027045017 & 0.301231948173631\\\\0.134539632349933 & 0.160439321090505 & 0.365129634149855\\\\0.269079264699865 & 0.184033338897932 & 0.342309032015489\\\\0.0643450415586646 & 0.193470946020904 & 0.251026623478025\\end{matrix}\\right]$"
      ],
      "text/plain": [
       "Matrix([\n",
       "[ 0.175936442303759, 0.385054370617213, 0.438155560979827],\n",
       "[ 0.351872884607516, 0.441680013355038, 0.410770838418588],\n",
       "[0.0841435158844076,  0.46433027045017, 0.301231948173631],\n",
       "[ 0.424317302026712, 0.385054370617213, 0.438155560979827],\n",
       "[  0.84863460405342, 0.441680013355038, 0.410770838418588],\n",
       "[ 0.202934361838865,  0.46433027045017, 0.301231948173631],\n",
       "[ 0.134539632349933, 0.160439321090505, 0.365129634149855],\n",
       "[ 0.269079264699865, 0.184033338897932, 0.342309032015489],\n",
       "[0.0643450415586646, 0.193470946020904, 0.251026623478025]])"
      ]
     },
     "execution_count": 93,
     "metadata": {},
     "output_type": "execute_result"
    }
   ],
   "source": [
    "A1 = np.kron(a1,b2)\n",
    "B1 = np.kron(b1,c2)\n",
    "C1 = np.kron(c1,a2)\n",
    "T1 = Matrix(A1.reshape(9))\n",
    "T2 = Matrix(B1.reshape(9))\n",
    "T3 = Matrix(C1.reshape(9))\n",
    "pos1 = abs(sum(T1) / sum(abs(T1)))\n",
    "pos2 = abs(sum(T2) / sum(abs(T2)))\n",
    "pos3 = abs(sum(T3) / sum(abs(T3)))\n",
    "print(pos1 + pos2 + pos3==3)\n",
    "M = abs(Matrix([[T1,T2,T3]]))\n",
    "M"
   ]
  },
  {
   "cell_type": "code",
   "execution_count": 92,
   "id": "38fdbd77-9d4b-403a-81e8-94bf37110e39",
   "metadata": {},
   "outputs": [
    {
     "data": {
      "text/plain": [
       "array([[[0.175936442303759],\n",
       "        [0.351872884607516],\n",
       "        [0.0841435158844076],\n",
       "        [0.424317302026712],\n",
       "        [0.848634604053420],\n",
       "        [0.202934361838865],\n",
       "        [0.134539632349933],\n",
       "        [0.269079264699865],\n",
       "        [0.0643450415586646]]], dtype=object)"
      ]
     },
     "execution_count": 92,
     "metadata": {},
     "output_type": "execute_result"
    }
   ],
   "source": [
    "A1"
   ]
  },
  {
   "cell_type": "code",
   "execution_count": 94,
   "id": "dc5c5196-300d-4560-afff-1a346c9614d9",
   "metadata": {},
   "outputs": [
    {
     "data": {
      "text/plain": [
       "array([269824.712710963, 46092.1920495300, 6207.84087258278], dtype=object)"
      ]
     },
     "execution_count": 94,
     "metadata": {},
     "output_type": "execute_result"
    }
   ],
   "source": [
    "R1 = tens[0].reshape(9)\n",
    "R2 = tens[1].reshape(9)\n",
    "sol1 = M[0:3,0:3].inv() @ R1[0:3]\n",
    "sol2 = M[0:3,0:3].inv() @ R2[0:3]\n",
    "a3 = [sol1[0],sol2[0]]\n",
    "b3 = [sol1[1],sol2[1]]\n",
    "c3 = [sol1[2],sol2[2]]\n",
    "sol2"
   ]
  },
  {
   "cell_type": "code",
   "execution_count": 98,
   "id": "ac79166c-b0ef-4cc5-b015-c9a4e71f2b44",
   "metadata": {},
   "outputs": [
    {
     "data": {
      "text/plain": [
       "array([[[54344.0000000000, 67940.0000000000, 61686.0000000000],\n",
       "        [117852.000000000, 48262.0000000000, 45976.0000000000],\n",
       "        [62136.9411764708, 134959.294117648, 77271.8823529415]],\n",
       "\n",
       "       [[251890.588235295, 51989.0588235296, 78028.7058823537],\n",
       "        [35217.8431372549, 45963.7843137256, 39532.3529411765],\n",
       "        [83211.7352941178, 28352.1568627451, 27837.7156862747]]],\n",
       "      dtype=object)"
      ]
     },
     "execution_count": 98,
     "metadata": {},
     "output_type": "execute_result"
    }
   ],
   "source": [
    "m1 = np.kron(a3,abs(A1)).reshape(2,3,3)\n",
    "m2 = np.kron(b3,abs(B1)).reshape(2,3,3)\n",
    "m3 = np.kron(c3,abs(C1)).reshape(2,3,3)\n",
    "m1+m2+m3"
   ]
  },
  {
   "cell_type": "code",
   "execution_count": 101,
   "id": "86d18fbe-e328-4685-a247-e398e1216b6f",
   "metadata": {},
   "outputs": [
    {
     "data": {
      "text/plain": [
       "array([[54344.0000000000, 61686.0000000000, 48262.0000000000],\n",
       "       [62136.9411764708, 77271.8823529415, 51989.0588235296],\n",
       "       [35217.8431372549, 39532.3529411765, 28352.1568627451]],\n",
       "      dtype=object)"
      ]
     },
     "execution_count": 101,
     "metadata": {},
     "output_type": "execute_result"
    }
   ],
   "source": [
    "(sol1[0] * abs(A1) + sol1[1] * abs(B1) + sol1[2] * abs(C1)).reshape(3,3)"
   ]
  },
  {
   "cell_type": "code",
   "execution_count": 97,
   "id": "d9e2dbcc-ccf5-411e-ab43-e1152b54d0c6",
   "metadata": {},
   "outputs": [
    {
     "data": {
      "text/plain": [
       "array([[[ 54344.,  61686.,  48262.],\n",
       "        [ 90440.,  95526.,  73078.],\n",
       "        [ 41232.,  45160.,  37912.]],\n",
       "\n",
       "       [[ 67940., 117852.,  45976.],\n",
       "        [ 71780., 121452.,  48616.],\n",
       "        [ 36650.,  58475.,  28725.]]])"
      ]
     },
     "execution_count": 97,
     "metadata": {},
     "output_type": "execute_result"
    }
   ],
   "source": [
    "tens"
   ]
  },
  {
   "cell_type": "code",
   "execution_count": 536,
   "id": "88773dbf-2feb-4af1-949d-adf8e656bbd9",
   "metadata": {},
   "outputs": [
    {
     "data": {
      "text/plain": [
       "[1.5687735388356 + 0.e-22*I,\n",
       " 2.1923909864982 + 0.e-23*I,\n",
       " 2.39910172602749 - 0.e-23*I]"
      ]
     },
     "execution_count": 536,
     "metadata": {},
     "output_type": "execute_result"
    }
   ],
   "source": [
    "res1[1] = fraction(simplify(res1[1]))[0] * fraction(simplify(res1[1]))[1]\n",
    "res1[1] = expand(res1[1])\n",
    "solve(res1[1],b)"
   ]
  },
  {
   "cell_type": "code",
   "execution_count": 537,
   "id": "1dc82e0c-c5c4-44a0-b99f-80dd191ce8eb",
   "metadata": {},
   "outputs": [
    {
     "data": {
      "text/plain": [
       "[]"
      ]
     },
     "execution_count": 537,
     "metadata": {},
     "output_type": "execute_result"
    }
   ],
   "source": [
    "solve(res1[2],b)"
   ]
  },
  {
   "cell_type": "code",
   "execution_count": 538,
   "id": "24467d02-d1ba-4767-ac53-a375ac6fc330",
   "metadata": {},
   "outputs": [
    {
     "name": "stdout",
     "output_type": "stream",
     "text": [
      "1.58951841958048e+29\n"
     ]
    },
    {
     "data": {
      "text/plain": [
       "[1.35927742265699, 2.19239098649781]"
      ]
     },
     "execution_count": 538,
     "metadata": {},
     "output_type": "execute_result"
    }
   ],
   "source": [
    "a2 = fraction(simplify(a1))[0] * fraction(simplify(a1))[1]\n",
    "print(LC(a2))\n",
    "solve(a2,b)"
   ]
  },
  {
   "cell_type": "code",
   "execution_count": 393,
   "id": "51bd0ebb-b1c2-49c0-a86d-6915799410e0",
   "metadata": {},
   "outputs": [
    {
     "data": {
      "text/latex": [
       "$\\displaystyle \\left[\\begin{matrix}20064.5114342207\\\\16074.895707293\\\\115.74843886333\\end{matrix}\\right]$"
      ],
      "text/plain": [
       "Matrix([\n",
       "[20064.5114342207],\n",
       "[ 16074.895707293],\n",
       "[ 115.74843886333]])"
      ]
     },
     "execution_count": 393,
     "metadata": {},
     "output_type": "execute_result"
    }
   ],
   "source": [
    "b1 = 2\n",
    "a3= a1.subs(b,b1)\n",
    "A1 = Matrix([a3 *b1,a3,b1,1])\n",
    "M1 = Matrix([[M,A1,Matrix(tens[2].reshape(4))]])\n",
    "M1_sub = M1[0:3,0:3]\n",
    "R = M1[0:3,3]\n",
    "M1_sub.inv() @ R"
   ]
  },
  {
   "cell_type": "code",
   "execution_count": 285,
   "id": "ff365200-b05c-44d1-b8fc-08b523c134c6",
   "metadata": {},
   "outputs": [
    {
     "name": "stdout",
     "output_type": "stream",
     "text": [
      "False True [1, 1, 1, 1, 1, 1, 0, 0, 0, 0, 0]\n"
     ]
    },
    {
     "data": {
      "text/plain": [
       "array([[[ 66614.,  79482.],\n",
       "        [194482., 223170.]],\n",
       "\n",
       "       [[ 52986.,  64296.],\n",
       "        [149370., 176632.]],\n",
       "\n",
       "       [[ 91325., 106374.],\n",
       "        [194521., 205894.]]])"
      ]
     },
     "execution_count": 285,
     "metadata": {},
     "output_type": "execute_result"
    }
   ],
   "source": [
    "c1 = False\n",
    "c2 = False\n",
    "c3 = False\n",
    "tens = rand_tensor()\n",
    "while not (c2 ):\n",
    "    tens = rank_tree(size = 60)\n",
    "    sols = test(tens)\n",
    "    c1 = sols[7] == 1\n",
    "    c2 = check_r2(tl.tensor([tens[0],tens[1]]))\n",
    "print(c1,c2,test(tens))\n",
    "tens"
   ]
  },
  {
   "cell_type": "code",
   "execution_count": 286,
   "id": "a41e5e43-0e76-4881-bcf0-ef64f0215ad6",
   "metadata": {},
   "outputs": [
    {
     "name": "stdout",
     "output_type": "stream",
     "text": [
      "False\n"
     ]
    }
   ],
   "source": [
    "a,b = symbols('a,b')\n",
    "A1 = Matrix([a*b,a,b,1])\n",
    "A2 = Matrix([a,a,b,b])\n",
    "M = init_mat(tens)\n",
    "print(test_simple(tens,M,A2))"
   ]
  },
  {
   "cell_type": "code",
   "execution_count": null,
   "id": "48b4d6ff-fa38-4b52-9783-578fbc8602a2",
   "metadata": {},
   "outputs": [],
   "source": []
  }
 ],
 "metadata": {
  "kernelspec": {
   "display_name": "Python 3 (ipykernel)",
   "language": "python",
   "name": "python3"
  },
  "language_info": {
   "codemirror_mode": {
    "name": "ipython",
    "version": 3
   },
   "file_extension": ".py",
   "mimetype": "text/x-python",
   "name": "python",
   "nbconvert_exporter": "python",
   "pygments_lexer": "ipython3",
   "version": "3.9.1"
  }
 },
 "nbformat": 4,
 "nbformat_minor": 5
}
