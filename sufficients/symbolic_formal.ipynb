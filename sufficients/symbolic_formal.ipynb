{
 "cells": [
  {
   "cell_type": "code",
   "execution_count": 6,
   "id": "restricted-carter",
   "metadata": {},
   "outputs": [],
   "source": [
    "import tensorly as tl\n",
    "import numpy as np\n",
    "from numpy import linalg as la\n",
    "from sympy import *\n",
    "x,y,z_1,z_2,z_3 = symbols('x y z_1 z_2 z_3')\n",
    "x,y,z1,z2,z3 ,b= symbols(\"x,y,z1,z2,z3,b\")\n",
    "a_11, a_12, a_21,a_22,b_11,b_12,b_21,b_22,a,b = symbols('a_11, a_12, a_21,a_22,b_11,b_12,b_21,b_22,a,b')\n",
    "p_112, p_102, p_002, p_012 = symbols('p_112 p_102 p_002 p_012')\n",
    "p_000, p_001, p_100, p_101, p_200, p_201, p_010, p_011, p_020, p_021, p_110, p_111, p_210, p_211, p_120, p_121, p_220, p_221 = symbols('p_000 p_001 p_100 p_101 p_200 p_201 p_010 p_011 p_020 p_021 p_110 p_111 p_210 p_211 p_120 p_121 p_220 p_221')"
   ]
  },
  {
   "cell_type": "code",
   "execution_count": 7,
   "id": "opposed-campaign",
   "metadata": {},
   "outputs": [
    {
     "data": {
      "text/latex": [
       "$\\displaystyle \\left[\\begin{matrix}\\left[\\begin{matrix}p_{000} & p_{010}\\\\p_{100} & p_{110}\\end{matrix}\\right] & \\left[\\begin{matrix}p_{001} & p_{011}\\\\p_{101} & p_{111}\\end{matrix}\\right] & \\left[\\begin{matrix}p_{002} & p_{012}\\\\p_{102} & p_{112}\\end{matrix}\\right]\\end{matrix}\\right]$"
      ],
      "text/plain": [
       "[[[p_000, p_010], [p_100, p_110]], [[p_001, p_011], [p_101, p_111]], [[p_002, p_012], [p_102, p_112]]]"
      ]
     },
     "execution_count": 7,
     "metadata": {},
     "output_type": "execute_result"
    }
   ],
   "source": [
    "tens = Array([[[p_000, p_010],[p_100, p_110]],\n",
    "              [[p_001, p_011],[p_101, p_111]],\n",
    "              [[p_002, p_012],[p_102, p_112]]])\n",
    "tens"
   ]
  },
  {
   "cell_type": "code",
   "execution_count": 9,
   "id": "marine-blanket",
   "metadata": {},
   "outputs": [
    {
     "data": {
      "text/latex": [
       "$\\displaystyle \\left[\\begin{matrix}a_{11} a_{21} & b_{11} b_{21} & a b & p_{002}\\\\a_{12} a_{21} & b_{12} b_{21} & b & p_{102}\\\\a_{11} a_{22} & b_{11} b_{22} & a & p_{012}\\\\a_{12} a_{22} & b_{12} b_{22} & 1 & p_{112}\\end{matrix}\\right]$"
      ],
      "text/plain": [
       "Matrix([\n",
       "[a_11*a_21, b_11*b_21, a*b, p_002],\n",
       "[a_12*a_21, b_12*b_21,   b, p_102],\n",
       "[a_11*a_22, b_11*b_22,   a, p_012],\n",
       "[a_12*a_22, b_12*b_22,   1, p_112]])"
      ]
     },
     "execution_count": 9,
     "metadata": {},
     "output_type": "execute_result"
    }
   ],
   "source": [
    "M = Matrix([[a_11*a_21,b_11*b_21,a*b,p_002],\n",
    "           [a_12*a_21,b_12*b_21,b,p_102],\n",
    "           [a_11*a_22,b_11*b_22,a,p_012],\n",
    "           [a_12*a_22,b_12*b_22,1,p_112]])\n",
    "M"
   ]
  },
  {
   "cell_type": "code",
   "execution_count": 53,
   "id": "4b141a3e-41a5-4884-b62f-881210aa57e8",
   "metadata": {},
   "outputs": [
    {
     "data": {
      "text/latex": [
       "$\\displaystyle \\left(a_{11} a_{21} b_{11} b_{22} p_{102} - a_{11} a_{21} b_{12} b_{21} p_{012} - a_{11} a_{22} b_{11} b_{21} p_{102} + a_{11} a_{22} b_{12} b_{21} p_{002} + a_{12} a_{21} b_{11} b_{21} p_{012} - a_{12} a_{21} b_{11} b_{22} p_{002} - b \\left(a_{11} a_{21} b_{11} b_{22} p_{112} - a_{11} a_{21} b_{12} b_{22} p_{012} - a_{11} a_{22} b_{11} b_{21} p_{112} + a_{11} a_{22} b_{12} b_{22} p_{002} + a_{12} a_{22} b_{11} b_{21} p_{012} - a_{12} a_{22} b_{11} b_{22} p_{002}\\right)\\right) \\left(- a_{11} a_{21} b_{12} b_{21} p_{112} + a_{11} a_{21} b_{12} b_{22} p_{102} + a_{12} a_{21} b_{11} b_{21} p_{112} - a_{12} a_{21} b_{12} b_{22} p_{002} - a_{12} a_{22} b_{11} b_{21} p_{102} + a_{12} a_{22} b_{12} b_{21} p_{002} + b \\left(a_{11} a_{22} b_{12} b_{21} p_{112} - a_{11} a_{22} b_{12} b_{22} p_{102} - a_{12} a_{21} b_{11} b_{22} p_{112} + a_{12} a_{21} b_{12} b_{22} p_{012} + a_{12} a_{22} b_{11} b_{22} p_{102} - a_{12} a_{22} b_{12} b_{21} p_{012}\\right)\\right)$"
      ],
      "text/plain": [
       "(a_11*a_21*b_11*b_22*p_102 - a_11*a_21*b_12*b_21*p_012 - a_11*a_22*b_11*b_21*p_102 + a_11*a_22*b_12*b_21*p_002 + a_12*a_21*b_11*b_21*p_012 - a_12*a_21*b_11*b_22*p_002 - b*(a_11*a_21*b_11*b_22*p_112 - a_11*a_21*b_12*b_22*p_012 - a_11*a_22*b_11*b_21*p_112 + a_11*a_22*b_12*b_22*p_002 + a_12*a_22*b_11*b_21*p_012 - a_12*a_22*b_11*b_22*p_002))*(-a_11*a_21*b_12*b_21*p_112 + a_11*a_21*b_12*b_22*p_102 + a_12*a_21*b_11*b_21*p_112 - a_12*a_21*b_12*b_22*p_002 - a_12*a_22*b_11*b_21*p_102 + a_12*a_22*b_12*b_21*p_002 + b*(a_11*a_22*b_12*b_21*p_112 - a_11*a_22*b_12*b_22*p_102 - a_12*a_21*b_11*b_22*p_112 + a_12*a_21*b_12*b_22*p_012 + a_12*a_22*b_11*b_22*p_102 - a_12*a_22*b_12*b_21*p_012))"
      ]
     },
     "execution_count": 53,
     "metadata": {},
     "output_type": "execute_result"
    }
   ],
   "source": [
    "a1 = factor(solve(M.det(),a)[0], b)\n",
    "a1 = fraction(a1)[0] * fraction(a1)[1]\n",
    "a2 = factor(solve(M.det(),a)[0], b)\n",
    "a1"
   ]
  },
  {
   "cell_type": "code",
   "execution_count": 55,
   "id": "73381a38-2ddf-420a-b688-d27dc32671b1",
   "metadata": {},
   "outputs": [
    {
     "data": {
      "text/latex": [
       "$\\displaystyle \\left[\\begin{matrix}a_{11} a_{21} & b_{11} b_{21} & a b\\\\a_{12} a_{21} & b_{12} b_{21} & b\\\\a_{11} a_{22} & b_{11} b_{22} & a\\end{matrix}\\right]$"
      ],
      "text/plain": [
       "Matrix([\n",
       "[a_11*a_21, b_11*b_21, a*b],\n",
       "[a_12*a_21, b_12*b_21,   b],\n",
       "[a_11*a_22, b_11*b_22,   a]])"
      ]
     },
     "execution_count": 55,
     "metadata": {},
     "output_type": "execute_result"
    }
   ],
   "source": [
    "M_sub = M[0:3,0:3]\n",
    "M_sub"
   ]
  },
  {
   "cell_type": "code",
   "execution_count": 57,
   "id": "6cb7588f-0d7f-4b8b-9b62-c5f12f7d3df3",
   "metadata": {},
   "outputs": [
    {
     "data": {
      "text/latex": [
       "$\\displaystyle \\left[\\begin{matrix}p_{002}\\\\p_{102}\\\\p_{012}\\end{matrix}\\right]$"
      ],
      "text/plain": [
       "Matrix([\n",
       "[p_002],\n",
       "[p_102],\n",
       "[p_012]])"
      ]
     },
     "execution_count": 57,
     "metadata": {},
     "output_type": "execute_result"
    }
   ],
   "source": [
    "R = M[0:3,3]\n",
    "R"
   ]
  },
  {
   "cell_type": "code",
   "execution_count": 58,
   "id": "0044e0b9-cde2-40de-af60-3d330e4f67cf",
   "metadata": {},
   "outputs": [
    {
     "data": {
      "text/latex": [
       "$\\displaystyle \\left[\\begin{matrix}\\left(p_{002} \\left(a b_{12} b_{21} - b b_{11} b_{22}\\right) + p_{012} \\left(- a b b_{12} b_{21} + b b_{11} b_{21}\\right) + p_{102} \\left(a b b_{11} b_{22} - a b_{11} b_{21}\\right)\\right) \\left(a a_{11} a_{21} b_{12} b_{21} - a a_{11} a_{22} b b_{12} b_{21} + a a_{12} a_{21} b b_{11} b_{22} - a a_{12} a_{21} b_{11} b_{21} - a_{11} a_{21} b b_{11} b_{22} + a_{11} a_{22} b b_{11} b_{21}\\right)\\\\\\left(p_{002} \\left(- a a_{12} a_{21} + a_{11} a_{22} b\\right) + p_{012} \\left(a a_{12} a_{21} b - a_{11} a_{21} b\\right) + p_{102} \\left(a a_{11} a_{21} - a a_{11} a_{22} b\\right)\\right) \\left(a a_{11} a_{21} b_{12} b_{21} - a a_{11} a_{22} b b_{12} b_{21} + a a_{12} a_{21} b b_{11} b_{22} - a a_{12} a_{21} b_{11} b_{21} - a_{11} a_{21} b b_{11} b_{22} + a_{11} a_{22} b b_{11} b_{21}\\right)\\\\\\left(p_{002} \\left(- a_{11} a_{22} b_{12} b_{21} + a_{12} a_{21} b_{11} b_{22}\\right) + p_{012} \\left(a_{11} a_{21} b_{12} b_{21} - a_{12} a_{21} b_{11} b_{21}\\right) + p_{102} \\left(- a_{11} a_{21} b_{11} b_{22} + a_{11} a_{22} b_{11} b_{21}\\right)\\right) \\left(a a_{11} a_{21} b_{12} b_{21} - a a_{11} a_{22} b b_{12} b_{21} + a a_{12} a_{21} b b_{11} b_{22} - a a_{12} a_{21} b_{11} b_{21} - a_{11} a_{21} b b_{11} b_{22} + a_{11} a_{22} b b_{11} b_{21}\\right)\\end{matrix}\\right]$"
      ],
      "text/plain": [
       "Matrix([\n",
       "[                                             (p_002*(a*b_12*b_21 - b*b_11*b_22) + p_012*(-a*b*b_12*b_21 + b*b_11*b_21) + p_102*(a*b*b_11*b_22 - a*b_11*b_21))*(a*a_11*a_21*b_12*b_21 - a*a_11*a_22*b*b_12*b_21 + a*a_12*a_21*b*b_11*b_22 - a*a_12*a_21*b_11*b_21 - a_11*a_21*b*b_11*b_22 + a_11*a_22*b*b_11*b_21)],\n",
       "[                                             (p_002*(-a*a_12*a_21 + a_11*a_22*b) + p_012*(a*a_12*a_21*b - a_11*a_21*b) + p_102*(a*a_11*a_21 - a*a_11*a_22*b))*(a*a_11*a_21*b_12*b_21 - a*a_11*a_22*b*b_12*b_21 + a*a_12*a_21*b*b_11*b_22 - a*a_12*a_21*b_11*b_21 - a_11*a_21*b*b_11*b_22 + a_11*a_22*b*b_11*b_21)],\n",
       "[(p_002*(-a_11*a_22*b_12*b_21 + a_12*a_21*b_11*b_22) + p_012*(a_11*a_21*b_12*b_21 - a_12*a_21*b_11*b_21) + p_102*(-a_11*a_21*b_11*b_22 + a_11*a_22*b_11*b_21))*(a*a_11*a_21*b_12*b_21 - a*a_11*a_22*b*b_12*b_21 + a*a_12*a_21*b*b_11*b_22 - a*a_12*a_21*b_11*b_21 - a_11*a_21*b*b_11*b_22 + a_11*a_22*b*b_11*b_21)]])"
      ]
     },
     "execution_count": 58,
     "metadata": {},
     "output_type": "execute_result"
    }
   ],
   "source": [
    "A = M_sub.adjugate() * R * M_sub.det()\n",
    "A"
   ]
  },
  {
   "cell_type": "code",
   "execution_count": 59,
   "id": "e3b57f8a-84cd-4b5a-bfea-dabc78e60d97",
   "metadata": {},
   "outputs": [
    {
     "data": {
      "text/latex": [
       "$\\displaystyle \\left\\{b\\; \\middle|\\; b \\in \\mathbb{R} \\wedge \\left(p_{002} \\left(a b_{12} b_{21} - b b_{11} b_{22}\\right) + p_{012} \\left(- a b b_{12} b_{21} + b b_{11} b_{21}\\right) + p_{102} \\left(a b b_{11} b_{22} - a b_{11} b_{21}\\right)\\right) \\left(a a_{11} a_{21} b_{12} b_{21} - a a_{11} a_{22} b b_{12} b_{21} + a a_{12} a_{21} b b_{11} b_{22} - a a_{12} a_{21} b_{11} b_{21} - a_{11} a_{21} b b_{11} b_{22} + a_{11} a_{22} b b_{11} b_{21}\\right) \\geq 0 \\right\\}$"
      ],
      "text/plain": [
       "ConditionSet(b, (p_002*(a*b_12*b_21 - b*b_11*b_22) + p_012*(-a*b*b_12*b_21 + b*b_11*b_21) + p_102*(a*b*b_11*b_22 - a*b_11*b_21))*(a*a_11*a_21*b_12*b_21 - a*a_11*a_22*b*b_12*b_21 + a*a_12*a_21*b*b_11*b_22 - a*a_12*a_21*b_11*b_21 - a_11*a_21*b*b_11*b_22 + a_11*a_22*b*b_11*b_21) >= 0, Reals)"
      ]
     },
     "execution_count": 59,
     "metadata": {},
     "output_type": "execute_result"
    }
   ],
   "source": [
    "solveset((M_sub.adjugate() * R * M_sub.det())[0] >= 0, b, S.Reals)"
   ]
  },
  {
   "cell_type": "code",
   "execution_count": 60,
   "id": "98116d29-cc17-4ca3-8e33-ad47b947ff38",
   "metadata": {},
   "outputs": [
    {
     "data": {
      "text/latex": [
       "$\\displaystyle \\left\\{b\\; \\middle|\\; b \\in \\mathbb{R} \\wedge \\left(p_{002} \\left(- a a_{12} a_{21} + a_{11} a_{22} b\\right) + p_{012} \\left(a a_{12} a_{21} b - a_{11} a_{21} b\\right) + p_{102} \\left(a a_{11} a_{21} - a a_{11} a_{22} b\\right)\\right) \\left(a a_{11} a_{21} b_{12} b_{21} - a a_{11} a_{22} b b_{12} b_{21} + a a_{12} a_{21} b b_{11} b_{22} - a a_{12} a_{21} b_{11} b_{21} - a_{11} a_{21} b b_{11} b_{22} + a_{11} a_{22} b b_{11} b_{21}\\right) \\geq 0 \\right\\}$"
      ],
      "text/plain": [
       "ConditionSet(b, (p_002*(-a*a_12*a_21 + a_11*a_22*b) + p_012*(a*a_12*a_21*b - a_11*a_21*b) + p_102*(a*a_11*a_21 - a*a_11*a_22*b))*(a*a_11*a_21*b_12*b_21 - a*a_11*a_22*b*b_12*b_21 + a*a_12*a_21*b*b_11*b_22 - a*a_12*a_21*b_11*b_21 - a_11*a_21*b*b_11*b_22 + a_11*a_22*b*b_11*b_21) >= 0, Reals)"
      ]
     },
     "execution_count": 60,
     "metadata": {},
     "output_type": "execute_result"
    }
   ],
   "source": [
    "solveset((M_sub.adjugate() * R * M_sub.det())[1] >= 0, b, S.Reals)"
   ]
  },
  {
   "cell_type": "code",
   "execution_count": 61,
   "id": "43876163-9ca3-48f6-bec8-36d5a745c3d0",
   "metadata": {},
   "outputs": [
    {
     "data": {
      "text/latex": [
       "$\\displaystyle \\left\\{b\\; \\middle|\\; b \\in \\mathbb{R} \\wedge \\left(p_{002} \\left(- a_{11} a_{22} b_{12} b_{21} + a_{12} a_{21} b_{11} b_{22}\\right) + p_{012} \\left(a_{11} a_{21} b_{12} b_{21} - a_{12} a_{21} b_{11} b_{21}\\right) + p_{102} \\left(- a_{11} a_{21} b_{11} b_{22} + a_{11} a_{22} b_{11} b_{21}\\right)\\right) \\left(a a_{11} a_{21} b_{12} b_{21} - a a_{11} a_{22} b b_{12} b_{21} + a a_{12} a_{21} b b_{11} b_{22} - a a_{12} a_{21} b_{11} b_{21} - a_{11} a_{21} b b_{11} b_{22} + a_{11} a_{22} b b_{11} b_{21}\\right) \\geq 0 \\right\\}$"
      ],
      "text/plain": [
       "ConditionSet(b, (p_002*(-a_11*a_22*b_12*b_21 + a_12*a_21*b_11*b_22) + p_012*(a_11*a_21*b_12*b_21 - a_12*a_21*b_11*b_21) + p_102*(-a_11*a_21*b_11*b_22 + a_11*a_22*b_11*b_21))*(a*a_11*a_21*b_12*b_21 - a*a_11*a_22*b*b_12*b_21 + a*a_12*a_21*b*b_11*b_22 - a*a_12*a_21*b_11*b_21 - a_11*a_21*b*b_11*b_22 + a_11*a_22*b*b_11*b_21) >= 0, Reals)"
      ]
     },
     "execution_count": 61,
     "metadata": {},
     "output_type": "execute_result"
    }
   ],
   "source": [
    "solveset((M_sub.adjugate() * R * M_sub.det())[2] >= 0, b, S.Reals)"
   ]
  },
  {
   "cell_type": "code",
   "execution_count": 20,
   "id": "numerical-battlefield",
   "metadata": {},
   "outputs": [
    {
     "data": {
      "text/latex": [
       "$\\displaystyle p_{000} p_{011} p_{112} - p_{000} p_{012} p_{111} - p_{001} p_{010} p_{112} + p_{001} p_{012} p_{110} + p_{002} p_{010} p_{111} - p_{002} p_{011} p_{110}$"
      ],
      "text/plain": [
       "p_000*p_011*p_112 - p_000*p_012*p_111 - p_001*p_010*p_112 + p_001*p_012*p_110 + p_002*p_010*p_111 - p_002*p_011*p_110"
      ]
     },
     "execution_count": 20,
     "metadata": {},
     "output_type": "execute_result"
    }
   ],
   "source": [
    "M_b = Matrix([[Matrix(tens[:,0,0]), Matrix(tens[:,0,1]), Matrix(tens[:,1,1])]]).transpose()\n",
    "M_b.det()"
   ]
  },
  {
   "cell_type": "code",
   "execution_count": 21,
   "id": "interior-testimony",
   "metadata": {},
   "outputs": [
    {
     "data": {
      "text/latex": [
       "$\\displaystyle p_{000} p_{011} p_{102} - p_{000} p_{012} p_{101} - p_{001} p_{010} p_{102} + p_{001} p_{012} p_{100} + p_{002} p_{010} p_{101} - p_{002} p_{011} p_{100}$"
      ],
      "text/plain": [
       "p_000*p_011*p_102 - p_000*p_012*p_101 - p_001*p_010*p_102 + p_001*p_012*p_100 + p_002*p_010*p_101 - p_002*p_011*p_100"
      ]
     },
     "execution_count": 21,
     "metadata": {},
     "output_type": "execute_result"
    }
   ],
   "source": [
    "M_a = Matrix([[Matrix(tens[:,0,0]), Matrix(tens[:,0,1]), Matrix(tens[:,1,0])]]).transpose()\n",
    "M_a.det()"
   ]
  },
  {
   "cell_type": "code",
   "execution_count": 59,
   "id": "julian-berlin",
   "metadata": {},
   "outputs": [
    {
     "ename": "TypeError",
     "evalue": "immutable N-dim array",
     "output_type": "error",
     "traceback": [
      "\u001b[0;31m---------------------------------------------------------------------------\u001b[0m",
      "\u001b[0;31mTypeError\u001b[0m                                 Traceback (most recent call last)",
      "\u001b[0;32m/var/folders/9j/krll5bd51gg0w1t7kc1n3jdr0000gn/T/ipykernel_35951/1046590387.py\u001b[0m in \u001b[0;36m<module>\u001b[0;34m\u001b[0m\n\u001b[1;32m      1\u001b[0m \u001b[0ma\u001b[0m\u001b[0;34m,\u001b[0m \u001b[0mb\u001b[0m \u001b[0;34m=\u001b[0m \u001b[0msymbols\u001b[0m\u001b[0;34m(\u001b[0m\u001b[0;34m\"a b\"\u001b[0m\u001b[0;34m)\u001b[0m\u001b[0;34m\u001b[0m\u001b[0;34m\u001b[0m\u001b[0m\n\u001b[0;32m----> 2\u001b[0;31m \u001b[0mtens\u001b[0m \u001b[0;34m=\u001b[0m \u001b[0mmat_inv\u001b[0m\u001b[0;34m(\u001b[0m\u001b[0mtens\u001b[0m\u001b[0;34m)\u001b[0m\u001b[0;34m\u001b[0m\u001b[0;34m\u001b[0m\u001b[0m\n\u001b[0m\u001b[1;32m      3\u001b[0m M = Matrix([[tens[0][0][0],0,a,0,0],[0,tens[0][0][1],b,0,0],\n\u001b[1;32m      4\u001b[0m             \u001b[0;34m[\u001b[0m\u001b[0mtens\u001b[0m\u001b[0;34m[\u001b[0m\u001b[0;36m1\u001b[0m\u001b[0;34m]\u001b[0m\u001b[0;34m[\u001b[0m\u001b[0;36m0\u001b[0m\u001b[0;34m]\u001b[0m\u001b[0;34m[\u001b[0m\u001b[0;36m0\u001b[0m\u001b[0;34m]\u001b[0m\u001b[0;34m,\u001b[0m\u001b[0;36m0\u001b[0m\u001b[0;34m,\u001b[0m\u001b[0;36m0\u001b[0m\u001b[0;34m,\u001b[0m\u001b[0ma\u001b[0m\u001b[0;34m,\u001b[0m\u001b[0;36m0\u001b[0m\u001b[0;34m]\u001b[0m\u001b[0;34m,\u001b[0m\u001b[0;34m[\u001b[0m\u001b[0;36m0\u001b[0m\u001b[0;34m,\u001b[0m\u001b[0mtens\u001b[0m\u001b[0;34m[\u001b[0m\u001b[0;36m1\u001b[0m\u001b[0;34m]\u001b[0m\u001b[0;34m[\u001b[0m\u001b[0;36m0\u001b[0m\u001b[0;34m]\u001b[0m\u001b[0;34m[\u001b[0m\u001b[0;36m1\u001b[0m\u001b[0;34m]\u001b[0m\u001b[0;34m,\u001b[0m\u001b[0;36m0\u001b[0m\u001b[0;34m,\u001b[0m\u001b[0mb\u001b[0m\u001b[0;34m,\u001b[0m\u001b[0;36m0\u001b[0m\u001b[0;34m]\u001b[0m\u001b[0;34m,\u001b[0m\u001b[0;34m\u001b[0m\u001b[0;34m\u001b[0m\u001b[0m\n\u001b[1;32m      5\u001b[0m             [tens[2][0][0],0,0,0,a],[0,tens[2][0][1],0,0,b]])\n",
      "\u001b[0;32m/var/folders/9j/krll5bd51gg0w1t7kc1n3jdr0000gn/T/ipykernel_35951/2019250357.py\u001b[0m in \u001b[0;36mmat_inv\u001b[0;34m(t)\u001b[0m\n\u001b[1;32m      4\u001b[0m     \u001b[0mM_2\u001b[0m \u001b[0;34m=\u001b[0m \u001b[0mMatrix\u001b[0m\u001b[0;34m(\u001b[0m\u001b[0;34m[\u001b[0m\u001b[0mMatrix\u001b[0m\u001b[0;34m(\u001b[0m\u001b[0mtens\u001b[0m\u001b[0;34m[\u001b[0m\u001b[0;36m1\u001b[0m\u001b[0;34m]\u001b[0m\u001b[0;34m[\u001b[0m\u001b[0;36m1\u001b[0m\u001b[0;34m]\u001b[0m\u001b[0;34m)\u001b[0m\u001b[0;34m.\u001b[0m\u001b[0mtranspose\u001b[0m\u001b[0;34m(\u001b[0m\u001b[0;34m)\u001b[0m\u001b[0;34m,\u001b[0m\u001b[0mMatrix\u001b[0m\u001b[0;34m(\u001b[0m\u001b[0mtens\u001b[0m\u001b[0;34m[\u001b[0m\u001b[0;36m1\u001b[0m\u001b[0;34m]\u001b[0m\u001b[0;34m[\u001b[0m\u001b[0;36m0\u001b[0m\u001b[0;34m]\u001b[0m\u001b[0;34m)\u001b[0m\u001b[0;34m.\u001b[0m\u001b[0mtranspose\u001b[0m\u001b[0;34m(\u001b[0m\u001b[0;34m)\u001b[0m\u001b[0;34m]\u001b[0m\u001b[0;34m)\u001b[0m\u001b[0;34m\u001b[0m\u001b[0;34m\u001b[0m\u001b[0m\n\u001b[1;32m      5\u001b[0m     \u001b[0mM_3\u001b[0m \u001b[0;34m=\u001b[0m \u001b[0mMatrix\u001b[0m\u001b[0;34m(\u001b[0m\u001b[0;34m[\u001b[0m\u001b[0mMatrix\u001b[0m\u001b[0;34m(\u001b[0m\u001b[0mtens\u001b[0m\u001b[0;34m[\u001b[0m\u001b[0;36m2\u001b[0m\u001b[0;34m]\u001b[0m\u001b[0;34m[\u001b[0m\u001b[0;36m1\u001b[0m\u001b[0;34m]\u001b[0m\u001b[0;34m)\u001b[0m\u001b[0;34m.\u001b[0m\u001b[0mtranspose\u001b[0m\u001b[0;34m(\u001b[0m\u001b[0;34m)\u001b[0m\u001b[0;34m,\u001b[0m\u001b[0mMatrix\u001b[0m\u001b[0;34m(\u001b[0m\u001b[0mtens\u001b[0m\u001b[0;34m[\u001b[0m\u001b[0;36m2\u001b[0m\u001b[0;34m]\u001b[0m\u001b[0;34m[\u001b[0m\u001b[0;36m0\u001b[0m\u001b[0;34m]\u001b[0m\u001b[0;34m)\u001b[0m\u001b[0;34m.\u001b[0m\u001b[0mtranspose\u001b[0m\u001b[0;34m(\u001b[0m\u001b[0;34m)\u001b[0m\u001b[0;34m]\u001b[0m\u001b[0;34m)\u001b[0m\u001b[0;34m\u001b[0m\u001b[0;34m\u001b[0m\u001b[0m\n\u001b[0;32m----> 6\u001b[0;31m     \u001b[0mtens\u001b[0m\u001b[0;34m[\u001b[0m\u001b[0;36m0\u001b[0m\u001b[0;34m]\u001b[0m \u001b[0;34m=\u001b[0m \u001b[0mM_1\u001b[0m\u001b[0;34m\u001b[0m\u001b[0;34m\u001b[0m\u001b[0m\n\u001b[0m\u001b[1;32m      7\u001b[0m     \u001b[0mtens\u001b[0m\u001b[0;34m[\u001b[0m\u001b[0;36m1\u001b[0m\u001b[0;34m]\u001b[0m \u001b[0;34m=\u001b[0m \u001b[0mM_2\u001b[0m\u001b[0;34m\u001b[0m\u001b[0;34m\u001b[0m\u001b[0m\n\u001b[1;32m      8\u001b[0m     \u001b[0mtens\u001b[0m\u001b[0;34m[\u001b[0m\u001b[0;36m2\u001b[0m\u001b[0;34m]\u001b[0m \u001b[0;34m=\u001b[0m \u001b[0mM_3\u001b[0m\u001b[0;34m\u001b[0m\u001b[0;34m\u001b[0m\u001b[0m\n",
      "\u001b[0;32m/Library/Frameworks/Python.framework/Versions/3.9/lib/python3.9/site-packages/sympy/tensor/array/dense_ndim_array.py\u001b[0m in \u001b[0;36m__setitem__\u001b[0;34m(self, index, value)\u001b[0m\n\u001b[1;32m    145\u001b[0m \u001b[0;34m\u001b[0m\u001b[0m\n\u001b[1;32m    146\u001b[0m     \u001b[0;32mdef\u001b[0m \u001b[0m__setitem__\u001b[0m\u001b[0;34m(\u001b[0m\u001b[0mself\u001b[0m\u001b[0;34m,\u001b[0m \u001b[0mindex\u001b[0m\u001b[0;34m,\u001b[0m \u001b[0mvalue\u001b[0m\u001b[0;34m)\u001b[0m\u001b[0;34m:\u001b[0m\u001b[0;34m\u001b[0m\u001b[0;34m\u001b[0m\u001b[0m\n\u001b[0;32m--> 147\u001b[0;31m         \u001b[0;32mraise\u001b[0m \u001b[0mTypeError\u001b[0m\u001b[0;34m(\u001b[0m\u001b[0;34m'immutable N-dim array'\u001b[0m\u001b[0;34m)\u001b[0m\u001b[0;34m\u001b[0m\u001b[0;34m\u001b[0m\u001b[0m\n\u001b[0m\u001b[1;32m    148\u001b[0m \u001b[0;34m\u001b[0m\u001b[0m\n\u001b[1;32m    149\u001b[0m     \u001b[0;32mdef\u001b[0m \u001b[0mas_mutable\u001b[0m\u001b[0;34m(\u001b[0m\u001b[0mself\u001b[0m\u001b[0;34m)\u001b[0m\u001b[0;34m:\u001b[0m\u001b[0;34m\u001b[0m\u001b[0;34m\u001b[0m\u001b[0m\n",
      "\u001b[0;31mTypeError\u001b[0m: immutable N-dim array"
     ]
    }
   ],
   "source": [
    "a, b = symbols(\"a b\")\n",
    "tens = mat_inv(tens)\n",
    "M = Matrix([[tens[0][0][0],0,a,0,0],[0,tens[0][0][1],b,0,0],\n",
    "            [tens[1][0][0],0,0,a,0],[0,tens[1][0][1],0,b,0],\n",
    "            [tens[2][0][0],0,0,0,a],[0,tens[2][0][1],0,0,b]])\n",
    "M"
   ]
  },
  {
   "cell_type": "code",
   "execution_count": 23,
   "id": "composed-daughter",
   "metadata": {},
   "outputs": [
    {
     "data": {
      "text/latex": [
       "$\\displaystyle \\left[\\begin{matrix}p_{100}\\\\p_{110}\\\\p_{101}\\\\p_{111}\\\\p_{102}\\\\p_{112}\\end{matrix}\\right]$"
      ],
      "text/plain": [
       "Matrix([\n",
       "[p_100],\n",
       "[p_110],\n",
       "[p_101],\n",
       "[p_111],\n",
       "[p_102],\n",
       "[p_112]])"
      ]
     },
     "execution_count": 23,
     "metadata": {},
     "output_type": "execute_result"
    }
   ],
   "source": [
    "R = Matrix([Matrix(tens[0,1]),Matrix(tens[1,1]),Matrix(tens[2,1])])\n",
    "R"
   ]
  },
  {
   "cell_type": "code",
   "execution_count": 24,
   "id": "maritime-siemens",
   "metadata": {},
   "outputs": [
    {
     "data": {
      "text/latex": [
       "$\\displaystyle \\left[\\begin{matrix}a \\left(a p_{010} p_{111} - a p_{011} p_{110} - b p_{010} p_{101} + b p_{011} p_{100}\\right)\\\\b \\left(a p_{000} p_{111} - a p_{001} p_{110} - b p_{000} p_{101} + b p_{001} p_{100}\\right)\\\\- a p_{000} p_{010} p_{111} + a p_{000} p_{011} p_{110} + b p_{000} p_{010} p_{101} - b p_{001} p_{010} p_{100}\\\\- a p_{001} p_{010} p_{111} + a p_{001} p_{011} p_{110} + b p_{000} p_{011} p_{101} - b p_{001} p_{011} p_{100}\\\\- a p_{002} p_{010} p_{111} + a p_{002} p_{011} p_{110} + b p_{002} p_{010} p_{101} - b p_{002} p_{011} p_{100} + b p_{102} \\left(p_{000} p_{011} - p_{001} p_{010}\\right)\\end{matrix}\\right]$"
      ],
      "text/plain": [
       "Matrix([\n",
       "[                                                           a*(a*p_010*p_111 - a*p_011*p_110 - b*p_010*p_101 + b*p_011*p_100)],\n",
       "[                                                           b*(a*p_000*p_111 - a*p_001*p_110 - b*p_000*p_101 + b*p_001*p_100)],\n",
       "[                                      -a*p_000*p_010*p_111 + a*p_000*p_011*p_110 + b*p_000*p_010*p_101 - b*p_001*p_010*p_100],\n",
       "[                                      -a*p_001*p_010*p_111 + a*p_001*p_011*p_110 + b*p_000*p_011*p_101 - b*p_001*p_011*p_100],\n",
       "[-a*p_002*p_010*p_111 + a*p_002*p_011*p_110 + b*p_002*p_010*p_101 - b*p_002*p_011*p_100 + b*p_102*(p_000*p_011 - p_001*p_010)]])"
      ]
     },
     "execution_count": 24,
     "metadata": {},
     "output_type": "execute_result"
    }
   ],
   "source": [
    "M_sub = Matrix(M[0:5,0:5])\n",
    "L = simplify((M_sub.adjugate() @ Matrix(R[0:5]))/a)\n",
    "L"
   ]
  },
  {
   "cell_type": "code",
   "execution_count": 25,
   "id": "forward-diving",
   "metadata": {},
   "outputs": [
    {
     "data": {
      "text/latex": [
       "$\\displaystyle p_{000} p_{011} p_{101} \\left(p_{000} p_{011} p_{112} - p_{000} p_{012} p_{111} - p_{001} p_{010} p_{112} + p_{001} p_{012} p_{110} + p_{002} p_{010} p_{111} - p_{002} p_{011} p_{110}\\right) - p_{001} p_{010} p_{111} \\left(p_{000} p_{011} p_{102} - p_{000} p_{012} p_{101} - p_{001} p_{010} p_{102} + p_{001} p_{012} p_{100} + p_{002} p_{010} p_{101} - p_{002} p_{011} p_{100}\\right) - p_{001} p_{011} p_{100} \\left(p_{000} p_{011} p_{112} - p_{000} p_{012} p_{111} - p_{001} p_{010} p_{112} + p_{001} p_{012} p_{110} + p_{002} p_{010} p_{111} - p_{002} p_{011} p_{110}\\right) + p_{001} p_{011} p_{110} \\left(p_{000} p_{011} p_{102} - p_{000} p_{012} p_{101} - p_{001} p_{010} p_{102} + p_{001} p_{012} p_{100} + p_{002} p_{010} p_{101} - p_{002} p_{011} p_{100}\\right)$"
      ],
      "text/plain": [
       "p_000*p_011*p_101*(p_000*p_011*p_112 - p_000*p_012*p_111 - p_001*p_010*p_112 + p_001*p_012*p_110 + p_002*p_010*p_111 - p_002*p_011*p_110) - p_001*p_010*p_111*(p_000*p_011*p_102 - p_000*p_012*p_101 - p_001*p_010*p_102 + p_001*p_012*p_100 + p_002*p_010*p_101 - p_002*p_011*p_100) - p_001*p_011*p_100*(p_000*p_011*p_112 - p_000*p_012*p_111 - p_001*p_010*p_112 + p_001*p_012*p_110 + p_002*p_010*p_111 - p_002*p_011*p_110) + p_001*p_011*p_110*(p_000*p_011*p_102 - p_000*p_012*p_101 - p_001*p_010*p_102 + p_001*p_012*p_100 + p_002*p_010*p_101 - p_002*p_011*p_100)"
      ]
     },
     "execution_count": 25,
     "metadata": {},
     "output_type": "execute_result"
    }
   ],
   "source": [
    "# symbolic equation with explicit values for a,b\n",
    "sol = factor(L.subs([(a, M_a.det()), (b,M_b.det())]))\n",
    "sol[3]"
   ]
  },
  {
   "cell_type": "code",
   "execution_count": 15,
   "id": "durable-omega",
   "metadata": {},
   "outputs": [
    {
     "data": {
      "text/latex": [
       "$\\displaystyle \\left(- p_{000} p_{101} \\left(p_{000} p_{011} p_{112} - p_{000} p_{012} p_{111} - p_{001} p_{010} p_{112} + p_{001} p_{012} p_{110} + p_{002} p_{010} p_{111} - p_{002} p_{011} p_{110}\\right) + p_{000} p_{111} \\left(p_{000} p_{011} p_{102} - p_{000} p_{012} p_{101} - p_{001} p_{010} p_{102} + p_{001} p_{012} p_{100} + p_{002} p_{010} p_{101} - p_{002} p_{011} p_{100}\\right) + p_{001} p_{100} \\left(p_{000} p_{011} p_{112} - p_{000} p_{012} p_{111} - p_{001} p_{010} p_{112} + p_{001} p_{012} p_{110} + p_{002} p_{010} p_{111} - p_{002} p_{011} p_{110}\\right) - p_{001} p_{110} \\left(p_{000} p_{011} p_{102} - p_{000} p_{012} p_{101} - p_{001} p_{010} p_{102} + p_{001} p_{012} p_{100} + p_{002} p_{010} p_{101} - p_{002} p_{011} p_{100}\\right)\\right) \\left(p_{000} p_{011} p_{112} - p_{000} p_{012} p_{111} - p_{001} p_{010} p_{112} + p_{001} p_{012} p_{110} + p_{002} p_{010} p_{111} - p_{002} p_{011} p_{110}\\right)$"
      ],
      "text/plain": [
       "(-p_000*p_101*(p_000*p_011*p_112 - p_000*p_012*p_111 - p_001*p_010*p_112 + p_001*p_012*p_110 + p_002*p_010*p_111 - p_002*p_011*p_110) + p_000*p_111*(p_000*p_011*p_102 - p_000*p_012*p_101 - p_001*p_010*p_102 + p_001*p_012*p_100 + p_002*p_010*p_101 - p_002*p_011*p_100) + p_001*p_100*(p_000*p_011*p_112 - p_000*p_012*p_111 - p_001*p_010*p_112 + p_001*p_012*p_110 + p_002*p_010*p_111 - p_002*p_011*p_110) - p_001*p_110*(p_000*p_011*p_102 - p_000*p_012*p_101 - p_001*p_010*p_102 + p_001*p_012*p_100 + p_002*p_010*p_101 - p_002*p_011*p_100))*(p_000*p_011*p_112 - p_000*p_012*p_111 - p_001*p_010*p_112 + p_001*p_012*p_110 + p_002*p_010*p_111 - p_002*p_011*p_110)"
      ]
     },
     "execution_count": 15,
     "metadata": {},
     "output_type": "execute_result"
    }
   ],
   "source": [
    "sol[1]"
   ]
  },
  {
   "cell_type": "code",
   "execution_count": 31,
   "id": "turned-coalition",
   "metadata": {},
   "outputs": [
    {
     "name": "stdout",
     "output_type": "stream",
     "text": [
      "718733837284774.\n"
     ]
    },
    {
     "data": {
      "text/latex": [
       "$\\displaystyle \\left[\\begin{matrix}0.279100921444095\\\\3.32206827434548\\\\-4.21262530124438 \\cdot 10^{-10}\\\\-2.00355862561557 \\cdot 10^{-10}\\\\-1.60543344217581 \\cdot 10^{-10}\\end{matrix}\\right]$"
      ],
      "text/plain": [
       "Matrix([\n",
       "[    0.279100921444095],\n",
       "[     3.32206827434548],\n",
       "[-4.21262530124438e-10],\n",
       "[-2.00355862561557e-10],\n",
       "[-1.60543344217581e-10]])"
      ]
     },
     "execution_count": 31,
     "metadata": {},
     "output_type": "execute_result"
    }
   ],
   "source": [
    "#tens = tl.tensor(np.random.randint(1, 100000, size=(3,2,2)))*1.0\n",
    "\n",
    "M1 = Matrix([[M,R]])\n",
    "#display(Latex(latex(M1)))\n",
    "l = solve(M1.det()/b)[0]\n",
    "M_1 = Matrix([[tens[0][0][0],0,a,0,0],[0,tens[0][0][1],l,0,0],\n",
    "              [tens[1][0][0],0,0,a,0],[0,tens[1][0][1],0,l,0],\n",
    "              [tens[2][0][0],0,0,0,a],[0,tens[2][0][1],0,0,l]])\n",
    "M_2 = (M_1,R)\n",
    "print(l)\n",
    "N = np.array(M_1, dtype= 'float')\n",
    "sol = la.solve(N.T @ N, N.T @ np.array(R, dtype='float'))\n",
    "M_sub = Matrix(M_1[0:5,0:5])\n",
    "M_sub.adjugate() * Matrix(R[0:5]) /det(M_sub)"
   ]
  },
  {
   "cell_type": "code",
   "execution_count": 42,
   "id": "quiet-newfoundland",
   "metadata": {},
   "outputs": [
    {
     "data": {
      "text/latex": [
       "$\\displaystyle \\left[\\begin{matrix}9642.0 & 0 & 1 & 0 & 0\\\\0 & 4780.0 & 0.439354549529377 & 0 & 0\\\\12447.0 & 0 & 0 & 1 & 0\\\\0 & 7114.0 & 0 & 0.439354549529377 & 0\\\\7116.0 & 0 & 0 & 0 & 1\\\\0 & 4152.0 & 0 & 0 & 0.439354549529377\\end{matrix}\\right]$"
      ],
      "text/plain": [
       "Matrix([\n",
       "[ 9642.0,      0,                 1,                 0,                 0],\n",
       "[      0, 4780.0, 0.439354549529377,                 0,                 0],\n",
       "[12447.0,      0,                 0,                 1,                 0],\n",
       "[      0, 7114.0,                 0, 0.439354549529377,                 0],\n",
       "[ 7116.0,      0,                 0,                 0,                 1],\n",
       "[      0, 4152.0,                 0,                 0, 0.439354549529377]])"
      ]
     },
     "execution_count": 42,
     "metadata": {},
     "output_type": "execute_result"
    }
   ],
   "source": [
    "M_1"
   ]
  },
  {
   "cell_type": "code",
   "execution_count": 48,
   "id": "charming-biodiversity",
   "metadata": {},
   "outputs": [
    {
     "data": {
      "text/latex": [
       "$\\displaystyle \\left[\\begin{matrix}11890315.9809953\\\\9041167.66194879\\\\-61723436753.7098\\\\-79489029329.6207\\\\-45980343624.7638\\end{matrix}\\right]$"
      ],
      "text/plain": [
       "Matrix([\n",
       "[ 11890315.9809953],\n",
       "[ 9041167.66194879],\n",
       "[-61723436753.7098],\n",
       "[-79489029329.6207],\n",
       "[-45980343624.7638]])"
      ]
     },
     "execution_count": 48,
     "metadata": {},
     "output_type": "execute_result"
    }
   ],
   "source": [
    "M_sub = Matrix(M_1[0:5,0:5])\n",
    "M_sub.adjugate() * Matrix(R[0:5]) "
   ]
  },
  {
   "cell_type": "code",
   "execution_count": 28,
   "id": "substantial-animation",
   "metadata": {},
   "outputs": [
    {
     "data": {
      "text/plain": [
       "[{b: (p_000*p_011*p_112 - p_000*p_012*p_111 - p_001*p_010*p_112 + p_001*p_012*p_110 + p_002*p_010*p_111 - p_002*p_011*p_110)/(p_000*p_011*p_102 - p_000*p_012*p_101 - p_001*p_010*p_102 + p_001*p_012*p_100 + p_002*p_010*p_101 - p_002*p_011*p_100)}]"
      ]
     },
     "execution_count": 28,
     "metadata": {},
     "output_type": "execute_result"
    }
   ],
   "source": [
    "M = Matrix([[p_000,0,1,0,0],[0,p_010,b,0,0],\n",
    "       [p_001,0,0,1,0],[0,p_011,0,b,0],\n",
    "      [p_002,0,0,0,1],[0,p_012,0,0,b]])\n",
    "R = Matrix([p_100, p_110, p_101, p_111, p_102, p_112])\n",
    "a= 1\n",
    "bs = solve((Matrix([[M,R]]).det()/b).simplify())"
   ]
  },
  {
   "cell_type": "code",
   "execution_count": 29,
   "id": "continued-identity",
   "metadata": {},
   "outputs": [],
   "source": [
    "bs = solve((Matrix([[M,R]]).det()/b).simplify())\n",
    "bs"
   ]
  },
  {
   "cell_type": "code",
   "execution_count": 219,
   "id": "welsh-pixel",
   "metadata": {},
   "outputs": [
    {
     "data": {
      "text/plain": [
       "array([[ 7.23016156e-01],\n",
       "       [-1.12504981e-01],\n",
       "       [ 2.79275779e+04],\n",
       "       [ 1.84547833e+04],\n",
       "       [ 2.04832005e+04]])"
      ]
     },
     "execution_count": 219,
     "metadata": {},
     "output_type": "execute_result"
    }
   ],
   "source": [
    "tens = rank_tree()\n",
    "tens = tl.tensor(np.random.randint(1, 100000, size=(3,2,2)))*1.0\n",
    "M_b = Matrix([[Matrix(tens[:,0,0]), Matrix(tens[:,0,1]), Matrix(tens[:,1,1])]]).transpose()\n",
    "M_a = Matrix([[Matrix(tens[:,0,0]), Matrix(tens[:,0,1]), Matrix(tens[:,1,0])]]).transpose()\n",
    "a = 1\n",
    "b = M_b.det() / M_a.det()\n",
    "M = Matrix([[tens[0][0][0],0,a,0,0],[0,tens[0][0][1],b,0,0],\n",
    "            [tens[1][0][0],0,0,a,0],[0,tens[1][0][1],0,b,0],\n",
    "            [tens[2][0][0],0,0,0,a],[0,tens[2][0][1],0,0,b]])\n",
    "R = Matrix([Matrix(tens[0,1]),Matrix(tens[1,1]),Matrix(tens[2,1])])\n",
    "M_sub = Matrix(M[0:5,0:5])\n",
    "sol = np.array((M_sub.adjugate() @ Matrix(R[0:5])) /M_sub.det(), dtype = \"float\")\n",
    "sol1 = la.solve(np.array(M.T @ M, dtype = \"float\"), np.array(M.T @ R, dtype = \"float\"))\n",
    "sol\n"
   ]
  },
  {
   "cell_type": "code",
   "execution_count": 32,
   "id": "993af021-a094-4761-9d98-16594ee9a520",
   "metadata": {},
   "outputs": [
    {
     "data": {
      "text/latex": [
       "$\\displaystyle \\left[\\begin{matrix}46430.0 b & 7351.0 & 13944.0\\\\68403.0 & 64578.0 & 30275.0\\\\12330.0 & 53819.0 & 24090.0\\end{matrix}\\right]$"
      ],
      "text/plain": [
       "Matrix([\n",
       "[46430.0*b,  7351.0, 13944.0],\n",
       "[  68403.0, 64578.0, 30275.0],\n",
       "[  12330.0, 53819.0, 24090.0]])"
      ]
     },
     "execution_count": 32,
     "metadata": {},
     "output_type": "execute_result"
    }
   ],
   "source": [
    "a, b = symbols(\"a b\")\n",
    "M = Matrix([[tens[0,1,0]*b,tens[0,0,1]*1,tens[0,1,1]],[tens[1,1,0],tens[1,0,1],tens[1,1,1]],\n",
    "            [tens[2,1,0],tens[2,0,1],tens[2,1,1]]])\n",
    "M"
   ]
  },
  {
   "cell_type": "code",
   "execution_count": 20,
   "id": "2b582273-f604-4378-a882-457e03ecab95",
   "metadata": {},
   "outputs": [
    {
     "data": {
      "text/plain": [
       "[(p_010*p_101*p_112 - p_010*p_102*p_111 + p_011*p_102*p_110 - p_012*p_101*p_110)/(p_100*(p_011*p_112 - p_012*p_111))]"
      ]
     },
     "execution_count": 20,
     "metadata": {},
     "output_type": "execute_result"
    }
   ],
   "source": [
    "solve(M.det(),b)"
   ]
  },
  {
   "cell_type": "code",
   "execution_count": null,
   "id": "836234e4-666a-4ab2-957f-a445dfa56009",
   "metadata": {},
   "outputs": [],
   "source": []
  }
 ],
 "metadata": {
  "kernelspec": {
   "display_name": "Python 3 (ipykernel)",
   "language": "python",
   "name": "python3"
  },
  "language_info": {
   "codemirror_mode": {
    "name": "ipython",
    "version": 3
   },
   "file_extension": ".py",
   "mimetype": "text/x-python",
   "name": "python",
   "nbconvert_exporter": "python",
   "pygments_lexer": "ipython3",
   "version": "3.9.1"
  }
 },
 "nbformat": 4,
 "nbformat_minor": 5
}
