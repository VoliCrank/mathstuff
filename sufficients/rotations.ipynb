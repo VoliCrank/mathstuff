{
 "cells": [
  {
   "cell_type": "code",
   "execution_count": 4,
   "id": "intimate-chaos",
   "metadata": {},
   "outputs": [],
   "source": [
    "import tensorly as tl\n",
    "import numpy as np\n",
    "from numpy import linalg as la\n",
    "from sympy import *\n",
    "from sympy import Matrix, symbols, solve_linear_system\n",
    "from sympy.solvers.solveset import linsolve\n",
    "import time\n",
    "from joblib import Parallel, delayed\n",
    "x,y,z_1,z_2,z_3 = symbols('x y z_1 z_2 z_3')\n",
    "x,y,z1,z2,z3 ,b= symbols(\"x,y,z1,z2,z3,b\")\n",
    "p_112, p_102, p_002, p_012 = symbols('p_112 p_102 p_002 p_012')\n",
    "p_000, p_001, p_100, p_101, p_200, p_201, p_010, p_011, p_020, p_021, p_110, p_111, p_210, p_211, p_120, p_121, p_220, p_221 = symbols('p_000 p_001 p_100 p_101 p_200 p_201 p_010 p_011 p_020 p_021 p_110 p_111 p_210 p_211 p_120 p_121 p_220 p_221')"
   ]
  },
  {
   "cell_type": "code",
   "execution_count": 5,
   "id": "27f9f040-b028-40d9-a4cf-d06e5e5fe2dd",
   "metadata": {},
   "outputs": [],
   "source": [
    "from tensorly.decomposition import parafac\n",
    "from tensorly.decomposition import non_negative_parafac_hals\n",
    "\n",
    "def check_rank(tensor, rank, non_neg=True, n=10, tol=0.001, p=False):\n",
    "    if non_neg:\n",
    "        for k in range(n):\n",
    "            weights, factors = non_negative_parafac_hals(tensor, n_iter_max=1000000, rank=rank, init='random')\n",
    "            full = tl.cp_to_tensor((weights, factors))\n",
    "            diff = (full - tensor) / tensor\n",
    "            if p:\n",
    "                print(factors)\n",
    "                print(tl.max(abs(diff)))\n",
    "            if tl.max(abs(diff)) < tol:\n",
    "                return True\n",
    "    else:\n",
    "        for k in range(n):\n",
    "            weights, factors = parafac(tensor, n_iter_max=1000000, rank=rank)\n",
    "            full = tl.cp_to_tensor((weights, factors))\n",
    "            diff = (full - tensor) / tensor\n",
    "            if p:\n",
    "                print(tl.max(abs(diff)))\n",
    "            if tl.max(abs(diff)) < tol:\n",
    "                return True\n",
    "    return False"
   ]
  },
  {
   "cell_type": "code",
   "execution_count": 6,
   "id": "infrared-place",
   "metadata": {},
   "outputs": [],
   "source": [
    "#generates random rank 3 tensors\n",
    "def rank_tree(size = 100):\n",
    "    return (low_tensor(size) + low_tensor(size) + low_tensor(size)) \n",
    "\n",
    "# random tensor of some dim\n",
    "def rand_tensor(size = 100000):\n",
    "    return tl.tensor(np.random.randint(1, size, size=(3,2,2)))*1.0\n",
    "\n",
    "# generates rank 1 tensors\n",
    "def low_tensor(size = 100):\n",
    "    a = np.random.randint(1, size, size=3) \n",
    "    b = np.random.randint(1, size, size=2)\n",
    "    c = np.random.randint(1, size, size=2)\n",
    "    tens = tl.tensor(np.kron(np.kron(a, b), c).reshape(3, 2, 2)) * 1.0\n",
    "    return tens\n",
    "\n",
    "# checks if all subtensors have nonneg rank 3\n",
    "def check(t):\n",
    "    t1 = tl.tensor([t[0], t[1]])\n",
    "    t2 = tl.tensor([t[1], t[2]])\n",
    "    t3 = tl.tensor([t[0], t[2]])\n",
    "    a1 = det(Matrix(t1[0]))\n",
    "    a2 = det(Matrix(t1[1]))\n",
    "    a3 = det(Matrix(t2[0]))\n",
    "    a4 = det(Matrix(t2[1]))\n",
    "    b1 = det(Matrix(t1[:,0]))\n",
    "    b2 = det(Matrix(t1[:,1]))\n",
    "    b3 = det(Matrix(t2[:,0]))\n",
    "    b4 = det(Matrix(t2[:,1]))\n",
    "    c1 = det(Matrix(t1[:,:,0]))\n",
    "    c2 = det(Matrix(t1[:,:,1]))\n",
    "    c3 = det(Matrix(t2[:,:,0]))\n",
    "    c4 = det(Matrix(t2[:,:,1]))\n",
    "\n",
    "    a5 = det(Matrix(t3[0]))\n",
    "    a6 = det(Matrix(t3[1]))\n",
    "\n",
    "    b5 = det(Matrix(t3[:,0]))\n",
    "    b6 = det(Matrix(t3[:,1]))\n",
    "\n",
    "    c5 = det(Matrix(t3[:,:,0]))\n",
    "    c6 = det(Matrix(t3[:,:,1]))\n",
    "    return sgn([a1, a2,a3,a4,a5,a6]) or sgn([b1,b2,b3,b4,b5,b6]) or sgn([c1,c2,c3,c4,c5,c6])\n",
    "\n",
    "# determines sign of a list\n",
    "def sgn(a):\n",
    "    t = 0\n",
    "    ab = 0\n",
    "    for a_i in a:\n",
    "        t+= abs(a_i)\n",
    "        ab += a_i\n",
    "    return t == abs(ab)\n",
    "\n",
    "\n",
    "# checks if the give 2x2x2 tensor has nonneg rank 3\n",
    "def check_r3(t):\n",
    "    a1 = det(Matrix(t[0]))\n",
    "    a2 = det(Matrix(t[1]))\n",
    "    b1 = det(Matrix(t[:,0]))\n",
    "    b2 = det(Matrix(t[:,1]))\n",
    "    c1 = det(Matrix(t[:,:,0]))\n",
    "    c2 = det(Matrix(t[:,:,1]))\n",
    "    return sgn([a1,a2]) or sgn([b1,b2]) or sgn([c1,c2])\n",
    "\n",
    "# checks if given 2x2x2 has nonneg rank 2\n",
    "def check_r2(t):\n",
    "    a1 = det(Matrix(t[0]))\n",
    "    a2 = det(Matrix(t[1]))\n",
    "    b1 = det(Matrix(t[:,0]))\n",
    "    b2 = det(Matrix(t[:,1]))\n",
    "    c1 = det(Matrix(t[:,:,0]))\n",
    "    c2 = det(Matrix(t[:,:,1]))\n",
    "    d1 = ineq(a1,a2,b1,b2,c1,c2,ge,ge,ge)\n",
    "    d2 = ineq(a1,a2,b1,b2,c1,c2,le,le,ge)\n",
    "    d3 = ineq(a1,a2,b1,b2,c1,c2,le,ge,le)\n",
    "    d4 = ineq(a1,a2,b1,b2,c1,c2,ge,le,le)\n",
    "    supermod = d1 or d2 or d3 or d4\n",
    "    return supermod\n",
    "\n",
    "\n",
    "# helpers\n",
    "def ineq(a1,a2,b1,b2,c1,c2,f1,f2,f3):\n",
    "    t1 = f1(a1,0) and f1(a2,0)\n",
    "    t2 = f2(b1,0) and f2(b2,0)\n",
    "    t3 = f3(c1,0) and f3(c2,0)\n",
    "    return t1 and t2 and t3\n",
    "    \n",
    "def ge(a1,a2):\n",
    "    return a1 >= a2\n",
    "\n",
    "def le(a1,a2):\n",
    "    return a1 <= a2\n",
    "\n",
    "# Checks if 2x2x3 contains a 2x2x2 with nonneg 4\n",
    "def check_r4(t, upper = 1):\n",
    "    a1 = not check_r3(tl.tensor([t[0],t[1]]))\n",
    "    a2 = not check_r3(tl.tensor([t[0],t[2]]))\n",
    "    a3 = not check_r3(tl.tensor([t[1],t[2]]))\n",
    "    return (a1 + a2 + a3) >= upper\n",
    "\n",
    "def r2_sub(t, upper = 1):\n",
    "    a = check_r2(tl.tensor([t[0],t[1]]))\n",
    "    b = check_r2(tl.tensor([t[0],t[2]]))\n",
    "    c = check_r2(tl.tensor([t[2],t[1]]))\n",
    "    return (bool(a)+bool(b)+bool(c)) >= upper"
   ]
  },
  {
   "cell_type": "code",
   "execution_count": 7,
   "id": "muslim-collector",
   "metadata": {},
   "outputs": [],
   "source": [
    "def mat_inv(t):\n",
    "    tens = t.copy()\n",
    "    M_1 = Matrix([Matrix(tens[0][1]).transpose(),Matrix(tens[0][0]).transpose()])\n",
    "    M_2 = Matrix([Matrix(tens[1][1]).transpose(),Matrix(tens[1][0]).transpose()])\n",
    "    M_3 = Matrix([Matrix(tens[2][1]).transpose(),Matrix(tens[2][0]).transpose()])\n",
    "    tens[0] = M_1\n",
    "    tens[1] = M_2\n",
    "    tens[2] = M_3\n",
    "    return tens\n",
    "\n",
    "def mat_trans(t):\n",
    "    tens = t.copy()\n",
    "    tens[0] = tens[0].transpose()\n",
    "    tens[1] = tens[1].transpose()\n",
    "    tens[2] = tens[2].transpose()\n",
    "    return tens\n",
    "\n",
    "def rotate(t):\n",
    "    return mat_inv(mat_trans(t))\n",
    "\n",
    "\n",
    "def proc_tensor(t):\n",
    "    tens = t.copy()\n",
    "    M_b = Matrix([[Matrix(tens[:,0,0]), Matrix(tens[:,0,1]), Matrix(tens[:,1,1])]]).transpose()\n",
    "    M_a = Matrix([[Matrix(tens[:,0,0]), Matrix(tens[:,0,1]), Matrix(tens[:,1,0])]]).transpose()\n",
    "    if abs(M_a.det()) < 10:\n",
    "        print(\"warning det too small\")\n",
    "    a = 1\n",
    "    b = M_b.det() / M_a.det()\n",
    "    M = Matrix([[tens[0][0][0],0,a,0,0],[0,tens[0][0][1],b,0,0],\n",
    "                [tens[1][0][0],0,0,a,0],[0,tens[1][0][1],0,b,0],\n",
    "                [tens[2][0][0],0,0,0,a],[0,tens[2][0][1],0,0,b]])\n",
    "    R = Matrix([Matrix(tens[0,1]),Matrix(tens[1,1]),Matrix(tens[2,1])])\n",
    "    M_sub = Matrix(M[0:5,0:5])\n",
    "    #sol = np.array(np.array(M_sub.inv(), dtype = \"float\") @ np.array(Matrix(R[0:5]), dtype = \"float\"), dtype = \"float\")\n",
    "    sol = la.solve(np.array(M.T@M,dtype = \"float\"), np.array(M.T@R, dtype = \"float\"))\n",
    "    return np.append(np.array([b], dtype = \"float\"),sol)\n",
    "\n",
    "\n",
    "def test(tens):\n",
    "    tens = rand_tensor()\n",
    "    #tens = rank_tree()\n",
    "    ret = [0] *11\n",
    "    c1 = proc_tensor(tens)\n",
    "    if np.all(c1>=0):\n",
    "        ret[1] = 1\n",
    "    c2 = proc_tensor(mat_trans(tens))\n",
    "    if np.all(c2>=0):\n",
    "        ret[2] = 1\n",
    "    c3 = proc_tensor(mat_inv(tens))\n",
    "    if np.all(c3>=0):\n",
    "        ret[3] = 1\n",
    "    c4 = proc_tensor(rotate(tens))\n",
    "    if np.all(c4>=0):\n",
    "        ret[4] = 1\n",
    "    total = sum(ret)\n",
    "    if total >= 1:\n",
    "        ret[0] = 1\n",
    "    r2 = r2_sub(tens, upper = 2)\n",
    "    ret[5] = r2\n",
    "    #if check_r4(tens, upper = 1):\n",
    "    #    ret[6] = 1\n",
    "    #    if r2_sub(tens, upper = 1):\n",
    "    #        ret[9] = 1\n",
    "    #        if ret[0] == 1:\n",
    "    #            ret[10] = 1\n",
    "    if not check_r4(tens) and r2:\n",
    "        ret[6] = 1\n",
    "        if ret[0] == 0:\n",
    "            ret[7] = 1\n",
    "    return ret\n",
    "\n",
    "# happens w.p 0 so probably pointless to try\n",
    "# also probably implied by the larger guess\n",
    "def proc_small(tens):\n",
    "    M = Matrix([[Matrix(tens[:,0,0]), Matrix(tens[:,1,1]),Matrix(tens[:,0,1])]])\n",
    "    M1 = Matrix([[Matrix(tens[:,0,0]), Matrix(tens[:,1,1]),Matrix(tens[:,1,0])]])\n",
    "    M2 = Matrix([[Matrix(tens[:,0,0]), Matrix(tens[:,1,0]),Matrix(tens[:,0,1])]])\n",
    "    M3 = Matrix([[Matrix(tens[:,1,1]), Matrix(tens[:,1,0]),Matrix(tens[:,0,1])]])\n",
    "    return solve_mat(M) or solve_mat(M1) or solve_mat(M2) or solve_mat(M3)\n",
    "\n",
    "def solve_mat(M):\n",
    "    if abs(det(M))> 100:\n",
    "        return False\n",
    "    M1 = M[:,0:2]\n",
    "    R = M[:,2]\n",
    "    sol = la.solve(np.array(M1.T@M1,dtype = \"float\"),np.array(M1.T@R, dtype = \"float\"))\n",
    "    return np.all(sol >=0)\n",
    "    "
   ]
  },
  {
   "cell_type": "code",
   "execution_count": 46,
   "id": "5d42bd52-47a5-46da-a342-ba5bdbc4903a",
   "metadata": {},
   "outputs": [],
   "source": [
    "def test_r2(tens):\n",
    "    A = Matrix(tens[0]) * Matrix(tens[1]).inv()\n",
    "    res1 = Matrix(A.eigenvects()[0][2])\n",
    "    res2 = Matrix(A.eigenvects()[1][2])\n",
    "\n",
    "    B = Matrix(tens[0]).transpose() * Matrix(tens[1]).transpose().inv()\n",
    "    res3 = Matrix(B.eigenvects()[0][2])\n",
    "    res4 = Matrix(B.eigenvects()[1][2])\n",
    "    \n",
    "    T1 = np.kron(res1,res3) * 1.0\n",
    "    T2 = np.kron(res2,res4) * 1.0\n",
    "    assert(np.all(T1 >= 0) or np.all(T1 <= 0))\n",
    "    assert(np.all(T2 >= 0) or np.all(T2 <= 0))\n",
    "    T1 = Matrix(abs(T1))\n",
    "    T2 = Matrix(abs(T2))\n",
    "\n",
    "    a = symbols('a')\n",
    "    M = Matrix([[T1,T2]])\n",
    "    A1 = Matrix([a,a,1,1])\n",
    "    A2 = Matrix([a,1,a,1])\n",
    "    M1 = Matrix([[M,A1,Matrix(tens[2].reshape(4))]])\n",
    "    M2 = Matrix([[M,A2,Matrix(tens[2].reshape(4))]])\n",
    "\n",
    "    a1 = solve(M1.det())[0]\n",
    "    A1 = Matrix([a1,a1,1,1])\n",
    "    M1 = Matrix([[M,A1,Matrix(tens[2].reshape(4))]])\n",
    "    M1_sub = M1[0:3,0:3]\n",
    "    R = M1[0:3,3]\n",
    "    d1 = False\n",
    "    if abs(M1_sub.det()) > 0:\n",
    "        c1 = np.array(M1_sub.inv() @ R, dtype = \"float\")\n",
    "        d1 = np.all(c1 >=0)\n",
    "\n",
    "    a2 = solve(M2.det())[0]\n",
    "    A2 = Matrix([a2,1,a2,1])\n",
    "    M2 = Matrix([[M,A2,Matrix(tens[2].reshape(4))]])\n",
    "    M2_sub = M2[0:3,0:3]\n",
    "    R = M2[0:3,3]\n",
    "    d2 = False\n",
    "    if abs(M2_sub.det()) > 0:\n",
    "        c2 = np.array(M2_sub.inv() @ R, dtype = \"float\")\n",
    "        d2 = np.all(c2 >=0)\n",
    "    return d1 or d2\n",
    "\n",
    "def check_comb(tens):\n",
    "    t = tens.copy()\n",
    "    a = check_r2(tl.tensor([t[0],t[1]]))\n",
    "    b = check_r2(tl.tensor([t[0],t[2]]))\n",
    "    c = check_r2(tl.tensor([t[1],t[2]]))\n",
    "    a1 = False\n",
    "    a2 = False\n",
    "    a3 = False\n",
    "    if a:\n",
    "        a1 = test_r2(t)\n",
    "    if b:\n",
    "        a2 = test_r2(tl.tensor([t[0],t[2],t[1]]))\n",
    "    if c:\n",
    "        a3 = test_r2(tl.tensor([t[1],t[2],t[0]]))   \n",
    "    return a1 or a2 or a3\n",
    "\n",
    "def loop_rotations(i):\n",
    "    tens = rand_tensor()\n",
    "    tens = rank_tree()\n",
    "    ret = [0] *11\n",
    "    c1 = proc_tensor(tens)\n",
    "    if np.all(c1>=0):\n",
    "        ret[1] = 1\n",
    "    c2 = proc_tensor(mat_trans(tens))\n",
    "    if np.all(c2>=0):\n",
    "        ret[2] = 1\n",
    "    c3 = proc_tensor(mat_inv(tens))\n",
    "    if np.all(c3>=0):\n",
    "        ret[3] = 1\n",
    "    c4 = proc_tensor(rotate(tens))\n",
    "    if np.all(c4>=0):\n",
    "        ret[4] = 1\n",
    "        \n",
    "    total = sum(ret)\n",
    "    if total >= 1:\n",
    "        ret[0] = 1\n",
    "    if check_comb(tens):\n",
    "        ret[5] = 1\n",
    "        if ret[0] == 0:\n",
    "            ret[8] = 1\n",
    "        ret[0] = 1\n",
    "    r2 = r2_sub(tens, upper = 2)\n",
    "    #ret[5] = r2\n",
    "    #if check_r4(tens, upper = 1):\n",
    "    #    ret[6] = 1\n",
    "    #    if r2_sub(tens, upper = 1):\n",
    "    #        ret[9] = 1\n",
    "    #        if ret[0] == 1:\n",
    "    #            ret[10] = 1\n",
    "    if not check_r4(tens) and r2:\n",
    "        ret[6] = 1\n",
    "        if ret[0] == 0:\n",
    "            ret[7] = 1\n",
    "    return ret"
   ]
  },
  {
   "cell_type": "code",
   "execution_count": 47,
   "id": "under-custom",
   "metadata": {},
   "outputs": [
    {
     "name": "stdout",
     "output_type": "stream",
     "text": [
      "[888, 304, 323, 332, 308, 446, 558, 66, 127, 0, 0]\n",
      "64.1226019859314\n"
     ]
    }
   ],
   "source": [
    "te = time.time()\n",
    "total = 1000\n",
    "results = Parallel(n_jobs=6)(delayed(loop_rotations)(i) for i in range(total))\n",
    "res = [sum(x) for x in zip(*results)]\n",
    "print(res)\n",
    "print(time.time() - te)"
   ]
  },
  {
   "cell_type": "code",
   "execution_count": 7,
   "id": "random-shepherd",
   "metadata": {},
   "outputs": [
    {
     "data": {
      "text/plain": [
       "array([[ 1.11433914e+01],\n",
       "       [ 1.25368265e+01],\n",
       "       [-1.83211490e+07],\n",
       "       [-2.00294909e+07],\n",
       "       [-1.72537657e+06]])"
      ]
     },
     "execution_count": 7,
     "metadata": {},
     "output_type": "execute_result"
    }
   ],
   "source": [
    "tens = rank_tree()\n",
    "#tens = tl.tensor(np.random.randint(1, 100000, size=(3,2,2)))*1.0\n",
    "M_b = Matrix([[Matrix(tens[:,0,0]), Matrix(tens[:,0,1]), Matrix(tens[:,1,1])]]).transpose()\n",
    "M_a = Matrix([[Matrix(tens[:,0,0]), Matrix(tens[:,0,1]), Matrix(tens[:,1,0])]]).transpose()\n",
    "a = 1\n",
    "b = M_b.det() / M_a.det()\n",
    "M = Matrix([[tens[0][0][0],0,a,0,0],[0,tens[0][0][1],b,0,0],\n",
    "            [tens[1][0][0],0,0,a,0],[0,tens[1][0][1],0,b,0],\n",
    "            [tens[2][0][0],0,0,0,a],[0,tens[2][0][1],0,0,b]])\n",
    "R = Matrix([Matrix(tens[0,1]),Matrix(tens[1,1]),Matrix(tens[2,1])])\n",
    "M_sub = Matrix(M[0:5,0:5])\n",
    "sol = np.array((M_sub.adjugate() @ Matrix(R[0:5])) /M_sub.det(), dtype = \"float\")\n",
    "sol1 = la.solve(np.array(M.T @ M, dtype = \"float\"), np.array(M.T @ R, dtype = \"float\"))\n",
    "sol\n"
   ]
  },
  {
   "cell_type": "code",
   "execution_count": 76,
   "id": "buried-affect",
   "metadata": {},
   "outputs": [
    {
     "data": {
      "text/latex": [
       "$\\displaystyle \\text{True}$"
      ],
      "text/plain": [
       "True"
      ]
     },
     "execution_count": 76,
     "metadata": {},
     "output_type": "execute_result"
    }
   ],
   "source": [
    "t = rank_tree(size = 30)\n",
    "a = check_r2(tl.tensor([t[0],t[1]]))\n",
    "b = check_r2(tl.tensor([t[0],t[2]]))\n",
    "c = check_r2(tl.tensor([t[2],t[1]]))\n",
    "b"
   ]
  },
  {
   "cell_type": "code",
   "execution_count": 77,
   "id": "9a85f924-a9f5-40a6-a8b2-ae07c23fe514",
   "metadata": {},
   "outputs": [
    {
     "data": {
      "text/plain": [
       "True"
      ]
     },
     "execution_count": 77,
     "metadata": {},
     "output_type": "execute_result"
    }
   ],
   "source": [
    "bool(b)"
   ]
  },
  {
   "cell_type": "code",
   "execution_count": 12,
   "id": "a9dce63e-15ed-4dd6-a21b-f4cbf9ea37c2",
   "metadata": {},
   "outputs": [
    {
     "data": {
      "text/plain": [
       "array([[[71639., 57940.],\n",
       "        [82820., 77230.]],\n",
       "\n",
       "       [[59299., 85536.],\n",
       "        [62629., 50797.]],\n",
       "\n",
       "       [[56222.,  1604.],\n",
       "        [85405., 46788.]]])"
      ]
     },
     "execution_count": 12,
     "metadata": {},
     "output_type": "execute_result"
    }
   ],
   "source": [
    "t"
   ]
  },
  {
   "cell_type": "code",
   "execution_count": 14,
   "id": "60050924-ca12-40b9-81a0-1d8571fca788",
   "metadata": {},
   "outputs": [
    {
     "data": {
      "text/plain": [
       "array([-1.44926912e-01,  7.33860205e+00,  2.74634528e-01, -3.35925544e+05,\n",
       "       -4.29858967e+05, -6.28423882e+05])"
      ]
     },
     "execution_count": 14,
     "metadata": {},
     "output_type": "execute_result"
    }
   ],
   "source": [
    "sol = proc_tensor(tens)\n",
    "sol"
   ]
  },
  {
   "cell_type": "code",
   "execution_count": 69,
   "id": "3a965a34-16bc-4f4e-8647-64d84cb33f08",
   "metadata": {},
   "outputs": [
    {
     "name": "stdout",
     "output_type": "stream",
     "text": [
      "1.8189894035458565e-12\n"
     ]
    }
   ],
   "source": [
    "sol = proc_tensor(tens)\n",
    "b = sol[0]\n",
    "x = sol[1]\n",
    "y = sol[2]\n",
    "z1 = sol[3]\n",
    "z2 = sol[4]\n",
    "z3 = sol[5]\n",
    "t = tens\n",
    "a1=t[0,0,0]*x + z1 - t[0,1,0]\n",
    "a2=t[0,0,1]*y + b*z1 - t[0,1,1]\n",
    "a3=t[1,0,0]*x + z2 - t[1,1,0]\n",
    "a4=t[1,0,1]*y + b*z2 - t[1,1,1]\n",
    "a5=t[2,0,0]*x + z3 - t[2,1,0]\n",
    "a6=t[2,0,1]*y + b*z3 - t[2,1,1]\n",
    "print(max(a1,a2,a3,a4,a5,a6))"
   ]
  },
  {
   "cell_type": "code",
   "execution_count": 39,
   "id": "5c6caff5-f0d2-46ee-a4a5-ce1c6b6867da",
   "metadata": {},
   "outputs": [
    {
     "data": {
      "text/plain": [
       "array([[[ 7477., 75400.],\n",
       "        [46794., 97276.]],\n",
       "\n",
       "       [[19990., 85580.],\n",
       "        [61299., 84774.]],\n",
       "\n",
       "       [[ 9807., 99704.],\n",
       "        [86969., 31418.]]])"
      ]
     },
     "execution_count": 39,
     "metadata": {},
     "output_type": "execute_result"
    }
   ],
   "source": [
    "mat_inv(tens)"
   ]
  },
  {
   "cell_type": "code",
   "execution_count": 40,
   "id": "0b4863ec-50bc-4546-a37e-a1e522d28c2e",
   "metadata": {},
   "outputs": [
    {
     "name": "stdout",
     "output_type": "stream",
     "text": [
      "1.4551915228366852e-10\n"
     ]
    }
   ],
   "source": [
    "sol = proc_tensor(mat_inv(tens))\n",
    "t = tens\n",
    "b = sol[0]\n",
    "x = sol[1]\n",
    "y = sol[2]\n",
    "z1 = sol[3]\n",
    "z2 = sol[4]\n",
    "z3 = sol[5]\n",
    "a1=t[0,1,0]*x + z1 - t[0,0,0]\n",
    "a2=t[0,1,1]*y + b*z1 - t[0,0,1]\n",
    "a3=t[1,1,0]*x + z2 - t[1,0,0]\n",
    "a4=t[1,1,1]*y + b*z2 - t[1,0,1]\n",
    "a5=t[2,1,0]*x + z3 - t[2,0,0]\n",
    "a6=t[2,1,1]*y + b*z3 - t[2,0,1]\n",
    "print(max(a1,a2,a3,a4,a5,a6))"
   ]
  },
  {
   "cell_type": "code",
   "execution_count": 45,
   "id": "9dbed131-5448-4719-8f3c-2b2cf78a5063",
   "metadata": {},
   "outputs": [
    {
     "name": "stdout",
     "output_type": "stream",
     "text": [
      "[0, 37, 40]\n"
     ]
    }
   ],
   "source": [
    "count = [0,0,0]\n",
    "for i in range(100):\n",
    "    tens = rank_tree()\n",
    "    c1 = np.all(proc_tensor(tens) >=0)\n",
    "    c2 = np.all(proc_tensor(mat_inv(tens))>=0)\n",
    "    if c1 and c2:\n",
    "        count[0] += 1\n",
    "    if c1:\n",
    "        count[1] += 1\n",
    "    if c2:\n",
    "        count[2] += 1\n",
    "print(count)"
   ]
  },
  {
   "cell_type": "code",
   "execution_count": 82,
   "id": "77d5dd7b-84ab-49f6-8fd8-06420ca6f8ac",
   "metadata": {},
   "outputs": [
    {
     "name": "stdout",
     "output_type": "stream",
     "text": [
      "7.275957614183426e-12\n"
     ]
    }
   ],
   "source": [
    "sol = proc_tensor(rotate(tens))\n",
    "b = sol[0]\n",
    "x = sol[1]\n",
    "y = sol[2]\n",
    "z1 = sol[3]\n",
    "z2 = sol[4]\n",
    "z3 = sol[5]\n",
    "t = tens\n",
    "a1=t[0,0,1]*x + z1 - t[0,0,0]\n",
    "a2=t[0,1,1]*y + b*z1 - t[0,1,0]\n",
    "a3=t[1,0,1]*x + z2 - t[1,0,0]\n",
    "a4=t[1,1,1]*y + b*z2 - t[1,1,0]\n",
    "a5=t[2,0,1]*x + z3 - t[2,0,0]\n",
    "a6=t[2,1,1]*y + b*z3 - t[2,1,0]\n",
    "print(max(a1,a2,a3,a4,a5,a6))"
   ]
  },
  {
   "cell_type": "code",
   "execution_count": 83,
   "id": "00f3e641-0414-48ed-9e57-401a0addf55f",
   "metadata": {},
   "outputs": [
    {
     "data": {
      "text/plain": [
       "array([[[15441., 12988.],\n",
       "        [ 7623.,  3708.]],\n",
       "\n",
       "       [[13023., 21032.],\n",
       "        [ 5337.,  6444.]],\n",
       "\n",
       "       [[ 5309., 12780.],\n",
       "        [ 1827.,  4176.]]])"
      ]
     },
     "execution_count": 83,
     "metadata": {},
     "output_type": "execute_result"
    }
   ],
   "source": [
    "tens"
   ]
  },
  {
   "cell_type": "code",
   "execution_count": 84,
   "id": "d1f59b25-82e9-468a-be40-1810107cf30e",
   "metadata": {},
   "outputs": [
    {
     "data": {
      "text/plain": [
       "array([3708., 6444., 4176.])"
      ]
     },
     "execution_count": 84,
     "metadata": {},
     "output_type": "execute_result"
    }
   ],
   "source": [
    "tens[:,1,1]"
   ]
  },
  {
   "cell_type": "code",
   "execution_count": 111,
   "id": "43c3563d-fd6f-4c22-bb04-a7325811eeee",
   "metadata": {},
   "outputs": [
    {
     "data": {
      "text/plain": [
       "array([[[z1 - 4917.64910788592, 0],\n",
       "        [-2.42325425351385*z1 - 6230.85827512589, 0]],\n",
       "\n",
       "       [[z2 - 3192.18718106464, 0],\n",
       "        [-2.42325425351385*z2 - 3411.14404111334, 0]],\n",
       "\n",
       "       [[z3 - 4296.51586080836, 0],\n",
       "        [-2.42325425351385*z3 - 4493.63023415741, 0]]], dtype=object)"
      ]
     },
     "execution_count": 111,
     "metadata": {},
     "output_type": "execute_result"
    }
   ],
   "source": [
    "a1 = np.array([1,0])\n",
    "a2 = np.array([x,1])\n",
    "a3 = np.array(tens[:,0,1])\n",
    "t1= np.kron(np.kron(a3,a1),a2).reshape(3,2,2)\n",
    "\n",
    "b1 = np.array([0,1])\n",
    "b2 = np.array([y,1])\n",
    "b3 = np.array(tens[:,1,1])\n",
    "t2 = np.kron(np.kron(b3,b1),b2).reshape(3,2,2)\n",
    "\n",
    "c1 = np.array([1,b])\n",
    "c2 = np.array([1,0])\n",
    "c3 = np.array([z1,z2,z3])\n",
    "t3 = np.kron(np.kron(c3,c1),c2).reshape(3,2,2)\n",
    "t3+t1+t2-tens"
   ]
  },
  {
   "cell_type": "code",
   "execution_count": 90,
   "id": "af8bdd44-f249-4d4f-ac26-98b23e7eea6b",
   "metadata": {},
   "outputs": [
    {
     "data": {
      "text/plain": [
       "array([ 4.95783144e-01,  1.88814841e+00,  1.53788225e+00, -1.61668997e+04,\n",
       "       -3.55735681e+03,  2.75582006e+03])"
      ]
     },
     "execution_count": 90,
     "metadata": {},
     "output_type": "execute_result"
    }
   ],
   "source": [
    "proc_tensor(mat_trans(tens))"
   ]
  },
  {
   "cell_type": "code",
   "execution_count": 91,
   "id": "f228d455-ed59-4a11-8a22-67e64a7877f6",
   "metadata": {},
   "outputs": [
    {
     "data": {
      "text/plain": [
       "array([1.88814841e+00, 1.64283973e+00, 2.01701089e+00, 2.91763274e+03,\n",
       "       4.25516436e+03, 2.30753181e+03])"
      ]
     },
     "execution_count": 91,
     "metadata": {},
     "output_type": "execute_result"
    }
   ],
   "source": [
    "proc_tensor(mat_inv(tens))"
   ]
  },
  {
   "cell_type": "code",
   "execution_count": 92,
   "id": "91c561c9-74a1-4318-a4f1-24148a306518",
   "metadata": {},
   "outputs": [
    {
     "data": {
      "text/plain": [
       "array([[[ 3708.,  7623.],\n",
       "        [12988., 15441.]],\n",
       "\n",
       "       [[ 6444.,  5337.],\n",
       "        [21032., 13023.]],\n",
       "\n",
       "       [[ 4176.,  1827.],\n",
       "        [12780.,  5309.]]])"
      ]
     },
     "execution_count": 92,
     "metadata": {},
     "output_type": "execute_result"
    }
   ],
   "source": [
    "rotate(rotate(tens))"
   ]
  },
  {
   "cell_type": "code",
   "execution_count": 44,
   "id": "d1b23cac-d425-44e5-b3fa-20ed3c4c2098",
   "metadata": {},
   "outputs": [
    {
     "data": {
      "text/plain": [
       "array([[[36161., 80559.],\n",
       "        [84230., 61531.]],\n",
       "\n",
       "       [[ 5502., 47097.],\n",
       "        [31617., 36592.]],\n",
       "\n",
       "       [[94529., 38236.],\n",
       "        [52133., 45258.]]])"
      ]
     },
     "execution_count": 44,
     "metadata": {},
     "output_type": "execute_result"
    }
   ],
   "source": [
    "tens = rand_tensor()\n",
    "tens"
   ]
  },
  {
   "cell_type": "code",
   "execution_count": 50,
   "id": "813acaed-b0e0-437f-934a-eabe3cdfaff5",
   "metadata": {},
   "outputs": [
    {
     "data": {
      "text/latex": [
       "$\\displaystyle \\left[\\begin{matrix}36161.0 & 61531.0 & 84230.0\\\\5502.0 & 36592.0 & 31617.0\\\\94529.0 & 45258.0 & 52133.0\\end{matrix}\\right]$"
      ],
      "text/plain": [
       "Matrix([\n",
       "[36161.0, 61531.0, 84230.0],\n",
       "[ 5502.0, 36592.0, 31617.0],\n",
       "[94529.0, 45258.0, 52133.0]])"
      ]
     },
     "execution_count": 50,
     "metadata": {},
     "output_type": "execute_result"
    }
   ],
   "source": [
    "M = Matrix([[Matrix(tens[:,0,0]), Matrix(tens[:,1,1]),Matrix(tens[:,1,0])]])\n",
    "M"
   ]
  },
  {
   "cell_type": "code",
   "execution_count": 67,
   "id": "eff0cf8b-e128-4710-9768-567c72b4f2e6",
   "metadata": {},
   "outputs": [
    {
     "name": "stdout",
     "output_type": "stream",
     "text": [
      "11\n"
     ]
    }
   ],
   "source": [
    "counter = 0\n",
    "tensors = []\n",
    "for i in range(10000):\n",
    "    tens = rank_tree()\n",
    "    M = Matrix([[Matrix(tens[:,0,0]), Matrix(tens[:,1,1]),Matrix(tens[:,0,1])]])\n",
    "    M1 = Matrix([[Matrix(tens[:,0,0]), Matrix(tens[:,1,1]),Matrix(tens[:,1,0])]])\n",
    "    M2 = Matrix([[Matrix(tens[:,0,0]), Matrix(tens[:,1,0]),Matrix(tens[:,0,1])]])\n",
    "    M3 = Matrix([[Matrix(tens[:,1,1]), Matrix(tens[:,1,0]),Matrix(tens[:,0,1])]])\n",
    "    if abs(det(M)) < 10 or abs(det(M1))<10 or abs(det(M2))<10 or abs(det(M3))<10:\n",
    "        counter += 1\n",
    "        tensors.append(tens)\n",
    "print(counter)\n",
    "        "
   ]
  },
  {
   "cell_type": "code",
   "execution_count": 70,
   "id": "5e442236-2bcc-43a0-8706-b1c7b2f7bd9d",
   "metadata": {},
   "outputs": [
    {
     "data": {
      "text/plain": [
       "array([[[ 5140.,  5690.],\n",
       "        [11720., 12375.]],\n",
       "\n",
       "       [[ 3356.,  4192.],\n",
       "        [ 7472.,  9155.]],\n",
       "\n",
       "       [[ 4520.,  5719.],\n",
       "        [10036., 12495.]]])"
      ]
     },
     "execution_count": 70,
     "metadata": {},
     "output_type": "execute_result"
    }
   ],
   "source": [
    "tens = tensors[0]\n",
    "tens"
   ]
  },
  {
   "cell_type": "code",
   "execution_count": 88,
   "id": "dcf0e34d-24d9-4f39-bdd7-6d46abf06348",
   "metadata": {},
   "outputs": [
    {
     "data": {
      "text/latex": [
       "$\\displaystyle \\left[\\begin{matrix}5140.0 & 12375.0 & 5690.0\\\\3356.0 & 9155.0 & 4192.0\\\\4520.0 & 12495.0 & 5719.0\\end{matrix}\\right]$"
      ],
      "text/plain": [
       "Matrix([\n",
       "[5140.0, 12375.0, 5690.0],\n",
       "[3356.0,  9155.0, 4192.0],\n",
       "[4520.0, 12495.0, 5719.0]])"
      ]
     },
     "execution_count": 88,
     "metadata": {},
     "output_type": "execute_result"
    }
   ],
   "source": [
    "M = Matrix([[Matrix(tens[:,0,0]), Matrix(tens[:,1,1]),Matrix(tens[:,0,1])]])\n",
    "M"
   ]
  },
  {
   "cell_type": "code",
   "execution_count": 89,
   "id": "2c2ef900-4ba8-47e1-9b64-55e3428e85f2",
   "metadata": {},
   "outputs": [
    {
     "data": {
      "text/latex": [
       "$\\displaystyle \\left[\\begin{matrix}5690.0\\\\4192.0\\\\5719.0\\end{matrix}\\right]$"
      ],
      "text/plain": [
       "Matrix([\n",
       "[5690.0],\n",
       "[4192.0],\n",
       "[5719.0]])"
      ]
     },
     "execution_count": 89,
     "metadata": {},
     "output_type": "execute_result"
    }
   ],
   "source": [
    "M[:,2]"
   ]
  },
  {
   "cell_type": "code",
   "execution_count": 90,
   "id": "37849f90-974d-4884-b236-f24b7078ff5e",
   "metadata": {},
   "outputs": [
    {
     "data": {
      "text/plain": [
       "array([[0.03907749],\n",
       "       [0.44356701]])"
      ]
     },
     "execution_count": 90,
     "metadata": {},
     "output_type": "execute_result"
    }
   ],
   "source": [
    "M1 = M[:,0:2]\n",
    "R = M[:,2]\n",
    "sol = la.solve(np.array(M1.T@M1,dtype = \"float\"),np.array(M1.T@R, dtype = \"float\"))\n",
    "sol"
   ]
  },
  {
   "cell_type": "code",
   "execution_count": 79,
   "id": "581f2359-0c3d-4fcf-9bd4-ddd65fc3299d",
   "metadata": {},
   "outputs": [
    {
     "data": {
      "text/plain": [
       "array([[[ 0.00000000e+00,  1.00044417e-11],\n",
       "        [ 0.00000000e+00,  0.00000000e+00]],\n",
       "\n",
       "       [[ 0.00000000e+00, -4.54747351e-12],\n",
       "        [ 0.00000000e+00,  0.00000000e+00]],\n",
       "\n",
       "       [[ 0.00000000e+00, -7.27595761e-12],\n",
       "        [ 0.00000000e+00,  0.00000000e+00]]])"
      ]
     },
     "execution_count": 79,
     "metadata": {},
     "output_type": "execute_result"
    }
   ],
   "source": [
    "x = sol[0][0]\n",
    "y = sol[1][0]\n",
    "a1 = np.array([1,0])\n",
    "a2 = np.array([1,x])\n",
    "a3 = np.array(tens[:,0,0], dtype = \"float\")\n",
    "t1= np.kron(np.kron(a3,a1),a2).reshape(3,2,2)\n",
    "\n",
    "b1 = np.array([y,1])\n",
    "b2 = np.array([0,1])\n",
    "b3 = np.array(tens[:,1,1], dtype = \"float\")\n",
    "t2 = np.kron(np.kron(b3,b1),b2).reshape(3,2,2)\n",
    "\n",
    "c1 = np.array([0,1])\n",
    "c2 = np.array([1,0])\n",
    "c3 = np.array(tens[:,1,0], dtype = \"float\")\n",
    "t3 = np.kron(np.kron(c3,c1),c2).reshape(3,2,2)\n",
    "t3+t1+t2-tens"
   ]
  },
  {
   "cell_type": "code",
   "execution_count": 81,
   "id": "615639ef-dad2-4ae1-8b85-f501211080e6",
   "metadata": {},
   "outputs": [
    {
     "data": {
      "text/plain": [
       "True"
      ]
     },
     "execution_count": 81,
     "metadata": {},
     "output_type": "execute_result"
    }
   ],
   "source": [
    "np.all(sol>=0)"
   ]
  },
  {
   "cell_type": "code",
   "execution_count": 21,
   "id": "e22a7ad3-dbf8-44cf-9949-a37d3f925720",
   "metadata": {},
   "outputs": [
    {
     "data": {
      "text/plain": [
       "array([[[10400.,  5820.],\n",
       "        [ 5081.,  3967.]],\n",
       "\n",
       "       [[12920.,  7190.],\n",
       "        [ 7241.,  4885.]],\n",
       "\n",
       "       [[ 8856.,  7836.],\n",
       "        [11664., 17658.]]])"
      ]
     },
     "execution_count": 21,
     "metadata": {},
     "output_type": "execute_result"
    }
   ],
   "source": [
    "tens=rank_tree(30)\n",
    "tens"
   ]
  },
  {
   "cell_type": "code",
   "execution_count": 41,
   "id": "4f27478c-a6d4-430e-8d3b-3806f541e433",
   "metadata": {},
   "outputs": [
    {
     "data": {
      "text/latex": [
       "$\\displaystyle \\left[\\begin{matrix}10400.0 & 12920.0\\\\5820.0 & 7190.0\\\\5081.0 & 7241.0\\\\3967.0 & 4885.0\\end{matrix}\\right]$"
      ],
      "text/plain": [
       "Matrix([\n",
       "[10400.0, 12920.0],\n",
       "[ 5820.0,  7190.0],\n",
       "[ 5081.0,  7241.0],\n",
       "[ 3967.0,  4885.0]])"
      ]
     },
     "execution_count": 41,
     "metadata": {},
     "output_type": "execute_result"
    }
   ],
   "source": [
    "M= Matrix([[Matrix(tens[0].reshape(4)),Matrix(tens[1].reshape(4))]])\n",
    "M"
   ]
  },
  {
   "cell_type": "code",
   "execution_count": 42,
   "id": "13fb336a-5754-46d4-be49-9ff343b1368f",
   "metadata": {},
   "outputs": [
    {
     "data": {
      "text/latex": [
       "$\\displaystyle \\left[\\begin{matrix}10400.0 & 12920.0 & a & 8856.0\\\\5820.0 & 7190.0 & 1 & 7836.0\\\\5081.0 & 7241.0 & a & 11664.0\\\\3967.0 & 4885.0 & 1 & 17658.0\\end{matrix}\\right]$"
      ],
      "text/plain": [
       "Matrix([\n",
       "[10400.0, 12920.0, a,  8856.0],\n",
       "[ 5820.0,  7190.0, 1,  7836.0],\n",
       "[ 5081.0,  7241.0, a, 11664.0],\n",
       "[ 3967.0,  4885.0, 1, 17658.0]])"
      ]
     },
     "execution_count": 42,
     "metadata": {},
     "output_type": "execute_result"
    }
   ],
   "source": [
    "a = symbols('a')\n",
    "A1 = Matrix([a,a,1,1])\n",
    "A2 = Matrix([a,1,a,1])\n",
    "M1 = Matrix([[M,A,Matrix(tens[2].reshape(4))]])\n",
    "M2 = Matrix([[M,A2,Matrix(tens[2].reshape(4))]])\n",
    "M2"
   ]
  },
  {
   "cell_type": "code",
   "execution_count": 43,
   "id": "aacd0795-9692-40e2-8a23-f933a26cc728",
   "metadata": {},
   "outputs": [
    {
     "data": {
      "text/plain": [
       "[0.365579258286840]"
      ]
     },
     "execution_count": 43,
     "metadata": {},
     "output_type": "execute_result"
    }
   ],
   "source": [
    "a1 = solve(M1.det())"
   ]
  },
  {
   "cell_type": "code",
   "execution_count": 48,
   "id": "7f1ef391-eca5-4955-83da-21d135349880",
   "metadata": {},
   "outputs": [
    {
     "data": {
      "text/latex": [
       "$\\displaystyle 1.70125109917377$"
      ],
      "text/plain": [
       "1.70125109917377"
      ]
     },
     "execution_count": 48,
     "metadata": {},
     "output_type": "execute_result"
    }
   ],
   "source": [
    "a2= solve(M2.det())[0]\n",
    "a"
   ]
  },
  {
   "cell_type": "code",
   "execution_count": 50,
   "id": "81de3142-5cc0-4162-b4ea-e4e67206f00b",
   "metadata": {},
   "outputs": [
    {
     "data": {
      "text/latex": [
       "$\\displaystyle \\left[\\begin{matrix}10400.0 & 12920.0 & 1.70125109917377 & 8856.0\\\\5820.0 & 7190.0 & 1 & 7836.0\\\\5081.0 & 7241.0 & 1.70125109917377 & 11664.0\\\\3967.0 & 4885.0 & 1 & 17658.0\\end{matrix}\\right]$"
      ],
      "text/plain": [
       "Matrix([\n",
       "[10400.0, 12920.0, 1.70125109917377,  8856.0],\n",
       "[ 5820.0,  7190.0,                1,  7836.0],\n",
       "[ 5081.0,  7241.0, 1.70125109917377, 11664.0],\n",
       "[ 3967.0,  4885.0,                1, 17658.0]])"
      ]
     },
     "execution_count": 50,
     "metadata": {},
     "output_type": "execute_result"
    }
   ],
   "source": [
    "A2 = Matrix([a,1,a,1])\n",
    "M2 = Matrix([[M,A2,Matrix(tens[2].reshape(4))]])\n",
    "M2"
   ]
  },
  {
   "cell_type": "code",
   "execution_count": 55,
   "id": "c0da4754-3767-4cb9-bd23-3b480bc8e04d",
   "metadata": {},
   "outputs": [
    {
     "data": {
      "text/latex": [
       "$\\displaystyle \\left[\\begin{matrix}28.3843595216878\\\\-27.0794872857646\\\\37340.5411684248\\end{matrix}\\right]$"
      ],
      "text/plain": [
       "Matrix([\n",
       "[ 28.3843595216878],\n",
       "[-27.0794872857646],\n",
       "[ 37340.5411684248]])"
      ]
     },
     "execution_count": 55,
     "metadata": {},
     "output_type": "execute_result"
    }
   ],
   "source": [
    "M2_sub = M2[0:3,0:3]\n",
    "R = M2[0:3,3]\n",
    "M2_sub.inv() @ R"
   ]
  },
  {
   "cell_type": "code",
   "execution_count": 39,
   "id": "84f4dc38-d763-4f13-bcf0-7c7c05510e4a",
   "metadata": {},
   "outputs": [
    {
     "ename": "ValueError",
     "evalue": "mismatched dimensions",
     "output_type": "error",
     "traceback": [
      "\u001b[0;31m---------------------------------------------------------------------------\u001b[0m",
      "\u001b[0;31mValueError\u001b[0m                                Traceback (most recent call last)",
      "\u001b[0;32m/var/folders/9j/krll5bd51gg0w1t7kc1n3jdr0000gn/T/ipykernel_6814/918174724.py\u001b[0m in \u001b[0;36m<module>\u001b[0;34m\u001b[0m\n\u001b[1;32m      3\u001b[0m \u001b[0mA1\u001b[0m \u001b[0;34m=\u001b[0m \u001b[0mMatrix\u001b[0m\u001b[0;34m(\u001b[0m\u001b[0;34m[\u001b[0m\u001b[0ma\u001b[0m\u001b[0;34m,\u001b[0m\u001b[0ma\u001b[0m\u001b[0;34m,\u001b[0m\u001b[0;36m1\u001b[0m\u001b[0;34m,\u001b[0m\u001b[0;36m1\u001b[0m\u001b[0;34m]\u001b[0m\u001b[0;34m)\u001b[0m\u001b[0;34m\u001b[0m\u001b[0;34m\u001b[0m\u001b[0m\n\u001b[1;32m      4\u001b[0m \u001b[0mA2\u001b[0m \u001b[0;34m=\u001b[0m \u001b[0mMatrix\u001b[0m\u001b[0;34m(\u001b[0m\u001b[0;34m[\u001b[0m\u001b[0ma\u001b[0m\u001b[0;34m,\u001b[0m\u001b[0;36m1\u001b[0m\u001b[0;34m,\u001b[0m\u001b[0ma\u001b[0m\u001b[0;34m,\u001b[0m\u001b[0;36m1\u001b[0m\u001b[0;34m]\u001b[0m\u001b[0;34m)\u001b[0m\u001b[0;34m\u001b[0m\u001b[0;34m\u001b[0m\u001b[0m\n\u001b[0;32m----> 5\u001b[0;31m \u001b[0mM1\u001b[0m \u001b[0;34m=\u001b[0m \u001b[0mMatrix\u001b[0m\u001b[0;34m(\u001b[0m\u001b[0;34m[\u001b[0m\u001b[0;34m[\u001b[0m\u001b[0mM\u001b[0m\u001b[0;34m,\u001b[0m\u001b[0mA\u001b[0m\u001b[0;34m,\u001b[0m\u001b[0mMatrix\u001b[0m\u001b[0;34m(\u001b[0m\u001b[0mtens\u001b[0m\u001b[0;34m[\u001b[0m\u001b[0;36m2\u001b[0m\u001b[0;34m]\u001b[0m\u001b[0;34m.\u001b[0m\u001b[0mreshape\u001b[0m\u001b[0;34m(\u001b[0m\u001b[0;36m4\u001b[0m\u001b[0;34m)\u001b[0m\u001b[0;34m)\u001b[0m\u001b[0;34m]\u001b[0m\u001b[0;34m]\u001b[0m\u001b[0;34m)\u001b[0m\u001b[0;34m\u001b[0m\u001b[0;34m\u001b[0m\u001b[0m\n\u001b[0m\u001b[1;32m      6\u001b[0m \u001b[0mM2\u001b[0m \u001b[0;34m=\u001b[0m \u001b[0mMatrix\u001b[0m\u001b[0;34m(\u001b[0m\u001b[0;34m[\u001b[0m\u001b[0;34m[\u001b[0m\u001b[0mM\u001b[0m\u001b[0;34m,\u001b[0m\u001b[0mA2\u001b[0m\u001b[0;34m,\u001b[0m\u001b[0mMatrix\u001b[0m\u001b[0;34m(\u001b[0m\u001b[0mtens\u001b[0m\u001b[0;34m[\u001b[0m\u001b[0;36m2\u001b[0m\u001b[0;34m]\u001b[0m\u001b[0;34m.\u001b[0m\u001b[0mreshape\u001b[0m\u001b[0;34m(\u001b[0m\u001b[0;36m4\u001b[0m\u001b[0;34m)\u001b[0m\u001b[0;34m)\u001b[0m\u001b[0;34m]\u001b[0m\u001b[0;34m]\u001b[0m\u001b[0;34m)\u001b[0m\u001b[0;34m\u001b[0m\u001b[0;34m\u001b[0m\u001b[0m\n\u001b[1;32m      7\u001b[0m \u001b[0;34m\u001b[0m\u001b[0m\n",
      "\u001b[0;32m/Library/Frameworks/Python.framework/Versions/3.9/lib/python3.9/site-packages/sympy/matrices/repmatrix.py\u001b[0m in \u001b[0;36m__new__\u001b[0;34m(cls, *args, **kwargs)\u001b[0m\n\u001b[1;32m    315\u001b[0m \u001b[0;34m\u001b[0m\u001b[0m\n\u001b[1;32m    316\u001b[0m     \u001b[0;32mdef\u001b[0m \u001b[0m__new__\u001b[0m\u001b[0;34m(\u001b[0m\u001b[0mcls\u001b[0m\u001b[0;34m,\u001b[0m \u001b[0;34m*\u001b[0m\u001b[0margs\u001b[0m\u001b[0;34m,\u001b[0m \u001b[0;34m**\u001b[0m\u001b[0mkwargs\u001b[0m\u001b[0;34m)\u001b[0m\u001b[0;34m:\u001b[0m\u001b[0;34m\u001b[0m\u001b[0;34m\u001b[0m\u001b[0m\n\u001b[0;32m--> 317\u001b[0;31m         \u001b[0;32mreturn\u001b[0m \u001b[0mcls\u001b[0m\u001b[0;34m.\u001b[0m\u001b[0m_new\u001b[0m\u001b[0;34m(\u001b[0m\u001b[0;34m*\u001b[0m\u001b[0margs\u001b[0m\u001b[0;34m,\u001b[0m \u001b[0;34m**\u001b[0m\u001b[0mkwargs\u001b[0m\u001b[0;34m)\u001b[0m\u001b[0;34m\u001b[0m\u001b[0;34m\u001b[0m\u001b[0m\n\u001b[0m\u001b[1;32m    318\u001b[0m \u001b[0;34m\u001b[0m\u001b[0m\n\u001b[1;32m    319\u001b[0m     \u001b[0;34m@\u001b[0m\u001b[0mclassmethod\u001b[0m\u001b[0;34m\u001b[0m\u001b[0;34m\u001b[0m\u001b[0m\n",
      "\u001b[0;32m/Library/Frameworks/Python.framework/Versions/3.9/lib/python3.9/site-packages/sympy/matrices/repmatrix.py\u001b[0m in \u001b[0;36m_new\u001b[0;34m(cls, copy, *args, **kwargs)\u001b[0m\n\u001b[1;32m    326\u001b[0m             \u001b[0mrows\u001b[0m\u001b[0;34m,\u001b[0m \u001b[0mcols\u001b[0m\u001b[0;34m,\u001b[0m \u001b[0mflat_list\u001b[0m \u001b[0;34m=\u001b[0m \u001b[0margs\u001b[0m\u001b[0;34m\u001b[0m\u001b[0;34m\u001b[0m\u001b[0m\n\u001b[1;32m    327\u001b[0m         \u001b[0;32melse\u001b[0m\u001b[0;34m:\u001b[0m\u001b[0;34m\u001b[0m\u001b[0;34m\u001b[0m\u001b[0m\n\u001b[0;32m--> 328\u001b[0;31m             \u001b[0mrows\u001b[0m\u001b[0;34m,\u001b[0m \u001b[0mcols\u001b[0m\u001b[0;34m,\u001b[0m \u001b[0mflat_list\u001b[0m \u001b[0;34m=\u001b[0m \u001b[0mcls\u001b[0m\u001b[0;34m.\u001b[0m\u001b[0m_handle_creation_inputs\u001b[0m\u001b[0;34m(\u001b[0m\u001b[0;34m*\u001b[0m\u001b[0margs\u001b[0m\u001b[0;34m,\u001b[0m \u001b[0;34m**\u001b[0m\u001b[0mkwargs\u001b[0m\u001b[0;34m)\u001b[0m\u001b[0;34m\u001b[0m\u001b[0;34m\u001b[0m\u001b[0m\n\u001b[0m\u001b[1;32m    329\u001b[0m             \u001b[0mflat_list\u001b[0m \u001b[0;34m=\u001b[0m \u001b[0mlist\u001b[0m\u001b[0;34m(\u001b[0m\u001b[0mflat_list\u001b[0m\u001b[0;34m)\u001b[0m \u001b[0;31m# create a shallow copy\u001b[0m\u001b[0;34m\u001b[0m\u001b[0;34m\u001b[0m\u001b[0m\n\u001b[1;32m    330\u001b[0m \u001b[0;34m\u001b[0m\u001b[0m\n",
      "\u001b[0;32m/Library/Frameworks/Python.framework/Versions/3.9/lib/python3.9/site-packages/sympy/matrices/matrices.py\u001b[0m in \u001b[0;36m_handle_creation_inputs\u001b[0;34m(cls, *args, **kwargs)\u001b[0m\n\u001b[1;32m   1089\u001b[0m \u001b[0;34m\u001b[0m\u001b[0m\n\u001b[1;32m   1090\u001b[0m                         \u001b[0;32mif\u001b[0m \u001b[0mevaluate\u001b[0m \u001b[0;32mand\u001b[0m \u001b[0mall\u001b[0m\u001b[0;34m(\u001b[0m\u001b[0mismat\u001b[0m\u001b[0;34m(\u001b[0m\u001b[0mi\u001b[0m\u001b[0;34m)\u001b[0m \u001b[0;32mfor\u001b[0m \u001b[0mi\u001b[0m \u001b[0;32min\u001b[0m \u001b[0mrow\u001b[0m\u001b[0;34m)\u001b[0m\u001b[0;34m:\u001b[0m\u001b[0;34m\u001b[0m\u001b[0;34m\u001b[0m\u001b[0m\n\u001b[0;32m-> 1091\u001b[0;31m                             r, c, flatT = cls._handle_creation_inputs(\n\u001b[0m\u001b[1;32m   1092\u001b[0m                                 [i.T for i in row])\n\u001b[1;32m   1093\u001b[0m                             \u001b[0mT\u001b[0m \u001b[0;34m=\u001b[0m \u001b[0mreshape\u001b[0m\u001b[0;34m(\u001b[0m\u001b[0mflatT\u001b[0m\u001b[0;34m,\u001b[0m \u001b[0;34m[\u001b[0m\u001b[0mc\u001b[0m\u001b[0;34m]\u001b[0m\u001b[0;34m)\u001b[0m\u001b[0;34m\u001b[0m\u001b[0;34m\u001b[0m\u001b[0m\n",
      "\u001b[0;32m/Library/Frameworks/Python.framework/Versions/3.9/lib/python3.9/site-packages/sympy/matrices/matrices.py\u001b[0m in \u001b[0;36m_handle_creation_inputs\u001b[0;34m(cls, *args, **kwargs)\u001b[0m\n\u001b[1;32m   1043\u001b[0m                     \u001b[0;32mif\u001b[0m \u001b[0mncol\u001b[0m\u001b[0;34m:\u001b[0m\u001b[0;34m\u001b[0m\u001b[0;34m\u001b[0m\u001b[0m\n\u001b[1;32m   1044\u001b[0m                         \u001b[0;32mif\u001b[0m \u001b[0mlen\u001b[0m\u001b[0;34m(\u001b[0m\u001b[0mncol\u001b[0m\u001b[0;34m)\u001b[0m \u001b[0;34m!=\u001b[0m \u001b[0;36m1\u001b[0m\u001b[0;34m:\u001b[0m\u001b[0;34m\u001b[0m\u001b[0;34m\u001b[0m\u001b[0m\n\u001b[0;32m-> 1045\u001b[0;31m                             \u001b[0;32mraise\u001b[0m \u001b[0mValueError\u001b[0m\u001b[0;34m(\u001b[0m\u001b[0;34m'mismatched dimensions'\u001b[0m\u001b[0;34m)\u001b[0m\u001b[0;34m\u001b[0m\u001b[0;34m\u001b[0m\u001b[0m\n\u001b[0m\u001b[1;32m   1046\u001b[0m                         \u001b[0mflat_list\u001b[0m \u001b[0;34m=\u001b[0m \u001b[0;34m[\u001b[0m\u001b[0m_\u001b[0m \u001b[0;32mfor\u001b[0m \u001b[0mi\u001b[0m \u001b[0;32min\u001b[0m \u001b[0mdat\u001b[0m \u001b[0;32mfor\u001b[0m \u001b[0mr\u001b[0m \u001b[0;32min\u001b[0m \u001b[0mi\u001b[0m\u001b[0;34m.\u001b[0m\u001b[0mtolist\u001b[0m\u001b[0;34m(\u001b[0m\u001b[0;34m)\u001b[0m \u001b[0;32mfor\u001b[0m \u001b[0m_\u001b[0m \u001b[0;32min\u001b[0m \u001b[0mr\u001b[0m\u001b[0;34m]\u001b[0m\u001b[0;34m\u001b[0m\u001b[0;34m\u001b[0m\u001b[0m\n\u001b[1;32m   1047\u001b[0m                         \u001b[0mcols\u001b[0m \u001b[0;34m=\u001b[0m \u001b[0mncol\u001b[0m\u001b[0;34m.\u001b[0m\u001b[0mpop\u001b[0m\u001b[0;34m(\u001b[0m\u001b[0;34m)\u001b[0m\u001b[0;34m\u001b[0m\u001b[0;34m\u001b[0m\u001b[0m\n",
      "\u001b[0;31mValueError\u001b[0m: mismatched dimensions"
     ]
    }
   ],
   "source": [
    "a = symbols('a')\n",
    "M= Matrix([[Matrix(tens[0].reshape(4)),Matrix(tens[1].reshape(4))]])\n",
    "A1 = Matrix([a,a,1,1])\n",
    "A2 = Matrix([a,1,a,1])\n",
    "M1 = Matrix([[M,A,Matrix(tens[2].reshape(4))]])\n",
    "M2 = Matrix([[M,A2,Matrix(tens[2].reshape(4))]])\n",
    "\n",
    "a1 = solve(M1.det())[0]\n",
    "A1 = Matrix([a1,a1,1,1])\n",
    "M1 = Matrix([[M,A1,Matrix(tens[2].reshape(4))]])\n",
    "M1_sub = M1[0:3,0:3]\n",
    "R = M1[0:3,3]\n",
    "\n",
    "a2= solve(M2.det())[0]\n",
    "A2 = Matrix([a2,1,a2,1])\n",
    "M2 = Matrix([[M,A2,Matrix(tens[2].reshape(4))]])\n",
    "M2_sub = M2[0:3,0:3]\n",
    "R = M2[0:3,3]\n",
    "M2_sub.inv() @ R\n",
    "M2_sub.det()"
   ]
  },
  {
   "cell_type": "code",
   "execution_count": 212,
   "id": "13dde697-966f-49ae-b580-22e912954067",
   "metadata": {},
   "outputs": [
    {
     "data": {
      "text/latex": [
       "$\\displaystyle \\left[\\begin{matrix}-0.401121526436338\\\\0.604116539563254\\\\69950.2062925451\\end{matrix}\\right]$"
      ],
      "text/plain": [
       "Matrix([\n",
       "[-0.401121526436338],\n",
       "[ 0.604116539563254],\n",
       "[  69950.2062925451]])"
      ]
     },
     "execution_count": 212,
     "metadata": {},
     "output_type": "execute_result"
    }
   ],
   "source": [
    "R = M1[0:3,3]\n",
    "c1 = M1_sub.inv() @ R\n",
    "c1"
   ]
  },
  {
   "cell_type": "code",
   "execution_count": 40,
   "id": "d0119b14-5519-4ecb-9057-db558791108a",
   "metadata": {},
   "outputs": [
    {
     "name": "stdout",
     "output_type": "stream",
     "text": [
      "True False False\n"
     ]
    },
    {
     "data": {
      "text/plain": [
       "array([[[ 5304., 84809.],\n",
       "        [ 6564., 32647.]],\n",
       "\n",
       "       [[40742., 96859.],\n",
       "        [57029., 94062.]],\n",
       "\n",
       "       [[95104., 16166.],\n",
       "        [69555., 25553.]]])"
      ]
     },
     "execution_count": 40,
     "metadata": {},
     "output_type": "execute_result"
    }
   ],
   "source": [
    "a = False\n",
    "b = False\n",
    "c = False\n",
    "tens = rand_tensor()\n",
    "while not (a):\n",
    "    tens = rand_tensor()\n",
    "    t = tens\n",
    "    a = check_r2(tl.tensor([t[0],t[1]]))\n",
    "    b = check_r2(tl.tensor([t[0],t[2]]))\n",
    "    c = check_r2(tl.tensor([t[1],t[2]]))\n",
    "print(a,b,c)\n",
    "tens"
   ]
  },
  {
   "cell_type": "code",
   "execution_count": 280,
   "id": "857b407a-e8f2-468d-b95f-a2e7307d1e74",
   "metadata": {},
   "outputs": [
    {
     "data": {
      "text/plain": [
       "array([[[ 2460.,  6951.],\n",
       "        [21525., 88456.]],\n",
       "\n",
       "       [[38949., 24629.],\n",
       "        [95339., 86003.]]])"
      ]
     },
     "execution_count": 280,
     "metadata": {},
     "output_type": "execute_result"
    }
   ],
   "source": [
    "tens = tl.tensor([t[0],t[1]])\n",
    "tens"
   ]
  },
  {
   "cell_type": "code",
   "execution_count": 41,
   "id": "0e5ae2e6-91ae-411f-9ac3-762ad0867288",
   "metadata": {},
   "outputs": [
    {
     "data": {
      "text/plain": [
       "[(2.04293037722731,\n",
       "  1,\n",
       "  [Matrix([\n",
       "   [ 0.95786295915791],\n",
       "   [0.287225610754423]])]),\n",
       " (0.110986574087014,\n",
       "  1,\n",
       "  [Matrix([\n",
       "   [0.733632305981718],\n",
       "   [ 1.03500794263324]])])]"
      ]
     },
     "execution_count": 41,
     "metadata": {},
     "output_type": "execute_result"
    }
   ],
   "source": [
    "A = Matrix(tens[0]) * Matrix(tens[1]).inv()\n",
    "eig = A.eigenvects()\n",
    "res1 = Matrix(eig[0][2])\n",
    "res2 = Matrix(eig[1][2])\n",
    "eig"
   ]
  },
  {
   "cell_type": "code",
   "execution_count": 42,
   "id": "a31917d2-49d9-46cd-810c-179ae51ae3ee",
   "metadata": {},
   "outputs": [
    {
     "data": {
      "text/plain": [
       "[(0.110986574087014,\n",
       "  1,\n",
       "  [Matrix([\n",
       "   [0.567494545577919],\n",
       "   [0.823377155827942]])]),\n",
       " (2.04293037722731,\n",
       "  1,\n",
       "  [Matrix([\n",
       "   [0.012734537116776],\n",
       "   [ 1.20573325676918]])])]"
      ]
     },
     "execution_count": 42,
     "metadata": {},
     "output_type": "execute_result"
    }
   ],
   "source": [
    "B = Matrix(tens[0]).transpose() * Matrix(tens[1]).transpose().inv()\n",
    "res3 = Matrix(B.eigenvects()[0][2])\n",
    "res4 = Matrix(B.eigenvects()[1][2])\n",
    "B.eigenvects()"
   ]
  },
  {
   "cell_type": "code",
   "execution_count": 285,
   "id": "a6807c70-2f26-4634-a465-b970b522dbf4",
   "metadata": {},
   "outputs": [
    {
     "name": "stdout",
     "output_type": "stream",
     "text": [
      "[array([[  2668.28920964, 159865.63285338],\n",
      "       [ 95641.85125923,  65733.40116331]]), array([[1.03129125, 0.03217944],\n",
      "       [2.35108496, 0.44209192]]), array([[0.38909169, 0.27002511],\n",
      "       [0.22328243, 1.23176322]])]\n",
      "7.744390440853837e-05\n"
     ]
    },
    {
     "data": {
      "text/plain": [
       "True"
      ]
     },
     "execution_count": 285,
     "metadata": {},
     "output_type": "execute_result"
    }
   ],
   "source": [
    "check_rank(tens,2,p=True)"
   ]
  },
  {
   "cell_type": "code",
   "execution_count": 24,
   "id": "13e9f2d4-c61b-4253-a38f-0a7148e2b51d",
   "metadata": {},
   "outputs": [
    {
     "data": {
      "text/latex": [
       "$\\displaystyle \\left[\\begin{matrix}0.936127706008744 & 0.269242815108778\\\\0.217401744667086 & 0.0625276416540321\\end{matrix}\\right]$"
      ],
      "text/plain": [
       "Matrix([\n",
       "[0.936127706008744,  0.269242815108778],\n",
       "[0.217401744667086, 0.0625276416540321]])"
      ]
     },
     "execution_count": 24,
     "metadata": {},
     "output_type": "execute_result"
    }
   ],
   "source": [
    "Matrix(np.kron(res1,res3).reshape(2,2))"
   ]
  },
  {
   "cell_type": "code",
   "execution_count": 25,
   "id": "e1c26134-bb4d-4d20-84d1-7468997f7db7",
   "metadata": {},
   "outputs": [
    {
     "data": {
      "text/latex": [
       "$\\displaystyle \\left[\\begin{matrix}0.521781150083122 & 0.930408155769087\\\\0.793684155997519 & 1.41524892520007\\end{matrix}\\right]$"
      ],
      "text/plain": [
       "Matrix([\n",
       "[0.521781150083122, 0.930408155769087],\n",
       "[0.793684155997519,  1.41524892520007]])"
      ]
     },
     "execution_count": 25,
     "metadata": {},
     "output_type": "execute_result"
    }
   ],
   "source": [
    "Matrix(np.kron(res2,res4).reshape(2,2))"
   ]
  },
  {
   "cell_type": "code",
   "execution_count": 26,
   "id": "23db9a97-b140-4623-a0d0-4f487bd5e2bd",
   "metadata": {},
   "outputs": [
    {
     "data": {
      "text/latex": [
       "$\\displaystyle \\left[\\begin{matrix}0.936127706008744\\\\0.269242815108778\\\\0.217401744667086\\\\0.0625276416540321\\end{matrix}\\right]$"
      ],
      "text/plain": [
       "Matrix([\n",
       "[ 0.936127706008744],\n",
       "[ 0.269242815108778],\n",
       "[ 0.217401744667086],\n",
       "[0.0625276416540321]])"
      ]
     },
     "execution_count": 26,
     "metadata": {},
     "output_type": "execute_result"
    }
   ],
   "source": [
    "Matrix(np.kron(res1,res3))"
   ]
  },
  {
   "cell_type": "code",
   "execution_count": 27,
   "id": "f7cbb501-c9f0-43d0-883a-221b0bbdca27",
   "metadata": {},
   "outputs": [
    {
     "data": {
      "text/latex": [
       "$\\displaystyle \\left[\\begin{matrix}86322.0\\\\72472.0\\\\61108.0\\\\90048.0\\end{matrix}\\right]$"
      ],
      "text/plain": [
       "Matrix([\n",
       "[86322.0],\n",
       "[72472.0],\n",
       "[61108.0],\n",
       "[90048.0]])"
      ]
     },
     "execution_count": 27,
     "metadata": {},
     "output_type": "execute_result"
    }
   ],
   "source": [
    "Matrix(tens[0].reshape(4))"
   ]
  },
  {
   "cell_type": "code",
   "execution_count": 43,
   "id": "3a6f7885-d9ba-42da-9493-fcc084554916",
   "metadata": {},
   "outputs": [
    {
     "name": "stdout",
     "output_type": "stream",
     "text": [
      "True False False\n"
     ]
    },
    {
     "data": {
      "text/plain": [
       "array([[[ 3696.,  9108.],\n",
       "        [59501., 75776.]],\n",
       "\n",
       "       [[27298., 82874.],\n",
       "        [49164., 96206.]],\n",
       "\n",
       "       [[37244., 31506.],\n",
       "        [66394., 21448.]]])"
      ]
     },
     "execution_count": 43,
     "metadata": {},
     "output_type": "execute_result"
    }
   ],
   "source": [
    "a = False\n",
    "b = False\n",
    "c = False\n",
    "tens = rand_tensor()\n",
    "while not (a):\n",
    "    tens = rand_tensor()\n",
    "    t = tens\n",
    "    a = check_r2(tl.tensor([t[0],t[1]]))\n",
    "    b = check_r2(tl.tensor([t[0],t[2]]))\n",
    "    c = check_r2(tl.tensor([t[1],t[2]]))\n",
    "print(a,b,c)\n",
    "tens"
   ]
  },
  {
   "cell_type": "code",
   "execution_count": 73,
   "id": "8096e2c7-d1d6-4e05-9fae-543c9f07f1ba",
   "metadata": {},
   "outputs": [
    {
     "data": {
      "text/latex": [
       "$\\displaystyle - 37838.8236192105 a b + 28085.4140464477 a + 8944.91703282199 b - 3239.40365305323$"
      ],
      "text/plain": [
       "-37838.8236192105*a*b + 28085.4140464477*a + 8944.91703282199*b - 3239.40365305323"
      ]
     },
     "execution_count": 73,
     "metadata": {},
     "output_type": "execute_result"
    }
   ],
   "source": [
    "A = Matrix(tens[0]) * Matrix(tens[1]).inv()\n",
    "#a1\n",
    "res1 = Matrix(A.eigenvects()[0][2])\n",
    "#b1\n",
    "res2 = Matrix(A.eigenvects()[1][2])\n",
    "\n",
    "B = Matrix(tens[0]).transpose() * Matrix(tens[1]).transpose().inv()\n",
    "#a2\n",
    "res3 = Matrix(B.eigenvects()[0][2])\n",
    "#b2\n",
    "res4 = Matrix(B.eigenvects()[1][2])\n",
    "\n",
    "T1 = np.kron(res1,res3) * 1.0\n",
    "T2 = np.kron(res2,res4) * 1.0\n",
    "assert(np.all(T1 >= 0) or np.all(T1 <= 0))\n",
    "assert(np.all(T2 >= 0) or np.all(T2 <= 0))\n",
    "T1 = Matrix(abs(T1))\n",
    "T2 = Matrix(abs(T2))\n",
    "a,b = symbols('a,b')\n",
    "M = Matrix([[T1,T2]])\n",
    "A1 = Matrix([a*b,a,b,1])\n",
    "A2 = Matrix([a,1,a,1])\n",
    "M1 = Matrix([[M,A1,Matrix(tens[2].reshape(4))]])\n",
    "M2 = Matrix([[M,A2,Matrix(tens[2].reshape(4))]])\n",
    "M1.det()"
   ]
  },
  {
   "cell_type": "code",
   "execution_count": 74,
   "id": "67e7db5f-1af1-45f0-880c-3ed5bb3ce2b8",
   "metadata": {},
   "outputs": [
    {
     "data": {
      "text/latex": [
       "$\\displaystyle \\frac{0.1 \\left(894491703282199.0 b - 323940365305323.0\\right)}{378388236192105.0 b - 280854140464477.0}$"
      ],
      "text/plain": [
       "0.1*(894491703282199.0*b - 323940365305323.0)/(378388236192105.0*b - 280854140464477.0)"
      ]
     },
     "execution_count": 74,
     "metadata": {},
     "output_type": "execute_result"
    }
   ],
   "source": [
    "a1=solve(M1.det(),a)[0]\n",
    "a1"
   ]
  },
  {
   "cell_type": "code",
   "execution_count": 93,
   "id": "4b42c6ae-036d-4005-9179-eb6b564d996f",
   "metadata": {},
   "outputs": [
    {
     "data": {
      "text/latex": [
       "$\\displaystyle \\left[\\begin{matrix}\\frac{6639.4 b \\left(894491703282199.0 b - 323940365305323.0\\right)}{378388236192105.0 b - 280854140464477.0} + 19353.6244278998\\\\24066.6205223127 + \\frac{6639.4 \\left(894491703282199.0 b - 323940365305323.0\\right)}{378388236192105.0 b - 280854140464477.0}\\\\66394.0 b + 27142.3072227465\\end{matrix}\\right]$"
      ],
      "text/plain": [
       "Matrix([\n",
       "[6639.4*b*(894491703282199.0*b - 323940365305323.0)/(378388236192105.0*b - 280854140464477.0) + 19353.6244278998],\n",
       "[  24066.6205223127 + 6639.4*(894491703282199.0*b - 323940365305323.0)/(378388236192105.0*b - 280854140464477.0)],\n",
       "[                                                                                   66394.0*b + 27142.3072227465]])"
      ]
     },
     "execution_count": 93,
     "metadata": {},
     "output_type": "execute_result"
    }
   ],
   "source": [
    "A1 = Matrix([a1 *b,a1,b,1])\n",
    "M1 = Matrix([[M,A1,Matrix(tens[2].reshape(4))]])\n",
    "M1_sub = M1[0:3,0:3]\n",
    "R = M1[0:3,3]\n",
    "res = M1_sub @ R\n",
    "res"
   ]
  },
  {
   "cell_type": "code",
   "execution_count": 85,
   "id": "2015452a-9e3d-4c66-9ac8-4b74a9cbc825",
   "metadata": {},
   "outputs": [
    {
     "data": {
      "text/latex": [
       "$\\displaystyle 224.720543652959 b^{3} + 28.92193221195 b^{2} - 350.94404249226 b + 152.659547440344$"
      ],
      "text/plain": [
       "224.720543652959*b**3 + 28.92193221195*b**2 - 350.94404249226*b + 152.659547440344"
      ]
     },
     "execution_count": 85,
     "metadata": {},
     "output_type": "execute_result"
    }
   ],
   "source": [
    "res[0] = fraction(simplify(res[0]))[0] * fraction(simplify(res[0]))[1]\n",
    "res[0] = expand(res[0])/ 10e+30"
   ]
  },
  {
   "cell_type": "code",
   "execution_count": 87,
   "id": "79254206-14fe-43ba-aa0b-cbce9a5924aa",
   "metadata": {},
   "outputs": [
    {
     "data": {
      "text/plain": [
       "[-1.48660279251769, 0.615662986490712, 0.742238033853382]"
      ]
     },
     "execution_count": 87,
     "metadata": {},
     "output_type": "execute_result"
    }
   ],
   "source": [
    "solve(res[0],b)"
   ]
  },
  {
   "cell_type": "code",
   "execution_count": 92,
   "id": "56dafda8-72d4-4aec-9ad5-7e49c4b6904f",
   "metadata": {},
   "outputs": [
    {
     "data": {
      "text/latex": [
       "$\\displaystyle 5.6930077817674 \\cdot 10^{-29} b^{2} - 7.59699839906345 \\cdot 10^{-29} b + 2.50240468516851 \\cdot 10^{-29}$"
      ],
      "text/plain": [
       "5.6930077817674e-29*b**2 - 7.59699839906345e-29*b + 2.50240468516851e-29"
      ]
     },
     "execution_count": 92,
     "metadata": {},
     "output_type": "execute_result"
    }
   ],
   "source": [
    "res[1] = fraction(simplify(res[1]))[0] * fraction(simplify(res[1]))[1]\n",
    "res[1] = expand(res[1])\n",
    "res[1]"
   ]
  },
  {
   "cell_type": "code",
   "execution_count": 91,
   "id": "4ec98a53-7d27-45c4-9dc8-2cf95bb75678",
   "metadata": {},
   "outputs": [
    {
     "data": {
      "text/plain": [
       "[0.592205671527419, 0.742238033853386]"
      ]
     },
     "execution_count": 91,
     "metadata": {},
     "output_type": "execute_result"
    }
   ],
   "source": [
    "solve(res[1],b)"
   ]
  },
  {
   "cell_type": "code",
   "execution_count": 70,
   "id": "35658107-6c17-4b53-b674-420098852e8b",
   "metadata": {},
   "outputs": [
    {
     "data": {
      "text/plain": [
       "[-0.408806627447458]"
      ]
     },
     "execution_count": 70,
     "metadata": {},
     "output_type": "execute_result"
    }
   ],
   "source": [
    "solve(res[2],b)"
   ]
  },
  {
   "cell_type": "code",
   "execution_count": 58,
   "id": "2bb1737b-45cd-4325-95ac-2bf3cfce8161",
   "metadata": {},
   "outputs": [
    {
     "ename": "TypeError",
     "evalue": "unsupported operand type(s) for *: 'dict' and 'Symbol'",
     "output_type": "error",
     "traceback": [
      "\u001b[0;31m---------------------------------------------------------------------------\u001b[0m",
      "\u001b[0;31mTypeError\u001b[0m                                 Traceback (most recent call last)",
      "\u001b[0;32m/var/folders/9j/krll5bd51gg0w1t7kc1n3jdr0000gn/T/ipykernel_6814/1874938742.py\u001b[0m in \u001b[0;36m<module>\u001b[0;34m\u001b[0m\n\u001b[1;32m      1\u001b[0m \u001b[0ma1\u001b[0m \u001b[0;34m=\u001b[0m \u001b[0msolve\u001b[0m\u001b[0;34m(\u001b[0m\u001b[0mM1\u001b[0m\u001b[0;34m.\u001b[0m\u001b[0mdet\u001b[0m\u001b[0;34m(\u001b[0m\u001b[0;34m)\u001b[0m\u001b[0;34m)\u001b[0m\u001b[0;34m[\u001b[0m\u001b[0;36m0\u001b[0m\u001b[0;34m]\u001b[0m\u001b[0;34m\u001b[0m\u001b[0;34m\u001b[0m\u001b[0m\n\u001b[0;32m----> 2\u001b[0;31m \u001b[0mA1\u001b[0m \u001b[0;34m=\u001b[0m \u001b[0mMatrix\u001b[0m\u001b[0;34m(\u001b[0m\u001b[0;34m[\u001b[0m\u001b[0ma1\u001b[0m \u001b[0;34m*\u001b[0m\u001b[0mb\u001b[0m\u001b[0;34m,\u001b[0m\u001b[0ma1\u001b[0m\u001b[0;34m,\u001b[0m\u001b[0mb\u001b[0m\u001b[0;34m,\u001b[0m\u001b[0;36m1\u001b[0m\u001b[0;34m]\u001b[0m\u001b[0;34m)\u001b[0m\u001b[0;34m\u001b[0m\u001b[0;34m\u001b[0m\u001b[0m\n\u001b[0m\u001b[1;32m      3\u001b[0m \u001b[0mM1\u001b[0m \u001b[0;34m=\u001b[0m \u001b[0mMatrix\u001b[0m\u001b[0;34m(\u001b[0m\u001b[0;34m[\u001b[0m\u001b[0;34m[\u001b[0m\u001b[0mM\u001b[0m\u001b[0;34m,\u001b[0m\u001b[0mA1\u001b[0m\u001b[0;34m,\u001b[0m\u001b[0mMatrix\u001b[0m\u001b[0;34m(\u001b[0m\u001b[0mtens\u001b[0m\u001b[0;34m[\u001b[0m\u001b[0;36m2\u001b[0m\u001b[0;34m]\u001b[0m\u001b[0;34m.\u001b[0m\u001b[0mreshape\u001b[0m\u001b[0;34m(\u001b[0m\u001b[0;36m4\u001b[0m\u001b[0;34m)\u001b[0m\u001b[0;34m)\u001b[0m\u001b[0;34m]\u001b[0m\u001b[0;34m]\u001b[0m\u001b[0;34m)\u001b[0m\u001b[0;34m\u001b[0m\u001b[0;34m\u001b[0m\u001b[0m\n\u001b[1;32m      4\u001b[0m \u001b[0mM1_sub\u001b[0m \u001b[0;34m=\u001b[0m \u001b[0mM1\u001b[0m\u001b[0;34m[\u001b[0m\u001b[0;36m0\u001b[0m\u001b[0;34m:\u001b[0m\u001b[0;36m3\u001b[0m\u001b[0;34m,\u001b[0m\u001b[0;36m0\u001b[0m\u001b[0;34m:\u001b[0m\u001b[0;36m3\u001b[0m\u001b[0;34m]\u001b[0m\u001b[0;34m\u001b[0m\u001b[0;34m\u001b[0m\u001b[0m\n\u001b[1;32m      5\u001b[0m \u001b[0mR\u001b[0m \u001b[0;34m=\u001b[0m \u001b[0mM1\u001b[0m\u001b[0;34m[\u001b[0m\u001b[0;36m0\u001b[0m\u001b[0;34m:\u001b[0m\u001b[0;36m3\u001b[0m\u001b[0;34m,\u001b[0m\u001b[0;36m3\u001b[0m\u001b[0;34m]\u001b[0m\u001b[0;34m\u001b[0m\u001b[0;34m\u001b[0m\u001b[0m\n",
      "\u001b[0;31mTypeError\u001b[0m: unsupported operand type(s) for *: 'dict' and 'Symbol'"
     ]
    }
   ],
   "source": [
    "A1 = Matrix([a1 *b,a1,b,1])\n",
    "M1 = Matrix([[M,A1,Matrix(tens[2].reshape(4))]])\n",
    "M1_sub = M1[0:3,0:3]\n",
    "R = M1[0:3,3]\n",
    "M1_sub@R"
   ]
  },
  {
   "cell_type": "code",
   "execution_count": null,
   "id": "65a15fe7-2e13-4e96-bd5c-50bc4690bc4e",
   "metadata": {},
   "outputs": [],
   "source": [
    "a2= solve(M2.det())[0]\n",
    "A2 = Matrix([a2,1,a2,1])\n",
    "M2 = Matrix([[M,A2,Matrix(tens[2].reshape(4))]])\n",
    "M2_sub = M2[0:3,0:3]\n",
    "R = M2[0:3,3]\n",
    "M2_sub.inv() @ R\n",
    "M2_sub.det()"
   ]
  },
  {
   "cell_type": "code",
   "execution_count": 34,
   "id": "92e90bb4-95a5-4820-a9f1-b8aca90eda61",
   "metadata": {},
   "outputs": [
    {
     "data": {
      "text/latex": [
       "$\\displaystyle \\left[\\begin{matrix}12563.4782277117\\\\14165.4705309909\\\\17372.7683915113\\end{matrix}\\right]$"
      ],
      "text/plain": [
       "Matrix([\n",
       "[12563.4782277117],\n",
       "[14165.4705309909],\n",
       "[17372.7683915113]])"
      ]
     },
     "execution_count": 34,
     "metadata": {},
     "output_type": "execute_result"
    }
   ],
   "source": [
    "M1_sub.inv() @ R"
   ]
  },
  {
   "cell_type": "code",
   "execution_count": 36,
   "id": "e01700c2-6537-4b8f-97bb-a18d6a0d40b7",
   "metadata": {},
   "outputs": [
    {
     "data": {
      "text/latex": [
       "$\\displaystyle 2.28942811794502$"
      ],
      "text/plain": [
       "2.28942811794502"
      ]
     },
     "execution_count": 36,
     "metadata": {},
     "output_type": "execute_result"
    }
   ],
   "source": [
    "a1"
   ]
  },
  {
   "cell_type": "code",
   "execution_count": null,
   "id": "759d23cc-beaf-45e6-afdc-755c666800ad",
   "metadata": {},
   "outputs": [],
   "source": []
  }
 ],
 "metadata": {
  "kernelspec": {
   "display_name": "Python 3 (ipykernel)",
   "language": "python",
   "name": "python3"
  },
  "language_info": {
   "codemirror_mode": {
    "name": "ipython",
    "version": 3
   },
   "file_extension": ".py",
   "mimetype": "text/x-python",
   "name": "python",
   "nbconvert_exporter": "python",
   "pygments_lexer": "ipython3",
   "version": "3.9.5"
  }
 },
 "nbformat": 4,
 "nbformat_minor": 5
}
