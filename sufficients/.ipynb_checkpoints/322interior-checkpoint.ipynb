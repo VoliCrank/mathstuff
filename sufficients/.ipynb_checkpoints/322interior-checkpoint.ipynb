{
 "cells": [
  {
   "cell_type": "code",
   "execution_count": 1,
   "id": "intimate-chaos",
   "metadata": {},
   "outputs": [],
   "source": [
    "import tensorly as tl\n",
    "import numpy as np\n",
    "from numpy import linalg as la\n",
    "from sympy import *\n",
    "from sympy.solvers.inequalities import *\n",
    "from sympy.polys import Poly\n",
    "from sympy.abc import x\n",
    "from sympy.solvers.solveset import linsolve"
   ]
  },
  {
   "cell_type": "code",
   "execution_count": 2,
   "id": "0c6abe29-e597-46e3-bc06-1af67297884c",
   "metadata": {},
   "outputs": [],
   "source": [
    "# checks if given 2x2x2 has nonneg rank 2\n",
    "def check_r2(t):\n",
    "    a1 = det(Matrix(t[0]))\n",
    "    a2 = det(Matrix(t[1]))\n",
    "    b1 = det(Matrix(t[:,0]))\n",
    "    b2 = det(Matrix(t[:,1]))\n",
    "    c1 = det(Matrix(t[:,:,0]))\n",
    "    c2 = det(Matrix(t[:,:,1]))\n",
    "    d1 = ineq(a1,a2,b1,b2,c1,c2,ge,ge,ge)\n",
    "    d2 = ineq(a1,a2,b1,b2,c1,c2,le,le,ge)\n",
    "    d3 = ineq(a1,a2,b1,b2,c1,c2,le,ge,le)\n",
    "    d4 = ineq(a1,a2,b1,b2,c1,c2,ge,le,le)\n",
    "    supermod = d1 or d2 or d3 or d4\n",
    "    return supermod"
   ]
  },
  {
   "cell_type": "code",
   "execution_count": 3,
   "id": "infrared-place",
   "metadata": {},
   "outputs": [],
   "source": [
    "#generates random rank 3 tensors\n",
    "def rank_tree(size = 100, s = (2,3,3)):\n",
    "    return (low_tensor(size,s) + low_tensor(size,s) + low_tensor(size,s)) \n",
    "\n",
    "def rank_two(size = 100,s = (2,3,3)):\n",
    "    return (low_tensor(size,s) + low_tensor(size,s)) \n",
    "\n",
    "# random tensor of some dim\n",
    "def rand_tensor(size = 100000):\n",
    "    return tl.tensor(np.random.randint(1, size, size=(3,2,2)))*1.0\n",
    "\n",
    "# generates rank 1 tensors\n",
    "def low_tensor(size = 100,s = (2,3,3)):\n",
    "    a = np.random.randint(1, size, size=s[0]) \n",
    "    b = np.random.randint(1, size, size=s[1])\n",
    "    c = np.random.randint(1, size, size=s[2])\n",
    "    tens = tl.tensor(np.kron(a,np.kron(b,c)).reshape(s)) * 1.0\n",
    "    return tens\n",
    "\n",
    "\n",
    "\n",
    "\n",
    "# checks if the given 3x3x2 tensors has nonnegative rank 3 by\n",
    "# calculating its decomposition and calculating manually\n",
    "def check_int(tens):\n",
    "    if abs(Matrix(tens[1]).det()) < 0.1:\n",
    "        return False\n",
    "        \n",
    "    A = tens[0] @ la.inv(tens[1])\n",
    "    eig = la.eig(A)\n",
    "    B = tens[0].T @ la.inv(tens[1]).T\n",
    "    eig1 = la.eig(B)\n",
    "    \n",
    "    a1 = eig[1][:,0]\n",
    "    b1 = eig[1][:,1]\n",
    "    c1 = eig[1][:,2]\n",
    "\n",
    "    a2 = eig1[1][:,0]\n",
    "    b2 = eig1[1][:,1]\n",
    "    c2 = eig1[1][:,2]\n",
    "    \n",
    "    A1 = np.kron(a1,a2)\n",
    "    B1 = np.kron(b1,b2)\n",
    "    C1 = np.kron(c1,c2)\n",
    "    comb1 = mat_comb(tens,A1,B1,C1)\n",
    "    \n",
    "    A1 = np.kron(a1,b2)\n",
    "    B1 = np.kron(b1,c2)\n",
    "    C1 = np.kron(c1,a2)\n",
    "    comb2 = mat_comb(tens,A1,B1,C1)\n",
    "    \n",
    "    A1 = np.kron(a1,c2)\n",
    "    B1 = np.kron(b1,a2)\n",
    "    C1 = np.kron(c1,b2)\n",
    "    comb3 = mat_comb(tens,A1,B1,C1)\n",
    "    \n",
    "    A1 = np.kron(a1,a2)\n",
    "    B1 = np.kron(b1,c2)\n",
    "    C1 = np.kron(c1,b2)\n",
    "    comb4 = mat_comb(tens,A1,B1,C1)\n",
    "    \n",
    "    A1 = np.kron(a1,c2)\n",
    "    B1 = np.kron(b1,b2)\n",
    "    C1 = np.kron(c1,a2)\n",
    "    comb5 = mat_comb(tens,A1,B1,C1)\n",
    "    \n",
    "    A1 = np.kron(a1,b2)\n",
    "    B1 = np.kron(b1,a2)\n",
    "    C1 = np.kron(c1,c2)\n",
    "    comb6 = mat_comb(tens,A1,B1,C1)\n",
    "    return comb1 or comb2 or comb3 or comb4 or comb5 or comb6\n",
    "      \n",
    "# checks one combination of a1,b1,c1 with a2,b2,c2\n",
    "def mat_comb(tens,A1,B1,C1):\n",
    "    T1 = Matrix(A1.reshape(9))\n",
    "    T2 = Matrix(B1.reshape(9))\n",
    "    T3 = Matrix(C1.reshape(9))\n",
    "    pos1 = abs(sum(T1) / sum(abs(T1)))\n",
    "    pos2 = abs(sum(T2) / sum(abs(T2)))\n",
    "    pos3 = abs(sum(T3) / sum(abs(T3)))\n",
    "    if pos1 + pos2 + pos3 != 3:\n",
    "        return False\n",
    "    M = abs(Matrix([[T1,T2,T3]]))\n",
    "    R1 = tens[0].reshape(9)\n",
    "    R2 = tens[1].reshape(9)\n",
    "    sol1 = M[0:3,0:3].inv() @ R1[0:3]\n",
    "    sol2 = M[0:3,0:3].inv() @ R2[0:3]\n",
    "    a3 = [sol1[0],sol2[0]]\n",
    "    b3 = [sol1[1],sol2[1]]\n",
    "    c3 = [sol1[2],sol2[2]]\n",
    "    m1 = np.kron(a3,abs(A1).reshape(9)).reshape(2,3,3)\n",
    "    m2 = np.kron(b3,abs(B1).reshape(9)).reshape(2,3,3)\n",
    "    m3 = np.kron(c3,abs(C1).reshape(9)).reshape(2,3,3)\n",
    "    #print(abs(m1+m2+m3-tens))\n",
    "    return (np.max(abs(m1+m2+m3-tens)) < 1)\n",
    "\n",
    "# analogous for 2x2x2 to try to see if supermodularity works\n",
    "def small(tens):\n",
    "    if abs(det(Matrix(tens[1])))<1:\n",
    "        return True\n",
    "    A = tens[0] @ la.inv(tens[1])\n",
    "    eig = la.eig(A)\n",
    "    B = tens[0].T @ la.inv(tens[1]).T\n",
    "    eig1 = la.eig(B)\n",
    "\n",
    "    a1 = eig[1][:,0]\n",
    "    b1 = eig[1][:,1]\n",
    "\n",
    "    a2 = eig1[1][:,0]\n",
    "    b2 = eig1[1][:,1]\n",
    "    \n",
    "    A1 = np.kron(a1,a2)\n",
    "    B1 = np.kron(b1,b2)\n",
    "    cond1 = mat_comb_small(tens,A1,B1)\n",
    "        \n",
    "    A1 = np.kron(a1,b2)\n",
    "    B1 = np.kron(b1,a2)\n",
    "    cond2 = mat_comb_small(tens,A1,B1)\n",
    "    \n",
    "    return cond1 or cond2\n",
    "    \n",
    "\n",
    "def mat_comb_small(tens,A1,B1):\n",
    "    T1 = Matrix(A1.reshape(4))\n",
    "    T2 = Matrix(B1.reshape(4))\n",
    "    pos1 = abs(sum(T1) / sum(abs(T1)))\n",
    "    pos2 = abs(sum(T2) / sum(abs(T2)))\n",
    "    if pos1 + pos2 != 2:\n",
    "        return False\n",
    "    M = abs(Matrix([[T1,T2]]))\n",
    "    R1 = tens[0].reshape(4)\n",
    "    R2 = tens[1].reshape(4)\n",
    "    sol1 = la.solve(np.array(M.T @ M, dtype = \"float\"), np.array(M.T @ R1, dtype = \"float\"))\n",
    "    sol2 = la.solve(np.array(M.T @ M, dtype = \"float\"), np.array(M.T @ R2, dtype = \"float\"))\n",
    "    a3 = [sol1[0],sol2[0]]\n",
    "    b3 = [sol1[1],sol2[1]]\n",
    "    m1 = np.kron(a3,abs(A1).reshape(4)).reshape(2,2,2)\n",
    "    m2 = np.kron(b3,abs(B1).reshape(4)).reshape(2,2,2)\n",
    "    return (np.max(abs(m1+m2-tens))<0.1)\n",
    "    \n"
   ]
  },
  {
   "cell_type": "code",
   "execution_count": 12,
   "id": "3512326c-cc92-4650-8a07-1331b8a15a9d",
   "metadata": {},
   "outputs": [
    {
     "name": "stdout",
     "output_type": "stream",
     "text": [
      "8\n"
     ]
    }
   ],
   "source": [
    "counter_small = 0\n",
    "wrong_small = []\n",
    "for i in range(10000):\n",
    "    tens = rank_two(size = 100,s = (2,2,2))\n",
    "    cond = small(tens)\n",
    "    if not cond:\n",
    "        counter_small += 1\n",
    "        wrong_small.append(tens)\n",
    "        \n",
    "print(counter_small)"
   ]
  },
  {
   "cell_type": "code",
   "execution_count": 4,
   "id": "1f7e25ac-5bc8-472f-9f0d-f87d3eef58f7",
   "metadata": {},
   "outputs": [
    {
     "name": "stdout",
     "output_type": "stream",
     "text": [
      "14\n"
     ]
    }
   ],
   "source": [
    "counter = 0\n",
    "wrong = []\n",
    "for i in range(10000):\n",
    "    tens = rank_tree(size = 100)\n",
    "    cond = check_int(tens)\n",
    "    if not cond:\n",
    "        counter += 1\n",
    "        wrong.append(tens)\n",
    "        \n",
    "print(counter)"
   ]
  },
  {
   "cell_type": "code",
   "execution_count": 6,
   "id": "e7023d2b-6c70-4320-8e0d-a3b629164028",
   "metadata": {},
   "outputs": [
    {
     "data": {
      "text/plain": [
       "(array([0.27027027, 1.70588235, 1.1       ]),\n",
       " array([[-0.25088298, -0.70674182,  0.05762841],\n",
       "        [-0.88773979, -0.4497448 ,  0.86442609],\n",
       "        [-0.38597382, -0.54611868,  0.49944619]]))"
      ]
     },
     "execution_count": 6,
     "metadata": {},
     "output_type": "execute_result"
    }
   ],
   "source": [
    "tens = rank_tree(size = 50)\n",
    "#tens = wrong[4] \n",
    "eig = la.eig(tens[0] @la.inv(tens[1]))\n",
    "eig"
   ]
  },
  {
   "cell_type": "code",
   "execution_count": 7,
   "id": "23edcb26-5690-432f-924a-6cff8359f451",
   "metadata": {},
   "outputs": [
    {
     "data": {
      "text/plain": [
       "array([[[21495., 49480., 26663.],\n",
       "        [16506., 56741., 31303.],\n",
       "        [48714., 46422., 26544.]],\n",
       "\n",
       "       [[13920., 59768., 31352.],\n",
       "        [18521., 70095., 38372.],\n",
       "        [13406., 49474., 26088.]]])"
      ]
     },
     "execution_count": 7,
     "metadata": {},
     "output_type": "execute_result"
    }
   ],
   "source": [
    "tens"
   ]
  },
  {
   "cell_type": "code",
   "execution_count": 8,
   "id": "476b241a-d1f6-4f27-b5b6-93d783953170",
   "metadata": {},
   "outputs": [
    {
     "data": {
      "text/plain": [
       "(array([16.33333333,  0.75      ,  0.825     ]),\n",
       " array([[-0.25752911, -0.66364908, -0.52102348],\n",
       "        [-0.03219114, -0.51847585, -0.7366194 ],\n",
       "        [-0.96573417, -0.53921488, -0.43119184]]))"
      ]
     },
     "execution_count": 8,
     "metadata": {},
     "output_type": "execute_result"
    }
   ],
   "source": [
    "A = tens[0] @ la.inv(tens[1])\n",
    "eig = la.eig(A)\n",
    "eig"
   ]
  },
  {
   "cell_type": "code",
   "execution_count": 9,
   "id": "92d57621-6321-4745-8486-e7746072e476",
   "metadata": {},
   "outputs": [
    {
     "data": {
      "text/plain": [
       "(array([16.33333333,  0.825     ,  0.75      ]),\n",
       " array([[-0.97301246,  0.28345244, -0.02103051],\n",
       "        [-0.18018749,  0.82458892, -0.92534226],\n",
       "        [-0.14414999,  0.48959967, -0.37854911]]))"
      ]
     },
     "execution_count": 9,
     "metadata": {},
     "output_type": "execute_result"
    }
   ],
   "source": [
    "B = tens[0].T @ la.inv(tens[1]).T\n",
    "eig1 = la.eig(B)\n",
    "eig1"
   ]
  },
  {
   "cell_type": "code",
   "execution_count": 10,
   "id": "074bb511-8e93-4a41-9629-a61f39d1a401",
   "metadata": {},
   "outputs": [],
   "source": [
    "a1 = eig[1][:,0]\n",
    "b1 = eig[1][:,1]\n",
    "c1 = eig[1][:,2]\n",
    "\n",
    "a2 = eig1[1][:,0]\n",
    "b2 = eig1[1][:,1]\n",
    "c2 = eig1[1][:,2]"
   ]
  },
  {
   "cell_type": "code",
   "execution_count": 20,
   "id": "a6d24024-d9f9-45bf-b8b4-7bc9514714f8",
   "metadata": {},
   "outputs": [
    {
     "name": "stdout",
     "output_type": "stream",
     "text": [
      "True\n"
     ]
    },
    {
     "data": {
      "text/plain": [
       "[42238.17053329885, 2586.01044081445]"
      ]
     },
     "execution_count": 20,
     "metadata": {},
     "output_type": "execute_result"
    }
   ],
   "source": [
    "A1 = np.kron(a1,a2)\n",
    "B1 = np.kron(b1,c2)\n",
    "C1 = np.kron(c1,b2)\n",
    "T1 = Matrix(A1.reshape(9))\n",
    "T2 = Matrix(B1.reshape(9))\n",
    "T3 = Matrix(C1.reshape(9))\n",
    "pos1 = abs(sum(T1) / sum(abs(T1)))\n",
    "pos2 = abs(sum(T2) / sum(abs(T2)))\n",
    "pos3 = abs(sum(T3) / sum(abs(T3)))\n",
    "print(pos1 + pos2 + pos3==3)\n",
    "M = abs(Matrix([[T1,T2,T3]]))\n",
    "R1 = tens[0].reshape(9)\n",
    "R2 = tens[1].reshape(9)\n",
    "sol1 = la.solve(np.array(M.T @ M, dtype = \"float\"), np.array(M.T @ R1, dtype = \"float\"))\n",
    "#sol1 = M[0:3,0:3].inv() @ R1[0:3]\n",
    "sol2 = M[0:3,0:3].inv() @ R2[0:3]\n",
    "a3 = [sol1[0],sol2[0]]\n",
    "b3 = [sol1[1],sol2[1]]\n",
    "c3 = [sol1[2],sol2[2]]\n",
    "a3"
   ]
  },
  {
   "cell_type": "code",
   "execution_count": 22,
   "id": "3813537f-dd43-4922-964c-b6bb2570e9d7",
   "metadata": {},
   "outputs": [
    {
     "data": {
      "text/plain": [
       "[27513.32041030158, 36684.4272137344]"
      ]
     },
     "execution_count": 22,
     "metadata": {},
     "output_type": "execute_result"
    }
   ],
   "source": [
    "b3"
   ]
  },
  {
   "cell_type": "code",
   "execution_count": 23,
   "id": "64a672c4-a195-45a5-a148-e255ca628a15",
   "metadata": {},
   "outputs": [
    {
     "data": {
      "text/plain": [
       "[71279.90833327567, 86399.8888888210]"
      ]
     },
     "execution_count": 23,
     "metadata": {},
     "output_type": "execute_result"
    }
   ],
   "source": [
    "c3"
   ]
  },
  {
   "cell_type": "code",
   "execution_count": 24,
   "id": "ac79166c-b0ef-4cc5-b015-c9a4e71f2b44",
   "metadata": {},
   "outputs": [
    {
     "data": {
      "text/plain": [
       "array([[[-2.3646862246096134e-10, -1.1641532182693481e-10,\n",
       "         -2.0372681319713593e-10],\n",
       "        [-2.7284841053187847e-10, 3.4924596548080444e-10, 0.0],\n",
       "        [1.0913936421275139e-10, -3.637978807091713e-11,\n",
       "         -1.1641532182693481e-10]],\n",
       "\n",
       "       [[-3.63797880709171e-12, 0, 7.27595761418343e-12],\n",
       "        [8.73114913702011e-11, 9.16770659387112e-10,\n",
       "         4.58385329693556e-10],\n",
       "        [1.98269844986498e-10, 4.36557456851006e-11,\n",
       "         3.63797880709171e-11]]], dtype=object)"
      ]
     },
     "execution_count": 24,
     "metadata": {},
     "output_type": "execute_result"
    }
   ],
   "source": [
    "m1 = np.kron(a3,abs(A1).reshape(9)).reshape(2,3,3)\n",
    "m2 = np.kron(b3,abs(B1).reshape(9)).reshape(2,3,3)\n",
    "m3 = np.kron(c3,abs(C1).reshape(9)).reshape(2,3,3)\n",
    "m1+m2+m3-tens"
   ]
  },
  {
   "cell_type": "code",
   "execution_count": 304,
   "id": "7a790418-9968-469f-b0da-e28d90f576f9",
   "metadata": {},
   "outputs": [
    {
     "data": {
      "text/plain": [
       "array([[[68323., 54005.],\n",
       "        [63600., 44152.]],\n",
       "\n",
       "       [[64591., 62311.],\n",
       "        [55570., 41968.]]])"
      ]
     },
     "execution_count": 304,
     "metadata": {},
     "output_type": "execute_result"
    }
   ],
   "source": [
    "tens= rank_tree(size = 50)\n",
    "tens"
   ]
  },
  {
   "cell_type": "code",
   "execution_count": 325,
   "id": "37de68a1-d0cd-4a18-9ca1-6e77f6047cc0",
   "metadata": {},
   "outputs": [
    {
     "name": "stdout",
     "output_type": "stream",
     "text": [
      "True\n"
     ]
    },
    {
     "data": {
      "text/plain": [
       "array([[[ 2.91038305e-11,  0.00000000e+00],\n",
       "        [-1.45519152e-11, -3.63797881e-11]],\n",
       "\n",
       "       [[ 1.45519152e-11,  1.45519152e-11],\n",
       "        [-2.18278728e-11, -2.18278728e-11]]])"
      ]
     },
     "execution_count": 325,
     "metadata": {},
     "output_type": "execute_result"
    }
   ],
   "source": [
    "A = tens[0] @ la.inv(tens[1])\n",
    "eig = la.eig(A)\n",
    "B = tens[0].T @ la.inv(tens[1]).T\n",
    "eig1 = la.eig(B)\n",
    "\n",
    "a1 = eig[1][:,0]\n",
    "b1 = eig[1][:,1]\n",
    "\n",
    "a2 = eig1[1][:,0]\n",
    "b2 = eig1[1][:,1]\n",
    "A1 = np.kron(a1,b2)\n",
    "B1 = np.kron(b1,a2)\n",
    "T1 = Matrix(A1.reshape(4))\n",
    "T2 = Matrix(B1.reshape(4))\n",
    "pos1 = abs(sum(T1) / sum(abs(T1)))\n",
    "pos2 = abs(sum(T2) / sum(abs(T2)))\n",
    "print(pos1 + pos2==2)\n",
    "M = abs(Matrix([[T1,T2]]))\n",
    "R1 = tens[0].reshape(4)\n",
    "R2 = tens[1].reshape(4)\n",
    "sol1 = la.solve(np.array(M.T @ M, dtype = \"float\"), np.array(M.T @ R1, dtype = \"float\"))\n",
    "#sol1 = M[0:3,0:3].inv() @ R1[0:3]\n",
    "sol2 = la.solve(np.array(M.T @ M, dtype = \"float\"), np.array(M.T @ R2, dtype = \"float\"))\n",
    "a3 = [sol1[0],sol2[0]]\n",
    "b3 = [sol1[1],sol2[1]]\n",
    "m1 = np.kron(a3,abs(A1).reshape(4)).reshape(2,2,2)\n",
    "m2 = np.kron(b3,abs(B1).reshape(4)).reshape(2,2,2)\n",
    "m1+m2-tens"
   ]
  },
  {
   "cell_type": "code",
   "execution_count": null,
   "id": "3136916f-144d-4839-bb08-9e9d96b38ea0",
   "metadata": {},
   "outputs": [],
   "source": []
  }
 ],
 "metadata": {
  "kernelspec": {
   "display_name": "Python 3 (ipykernel)",
   "language": "python",
   "name": "python3"
  },
  "language_info": {
   "codemirror_mode": {
    "name": "ipython",
    "version": 3
   },
   "file_extension": ".py",
   "mimetype": "text/x-python",
   "name": "python",
   "nbconvert_exporter": "python",
   "pygments_lexer": "ipython3",
   "version": "3.9.1"
  }
 },
 "nbformat": 4,
 "nbformat_minor": 5
}
