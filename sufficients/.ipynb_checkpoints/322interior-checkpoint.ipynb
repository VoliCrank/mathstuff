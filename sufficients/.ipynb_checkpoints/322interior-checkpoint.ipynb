{
 "cells": [
  {
   "cell_type": "code",
   "execution_count": 1,
   "id": "intimate-chaos",
   "metadata": {},
   "outputs": [],
   "source": [
    "import tensorly as tl\n",
    "import numpy as np\n",
    "from numpy import linalg as la\n",
    "from sympy import *\n",
    "from sympy.solvers.inequalities import *\n",
    "from sympy.polys import Poly\n",
    "from sympy.abc import x\n",
    "from sympy.solvers.solveset import linsolve"
   ]
  },
  {
   "cell_type": "code",
   "execution_count": 2,
   "id": "0c6abe29-e597-46e3-bc06-1af67297884c",
   "metadata": {},
   "outputs": [],
   "source": [
    "# checks if given 2x2x2 has nonneg rank 2\n",
    "def check_r2(t):\n",
    "    a1 = det(Matrix(t[0]))\n",
    "    a2 = det(Matrix(t[1]))\n",
    "    b1 = det(Matrix(t[:,0]))\n",
    "    b2 = det(Matrix(t[:,1]))\n",
    "    c1 = det(Matrix(t[:,:,0]))\n",
    "    c2 = det(Matrix(t[:,:,1]))\n",
    "    d1 = ineq(a1,a2,b1,b2,c1,c2,ge,ge,ge)\n",
    "    d2 = ineq(a1,a2,b1,b2,c1,c2,le,le,ge)\n",
    "    d3 = ineq(a1,a2,b1,b2,c1,c2,le,ge,le)\n",
    "    d4 = ineq(a1,a2,b1,b2,c1,c2,ge,le,le)\n",
    "    supermod = d1 or d2 or d3 or d4\n",
    "    return supermod"
   ]
  },
  {
   "cell_type": "code",
   "execution_count": 3,
   "id": "infrared-place",
   "metadata": {},
   "outputs": [],
   "source": [
    "#generates random rank 3 tensors\n",
    "def rank_tree(size = 100, s = (2,3,3)):\n",
    "    return (low_tensor(size,s) + low_tensor(size,s) + low_tensor(size,s)) \n",
    "\n",
    "def rank_two(size = 100,s = (2,3,3)):\n",
    "    return (low_tensor(size,s) + low_tensor(size,s)) \n",
    "\n",
    "# random tensor of some dim\n",
    "def rand_tensor(size = 100000):\n",
    "    return tl.tensor(np.random.randint(1, size, size=(3,2,2)))*1.0\n",
    "\n",
    "# generates rank 1 tensors\n",
    "def low_tensor(size = 100,s = (2,3,3)):\n",
    "    a = np.random.randint(1, size, size=s[0]) \n",
    "    b = np.random.randint(1, size, size=s[1])\n",
    "    c = np.random.randint(1, size, size=s[2])\n",
    "    tens = tl.tensor(np.kron(a,np.kron(b,c)).reshape(s)) * 1.0\n",
    "    return tens\n",
    "\n",
    "\n",
    "\n",
    "\n",
    "# checks if the given 3x3x2 tensors has nonnegative rank 3 by\n",
    "# calculating its decomposition and calculating manually\n",
    "def check_int(tens):\n",
    "    if abs(Matrix(tens[1]).det()) < 0.1:\n",
    "        return False\n",
    "        \n",
    "    A = tens[0] @ la.inv(tens[1])\n",
    "    eig = la.eig(A)\n",
    "    B = tens[0].T @ la.inv(tens[1]).T\n",
    "    eig1 = la.eig(B)\n",
    "    \n",
    "    a1 = eig[1][:,0]\n",
    "    b1 = eig[1][:,1]\n",
    "    c1 = eig[1][:,2]\n",
    "\n",
    "    a2 = eig1[1][:,0]\n",
    "    b2 = eig1[1][:,1]\n",
    "    c2 = eig1[1][:,2]\n",
    "    \n",
    "    A1 = np.kron(a1,a2)\n",
    "    B1 = np.kron(b1,b2)\n",
    "    C1 = np.kron(c1,c2)\n",
    "    comb1 = mat_comb(tens,A1,B1,C1)\n",
    "    \n",
    "    A1 = np.kron(a1,b2)\n",
    "    B1 = np.kron(b1,c2)\n",
    "    C1 = np.kron(c1,a2)\n",
    "    comb2 = mat_comb(tens,A1,B1,C1)\n",
    "    \n",
    "    A1 = np.kron(a1,c2)\n",
    "    B1 = np.kron(b1,a2)\n",
    "    C1 = np.kron(c1,b2)\n",
    "    comb3 = mat_comb(tens,A1,B1,C1)\n",
    "    \n",
    "    A1 = np.kron(a1,a2)\n",
    "    B1 = np.kron(b1,c2)\n",
    "    C1 = np.kron(c1,b2)\n",
    "    comb4 = mat_comb(tens,A1,B1,C1)\n",
    "    \n",
    "    A1 = np.kron(a1,c2)\n",
    "    B1 = np.kron(b1,b2)\n",
    "    C1 = np.kron(c1,a2)\n",
    "    comb5 = mat_comb(tens,A1,B1,C1)\n",
    "    \n",
    "    A1 = np.kron(a1,b2)\n",
    "    B1 = np.kron(b1,a2)\n",
    "    C1 = np.kron(c1,c2)\n",
    "    comb6 = mat_comb(tens,A1,B1,C1)\n",
    "    return comb1 or comb2 or comb3 or comb4 or comb5 or comb6\n",
    "      \n",
    "# checks one combination of a1,b1,c1 with a2,b2,c2\n",
    "def mat_comb(tens,A1,B1,C1):\n",
    "    T1 = Matrix(A1.reshape(9))\n",
    "    T2 = Matrix(B1.reshape(9))\n",
    "    T3 = Matrix(C1.reshape(9))\n",
    "    pos1 = abs(sum(T1) / sum(abs(T1)))\n",
    "    pos2 = abs(sum(T2) / sum(abs(T2)))\n",
    "    pos3 = abs(sum(T3) / sum(abs(T3)))\n",
    "    if pos1 + pos2 + pos3 != 3:\n",
    "        return False\n",
    "    M = abs(Matrix([[T1,T2,T3]]))\n",
    "    R1 = tens[0].reshape(9)\n",
    "    R2 = tens[1].reshape(9)\n",
    "    sol1 = M[0:3,0:3].inv() @ R1[0:3]\n",
    "    sol2 = M[0:3,0:3].inv() @ R2[0:3]\n",
    "    a3 = [sol1[0],sol2[0]]\n",
    "    b3 = [sol1[1],sol2[1]]\n",
    "    c3 = [sol1[2],sol2[2]]\n",
    "    m1 = np.kron(a3,abs(A1).reshape(9)).reshape(2,3,3)\n",
    "    m2 = np.kron(b3,abs(B1).reshape(9)).reshape(2,3,3)\n",
    "    m3 = np.kron(c3,abs(C1).reshape(9)).reshape(2,3,3)\n",
    "    #print(abs(m1+m2+m3-tens))\n",
    "    return (np.max(abs(m1+m2+m3-tens)) < 1)\n",
    "\n",
    "# analogous for 2x2x2 to try to see if supermodularity works\n",
    "def small(tens):\n",
    "    if abs(det(Matrix(tens[1])))<1:\n",
    "        return True\n",
    "    A = tens[0] @ la.inv(tens[1])\n",
    "    eig = la.eig(A)\n",
    "    B = tens[0].T @ la.inv(tens[1]).T\n",
    "    eig1 = la.eig(B)\n",
    "\n",
    "    a1 = eig[1][:,0]\n",
    "    b1 = eig[1][:,1]\n",
    "\n",
    "    a2 = eig1[1][:,0]\n",
    "    b2 = eig1[1][:,1]\n",
    "    \n",
    "    A1 = np.kron(a1,a2)\n",
    "    B1 = np.kron(b1,b2)\n",
    "    cond1 = mat_comb_small(tens,A1,B1)\n",
    "        \n",
    "    A1 = np.kron(a1,b2)\n",
    "    B1 = np.kron(b1,a2)\n",
    "    cond2 = mat_comb_small(tens,A1,B1)\n",
    "    \n",
    "    return cond1 or cond2\n",
    "    \n",
    "\n",
    "def mat_comb_small(tens,A1,B1):\n",
    "    T1 = Matrix(A1.reshape(4))\n",
    "    T2 = Matrix(B1.reshape(4))\n",
    "    pos1 = abs(sum(T1) / sum(abs(T1)))\n",
    "    pos2 = abs(sum(T2) / sum(abs(T2)))\n",
    "    if pos1 + pos2 != 2:\n",
    "        return False\n",
    "    M = abs(Matrix([[T1,T2]]))\n",
    "    R1 = tens[0].reshape(4)\n",
    "    R2 = tens[1].reshape(4)\n",
    "    sol1 = la.solve(np.array(M.T @ M, dtype = \"float\"), np.array(M.T @ R1, dtype = \"float\"))\n",
    "    sol2 = la.solve(np.array(M.T @ M, dtype = \"float\"), np.array(M.T @ R2, dtype = \"float\"))\n",
    "    a3 = [sol1[0],sol2[0]]\n",
    "    b3 = [sol1[1],sol2[1]]\n",
    "    m1 = np.kron(a3,abs(A1).reshape(4)).reshape(2,2,2)\n",
    "    m2 = np.kron(b3,abs(B1).reshape(4)).reshape(2,2,2)\n",
    "    return (np.max(abs(m1+m2-tens))<0.1)\n",
    "    \n"
   ]
  },
  {
   "cell_type": "code",
   "execution_count": 12,
   "id": "3512326c-cc92-4650-8a07-1331b8a15a9d",
   "metadata": {},
   "outputs": [
    {
     "name": "stdout",
     "output_type": "stream",
     "text": [
      "8\n"
     ]
    }
   ],
   "source": [
    "counter_small = 0\n",
    "wrong_small = []\n",
    "for i in range(10000):\n",
    "    tens = rank_two(size = 100,s = (2,2,2))\n",
    "    cond = small(tens)\n",
    "    if not cond:\n",
    "        counter_small += 1\n",
    "        wrong_small.append(tens)\n",
    "        \n",
    "print(counter_small)"
   ]
  },
  {
   "cell_type": "code",
   "execution_count": 4,
   "id": "1f7e25ac-5bc8-472f-9f0d-f87d3eef58f7",
   "metadata": {},
   "outputs": [
    {
     "name": "stdout",
     "output_type": "stream",
     "text": [
      "14\n"
     ]
    }
   ],
   "source": [
    "counter = 0\n",
    "wrong = []\n",
    "for i in range(10000):\n",
    "    tens = rank_tree(size = 100)\n",
    "    cond = check_int(tens)\n",
    "    if not cond:\n",
    "        counter += 1\n",
    "        wrong.append(tens)\n",
    "        \n",
    "print(counter)"
   ]
  },
  {
   "cell_type": "code",
   "execution_count": 45,
   "id": "e7023d2b-6c70-4320-8e0d-a3b629164028",
   "metadata": {},
   "outputs": [
    {
     "name": "stdout",
     "output_type": "stream",
     "text": [
      "55144.0152436633\n",
      "-194.076592669580\n",
      "6177.25772217891\n",
      "54661.4529983928\n",
      "1868.66758900866\n",
      "14561.2577704539\n",
      "-2194.82742020838\n",
      "2639.99541304954\n",
      "4254.15061697872\n"
     ]
    }
   ],
   "source": [
    "tens = rank_tree(size = 50)/1000\n",
    "#tens = wrong[4] \n",
    "for i in range(3):\n",
    "    for j in range(3):\n",
    "        print(Matrix(tens[0]).minor(2-i,2-j)*Matrix(tens[1]).minor(2-i,2-j))"
   ]
  },
  {
   "cell_type": "code",
   "execution_count": 17,
   "id": "23edcb26-5690-432f-924a-6cff8359f451",
   "metadata": {},
   "outputs": [
    {
     "data": {
      "text/plain": [
       "array([[[17682., 52784., 28306.],\n",
       "        [43608., 91275., 77346.],\n",
       "        [32532., 81914., 55336.]],\n",
       "\n",
       "       [[ 5873., 15137., 14471.],\n",
       "        [10061., 21264., 22201.],\n",
       "        [ 9944., 23450., 24296.]]])"
      ]
     },
     "execution_count": 17,
     "metadata": {},
     "output_type": "execute_result"
    }
   ],
   "source": [
    "\n",
    "tens"
   ]
  },
  {
   "cell_type": "code",
   "execution_count": 18,
   "id": "476b241a-d1f6-4f27-b5b6-93d783953170",
   "metadata": {},
   "outputs": [
    {
     "data": {
      "text/plain": [
       "(array([0.2173913, 6.       , 6.       ]),\n",
       " array([[-0.482266  ,  0.4072305 ,  0.53732721],\n",
       "        [-0.46034481, -0.913319  ,  0.51368473],\n",
       "        [-0.74532017,  0.00342509,  0.66888524]]))"
      ]
     },
     "execution_count": 18,
     "metadata": {},
     "output_type": "execute_result"
    }
   ],
   "source": [
    "A = tens[0] @ la.inv(tens[1])\n",
    "eig = la.eig(A)\n",
    "eig"
   ]
  },
  {
   "cell_type": "code",
   "execution_count": 289,
   "id": "92d57621-6321-4745-8486-e7746072e476",
   "metadata": {},
   "outputs": [
    {
     "data": {
      "text/plain": [
       "(array([0.14285714, 2.16666667, 2.16666667]),\n",
       " array([[-0.69773575,  0.12885202,  0.72339422],\n",
       "        [-0.69773575,  0.46792067,  0.10599544],\n",
       "        [-0.16226413,  0.87432683,  0.68225051]]))"
      ]
     },
     "execution_count": 289,
     "metadata": {},
     "output_type": "execute_result"
    }
   ],
   "source": [
    "B = tens[0].T @ la.inv(tens[1]).T\n",
    "eig1 = la.eig(B)\n",
    "eig1"
   ]
  },
  {
   "cell_type": "code",
   "execution_count": 282,
   "id": "074bb511-8e93-4a41-9629-a61f39d1a401",
   "metadata": {},
   "outputs": [],
   "source": [
    "a1 = eig[1][:,0]\n",
    "b1 = eig[1][:,1]\n",
    "c1 = eig[1][:,2]\n",
    "\n",
    "a2 = eig1[1][:,0]\n",
    "b2 = eig1[1][:,1]\n",
    "c2 = eig1[1][:,2]"
   ]
  },
  {
   "cell_type": "code",
   "execution_count": 283,
   "id": "a6d24024-d9f9-45bf-b8b4-7bc9514714f8",
   "metadata": {},
   "outputs": [
    {
     "name": "stdout",
     "output_type": "stream",
     "text": [
      "False\n"
     ]
    }
   ],
   "source": [
    "A1 = np.kron(a1,c2)\n",
    "B1 = np.kron(b1,b2)\n",
    "C1 = np.kron(c1,a2)\n",
    "T1 = Matrix(A1.reshape(9))\n",
    "T2 = Matrix(B1.reshape(9))\n",
    "T3 = Matrix(C1.reshape(9))\n",
    "pos1 = abs(sum(T1) / sum(abs(T1)))\n",
    "pos2 = abs(sum(T2) / sum(abs(T2)))\n",
    "pos3 = abs(sum(T3) / sum(abs(T3)))\n",
    "print(pos1 + pos2 + pos3==3)\n",
    "M = abs(Matrix([[T1,T2,T3]]))\n",
    "R1 = tens[0].reshape(9)\n",
    "R2 = tens[1].reshape(9)\n",
    "sol1 = la.solve(np.array(M.T @ M, dtype = \"float\"), np.array(M.T @ R1, dtype = \"float\"))\n",
    "#sol1 = M[0:3,0:3].inv() @ R1[0:3]\n",
    "sol2 = M[0:3,0:3].inv() @ R2[0:3]\n",
    "a3 = [sol1[0],sol2[0]]\n",
    "b3 = [sol1[1],sol2[1]]\n",
    "c3 = [sol1[2],sol2[2]]\n"
   ]
  },
  {
   "cell_type": "code",
   "execution_count": 275,
   "id": "ac79166c-b0ef-4cc5-b015-c9a4e71f2b44",
   "metadata": {},
   "outputs": [
    {
     "data": {
      "text/plain": [
       "array([[[1.1937117960769683e-12, -3.126388037344441e-13,\n",
       "         3.126388037344441e-13],\n",
       "        [-1.3073986337985843e-12, 8.526512829121202e-14,\n",
       "         1.6342482922482304e-12],\n",
       "        [-1.7621459846850485e-12, 3.126388037344441e-13,\n",
       "         1.2789769243681803e-13]],\n",
       "\n",
       "       [[1.42108547152020e-14, 0, 1.42108547152020e-14],\n",
       "        [3.85114162781974e-12, 7.73070496506989e-12,\n",
       "         6.73594513500575e-12],\n",
       "        [1.36424205265939e-12, 5.34328137291595e-12,\n",
       "         3.26139115713886e-12]]], dtype=object)"
      ]
     },
     "execution_count": 275,
     "metadata": {},
     "output_type": "execute_result"
    }
   ],
   "source": [
    "m1 = np.kron(a3,abs(A1).reshape(9)).reshape(2,3,3)\n",
    "m2 = np.kron(b3,abs(B1).reshape(9)).reshape(2,3,3)\n",
    "m3 = np.kron(c3,abs(C1).reshape(9)).reshape(2,3,3)\n",
    "m1+m2+m3-tens"
   ]
  },
  {
   "cell_type": "code",
   "execution_count": 304,
   "id": "7a790418-9968-469f-b0da-e28d90f576f9",
   "metadata": {},
   "outputs": [
    {
     "data": {
      "text/plain": [
       "array([[[68323., 54005.],\n",
       "        [63600., 44152.]],\n",
       "\n",
       "       [[64591., 62311.],\n",
       "        [55570., 41968.]]])"
      ]
     },
     "execution_count": 304,
     "metadata": {},
     "output_type": "execute_result"
    }
   ],
   "source": [
    "tens= rank_tree(size = 50)\n",
    "tens"
   ]
  },
  {
   "cell_type": "code",
   "execution_count": 325,
   "id": "37de68a1-d0cd-4a18-9ca1-6e77f6047cc0",
   "metadata": {},
   "outputs": [
    {
     "name": "stdout",
     "output_type": "stream",
     "text": [
      "True\n"
     ]
    },
    {
     "data": {
      "text/plain": [
       "array([[[ 2.91038305e-11,  0.00000000e+00],\n",
       "        [-1.45519152e-11, -3.63797881e-11]],\n",
       "\n",
       "       [[ 1.45519152e-11,  1.45519152e-11],\n",
       "        [-2.18278728e-11, -2.18278728e-11]]])"
      ]
     },
     "execution_count": 325,
     "metadata": {},
     "output_type": "execute_result"
    }
   ],
   "source": [
    "A = tens[0] @ la.inv(tens[1])\n",
    "eig = la.eig(A)\n",
    "B = tens[0].T @ la.inv(tens[1]).T\n",
    "eig1 = la.eig(B)\n",
    "\n",
    "a1 = eig[1][:,0]\n",
    "b1 = eig[1][:,1]\n",
    "\n",
    "a2 = eig1[1][:,0]\n",
    "b2 = eig1[1][:,1]\n",
    "A1 = np.kron(a1,b2)\n",
    "B1 = np.kron(b1,a2)\n",
    "T1 = Matrix(A1.reshape(4))\n",
    "T2 = Matrix(B1.reshape(4))\n",
    "pos1 = abs(sum(T1) / sum(abs(T1)))\n",
    "pos2 = abs(sum(T2) / sum(abs(T2)))\n",
    "print(pos1 + pos2==2)\n",
    "M = abs(Matrix([[T1,T2]]))\n",
    "R1 = tens[0].reshape(4)\n",
    "R2 = tens[1].reshape(4)\n",
    "sol1 = la.solve(np.array(M.T @ M, dtype = \"float\"), np.array(M.T @ R1, dtype = \"float\"))\n",
    "#sol1 = M[0:3,0:3].inv() @ R1[0:3]\n",
    "sol2 = la.solve(np.array(M.T @ M, dtype = \"float\"), np.array(M.T @ R2, dtype = \"float\"))\n",
    "a3 = [sol1[0],sol2[0]]\n",
    "b3 = [sol1[1],sol2[1]]\n",
    "m1 = np.kron(a3,abs(A1).reshape(4)).reshape(2,2,2)\n",
    "m2 = np.kron(b3,abs(B1).reshape(4)).reshape(2,2,2)\n",
    "m1+m2-tens"
   ]
  },
  {
   "cell_type": "code",
   "execution_count": 324,
   "id": "ef3f5b9b-3c32-415b-9e12-2eb423ff0f78",
   "metadata": {},
   "outputs": [
    {
     "data": {
      "text/plain": [
       "array([[[ 2.91038305e-11,  0.00000000e+00],\n",
       "        [-1.45519152e-11, -3.63797881e-11]],\n",
       "\n",
       "       [[ 1.45519152e-11,  1.45519152e-11],\n",
       "        [-2.18278728e-11, -2.18278728e-11]]])"
      ]
     },
     "execution_count": 324,
     "metadata": {},
     "output_type": "execute_result"
    }
   ],
   "source": []
  },
  {
   "cell_type": "code",
   "execution_count": null,
   "id": "3136916f-144d-4839-bb08-9e9d96b38ea0",
   "metadata": {},
   "outputs": [],
   "source": []
  }
 ],
 "metadata": {
  "kernelspec": {
   "display_name": "Python 3 (ipykernel)",
   "language": "python",
   "name": "python3"
  },
  "language_info": {
   "codemirror_mode": {
    "name": "ipython",
    "version": 3
   },
   "file_extension": ".py",
   "mimetype": "text/x-python",
   "name": "python",
   "nbconvert_exporter": "python",
   "pygments_lexer": "ipython3",
   "version": "3.9.5"
  }
 },
 "nbformat": 4,
 "nbformat_minor": 5
}
