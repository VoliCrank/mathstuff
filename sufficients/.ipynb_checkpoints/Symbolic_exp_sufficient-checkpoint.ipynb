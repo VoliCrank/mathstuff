{
 "cells": [
  {
   "cell_type": "code",
   "execution_count": null,
   "id": "d30669db-f255-439d-8ade-5b051bff512f",
   "metadata": {},
   "outputs": [],
   "source": [
    "!pip install tensorly"
   ]
  },
  {
   "cell_type": "code",
   "execution_count": 1,
   "id": "restricted-carter",
   "metadata": {},
   "outputs": [],
   "source": [
    "import tensorly as tl\n",
    "import numpy as np\n",
    "from numpy import linalg as la\n",
    "from sympy import *\n",
    "from sympy import Matrix, symbols, solve_linear_system\n",
    "from sympy.solvers.solveset import linsolve\n",
    "import time\n",
    "from joblib import Parallel, delayed\n",
    "x,y,z_1,z_2,z_3 = symbols('x y z_1 z_2 z_3')\n",
    "x,y,z1,z2,z3 ,b= symbols(\"x,y,z1,z2,z3,b\")\n",
    "p_112, p_102, p_002, p_012 = symbols('p_112 p_102 p_002 p_012')\n",
    "p_000, p_001, p_100, p_101, p_200, p_201, p_010, p_011, p_020, p_021, p_110, p_111, p_210, p_211, p_120, p_121, p_220, p_221 = symbols('p_000 p_001 p_100 p_101 p_200 p_201 p_010 p_011 p_020 p_021 p_110 p_111 p_210 p_211 p_120 p_121 p_220 p_221')"
   ]
  },
  {
   "cell_type": "code",
   "execution_count": 2,
   "id": "bright-front",
   "metadata": {},
   "outputs": [],
   "source": [
    "#generates random rank 3 tensors\n",
    "def rank_tree():\n",
    "    return (low_tensor() + low_tensor() + low_tensor()) \n",
    "\n",
    "# random tensor of some dim\n",
    "def rand_tensor():\n",
    "    return tl.tensor(np.random.randint(1, 100000, size=(3,2,2)))*1.0\n",
    "\n",
    "# generates rank 1 tensors\n",
    "def low_tensor():\n",
    "    max = 30\n",
    "    a = np.random.randint(1, max, size=3) \n",
    "    b = np.random.randint(1, max, size=2)\n",
    "    c = np.random.randint(1, max, size=2)\n",
    "    tens = tl.tensor(np.kron(np.kron(a, b), c).reshape(3, 2, 2)) * 1.0\n",
    "    return tens\n",
    "\n",
    "# checks if all subtensors have nonneg rank 3\n",
    "def check(t):\n",
    "    t1 = tl.tensor([t[0], t[1]])\n",
    "    t2 = tl.tensor([t[1], t[2]])\n",
    "    t3 = tl.tensor([t[0], t[2]])\n",
    "    a1 = det(Matrix(t1[0]))\n",
    "    a2 = det(Matrix(t1[1]))\n",
    "    a3 = det(Matrix(t2[0]))\n",
    "    a4 = det(Matrix(t2[1]))\n",
    "    b1 = det(Matrix(t1[:,0]))\n",
    "    b2 = det(Matrix(t1[:,1]))\n",
    "    b3 = det(Matrix(t2[:,0]))\n",
    "    b4 = det(Matrix(t2[:,1]))\n",
    "    c1 = det(Matrix(t1[:,:,0]))\n",
    "    c2 = det(Matrix(t1[:,:,1]))\n",
    "    c3 = det(Matrix(t2[:,:,0]))\n",
    "    c4 = det(Matrix(t2[:,:,1]))\n",
    "\n",
    "    a5 = det(Matrix(t3[0]))\n",
    "    a6 = det(Matrix(t3[1]))\n",
    "\n",
    "    b5 = det(Matrix(t3[:,0]))\n",
    "    b6 = det(Matrix(t3[:,1]))\n",
    "\n",
    "    c5 = det(Matrix(t3[:,:,0]))\n",
    "    c6 = det(Matrix(t3[:,:,1]))\n",
    "    return sgn([a1, a2,a3,a4,a5,a6]) or sgn([b1,b2,b3,b4,b5,b6]) or sgn([c1,c2,c3,c4,c5,c6])\n",
    "\n",
    "# determines sign of a list\n",
    "def sgn(a):\n",
    "    t = 0\n",
    "    ab = 0\n",
    "    for a_i in a:\n",
    "        t+= abs(a_i)\n",
    "        ab += a_i\n",
    "    return t == abs(ab)\n",
    "\n",
    "\n",
    "# checks if the give 2x2x2 tensor has nonneg rank 3\n",
    "def check_r3(t):\n",
    "    a1 = det(Matrix(t[0]))\n",
    "    a2 = det(Matrix(t[1]))\n",
    "    b1 = det(Matrix(t[:,0]))\n",
    "    b2 = det(Matrix(t[:,1]))\n",
    "    c1 = det(Matrix(t[:,:,0]))\n",
    "    c2 = det(Matrix(t[:,:,1]))\n",
    "    return sgn([a1,a2]) or sgn([b1,b2]) or sgn([c1,c2])\n",
    "\n",
    "# checks if given 2x2x2 has nonneg rank 2\n",
    "def check_r2(t):\n",
    "    a1 = det(Matrix(t[0]))\n",
    "    a2 = det(Matrix(t[1]))\n",
    "    b1 = det(Matrix(t[:,0]))\n",
    "    b2 = det(Matrix(t[:,1]))\n",
    "    c1 = det(Matrix(t[:,:,0]))\n",
    "    c2 = det(Matrix(t[:,:,1]))\n",
    "    d1 = ineq(a1,a2,b1,b2,c1,c2,ge,ge,ge)\n",
    "    d2 = ineq(a1,a2,b1,b2,c1,c2,le,le,ge)\n",
    "    d3 = ineq(a1,a2,b1,b2,c1,c2,le,ge,le)\n",
    "    d4 = ineq(a1,a2,b1,b2,c1,c2,ge,le,le)\n",
    "    supermod = d1 or d2 or d3 or d4\n",
    "    return supermod\n",
    "\n",
    "\n",
    "# helpers\n",
    "def ineq(a1,a2,b1,b2,c1,c2,f1,f2,f3):\n",
    "    t1 = f1(a1,0) and f1(a2,0)\n",
    "    t2 = f2(b1,0) and f2(b2,0)\n",
    "    t3 = f3(c1,0) and f3(c2,0)\n",
    "    return t1 and t2 and t3\n",
    "    \n",
    "def ge(a1,a2):\n",
    "    return a1 >= a2\n",
    "\n",
    "def le(a1,a2):\n",
    "    return a1 <= a2\n",
    "\n",
    "# Checks if 2x2x3 contains a 2x2x2 with nonneg 4\n",
    "def check_r4(t):\n",
    "    a1 = not check_r3(tl.tensor([t[0],t[1]]))\n",
    "    a2 = not check_r3(tl.tensor([t[0],t[2]]))\n",
    "    a3 = not check_r3(tl.tensor([t[1],t[2]]))\n",
    "    return a1 or a2 or a3 "
   ]
  },
  {
   "cell_type": "code",
   "execution_count": 3,
   "id": "88b436b2-9d12-486d-b6a6-5920ba918bd1",
   "metadata": {},
   "outputs": [],
   "source": [
    "def mat_inv(t):\n",
    "    tens = t.copy()\n",
    "    M_1 = Matrix([Matrix(tens[0][1]).transpose(),Matrix(tens[0][0]).transpose()])\n",
    "    M_2 = Matrix([Matrix(tens[1][1]).transpose(),Matrix(tens[1][0]).transpose()])\n",
    "    M_3 = Matrix([Matrix(tens[2][1]).transpose(),Matrix(tens[2][0]).transpose()])\n",
    "    tens[0] = M_1\n",
    "    tens[1] = M_2\n",
    "    tens[2] = M_3\n",
    "    return tens\n",
    "\n",
    "def mat_trans(t):\n",
    "    tens = t.copy()\n",
    "    tens[0] = tens[0].transpose()\n",
    "    tens[1] = tens[1].transpose()\n",
    "    tens[2] = tens[2].transpose()\n",
    "    return tens\n",
    "\n",
    "def rotate(t):\n",
    "    return mat_inv(mat_trans(t))"
   ]
  },
  {
   "cell_type": "code",
   "execution_count": 4,
   "id": "opposed-campaign",
   "metadata": {},
   "outputs": [
    {
     "data": {
      "text/latex": [
       "$\\displaystyle \\left[\\begin{matrix}\\left[\\begin{matrix}p_{000} & p_{010}\\\\p_{100} & p_{110}\\end{matrix}\\right] & \\left[\\begin{matrix}p_{001} & p_{011}\\\\p_{101} & p_{111}\\end{matrix}\\right] & \\left[\\begin{matrix}p_{002} & p_{012}\\\\p_{102} & p_{112}\\end{matrix}\\right]\\end{matrix}\\right]$"
      ],
      "text/plain": [
       "[[[p_000, p_010], [p_100, p_110]], [[p_001, p_011], [p_101, p_111]], [[p_002, p_012], [p_102, p_112]]]"
      ]
     },
     "execution_count": 4,
     "metadata": {},
     "output_type": "execute_result"
    }
   ],
   "source": [
    "tens = Array([[[p_000, p_010],[p_100, p_110]],\n",
    "          [[p_001, p_011],[p_101, p_111]],\n",
    "           [[p_002, p_012],[p_102, p_112]]])\n",
    "tens"
   ]
  },
  {
   "cell_type": "code",
   "execution_count": 9,
   "id": "marine-blanket",
   "metadata": {},
   "outputs": [
    {
     "data": {
      "text/latex": [
       "$\\displaystyle \\left[\\begin{matrix}p_{000} p_{111} - p_{010} p_{101} & - p_{000} p_{011} + p_{001} p_{010}\\\\p_{100} p_{111} - p_{101} p_{110} & p_{001} p_{110} - p_{011} p_{100}\\end{matrix}\\right]$"
      ],
      "text/plain": [
       "Matrix([\n",
       "[p_000*p_111 - p_010*p_101, -p_000*p_011 + p_001*p_010],\n",
       "[p_100*p_111 - p_101*p_110,  p_001*p_110 - p_011*p_100]])"
      ]
     },
     "execution_count": 9,
     "metadata": {},
     "output_type": "execute_result"
    }
   ],
   "source": [
    "M = Matrix(tens[0]) * Matrix(tens[1]).adjugate()\n",
    "M"
   ]
  },
  {
   "cell_type": "code",
   "execution_count": 12,
   "id": "4b141a3e-41a5-4884-b62f-881210aa57e8",
   "metadata": {},
   "outputs": [],
   "source": [
    "eig = M.eigenvects()"
   ]
  },
  {
   "cell_type": "code",
   "execution_count": 19,
   "id": "73381a38-2ddf-420a-b688-d27dc32671b1",
   "metadata": {},
   "outputs": [
    {
     "data": {
      "text/latex": [
       "$\\displaystyle \\frac{p_{000} p_{111} - p_{001} p_{110} - p_{010} p_{101} + p_{011} p_{100} - \\sqrt{p_{000}^{2} p_{111}^{2} - 2 p_{000} p_{001} p_{110} p_{111} - 2 p_{000} p_{010} p_{101} p_{111} - 2 p_{000} p_{011} p_{100} p_{111} + 4 p_{000} p_{011} p_{101} p_{110} + p_{001}^{2} p_{110}^{2} + 4 p_{001} p_{010} p_{100} p_{111} - 2 p_{001} p_{010} p_{101} p_{110} - 2 p_{001} p_{011} p_{100} p_{110} + p_{010}^{2} p_{101}^{2} - 2 p_{010} p_{011} p_{100} p_{101} + p_{011}^{2} p_{100}^{2}}}{2 \\left(p_{100} p_{111} - p_{101} p_{110}\\right)}$"
      ],
      "text/plain": [
       "(p_000*p_111 - p_001*p_110 - p_010*p_101 + p_011*p_100 - sqrt(p_000**2*p_111**2 - 2*p_000*p_001*p_110*p_111 - 2*p_000*p_010*p_101*p_111 - 2*p_000*p_011*p_100*p_111 + 4*p_000*p_011*p_101*p_110 + p_001**2*p_110**2 + 4*p_001*p_010*p_100*p_111 - 2*p_001*p_010*p_101*p_110 - 2*p_001*p_011*p_100*p_110 + p_010**2*p_101**2 - 2*p_010*p_011*p_100*p_101 + p_011**2*p_100**2))/(2*(p_100*p_111 - p_101*p_110))"
      ]
     },
     "execution_count": 19,
     "metadata": {},
     "output_type": "execute_result"
    }
   ],
   "source": [
    "factor(Matrix(eig[0][2])[0])"
   ]
  },
  {
   "cell_type": "code",
   "execution_count": 20,
   "id": "numerical-battlefield",
   "metadata": {},
   "outputs": [
    {
     "data": {
      "text/latex": [
       "$\\displaystyle p_{000} p_{011} p_{112} - p_{000} p_{012} p_{111} - p_{001} p_{010} p_{112} + p_{001} p_{012} p_{110} + p_{002} p_{010} p_{111} - p_{002} p_{011} p_{110}$"
      ],
      "text/plain": [
       "p_000*p_011*p_112 - p_000*p_012*p_111 - p_001*p_010*p_112 + p_001*p_012*p_110 + p_002*p_010*p_111 - p_002*p_011*p_110"
      ]
     },
     "execution_count": 20,
     "metadata": {},
     "output_type": "execute_result"
    }
   ],
   "source": [
    "M_b = Matrix([[Matrix(tens[:,0,0]), Matrix(tens[:,0,1]), Matrix(tens[:,1,1])]]).transpose()\n",
    "M_b.det()"
   ]
  },
  {
   "cell_type": "code",
   "execution_count": 21,
   "id": "interior-testimony",
   "metadata": {},
   "outputs": [
    {
     "data": {
      "text/latex": [
       "$\\displaystyle p_{000} p_{011} p_{102} - p_{000} p_{012} p_{101} - p_{001} p_{010} p_{102} + p_{001} p_{012} p_{100} + p_{002} p_{010} p_{101} - p_{002} p_{011} p_{100}$"
      ],
      "text/plain": [
       "p_000*p_011*p_102 - p_000*p_012*p_101 - p_001*p_010*p_102 + p_001*p_012*p_100 + p_002*p_010*p_101 - p_002*p_011*p_100"
      ]
     },
     "execution_count": 21,
     "metadata": {},
     "output_type": "execute_result"
    }
   ],
   "source": [
    "M_a = Matrix([[Matrix(tens[:,0,0]), Matrix(tens[:,0,1]), Matrix(tens[:,1,0])]]).transpose()\n",
    "M_a.det()"
   ]
  },
  {
   "cell_type": "code",
   "execution_count": 59,
   "id": "julian-berlin",
   "metadata": {},
   "outputs": [
    {
     "ename": "TypeError",
     "evalue": "immutable N-dim array",
     "output_type": "error",
     "traceback": [
      "\u001b[0;31m---------------------------------------------------------------------------\u001b[0m",
      "\u001b[0;31mTypeError\u001b[0m                                 Traceback (most recent call last)",
      "\u001b[0;32m/var/folders/9j/krll5bd51gg0w1t7kc1n3jdr0000gn/T/ipykernel_35951/1046590387.py\u001b[0m in \u001b[0;36m<module>\u001b[0;34m\u001b[0m\n\u001b[1;32m      1\u001b[0m \u001b[0ma\u001b[0m\u001b[0;34m,\u001b[0m \u001b[0mb\u001b[0m \u001b[0;34m=\u001b[0m \u001b[0msymbols\u001b[0m\u001b[0;34m(\u001b[0m\u001b[0;34m\"a b\"\u001b[0m\u001b[0;34m)\u001b[0m\u001b[0;34m\u001b[0m\u001b[0;34m\u001b[0m\u001b[0m\n\u001b[0;32m----> 2\u001b[0;31m \u001b[0mtens\u001b[0m \u001b[0;34m=\u001b[0m \u001b[0mmat_inv\u001b[0m\u001b[0;34m(\u001b[0m\u001b[0mtens\u001b[0m\u001b[0;34m)\u001b[0m\u001b[0;34m\u001b[0m\u001b[0;34m\u001b[0m\u001b[0m\n\u001b[0m\u001b[1;32m      3\u001b[0m M = Matrix([[tens[0][0][0],0,a,0,0],[0,tens[0][0][1],b,0,0],\n\u001b[1;32m      4\u001b[0m             \u001b[0;34m[\u001b[0m\u001b[0mtens\u001b[0m\u001b[0;34m[\u001b[0m\u001b[0;36m1\u001b[0m\u001b[0;34m]\u001b[0m\u001b[0;34m[\u001b[0m\u001b[0;36m0\u001b[0m\u001b[0;34m]\u001b[0m\u001b[0;34m[\u001b[0m\u001b[0;36m0\u001b[0m\u001b[0;34m]\u001b[0m\u001b[0;34m,\u001b[0m\u001b[0;36m0\u001b[0m\u001b[0;34m,\u001b[0m\u001b[0;36m0\u001b[0m\u001b[0;34m,\u001b[0m\u001b[0ma\u001b[0m\u001b[0;34m,\u001b[0m\u001b[0;36m0\u001b[0m\u001b[0;34m]\u001b[0m\u001b[0;34m,\u001b[0m\u001b[0;34m[\u001b[0m\u001b[0;36m0\u001b[0m\u001b[0;34m,\u001b[0m\u001b[0mtens\u001b[0m\u001b[0;34m[\u001b[0m\u001b[0;36m1\u001b[0m\u001b[0;34m]\u001b[0m\u001b[0;34m[\u001b[0m\u001b[0;36m0\u001b[0m\u001b[0;34m]\u001b[0m\u001b[0;34m[\u001b[0m\u001b[0;36m1\u001b[0m\u001b[0;34m]\u001b[0m\u001b[0;34m,\u001b[0m\u001b[0;36m0\u001b[0m\u001b[0;34m,\u001b[0m\u001b[0mb\u001b[0m\u001b[0;34m,\u001b[0m\u001b[0;36m0\u001b[0m\u001b[0;34m]\u001b[0m\u001b[0;34m,\u001b[0m\u001b[0;34m\u001b[0m\u001b[0;34m\u001b[0m\u001b[0m\n\u001b[1;32m      5\u001b[0m             [tens[2][0][0],0,0,0,a],[0,tens[2][0][1],0,0,b]])\n",
      "\u001b[0;32m/var/folders/9j/krll5bd51gg0w1t7kc1n3jdr0000gn/T/ipykernel_35951/2019250357.py\u001b[0m in \u001b[0;36mmat_inv\u001b[0;34m(t)\u001b[0m\n\u001b[1;32m      4\u001b[0m     \u001b[0mM_2\u001b[0m \u001b[0;34m=\u001b[0m \u001b[0mMatrix\u001b[0m\u001b[0;34m(\u001b[0m\u001b[0;34m[\u001b[0m\u001b[0mMatrix\u001b[0m\u001b[0;34m(\u001b[0m\u001b[0mtens\u001b[0m\u001b[0;34m[\u001b[0m\u001b[0;36m1\u001b[0m\u001b[0;34m]\u001b[0m\u001b[0;34m[\u001b[0m\u001b[0;36m1\u001b[0m\u001b[0;34m]\u001b[0m\u001b[0;34m)\u001b[0m\u001b[0;34m.\u001b[0m\u001b[0mtranspose\u001b[0m\u001b[0;34m(\u001b[0m\u001b[0;34m)\u001b[0m\u001b[0;34m,\u001b[0m\u001b[0mMatrix\u001b[0m\u001b[0;34m(\u001b[0m\u001b[0mtens\u001b[0m\u001b[0;34m[\u001b[0m\u001b[0;36m1\u001b[0m\u001b[0;34m]\u001b[0m\u001b[0;34m[\u001b[0m\u001b[0;36m0\u001b[0m\u001b[0;34m]\u001b[0m\u001b[0;34m)\u001b[0m\u001b[0;34m.\u001b[0m\u001b[0mtranspose\u001b[0m\u001b[0;34m(\u001b[0m\u001b[0;34m)\u001b[0m\u001b[0;34m]\u001b[0m\u001b[0;34m)\u001b[0m\u001b[0;34m\u001b[0m\u001b[0;34m\u001b[0m\u001b[0m\n\u001b[1;32m      5\u001b[0m     \u001b[0mM_3\u001b[0m \u001b[0;34m=\u001b[0m \u001b[0mMatrix\u001b[0m\u001b[0;34m(\u001b[0m\u001b[0;34m[\u001b[0m\u001b[0mMatrix\u001b[0m\u001b[0;34m(\u001b[0m\u001b[0mtens\u001b[0m\u001b[0;34m[\u001b[0m\u001b[0;36m2\u001b[0m\u001b[0;34m]\u001b[0m\u001b[0;34m[\u001b[0m\u001b[0;36m1\u001b[0m\u001b[0;34m]\u001b[0m\u001b[0;34m)\u001b[0m\u001b[0;34m.\u001b[0m\u001b[0mtranspose\u001b[0m\u001b[0;34m(\u001b[0m\u001b[0;34m)\u001b[0m\u001b[0;34m,\u001b[0m\u001b[0mMatrix\u001b[0m\u001b[0;34m(\u001b[0m\u001b[0mtens\u001b[0m\u001b[0;34m[\u001b[0m\u001b[0;36m2\u001b[0m\u001b[0;34m]\u001b[0m\u001b[0;34m[\u001b[0m\u001b[0;36m0\u001b[0m\u001b[0;34m]\u001b[0m\u001b[0;34m)\u001b[0m\u001b[0;34m.\u001b[0m\u001b[0mtranspose\u001b[0m\u001b[0;34m(\u001b[0m\u001b[0;34m)\u001b[0m\u001b[0;34m]\u001b[0m\u001b[0;34m)\u001b[0m\u001b[0;34m\u001b[0m\u001b[0;34m\u001b[0m\u001b[0m\n\u001b[0;32m----> 6\u001b[0;31m     \u001b[0mtens\u001b[0m\u001b[0;34m[\u001b[0m\u001b[0;36m0\u001b[0m\u001b[0;34m]\u001b[0m \u001b[0;34m=\u001b[0m \u001b[0mM_1\u001b[0m\u001b[0;34m\u001b[0m\u001b[0;34m\u001b[0m\u001b[0m\n\u001b[0m\u001b[1;32m      7\u001b[0m     \u001b[0mtens\u001b[0m\u001b[0;34m[\u001b[0m\u001b[0;36m1\u001b[0m\u001b[0;34m]\u001b[0m \u001b[0;34m=\u001b[0m \u001b[0mM_2\u001b[0m\u001b[0;34m\u001b[0m\u001b[0;34m\u001b[0m\u001b[0m\n\u001b[1;32m      8\u001b[0m     \u001b[0mtens\u001b[0m\u001b[0;34m[\u001b[0m\u001b[0;36m2\u001b[0m\u001b[0;34m]\u001b[0m \u001b[0;34m=\u001b[0m \u001b[0mM_3\u001b[0m\u001b[0;34m\u001b[0m\u001b[0;34m\u001b[0m\u001b[0m\n",
      "\u001b[0;32m/Library/Frameworks/Python.framework/Versions/3.9/lib/python3.9/site-packages/sympy/tensor/array/dense_ndim_array.py\u001b[0m in \u001b[0;36m__setitem__\u001b[0;34m(self, index, value)\u001b[0m\n\u001b[1;32m    145\u001b[0m \u001b[0;34m\u001b[0m\u001b[0m\n\u001b[1;32m    146\u001b[0m     \u001b[0;32mdef\u001b[0m \u001b[0m__setitem__\u001b[0m\u001b[0;34m(\u001b[0m\u001b[0mself\u001b[0m\u001b[0;34m,\u001b[0m \u001b[0mindex\u001b[0m\u001b[0;34m,\u001b[0m \u001b[0mvalue\u001b[0m\u001b[0;34m)\u001b[0m\u001b[0;34m:\u001b[0m\u001b[0;34m\u001b[0m\u001b[0;34m\u001b[0m\u001b[0m\n\u001b[0;32m--> 147\u001b[0;31m         \u001b[0;32mraise\u001b[0m \u001b[0mTypeError\u001b[0m\u001b[0;34m(\u001b[0m\u001b[0;34m'immutable N-dim array'\u001b[0m\u001b[0;34m)\u001b[0m\u001b[0;34m\u001b[0m\u001b[0;34m\u001b[0m\u001b[0m\n\u001b[0m\u001b[1;32m    148\u001b[0m \u001b[0;34m\u001b[0m\u001b[0m\n\u001b[1;32m    149\u001b[0m     \u001b[0;32mdef\u001b[0m \u001b[0mas_mutable\u001b[0m\u001b[0;34m(\u001b[0m\u001b[0mself\u001b[0m\u001b[0;34m)\u001b[0m\u001b[0;34m:\u001b[0m\u001b[0;34m\u001b[0m\u001b[0;34m\u001b[0m\u001b[0m\n",
      "\u001b[0;31mTypeError\u001b[0m: immutable N-dim array"
     ]
    }
   ],
   "source": [
    "a, b = symbols(\"a b\")\n",
    "tens = mat_inv(tens)\n",
    "M = Matrix([[tens[0][0][0],0,a,0,0],[0,tens[0][0][1],b,0,0],\n",
    "            [tens[1][0][0],0,0,a,0],[0,tens[1][0][1],0,b,0],\n",
    "            [tens[2][0][0],0,0,0,a],[0,tens[2][0][1],0,0,b]])\n",
    "M"
   ]
  },
  {
   "cell_type": "code",
   "execution_count": 23,
   "id": "composed-daughter",
   "metadata": {},
   "outputs": [
    {
     "data": {
      "text/latex": [
       "$\\displaystyle \\left[\\begin{matrix}p_{100}\\\\p_{110}\\\\p_{101}\\\\p_{111}\\\\p_{102}\\\\p_{112}\\end{matrix}\\right]$"
      ],
      "text/plain": [
       "Matrix([\n",
       "[p_100],\n",
       "[p_110],\n",
       "[p_101],\n",
       "[p_111],\n",
       "[p_102],\n",
       "[p_112]])"
      ]
     },
     "execution_count": 23,
     "metadata": {},
     "output_type": "execute_result"
    }
   ],
   "source": [
    "R = Matrix([Matrix(tens[0,1]),Matrix(tens[1,1]),Matrix(tens[2,1])])\n",
    "R"
   ]
  },
  {
   "cell_type": "code",
   "execution_count": 24,
   "id": "maritime-siemens",
   "metadata": {},
   "outputs": [
    {
     "data": {
      "text/latex": [
       "$\\displaystyle \\left[\\begin{matrix}a \\left(a p_{010} p_{111} - a p_{011} p_{110} - b p_{010} p_{101} + b p_{011} p_{100}\\right)\\\\b \\left(a p_{000} p_{111} - a p_{001} p_{110} - b p_{000} p_{101} + b p_{001} p_{100}\\right)\\\\- a p_{000} p_{010} p_{111} + a p_{000} p_{011} p_{110} + b p_{000} p_{010} p_{101} - b p_{001} p_{010} p_{100}\\\\- a p_{001} p_{010} p_{111} + a p_{001} p_{011} p_{110} + b p_{000} p_{011} p_{101} - b p_{001} p_{011} p_{100}\\\\- a p_{002} p_{010} p_{111} + a p_{002} p_{011} p_{110} + b p_{002} p_{010} p_{101} - b p_{002} p_{011} p_{100} + b p_{102} \\left(p_{000} p_{011} - p_{001} p_{010}\\right)\\end{matrix}\\right]$"
      ],
      "text/plain": [
       "Matrix([\n",
       "[                                                           a*(a*p_010*p_111 - a*p_011*p_110 - b*p_010*p_101 + b*p_011*p_100)],\n",
       "[                                                           b*(a*p_000*p_111 - a*p_001*p_110 - b*p_000*p_101 + b*p_001*p_100)],\n",
       "[                                      -a*p_000*p_010*p_111 + a*p_000*p_011*p_110 + b*p_000*p_010*p_101 - b*p_001*p_010*p_100],\n",
       "[                                      -a*p_001*p_010*p_111 + a*p_001*p_011*p_110 + b*p_000*p_011*p_101 - b*p_001*p_011*p_100],\n",
       "[-a*p_002*p_010*p_111 + a*p_002*p_011*p_110 + b*p_002*p_010*p_101 - b*p_002*p_011*p_100 + b*p_102*(p_000*p_011 - p_001*p_010)]])"
      ]
     },
     "execution_count": 24,
     "metadata": {},
     "output_type": "execute_result"
    }
   ],
   "source": [
    "M_sub = Matrix(M[0:5,0:5])\n",
    "L = simplify((M_sub.adjugate() @ Matrix(R[0:5]))/a)\n",
    "L"
   ]
  },
  {
   "cell_type": "code",
   "execution_count": 25,
   "id": "forward-diving",
   "metadata": {},
   "outputs": [
    {
     "data": {
      "text/latex": [
       "$\\displaystyle p_{000} p_{011} p_{101} \\left(p_{000} p_{011} p_{112} - p_{000} p_{012} p_{111} - p_{001} p_{010} p_{112} + p_{001} p_{012} p_{110} + p_{002} p_{010} p_{111} - p_{002} p_{011} p_{110}\\right) - p_{001} p_{010} p_{111} \\left(p_{000} p_{011} p_{102} - p_{000} p_{012} p_{101} - p_{001} p_{010} p_{102} + p_{001} p_{012} p_{100} + p_{002} p_{010} p_{101} - p_{002} p_{011} p_{100}\\right) - p_{001} p_{011} p_{100} \\left(p_{000} p_{011} p_{112} - p_{000} p_{012} p_{111} - p_{001} p_{010} p_{112} + p_{001} p_{012} p_{110} + p_{002} p_{010} p_{111} - p_{002} p_{011} p_{110}\\right) + p_{001} p_{011} p_{110} \\left(p_{000} p_{011} p_{102} - p_{000} p_{012} p_{101} - p_{001} p_{010} p_{102} + p_{001} p_{012} p_{100} + p_{002} p_{010} p_{101} - p_{002} p_{011} p_{100}\\right)$"
      ],
      "text/plain": [
       "p_000*p_011*p_101*(p_000*p_011*p_112 - p_000*p_012*p_111 - p_001*p_010*p_112 + p_001*p_012*p_110 + p_002*p_010*p_111 - p_002*p_011*p_110) - p_001*p_010*p_111*(p_000*p_011*p_102 - p_000*p_012*p_101 - p_001*p_010*p_102 + p_001*p_012*p_100 + p_002*p_010*p_101 - p_002*p_011*p_100) - p_001*p_011*p_100*(p_000*p_011*p_112 - p_000*p_012*p_111 - p_001*p_010*p_112 + p_001*p_012*p_110 + p_002*p_010*p_111 - p_002*p_011*p_110) + p_001*p_011*p_110*(p_000*p_011*p_102 - p_000*p_012*p_101 - p_001*p_010*p_102 + p_001*p_012*p_100 + p_002*p_010*p_101 - p_002*p_011*p_100)"
      ]
     },
     "execution_count": 25,
     "metadata": {},
     "output_type": "execute_result"
    }
   ],
   "source": [
    "# symbolic equation with explicit values for a,b\n",
    "sol = factor(L.subs([(a, M_a.det()), (b,M_b.det())]))\n",
    "sol[3]"
   ]
  },
  {
   "cell_type": "code",
   "execution_count": 15,
   "id": "durable-omega",
   "metadata": {},
   "outputs": [
    {
     "data": {
      "text/latex": [
       "$\\displaystyle \\left(- p_{000} p_{101} \\left(p_{000} p_{011} p_{112} - p_{000} p_{012} p_{111} - p_{001} p_{010} p_{112} + p_{001} p_{012} p_{110} + p_{002} p_{010} p_{111} - p_{002} p_{011} p_{110}\\right) + p_{000} p_{111} \\left(p_{000} p_{011} p_{102} - p_{000} p_{012} p_{101} - p_{001} p_{010} p_{102} + p_{001} p_{012} p_{100} + p_{002} p_{010} p_{101} - p_{002} p_{011} p_{100}\\right) + p_{001} p_{100} \\left(p_{000} p_{011} p_{112} - p_{000} p_{012} p_{111} - p_{001} p_{010} p_{112} + p_{001} p_{012} p_{110} + p_{002} p_{010} p_{111} - p_{002} p_{011} p_{110}\\right) - p_{001} p_{110} \\left(p_{000} p_{011} p_{102} - p_{000} p_{012} p_{101} - p_{001} p_{010} p_{102} + p_{001} p_{012} p_{100} + p_{002} p_{010} p_{101} - p_{002} p_{011} p_{100}\\right)\\right) \\left(p_{000} p_{011} p_{112} - p_{000} p_{012} p_{111} - p_{001} p_{010} p_{112} + p_{001} p_{012} p_{110} + p_{002} p_{010} p_{111} - p_{002} p_{011} p_{110}\\right)$"
      ],
      "text/plain": [
       "(-p_000*p_101*(p_000*p_011*p_112 - p_000*p_012*p_111 - p_001*p_010*p_112 + p_001*p_012*p_110 + p_002*p_010*p_111 - p_002*p_011*p_110) + p_000*p_111*(p_000*p_011*p_102 - p_000*p_012*p_101 - p_001*p_010*p_102 + p_001*p_012*p_100 + p_002*p_010*p_101 - p_002*p_011*p_100) + p_001*p_100*(p_000*p_011*p_112 - p_000*p_012*p_111 - p_001*p_010*p_112 + p_001*p_012*p_110 + p_002*p_010*p_111 - p_002*p_011*p_110) - p_001*p_110*(p_000*p_011*p_102 - p_000*p_012*p_101 - p_001*p_010*p_102 + p_001*p_012*p_100 + p_002*p_010*p_101 - p_002*p_011*p_100))*(p_000*p_011*p_112 - p_000*p_012*p_111 - p_001*p_010*p_112 + p_001*p_012*p_110 + p_002*p_010*p_111 - p_002*p_011*p_110)"
      ]
     },
     "execution_count": 15,
     "metadata": {},
     "output_type": "execute_result"
    }
   ],
   "source": [
    "sol[1]"
   ]
  },
  {
   "cell_type": "code",
   "execution_count": 31,
   "id": "turned-coalition",
   "metadata": {},
   "outputs": [
    {
     "name": "stdout",
     "output_type": "stream",
     "text": [
      "718733837284774.\n"
     ]
    },
    {
     "data": {
      "text/latex": [
       "$\\displaystyle \\left[\\begin{matrix}0.279100921444095\\\\3.32206827434548\\\\-4.21262530124438 \\cdot 10^{-10}\\\\-2.00355862561557 \\cdot 10^{-10}\\\\-1.60543344217581 \\cdot 10^{-10}\\end{matrix}\\right]$"
      ],
      "text/plain": [
       "Matrix([\n",
       "[    0.279100921444095],\n",
       "[     3.32206827434548],\n",
       "[-4.21262530124438e-10],\n",
       "[-2.00355862561557e-10],\n",
       "[-1.60543344217581e-10]])"
      ]
     },
     "execution_count": 31,
     "metadata": {},
     "output_type": "execute_result"
    }
   ],
   "source": [
    "#tens = tl.tensor(np.random.randint(1, 100000, size=(3,2,2)))*1.0\n",
    "\n",
    "M1 = Matrix([[M,R]])\n",
    "#display(Latex(latex(M1)))\n",
    "l = solve(M1.det()/b)[0]\n",
    "M_1 = Matrix([[tens[0][0][0],0,a,0,0],[0,tens[0][0][1],l,0,0],\n",
    "              [tens[1][0][0],0,0,a,0],[0,tens[1][0][1],0,l,0],\n",
    "              [tens[2][0][0],0,0,0,a],[0,tens[2][0][1],0,0,l]])\n",
    "M_2 = (M_1,R)\n",
    "print(l)\n",
    "N = np.array(M_1, dtype= 'float')\n",
    "sol = la.solve(N.T @ N, N.T @ np.array(R, dtype='float'))\n",
    "M_sub = Matrix(M_1[0:5,0:5])\n",
    "M_sub.adjugate() * Matrix(R[0:5]) /det(M_sub)"
   ]
  },
  {
   "cell_type": "code",
   "execution_count": 42,
   "id": "quiet-newfoundland",
   "metadata": {},
   "outputs": [
    {
     "data": {
      "text/latex": [
       "$\\displaystyle \\left[\\begin{matrix}9642.0 & 0 & 1 & 0 & 0\\\\0 & 4780.0 & 0.439354549529377 & 0 & 0\\\\12447.0 & 0 & 0 & 1 & 0\\\\0 & 7114.0 & 0 & 0.439354549529377 & 0\\\\7116.0 & 0 & 0 & 0 & 1\\\\0 & 4152.0 & 0 & 0 & 0.439354549529377\\end{matrix}\\right]$"
      ],
      "text/plain": [
       "Matrix([\n",
       "[ 9642.0,      0,                 1,                 0,                 0],\n",
       "[      0, 4780.0, 0.439354549529377,                 0,                 0],\n",
       "[12447.0,      0,                 0,                 1,                 0],\n",
       "[      0, 7114.0,                 0, 0.439354549529377,                 0],\n",
       "[ 7116.0,      0,                 0,                 0,                 1],\n",
       "[      0, 4152.0,                 0,                 0, 0.439354549529377]])"
      ]
     },
     "execution_count": 42,
     "metadata": {},
     "output_type": "execute_result"
    }
   ],
   "source": [
    "M_1"
   ]
  },
  {
   "cell_type": "code",
   "execution_count": 48,
   "id": "charming-biodiversity",
   "metadata": {},
   "outputs": [
    {
     "data": {
      "text/latex": [
       "$\\displaystyle \\left[\\begin{matrix}11890315.9809953\\\\9041167.66194879\\\\-61723436753.7098\\\\-79489029329.6207\\\\-45980343624.7638\\end{matrix}\\right]$"
      ],
      "text/plain": [
       "Matrix([\n",
       "[ 11890315.9809953],\n",
       "[ 9041167.66194879],\n",
       "[-61723436753.7098],\n",
       "[-79489029329.6207],\n",
       "[-45980343624.7638]])"
      ]
     },
     "execution_count": 48,
     "metadata": {},
     "output_type": "execute_result"
    }
   ],
   "source": [
    "M_sub = Matrix(M_1[0:5,0:5])\n",
    "M_sub.adjugate() * Matrix(R[0:5]) "
   ]
  },
  {
   "cell_type": "code",
   "execution_count": 28,
   "id": "substantial-animation",
   "metadata": {},
   "outputs": [
    {
     "data": {
      "text/plain": [
       "[{b: (p_000*p_011*p_112 - p_000*p_012*p_111 - p_001*p_010*p_112 + p_001*p_012*p_110 + p_002*p_010*p_111 - p_002*p_011*p_110)/(p_000*p_011*p_102 - p_000*p_012*p_101 - p_001*p_010*p_102 + p_001*p_012*p_100 + p_002*p_010*p_101 - p_002*p_011*p_100)}]"
      ]
     },
     "execution_count": 28,
     "metadata": {},
     "output_type": "execute_result"
    }
   ],
   "source": [
    "M = Matrix([[p_000,0,1,0,0],[0,p_010,b,0,0],\n",
    "       [p_001,0,0,1,0],[0,p_011,0,b,0],\n",
    "      [p_002,0,0,0,1],[0,p_012,0,0,b]])\n",
    "R = Matrix([p_100, p_110, p_101, p_111, p_102, p_112])\n",
    "a= 1\n",
    "bs = solve((Matrix([[M,R]]).det()/b).simplify())"
   ]
  },
  {
   "cell_type": "code",
   "execution_count": 29,
   "id": "continued-identity",
   "metadata": {},
   "outputs": [],
   "source": [
    "bs = solve((Matrix([[M,R]]).det()/b).simplify())\n",
    "bs"
   ]
  },
  {
   "cell_type": "code",
   "execution_count": 219,
   "id": "welsh-pixel",
   "metadata": {},
   "outputs": [
    {
     "data": {
      "text/plain": [
       "array([[ 7.23016156e-01],\n",
       "       [-1.12504981e-01],\n",
       "       [ 2.79275779e+04],\n",
       "       [ 1.84547833e+04],\n",
       "       [ 2.04832005e+04]])"
      ]
     },
     "execution_count": 219,
     "metadata": {},
     "output_type": "execute_result"
    }
   ],
   "source": [
    "tens = rank_tree()\n",
    "tens = tl.tensor(np.random.randint(1, 100000, size=(3,2,2)))*1.0\n",
    "M_b = Matrix([[Matrix(tens[:,0,0]), Matrix(tens[:,0,1]), Matrix(tens[:,1,1])]]).transpose()\n",
    "M_a = Matrix([[Matrix(tens[:,0,0]), Matrix(tens[:,0,1]), Matrix(tens[:,1,0])]]).transpose()\n",
    "a = 1\n",
    "b = M_b.det() / M_a.det()\n",
    "M = Matrix([[tens[0][0][0],0,a,0,0],[0,tens[0][0][1],b,0,0],\n",
    "            [tens[1][0][0],0,0,a,0],[0,tens[1][0][1],0,b,0],\n",
    "            [tens[2][0][0],0,0,0,a],[0,tens[2][0][1],0,0,b]])\n",
    "R = Matrix([Matrix(tens[0,1]),Matrix(tens[1,1]),Matrix(tens[2,1])])\n",
    "M_sub = Matrix(M[0:5,0:5])\n",
    "sol = np.array((M_sub.adjugate() @ Matrix(R[0:5])) /M_sub.det(), dtype = \"float\")\n",
    "sol1 = la.solve(np.array(M.T @ M, dtype = \"float\"), np.array(M.T @ R, dtype = \"float\"))\n",
    "sol\n"
   ]
  },
  {
   "cell_type": "code",
   "execution_count": 32,
   "id": "993af021-a094-4761-9d98-16594ee9a520",
   "metadata": {},
   "outputs": [
    {
     "data": {
      "text/latex": [
       "$\\displaystyle \\left[\\begin{matrix}46430.0 b & 7351.0 & 13944.0\\\\68403.0 & 64578.0 & 30275.0\\\\12330.0 & 53819.0 & 24090.0\\end{matrix}\\right]$"
      ],
      "text/plain": [
       "Matrix([\n",
       "[46430.0*b,  7351.0, 13944.0],\n",
       "[  68403.0, 64578.0, 30275.0],\n",
       "[  12330.0, 53819.0, 24090.0]])"
      ]
     },
     "execution_count": 32,
     "metadata": {},
     "output_type": "execute_result"
    }
   ],
   "source": [
    "a, b = symbols(\"a b\")\n",
    "M = Matrix([[tens[0,1,0]*b,tens[0,0,1]*1,tens[0,1,1]],[tens[1,1,0],tens[1,0,1],tens[1,1,1]],\n",
    "            [tens[2,1,0],tens[2,0,1],tens[2,1,1]]])\n",
    "M"
   ]
  },
  {
   "cell_type": "code",
   "execution_count": 20,
   "id": "2b582273-f604-4378-a882-457e03ecab95",
   "metadata": {},
   "outputs": [
    {
     "data": {
      "text/plain": [
       "[(p_010*p_101*p_112 - p_010*p_102*p_111 + p_011*p_102*p_110 - p_012*p_101*p_110)/(p_100*(p_011*p_112 - p_012*p_111))]"
      ]
     },
     "execution_count": 20,
     "metadata": {},
     "output_type": "execute_result"
    }
   ],
   "source": [
    "solve(M.det(),b)"
   ]
  },
  {
   "cell_type": "code",
   "execution_count": 62,
   "id": "9697f68d-eb2a-434d-87df-69543ad5e2d1",
   "metadata": {},
   "outputs": [
    {
     "data": {
      "text/plain": [
       "array([[[2.6340e+03, 1.6856e+04],\n",
       "        [5.6163e+04, 6.2312e+04]],\n",
       "\n",
       "       [[7.2716e+04, 9.9043e+04],\n",
       "        [6.4876e+04, 3.7139e+04]],\n",
       "\n",
       "       [[3.7900e+04, 6.4593e+04],\n",
       "        [5.8000e+01, 7.1000e+02]]])"
      ]
     },
     "execution_count": 62,
     "metadata": {},
     "output_type": "execute_result"
    }
   ],
   "source": [
    "tens = rand_tensor()\n",
    "tens"
   ]
  },
  {
   "cell_type": "code",
   "execution_count": 63,
   "id": "c197cbf5-803b-4619-a536-1515b0a381a0",
   "metadata": {},
   "outputs": [
    {
     "data": {
      "text/latex": [
       "$\\displaystyle \\left[\\begin{matrix}56163.0 & 0 & a & 0 & 0\\\\0 & 62312.0 & b & 0 & 0\\\\64876.0 & 0 & 0 & a & 0\\\\0 & 37139.0 & 0 & b & 0\\\\58.0 & 0 & 0 & 0 & a\\\\0 & 710.0 & 0 & 0 & b\\end{matrix}\\right]$"
      ],
      "text/plain": [
       "Matrix([\n",
       "[56163.0,       0, a, 0, 0],\n",
       "[      0, 62312.0, b, 0, 0],\n",
       "[64876.0,       0, 0, a, 0],\n",
       "[      0, 37139.0, 0, b, 0],\n",
       "[   58.0,       0, 0, 0, a],\n",
       "[      0,   710.0, 0, 0, b]])"
      ]
     },
     "execution_count": 63,
     "metadata": {},
     "output_type": "execute_result"
    }
   ],
   "source": [
    "a, b = symbols(\"a b\")\n",
    "tens = mat_inv(tens)\n",
    "M = Matrix([[tens[0][0][0],0,a,0,0],[0,tens[0][0][1],b,0,0],\n",
    "            [tens[1][0][0],0,0,a,0],[0,tens[1][0][1],0,b,0],\n",
    "            [tens[2][0][0],0,0,0,a],[0,tens[2][0][1],0,0,b]])\n",
    "M"
   ]
  },
  {
   "cell_type": "code",
   "execution_count": 35,
   "id": "375fa407-25c4-4a15-96c9-fd17b3bf5263",
   "metadata": {},
   "outputs": [
    {
     "data": {
      "text/latex": [
       "$\\displaystyle 9.02044080765668$"
      ],
      "text/plain": [
       "9.02044080765668"
      ]
     },
     "execution_count": 35,
     "metadata": {},
     "output_type": "execute_result"
    }
   ],
   "source": []
  },
  {
   "cell_type": "code",
   "execution_count": 37,
   "id": "bf0b53ea-0c93-4312-81ac-271c0e0512b8",
   "metadata": {},
   "outputs": [
    {
     "data": {
      "text/latex": [
       "$\\displaystyle \\left[\\begin{matrix}418819.0666995 & 7351.0 & 13944.0\\\\68403.0 & 64578.0 & 30275.0\\\\12330.0 & 53819.0 & 24090.0\\end{matrix}\\right]$"
      ],
      "text/plain": [
       "Matrix([\n",
       "[418819.0666995,  7351.0, 13944.0],\n",
       "[       68403.0, 64578.0, 30275.0],\n",
       "[       12330.0, 53819.0, 24090.0]])"
      ]
     },
     "execution_count": 37,
     "metadata": {},
     "output_type": "execute_result"
    }
   ],
   "source": [
    "M = Matrix([[tens[0,1,0]*b,tens[0,0,1]*1,tens[0,1,1]],[tens[1,1,0],tens[1,0,1],tens[1,1,1]],\n",
    "            [tens[2,1,0],tens[2,0,1],tens[2,1,1]]])\n",
    "M"
   ]
  },
  {
   "cell_type": "code",
   "execution_count": 50,
   "id": "3048d6e7-1756-4447-bcd4-6f2e0a1b8b46",
   "metadata": {},
   "outputs": [
    {
     "name": "stdout",
     "output_type": "stream",
     "text": [
      "0.446295709781719\n"
     ]
    },
    {
     "data": {
      "text/latex": [
       "$\\displaystyle \\left[\\begin{matrix}0.496272611297898\\\\0.74276335858367\\end{matrix}\\right]$"
      ],
      "text/plain": [
       "Matrix([\n",
       "[0.496272611297898],\n",
       "[ 0.74276335858367]])"
      ]
     },
     "execution_count": 50,
     "metadata": {},
     "output_type": "execute_result"
    }
   ],
   "source": [
    "tens = rand_tensor()\n",
    "b = symbols('b')\n",
    "M = Matrix([[tens[0,1,0]*b,tens[0,0,1]*1,tens[0,1,1]],[tens[1,1,0],tens[1,0,1],tens[1,1,1]],\n",
    "            [tens[2,1,0],tens[2,0,1],tens[2,1,1]]])\n",
    "b = solve(M.det(),b)[0]\n",
    "M = Matrix([[tens[0,1,0]*b,tens[0,0,1]*1,tens[0,1,1]],[tens[1,1,0],tens[1,0,1],tens[1,1,1]],\n",
    "            [tens[2,1,0],tens[2,0,1],tens[2,1,1]]])\n",
    "M_sub = Matrix(M[0:2,0:2])\n",
    "print(b)\n",
    "M_sub.adjugate() * Matrix(M[0:2,2]) /det(M_sub)"
   ]
  },
  {
   "cell_type": "code",
   "execution_count": 51,
   "id": "058e6762-e889-4700-9a93-4c742f216c6f",
   "metadata": {},
   "outputs": [
    {
     "ename": "NameError",
     "evalue": "name 'proc_tensor' is not defined",
     "output_type": "error",
     "traceback": [
      "\u001b[0;31m---------------------------------------------------------------------------\u001b[0m",
      "\u001b[0;31mNameError\u001b[0m                                 Traceback (most recent call last)",
      "\u001b[0;32m/var/folders/9j/krll5bd51gg0w1t7kc1n3jdr0000gn/T/ipykernel_35951/4006088335.py\u001b[0m in \u001b[0;36m<module>\u001b[0;34m\u001b[0m\n\u001b[0;32m----> 1\u001b[0;31m \u001b[0mproc_tensor\u001b[0m\u001b[0;34m(\u001b[0m\u001b[0mtens\u001b[0m\u001b[0;34m)\u001b[0m\u001b[0;34m\u001b[0m\u001b[0;34m\u001b[0m\u001b[0m\n\u001b[0m",
      "\u001b[0;31mNameError\u001b[0m: name 'proc_tensor' is not defined"
     ]
    }
   ],
   "source": [
    "proc_tensor(tens)"
   ]
  },
  {
   "cell_type": "code",
   "execution_count": null,
   "id": "836234e4-666a-4ab2-957f-a445dfa56009",
   "metadata": {},
   "outputs": [],
   "source": []
  }
 ],
 "metadata": {
  "kernelspec": {
   "display_name": "Python 3 (ipykernel)",
   "language": "python",
   "name": "python3"
  },
  "language_info": {
   "codemirror_mode": {
    "name": "ipython",
    "version": 3
   },
   "file_extension": ".py",
   "mimetype": "text/x-python",
   "name": "python",
   "nbconvert_exporter": "python",
   "pygments_lexer": "ipython3",
   "version": "3.9.5"
  }
 },
 "nbformat": 4,
 "nbformat_minor": 5
}
