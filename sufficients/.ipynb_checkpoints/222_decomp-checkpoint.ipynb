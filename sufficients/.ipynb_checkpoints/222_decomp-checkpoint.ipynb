{
 "cells": [
  {
   "cell_type": "code",
   "execution_count": 6,
   "id": "intimate-chaos",
   "metadata": {},
   "outputs": [],
   "source": [
    "import tensorly as tl\n",
    "from utils import *\n",
    "import numpy as np\n",
    "from numpy import linalg as la\n",
    "from sympy import *\n",
    "from sympy.solvers.inequalities import *\n",
    "from sympy.polys import Poly\n",
    "from sympy.abc import x\n",
    "from sympy.solvers.solveset import linsolve\n",
    "import time\n",
    "from joblib import Parallel, delayed"
   ]
  },
  {
   "cell_type": "code",
   "execution_count": 7,
   "id": "infrared-place",
   "metadata": {},
   "outputs": [],
   "source": [
    "#generates random rank 3 tensors\n",
    "def rank_tree(size = 100):\n",
    "    return (low_tensor(size) + low_tensor(size) + low_tensor(size)) \n",
    "\n",
    "# random tensor of some dim\n",
    "def rand_tensor(size = 100000):\n",
    "    return tl.tensor(np.random.randint(1, size, size=(3,2,2)))*1.0\n",
    "\n",
    "# generates rank 1 tensors\n",
    "def low_tensor(size = 100):\n",
    "    a = np.random.randint(1, size, size=3) \n",
    "    b = np.random.randint(1, size, size=2)\n",
    "    c = np.random.randint(1, size, size=2)\n",
    "    tens = tl.tensor(np.kron(np.kron(a, b), c).reshape(3, 2, 2)) * 1.0\n",
    "    return tens"
   ]
  },
  {
   "cell_type": "code",
   "execution_count": 8,
   "id": "muslim-collector",
   "metadata": {},
   "outputs": [],
   "source": [
    "\n",
    "def proc_tensor(t):\n",
    "    tens = t.copy()\n",
    "    M_b = Matrix([[Matrix(tens[:,0,0]), Matrix(tens[:,0,1]), Matrix(tens[:,1,1])]]).transpose()\n",
    "    M_a = Matrix([[Matrix(tens[:,0,0]), Matrix(tens[:,0,1]), Matrix(tens[:,1,0])]]).transpose()\n",
    "    if abs(M_a.det()) < 10:\n",
    "        print(\"warning det too small\")\n",
    "    a = 1\n",
    "    b = M_b.det() / M_a.det()\n",
    "    M = Matrix([[tens[0][0][0],0,a,0,0],[0,tens[0][0][1],b,0,0],\n",
    "                [tens[1][0][0],0,0,a,0],[0,tens[1][0][1],0,b,0],\n",
    "                [tens[2][0][0],0,0,0,a],[0,tens[2][0][1],0,0,b]])\n",
    "    R = Matrix([Matrix(tens[0,1]),Matrix(tens[1,1]),Matrix(tens[2,1])])\n",
    "    sol = la.solve(np.array(M.T@M,dtype = \"float\"), np.array(M.T@R, dtype = \"float\"))\n",
    "    ret = np.append(np.array([b], dtype = \"float\"),sol)\n",
    "    return np.all(ret >=0)\n",
    "\n",
    "\n",
    "def test(tens):\n",
    "    ret = [0] *11\n",
    "    if proc_tensor(tens) or proc_tensor(mat_trans(tens)) or proc_tensor(mat_inv(tens)) or proc_tensor(rotate(tens)):\n",
    "        ret[1] = 1\n",
    "        ret[0] = 1\n",
    "    if check_simple(tens):\n",
    "        ret[2] = 1\n",
    "        if ret[0] == 0:\n",
    "            ret[8] = 1\n",
    "        ret[0] = 1\n",
    "    r2 = r2_sub(tens, upper = 2)\n",
    "    r4 = check_r4(tens)\n",
    "    if r4  and r2:\n",
    "        ret[3] = 1\n",
    "    if not r4 and r2:\n",
    "        ret[6] = 1\n",
    "        if ret[0] == 0:\n",
    "            ret[7] = 1\n",
    "    return ret\n",
    "\n",
    "def test_r2(tens):\n",
    "    A = Matrix(tens[0]) * Matrix(tens[1]).inv()\n",
    "    res1 = Matrix(A.eigenvects()[0][2])\n",
    "    res2 = Matrix(A.eigenvects()[1][2])\n",
    "\n",
    "    B = Matrix(tens[0]).transpose() * Matrix(tens[1]).transpose().inv()\n",
    "    res3 = Matrix(B.eigenvects()[0][2])\n",
    "    res4 = Matrix(B.eigenvects()[1][2])\n",
    "    \n",
    "    T1 = np.kron(res1,res3) * 1.0\n",
    "    T2 = np.kron(res2,res4) * 1.0\n",
    "    assert(np.all(T1 >= 0) or np.all(T1 <= 0))\n",
    "    assert(np.all(T2 >= 0) or np.all(T2 <= 0))\n",
    "    T1 = Matrix(abs(T1))\n",
    "    T2 = Matrix(abs(T2))\n",
    "\n",
    "    a = symbols('a')\n",
    "    M = Matrix([[T1,T2]])\n",
    "    A1 = Matrix([a,a,1,1])\n",
    "    A2 = Matrix([a,1,a,1])\n",
    "    M1 = Matrix([[M,A1,Matrix(tens[2].reshape(4))]])\n",
    "    M2 = Matrix([[M,A2,Matrix(tens[2].reshape(4))]])\n",
    "\n",
    "    a1 = solve(M1.det())[0]\n",
    "    A1 = Matrix([a1,a1,1,1])\n",
    "    M1 = Matrix([[M,A1,Matrix(tens[2].reshape(4))]])\n",
    "    M1_sub = M1[0:3,0:3]\n",
    "    R = M1[0:3,3]\n",
    "    d1 = False\n",
    "    if abs(M1_sub.det()) > 0:\n",
    "        c1 = np.array(M1_sub.inv() @ R, dtype = \"float\")\n",
    "        d1 = np.all(c1 >=0)\n",
    "\n",
    "    a2 = solve(M2.det())[0]\n",
    "    A2 = Matrix([a2,1,a2,1])\n",
    "    M2 = Matrix([[M,A2,Matrix(tens[2].reshape(4))]])\n",
    "    M2_sub = M2[0:3,0:3]\n",
    "    R = M2[0:3,3]\n",
    "    d2 = False\n",
    "    if abs(M2_sub.det()) > 0:\n",
    "        c2 = np.array(M2_sub.inv() @ R, dtype = \"float\")\n",
    "        d2 = np.all(c2 >=0)\n",
    "    return d1 or d2\n",
    "\n",
    "def check_comb(tens):\n",
    "    t = tens.copy()\n",
    "    a = check_r2(tl.tensor([t[0],t[1]]))\n",
    "    b = check_r2(tl.tensor([t[0],t[2]]))\n",
    "    c = check_r2(tl.tensor([t[1],t[2]]))\n",
    "    a1 = False\n",
    "    a2 = False\n",
    "    a3 = False\n",
    "    if a:\n",
    "        a1 = test_r2(t)\n",
    "        if a1:\n",
    "            return a1\n",
    "    if b:\n",
    "        a2 = test_r2(tl.tensor([t[0],t[2],t[1]]))\n",
    "        if a2:\n",
    "            return a2\n",
    "    if c:\n",
    "        a3 = test_r2(tl.tensor([t[1],t[2],t[0]]))\n",
    "        if a3:\n",
    "            return a3\n",
    "    return a1 or a2 or a3"
   ]
  },
  {
   "cell_type": "code",
   "execution_count": 9,
   "id": "5d42bd52-47a5-46da-a342-ba5bdbc4903a",
   "metadata": {},
   "outputs": [],
   "source": [
    "\n",
    "# assumes the nonnegative rank 2 subtensor are the first two slices\n",
    "def test_simple(tens, M, A1, tol = 0.0001):\n",
    "    a,b = symbols('a,b')\n",
    "    M1 = Matrix([[M,A1,Matrix(tens[2].reshape(4))]])\n",
    "    a1 = solve(M1.det(),a)[0]\n",
    "    A1 = A1.subs(a,a1)\n",
    "    M1 = Matrix([[M,A1,Matrix(tens[2].reshape(4))]])\n",
    "    M1_sub = M1[1:4,0:3]\n",
    "    R = M1[1:4,3]\n",
    "    res1 = M1_sub.inv() @ R\n",
    "    res1[0] = fraction(simplify(res1[0]))[0] * fraction(simplify(res1[0]))[1]\n",
    "    res1[1] = fraction(simplify(res1[1]))[0] * fraction(simplify(res1[1]))[1]\n",
    "    res1[2] = fraction(simplify(res1[2]))[0] * fraction(simplify(res1[2]))[1]\n",
    "    a2 = fraction(simplify(a1))[0] * fraction(simplify(a1))[1]\n",
    "    s1 = solveset(a2 >= 0, b, S.Reals)\n",
    "    s2 = solveset(res1[0] >= 0, b, S.Reals)\n",
    "    s3 = solveset(res1[1] >=0,b,S.Reals)\n",
    "    s4 = solveset(res1[2] >=0,b,S.Reals)\n",
    "    s5 = solveset(b >=0,b,S.Reals)\n",
    "    sol = Intersection(s1,s2,s3,s4,s5)\n",
    "    return sol.measure > tol\n",
    "\n",
    "\n",
    "# initializes the matrix with the appropriate rank 1 terms given the tensors has nonneg rank 2 subtensor\n",
    "def init_mat(tens):\n",
    "    A = tens[0] @ la.inv(tens[1])\n",
    "    eig = la.eig(A)\n",
    "    B = tens[0].T @ la.inv(tens[1]).T\n",
    "    eig1 = la.eig(B)\n",
    "\n",
    "    a1 = eig[1][:,0]\n",
    "    b1 = eig[1][:,1]\n",
    "\n",
    "    a2 = eig1[1][:,0]\n",
    "    b2 = eig1[1][:,1]\n",
    "\n",
    "    T1 = np.kron(a1,b2)\n",
    "    T2 = np.kron(b1,a2)\n",
    "    #ret = Matrix([[T1,T2]])\n",
    "    if eig[0][0] == eig[0][1]:\n",
    "        print('identical eigenvalue, result should be discarded')\n",
    "    \n",
    "    # take the smaller tensor and check which decomposition to use\n",
    "    temp = tl.tensor([tens[0],tens[1]])\n",
    "    if mat_comb_small(temp,T1,T2):\n",
    "        T1 = Matrix(abs(T1))  \n",
    "        T2 = Matrix(abs(T2))\n",
    "        ret = Matrix([[T1,T2]])\n",
    "        #print(T1)\n",
    "        \n",
    "    T1 = np.kron(a1,a2)\n",
    "    T2 = np.kron(b1,b2)\n",
    "    if mat_comb_small(temp,T1,T2):\n",
    "        T1 = Matrix(abs(T1))\n",
    "        T2 = Matrix(abs(T2))\n",
    "        ret = Matrix([[T1,T2]])\n",
    "        #print(T1)\n",
    "    return ret\n",
    "\n",
    "# as before, checks if the matrix decompostion is valid by reconstructing it\n",
    "def mat_comb_small(tens,K1,K2):\n",
    "    T1 = Matrix(K1.reshape(4))\n",
    "    T2 = Matrix(K2.reshape(4))\n",
    "    pos1 = abs(sum(T1) / sum(abs(T1)))\n",
    "    pos2 = abs(sum(T2) / sum(abs(T2)))\n",
    "    if pos1 + pos2 != 2:\n",
    "        print('returning')\n",
    "        return False\n",
    "    M = abs(Matrix([[T1,T2]]))\n",
    "    R1 = tens[0].reshape(4)\n",
    "    R2 = tens[1].reshape(4)\n",
    "    sol1 = la.solve(np.array(M.T @ M, dtype = \"float\"), np.array(M.T @ R1, dtype = \"float\"))\n",
    "    sol2 = la.solve(np.array(M.T @ M, dtype = \"float\"), np.array(M.T @ R2, dtype = \"float\"))\n",
    "    a3 = [sol1[0],sol2[0]]\n",
    "    b3 = [sol1[1],sol2[1]]\n",
    "    m1 = np.kron(a3,abs(T1).reshape(1,4)).reshape(2,2,2)\n",
    "    m2 = np.kron(b3,abs(T2).reshape(1,4)).reshape(2,2,2)\n",
    "    #print(np.max(abs(m1+m2-tens)))\n",
    "    return (np.max(abs(m1+m2-tens))<0.1)\n",
    "\n",
    "\n",
    "    \n",
    "# checks if a given 2x2x3 has nonneg rank 2 subtensor and if it does check if the third slice is a linear combination\n",
    "def check_simple(tens):\n",
    "    t = tens.copy()\n",
    "    c1 = check_r2(tl.tensor([t[0],t[1]]))\n",
    "    c2 = check_r2(tl.tensor([t[0],t[2]]))\n",
    "    c3 = check_r2(tl.tensor([t[1],t[2]]))\n",
    "    a1 = False\n",
    "    a2 = False\n",
    "    a3 = False\n",
    "    if c1:\n",
    "        a,b = symbols('a,b')\n",
    "        A1 = Matrix([a*b,a,b,1])\n",
    "        A2 = Matrix([a,a*b,1,b])\n",
    "        A3 = Matrix([b,1,a*b,a])\n",
    "        A4 = Matrix([1,b,a,a*b])\n",
    "        temp = t\n",
    "        M = init_mat(temp)\n",
    "        a1 = test_simple(temp,M,A1) or test_simple(temp,M,A2) or test_simple(temp,M,A3) or test_simple(temp,M,A4)\n",
    "        if a1:\n",
    "            return a1\n",
    "    if c2:\n",
    "        a,b = symbols('a,b')\n",
    "        A1 = Matrix([a*b,a,b,1])\n",
    "        A2 = Matrix([a,a*b,1,b])\n",
    "        A3 = Matrix([b,1,a*b,a])\n",
    "        A4 = Matrix([1,b,a,a*b])\n",
    "        temp = tl.tensor([t[0],t[2],t[1]])\n",
    "        M = init_mat(temp)\n",
    "        a2 = test_simple(temp,M,A1) or test_simple(temp,M,A2) or test_simple(temp,M,A3) or test_simple(temp,M,A4)\n",
    "        if a2:\n",
    "            return a2\n",
    "    if c3:\n",
    "        a,b = symbols('a,b')\n",
    "        A1 = Matrix([a*b,a,b,1])\n",
    "        A2 = Matrix([a,a*b,1,b])\n",
    "        A3 = Matrix([b,1,a*b,a])\n",
    "        A4 = Matrix([1,b,a,a*b])\n",
    "        temp = tl.tensor([t[1],t[2],t[0]])\n",
    "        M = init_mat(temp)\n",
    "        a3 = test_simple(temp,M,A1) or test_simple(temp,M,A2) or test_simple(temp,M,A3) or test_simple(temp,M,A4)\n",
    "        if a3:\n",
    "            return a3\n",
    "    return False\n",
    "\n",
    "def loop_rotations(i):\n",
    "    tens = rand_tensor()\n",
    "    tens = rank_tree(size = 50)\n",
    "    tens = tensors[i]\n",
    "    ret = [0] *11\n",
    "    if proc_tensor(tens) or proc_tensor(mat_trans(tens)) or proc_tensor(mat_inv(tens)) or proc_tensor(rotate(tens)):\n",
    "        ret[1] = 1\n",
    "        ret[0] = 1\n",
    "    if check_simple(tens):\n",
    "        ret[2] = 1\n",
    "        if ret[0] == 0:\n",
    "            ret[8] = 1\n",
    "        ret[0] = 1\n",
    "    r2 = r2_sub(tens, upper = 1)\n",
    "    r4 = check_r4(tens)\n",
    "    if r4:\n",
    "        ret[4] = 1\n",
    "    if r4 and r2:\n",
    "        ret[3] = 1\n",
    "    if r2 and not r4:\n",
    "        ret[6] = 1\n",
    "        if ret[0] == 0:\n",
    "            ret[7] = 1\n",
    "    tensors[i] = (tensors[i],ret[0])\n",
    "    return ret\n",
    "\n",
    "def loop_rotations_old(i):\n",
    "    tens = rand_tensor()\n",
    "    tens = rank_tree(size = 50)\n",
    "    tens = tensors[i]\n",
    "    ret = [0] *11\n",
    "    if proc_tensor(tens) or proc_tensor(mat_trans(tens)) or proc_tensor(mat_inv(tens)) or proc_tensor(rotate(tens)):\n",
    "        ret[1] = 1\n",
    "        ret[0] = 1\n",
    "    if check_comb(tens):\n",
    "        ret[2] = 1\n",
    "        if ret[0] == 0:\n",
    "            ret[8] = 1\n",
    "        ret[0] = 1\n",
    "    r2 = r2_sub(tens, upper = 2)\n",
    "    r4 = check_r4(tens)\n",
    "    if r4:\n",
    "        ret[4] = 1\n",
    "    if r4 and r2:\n",
    "        ret[3] = 1\n",
    "    if not r4 and r2:\n",
    "        ret[6] = 1\n",
    "        if ret[0] == 0:\n",
    "            ret[7] = 1\n",
    "    return ret"
   ]
  },
  {
   "cell_type": "code",
   "execution_count": 10,
   "id": "6715bb66-112e-432e-b312-81ee3b8a3258",
   "metadata": {},
   "outputs": [],
   "source": [
    "total = 10000\n",
    "tensors = []\n",
    "for i in range(total):\n",
    "    tensors.append(rand_tensor())"
   ]
  },
  {
   "cell_type": "code",
   "execution_count": 50,
   "id": "b0805000-6ac3-47d4-bb26-45f8debdbad8",
   "metadata": {},
   "outputs": [
    {
     "name": "stdout",
     "output_type": "stream",
     "text": [
      "[318, 282, 108, 86, 1010, 0, 187, 63, 36, 0, 0]\n",
      "272.9294993877411\n"
     ]
    }
   ],
   "source": [
    "te = time.time()\n",
    "total = 2000\n",
    "results = Parallel(n_jobs=6)(delayed(loop_rotations)(i) for i in range(total))\n",
    "res = [sum(x) for x in zip(*results)]\n",
    "print(res)\n",
    "print(time.time() - te)"
   ]
  },
  {
   "cell_type": "code",
   "execution_count": 16,
   "id": "398f69f6-3459-4ae4-ad63-eaed65f57bf0",
   "metadata": {},
   "outputs": [
    {
     "name": "stdout",
     "output_type": "stream",
     "text": [
      "516.8704991340637\n",
      "[191, 168, 60, 50, 480, 0, 101, 34, 23, 0, 0]\n"
     ]
    }
   ],
   "source": [
    "results = []\n",
    "res = []\n",
    "te = time.time()\n",
    "for i in range(1000):\n",
    "    tens = tensors[i]\n",
    "    ret = [0] *11\n",
    "    if proc_tensor(tens) or proc_tensor(mat_trans(tens)) or proc_tensor(mat_inv(tens)) or proc_tensor(rotate(tens)):\n",
    "        ret[1] = 1\n",
    "        ret[0] = 1\n",
    "    if check_simple(tens):\n",
    "        ret[2] = 1\n",
    "        if ret[0] == 0:\n",
    "            ret[8] = 1\n",
    "        ret[0] = 1\n",
    "    r2 = r2_sub(tens, upper = 1)\n",
    "    r4 = check_r4(tens)\n",
    "    if r4:\n",
    "        ret[4] = 1\n",
    "    if r4 and r2:\n",
    "        ret[3] = 1\n",
    "    if not r4 and r2:\n",
    "        ret[6] = 1\n",
    "        if ret[0] == 0:\n",
    "            ret[7] = 1\n",
    "    res.append((tensors[i],max(ret[0],ret[4], ret[0])))\n",
    "    results.append(ret)\n",
    "print(time.time() - te)\n",
    "print([sum(x) for x in zip(*results)])"
   ]
  },
  {
   "cell_type": "code",
   "execution_count": 18,
   "id": "e39de267-784d-4037-9018-d71e8c828441",
   "metadata": {},
   "outputs": [],
   "source": [
    "wrongs = []\n",
    "for tens in res:\n",
    "    if tens[1] != 1:\n",
    "        if check_rank(tens[0],3,n=20):\n",
    "            wrongs.append((tens[0],3))\n",
    "        else:\n",
    "            wrongs.append((tens[0],4))"
   ]
  },
  {
   "cell_type": "code",
   "execution_count": 20,
   "id": "8cc00b5c-3e59-4e57-ba0f-d23fa8b88695",
   "metadata": {},
   "outputs": [
    {
     "name": "stdout",
     "output_type": "stream",
     "text": [
      "20\n"
     ]
    }
   ],
   "source": [
    "counter = 0\n",
    "for tens in wrongs:\n",
    "    if tens[1] == 3:\n",
    "        counter +=1\n",
    "print(counter)"
   ]
  },
  {
   "cell_type": "code",
   "execution_count": 130,
   "id": "81e8fdc8-8a2e-4525-a05d-ffd7919facf5",
   "metadata": {},
   "outputs": [
    {
     "data": {
      "text/plain": [
       "array([[[46165., 33523.],\n",
       "        [50065., 40113.]],\n",
       "\n",
       "       [[62570., 44942.],\n",
       "        [67889., 52781.]],\n",
       "\n",
       "       [[40435., 28681.],\n",
       "        [50791., 37699.]]])"
      ]
     },
     "execution_count": 130,
     "metadata": {},
     "output_type": "execute_result"
    }
   ],
   "source": [
    "c2 = False\n",
    "\n",
    "#while not (c2):\n",
    "#    tens = rank_tree(size = 60)\n",
    "#    c2 = check_r2(tl.tensor([tens[0],tens[1]]))\n",
    "tens    "
   ]
  },
  {
   "cell_type": "code",
   "execution_count": 197,
   "id": "815d4bc9-f3f3-438d-952e-ad4b7fd77768",
   "metadata": {},
   "outputs": [
    {
     "name": "stdout",
     "output_type": "stream",
     "text": [
      "[56914.14211389 96683.89083073 91028.        ]\n"
     ]
    },
    {
     "data": {
      "text/latex": [
       "$\\displaystyle 5801.48093540504$"
      ],
      "text/plain": [
       "5801.48093540504"
      ]
     },
     "execution_count": 197,
     "metadata": {},
     "output_type": "execute_result"
    }
   ],
   "source": [
    "tens = rank_tree(size = 50)\n",
    "temp = tl.tensor([tens[0],tens[1]])\n",
    "sol = Matrix([[Matrix(temp[:,1,0]),Matrix(temp[:,0,1])]]).inv() * Matrix(temp[:,1,1])\n",
    "np.kron(temp[:,0,1],np.kron([1,sol[1]],[0,1])).reshape(2,2,2) + np.kron(temp[:,1,0],np.kron([0,1],[1,sol[0]])).reshape(2,2,2) + np.kron(temp[:,0,0],np.kron([1,0],[1,0])).reshape(2,2,2)\n",
    "A = Matrix(np.kron([0,1],[1,sol[0]]))\n",
    "B = Matrix(np.kron([1,sol[1]],[0,1]))\n",
    "C = Matrix(np.kron([1,0],[1,0]))\n",
    "M = Matrix([[A,B,C]])\n",
    "R1 = tens[2].reshape(4)\n",
    "sols = la.solve(np.array(M.T @ M, dtype = \"float\"), np.array(M.T @ R1, dtype = \"float\"))\n",
    "print(sols)\n",
    "a = np.kron(np.append(temp[:,1,0],[tens[2,1,0]]),np.kron([0,1],[1,sol[0]])).reshape(3,2,2) \n",
    "b = np.kron(np.append(temp[:,0,1],[tens[2,0,1]]),np.kron([1,sol[1]],[0,1])).reshape(3,2,2) \n",
    "c = np.kron(np.append(temp[:,0,0],[tens[2,0,0]]),np.kron([1,0],[1,0])).reshape(3,2,2)\n",
    "np.max(abs(a+b+c - tens))"
   ]
  },
  {
   "cell_type": "code",
   "execution_count": 186,
   "id": "b4a72de0-b4e8-4a76-aeaf-e6fad871924f",
   "metadata": {},
   "outputs": [
    {
     "data": {
      "text/latex": [
       "$\\displaystyle \\left[\\begin{matrix}0.46100202622914\\\\0.563943647094393\\end{matrix}\\right]$"
      ],
      "text/plain": [
       "Matrix([\n",
       "[ 0.46100202622914],\n",
       "[0.563943647094393]])"
      ]
     },
     "execution_count": 186,
     "metadata": {},
     "output_type": "execute_result"
    }
   ],
   "source": [
    "sol"
   ]
  },
  {
   "cell_type": "code",
   "execution_count": 188,
   "id": "73b628c1-df87-4dc7-b999-884e6cd7f080",
   "metadata": {},
   "outputs": [
    {
     "data": {
      "text/plain": [
       "True"
      ]
     },
     "execution_count": 188,
     "metadata": {},
     "output_type": "execute_result"
    }
   ],
   "source": [
    "np.all(np.array(sol) >=0)"
   ]
  },
  {
   "cell_type": "code",
   "execution_count": 189,
   "id": "8a946b23-a129-4aec-a2c3-ed26965b2d79",
   "metadata": {},
   "outputs": [],
   "source": [
    "def rank_three_comb(tens):\n",
    "    temp = tl.tensor([tens[0],tens[1]])\n",
    "    sol = Matrix([[Matrix(temp[:,1,0]),Matrix(temp[:,0,1])]]).inv() * Matrix(temp[:,1,1])\n",
    "    A = Matrix(np.kron([0,1],[1,sol[0]]))\n",
    "    B = Matrix(np.kron([1,sol[1]],[0,1]))\n",
    "    C = Matrix(np.kron([1,0],[1,0]))\n",
    "    M = Matrix([[A,B,C]])\n",
    "    R1 = tens[2].reshape(4)\n",
    "    sols = la.solve(np.array(M.T @ M, dtype = \"float\"), np.array(M.T @ R1, dtype = \"float\"))\n",
    "    a = np.kron(np.append(temp[:,1,0],[tens[2,1,0]]),np.kron([0,1],[1,sol[0]])).reshape(3,2,2) \n",
    "    b = np.kron(np.append(temp[:,0,1],[tens[2,0,1]]),np.kron([1,sol[1]],[0,1])).reshape(3,2,2) \n",
    "    c = np.kron(np.append(temp[:,0,0],[tens[2,0,0]]),np.kron([1,0],[1,0])).reshape(3,2,2)\n",
    "    return np.max(abs(a+b+c - tens)) < 1 and np.all(np.array(sol) >=0)\n",
    "    "
   ]
  },
  {
   "cell_type": "code",
   "execution_count": 194,
   "id": "c330c41f-e9e8-4fdf-93af-f11f7ca3b73c",
   "metadata": {},
   "outputs": [
    {
     "name": "stdout",
     "output_type": "stream",
     "text": [
      "3\n"
     ]
    }
   ],
   "source": [
    "counter = 0\n",
    "for i in range(10000):\n",
    "    tens = rank_tree()\n",
    "    a = rank_three_comb(tens)\n",
    "    b = rank_three_comb(rotate(tens))\n",
    "    c = rank_three_comb(rotate(rotate((tens))))\n",
    "    d = rank_three_comb(rotate(rotate(rotate(tens))))\n",
    "    if a or b or c or d:\n",
    "        counter += 1\n",
    "print(counter)"
   ]
  },
  {
   "cell_type": "code",
   "execution_count": null,
   "id": "ac4fa749-33d3-4706-b794-e0290ad68611",
   "metadata": {},
   "outputs": [],
   "source": []
  }
 ],
 "metadata": {
  "kernelspec": {
   "display_name": "Python 3 (ipykernel)",
   "language": "python",
   "name": "python3"
  },
  "language_info": {
   "codemirror_mode": {
    "name": "ipython",
    "version": 3
   },
   "file_extension": ".py",
   "mimetype": "text/x-python",
   "name": "python",
   "nbconvert_exporter": "python",
   "pygments_lexer": "ipython3",
   "version": "3.9.5"
  }
 },
 "nbformat": 4,
 "nbformat_minor": 5
}
