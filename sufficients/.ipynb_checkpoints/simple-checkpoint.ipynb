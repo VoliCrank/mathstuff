{
 "cells": [
  {
   "cell_type": "code",
   "execution_count": 1,
   "id": "intimate-chaos",
   "metadata": {},
   "outputs": [],
   "source": [
    "import tensorly as tl\n",
    "from utils import *\n",
    "import numpy as np\n",
    "from numpy import linalg as la\n",
    "from sympy import *\n",
    "from sympy.solvers.inequalities import *\n",
    "from sympy.polys import Poly\n",
    "from sympy.abc import x\n",
    "from sympy.solvers.solveset import linsolve\n",
    "import time\n",
    "from joblib import Parallel, delayed"
   ]
  },
  {
   "cell_type": "code",
   "execution_count": 2,
   "id": "infrared-place",
   "metadata": {},
   "outputs": [],
   "source": [
    "#generates random rank 3 tensors\n",
    "def rank_tree(size = 100):\n",
    "    return (low_tensor(size) + low_tensor(size) + low_tensor(size)) \n",
    "\n",
    "# random tensor of some dim\n",
    "def rand_tensor(size = 100000):\n",
    "    return tl.tensor(np.random.randint(1, size, size=(3,2,2)))*1.0\n",
    "\n",
    "# generates rank 1 tensors\n",
    "def low_tensor(size = 100):\n",
    "    a = np.random.randint(1, size, size=3) \n",
    "    b = np.random.randint(1, size, size=2)\n",
    "    c = np.random.randint(1, size, size=2)\n",
    "    tens = tl.tensor(np.kron(np.kron(a, b), c).reshape(3, 2, 2)) * 1.0\n",
    "    return tens"
   ]
  },
  {
   "cell_type": "code",
   "execution_count": 3,
   "id": "muslim-collector",
   "metadata": {},
   "outputs": [],
   "source": [
    "\n",
    "def proc_tensor(t):\n",
    "    tens = t.copy()\n",
    "    M_b = Matrix([[Matrix(tens[:,0,0]), Matrix(tens[:,0,1]), Matrix(tens[:,1,1])]]).transpose()\n",
    "    M_a = Matrix([[Matrix(tens[:,0,0]), Matrix(tens[:,0,1]), Matrix(tens[:,1,0])]]).transpose()\n",
    "    if abs(M_a.det()) < 10:\n",
    "        print(\"warning det too small\")\n",
    "    a = 1\n",
    "    b = M_b.det() / M_a.det()\n",
    "    M = Matrix([[tens[0][0][0],0,a,0,0],[0,tens[0][0][1],b,0,0],\n",
    "                [tens[1][0][0],0,0,a,0],[0,tens[1][0][1],0,b,0],\n",
    "                [tens[2][0][0],0,0,0,a],[0,tens[2][0][1],0,0,b]])\n",
    "    R = Matrix([Matrix(tens[0,1]),Matrix(tens[1,1]),Matrix(tens[2,1])])\n",
    "    sol = la.solve(np.array(M.T@M,dtype = \"float\"), np.array(M.T@R, dtype = \"float\"))\n",
    "    ret = np.append(np.array([b], dtype = \"float\"),sol)\n",
    "    return np.all(ret >=0)\n",
    "\n",
    "\n",
    "def test(tens):\n",
    "    ret = [0] *11\n",
    "    if proc_tensor(tens) or proc_tensor(mat_trans(tens)) or proc_tensor(mat_inv(tens)) or proc_tensor(rotate(tens)):\n",
    "        ret[1] = 1\n",
    "        ret[0] = 1\n",
    "    if check_simple(tens):\n",
    "        ret[2] = 1\n",
    "        if ret[0] == 0:\n",
    "            ret[8] = 1\n",
    "        ret[0] = 1\n",
    "    r2 = r2_sub(tens, upper = 2)\n",
    "    r4 = check_r4(tens)\n",
    "    if r4  and r2:\n",
    "        ret[3] = 1\n",
    "    if not r4 and r2:\n",
    "        ret[6] = 1\n",
    "        if ret[0] == 0:\n",
    "            ret[7] = 1\n",
    "    return ret\n",
    "\n",
    "def test_r2(tens):\n",
    "    A = Matrix(tens[0]) * Matrix(tens[1]).inv()\n",
    "    res1 = Matrix(A.eigenvects()[0][2])\n",
    "    res2 = Matrix(A.eigenvects()[1][2])\n",
    "\n",
    "    B = Matrix(tens[0]).transpose() * Matrix(tens[1]).transpose().inv()\n",
    "    res3 = Matrix(B.eigenvects()[0][2])\n",
    "    res4 = Matrix(B.eigenvects()[1][2])\n",
    "    \n",
    "    T1 = np.kron(res1,res3) * 1.0\n",
    "    T2 = np.kron(res2,res4) * 1.0\n",
    "    assert(np.all(T1 >= 0) or np.all(T1 <= 0))\n",
    "    assert(np.all(T2 >= 0) or np.all(T2 <= 0))\n",
    "    T1 = Matrix(abs(T1))\n",
    "    T2 = Matrix(abs(T2))\n",
    "\n",
    "    a = symbols('a')\n",
    "    M = Matrix([[T1,T2]])\n",
    "    A1 = Matrix([a,a,1,1])\n",
    "    A2 = Matrix([a,1,a,1])\n",
    "    M1 = Matrix([[M,A1,Matrix(tens[2].reshape(4))]])\n",
    "    M2 = Matrix([[M,A2,Matrix(tens[2].reshape(4))]])\n",
    "\n",
    "    a1 = solve(M1.det())[0]\n",
    "    A1 = Matrix([a1,a1,1,1])\n",
    "    M1 = Matrix([[M,A1,Matrix(tens[2].reshape(4))]])\n",
    "    M1_sub = M1[0:3,0:3]\n",
    "    R = M1[0:3,3]\n",
    "    d1 = False\n",
    "    if abs(M1_sub.det()) > 0:\n",
    "        c1 = np.array(M1_sub.inv() @ R, dtype = \"float\")\n",
    "        d1 = np.all(c1 >=0)\n",
    "\n",
    "    a2 = solve(M2.det())[0]\n",
    "    A2 = Matrix([a2,1,a2,1])\n",
    "    M2 = Matrix([[M,A2,Matrix(tens[2].reshape(4))]])\n",
    "    M2_sub = M2[0:3,0:3]\n",
    "    R = M2[0:3,3]\n",
    "    d2 = False\n",
    "    if abs(M2_sub.det()) > 0:\n",
    "        c2 = np.array(M2_sub.inv() @ R, dtype = \"float\")\n",
    "        d2 = np.all(c2 >=0)\n",
    "    return d1 or d2\n",
    "\n",
    "def check_comb(tens):\n",
    "    t = tens.copy()\n",
    "    a = check_r2(tl.tensor([t[0],t[1]]))\n",
    "    b = check_r2(tl.tensor([t[0],t[2]]))\n",
    "    c = check_r2(tl.tensor([t[1],t[2]]))\n",
    "    a1 = False\n",
    "    a2 = False\n",
    "    a3 = False\n",
    "    if a:\n",
    "        a1 = test_r2(t)\n",
    "        if a1:\n",
    "            return a1\n",
    "    if b:\n",
    "        a2 = test_r2(tl.tensor([t[0],t[2],t[1]]))\n",
    "        if a2:\n",
    "            return a2\n",
    "    if c:\n",
    "        a3 = test_r2(tl.tensor([t[1],t[2],t[0]]))\n",
    "        if a3:\n",
    "            return a3\n",
    "    return a1 or a2 or a3"
   ]
  },
  {
   "cell_type": "code",
   "execution_count": 4,
   "id": "5d42bd52-47a5-46da-a342-ba5bdbc4903a",
   "metadata": {},
   "outputs": [],
   "source": [
    "\n",
    "# assumes the nonnegative rank 2 subtensor are the first two slices\n",
    "def test_simple(tens, M, A1, tol = 0.0001):\n",
    "    a,b = symbols('a,b')\n",
    "    M1 = Matrix([[M,A1,Matrix(tens[2].reshape(4))]])\n",
    "    a1 = solve(M1.det(),a)[0]\n",
    "    A1 = A1.subs(a,a1)\n",
    "    M1 = Matrix([[M,A1,Matrix(tens[2].reshape(4))]])\n",
    "    M1_sub = M1[1:4,0:3]\n",
    "    R = M1[1:4,3]\n",
    "    res1 = M1_sub.inv() @ R\n",
    "    res1[0] = fraction(simplify(res1[0]))[0] * fraction(simplify(res1[0]))[1]\n",
    "    res1[1] = fraction(simplify(res1[1]))[0] * fraction(simplify(res1[1]))[1]\n",
    "    res1[2] = fraction(simplify(res1[2]))[0] * fraction(simplify(res1[2]))[1]\n",
    "    a2 = fraction(simplify(a1))[0] * fraction(simplify(a1))[1]\n",
    "    s1 = solveset(a2 >= 0, b, S.Reals)\n",
    "    s2 = solveset(res1[0] >= 0, b, S.Reals)\n",
    "    s3 = solveset(res1[1] >=0,b,S.Reals)\n",
    "    s4 = solveset(res1[2] >=0,b,S.Reals)\n",
    "    s5 = solveset(b >=0,b,S.Reals)\n",
    "    sol = Intersection(s1,s2,s3,s4,s5)\n",
    "    return sol.measure > tol\n",
    "\n",
    "\n",
    "# initializes the matrix with the appropriate rank 1 terms given the tensors has nonneg rank 2 subtensor\n",
    "def init_mat(tens):\n",
    "    A = tens[0] @ la.inv(tens[1])\n",
    "    eig = la.eig(A)\n",
    "    B = tens[0].T @ la.inv(tens[1]).T\n",
    "    eig1 = la.eig(B)\n",
    "\n",
    "    a1 = eig[1][:,0]\n",
    "    b1 = eig[1][:,1]\n",
    "\n",
    "    a2 = eig1[1][:,0]\n",
    "    b2 = eig1[1][:,1]\n",
    "\n",
    "    T1 = np.kron(a1,b2)\n",
    "    T2 = np.kron(b1,a2)\n",
    "    #ret = Matrix([[T1,T2]])\n",
    "    if eig[0][0] == eig[0][1]:\n",
    "        print('identical eigenvalue, result should be discarded')\n",
    "    \n",
    "    # take the smaller tensor and check which decomposition to use\n",
    "    temp = tl.tensor([tens[0],tens[1]])\n",
    "    if mat_comb_small(temp,T1,T2):\n",
    "        T1 = Matrix(abs(T1))  \n",
    "        T2 = Matrix(abs(T2))\n",
    "        ret = Matrix([[T1,T2]])\n",
    "        #print(T1)\n",
    "        \n",
    "    T1 = np.kron(a1,a2)\n",
    "    T2 = np.kron(b1,b2)\n",
    "    if mat_comb_small(temp,T1,T2):\n",
    "        T1 = Matrix(abs(T1))\n",
    "        T2 = Matrix(abs(T2))\n",
    "        ret = Matrix([[T1,T2]])\n",
    "        #print(T1)\n",
    "    return ret\n",
    "\n",
    "# as before, checks if the matrix decompostion is valid by reconstructing it\n",
    "def mat_comb_small(tens,K1,K2):\n",
    "    T1 = Matrix(K1.reshape(4))\n",
    "    T2 = Matrix(K2.reshape(4))\n",
    "    pos1 = abs(sum(T1) / sum(abs(T1)))\n",
    "    pos2 = abs(sum(T2) / sum(abs(T2)))\n",
    "    if pos1 + pos2 != 2:\n",
    "        print('returning')\n",
    "        return False\n",
    "    M = abs(Matrix([[T1,T2]]))\n",
    "    R1 = tens[0].reshape(4)\n",
    "    R2 = tens[1].reshape(4)\n",
    "    sol1 = la.solve(np.array(M.T @ M, dtype = \"float\"), np.array(M.T @ R1, dtype = \"float\"))\n",
    "    sol2 = la.solve(np.array(M.T @ M, dtype = \"float\"), np.array(M.T @ R2, dtype = \"float\"))\n",
    "    a3 = [sol1[0],sol2[0]]\n",
    "    b3 = [sol1[1],sol2[1]]\n",
    "    m1 = np.kron(a3,abs(T1).reshape(1,4)).reshape(2,2,2)\n",
    "    m2 = np.kron(b3,abs(T2).reshape(1,4)).reshape(2,2,2)\n",
    "    #print(np.max(abs(m1+m2-tens)))\n",
    "    return (np.max(abs(m1+m2-tens))<0.1)\n",
    "\n",
    "\n",
    "    \n",
    "# checks if a given 2x2x3 has nonneg rank 2 subtensor and if it does check if the third slice is a linear combination\n",
    "def check_simple(tens):\n",
    "    t = tens.copy()\n",
    "    c1 = check_r2(tl.tensor([t[0],t[1]]))\n",
    "    c2 = check_r2(tl.tensor([t[0],t[2]]))\n",
    "    c3 = check_r2(tl.tensor([t[1],t[2]]))\n",
    "    a1 = False\n",
    "    a2 = False\n",
    "    a3 = False\n",
    "    if c1:\n",
    "        a,b = symbols('a,b')\n",
    "        A1 = Matrix([a*b,a,b,1])\n",
    "        A2 = Matrix([a,a*b,1,b])\n",
    "        A3 = Matrix([b,1,a*b,a])\n",
    "        A4 = Matrix([1,b,a,a*b])\n",
    "        temp = t\n",
    "        M = init_mat(temp)\n",
    "        a1 = test_simple(temp,M,A1) or test_simple(temp,M,A2) or test_simple(temp,M,A3) or test_simple(temp,M,A4)\n",
    "        if a1:\n",
    "            return a1\n",
    "    if c2:\n",
    "        a,b = symbols('a,b')\n",
    "        A1 = Matrix([a*b,a,b,1])\n",
    "        A2 = Matrix([a,a*b,1,b])\n",
    "        A3 = Matrix([b,1,a*b,a])\n",
    "        A4 = Matrix([1,b,a,a*b])\n",
    "        temp = tl.tensor([t[0],t[2],t[1]])\n",
    "        M = init_mat(temp)\n",
    "        a2 = test_simple(temp,M,A1) or test_simple(temp,M,A2) or test_simple(temp,M,A3) or test_simple(temp,M,A4)\n",
    "        if a2:\n",
    "            return a2\n",
    "    if c3:\n",
    "        a,b = symbols('a,b')\n",
    "        A1 = Matrix([a*b,a,b,1])\n",
    "        A2 = Matrix([a,a*b,1,b])\n",
    "        A3 = Matrix([b,1,a*b,a])\n",
    "        A4 = Matrix([1,b,a,a*b])\n",
    "        temp = tl.tensor([t[1],t[2],t[0]])\n",
    "        M = init_mat(temp)\n",
    "        a3 = test_simple(temp,M,A1) or test_simple(temp,M,A2) or test_simple(temp,M,A3) or test_simple(temp,M,A4)\n",
    "        if a3:\n",
    "            return a3\n",
    "    return False\n",
    "\n",
    "def loop_rotations(i):\n",
    "    tens = rand_tensor()\n",
    "    tens = rank_tree(size = 50)\n",
    "    tens = tensors[i]\n",
    "    ret = [0] *11\n",
    "    if proc_tensor(tens) or proc_tensor(mat_trans(tens)) or proc_tensor(mat_inv(tens)) or proc_tensor(rotate(tens)):\n",
    "        ret[1] = 1\n",
    "        ret[0] = 1\n",
    "    if check_simple(tens):\n",
    "        ret[2] = 1\n",
    "        if ret[0] == 0:\n",
    "            ret[8] = 1\n",
    "        ret[0] = 1\n",
    "    r2 = r2_sub(tens, upper = 1)\n",
    "    r4 = check_r4(tens)\n",
    "    if r4:\n",
    "        ret[4] = 1\n",
    "    if r4 and r2:\n",
    "        ret[3] = 1\n",
    "    if r2 and not r4:\n",
    "        ret[6] = 1\n",
    "        if ret[0] == 0:\n",
    "            ret[7] = 1\n",
    "    tensors[i] = (tensors[i],ret[0])\n",
    "    return ret\n",
    "\n",
    "def loop_rotations_old(i):\n",
    "    tens = rand_tensor()\n",
    "    tens = rank_tree(size = 50)\n",
    "    tens = tensors[i]\n",
    "    ret = [0] *11\n",
    "    if proc_tensor(tens) or proc_tensor(mat_trans(tens)) or proc_tensor(mat_inv(tens)) or proc_tensor(rotate(tens)):\n",
    "        ret[1] = 1\n",
    "        ret[0] = 1\n",
    "    if check_comb(tens):\n",
    "        ret[2] = 1\n",
    "        if ret[0] == 0:\n",
    "            ret[8] = 1\n",
    "        ret[0] = 1\n",
    "    r2 = r2_sub(tens, upper = 2)\n",
    "    r4 = check_r4(tens)\n",
    "    if r4:\n",
    "        ret[4] = 1\n",
    "    if r4 and r2:\n",
    "        ret[3] = 1\n",
    "    if not r4 and r2:\n",
    "        ret[6] = 1\n",
    "        if ret[0] == 0:\n",
    "            ret[7] = 1\n",
    "    return ret"
   ]
  },
  {
   "cell_type": "code",
   "execution_count": 15,
   "id": "6715bb66-112e-432e-b312-81ee3b8a3258",
   "metadata": {},
   "outputs": [],
   "source": [
    "total = 10000\n",
    "tensors = []\n",
    "for i in range(total):\n",
    "    tensors.append(rand_tensor())"
   ]
  },
  {
   "cell_type": "code",
   "execution_count": null,
   "id": "under-custom",
   "metadata": {},
   "outputs": [
    {
     "name": "stdout",
     "output_type": "stream",
     "text": [
      "[904, 797, 440, 0, 0, 0, 544, 64, 107, 0, 0]\n",
      "124.45250034332275\n"
     ]
    }
   ],
   "source": [
    "te = time.time()\n",
    "total = 1000\n",
    "results = Parallel(n_jobs=6)(delayed(loop_rotations_old)(i) for i in range(total))\n",
    "res = [sum(x) for x in zip(*results)]\n",
    "print(res)\n",
    "print(time.time() - te)"
   ]
  },
  {
   "cell_type": "code",
   "execution_count": 50,
   "id": "b0805000-6ac3-47d4-bb26-45f8debdbad8",
   "metadata": {},
   "outputs": [
    {
     "name": "stdout",
     "output_type": "stream",
     "text": [
      "[318, 282, 108, 86, 1010, 0, 187, 63, 36, 0, 0]\n",
      "272.9294993877411\n"
     ]
    }
   ],
   "source": [
    "te = time.time()\n",
    "total = 2000\n",
    "results = Parallel(n_jobs=6)(delayed(loop_rotations)(i) for i in range(total))\n",
    "res = [sum(x) for x in zip(*results)]\n",
    "print(res)\n",
    "print(time.time() - te)"
   ]
  },
  {
   "cell_type": "code",
   "execution_count": 16,
   "id": "398f69f6-3459-4ae4-ad63-eaed65f57bf0",
   "metadata": {},
   "outputs": [
    {
     "name": "stdout",
     "output_type": "stream",
     "text": [
      "516.8704991340637\n",
      "[191, 168, 60, 50, 480, 0, 101, 34, 23, 0, 0]\n"
     ]
    }
   ],
   "source": [
    "results = []\n",
    "res = []\n",
    "te = time.time()\n",
    "for i in range(1000):\n",
    "    tens = tensors[i]\n",
    "    ret = [0] *11\n",
    "    if proc_tensor(tens) or proc_tensor(mat_trans(tens)) or proc_tensor(mat_inv(tens)) or proc_tensor(rotate(tens)):\n",
    "        ret[1] = 1\n",
    "        ret[0] = 1\n",
    "    if check_simple(tens):\n",
    "        ret[2] = 1\n",
    "        if ret[0] == 0:\n",
    "            ret[8] = 1\n",
    "        ret[0] = 1\n",
    "    r2 = r2_sub(tens, upper = 1)\n",
    "    r4 = check_r4(tens)\n",
    "    if r4:\n",
    "        ret[4] = 1\n",
    "    if r4 and r2:\n",
    "        ret[3] = 1\n",
    "    if not r4 and r2:\n",
    "        ret[6] = 1\n",
    "        if ret[0] == 0:\n",
    "            ret[7] = 1\n",
    "    res.append((tensors[i],max(ret[0],ret[4], ret[0])))\n",
    "    results.append(ret)\n",
    "print(time.time() - te)\n",
    "print([sum(x) for x in zip(*results)])"
   ]
  },
  {
   "cell_type": "code",
   "execution_count": 12,
   "id": "5f2b7cc0-2390-43dd-92b1-b257d978ae65",
   "metadata": {},
   "outputs": [
    {
     "name": "stdout",
     "output_type": "stream",
     "text": [
      "[173, 150, 54, 41, 511, 0, 99, 34, 23, 0, 0]\n"
     ]
    }
   ],
   "source": []
  },
  {
   "cell_type": "code",
   "execution_count": 18,
   "id": "e39de267-784d-4037-9018-d71e8c828441",
   "metadata": {},
   "outputs": [],
   "source": [
    "wrongs = []\n",
    "for tens in res:\n",
    "    if tens[1] != 1:\n",
    "        if check_rank(tens[0],3,n=20):\n",
    "            wrongs.append((tens[0],3))\n",
    "        else:\n",
    "            wrongs.append((tens[0],4))"
   ]
  },
  {
   "cell_type": "code",
   "execution_count": 20,
   "id": "8cc00b5c-3e59-4e57-ba0f-d23fa8b88695",
   "metadata": {},
   "outputs": [
    {
     "name": "stdout",
     "output_type": "stream",
     "text": [
      "20\n"
     ]
    }
   ],
   "source": [
    "counter = 0\n",
    "for tens in wrongs:\n",
    "    if tens[1] == 3:\n",
    "        counter +=1\n",
    "print(counter)"
   ]
  },
  {
   "cell_type": "code",
   "execution_count": 17,
   "id": "0a6f4d17-61a1-459a-9902-c31733eb5ee8",
   "metadata": {},
   "outputs": [
    {
     "data": {
      "text/latex": [
       "$\\displaystyle \\text{True}$"
      ],
      "text/plain": [
       "True"
      ]
     },
     "execution_count": 17,
     "metadata": {},
     "output_type": "execute_result"
    }
   ],
   "source": [
    "a,b = symbols('a,b')\n",
    "test_simple(tens,init_mat(tens),A1 = Matrix([a*b,a,b,1]))"
   ]
  },
  {
   "cell_type": "code",
   "execution_count": 26,
   "id": "da3071ae-b942-4f3d-967b-e6f83aa24cda",
   "metadata": {},
   "outputs": [],
   "source": [
    "A1 = Matrix([a*b,a,b,1])\n",
    "M = init_mat(tens)"
   ]
  },
  {
   "cell_type": "code",
   "execution_count": 27,
   "id": "0422c5c0-b221-49b5-be2a-46ab148ab392",
   "metadata": {},
   "outputs": [
    {
     "data": {
      "text/latex": [
       "$\\displaystyle \\left[\\begin{matrix}\\frac{103064.0 \\left(- 14386891197102.1 b^{2} + 39540403745329.5 b - 10247916134103.9\\right)}{90291819975.1211 b^{2} - 330451987880.208 b + 88158528685.7426} + \\frac{105354.0 \\left(- 0.0001678466796875 b^{2} - 105345726657.839 b + 30520333847.716\\right)}{90291819975.1211 b^{2} - 330451987880.208 b + 88158528685.7426} + \\frac{51228.0 \\left(29347443300247.1 b^{2} - 80595178439341.3 b + 20886419229356.7\\right)}{90291819975.1211 b^{2} - 330451987880.208 b + 88158528685.7426}\\\\\\frac{51228.0 \\left(- 10097075262131.1 b^{2} + 58831942339144.5 b - 83591193326143.0\\right)}{105398020680.906 b^{2} - 385737993344.707 b + 102907820799.031} + \\frac{105354.0 \\left(6.103515625 \\cdot 10^{-5} b^{2} - 85963970050.8978 b + 289707697125.805\\right)}{105398020680.906 b^{2} - 385737993344.707 b + 102907820799.031} + \\frac{103064.0 \\left(5072061240561.94 b^{2} - 29263326889482.7 b + 41013997150452.1\\right)}{105398020680.906 b^{2} - 385737993344.707 b + 102907820799.031}\\\\\\frac{51228.0 \\left(97576351051047.9 - 39721277835901.0 b\\right)}{156071368284.147 b^{2} - 571193424995.656 b + 152383928042.344} + \\frac{105354.0 \\left(156071368284.148 b - 383393371271.333\\right)}{156071368284.147 b^{2} - 571193424995.656 b + 152383928042.344} + \\frac{103064.0 \\left(19427202296668.7 b - 47723427203697.7\\right)}{156071368284.147 b^{2} - 571193424995.656 b + 152383928042.344}\\end{matrix}\\right]$"
      ],
      "text/plain": [
       "Matrix([\n",
       "[103064.0*(-14386891197102.1*b**2 + 39540403745329.5*b - 10247916134103.9)/(90291819975.1211*b**2 - 330451987880.208*b + 88158528685.7426) + 105354.0*(-0.0001678466796875*b**2 - 105345726657.839*b + 30520333847.716)/(90291819975.1211*b**2 - 330451987880.208*b + 88158528685.7426) + 51228.0*(29347443300247.1*b**2 - 80595178439341.3*b + 20886419229356.7)/(90291819975.1211*b**2 - 330451987880.208*b + 88158528685.7426)],\n",
       "[    51228.0*(-10097075262131.1*b**2 + 58831942339144.5*b - 83591193326143.0)/(105398020680.906*b**2 - 385737993344.707*b + 102907820799.031) + 105354.0*(6.103515625e-5*b**2 - 85963970050.8978*b + 289707697125.805)/(105398020680.906*b**2 - 385737993344.707*b + 102907820799.031) + 103064.0*(5072061240561.94*b**2 - 29263326889482.7*b + 41013997150452.1)/(105398020680.906*b**2 - 385737993344.707*b + 102907820799.031)],\n",
       "[                                                                           51228.0*(97576351051047.9 - 39721277835901.0*b)/(156071368284.147*b**2 - 571193424995.656*b + 152383928042.344) + 105354.0*(156071368284.148*b - 383393371271.333)/(156071368284.147*b**2 - 571193424995.656*b + 152383928042.344) + 103064.0*(19427202296668.7*b - 47723427203697.7)/(156071368284.147*b**2 - 571193424995.656*b + 152383928042.344)]])"
      ]
     },
     "execution_count": 27,
     "metadata": {},
     "output_type": "execute_result"
    }
   ],
   "source": [
    "a,b = symbols('a,b')\n",
    "M1 = Matrix([[M,A1,Matrix(tens[2].reshape(4))]])\n",
    "a1 = solve(M1.det(),a)[0]\n",
    "A1 = A1.subs(a,a1)\n",
    "M1 = Matrix([[M,A1,Matrix(tens[2].reshape(4))]])\n",
    "M1_sub = M1[1:4,0:3]\n",
    "R = M1[1:4,3]\n",
    "res1 = M1_sub.inv() @ R\n",
    "res1"
   ]
  },
  {
   "cell_type": "code",
   "execution_count": 28,
   "id": "52912206-6959-4ffe-8c7a-6ecf96b5d7e8",
   "metadata": {},
   "outputs": [],
   "source": [
    "\n",
    "    res1[0] = fraction(simplify(res1[0]))[0] * fraction(simplify(res1[0]))[1]\n",
    "    res1[1] = fraction(simplify(res1[1]))[0] * fraction(simplify(res1[1]))[1]\n",
    "    res1[2] = fraction(simplify(res1[2]))[0] * fraction(simplify(res1[2]))[1]\n",
    "    a2 = fraction(simplify(a1))[0] * fraction(simplify(a1))[1]\n",
    "    s1 = solveset(a2 >= 0, b, S.Reals)\n",
    "    s2 = solveset(res1[0] >= 0, b, S.Reals)\n",
    "    s3 = solveset(res1[1] >=0,b,S.Reals)\n",
    "    s4 = solveset(res1[2] >=0,b,S.Reals)\n",
    "    s5 = solveset(b >=0,b,S.Reals)\n",
    "    sol = Intersection(s1,s2,s3,s4,s5)"
   ]
  },
  {
   "cell_type": "code",
   "execution_count": 29,
   "id": "28ee554b-7480-47d2-8fe9-61a40377b243",
   "metadata": {},
   "outputs": [
    {
     "data": {
      "text/latex": [
       "$\\displaystyle \\left\\{0.289715917446054, 3.37010606832476\\right\\} \\cup \\left[2.45652598222448, 2.84184291825452\\right]$"
      ],
      "text/plain": [
       "Union({0.289715917446054, 3.37010606832476}, Interval(2.45652598222448, 2.84184291825452))"
      ]
     },
     "execution_count": 29,
     "metadata": {},
     "output_type": "execute_result"
    }
   ],
   "source": [
    "sol"
   ]
  },
  {
   "cell_type": "code",
   "execution_count": 234,
   "id": "c9d61bbd-64c1-4141-b149-344feb438a9d",
   "metadata": {},
   "outputs": [
    {
     "data": {
      "text/latex": [
       "$\\displaystyle \\left[\\begin{matrix}-0.665354005492337 & -0.647215077985079\\\\-0.700768373170271 & -0.244624596891531\\\\-0.177195317059848 & -0.675360927647418\\\\-0.18662677769188 & -0.255262740782205\\end{matrix}\\right]$"
      ],
      "text/plain": [
       "Matrix([\n",
       "[-0.665354005492337, -0.647215077985079],\n",
       "[-0.700768373170271, -0.244624596891531],\n",
       "[-0.177195317059848, -0.675360927647418],\n",
       "[ -0.18662677769188, -0.255262740782205]])"
      ]
     },
     "execution_count": 234,
     "metadata": {},
     "output_type": "execute_result"
    }
   ],
   "source": [
    "T1 = Matrix(A1)\n",
    "T2 = Matrix(B1)\n",
    "pos1 = abs(sum(T1) / sum(abs(T1)))\n",
    "pos2 = abs(sum(T2) / sum(abs(T2)))\n",
    "Matrix([[T1,T2]])"
   ]
  },
  {
   "cell_type": "code",
   "execution_count": 205,
   "id": "8096e2c7-d1d6-4e05-9fae-543c9f07f1ba",
   "metadata": {},
   "outputs": [
    {
     "data": {
      "text/latex": [
       "$\\displaystyle \\left[\\begin{matrix}0.665354005492337 & 0.647215077985079 & a b & 132375.0\\\\0.700768373170271 & 0.244624596891531 & a & 71016.0\\\\0.177195317059848 & 0.675360927647418 & b & 119559.0\\\\0.18662677769188 & 0.255262740782205 & 1 & 50472.0\\end{matrix}\\right]$"
      ],
      "text/plain": [
       "Matrix([\n",
       "[0.665354005492337, 0.647215077985079, a*b, 132375.0],\n",
       "[0.700768373170271, 0.244624596891531,   a,  71016.0],\n",
       "[0.177195317059848, 0.675360927647418,   b, 119559.0],\n",
       "[ 0.18662677769188, 0.255262740782205,   1,  50472.0]])"
      ]
     },
     "execution_count": 205,
     "metadata": {},
     "output_type": "execute_result"
    }
   ],
   "source": [
    "a,b = symbols('a,b')\n",
    "M = abs(Matrix([[T1,T2]]))\n",
    "A1 = Matrix([a*b,a,b,1])\n",
    "A2 = Matrix([a,a*b,1,b])\n",
    "M1 = Matrix([[M,A1,Matrix(tens[2].reshape(4))]])\n",
    "M2 = Matrix([[M,A2,Matrix(tens[2].reshape(4))]])\n",
    "M1"
   ]
  },
  {
   "cell_type": "code",
   "execution_count": 206,
   "id": "67e7db5f-1af1-45f0-880c-3ed5bb3ce2b8",
   "metadata": {},
   "outputs": [
    {
     "data": {
      "text/latex": [
       "$\\displaystyle \\frac{4.0 \\left(131046904946624.0 b - 405421457728585.0\\right)}{32016249831265.0 b - 329735984781862.0}$"
      ],
      "text/plain": [
       "4.0*(131046904946624.0*b - 405421457728585.0)/(32016249831265.0*b - 329735984781862.0)"
      ]
     },
     "execution_count": 206,
     "metadata": {},
     "output_type": "execute_result"
    }
   ],
   "source": [
    "a1 = solve(M1.det(),a)[0]\n",
    "a1\n",
    "x1 = solve(M2.det(),a)[0]\n",
    "a1"
   ]
  },
  {
   "cell_type": "code",
   "execution_count": 207,
   "id": "4b42c6ae-036d-4005-9179-eb6b564d996f",
   "metadata": {},
   "outputs": [
    {
     "data": {
      "text/latex": [
       "$\\displaystyle \\left[\\begin{matrix}\\frac{50472.0 \\left(- 1653531670876.45 b^{2} + 91771739691246.7 b - 231230217597509.0\\right)}{900540384875.792 b^{2} - 3237633312183.22 b + 2262194694390.39} + \\frac{119559.0 \\left(6.103515625 \\cdot 10^{-5} b^{2} - 26596316753998.9 b + 70367156209103.2\\right)}{900540384875.792 b^{2} - 3237633312183.22 b + 2262194694390.39} + \\frac{71016.0 \\left(1725439843914.22 b^{2} - 22335418082982.7 b + 47015841205106.0\\right)}{900540384875.792 b^{2} - 3237633312183.22 b + 2262194694390.39}\\\\\\frac{71016.0 \\left(- 1800163115506.2 b^{2} + 20249104430078.7 b - 17602973147768.9\\right)}{1285075667444.51 b^{2} - 4620119052371.32 b + 3228163229108.41} + \\frac{119559.0 \\left(- 0.000244140625 b^{2} + 22713792747988.3 b - 21565917589041.5\\right)}{1285075667444.51 b^{2} - 4620119052371.32 b + 3228163229108.41} + \\frac{50472.0 \\left(6759466103932.49 b^{2} - 97599658004624.7 b + 86573784643454.8\\right)}{1285075667444.51 b^{2} - 4620119052371.32 b + 3228163229108.41}\\\\\\frac{50472.0 \\left(99342202942211.1 - 9645792194291.97 b\\right)}{2989067705852.98 b^{2} - 10746331135583.1 b + 7508661709032.52} + \\frac{71016.0 \\left(1813030331129.86 b - 18672434929924.1\\right)}{2989067705852.98 b^{2} - 10746331135583.1 b + 7508661709032.52} + \\frac{119559.0 \\left(2989067705852.98 b - 30784466911756.1\\right)}{2989067705852.98 b^{2} - 10746331135583.1 b + 7508661709032.52}\\end{matrix}\\right]$"
      ],
      "text/plain": [
       "Matrix([\n",
       "[50472.0*(-1653531670876.45*b**2 + 91771739691246.7*b - 231230217597509.0)/(900540384875.792*b**2 - 3237633312183.22*b + 2262194694390.39) + 119559.0*(6.103515625e-5*b**2 - 26596316753998.9*b + 70367156209103.2)/(900540384875.792*b**2 - 3237633312183.22*b + 2262194694390.39) + 71016.0*(1725439843914.22*b**2 - 22335418082982.7*b + 47015841205106.0)/(900540384875.792*b**2 - 3237633312183.22*b + 2262194694390.39)],\n",
       "[ 71016.0*(-1800163115506.2*b**2 + 20249104430078.7*b - 17602973147768.9)/(1285075667444.51*b**2 - 4620119052371.32*b + 3228163229108.41) + 119559.0*(-0.000244140625*b**2 + 22713792747988.3*b - 21565917589041.5)/(1285075667444.51*b**2 - 4620119052371.32*b + 3228163229108.41) + 50472.0*(6759466103932.49*b**2 - 97599658004624.7*b + 86573784643454.8)/(1285075667444.51*b**2 - 4620119052371.32*b + 3228163229108.41)],\n",
       "[                                                                        50472.0*(99342202942211.1 - 9645792194291.97*b)/(2989067705852.98*b**2 - 10746331135583.1*b + 7508661709032.52) + 71016.0*(1813030331129.86*b - 18672434929924.1)/(2989067705852.98*b**2 - 10746331135583.1*b + 7508661709032.52) + 119559.0*(2989067705852.98*b - 30784466911756.1)/(2989067705852.98*b**2 - 10746331135583.1*b + 7508661709032.52)]])"
      ]
     },
     "execution_count": 207,
     "metadata": {},
     "output_type": "execute_result"
    }
   ],
   "source": [
    "A1 = Matrix([a1 *b,a1,b,1])\n",
    "M1 = Matrix([[M,A1,Matrix(tens[2].reshape(4))]])\n",
    "M1_sub = M1[1:4,0:3]\n",
    "R = M1[1:4,3]\n",
    "res = M1_sub.inv() @ R\n",
    "res"
   ]
  },
  {
   "cell_type": "code",
   "execution_count": 208,
   "id": "2015452a-9e3d-4c66-9ac8-4b74a9cbc825",
   "metadata": {},
   "outputs": [
    {
     "data": {
      "text/latex": [
       "$\\displaystyle \\left(7.39794841314304 \\cdot 10^{15} - 718315790709632.0 b\\right) \\left(2989067705852.98 b^{2} - 10746331135583.1 b + 7508661709032.52\\right)$"
      ],
      "text/plain": [
       "(7.39794841314304e+15 - 718315790709632.0*b)*(2989067705852.98*b**2 - 10746331135583.1*b + 7508661709032.52)"
      ]
     },
     "execution_count": 208,
     "metadata": {},
     "output_type": "execute_result"
    }
   ],
   "source": [
    "res1 = res.copy()\n",
    "res1[0] = fraction(simplify(res1[0]))[0] * fraction(simplify(res1[0]))[1]\n",
    "res1[1] = fraction(simplify(res1[1]))[0] * fraction(simplify(res1[1]))[1]\n",
    "res1[2] = fraction(simplify(res1[2]))[0] * fraction(simplify(res1[2]))[1]\n",
    "a2 = fraction(simplify(a1))[0] * fraction(simplify(a1))[1]\n",
    "res1[2]"
   ]
  },
  {
   "cell_type": "code",
   "execution_count": 209,
   "id": "da93ee77-509f-4fc2-bb1e-952d6ade29ab",
   "metadata": {},
   "outputs": [],
   "source": [
    "s1 = solveset(a2 >= 0, b, S.Reals)\n",
    "s2 = solveset(res1[0] >= 0, b, S.Reals)\n",
    "s3 = solveset(res1[1] >=0,b,S.Reals)\n",
    "s4 = solveset(res1[2] >=0,b,S.Reals)\n",
    "s5 = solveset(b >=0,b,S.Reals)"
   ]
  },
  {
   "cell_type": "code",
   "execution_count": 210,
   "id": "6bc55418-5d32-45e5-9745-2a530cbc5160",
   "metadata": {},
   "outputs": [
    {
     "data": {
      "text/latex": [
       "$\\displaystyle \\left[0, 0.785901550908152\\right] \\cup \\left[2.64574816355059, 2.64574816355059\\right] \\cup \\left[2.6713358396505, 3.09371257485032\\right]$"
      ],
      "text/plain": [
       "Union(Interval(0, 0.785901550908152), Interval(2.64574816355059, 2.64574816355059), Interval(2.67133583965050, 3.09371257485032))"
      ]
     },
     "execution_count": 210,
     "metadata": {},
     "output_type": "execute_result"
    }
   ],
   "source": [
    "sol = Intersection(s1,s2,s3,s4,s5)\n",
    "sol"
   ]
  },
  {
   "cell_type": "code",
   "execution_count": 30,
   "id": "12480c78-390e-4340-9b86-9fc96371288c",
   "metadata": {},
   "outputs": [
    {
     "name": "stdout",
     "output_type": "stream",
     "text": [
      "0.672727272740676\n"
     ]
    },
    {
     "data": {
      "text/latex": [
       "$\\displaystyle \\left[\\begin{matrix}89809.3139622101\\\\90318.8060789435\\\\2339.68976196833\\end{matrix}\\right]$"
      ],
      "text/plain": [
       "Matrix([\n",
       "[89809.3139622101],\n",
       "[90318.8060789435],\n",
       "[2339.68976196833]])"
      ]
     },
     "execution_count": 30,
     "metadata": {},
     "output_type": "execute_result"
    }
   ],
   "source": [
    "b1 = 2.5\n",
    "a3 = a1.subs(b,b1)\n",
    "A1 = Matrix([a3 *b1,a3,b1,1])\n",
    "M1 = Matrix([[M,A1,Matrix(tens[2].reshape(4))]])\n",
    "M1_sub = M1[1:4,0:3]\n",
    "R = M1[1:4,3]\n",
    "print(a3)\n",
    "sol = M1_sub.inv() @ R\n",
    "sol"
   ]
  },
  {
   "cell_type": "code",
   "execution_count": 32,
   "id": "45cfac41-f4a1-4029-8d94-dff38170bd07",
   "metadata": {},
   "outputs": [
    {
     "data": {
      "text/latex": [
       "$\\displaystyle \\left[\\begin{matrix}0.430333194122095\\\\0.127691290837016\\\\0.856674721136186\\\\0.254198148001299\\end{matrix}\\right]$"
      ],
      "text/plain": [
       "Matrix([\n",
       "[0.430333194122095],\n",
       "[0.127691290837016],\n",
       "[0.856674721136186],\n",
       "[0.254198148001299]])"
      ]
     },
     "execution_count": 32,
     "metadata": {},
     "output_type": "execute_result"
    }
   ],
   "source": [
    "M[:,0]"
   ]
  },
  {
   "cell_type": "code",
   "execution_count": 33,
   "id": "476b241a-d1f6-4f27-b5b6-93d783953170",
   "metadata": {},
   "outputs": [
    {
     "data": {
      "text/latex": [
       "$\\displaystyle \\left[\\begin{matrix}53646.0\\\\51228.0\\\\105354.0\\\\103064.0\\end{matrix}\\right]$"
      ],
      "text/plain": [
       "Matrix([\n",
       "[ 53646.0],\n",
       "[ 51228.0],\n",
       "[105354.0],\n",
       "[103064.0]])"
      ]
     },
     "execution_count": 33,
     "metadata": {},
     "output_type": "execute_result"
    }
   ],
   "source": [
    "m1 = sol[0] * M[:,0]\n",
    "m2 = sol[1] * M[:,1]\n",
    "m3 = sol[2] * np.kron([a3,1],[b1,1]).reshape(4,1)\n",
    "m1+m2+m3"
   ]
  },
  {
   "cell_type": "code",
   "execution_count": 34,
   "id": "ddc8a2c5-affc-4cc4-8dfc-bd78c5c9da53",
   "metadata": {},
   "outputs": [
    {
     "data": {
      "text/plain": [
       "array([[[ 51703.,  31170.],\n",
       "        [103173.,  62902.]],\n",
       "\n",
       "       [[ 46665.,  54534.],\n",
       "        [ 93531., 110750.]],\n",
       "\n",
       "       [[ 53646.,  51228.],\n",
       "        [105354., 103064.]]])"
      ]
     },
     "execution_count": 34,
     "metadata": {},
     "output_type": "execute_result"
    }
   ],
   "source": [
    "tens"
   ]
  },
  {
   "cell_type": "code",
   "execution_count": 46,
   "id": "074bb511-8e93-4a41-9629-a61f39d1a401",
   "metadata": {},
   "outputs": [
    {
     "data": {
      "text/latex": [
       "$\\displaystyle 76884.9999999998$"
      ],
      "text/plain": [
       "76884.9999999998"
      ]
     },
     "execution_count": 46,
     "metadata": {},
     "output_type": "execute_result"
    }
   ],
   "source": [
    "sol[0] * M[3,0] + sol[1] * M[3,1] + sol[2] "
   ]
  },
  {
   "cell_type": "code",
   "execution_count": 47,
   "id": "a6d24024-d9f9-45bf-b8b4-7bc9514714f8",
   "metadata": {},
   "outputs": [
    {
     "data": {
      "text/latex": [
       "$\\displaystyle \\left[\\begin{matrix}\\frac{76885.0 \\left(- 352354435940.077 b^{2} + 1002676437237.39 b - 658748975029.015\\right)}{38865806927.4149 b^{2} - 108785341530.997 b + 69368983263.2118} + \\frac{62140.0 \\left(15762631135.1484 b^{2} - 28630467847.2507 b + 0.0001220703125\\right)}{38865806927.4149 b^{2} - 108785341530.997 b + 69368983263.2118} + \\frac{118904.0 \\left(268732669997.578 b^{2} - 771702969359.745 b + 515099228472.964\\right)}{38865806927.4149 b^{2} - 108785341530.997 b + 69368983263.2118}\\\\\\frac{62140.0 \\left(176499745199.631 b^{2} - 173437095050.392 b\\right)}{64846240819.0242 b^{2} - 181504541194.099 b + 115739724700.894} + \\frac{118904.0 \\left(- 530871155189.459 b^{2} + 1081880972177.39 b - 550500524116.314\\right)}{64846240819.0242 b^{2} - 181504541194.099 b + 115739724700.894} + \\frac{76885.0 \\left(696062769165.078 b^{2} - 1608077746493.19 b + 908058159601.309\\right)}{64846240819.0242 b^{2} - 181504541194.099 b + 115739724700.894}\\\\\\frac{62140.0 \\left(1427706690911.84 - 1352908093058.75 b\\right)}{799910420878.048 b^{2} - 2238948196596.99 b + 1427706690911.84} + \\frac{76885.0 \\left(1515063310152.22 - 1435688035118.89 b\\right)}{799910420878.048 b^{2} - 2238948196596.99 b + 1427706690911.84} + \\frac{118904.0 \\left(1705039814582.3 b - 1799306814734.63\\right)}{799910420878.048 b^{2} - 2238948196596.99 b + 1427706690911.84}\\end{matrix}\\right]$"
      ],
      "text/plain": [
       "Matrix([\n",
       "[76885.0*(-352354435940.077*b**2 + 1002676437237.39*b - 658748975029.015)/(38865806927.4149*b**2 - 108785341530.997*b + 69368983263.2118) + 62140.0*(15762631135.1484*b**2 - 28630467847.2507*b + 0.0001220703125)/(38865806927.4149*b**2 - 108785341530.997*b + 69368983263.2118) + 118904.0*(268732669997.578*b**2 - 771702969359.745*b + 515099228472.964)/(38865806927.4149*b**2 - 108785341530.997*b + 69368983263.2118)],\n",
       "[                  62140.0*(176499745199.631*b**2 - 173437095050.392*b)/(64846240819.0242*b**2 - 181504541194.099*b + 115739724700.894) + 118904.0*(-530871155189.459*b**2 + 1081880972177.39*b - 550500524116.314)/(64846240819.0242*b**2 - 181504541194.099*b + 115739724700.894) + 76885.0*(696062769165.078*b**2 - 1608077746493.19*b + 908058159601.309)/(64846240819.0242*b**2 - 181504541194.099*b + 115739724700.894)],\n",
       "[                                                                         62140.0*(1427706690911.84 - 1352908093058.75*b)/(799910420878.048*b**2 - 2238948196596.99*b + 1427706690911.84) + 76885.0*(1515063310152.22 - 1435688035118.89*b)/(799910420878.048*b**2 - 2238948196596.99*b + 1427706690911.84) + 118904.0*(1705039814582.3*b - 1799306814734.63)/(799910420878.048*b**2 - 2238948196596.99*b + 1427706690911.84)]])"
      ]
     },
     "execution_count": 47,
     "metadata": {},
     "output_type": "execute_result"
    }
   ],
   "source": [
    "A2 = Matrix([x1,x1*b,1,b])\n",
    "M2 = Matrix([[M,A2,Matrix(tens[2].reshape(4))]])\n",
    "M2_sub = M2[1:4,0:3]\n",
    "R = M2[1:4,3]\n",
    "res = M2_sub.inv() @ R\n",
    "res"
   ]
  },
  {
   "cell_type": "code",
   "execution_count": 48,
   "id": "e223eb15-dd08-46e2-8ed7-cee8e4bad5f6",
   "metadata": {},
   "outputs": [
    {
     "data": {
      "text/latex": [
       "$\\displaystyle \\left[0.998880933810523, 1.05528727208955\\right] \\cup \\left[3.25774269893864, \\infty\\right)$"
      ],
      "text/plain": [
       "Union(Interval(0.998880933810523, 1.05528727208955), Interval(3.25774269893864, oo))"
      ]
     },
     "execution_count": 48,
     "metadata": {},
     "output_type": "execute_result"
    }
   ],
   "source": [
    "res1 = res.copy()\n",
    "res1[0] = fraction(simplify(res1[0]))[0] * fraction(simplify(res1[0]))[1]\n",
    "res1[0] = expand(res1[0])\n",
    "res1[1] = fraction(simplify(res1[1]))[0] * fraction(simplify(res1[1]))[1]\n",
    "res1[1] = expand(res1[1])\n",
    "res1[2] = fraction(simplify(res1[2]))[0] * fraction(simplify(res1[2]))[1]\n",
    "res1[2] = expand(res1[2])\n",
    "x2 = fraction(simplify(x1))[0] * fraction(simplify(x1))[1]\n",
    "s1 = solveset(x2 >= 0, b, S.Reals)\n",
    "s2 = solveset(res1[0] >= 0, b, S.Reals)\n",
    "s3 = solveset(res1[1] >=0,b,S.Reals)\n",
    "s4 = solveset(res1[2] >=0,b,S.Reals)\n",
    "s5 = solveset(b >= 0,b,S.Reals)\n",
    "sol = Intersection(s1,s2,s3,s4,s5)\n",
    "sol"
   ]
  },
  {
   "cell_type": "code",
   "execution_count": 49,
   "id": "5db546ff-5651-4ec2-9467-3ed3378fa4b5",
   "metadata": {},
   "outputs": [
    {
     "name": "stdout",
     "output_type": "stream",
     "text": [
      "1.30842316219051\n"
     ]
    },
    {
     "data": {
      "text/latex": [
       "$\\displaystyle \\left[\\begin{matrix}150044.266458094\\\\17301.3223127297\\\\1255.19541710081\\end{matrix}\\right]$"
      ],
      "text/plain": [
       "Matrix([\n",
       "[150044.266458094],\n",
       "[17301.3223127297],\n",
       "[1255.19541710081]])"
      ]
     },
     "execution_count": 49,
     "metadata": {},
     "output_type": "execute_result"
    }
   ],
   "source": [
    "b1 = 10\n",
    "a3 = x1.subs(b,b1)\n",
    "A2 = Matrix([a3,a3*b1,1,b1])\n",
    "M1 = Matrix([[M,A2,Matrix(tens[2].reshape(4))]])\n",
    "M1_sub = M1[1:4,0:3]\n",
    "R = M1[1:4,3]\n",
    "print(a3)\n",
    "sol = M1_sub.inv() @ R\n",
    "sol"
   ]
  },
  {
   "cell_type": "code",
   "execution_count": 22,
   "id": "e7f8b045-39f1-4fe4-92e4-233d5f0a30be",
   "metadata": {},
   "outputs": [
    {
     "data": {
      "text/latex": [
       "$\\displaystyle 38022.0$"
      ],
      "text/plain": [
       "38022.0000000000"
      ]
     },
     "execution_count": 22,
     "metadata": {},
     "output_type": "execute_result"
    }
   ],
   "source": [
    "sol[0] * M[3,0] + sol[1] * M[3,1] + sol[2] *b1"
   ]
  },
  {
   "cell_type": "code",
   "execution_count": 534,
   "id": "86d18fbe-e328-4685-a247-e398e1216b6f",
   "metadata": {},
   "outputs": [
    {
     "data": {
      "text/latex": [
       "$\\displaystyle \\left[\\begin{matrix}- \\frac{1670.0 \\left(- 38235434973269.5 b^{2} + 6232566579894.77 b\\right)}{335415311473722.0 b - 735361505608343.0} + \\frac{8204.0 \\left(- 475872744554206.0 b^{2} + 724412708259327.0 b - 105438647461885.0\\right)}{335415311473722.0 b - 735361505608343.0} + \\frac{5748.0 \\left(336814697480797.0 b^{2} - 831567417226825.0 b + 126600258732122.0\\right)}{335415311473722.0 b - 735361505608343.0}\\\\\\frac{1670.0 \\left(245631480973854.0 b^{2} - 589294909971145.0 b\\right)}{335415311473722.0 b - 735361505608343.0} - \\frac{8204.0 \\left(- 180547267144371.0 b^{2} + 678565084187433.0 b - 588772728633766.0\\right)}{335415311473722.0 b - 735361505608343.0} - \\frac{5748.0 \\left(127788308660508.0 b^{2} - 341107606986848.0 b + 82842074462712.2\\right)}{335415311473722.0 b - 735361505608343.0}\\\\6441.55596576705\\end{matrix}\\right]$"
      ],
      "text/plain": [
       "Matrix([\n",
       "[-1670.0*(-38235434973269.5*b**2 + 6232566579894.77*b)/(335415311473722.0*b - 735361505608343.0) + 8204.0*(-475872744554206.0*b**2 + 724412708259327.0*b - 105438647461885.0)/(335415311473722.0*b - 735361505608343.0) + 5748.0*(336814697480797.0*b**2 - 831567417226825.0*b + 126600258732122.0)/(335415311473722.0*b - 735361505608343.0)],\n",
       "[ 1670.0*(245631480973854.0*b**2 - 589294909971145.0*b)/(335415311473722.0*b - 735361505608343.0) - 8204.0*(-180547267144371.0*b**2 + 678565084187433.0*b - 588772728633766.0)/(335415311473722.0*b - 735361505608343.0) - 5748.0*(127788308660508.0*b**2 - 341107606986848.0*b + 82842074462712.2)/(335415311473722.0*b - 735361505608343.0)],\n",
       "[                                                                                                                                                                                                                                                                                                                            6441.55596576705]])"
      ]
     },
     "execution_count": 534,
     "metadata": {},
     "output_type": "execute_result"
    }
   ],
   "source": [
    "A1 = Matrix([a1 *b,a1,b,1])\n",
    "M1 = Matrix([[M,A1,Matrix(tens[2].reshape(4))]])\n",
    "M2_sub = M1[0:3,0:3]\n",
    "R = M1[0:3,3]\n",
    "res = M2_sub.adjugate() @ R\n",
    "res"
   ]
  },
  {
   "cell_type": "code",
   "execution_count": 535,
   "id": "d9e2dbcc-ccf5-411e-ab43-e1152b54d0c6",
   "metadata": {},
   "outputs": [
    {
     "data": {
      "text/plain": [
       "[0.163004986977442 - 0.e-23*I,\n",
       " 0.442407478548126 + 0.e-20*I,\n",
       " 2.1923909864978 - 0.e-22*I]"
      ]
     },
     "execution_count": 535,
     "metadata": {},
     "output_type": "execute_result"
    }
   ],
   "source": [
    "res1 = res.copy()\n",
    "res1[0] = fraction(simplify(res[0]))[0] * fraction(simplify(res[0]))[1]\n",
    "res1[0] = expand(res1[0])\n",
    "solve(res1[0],b)"
   ]
  },
  {
   "cell_type": "code",
   "execution_count": 536,
   "id": "88773dbf-2feb-4af1-949d-adf8e656bbd9",
   "metadata": {},
   "outputs": [
    {
     "data": {
      "text/plain": [
       "[1.5687735388356 + 0.e-22*I,\n",
       " 2.1923909864982 + 0.e-23*I,\n",
       " 2.39910172602749 - 0.e-23*I]"
      ]
     },
     "execution_count": 536,
     "metadata": {},
     "output_type": "execute_result"
    }
   ],
   "source": [
    "res1[1] = fraction(simplify(res1[1]))[0] * fraction(simplify(res1[1]))[1]\n",
    "res1[1] = expand(res1[1])\n",
    "solve(res1[1],b)"
   ]
  },
  {
   "cell_type": "code",
   "execution_count": 537,
   "id": "1dc82e0c-c5c4-44a0-b99f-80dd191ce8eb",
   "metadata": {},
   "outputs": [
    {
     "data": {
      "text/plain": [
       "[]"
      ]
     },
     "execution_count": 537,
     "metadata": {},
     "output_type": "execute_result"
    }
   ],
   "source": [
    "solve(res1[2],b)"
   ]
  },
  {
   "cell_type": "code",
   "execution_count": 538,
   "id": "24467d02-d1ba-4767-ac53-a375ac6fc330",
   "metadata": {},
   "outputs": [
    {
     "name": "stdout",
     "output_type": "stream",
     "text": [
      "1.58951841958048e+29\n"
     ]
    },
    {
     "data": {
      "text/plain": [
       "[1.35927742265699, 2.19239098649781]"
      ]
     },
     "execution_count": 538,
     "metadata": {},
     "output_type": "execute_result"
    }
   ],
   "source": [
    "a2 = fraction(simplify(a1))[0] * fraction(simplify(a1))[1]\n",
    "print(LC(a2))\n",
    "solve(a2,b)"
   ]
  },
  {
   "cell_type": "code",
   "execution_count": 393,
   "id": "51bd0ebb-b1c2-49c0-a86d-6915799410e0",
   "metadata": {},
   "outputs": [
    {
     "data": {
      "text/latex": [
       "$\\displaystyle \\left[\\begin{matrix}20064.5114342207\\\\16074.895707293\\\\115.74843886333\\end{matrix}\\right]$"
      ],
      "text/plain": [
       "Matrix([\n",
       "[20064.5114342207],\n",
       "[ 16074.895707293],\n",
       "[ 115.74843886333]])"
      ]
     },
     "execution_count": 393,
     "metadata": {},
     "output_type": "execute_result"
    }
   ],
   "source": [
    "b1 = 2\n",
    "a3= a1.subs(b,b1)\n",
    "A1 = Matrix([a3 *b1,a3,b1,1])\n",
    "M1 = Matrix([[M,A1,Matrix(tens[2].reshape(4))]])\n",
    "M1_sub = M1[0:3,0:3]\n",
    "R = M1[0:3,3]\n",
    "M1_sub.inv() @ R"
   ]
  },
  {
   "cell_type": "code",
   "execution_count": 286,
   "id": "a41e5e43-0e76-4881-bcf0-ef64f0215ad6",
   "metadata": {},
   "outputs": [
    {
     "name": "stdout",
     "output_type": "stream",
     "text": [
      "False\n"
     ]
    }
   ],
   "source": [
    "a,b = symbols('a,b')\n",
    "A1 = Matrix([a*b,a,b,1])\n",
    "A2 = Matrix([a,a,b,b])\n",
    "M = init_mat(tens)\n",
    "print(test_simple(tens,M,A2))"
   ]
  },
  {
   "cell_type": "code",
   "execution_count": 14,
   "id": "81e8fdc8-8a2e-4525-a05d-ffd7919facf5",
   "metadata": {},
   "outputs": [
    {
     "data": {
      "text/plain": [
       "array([[[100281.,  72018.],\n",
       "        [165525., 106632.]],\n",
       "\n",
       "       [[ 47655.,  42213.],\n",
       "        [ 60747.,  53630.]],\n",
       "\n",
       "       [[139972., 115281.],\n",
       "        [181898., 142410.]]])"
      ]
     },
     "execution_count": 14,
     "metadata": {},
     "output_type": "execute_result"
    }
   ],
   "source": [
    "c2 = False\n",
    "tens = rank_tree()\n",
    "while not (c2):\n",
    "    tens = rank_tree(size = 60)\n",
    "    c2 = check_r2(tl.tensor([tens[0],tens[1]]))\n",
    "tens    "
   ]
  },
  {
   "cell_type": "code",
   "execution_count": 186,
   "id": "5b76eb8b-78e5-4fc0-9a87-b03b50fe3f5f",
   "metadata": {},
   "outputs": [
    {
     "name": "stdout",
     "output_type": "stream",
     "text": [
      "0.419869229207951\n"
     ]
    },
    {
     "data": {
      "text/latex": [
       "$\\displaystyle \\left[\\begin{matrix}18967.2957060309\\\\18595.99078719\\\\2749.34332580756\\end{matrix}\\right]$"
      ],
      "text/plain": [
       "Matrix([\n",
       "[18967.2957060309],\n",
       "[  18595.99078719],\n",
       "[2749.34332580756]])"
      ]
     },
     "execution_count": 186,
     "metadata": {},
     "output_type": "execute_result"
    }
   ],
   "source": [
    "a,b = symbols('a,b')\n",
    "A1 = Matrix([a*b,a,b,1])\n",
    "M1 = Matrix([[M,A1,Matrix(tens[2].reshape(4))]])\n",
    "a1 = solve(M1.det(),a)[0]\n",
    "b1 = 1\n",
    "a_s = a1.subs(b,b1)\n",
    "A1 = Matrix([a_s *b1,a_s,b1,1])\n",
    "M1 = Matrix([[M,A1,Matrix(tens[2].reshape(4))]])\n",
    "M1_sub = M1[1:4,0:3]\n",
    "R = M1[1:4,3]\n",
    "print(a_s)\n",
    "sol = M1_sub.inv() @ R\n",
    "sol"
   ]
  },
  {
   "cell_type": "code",
   "execution_count": 176,
   "id": "26e42362-d16e-40e8-90e0-b1a443d5685d",
   "metadata": {},
   "outputs": [
    {
     "data": {
      "text/plain": [
       "[(1.33693794316659,\n",
       "  1,\n",
       "  [Matrix([\n",
       "   [0.960484497657604],\n",
       "   [0.278333486593725]])]),\n",
       " (2.68167700894905,\n",
       "  1,\n",
       "  [Matrix([\n",
       "   [0.0934687310359338],\n",
       "   [  1.06822700449506]])])]"
      ]
     },
     "execution_count": 176,
     "metadata": {},
     "output_type": "execute_result"
    }
   ],
   "source": [
    "A = Matrix(tens[0]) * Matrix(tens[1]).inv()\n",
    "#a1\n",
    "t1 = Matrix(A.eigenvects()[0][2])\n",
    "#b1\n",
    "s1 = Matrix(A.eigenvects()[1][2])\n",
    "\n",
    "B = Matrix(tens[0]).transpose() * Matrix(tens[1]).transpose().inv()\n",
    "#a2\n",
    "t2 = Matrix(B.eigenvects()[0][2])\n",
    "#b2\n",
    "s2 = Matrix(B.eigenvects()[1][2])\n",
    "B.eigenvects()"
   ]
  },
  {
   "cell_type": "code",
   "execution_count": 177,
   "id": "8ea2630f-b0b0-4756-93d8-813905cfcd8f",
   "metadata": {},
   "outputs": [
    {
     "data": {
      "text/latex": [
       "$\\displaystyle \\left[\\begin{matrix}0.0729918443053287 & 0.153107058100863\\\\0.834202607981002 & 0.0443680469671803\\end{matrix}\\right]$"
      ],
      "text/plain": [
       "Matrix([\n",
       "[0.0729918443053287,  0.153107058100863],\n",
       "[ 0.834202607981002, 0.0443680469671803]])"
      ]
     },
     "execution_count": 177,
     "metadata": {},
     "output_type": "execute_result"
    }
   ],
   "source": [
    "T1 = np.kron(t1,s2) * 1.0\n",
    "T2 = np.kron(s1,t2) * 1.0\n",
    "assert(np.all(T1 >= 0) or np.all(T1 <= 0))\n",
    "assert(np.all(T2 >= 0) or np.all(T2 <= 0))\n",
    "T1 = Matrix(abs(T1))\n",
    "T2 = Matrix(abs(T2))\n",
    "M = Matrix([[T1,T2]])\n",
    "M[0:2,0:2]"
   ]
  },
  {
   "cell_type": "code",
   "execution_count": 187,
   "id": "a860c9fe-f52f-49d8-a92e-b0c825bd441f",
   "metadata": {},
   "outputs": [
    {
     "data": {
      "text/plain": [
       "[153611.660450665, 57281.9395990069, 18967.2957060309]"
      ]
     },
     "execution_count": 187,
     "metadata": {},
     "output_type": "execute_result"
    }
   ],
   "source": [
    "R1 = tens[0].reshape(4)\n",
    "R2 = tens[1].reshape(4)\n",
    "res1 = M[0:2,0:2].inv() @ R1[0:2]\n",
    "res2 = M[0:2,0:2].inv() @ R2[0:2]\n",
    "a3 = [res1[0],res2[0],sol[0]]\n",
    "b3 = [res1[1],res2[1],sol[1]]\n",
    "a3"
   ]
  },
  {
   "cell_type": "code",
   "execution_count": 188,
   "id": "d4d65fb4-f77b-4280-afe3-7f5df37edccb",
   "metadata": {},
   "outputs": [
    {
     "data": {
      "text/plain": [
       "array([[[20270.0000000000, 130768.000000000],\n",
       "        [88612.0000000000, 125576.000000000]],\n",
       "\n",
       "       [[10956.0000000000, 49748.0000000000],\n",
       "        [62916.0000000000, 55484.0000000000]],\n",
       "\n",
       "       [[5386.00000000000, 17802.0000000000],\n",
       "        [28892.0000000000, 22660.0000000000]]], dtype=object)"
      ]
     },
     "execution_count": 188,
     "metadata": {},
     "output_type": "execute_result"
    }
   ],
   "source": [
    "m1 = np.kron(a3,np.kron(t1.T,s2.T)).reshape(3,2,2) \n",
    "m2 = np.kron(b3,np.kron(s1.T,t2.T)).reshape(3,2,2)\n",
    "m3 = np.kron([0,0,sol[2]],np.kron([a_s,1],[b1,1])).reshape(3,2,2)\n",
    "#(res1[0] * np.kron(t1,s2)).reshape(2,2)+ (res1[1] * np.kron(s1,t2)).reshape(2,2)\n",
    "m1+m2+m3"
   ]
  },
  {
   "cell_type": "code",
   "execution_count": 145,
   "id": "1086cd24-f508-4630-993c-10fed6ef217f",
   "metadata": {},
   "outputs": [
    {
     "data": {
      "text/plain": [
       "array([[116100.016888476, 43462.1953368047, 99909.0527956453,\n",
       "        115283.835637823, 43624.4158056263, 19985.4848550710,\n",
       "        40163.2009613115, 76212.9061706465, -20523.0927220763,\n",
       "        -8107.09272207622, -17965.4367624648, -24197.4367624649]],\n",
       "      dtype=object)"
      ]
     },
     "execution_count": 145,
     "metadata": {},
     "output_type": "execute_result"
    }
   ],
   "source": [
    "np.kron(a3,np.kron(t1.T,t2.T)) + np.kron(b3,np.kron(s1.T,s2.T))"
   ]
  },
  {
   "cell_type": "code",
   "execution_count": 147,
   "id": "d2d07a66-e2ef-463a-a41f-d02951692c90",
   "metadata": {},
   "outputs": [
    {
     "data": {
      "text/plain": [
       "array([[116100.016888476, 43462.1953368047],\n",
       "       [99909.0527956453, 115283.835637823]], dtype=object)"
      ]
     },
     "execution_count": 147,
     "metadata": {},
     "output_type": "execute_result"
    }
   ],
   "source": []
  },
  {
   "cell_type": "code",
   "execution_count": 146,
   "id": "e6166ab6-3640-4451-96ab-bd845e80d990",
   "metadata": {},
   "outputs": [
    {
     "data": {
      "text/plain": [
       "array([[[ 20270., 130768.],\n",
       "        [ 88612., 125576.]],\n",
       "\n",
       "       [[ 10956.,  49748.],\n",
       "        [ 62916.,  55484.]],\n",
       "\n",
       "       [[  5386.,  17802.],\n",
       "        [ 28892.,  22660.]]])"
      ]
     },
     "execution_count": 146,
     "metadata": {},
     "output_type": "execute_result"
    }
   ],
   "source": [
    "tens"
   ]
  },
  {
   "cell_type": "code",
   "execution_count": 170,
   "id": "4ad20403-03c7-4919-89b7-624ff570d91b",
   "metadata": {},
   "outputs": [],
   "source": [
    "# reconstructs the tensor from components\n",
    "def reconstruct_proc(tens,ret,a,b):\n",
    "    z = np.array([ret[3],ret[4],ret[5]])\n",
    "    m1 = np.kron(z,np.kron([0,1],[a,b])).reshape(3,2,2) \n",
    "    m2 = np.kron(tens[:,0,0],np.kron([1,ret[1]],[1,0])).reshape(3,2,2)\n",
    "    m3 = np.kron(tens[:,0,1],np.kron([1,ret[2]],[0,1])).reshape(3,2,2)\n",
    "    return np.max(m2 + m3 + m1 - tens) < 1"
   ]
  },
  {
   "cell_type": "code",
   "execution_count": 25,
   "id": "9761b6a5-29aa-4f28-a391-73132ae565ba",
   "metadata": {},
   "outputs": [
    {
     "data": {
      "text/plain": [
       "array([101049.,  95079., 199271.])"
      ]
     },
     "execution_count": 25,
     "metadata": {},
     "output_type": "execute_result"
    }
   ],
   "source": [
    "tens[:,0,0]"
   ]
  },
  {
   "cell_type": "code",
   "execution_count": 45,
   "id": "b79b286d-28bd-4d91-8556-8944c3734d14",
   "metadata": {},
   "outputs": [
    {
     "data": {
      "text/plain": [
       "array([[[451862., 264681.],\n",
       "        [593482., 315984.]],\n",
       "\n",
       "       [[622864., 492069.],\n",
       "        [749010., 550118.]],\n",
       "\n",
       "       [[650396., 226742.],\n",
       "        [780264., 273968.]]])"
      ]
     },
     "execution_count": 45,
     "metadata": {},
     "output_type": "execute_result"
    }
   ],
   "source": [
    "t = tens\n",
    "t"
   ]
  }
 ],
 "metadata": {
  "kernelspec": {
   "display_name": "Python 3 (ipykernel)",
   "language": "python",
   "name": "python3"
  },
  "language_info": {
   "codemirror_mode": {
    "name": "ipython",
    "version": 3
   },
   "file_extension": ".py",
   "mimetype": "text/x-python",
   "name": "python",
   "nbconvert_exporter": "python",
   "pygments_lexer": "ipython3",
   "version": "3.9.1"
  }
 },
 "nbformat": 4,
 "nbformat_minor": 5
}
