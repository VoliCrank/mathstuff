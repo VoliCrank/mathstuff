{
 "cells": [
  {
   "cell_type": "code",
   "execution_count": 4,
   "id": "intimate-chaos",
   "metadata": {},
   "outputs": [],
   "source": [
    "import tensorly as tl\n",
    "from utils import *\n",
    "import numpy as np\n",
    "from numpy import linalg as la\n",
    "from sympy import *\n",
    "from sympy.solvers.inequalities import *\n",
    "from sympy.polys import Poly\n",
    "from sympy.abc import x\n",
    "from sympy.solvers.solveset import linsolve\n",
    "import time\n",
    "from joblib import Parallel, delayed"
   ]
  },
  {
   "cell_type": "code",
   "execution_count": 10,
   "id": "muslim-collector",
   "metadata": {},
   "outputs": [],
   "source": [
    "def proc_tensor(t):\n",
    "    tens = t.copy()\n",
    "    M_b = Matrix([[Matrix(tens[:,0,0]), Matrix(tens[:,0,1]), Matrix(tens[:,1,1])]]).transpose()\n",
    "    M_a = Matrix([[Matrix(tens[:,0,0]), Matrix(tens[:,0,1]), Matrix(tens[:,1,0])]]).transpose()\n",
    "    if abs(M_a.det()) < 10:\n",
    "        print(\"warning det too small\")\n",
    "    a = 1\n",
    "    b = M_b.det() / M_a.det()\n",
    "    M = Matrix([[tens[0][0][0],0,a,0,0],[0,tens[0][0][1],b,0,0],\n",
    "                [tens[1][0][0],0,0,a,0],[0,tens[1][0][1],0,b,0],\n",
    "                [tens[2][0][0],0,0,0,a],[0,tens[2][0][1],0,0,b]])\n",
    "    R = Matrix([Matrix(tens[0,1]),Matrix(tens[1,1]),Matrix(tens[2,1])])\n",
    "    sol = la.solve(np.array(M.T@M,dtype = \"float\"), np.array(M.T@R, dtype = \"float\"))\n",
    "    ret = np.append(np.array([b], dtype = \"float\"),sol)\n",
    "    return np.all(ret >=0)\n",
    "\n",
    "\n",
    "def test(tens):\n",
    "    ret = [0] *11\n",
    "    if proc_tensor(tens) or proc_tensor(mat_trans(tens)) or proc_tensor(mat_inv(tens)) or proc_tensor(rotate(tens)):\n",
    "        ret[1] = 1\n",
    "        ret[0] = 1\n",
    "    if check_simple(tens):\n",
    "        ret[2] = 1\n",
    "        if ret[0] == 0:\n",
    "            ret[8] = 1\n",
    "        ret[0] = 1\n",
    "    r2 = r2_sub(tens, upper = 1)\n",
    "    r4 = check_r4(tens)\n",
    "    if r4:\n",
    "        ret[4] = 1\n",
    "    if r4 and r2:\n",
    "        ret[3] = 1\n",
    "    if r2 and not r4:\n",
    "        ret[6] = 1\n",
    "        if ret[0] == 0:\n",
    "            ret[7] = 1\n",
    "    return ret"
   ]
  },
  {
   "cell_type": "code",
   "execution_count": 11,
   "id": "5d42bd52-47a5-46da-a342-ba5bdbc4903a",
   "metadata": {},
   "outputs": [],
   "source": [
    "# assumes the nonnegative rank 2 subtensor are the first two slices\n",
    "def test_simple(tens, M, A1, tol = 0.0001):\n",
    "    a,b = symbols('a,b')\n",
    "    M1 = Matrix([[M,A1,Matrix(tens[2].reshape(4))]])\n",
    "    a1 = solve(M1.det(),a)[0]\n",
    "    A1 = A1.subs(a,a1)\n",
    "    M1 = Matrix([[M,A1,Matrix(tens[2].reshape(4))]])\n",
    "    M1_sub = M1[1:4,0:3]\n",
    "    R = M1[1:4,3]\n",
    "    res1 = M1_sub.inv() @ R\n",
    "    res1[0] = fraction(simplify(res1[0]))[0] * fraction(simplify(res1[0]))[1]\n",
    "    res1[1] = fraction(simplify(res1[1]))[0] * fraction(simplify(res1[1]))[1]\n",
    "    res1[2] = fraction(simplify(res1[2]))[0] * fraction(simplify(res1[2]))[1]\n",
    "    a2 = fraction(simplify(a1))[0] * fraction(simplify(a1))[1]\n",
    "    s1 = solveset(a2 >= 0, b, S.Reals)\n",
    "    s2 = solveset(res1[0] >= 0, b, S.Reals)\n",
    "    s3 = solveset(res1[1] >=0,b,S.Reals)\n",
    "    s4 = solveset(res1[2] >=0,b,S.Reals)\n",
    "    s5 = solveset(b >=0,b,S.Reals)\n",
    "    sol = Intersection(s1,s2,s3,s4,s5)\n",
    "    return sol.measure > tol\n",
    "\n",
    "\n",
    "# initializes the matrix with the appropriate rank 1 terms given the tensors has nonneg rank 2 subtensor\n",
    "def init_mat(tens):\n",
    "    A = tens[0] @ la.inv(tens[1])\n",
    "    eig = la.eig(A)\n",
    "    B = tens[0].T @ la.inv(tens[1]).T\n",
    "    eig1 = la.eig(B)\n",
    "\n",
    "    a1 = eig[1][:,0]\n",
    "    b1 = eig[1][:,1]\n",
    "\n",
    "    a2 = eig1[1][:,0]\n",
    "    b2 = eig1[1][:,1]\n",
    "\n",
    "    T1 = np.kron(a1,b2)\n",
    "    T2 = np.kron(b1,a2)\n",
    "    #ret = Matrix([[T1,T2]])\n",
    "    ret = None\n",
    "    if eig[0][0] == eig[0][1]:\n",
    "        print('identical eigenvalue, result should be discarded')\n",
    "    \n",
    "    # take the smaller tensor and check which decomposition to use\n",
    "    temp = tl.tensor([tens[0],tens[1]])\n",
    "    if mat_comb_small(temp,T1,T2):\n",
    "        T1 = Matrix(abs(T1))  \n",
    "        T2 = Matrix(abs(T2))\n",
    "        ret = Matrix([[T1,T2]])\n",
    "        #print(T1)\n",
    "        \n",
    "    T1 = np.kron(a1,a2)\n",
    "    T2 = np.kron(b1,b2)\n",
    "    if mat_comb_small(temp,T1,T2):\n",
    "        T1 = Matrix(abs(T1))\n",
    "        T2 = Matrix(abs(T2))\n",
    "        ret = Matrix([[T1,T2]])\n",
    "        #print(T1)\n",
    "    return ret\n",
    "\n",
    "# as before, checks if the matrix decompostion is valid by reconstructing it\n",
    "def mat_comb_small(tens,K1,K2):\n",
    "    T1 = Matrix(K1.reshape(4))\n",
    "    T2 = Matrix(K2.reshape(4))\n",
    "    pos1 = abs(sum(T1) / sum(abs(T1)))\n",
    "    pos2 = abs(sum(T2) / sum(abs(T2)))\n",
    "    if pos1 + pos2 != 2:\n",
    "        print('returning')\n",
    "        return False\n",
    "    M = abs(Matrix([[T1,T2]]))\n",
    "    R1 = tens[0].reshape(4)\n",
    "    R2 = tens[1].reshape(4)\n",
    "    sol1 = la.solve(np.array(M.T @ M, dtype = \"float\"), np.array(M.T @ R1, dtype = \"float\"))\n",
    "    sol2 = la.solve(np.array(M.T @ M, dtype = \"float\"), np.array(M.T @ R2, dtype = \"float\"))\n",
    "    a3 = [sol1[0],sol2[0]]\n",
    "    b3 = [sol1[1],sol2[1]]\n",
    "    m1 = np.kron(a3,abs(T1).reshape(1,4)).reshape(2,2,2)\n",
    "    m2 = np.kron(b3,abs(T2).reshape(1,4)).reshape(2,2,2)\n",
    "    #print(np.max(abs(m1+m2-tens)))\n",
    "    return (np.max(abs(m1+m2-tens))<0.1)\n",
    "\n",
    "\n",
    "    \n",
    "# checks if a given 2x2x3 has nonneg rank 2 subtensor and if it does check if the third slice is a linear combination\n",
    "def check_simple(tens):\n",
    "    t = tens.copy()\n",
    "    c1 = check_r2(tl.tensor([t[0],t[1]]))\n",
    "    c2 = check_r2(tl.tensor([t[0],t[2]]))\n",
    "    c3 = check_r2(tl.tensor([t[1],t[2]]))\n",
    "    a1 = False\n",
    "    a2 = False\n",
    "    a3 = False\n",
    "    if c1:\n",
    "        a,b = symbols('a,b')\n",
    "        A1 = Matrix([a*b,a,b,1])\n",
    "        A2 = Matrix([a,a*b,1,b])\n",
    "        A3 = Matrix([b,1,a*b,a])\n",
    "        A4 = Matrix([1,b,a,a*b])\n",
    "        temp = t\n",
    "        M = init_mat(temp)\n",
    "        a1 = test_simple(temp,M,A1) or test_simple(temp,M,A2) or test_simple(temp,M,A3) or test_simple(temp,M,A4)\n",
    "        if a1:\n",
    "            return a1\n",
    "    if c2:\n",
    "        a,b = symbols('a,b')\n",
    "        A1 = Matrix([a*b,a,b,1])\n",
    "        A2 = Matrix([a,a*b,1,b])\n",
    "        A3 = Matrix([b,1,a*b,a])\n",
    "        A4 = Matrix([1,b,a,a*b])\n",
    "        temp = tl.tensor([t[0],t[2],t[1]])\n",
    "        M = init_mat(temp)\n",
    "        a2 = test_simple(temp,M,A1) or test_simple(temp,M,A2) or test_simple(temp,M,A3) or test_simple(temp,M,A4)\n",
    "        if a2:\n",
    "            return a2\n",
    "    if c3:\n",
    "        a,b = symbols('a,b')\n",
    "        A1 = Matrix([a*b,a,b,1])\n",
    "        A2 = Matrix([a,a*b,1,b])\n",
    "        A3 = Matrix([b,1,a*b,a])\n",
    "        A4 = Matrix([1,b,a,a*b])\n",
    "        temp = tl.tensor([t[1],t[2],t[0]])\n",
    "        M = init_mat(temp)\n",
    "        a3 = test_simple(temp,M,A1) or test_simple(temp,M,A2) or test_simple(temp,M,A3) or test_simple(temp,M,A4)\n",
    "        if a3:\n",
    "            return a3\n",
    "    return False"
   ]
  },
  {
   "cell_type": "code",
   "execution_count": 75,
   "id": "24293a3d-1a41-4711-93ec-feb17d37d165",
   "metadata": {},
   "outputs": [
    {
     "data": {
      "text/plain": [
       "array([[[10726., 73628.],\n",
       "        [93701., 33748.]],\n",
       "\n",
       "       [[89772., 86118.],\n",
       "        [68222., 64886.]],\n",
       "\n",
       "       [[ 2760., 51401.],\n",
       "        [66358., 64618.]]])"
      ]
     },
     "execution_count": 75,
     "metadata": {},
     "output_type": "execute_result"
    }
   ],
   "source": [
    "tens1 = rand_tensor()\n",
    "test_res = test(tens1)\n",
    "cond1 = test_res[0] != 1 and test_res[4] != 1\n",
    "while not cond1:\n",
    "    tens1 = rand_tensor()\n",
    "    test_res = test(tens1)\n",
    "    cond1 = test_res[0] != 1 and test_res[4] != 1\n",
    "tens1"
   ]
  },
  {
   "cell_type": "code",
   "execution_count": 76,
   "id": "4225485f-b744-41ca-8337-efc28691f032",
   "metadata": {},
   "outputs": [
    {
     "data": {
      "text/plain": [
       "[0, 0, 0, 0, 0, 0, 0, 0, 0, 0, 0]"
      ]
     },
     "execution_count": 76,
     "metadata": {},
     "output_type": "execute_result"
    }
   ],
   "source": [
    "test(tens1)"
   ]
  },
  {
   "cell_type": "code",
   "execution_count": 77,
   "id": "35d9e05b-1102-4526-ae1e-0c7cef59c5db",
   "metadata": {},
   "outputs": [
    {
     "data": {
      "text/plain": [
       "array([[[2760.0*k + 10726.0, 51401.0*k + 73628.0],\n",
       "        [66358.0*k + 93701.0, 64618.0*k + 33748.0]],\n",
       "\n",
       "       [[89772.0, 86118.0],\n",
       "        [68222.0, 64886.0]]], dtype=object)"
      ]
     },
     "execution_count": 77,
     "metadata": {},
     "output_type": "execute_result"
    }
   ],
   "source": [
    "k = symbols('k')\n",
    "sub1 = tl.tensor([tens1[0] + k* tens1[2] ,tens1[1]])\n",
    "sub2 = tl.tensor([tens1[2],tens1[1]])\n",
    "sub1"
   ]
  },
  {
   "cell_type": "code",
   "execution_count": 92,
   "id": "928c445f-4e6a-4f86-860c-881f6d24732b",
   "metadata": {},
   "outputs": [
    {
     "name": "stdout",
     "output_type": "stream",
     "text": [
      "Interval.open(-oo, 58.4187356753049) Union(Interval(-oo, -1.29916393076260), Interval.open(58.4187356753049, oo))\n"
     ]
    },
    {
     "data": {
      "text/latex": [
       "$\\displaystyle \\left(-\\infty, -1.2991639307626\\right]$"
      ],
      "text/plain": [
       "Interval(-oo, -1.29916393076260)"
      ]
     },
     "execution_count": 92,
     "metadata": {},
     "output_type": "execute_result"
    }
   ],
   "source": [
    "sol = Matrix([[Matrix(sub1[1,0,:]),Matrix(sub1[0,1,:])]]).inv() @ Matrix(sub1[0,0,:])\n",
    "int1 = solveset(sol[0] >=0,k,S.Reals)\n",
    "int2 = solveset(sol[1] >=0,k,S.Reals)\n",
    "print(int1,int2)\n",
    "Intersection(int1,int2)"
   ]
  },
  {
   "cell_type": "code",
   "execution_count": null,
   "id": "e30fdbd1-3d63-4675-a2b1-c7273572d8db",
   "metadata": {},
   "outputs": [],
   "source": [
    "sol = Matrix([[Matrix(sub1[:,1,0]),Matrix(sub1[:,0,1])]]).inv() @ Matrix(sub1[:,0,0])\n",
    "int1 = solveset(sol[0] >=0,k,S.Reals)\n",
    "int2 = solveset(sol[1] >=0,k,S.Reals)\n",
    "print(int1,int2)\n",
    "Intersection(int1,int2)"
   ]
  },
  {
   "cell_type": "code",
   "execution_count": 96,
   "id": "70cd7f11-a9ea-4dcf-96e1-62fddb975587",
   "metadata": {},
   "outputs": [
    {
     "name": "stdout",
     "output_type": "stream",
     "text": [
      "Union(Interval(-oo, 0.839228248611671), Interval.open(0.868894143731446, oo)) Interval.open(-oo, 0.868894143731446)\n"
     ]
    },
    {
     "data": {
      "text/latex": [
       "$\\displaystyle \\left(-\\infty, 0.839228248611671\\right]$"
      ],
      "text/plain": [
       "Interval(-oo, 0.839228248611671)"
      ]
     },
     "execution_count": 96,
     "metadata": {},
     "output_type": "execute_result"
    }
   ],
   "source": [
    "sol = Matrix([[Matrix(sub1[1,:,0]),Matrix(sub1[0,:,1])]]).inv() @ Matrix(sub1[1,:,1])\n",
    "int1 = solveset(sol[0] >=0,k,S.Reals)\n",
    "int2 = solveset(sol[1] >=0,k,S.Reals)\n",
    "print(int1,int2)\n",
    "Intersection(int1,int2)"
   ]
  },
  {
   "cell_type": "markdown",
   "id": "d7c01fdf-53d0-4a3e-87bf-80e2d296b6af",
   "metadata": {},
   "source": [
    "This next cell shows that for any $k \\in \\mathbb{R}$, the $2\\times 2\\times 2$ tensor formed by adding two of the three slices and keeping the other slice will have nonnegative rank three, contrary to our prior beliefs that this may be sufficient."
   ]
  },
  {
   "cell_type": "code",
   "execution_count": 100,
   "id": "ea766f55-f44d-4112-bae9-e87173baf162",
   "metadata": {},
   "outputs": [
    {
     "name": "stdout",
     "output_type": "stream",
     "text": [
      "Interval.open(-1.33200825223388, oo) Union(Interval.open(-oo, -1.33200825223388), Interval(-1.33129595766151, oo))\n"
     ]
    },
    {
     "data": {
      "text/latex": [
       "$\\displaystyle \\left[-1.33129595766151, \\infty\\right)$"
      ],
      "text/plain": [
       "Interval(-1.33129595766151, oo)"
      ]
     },
     "execution_count": 100,
     "metadata": {},
     "output_type": "execute_result"
    }
   ],
   "source": [
    "sol = Matrix([[Matrix(sub1[0,:,0]),Matrix(sub1[1,:,1])]]).inv() @ Matrix(sub1[1,:,0])\n",
    "int1 = solveset(sol[0] >=0,k,S.Reals)\n",
    "int2 = solveset(sol[1] >=0,k,S.Reals)\n",
    "print(int1,int2)\n",
    "Intersection(int1,int2)"
   ]
  },
  {
   "cell_type": "code",
   "execution_count": 107,
   "id": "bfccee7b-7b11-4f52-b981-f35b973cea6b",
   "metadata": {},
   "outputs": [
    {
     "data": {
      "text/plain": [
       "True"
      ]
     },
     "execution_count": 107,
     "metadata": {},
     "output_type": "execute_result"
    }
   ],
   "source": [
    "check(tens1)"
   ]
  }
 ],
 "metadata": {
  "kernelspec": {
   "display_name": "Python 3 (ipykernel)",
   "language": "python",
   "name": "python3"
  },
  "language_info": {
   "codemirror_mode": {
    "name": "ipython",
    "version": 3
   },
   "file_extension": ".py",
   "mimetype": "text/x-python",
   "name": "python",
   "nbconvert_exporter": "python",
   "pygments_lexer": "ipython3",
   "version": "3.9.1"
  }
 },
 "nbformat": 4,
 "nbformat_minor": 5
}
