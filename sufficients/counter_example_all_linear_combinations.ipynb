{
 "cells": [
  {
   "cell_type": "code",
   "execution_count": 2,
   "id": "intimate-chaos",
   "metadata": {},
   "outputs": [],
   "source": [
    "import tensorly as tl\n",
    "from utils import *\n",
    "import numpy as np\n",
    "from numpy import linalg as la\n",
    "from sympy import *\n",
    "from sympy.solvers.inequalities import *\n",
    "from sympy.polys import Poly\n",
    "from sympy.abc import x\n",
    "from sympy.solvers.solveset import linsolve\n",
    "import time\n",
    "from joblib import Parallel, delayed"
   ]
  },
  {
   "cell_type": "code",
   "execution_count": 7,
   "id": "b22fcf26-8a88-4a2f-8675-4f0dbf8270ad",
   "metadata": {},
   "outputs": [],
   "source": [
    "#generates random rank 3 tensors\n",
    "def rank_tree(size = 100, s = (2,3,3)):\n",
    "    return (low_tensor(size,s) + low_tensor(size,s) + low_tensor(size,s)) \n",
    "\n",
    "def rank_two(size = 100,s = (2,3,3)):\n",
    "    return (low_tensor(size,s) + low_tensor(size,s)) \n",
    "\n",
    "# random tensor of some dim\n",
    "def rand_tensor(size = 100000):\n",
    "    return tl.tensor(np.random.randint(1, size, size=(3,2,2)))*1.0"
   ]
  },
  {
   "cell_type": "code",
   "execution_count": 3,
   "id": "muslim-collector",
   "metadata": {},
   "outputs": [],
   "source": [
    "def proc_tensor(t):\n",
    "    tens = t.copy()\n",
    "    M_b = Matrix([[Matrix(tens[:,0,0]), Matrix(tens[:,0,1]), Matrix(tens[:,1,1])]]).transpose()\n",
    "    M_a = Matrix([[Matrix(tens[:,0,0]), Matrix(tens[:,0,1]), Matrix(tens[:,1,0])]]).transpose()\n",
    "    if abs(M_a.det()) < 10:\n",
    "        print(\"warning det too small\")\n",
    "    a = 1\n",
    "    b = M_b.det() / M_a.det()\n",
    "    M = Matrix([[tens[0][0][0],0,a,0,0],[0,tens[0][0][1],b,0,0],\n",
    "                [tens[1][0][0],0,0,a,0],[0,tens[1][0][1],0,b,0],\n",
    "                [tens[2][0][0],0,0,0,a],[0,tens[2][0][1],0,0,b]])\n",
    "    R = Matrix([Matrix(tens[0,1]),Matrix(tens[1,1]),Matrix(tens[2,1])])\n",
    "    sol = la.solve(np.array(M.T@M,dtype = \"float\"), np.array(M.T@R, dtype = \"float\"))\n",
    "    ret = np.append(np.array([b], dtype = \"float\"),sol)\n",
    "    return np.all(ret >=0)\n",
    "\n",
    "\n",
    "def test(tens):\n",
    "    ret = [0] *11\n",
    "    if proc_tensor(tens) or proc_tensor(mat_trans(tens)) or proc_tensor(mat_inv(tens)) or proc_tensor(rotate(tens)):\n",
    "        ret[1] = 1\n",
    "        ret[0] = 1\n",
    "    if check_simple(tens):\n",
    "        ret[2] = 1\n",
    "        if ret[0] == 0:\n",
    "            ret[8] = 1\n",
    "        ret[0] = 1\n",
    "    r2 = r2_sub(tens, upper = 1)\n",
    "    r4 = check_r4(tens)\n",
    "    if r4:\n",
    "        ret[4] = 1\n",
    "    if r4 and r2:\n",
    "        ret[3] = 1\n",
    "    if r2 and not r4:\n",
    "        ret[6] = 1\n",
    "        if ret[0] == 0:\n",
    "            ret[7] = 1\n",
    "    return ret"
   ]
  },
  {
   "cell_type": "code",
   "execution_count": 4,
   "id": "5d42bd52-47a5-46da-a342-ba5bdbc4903a",
   "metadata": {},
   "outputs": [],
   "source": [
    "# assumes the nonnegative rank 2 subtensor are the first two slices\n",
    "def test_simple(tens, M, A1, tol = 0.0001):\n",
    "    a,b = symbols('a,b')\n",
    "    M1 = Matrix([[M,A1,Matrix(tens[2].reshape(4))]])\n",
    "    a1 = solve(M1.det(),a)[0]\n",
    "    A1 = A1.subs(a,a1)\n",
    "    M1 = Matrix([[M,A1,Matrix(tens[2].reshape(4))]])\n",
    "    M1_sub = M1[1:4,0:3]\n",
    "    R = M1[1:4,3]\n",
    "    res1 = M1_sub.inv() @ R\n",
    "    res1[0] = fraction(simplify(res1[0]))[0] * fraction(simplify(res1[0]))[1]\n",
    "    res1[1] = fraction(simplify(res1[1]))[0] * fraction(simplify(res1[1]))[1]\n",
    "    res1[2] = fraction(simplify(res1[2]))[0] * fraction(simplify(res1[2]))[1]\n",
    "    a2 = fraction(simplify(a1))[0] * fraction(simplify(a1))[1]\n",
    "    s1 = solveset(a2 >= 0, b, S.Reals)\n",
    "    s2 = solveset(res1[0] >= 0, b, S.Reals)\n",
    "    s3 = solveset(res1[1] >=0,b,S.Reals)\n",
    "    s4 = solveset(res1[2] >=0,b,S.Reals)\n",
    "    s5 = solveset(b >=0,b,S.Reals)\n",
    "    sol = Intersection(s1,s2,s3,s4,s5)\n",
    "    return sol.measure > tol\n",
    "\n",
    "\n",
    "# initializes the matrix with the appropriate rank 1 terms given the tensors has nonneg rank 2 subtensor\n",
    "def init_mat(tens):\n",
    "    A = tens[0] @ la.inv(tens[1])\n",
    "    eig = la.eig(A)\n",
    "    B = tens[0].T @ la.inv(tens[1]).T\n",
    "    eig1 = la.eig(B)\n",
    "\n",
    "    a1 = eig[1][:,0]\n",
    "    b1 = eig[1][:,1]\n",
    "\n",
    "    a2 = eig1[1][:,0]\n",
    "    b2 = eig1[1][:,1]\n",
    "\n",
    "    T1 = np.kron(a1,b2)\n",
    "    T2 = np.kron(b1,a2)\n",
    "    #ret = Matrix([[T1,T2]])\n",
    "    ret = None\n",
    "    if eig[0][0] == eig[0][1]:\n",
    "        print('identical eigenvalue, result should be discarded')\n",
    "    \n",
    "    # take the smaller tensor and check which decomposition to use\n",
    "    temp = tl.tensor([tens[0],tens[1]])\n",
    "    if mat_comb_small(temp,T1,T2):\n",
    "        T1 = Matrix(abs(T1))  \n",
    "        T2 = Matrix(abs(T2))\n",
    "        ret = Matrix([[T1,T2]])\n",
    "        #print(T1)\n",
    "        \n",
    "    T1 = np.kron(a1,a2)\n",
    "    T2 = np.kron(b1,b2)\n",
    "    if mat_comb_small(temp,T1,T2):\n",
    "        T1 = Matrix(abs(T1))\n",
    "        T2 = Matrix(abs(T2))\n",
    "        ret = Matrix([[T1,T2]])\n",
    "        #print(T1)\n",
    "    return ret\n",
    "\n",
    "# as before, checks if the matrix decompostion is valid by reconstructing it\n",
    "def mat_comb_small(tens,K1,K2):\n",
    "    T1 = Matrix(K1.reshape(4))\n",
    "    T2 = Matrix(K2.reshape(4))\n",
    "    pos1 = abs(sum(T1) / sum(abs(T1)))\n",
    "    pos2 = abs(sum(T2) / sum(abs(T2)))\n",
    "    if pos1 + pos2 != 2:\n",
    "        print('returning')\n",
    "        return False\n",
    "    M = abs(Matrix([[T1,T2]]))\n",
    "    R1 = tens[0].reshape(4)\n",
    "    R2 = tens[1].reshape(4)\n",
    "    sol1 = la.solve(np.array(M.T @ M, dtype = \"float\"), np.array(M.T @ R1, dtype = \"float\"))\n",
    "    sol2 = la.solve(np.array(M.T @ M, dtype = \"float\"), np.array(M.T @ R2, dtype = \"float\"))\n",
    "    a3 = [sol1[0],sol2[0]]\n",
    "    b3 = [sol1[1],sol2[1]]\n",
    "    m1 = np.kron(a3,abs(T1).reshape(1,4)).reshape(2,2,2)\n",
    "    m2 = np.kron(b3,abs(T2).reshape(1,4)).reshape(2,2,2)\n",
    "    #print(np.max(abs(m1+m2-tens)))\n",
    "    return (np.max(abs(m1+m2-tens))<0.1)\n",
    "\n",
    "\n",
    "    \n",
    "# checks if a given 2x2x3 has nonneg rank 2 subtensor and if it does check if the third slice is a linear combination\n",
    "def check_simple(tens):\n",
    "    t = tens.copy()\n",
    "    c1 = check_r2(tl.tensor([t[0],t[1]]))\n",
    "    c2 = check_r2(tl.tensor([t[0],t[2]]))\n",
    "    c3 = check_r2(tl.tensor([t[1],t[2]]))\n",
    "    a1 = False\n",
    "    a2 = False\n",
    "    a3 = False\n",
    "    if c1:\n",
    "        a,b = symbols('a,b')\n",
    "        A1 = Matrix([a*b,a,b,1])\n",
    "        A2 = Matrix([a,a*b,1,b])\n",
    "        A3 = Matrix([b,1,a*b,a])\n",
    "        A4 = Matrix([1,b,a,a*b])\n",
    "        temp = t\n",
    "        M = init_mat(temp)\n",
    "        a1 = test_simple(temp,M,A1) or test_simple(temp,M,A2) or test_simple(temp,M,A3) or test_simple(temp,M,A4)\n",
    "        if a1:\n",
    "            return a1\n",
    "    if c2:\n",
    "        a,b = symbols('a,b')\n",
    "        A1 = Matrix([a*b,a,b,1])\n",
    "        A2 = Matrix([a,a*b,1,b])\n",
    "        A3 = Matrix([b,1,a*b,a])\n",
    "        A4 = Matrix([1,b,a,a*b])\n",
    "        temp = tl.tensor([t[0],t[2],t[1]])\n",
    "        M = init_mat(temp)\n",
    "        a2 = test_simple(temp,M,A1) or test_simple(temp,M,A2) or test_simple(temp,M,A3) or test_simple(temp,M,A4)\n",
    "        if a2:\n",
    "            return a2\n",
    "    if c3:\n",
    "        a,b = symbols('a,b')\n",
    "        A1 = Matrix([a*b,a,b,1])\n",
    "        A2 = Matrix([a,a*b,1,b])\n",
    "        A3 = Matrix([b,1,a*b,a])\n",
    "        A4 = Matrix([1,b,a,a*b])\n",
    "        temp = tl.tensor([t[1],t[2],t[0]])\n",
    "        M = init_mat(temp)\n",
    "        a3 = test_simple(temp,M,A1) or test_simple(temp,M,A2) or test_simple(temp,M,A3) or test_simple(temp,M,A4)\n",
    "        if a3:\n",
    "            return a3\n",
    "    return False"
   ]
  },
  {
   "cell_type": "code",
   "execution_count": 8,
   "id": "24293a3d-1a41-4711-93ec-feb17d37d165",
   "metadata": {},
   "outputs": [
    {
     "data": {
      "text/plain": [
       "array([[[55643., 89848.],\n",
       "        [32690., 20439.]],\n",
       "\n",
       "       [[44297.,  6836.],\n",
       "        [ 7309.,  1857.]],\n",
       "\n",
       "       [[99857., 86158.],\n",
       "        [80916., 91776.]]])"
      ]
     },
     "execution_count": 8,
     "metadata": {},
     "output_type": "execute_result"
    }
   ],
   "source": [
    "tens1 = rand_tensor()\n",
    "test_res = test(tens1)\n",
    "cond1 = test_res[0] != 1 and test_res[4] != 1\n",
    "while not cond1:\n",
    "    tens1 = rand_tensor()\n",
    "    test_res = test(tens1)\n",
    "    cond1 = test_res[0] != 1 and test_res[4] != 1\n",
    "tens1"
   ]
  },
  {
   "cell_type": "code",
   "execution_count": 9,
   "id": "4225485f-b744-41ca-8337-efc28691f032",
   "metadata": {},
   "outputs": [
    {
     "data": {
      "text/plain": [
       "[0, 0, 0, 0, 0, 0, 1, 1, 0, 0, 0]"
      ]
     },
     "execution_count": 9,
     "metadata": {},
     "output_type": "execute_result"
    }
   ],
   "source": [
    "test(tens1)"
   ]
  },
  {
   "cell_type": "code",
   "execution_count": 11,
   "id": "dff62ca9-69b3-4054-be23-8f932e12d2b1",
   "metadata": {},
   "outputs": [],
   "source": [
    "tens = tens1"
   ]
  },
  {
   "cell_type": "code",
   "execution_count": 12,
   "id": "1e656eed-1b83-4739-9d98-3b2d9f78d663",
   "metadata": {},
   "outputs": [
    {
     "data": {
      "text/plain": [
       "array([[[44297.0*alpha_1 + 99857.0*alpha_2 + 55643.0,\n",
       "         6836.0*alpha_1 + 86158.0*alpha_2 + 89848.0],\n",
       "        [7309.0*alpha_1 + 80916.0*alpha_2 + 32690.0,\n",
       "         1857.0*alpha_1 + 91776.0*alpha_2 + 20439.0]],\n",
       "\n",
       "       [[55643.0*beta_0 + 99857.0*beta_2 + 44297.0,\n",
       "         89848.0*beta_0 + 86158.0*beta_2 + 6836.0],\n",
       "        [32690.0*beta_0 + 80916.0*beta_2 + 7309.0,\n",
       "         20439.0*beta_0 + 91776.0*beta_2 + 1857.0]]], dtype=object)"
      ]
     },
     "execution_count": 12,
     "metadata": {},
     "output_type": "execute_result"
    }
   ],
   "source": [
    "alpha_1,alpha_2, beta_0,beta_2 = symbols('alpha_1,alpha_2, beta_0,beta_2 ')\n",
    "sub1 = tl.tensor([tens1[0] + alpha_1* tens1[1]+alpha_2 *tens[2],beta_0*tens[0] + tens1[1] + beta_2 * tens[2]])\n",
    "sub2 = tl.tensor([tens1[2],tens1[1]])\n",
    "sub1"
   ]
  },
  {
   "cell_type": "code",
   "execution_count": 77,
   "id": "35d9e05b-1102-4526-ae1e-0c7cef59c5db",
   "metadata": {},
   "outputs": [
    {
     "data": {
      "text/plain": [
       "array([[[2760.0*k + 10726.0, 51401.0*k + 73628.0],\n",
       "        [66358.0*k + 93701.0, 64618.0*k + 33748.0]],\n",
       "\n",
       "       [[89772.0, 86118.0],\n",
       "        [68222.0, 64886.0]]], dtype=object)"
      ]
     },
     "execution_count": 77,
     "metadata": {},
     "output_type": "execute_result"
    }
   ],
   "source": [
    "k = symbols('k')\n",
    "sub1 = tl.tensor([tens1[0] + k* tens1[2] ,tens1[1]])\n",
    "sub2 = tl.tensor([tens1[2],tens1[1]])\n",
    "sub1"
   ]
  },
  {
   "cell_type": "code",
   "execution_count": 14,
   "id": "928c445f-4e6a-4f86-860c-881f6d24732b",
   "metadata": {},
   "outputs": [
    {
     "name": "stdout",
     "output_type": "stream",
     "text": [
      "ConditionSet(alpha_1, (-103329051.0*alpha_1 - 5106691968.0*alpha_2 - 1137287277.0)*(44297.0*alpha_1 + 99857.0*alpha_2 + 55643.0)/(30791165852783.0*alpha_1*beta_0 + 24721871796839.0*alpha_1*beta_2 - 1797002091815.0*alpha_1 + 120380781578400.0*alpha_2*beta_0 - 122020386260472.0*alpha_2*beta_2 - 195432666264528.0*alpha_2 + 100148710956049.0*beta_0 + 43152693208471.0*beta_2 - 37943937845149.0) + (6836.0*alpha_1 + 86158.0*alpha_2 + 89848.0)*(406694687.0*alpha_1 + 4502408988.0*alpha_2 + 1818969670.0)/(30791165852783.0*alpha_1*beta_0 + 24721871796839.0*alpha_1*beta_2 - 1797002091815.0*alpha_1 + 120380781578400.0*alpha_2*beta_0 - 122020386260472.0*alpha_2*beta_2 - 195432666264528.0*alpha_2 + 100148710956049.0*beta_0 + 43152693208471.0*beta_2 - 37943937845149.0) >= 0, Reals) ConditionSet(alpha_2, (-103329051.0*alpha_1 - 5106691968.0*alpha_2 - 1137287277.0)*(44297.0*alpha_1 + 99857.0*alpha_2 + 55643.0)/(30791165852783.0*alpha_1*beta_0 + 24721871796839.0*alpha_1*beta_2 - 1797002091815.0*alpha_1 + 120380781578400.0*alpha_2*beta_0 - 122020386260472.0*alpha_2*beta_2 - 195432666264528.0*alpha_2 + 100148710956049.0*beta_0 + 43152693208471.0*beta_2 - 37943937845149.0) + (6836.0*alpha_1 + 86158.0*alpha_2 + 89848.0)*(406694687.0*alpha_1 + 4502408988.0*alpha_2 + 1818969670.0)/(30791165852783.0*alpha_1*beta_0 + 24721871796839.0*alpha_1*beta_2 - 1797002091815.0*alpha_1 + 120380781578400.0*alpha_2*beta_0 - 122020386260472.0*alpha_2*beta_2 - 195432666264528.0*alpha_2 + 100148710956049.0*beta_0 + 43152693208471.0*beta_2 - 37943937845149.0) >= 0, Reals)\n"
     ]
    },
    {
     "data": {
      "text/latex": [
       "$\\displaystyle \\left\\{\\alpha_{1}\\; \\middle|\\; \\alpha_{1} \\in \\mathbb{R} \\wedge \\frac{\\left(- 103329051.0 \\alpha_{1} - 5106691968.0 \\alpha_{2} - 1137287277.0\\right) \\left(44297.0 \\alpha_{1} + 99857.0 \\alpha_{2} + 55643.0\\right)}{30791165852783.0 \\alpha_{1} \\beta_{0} + 24721871796839.0 \\alpha_{1} \\beta_{2} - 1797002091815.0 \\alpha_{1} + 120380781578400.0 \\alpha_{2} \\beta_{0} - 122020386260472.0 \\alpha_{2} \\beta_{2} - 195432666264528.0 \\alpha_{2} + 100148710956049.0 \\beta_{0} + 43152693208471.0 \\beta_{2} - 37943937845149.0} + \\frac{\\left(6836.0 \\alpha_{1} + 86158.0 \\alpha_{2} + 89848.0\\right) \\left(406694687.0 \\alpha_{1} + 4502408988.0 \\alpha_{2} + 1818969670.0\\right)}{30791165852783.0 \\alpha_{1} \\beta_{0} + 24721871796839.0 \\alpha_{1} \\beta_{2} - 1797002091815.0 \\alpha_{1} + 120380781578400.0 \\alpha_{2} \\beta_{0} - 122020386260472.0 \\alpha_{2} \\beta_{2} - 195432666264528.0 \\alpha_{2} + 100148710956049.0 \\beta_{0} + 43152693208471.0 \\beta_{2} - 37943937845149.0} \\geq 0 \\right\\} \\cap \\left\\{\\alpha_{2}\\; \\middle|\\; \\alpha_{2} \\in \\mathbb{R} \\wedge \\frac{\\left(- 103329051.0 \\alpha_{1} - 5106691968.0 \\alpha_{2} - 1137287277.0\\right) \\left(44297.0 \\alpha_{1} + 99857.0 \\alpha_{2} + 55643.0\\right)}{30791165852783.0 \\alpha_{1} \\beta_{0} + 24721871796839.0 \\alpha_{1} \\beta_{2} - 1797002091815.0 \\alpha_{1} + 120380781578400.0 \\alpha_{2} \\beta_{0} - 122020386260472.0 \\alpha_{2} \\beta_{2} - 195432666264528.0 \\alpha_{2} + 100148710956049.0 \\beta_{0} + 43152693208471.0 \\beta_{2} - 37943937845149.0} + \\frac{\\left(6836.0 \\alpha_{1} + 86158.0 \\alpha_{2} + 89848.0\\right) \\left(406694687.0 \\alpha_{1} + 4502408988.0 \\alpha_{2} + 1818969670.0\\right)}{30791165852783.0 \\alpha_{1} \\beta_{0} + 24721871796839.0 \\alpha_{1} \\beta_{2} - 1797002091815.0 \\alpha_{1} + 120380781578400.0 \\alpha_{2} \\beta_{0} - 122020386260472.0 \\alpha_{2} \\beta_{2} - 195432666264528.0 \\alpha_{2} + 100148710956049.0 \\beta_{0} + 43152693208471.0 \\beta_{2} - 37943937845149.0} \\geq 0 \\right\\}$"
      ],
      "text/plain": [
       "Intersection(ConditionSet(alpha_1, (-103329051.0*alpha_1 - 5106691968.0*alpha_2 - 1137287277.0)*(44297.0*alpha_1 + 99857.0*alpha_2 + 55643.0)/(30791165852783.0*alpha_1*beta_0 + 24721871796839.0*alpha_1*beta_2 - 1797002091815.0*alpha_1 + 120380781578400.0*alpha_2*beta_0 - 122020386260472.0*alpha_2*beta_2 - 195432666264528.0*alpha_2 + 100148710956049.0*beta_0 + 43152693208471.0*beta_2 - 37943937845149.0) + (6836.0*alpha_1 + 86158.0*alpha_2 + 89848.0)*(406694687.0*alpha_1 + 4502408988.0*alpha_2 + 1818969670.0)/(30791165852783.0*alpha_1*beta_0 + 24721871796839.0*alpha_1*beta_2 - 1797002091815.0*alpha_1 + 120380781578400.0*alpha_2*beta_0 - 122020386260472.0*alpha_2*beta_2 - 195432666264528.0*alpha_2 + 100148710956049.0*beta_0 + 43152693208471.0*beta_2 - 37943937845149.0) >= 0, Reals), ConditionSet(alpha_2, (-103329051.0*alpha_1 - 5106691968.0*alpha_2 - 1137287277.0)*(44297.0*alpha_1 + 99857.0*alpha_2 + 55643.0)/(30791165852783.0*alpha_1*beta_0 + 24721871796839.0*alpha_1*beta_2 - 1797002091815.0*alpha_1 + 120380781578400.0*alpha_2*beta_0 - 122020386260472.0*alpha_2*beta_2 - 195432666264528.0*alpha_2 + 100148710956049.0*beta_0 + 43152693208471.0*beta_2 - 37943937845149.0) + (6836.0*alpha_1 + 86158.0*alpha_2 + 89848.0)*(406694687.0*alpha_1 + 4502408988.0*alpha_2 + 1818969670.0)/(30791165852783.0*alpha_1*beta_0 + 24721871796839.0*alpha_1*beta_2 - 1797002091815.0*alpha_1 + 120380781578400.0*alpha_2*beta_0 - 122020386260472.0*alpha_2*beta_2 - 195432666264528.0*alpha_2 + 100148710956049.0*beta_0 + 43152693208471.0*beta_2 - 37943937845149.0) >= 0, Reals))"
      ]
     },
     "execution_count": 14,
     "metadata": {},
     "output_type": "execute_result"
    }
   ],
   "source": [
    "sol = Matrix([[Matrix(sub1[1,0,:]),Matrix(sub1[0,1,:])]]).inv() @ Matrix(sub1[0,0,:])\n",
    "int1 = solveset(sol[0] >=0,alpha_1,S.Reals)\n",
    "int2 = solveset(sol[0] >=0,alpha_2,S.Reals)\n",
    "int3 = solveset(sol[0] >=0,beta_0,S.Reals)\n",
    "int4 = solveset(sol[0] >=0,beta_2,S.Reals)\n",
    "int5 = solveset(sol[1] >=0,alpha_1,S.Reals)\n",
    "int6 = solveset(sol[1] >=0,alpha_2,S.Reals)\n",
    "int7 = solveset(sol[1] >=0,beta_0,S.Reals)\n",
    "int8 = solveset(sol[1] >=0,beta_2,S.Reals)\n",
    "print(int1,int2)\n",
    "Intersection(int1,int2)"
   ]
  },
  {
   "cell_type": "code",
   "execution_count": 23,
   "id": "01791301-0fe7-49f8-8581-5e093106cc0f",
   "metadata": {},
   "outputs": [
    {
     "data": {
      "text/latex": [
       "$\\displaystyle \\left[\\begin{matrix}\\frac{\\left(- 5106691968.0 \\alpha_{2} - 2170577787.0\\right) \\left(99857.0 \\alpha_{2} + 498613.0\\right)}{120380781578400.0 \\alpha_{2} \\beta_{0} - 122020386260472.0 \\alpha_{2} \\beta_{2} - 195432666264528.0 \\alpha_{2} + 408060369483879.0 \\beta_{0} + 290371411176861.0 \\beta_{2} - 55913958763299.0} + \\frac{\\left(86158.0 \\alpha_{2} + 158208.0\\right) \\left(4502408988.0 \\alpha_{2} + 5885916540.0\\right)}{120380781578400.0 \\alpha_{2} \\beta_{0} - 122020386260472.0 \\alpha_{2} \\beta_{2} - 195432666264528.0 \\alpha_{2} + 408060369483879.0 \\beta_{0} + 290371411176861.0 \\beta_{2} - 55913958763299.0}\\\\\\frac{\\left(86158.0 \\alpha_{2} + 158208.0\\right) \\left(- 55643.0 \\beta_{0} - 99857.0 \\beta_{2} - 44297.0\\right)}{2163448800.0 \\alpha_{2} \\beta_{0} - 2192915304.0 \\alpha_{2} \\beta_{2} - 3512259696.0 \\alpha_{2} + 7333543653.0 \\beta_{0} + 5218471527.0 \\beta_{2} - 1004869593.0} + \\frac{\\left(99857.0 \\alpha_{2} + 498613.0\\right) \\left(89848.0 \\beta_{0} + 86158.0 \\beta_{2} + 6836.0\\right)}{2163448800.0 \\alpha_{2} \\beta_{0} - 2192915304.0 \\alpha_{2} \\beta_{2} - 3512259696.0 \\alpha_{2} + 7333543653.0 \\beta_{0} + 5218471527.0 \\beta_{2} - 1004869593.0}\\end{matrix}\\right]$"
      ],
      "text/plain": [
       "Matrix([\n",
       "[(-5106691968.0*alpha_2 - 2170577787.0)*(99857.0*alpha_2 + 498613.0)/(120380781578400.0*alpha_2*beta_0 - 122020386260472.0*alpha_2*beta_2 - 195432666264528.0*alpha_2 + 408060369483879.0*beta_0 + 290371411176861.0*beta_2 - 55913958763299.0) + (86158.0*alpha_2 + 158208.0)*(4502408988.0*alpha_2 + 5885916540.0)/(120380781578400.0*alpha_2*beta_0 - 122020386260472.0*alpha_2*beta_2 - 195432666264528.0*alpha_2 + 408060369483879.0*beta_0 + 290371411176861.0*beta_2 - 55913958763299.0)],\n",
       "[                                               (86158.0*alpha_2 + 158208.0)*(-55643.0*beta_0 - 99857.0*beta_2 - 44297.0)/(2163448800.0*alpha_2*beta_0 - 2192915304.0*alpha_2*beta_2 - 3512259696.0*alpha_2 + 7333543653.0*beta_0 + 5218471527.0*beta_2 - 1004869593.0) + (99857.0*alpha_2 + 498613.0)*(89848.0*beta_0 + 86158.0*beta_2 + 6836.0)/(2163448800.0*alpha_2*beta_0 - 2192915304.0*alpha_2*beta_2 - 3512259696.0*alpha_2 + 7333543653.0*beta_0 + 5218471527.0*beta_2 - 1004869593.0)]])"
      ]
     },
     "execution_count": 23,
     "metadata": {},
     "output_type": "execute_result"
    }
   ],
   "source": [
    "sol.subs(alpha_1, 10)"
   ]
  },
  {
   "cell_type": "code",
   "execution_count": null,
   "id": "e30fdbd1-3d63-4675-a2b1-c7273572d8db",
   "metadata": {},
   "outputs": [],
   "source": [
    "sol = Matrix([[Matrix(sub1[:,1,0]),Matrix(sub1[:,0,1])]]).inv() @ Matrix(sub1[:,0,0])\n",
    "int1 = solveset(sol[0] >=0,k,S.Reals)\n",
    "int2 = solveset(sol[1] >=0,k,S.Reals)\n",
    "print(int1,int2)\n",
    "Intersection(int1,int2)"
   ]
  },
  {
   "cell_type": "code",
   "execution_count": 96,
   "id": "70cd7f11-a9ea-4dcf-96e1-62fddb975587",
   "metadata": {},
   "outputs": [
    {
     "name": "stdout",
     "output_type": "stream",
     "text": [
      "Union(Interval(-oo, 0.839228248611671), Interval.open(0.868894143731446, oo)) Interval.open(-oo, 0.868894143731446)\n"
     ]
    },
    {
     "data": {
      "text/latex": [
       "$\\displaystyle \\left(-\\infty, 0.839228248611671\\right]$"
      ],
      "text/plain": [
       "Interval(-oo, 0.839228248611671)"
      ]
     },
     "execution_count": 96,
     "metadata": {},
     "output_type": "execute_result"
    }
   ],
   "source": [
    "sol = Matrix([[Matrix(sub1[1,:,0]),Matrix(sub1[0,:,1])]]).inv() @ Matrix(sub1[1,:,1])\n",
    "int1 = solveset(sol[0] >=0,k,S.Reals)\n",
    "int2 = solveset(sol[1] >=0,k,S.Reals)\n",
    "print(int1,int2)\n",
    "Intersection(int1,int2)"
   ]
  },
  {
   "cell_type": "markdown",
   "id": "d7c01fdf-53d0-4a3e-87bf-80e2d296b6af",
   "metadata": {},
   "source": [
    "This next cell shows that for any $k \\in \\mathbb{R}$, the $2\\times 2\\times 2$ tensor formed by adding two of the three slices and keeping the other slice will have nonnegative rank three, contrary to our prior beliefs that this may be sufficient."
   ]
  },
  {
   "cell_type": "code",
   "execution_count": 100,
   "id": "ea766f55-f44d-4112-bae9-e87173baf162",
   "metadata": {},
   "outputs": [
    {
     "name": "stdout",
     "output_type": "stream",
     "text": [
      "Interval.open(-1.33200825223388, oo) Union(Interval.open(-oo, -1.33200825223388), Interval(-1.33129595766151, oo))\n"
     ]
    },
    {
     "data": {
      "text/latex": [
       "$\\displaystyle \\left[-1.33129595766151, \\infty\\right)$"
      ],
      "text/plain": [
       "Interval(-1.33129595766151, oo)"
      ]
     },
     "execution_count": 100,
     "metadata": {},
     "output_type": "execute_result"
    }
   ],
   "source": [
    "sol = Matrix([[Matrix(sub1[0,:,0]),Matrix(sub1[1,:,1])]]).inv() @ Matrix(sub1[1,:,0])\n",
    "int1 = solveset(sol[0] >=0,k,S.Reals)\n",
    "int2 = solveset(sol[1] >=0,k,S.Reals)\n",
    "print(int1,int2)\n",
    "Intersection(int1,int2)"
   ]
  },
  {
   "cell_type": "code",
   "execution_count": 107,
   "id": "bfccee7b-7b11-4f52-b981-f35b973cea6b",
   "metadata": {},
   "outputs": [
    {
     "data": {
      "text/plain": [
       "True"
      ]
     },
     "execution_count": 107,
     "metadata": {},
     "output_type": "execute_result"
    }
   ],
   "source": [
    "check(tens1)"
   ]
  },
  {
   "cell_type": "code",
   "execution_count": 17,
   "id": "d648c26d-1111-4f34-83db-32c53b1e3302",
   "metadata": {},
   "outputs": [
    {
     "data": {
      "text/plain": [
       "False"
      ]
     },
     "execution_count": 17,
     "metadata": {},
     "output_type": "execute_result"
    }
   ],
   "source": [
    "check_rank(tens,3,n=100)"
   ]
  },
  {
   "cell_type": "code",
   "execution_count": null,
   "id": "0298d2a3-25a2-434e-b83d-17a4f06477f8",
   "metadata": {},
   "outputs": [],
   "source": []
  }
 ],
 "metadata": {
  "kernelspec": {
   "display_name": "Python 3 (ipykernel)",
   "language": "python",
   "name": "python3"
  },
  "language_info": {
   "codemirror_mode": {
    "name": "ipython",
    "version": 3
   },
   "file_extension": ".py",
   "mimetype": "text/x-python",
   "name": "python",
   "nbconvert_exporter": "python",
   "pygments_lexer": "ipython3",
   "version": "3.9.1"
  }
 },
 "nbformat": 4,
 "nbformat_minor": 5
}
