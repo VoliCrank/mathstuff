{
 "cells": [
  {
   "cell_type": "code",
   "execution_count": 1,
   "id": "intimate-chaos",
   "metadata": {},
   "outputs": [],
   "source": [
    "import tensorly as tl\n",
    "import numpy as np\n",
    "from numpy import linalg as la\n",
    "from sympy import *\n",
    "from sympy import Matrix, symbols, solve_linear_system\n",
    "from sympy.solvers.inequalities import *\n",
    "from sympy.polys import Poly\n",
    "from sympy.abc import x\n",
    "from sympy.solvers.solveset import linsolve\n",
    "import time\n",
    "from joblib import Parallel, delayed\n",
    "x,y,z_1,z_2,z_3 = symbols('x y z_1 z_2 z_3')\n",
    "x,y,z1,z2,z3 ,b= symbols(\"x,y,z1,z2,z3,b\")\n",
    "p_112, p_102, p_002, p_012 = symbols('p_112 p_102 p_002 p_012')\n",
    "p_000, p_001, p_100, p_101, p_200, p_201, p_010, p_011, p_020, p_021, p_110, p_111, p_210, p_211, p_120, p_121, p_220, p_221 = symbols('p_000 p_001 p_100 p_101 p_200 p_201 p_010 p_011 p_020 p_021 p_110 p_111 p_210 p_211 p_120 p_121 p_220 p_221')"
   ]
  },
  {
   "cell_type": "code",
   "execution_count": 2,
   "id": "27f9f040-b028-40d9-a4cf-d06e5e5fe2dd",
   "metadata": {},
   "outputs": [],
   "source": [
    "from tensorly.decomposition import parafac\n",
    "from tensorly.decomposition import non_negative_parafac_hals\n",
    "\n",
    "def check_rank(tensor, rank, non_neg=True, n=10, tol=0.001, p=False):\n",
    "    if non_neg:\n",
    "        for k in range(n):\n",
    "            weights, factors = non_negative_parafac_hals(tensor, n_iter_max=1000000, rank=rank, init='random')\n",
    "            full = tl.cp_to_tensor((weights, factors))\n",
    "            diff = (full - tensor) / tensor\n",
    "            if p:\n",
    "                print(tl.max(abs(diff)))\n",
    "            if tl.max(abs(diff)) < tol:\n",
    "                return True\n",
    "    else:\n",
    "        for k in range(n):\n",
    "            weights, factors = parafac(tensor, n_iter_max=1000000, rank=rank)\n",
    "            full = tl.cp_to_tensor((weights, factors))\n",
    "            diff = (full - tensor) / tensor\n",
    "            if p:\n",
    "                print(tl.max(abs(diff)))\n",
    "            if tl.max(abs(diff)) < tol:\n",
    "                return True\n",
    "    return False"
   ]
  },
  {
   "cell_type": "code",
   "execution_count": 3,
   "id": "infrared-place",
   "metadata": {},
   "outputs": [],
   "source": [
    "#generates random rank 3 tensors\n",
    "def rank_tree(size = 100):\n",
    "    return (low_tensor(size) + low_tensor(size) + low_tensor(size)) \n",
    "\n",
    "# random tensor of some dim\n",
    "def rand_tensor(size = 100000):\n",
    "    return tl.tensor(np.random.randint(1, size, size=(3,2,2)))*1.0\n",
    "\n",
    "# generates rank 1 tensors\n",
    "def low_tensor(size = 100):\n",
    "    a = np.random.randint(1, size, size=3) \n",
    "    b = np.random.randint(1, size, size=2)\n",
    "    c = np.random.randint(1, size, size=2)\n",
    "    tens = tl.tensor(np.kron(np.kron(a, b), c).reshape(3, 2, 2)) * 1.0\n",
    "    return tens\n",
    "\n",
    "# checks if all subtensors have nonneg rank 3\n",
    "def check(t):\n",
    "    t1 = tl.tensor([t[0], t[1]])\n",
    "    t2 = tl.tensor([t[1], t[2]])\n",
    "    t3 = tl.tensor([t[0], t[2]])\n",
    "    a1 = det(Matrix(t1[0]))\n",
    "    a2 = det(Matrix(t1[1]))\n",
    "    a3 = det(Matrix(t2[0]))\n",
    "    a4 = det(Matrix(t2[1]))\n",
    "    b1 = det(Matrix(t1[:,0]))\n",
    "    b2 = det(Matrix(t1[:,1]))\n",
    "    b3 = det(Matrix(t2[:,0]))\n",
    "    b4 = det(Matrix(t2[:,1]))\n",
    "    c1 = det(Matrix(t1[:,:,0]))\n",
    "    c2 = det(Matrix(t1[:,:,1]))\n",
    "    c3 = det(Matrix(t2[:,:,0]))\n",
    "    c4 = det(Matrix(t2[:,:,1]))\n",
    "\n",
    "    a5 = det(Matrix(t3[0]))\n",
    "    a6 = det(Matrix(t3[1]))\n",
    "\n",
    "    b5 = det(Matrix(t3[:,0]))\n",
    "    b6 = det(Matrix(t3[:,1]))\n",
    "\n",
    "    c5 = det(Matrix(t3[:,:,0]))\n",
    "    c6 = det(Matrix(t3[:,:,1]))\n",
    "    return sgn([a1, a2,a3,a4,a5,a6]) or sgn([b1,b2,b3,b4,b5,b6]) or sgn([c1,c2,c3,c4,c5,c6])\n",
    "\n",
    "# determines sign of a list\n",
    "def sgn(a):\n",
    "    t = 0\n",
    "    ab = 0\n",
    "    for a_i in a:\n",
    "        t+= abs(a_i)\n",
    "        ab += a_i\n",
    "    return t == abs(ab)\n",
    "\n",
    "\n",
    "# checks if the give 2x2x2 tensor has nonneg rank 3\n",
    "def check_r3(t):\n",
    "    a1 = det(Matrix(t[0]))\n",
    "    a2 = det(Matrix(t[1]))\n",
    "    b1 = det(Matrix(t[:,0]))\n",
    "    b2 = det(Matrix(t[:,1]))\n",
    "    c1 = det(Matrix(t[:,:,0]))\n",
    "    c2 = det(Matrix(t[:,:,1]))\n",
    "    return sgn([a1,a2]) or sgn([b1,b2]) or sgn([c1,c2])\n",
    "\n",
    "# checks if given 2x2x2 has nonneg rank 2\n",
    "def check_r2(t):\n",
    "    a1 = det(Matrix(t[0]))\n",
    "    a2 = det(Matrix(t[1]))\n",
    "    b1 = det(Matrix(t[:,0]))\n",
    "    b2 = det(Matrix(t[:,1]))\n",
    "    c1 = det(Matrix(t[:,:,0]))\n",
    "    c2 = det(Matrix(t[:,:,1]))\n",
    "    d1 = ineq(a1,a2,b1,b2,c1,c2,ge,ge,ge)\n",
    "    d2 = ineq(a1,a2,b1,b2,c1,c2,le,le,ge)\n",
    "    d3 = ineq(a1,a2,b1,b2,c1,c2,le,ge,le)\n",
    "    d4 = ineq(a1,a2,b1,b2,c1,c2,ge,le,le)\n",
    "    supermod = d1 or d2 or d3 or d4\n",
    "    return supermod\n",
    "\n",
    "\n",
    "# helpers\n",
    "def ineq(a1,a2,b1,b2,c1,c2,f1,f2,f3):\n",
    "    t1 = f1(a1,0) and f1(a2,0)\n",
    "    t2 = f2(b1,0) and f2(b2,0)\n",
    "    t3 = f3(c1,0) and f3(c2,0)\n",
    "    return t1 and t2 and t3\n",
    "    \n",
    "def ge(a1,a2):\n",
    "    return a1 >= a2\n",
    "\n",
    "def le(a1,a2):\n",
    "    return a1 <= a2\n",
    "\n",
    "# Checks if 2x2x3 contains a 2x2x2 with nonneg 4\n",
    "def check_r4(t, upper = 1):\n",
    "    a1 = not check_r3(tl.tensor([t[0],t[1]]))\n",
    "    a2 = not check_r3(tl.tensor([t[0],t[2]]))\n",
    "    a3 = not check_r3(tl.tensor([t[1],t[2]]))\n",
    "    return (a1 + a2 + a3) >= upper\n",
    "\n",
    "def r2_sub(t, upper = 1):\n",
    "    a = check_r2(tl.tensor([t[0],t[1]]))\n",
    "    b = check_r2(tl.tensor([t[0],t[2]]))\n",
    "    c = check_r2(tl.tensor([t[2],t[1]]))\n",
    "    return (bool(a)+bool(b)+bool(c)) >= upper"
   ]
  },
  {
   "cell_type": "code",
   "execution_count": 4,
   "id": "muslim-collector",
   "metadata": {},
   "outputs": [],
   "source": [
    "def mat_inv(t):\n",
    "    tens = t.copy()\n",
    "    M_1 = Matrix([Matrix(tens[0][1]).transpose(),Matrix(tens[0][0]).transpose()])\n",
    "    M_2 = Matrix([Matrix(tens[1][1]).transpose(),Matrix(tens[1][0]).transpose()])\n",
    "    M_3 = Matrix([Matrix(tens[2][1]).transpose(),Matrix(tens[2][0]).transpose()])\n",
    "    tens[0] = M_1\n",
    "    tens[1] = M_2\n",
    "    tens[2] = M_3\n",
    "    return tens\n",
    "\n",
    "def mat_trans(t):\n",
    "    tens = t.copy()\n",
    "    tens[0] = tens[0].transpose()\n",
    "    tens[1] = tens[1].transpose()\n",
    "    tens[2] = tens[2].transpose()\n",
    "    return tens\n",
    "\n",
    "def rotate(t):\n",
    "    return mat_inv(mat_trans(t))\n",
    "\n",
    "\n",
    "def proc_tensor(t):\n",
    "    tens = t.copy()\n",
    "    M_b = Matrix([[Matrix(tens[:,0,0]), Matrix(tens[:,0,1]), Matrix(tens[:,1,1])]]).transpose()\n",
    "    M_a = Matrix([[Matrix(tens[:,0,0]), Matrix(tens[:,0,1]), Matrix(tens[:,1,0])]]).transpose()\n",
    "    if abs(M_a.det()) < 10:\n",
    "        print(\"warning det too small\")\n",
    "    a = 1\n",
    "    b = M_b.det() / M_a.det()\n",
    "    M = Matrix([[tens[0][0][0],0,a,0,0],[0,tens[0][0][1],b,0,0],\n",
    "                [tens[1][0][0],0,0,a,0],[0,tens[1][0][1],0,b,0],\n",
    "                [tens[2][0][0],0,0,0,a],[0,tens[2][0][1],0,0,b]])\n",
    "    R = Matrix([Matrix(tens[0,1]),Matrix(tens[1,1]),Matrix(tens[2,1])])\n",
    "    M_sub = Matrix(M[0:5,0:5])\n",
    "    #sol = np.array(np.array(M_sub.inv(), dtype = \"float\") @ np.array(Matrix(R[0:5]), dtype = \"float\"), dtype = \"float\")\n",
    "    sol = la.solve(np.array(M.T@M,dtype = \"float\"), np.array(M.T@R, dtype = \"float\"))\n",
    "    ret = np.append(np.array([b], dtype = \"float\"),sol)\n",
    "    return np.all(ret >=0)\n",
    "\n",
    "\n",
    "def test(tens):\n",
    "    ret = [0] *11\n",
    "    if proc_tensor(tens) or proc_tensor(mat_trans(tens)) or proc_tensor(mat_inv(tens)) or proc_tensor(rotate(tens)):\n",
    "        ret[1] = 1\n",
    "        ret[0] = 1\n",
    "    if check_simple(tens):\n",
    "        ret[2] = 1\n",
    "        if ret[0] == 0:\n",
    "            ret[8] = 1\n",
    "        ret[0] = 1\n",
    "    r2 = r2_sub(tens, upper = 2)\n",
    "    #ret[5] = r2\n",
    "    #if check_r4(tens, upper = 1):\n",
    "    #    ret[6] = 1\n",
    "    #    if r2_sub(tens, upper = 1):\n",
    "    #        ret[9] = 1\n",
    "    #        if ret[0] == 1:\n",
    "    #            ret[10] = 1\n",
    "    r4 = check_r4(tens)\n",
    "    if r4  and r2:\n",
    "        ret[3] = 1\n",
    "    if not r4 and r2:\n",
    "        ret[6] = 1\n",
    "        if ret[0] == 0:\n",
    "            ret[7] = 1\n",
    "    return ret\n",
    "\n",
    "def test_r2(tens):\n",
    "    A = Matrix(tens[0]) * Matrix(tens[1]).inv()\n",
    "    res1 = Matrix(A.eigenvects()[0][2])\n",
    "    res2 = Matrix(A.eigenvects()[1][2])\n",
    "\n",
    "    B = Matrix(tens[0]).transpose() * Matrix(tens[1]).transpose().inv()\n",
    "    res3 = Matrix(B.eigenvects()[0][2])\n",
    "    res4 = Matrix(B.eigenvects()[1][2])\n",
    "    \n",
    "    T1 = np.kron(res1,res3) * 1.0\n",
    "    T2 = np.kron(res2,res4) * 1.0\n",
    "    assert(np.all(T1 >= 0) or np.all(T1 <= 0))\n",
    "    assert(np.all(T2 >= 0) or np.all(T2 <= 0))\n",
    "    T1 = Matrix(abs(T1))\n",
    "    T2 = Matrix(abs(T2))\n",
    "\n",
    "    a = symbols('a')\n",
    "    M = Matrix([[T1,T2]])\n",
    "    A1 = Matrix([a,a,1,1])\n",
    "    A2 = Matrix([a,1,a,1])\n",
    "    M1 = Matrix([[M,A1,Matrix(tens[2].reshape(4))]])\n",
    "    M2 = Matrix([[M,A2,Matrix(tens[2].reshape(4))]])\n",
    "\n",
    "    a1 = solve(M1.det())[0]\n",
    "    A1 = Matrix([a1,a1,1,1])\n",
    "    M1 = Matrix([[M,A1,Matrix(tens[2].reshape(4))]])\n",
    "    M1_sub = M1[0:3,0:3]\n",
    "    R = M1[0:3,3]\n",
    "    d1 = False\n",
    "    if abs(M1_sub.det()) > 0:\n",
    "        c1 = np.array(M1_sub.inv() @ R, dtype = \"float\")\n",
    "        d1 = np.all(c1 >=0)\n",
    "\n",
    "    a2 = solve(M2.det())[0]\n",
    "    A2 = Matrix([a2,1,a2,1])\n",
    "    M2 = Matrix([[M,A2,Matrix(tens[2].reshape(4))]])\n",
    "    M2_sub = M2[0:3,0:3]\n",
    "    R = M2[0:3,3]\n",
    "    d2 = False\n",
    "    if abs(M2_sub.det()) > 0:\n",
    "        c2 = np.array(M2_sub.inv() @ R, dtype = \"float\")\n",
    "        d2 = np.all(c2 >=0)\n",
    "    return d1 or d2\n",
    "\n",
    "def check_comb(tens):\n",
    "    t = tens.copy()\n",
    "    a = check_r2(tl.tensor([t[0],t[1]]))\n",
    "    b = check_r2(tl.tensor([t[0],t[2]]))\n",
    "    c = check_r2(tl.tensor([t[1],t[2]]))\n",
    "    a1 = False\n",
    "    a2 = False\n",
    "    a3 = False\n",
    "    if a:\n",
    "        a1 = test_r2(t)\n",
    "        if a1:\n",
    "            return a1\n",
    "    if b:\n",
    "        a2 = test_r2(tl.tensor([t[0],t[2],t[1]]))\n",
    "        if a2:\n",
    "            return a2\n",
    "    if c:\n",
    "        a3 = test_r2(tl.tensor([t[1],t[2],t[0]]))\n",
    "        if a3:\n",
    "            return a3\n",
    "    return a1 or a2 or a3"
   ]
  },
  {
   "cell_type": "code",
   "execution_count": 5,
   "id": "5d42bd52-47a5-46da-a342-ba5bdbc4903a",
   "metadata": {},
   "outputs": [],
   "source": [
    "\n",
    "# assumes the nonnegative rank 2 subtensor are the first two slices\n",
    "def test_simple(tens, M, A1, tol = 0.0001):\n",
    "    a,b = symbols('a,b')\n",
    "    M1 = Matrix([[M,A1,Matrix(tens[2].reshape(4))]])\n",
    "    a1 = solve(M1.det(),a)[0]\n",
    "    A1 = A1.subs(a,a1)\n",
    "    M1 = Matrix([[M,A1,Matrix(tens[2].reshape(4))]])\n",
    "    M1_sub = M1[1:4,0:3]\n",
    "    R = M1[1:4,3]\n",
    "    res1 = M1_sub.inv() @ R\n",
    "    res1[0] = fraction(simplify(res1[0]))[0] * fraction(simplify(res1[0]))[1]\n",
    "    res1[1] = fraction(simplify(res1[1]))[0] * fraction(simplify(res1[1]))[1]\n",
    "    res1[2] = fraction(simplify(res1[2]))[0] * fraction(simplify(res1[2]))[1]\n",
    "    a2 = fraction(simplify(a1))[0] * fraction(simplify(a1))[1]\n",
    "    s1 = solveset(a2 >= 0, b, S.Reals)\n",
    "    s2 = solveset(res1[0] >= 0, b, S.Reals)\n",
    "    s3 = solveset(res1[1] >=0,b,S.Reals)\n",
    "    s4 = solveset(res1[2] >=0,b,S.Reals)\n",
    "    s5 = solveset(b >=0,b,S.Reals)\n",
    "    sol = Intersection(s1,s2,s3,s4,s5)\n",
    "    return sol.measure > tol\n",
    "\n",
    "\n",
    "# initializes the matrix with the appropriate rank 1 terms given the tensors has nonneg rank 2 subtensor\n",
    "def init_mat(tens):\n",
    "    A = Matrix(tens[0]) * Matrix(tens[1]).inv()\n",
    "    #a1\n",
    "    res1 = Matrix(A.eigenvects()[0][2])\n",
    "    #b1\n",
    "    res2 = Matrix(A.eigenvects()[1][2])\n",
    "\n",
    "    B = Matrix(tens[0]).transpose() * Matrix(tens[1]).transpose().inv()\n",
    "    #a2\n",
    "    res3 = Matrix(B.eigenvects()[0][2])\n",
    "    #b2\n",
    "    res4 = Matrix(B.eigenvects()[1][2])\n",
    "\n",
    "    T1 = np.kron(res1,res3) * 1.0\n",
    "    T2 = np.kron(res2,res4) * 1.0\n",
    "    assert(np.all(T1 >= 0) or np.all(T1 <= 0))\n",
    "    assert(np.all(T2 >= 0) or np.all(T2 <= 0))\n",
    "    T1 = Matrix(abs(T1))\n",
    "    T2 = Matrix(abs(T2))\n",
    "\n",
    "    return Matrix([[T1,T2]])\n",
    "    \n",
    "# checks if a given 2x2x3 has nonneg rank 2 subtensor and if it does check if the third slice is a linear combination\n",
    "def check_simple(tens):\n",
    "    t = tens.copy()\n",
    "    c1 = check_r2(tl.tensor([t[0],t[1]]))\n",
    "    c2 = check_r2(tl.tensor([t[0],t[2]]))\n",
    "    c3 = check_r2(tl.tensor([t[1],t[2]]))\n",
    "    a1 = False\n",
    "    a2 = False\n",
    "    a3 = False\n",
    "    if c1:\n",
    "        a,b = symbols('a,b')\n",
    "        A1 = Matrix([a*b,a,b,1])\n",
    "        A2 = Matrix([a,a*b,1,b])\n",
    "        A3 = Matrix([b,1,a*b,a])\n",
    "        A4 = Matrix([1,b,a,a*b])\n",
    "        temp = t\n",
    "        M = init_mat(temp)\n",
    "        a1 = test_simple(temp,M,A1) or test_simple(temp,M,A2) or test_simple(temp,M,A3) or test_simple(temp,M,A4)\n",
    "        if a1:\n",
    "            return a1\n",
    "    if c2:\n",
    "        a,b = symbols('a,b')\n",
    "        A1 = Matrix([a*b,a,b,1])\n",
    "        A2 = Matrix([a,a*b,1,b])\n",
    "        A3 = Matrix([b,1,a*b,a])\n",
    "        A4 = Matrix([1,b,a,a*b])\n",
    "        temp = tl.tensor([t[0],t[2],t[1]])\n",
    "        M = init_mat(temp)\n",
    "        a2 = test_simple(temp,M,A1) or test_simple(temp,M,A2) or test_simple(temp,M,A3) or test_simple(temp,M,A4)\n",
    "        if a2:\n",
    "            return a2\n",
    "    if c3:\n",
    "        a,b = symbols('a,b')\n",
    "        A1 = Matrix([a*b,a,b,1])\n",
    "        A2 = Matrix([a,a*b,1,b])\n",
    "        A3 = Matrix([b,1,a*b,a])\n",
    "        A4 = Matrix([1,b,a,a*b])\n",
    "        temp = tl.tensor([t[1],t[2],t[0]])\n",
    "        M = init_mat(temp)\n",
    "        a3 = test_simple(temp,M,A1) or test_simple(temp,M,A2) or test_simple(temp,M,A3) or test_simple(temp,M,A4)\n",
    "        if a3:\n",
    "            return a3\n",
    "    return False\n",
    "\n",
    "def loop_rotations(i):\n",
    "    tens = rand_tensor()\n",
    "    tens = rank_tree(size = 50)\n",
    "    tens = tensors[i]\n",
    "    ret = [0] *11\n",
    "    if proc_tensor(tens) or proc_tensor(mat_trans(tens)) or proc_tensor(mat_inv(tens)) or proc_tensor(rotate(tens)):\n",
    "        ret[1] = 1\n",
    "        ret[0] = 1\n",
    "    if check_simple(tens):\n",
    "        ret[2] = 1\n",
    "        if ret[0] == 0:\n",
    "            ret[8] = 1\n",
    "        ret[0] = 1\n",
    "    r2 = r2_sub(tens, upper = 2)\n",
    "    r4 = check_r4(tens)\n",
    "    if r4:\n",
    "        ret[4] = 1\n",
    "    if r4 and r2:\n",
    "        ret[3] = 1\n",
    "    if not r4 and r2:\n",
    "        ret[6] = 1\n",
    "        if ret[0] == 0:\n",
    "            ret[7] = 1\n",
    "    tensors[i] = (tensors[i],ret[0])\n",
    "    return ret\n",
    "\n",
    "def loop_rotations_old(i):\n",
    "    tens = rand_tensor()\n",
    "    tens = rank_tree(size = 50)\n",
    "    tens = tensors[i]\n",
    "    ret = [0] *11\n",
    "    if proc_tensor(tens) or proc_tensor(mat_trans(tens)) or proc_tensor(mat_inv(tens)) or proc_tensor(rotate(tens)):\n",
    "        ret[1] = 1\n",
    "        ret[0] = 1\n",
    "    if check_comb(tens):\n",
    "        ret[2] = 1\n",
    "        if ret[0] == 0:\n",
    "            ret[8] = 1\n",
    "        ret[0] = 1\n",
    "    r2 = r2_sub(tens, upper = 2)\n",
    "    r4 = check_r4(tens)\n",
    "    if r4:\n",
    "        ret[4] = 1\n",
    "    if r4 and r2:\n",
    "        ret[3] = 1\n",
    "    if not r4 and r2:\n",
    "        ret[6] = 1\n",
    "        if ret[0] == 0:\n",
    "            ret[7] = 1\n",
    "    return ret"
   ]
  },
  {
   "cell_type": "code",
   "execution_count": 22,
   "id": "under-custom",
   "metadata": {},
   "outputs": [
    {
     "name": "stdout",
     "output_type": "stream",
     "text": [
      "[904, 797, 440, 0, 0, 0, 544, 64, 107, 0, 0]\n",
      "124.45250034332275\n"
     ]
    }
   ],
   "source": [
    "te = time.time()\n",
    "total = 1000\n",
    "results = Parallel(n_jobs=6)(delayed(loop_rotations_old)(i) for i in range(total))\n",
    "res = [sum(x) for x in zip(*results)]\n",
    "print(res)\n",
    "print(time.time() - te)"
   ]
  },
  {
   "cell_type": "code",
   "execution_count": 21,
   "id": "b0805000-6ac3-47d4-bb26-45f8debdbad8",
   "metadata": {},
   "outputs": [
    {
     "name": "stdout",
     "output_type": "stream",
     "text": [
      "[947, 797, 653, 0, 0, 0, 544, 29, 150, 0, 0]\n",
      "429.4399995803833\n"
     ]
    }
   ],
   "source": [
    "te = time.time()\n",
    "total = 1000\n",
    "results = Parallel(n_jobs=6)(delayed(loop_rotations)(i) for i in range(total))\n",
    "res = [sum(x) for x in zip(*results)]\n",
    "print(res)\n",
    "print(time.time() - te)"
   ]
  },
  {
   "cell_type": "code",
   "execution_count": 307,
   "id": "77153a15-be33-4bb9-b995-822404bd3b37",
   "metadata": {},
   "outputs": [
    {
     "name": "stdout",
     "output_type": "stream",
     "text": [
      "[156, 132, 36, 0, 499, 0, 15, 2, 24, 0, 0]\n",
      "127.79600024223328\n"
     ]
    }
   ],
   "source": [
    "te = time.time()\n",
    "total = 1000\n",
    "results = Parallel(n_jobs=6)(delayed(loop_rotations_old)(i) for i in range(total))\n",
    "res = [sum(x) for x in zip(*results)]\n",
    "print(res)\n",
    "print(time.time() - te)"
   ]
  },
  {
   "cell_type": "code",
   "execution_count": 310,
   "id": "1be48640-8e78-41e4-8e13-fd959728f1da",
   "metadata": {},
   "outputs": [
    {
     "name": "stdout",
     "output_type": "stream",
     "text": [
      "[217, 132, 124, 0, 499, 0, 15, 0, 85, 0, 0]\n",
      "139.09999990463257\n"
     ]
    }
   ],
   "source": [
    "te = time.time()\n",
    "total = 1000\n",
    "results = Parallel(n_jobs=6)(delayed(loop_rotations)(i) for i in range(total))\n",
    "res = [sum(x) for x in zip(*results)]\n",
    "print(res)\n",
    "print(time.time() - te)"
   ]
  },
  {
   "cell_type": "code",
   "execution_count": 20,
   "id": "6715bb66-112e-432e-b312-81ee3b8a3258",
   "metadata": {},
   "outputs": [],
   "source": [
    "total = 10000\n",
    "tensors = []\n",
    "for i in range(total):\n",
    "    tensors.append(rank_tree(size = 50))"
   ]
  },
  {
   "cell_type": "code",
   "execution_count": null,
   "id": "398f69f6-3459-4ae4-ad63-eaed65f57bf0",
   "metadata": {},
   "outputs": [],
   "source": [
    "results = []\n",
    "for i in range(1000):\n",
    "    tens = tensors[i]\n",
    "    ret = [0] *11\n",
    "    if proc_tensor(tens) or proc_tensor(mat_trans(tens)) or proc_tensor(mat_inv(tens)) or proc_tensor(rotate(tens)):\n",
    "        ret[1] = 1\n",
    "        ret[0] = 1\n",
    "    if check_simple(tens):\n",
    "        ret[2] = 1\n",
    "        if ret[0] == 0:\n",
    "            ret[8] = 1\n",
    "        ret[0] = 1\n",
    "    r2 = r2_sub(tens, upper = 2)\n",
    "    r4 = check_r4(tens)\n",
    "    if r4:\n",
    "        ret[4] = 1\n",
    "    if r4 and r2:\n",
    "        ret[3] = 1\n",
    "    if not r4 and r2:\n",
    "        ret[6] = 1\n",
    "        if ret[0] == 0:\n",
    "            ret[7] = 1\n",
    "    tensors[i] = (tensors[i],max(ret[0],ret[4]))\n",
    "    results.append(ret)"
   ]
  },
  {
   "cell_type": "code",
   "execution_count": 328,
   "id": "0a6f4d17-61a1-459a-9902-c31733eb5ee8",
   "metadata": {},
   "outputs": [
    {
     "name": "stdout",
     "output_type": "stream",
     "text": [
      "[210, 130, 111, 0, 514, 0, 19, 0, 80, 0, 0]\n"
     ]
    }
   ],
   "source": [
    "res = [sum(x) for x in zip(*results)]\n",
    "print(res)"
   ]
  },
  {
   "cell_type": "code",
   "execution_count": null,
   "id": "7a90fc54-af06-4764-a655-78e45ccdfb81",
   "metadata": {},
   "outputs": [],
   "source": [
    "count = 0\n",
    "total_count = 0\n",
    "for i in range(1000):\n",
    "    if tensors[i][1] == 0:\n",
    "        total_count += 1\n",
    "        if (check_rank(tensors[i][0], rank = 3, n= 10)):\n",
    "            count += 1\n",
    "    print(i)\n",
    "print(count,total_count)"
   ]
  },
  {
   "cell_type": "code",
   "execution_count": 25,
   "id": "ebcd3a97-7389-488b-bb77-bfb31efdcef7",
   "metadata": {},
   "outputs": [
    {
     "name": "stdout",
     "output_type": "stream",
     "text": [
      "False True [1, 1, 1, 0, 0, 0, 1, 0, 0, 0, 0]\n"
     ]
    },
    {
     "data": {
      "text/plain": [
       "array([[[ 77600.,  79840.],\n",
       "        [ 47800.,  49775.]],\n",
       "\n",
       "       [[112778., 138056.],\n",
       "        [ 74110.,  94120.]],\n",
       "\n",
       "       [[100070., 118904.],\n",
       "        [ 62140.,  76885.]]])"
      ]
     },
     "execution_count": 25,
     "metadata": {},
     "output_type": "execute_result"
    }
   ],
   "source": [
    "c1 = False\n",
    "c2 = False\n",
    "c3 = False\n",
    "tens = rand_tensor()\n",
    "while not (c2):\n",
    "    tens = rank_tree(size = 60)\n",
    "    #sols = test(tens)\n",
    "    #c1 = sols[7] == 1\n",
    "    c2 = check_r2(tl.tensor([tens[0],tens[1]]))\n",
    "print(c1,c2,test(tens))\n",
    "tens"
   ]
  },
  {
   "cell_type": "code",
   "execution_count": 41,
   "id": "8096e2c7-d1d6-4e05-9fae-543c9f07f1ba",
   "metadata": {},
   "outputs": [
    {
     "data": {
      "text/latex": [
       "$\\displaystyle \\left[\\begin{matrix}0.609936995432978 & 0.399398615486779 & a & 100070.0\\\\0.599353276867403 & 0.725447999187899 & a b & 118904.0\\\\0.369767764447167 & 0.312303967807082 & 1 & 62140.0\\\\0.36335149853309 & 0.567253565233225 & b & 76885.0\\end{matrix}\\right]$"
      ],
      "text/plain": [
       "Matrix([\n",
       "[0.609936995432978, 0.399398615486779,   a, 100070.0],\n",
       "[0.599353276867403, 0.725447999187899, a*b, 118904.0],\n",
       "[0.369767764447167, 0.312303967807082,   1,  62140.0],\n",
       "[ 0.36335149853309, 0.567253565233225,   b,  76885.0]])"
      ]
     },
     "execution_count": 41,
     "metadata": {},
     "output_type": "execute_result"
    }
   ],
   "source": [
    "A = Matrix(tens[0]) * Matrix(tens[1]).inv()\n",
    "#a1\n",
    "res1 = Matrix(A.eigenvects()[0][2])\n",
    "#b1\n",
    "res2 = Matrix(A.eigenvects()[1][2])\n",
    "\n",
    "B = Matrix(tens[0]).transpose() * Matrix(tens[1]).transpose().inv()\n",
    "#a2\n",
    "res3 = Matrix(B.eigenvects()[0][2])\n",
    "#b2\n",
    "res4 = Matrix(B.eigenvects()[1][2])\n",
    "\n",
    "T1 = np.kron(res1,res3) * 1.0\n",
    "T2 = np.kron(res2,res4) * 1.0\n",
    "assert(np.all(T1 >= 0) or np.all(T1 <= 0))\n",
    "assert(np.all(T2 >= 0) or np.all(T2 <= 0))\n",
    "T1 = Matrix(abs(T1))\n",
    "T2 = Matrix(abs(T2))\n",
    "a,b = symbols('a,b')\n",
    "M = Matrix([[T1,T2]])\n",
    "A1 = Matrix([a*b,a,b,1])\n",
    "A2 = Matrix([a,a*b,1,b])\n",
    "M1 = Matrix([[M,A1,Matrix(tens[2].reshape(4))]])\n",
    "M2 = Matrix([[M,A2,Matrix(tens[2].reshape(4))]])\n",
    "M2"
   ]
  },
  {
   "cell_type": "code",
   "execution_count": 42,
   "id": "86d7b42a-3f25-42c2-9d85-d3811c49df0d",
   "metadata": {},
   "outputs": [
    {
     "data": {
      "text/latex": [
       "$\\displaystyle \\left[\\begin{matrix}0.609936995432978 & 0.399398615486779 & a b & 100070.0\\\\0.599353276867403 & 0.725447999187899 & a & 118904.0\\\\0.369767764447167 & 0.312303967807082 & b & 62140.0\\\\0.36335149853309 & 0.567253565233225 & 1 & 76885.0\\end{matrix}\\right]$"
      ],
      "text/plain": [
       "Matrix([\n",
       "[0.609936995432978, 0.399398615486779, a*b, 100070.0],\n",
       "[0.599353276867403, 0.725447999187899,   a, 118904.0],\n",
       "[0.369767764447167, 0.312303967807082,   b,  62140.0],\n",
       "[ 0.36335149853309, 0.567253565233225,   1,  76885.0]])"
      ]
     },
     "execution_count": 42,
     "metadata": {},
     "output_type": "execute_result"
    }
   ],
   "source": [
    "M1"
   ]
  },
  {
   "cell_type": "code",
   "execution_count": 27,
   "id": "67e7db5f-1af1-45f0-880c-3ed5bb3ce2b8",
   "metadata": {},
   "outputs": [
    {
     "data": {
      "text/latex": [
       "$\\displaystyle \\frac{0.133333333333333 \\left(312083889983438.0 b - 290572350449557.0\\right)}{31182034438243.0 b - 29548384845484.0}$"
      ],
      "text/plain": [
       "0.133333333333333*(312083889983438.0*b - 290572350449557.0)/(31182034438243.0*b - 29548384845484.0)"
      ]
     },
     "execution_count": 27,
     "metadata": {},
     "output_type": "execute_result"
    }
   ],
   "source": [
    "a1 = solve(M1.det(),a)[0]\n",
    "a1\n",
    "x1 = solve(M2.det(),a)[0]\n",
    "a1"
   ]
  },
  {
   "cell_type": "code",
   "execution_count": 28,
   "id": "4b42c6ae-036d-4005-9179-eb6b564d996f",
   "metadata": {},
   "outputs": [
    {
     "data": {
      "text/latex": [
       "$\\displaystyle \\left[\\begin{matrix}\\frac{76885.0 \\left(- 658748975029.015 b^{2} + 1002676437237.39 b - 352354435940.077\\right)}{69368983263.2118 b^{2} - 108785341530.997 b + 38865806927.4149} + \\frac{62140.0 \\left(0.0001220703125 b^{2} - 28630467847.2507 b + 15762631135.1484\\right)}{69368983263.2118 b^{2} - 108785341530.997 b + 38865806927.4149} + \\frac{118904.0 \\left(515099228472.964 b^{2} - 771702969359.745 b + 268732669997.578\\right)}{69368983263.2118 b^{2} - 108785341530.997 b + 38865806927.4149}\\\\\\frac{62140.0 \\left(176499745199.631 - 173437095050.392 b\\right)}{115739724700.894 b^{2} - 181504541194.099 b + 64846240819.0242} + \\frac{118904.0 \\left(- 550500524116.314 b^{2} + 1081880972177.39 b - 530871155189.459\\right)}{115739724700.894 b^{2} - 181504541194.099 b + 64846240819.0242} + \\frac{76885.0 \\left(908058159601.309 b^{2} - 1608077746493.19 b + 696062769165.078\\right)}{115739724700.894 b^{2} - 181504541194.099 b + 64846240819.0242}\\\\\\frac{118904.0 \\left(1705039814582.3 - 1799306814734.63 b\\right)}{1427706690911.84 b^{2} - 2238948196596.99 b + 799910420878.048} + \\frac{62140.0 \\left(1427706690911.84 b - 1352908093058.75\\right)}{1427706690911.84 b^{2} - 2238948196596.99 b + 799910420878.048} + \\frac{76885.0 \\left(1515063310152.22 b - 1435688035118.89\\right)}{1427706690911.84 b^{2} - 2238948196596.99 b + 799910420878.048}\\end{matrix}\\right]$"
      ],
      "text/plain": [
       "Matrix([\n",
       "[76885.0*(-658748975029.015*b**2 + 1002676437237.39*b - 352354435940.077)/(69368983263.2118*b**2 - 108785341530.997*b + 38865806927.4149) + 62140.0*(0.0001220703125*b**2 - 28630467847.2507*b + 15762631135.1484)/(69368983263.2118*b**2 - 108785341530.997*b + 38865806927.4149) + 118904.0*(515099228472.964*b**2 - 771702969359.745*b + 268732669997.578)/(69368983263.2118*b**2 - 108785341530.997*b + 38865806927.4149)],\n",
       "[                       62140.0*(176499745199.631 - 173437095050.392*b)/(115739724700.894*b**2 - 181504541194.099*b + 64846240819.0242) + 118904.0*(-550500524116.314*b**2 + 1081880972177.39*b - 530871155189.459)/(115739724700.894*b**2 - 181504541194.099*b + 64846240819.0242) + 76885.0*(908058159601.309*b**2 - 1608077746493.19*b + 696062769165.078)/(115739724700.894*b**2 - 181504541194.099*b + 64846240819.0242)],\n",
       "[                                                                         118904.0*(1705039814582.3 - 1799306814734.63*b)/(1427706690911.84*b**2 - 2238948196596.99*b + 799910420878.048) + 62140.0*(1427706690911.84*b - 1352908093058.75)/(1427706690911.84*b**2 - 2238948196596.99*b + 799910420878.048) + 76885.0*(1515063310152.22*b - 1435688035118.89)/(1427706690911.84*b**2 - 2238948196596.99*b + 799910420878.048)]])"
      ]
     },
     "execution_count": 28,
     "metadata": {},
     "output_type": "execute_result"
    }
   ],
   "source": [
    "A1 = Matrix([a1 *b,a1,b,1])\n",
    "M1 = Matrix([[M,A1,Matrix(tens[2].reshape(4))]])\n",
    "M1_sub = M1[1:4,0:3]\n",
    "R = M1[1:4,3]\n",
    "res = M1_sub.inv() @ R\n",
    "res"
   ]
  },
  {
   "cell_type": "code",
   "execution_count": 29,
   "id": "2015452a-9e3d-4c66-9ac8-4b74a9cbc825",
   "metadata": {},
   "outputs": [
    {
     "data": {
      "text/latex": [
       "$\\displaystyle \\left(8.28347063030712 \\cdot 10^{15} - 8.7414411248907 \\cdot 10^{15} b\\right) \\left(1427706690911.84 b^{2} - 2238948196596.99 b + 799910420878.048\\right)$"
      ],
      "text/plain": [
       "(8.28347063030712e+15 - 8.7414411248907e+15*b)*(1427706690911.84*b**2 - 2238948196596.99*b + 799910420878.048)"
      ]
     },
     "execution_count": 29,
     "metadata": {},
     "output_type": "execute_result"
    }
   ],
   "source": [
    "res1 = res.copy()\n",
    "res1[0] = fraction(simplify(res1[0]))[0] * fraction(simplify(res1[0]))[1]\n",
    "res1[1] = fraction(simplify(res1[1]))[0] * fraction(simplify(res1[1]))[1]\n",
    "res1[2] = fraction(simplify(res1[2]))[0] * fraction(simplify(res1[2]))[1]\n",
    "a2 = fraction(simplify(a1))[0] * fraction(simplify(a1))[1]\n",
    "res1[2]"
   ]
  },
  {
   "cell_type": "code",
   "execution_count": 30,
   "id": "da93ee77-509f-4fc2-bb1e-952d6ade29ab",
   "metadata": {},
   "outputs": [],
   "source": [
    "s1 = solveset(a2 >= 0, b, S.Reals)\n",
    "s2 = solveset(res1[0] >= 0, b, S.Reals)\n",
    "s3 = solveset(res1[1] >=0,b,S.Reals)\n",
    "s4 = solveset(res1[2] >=0,b,S.Reals)\n",
    "s5 = solveset(b >=0,b,S.Reals)"
   ]
  },
  {
   "cell_type": "code",
   "execution_count": 39,
   "id": "6bc55418-5d32-45e5-9745-2a530cbc5160",
   "metadata": {},
   "outputs": [
    {
     "data": {
      "text/latex": [
       "$\\displaystyle \\left[0, 0.306961013319376\\right] \\cup \\left\\{0.550554437994015\\right\\} \\cup \\left[0.947609268535878, 1.00112031990167\\right]$"
      ],
      "text/plain": [
       "Union({0.550554437994015}, Interval(0, 0.306961013319376), Interval(0.947609268535878, 1.00112031990167))"
      ]
     },
     "execution_count": 39,
     "metadata": {},
     "output_type": "execute_result"
    }
   ],
   "source": [
    "sol = Intersection(s1,s2,s3,s4,s5)\n",
    "sol"
   ]
  },
  {
   "cell_type": "code",
   "execution_count": 43,
   "id": "12480c78-390e-4340-9b86-9fc96371288c",
   "metadata": {},
   "outputs": [
    {
     "name": "stdout",
     "output_type": "stream",
     "text": [
      "1.75570408972474\n"
     ]
    },
    {
     "data": {
      "text/latex": [
       "$\\displaystyle \\left[\\begin{matrix}9694.03082079999\\\\58078.9286549668\\\\40417.1800299801\\end{matrix}\\right]$"
      ],
      "text/plain": [
       "Matrix([\n",
       "[9694.03082079999],\n",
       "[58078.9286549668],\n",
       "[40417.1800299801]])"
      ]
     },
     "execution_count": 43,
     "metadata": {},
     "output_type": "execute_result"
    }
   ],
   "source": [
    "b1 = 1\n",
    "a3 = a1.subs(b,b1)\n",
    "A1 = Matrix([a3 *b1,a3,b1,1])\n",
    "M1 = Matrix([[M,A1,Matrix(tens[2].reshape(4))]])\n",
    "M1_sub = M1[1:4,0:3]\n",
    "R = M1[1:4,3]\n",
    "print(a3)\n",
    "sol = M1_sub.inv() @ R\n",
    "sol"
   ]
  },
  {
   "cell_type": "code",
   "execution_count": 44,
   "id": "476b241a-d1f6-4f27-b5b6-93d783953170",
   "metadata": {},
   "outputs": [
    {
     "data": {
      "text/latex": [
       "$\\displaystyle \\left[\\begin{matrix}0.609936995432978 & 0.399398615486779\\\\0.599353276867403 & 0.725447999187899\\\\0.369767764447167 & 0.312303967807082\\\\0.36335149853309 & 0.567253565233225\\end{matrix}\\right]$"
      ],
      "text/plain": [
       "Matrix([\n",
       "[0.609936995432978, 0.399398615486779],\n",
       "[0.599353276867403, 0.725447999187899],\n",
       "[0.369767764447167, 0.312303967807082],\n",
       "[ 0.36335149853309, 0.567253565233225]])"
      ]
     },
     "execution_count": 44,
     "metadata": {},
     "output_type": "execute_result"
    }
   ],
   "source": [
    "M"
   ]
  },
  {
   "cell_type": "code",
   "execution_count": 45,
   "id": "ddc8a2c5-affc-4cc4-8dfc-bd78c5c9da53",
   "metadata": {},
   "outputs": [
    {
     "data": {
      "text/plain": [
       "array([[[ 77600.,  79840.],\n",
       "        [ 47800.,  49775.]],\n",
       "\n",
       "       [[112778., 138056.],\n",
       "        [ 74110.,  94120.]],\n",
       "\n",
       "       [[100070., 118904.],\n",
       "        [ 62140.,  76885.]]])"
      ]
     },
     "execution_count": 45,
     "metadata": {},
     "output_type": "execute_result"
    }
   ],
   "source": [
    "tens"
   ]
  },
  {
   "cell_type": "code",
   "execution_count": 46,
   "id": "074bb511-8e93-4a41-9629-a61f39d1a401",
   "metadata": {},
   "outputs": [
    {
     "data": {
      "text/latex": [
       "$\\displaystyle 76884.9999999998$"
      ],
      "text/plain": [
       "76884.9999999998"
      ]
     },
     "execution_count": 46,
     "metadata": {},
     "output_type": "execute_result"
    }
   ],
   "source": [
    "sol[0] * M[3,0] + sol[1] * M[3,1] + sol[2] "
   ]
  },
  {
   "cell_type": "code",
   "execution_count": 47,
   "id": "a6d24024-d9f9-45bf-b8b4-7bc9514714f8",
   "metadata": {},
   "outputs": [
    {
     "data": {
      "text/latex": [
       "$\\displaystyle \\left[\\begin{matrix}\\frac{76885.0 \\left(- 352354435940.077 b^{2} + 1002676437237.39 b - 658748975029.015\\right)}{38865806927.4149 b^{2} - 108785341530.997 b + 69368983263.2118} + \\frac{62140.0 \\left(15762631135.1484 b^{2} - 28630467847.2507 b + 0.0001220703125\\right)}{38865806927.4149 b^{2} - 108785341530.997 b + 69368983263.2118} + \\frac{118904.0 \\left(268732669997.578 b^{2} - 771702969359.745 b + 515099228472.964\\right)}{38865806927.4149 b^{2} - 108785341530.997 b + 69368983263.2118}\\\\\\frac{62140.0 \\left(176499745199.631 b^{2} - 173437095050.392 b\\right)}{64846240819.0242 b^{2} - 181504541194.099 b + 115739724700.894} + \\frac{118904.0 \\left(- 530871155189.459 b^{2} + 1081880972177.39 b - 550500524116.314\\right)}{64846240819.0242 b^{2} - 181504541194.099 b + 115739724700.894} + \\frac{76885.0 \\left(696062769165.078 b^{2} - 1608077746493.19 b + 908058159601.309\\right)}{64846240819.0242 b^{2} - 181504541194.099 b + 115739724700.894}\\\\\\frac{62140.0 \\left(1427706690911.84 - 1352908093058.75 b\\right)}{799910420878.048 b^{2} - 2238948196596.99 b + 1427706690911.84} + \\frac{76885.0 \\left(1515063310152.22 - 1435688035118.89 b\\right)}{799910420878.048 b^{2} - 2238948196596.99 b + 1427706690911.84} + \\frac{118904.0 \\left(1705039814582.3 b - 1799306814734.63\\right)}{799910420878.048 b^{2} - 2238948196596.99 b + 1427706690911.84}\\end{matrix}\\right]$"
      ],
      "text/plain": [
       "Matrix([\n",
       "[76885.0*(-352354435940.077*b**2 + 1002676437237.39*b - 658748975029.015)/(38865806927.4149*b**2 - 108785341530.997*b + 69368983263.2118) + 62140.0*(15762631135.1484*b**2 - 28630467847.2507*b + 0.0001220703125)/(38865806927.4149*b**2 - 108785341530.997*b + 69368983263.2118) + 118904.0*(268732669997.578*b**2 - 771702969359.745*b + 515099228472.964)/(38865806927.4149*b**2 - 108785341530.997*b + 69368983263.2118)],\n",
       "[                  62140.0*(176499745199.631*b**2 - 173437095050.392*b)/(64846240819.0242*b**2 - 181504541194.099*b + 115739724700.894) + 118904.0*(-530871155189.459*b**2 + 1081880972177.39*b - 550500524116.314)/(64846240819.0242*b**2 - 181504541194.099*b + 115739724700.894) + 76885.0*(696062769165.078*b**2 - 1608077746493.19*b + 908058159601.309)/(64846240819.0242*b**2 - 181504541194.099*b + 115739724700.894)],\n",
       "[                                                                         62140.0*(1427706690911.84 - 1352908093058.75*b)/(799910420878.048*b**2 - 2238948196596.99*b + 1427706690911.84) + 76885.0*(1515063310152.22 - 1435688035118.89*b)/(799910420878.048*b**2 - 2238948196596.99*b + 1427706690911.84) + 118904.0*(1705039814582.3*b - 1799306814734.63)/(799910420878.048*b**2 - 2238948196596.99*b + 1427706690911.84)]])"
      ]
     },
     "execution_count": 47,
     "metadata": {},
     "output_type": "execute_result"
    }
   ],
   "source": [
    "A2 = Matrix([x1,x1*b,1,b])\n",
    "M2 = Matrix([[M,A2,Matrix(tens[2].reshape(4))]])\n",
    "M2_sub = M2[1:4,0:3]\n",
    "R = M2[1:4,3]\n",
    "res = M2_sub.inv() @ R\n",
    "res"
   ]
  },
  {
   "cell_type": "code",
   "execution_count": 48,
   "id": "e223eb15-dd08-46e2-8ed7-cee8e4bad5f6",
   "metadata": {},
   "outputs": [
    {
     "data": {
      "text/latex": [
       "$\\displaystyle \\left[0.998880933810523, 1.05528727208955\\right] \\cup \\left[3.25774269893864, \\infty\\right)$"
      ],
      "text/plain": [
       "Union(Interval(0.998880933810523, 1.05528727208955), Interval(3.25774269893864, oo))"
      ]
     },
     "execution_count": 48,
     "metadata": {},
     "output_type": "execute_result"
    }
   ],
   "source": [
    "res1 = res.copy()\n",
    "res1[0] = fraction(simplify(res1[0]))[0] * fraction(simplify(res1[0]))[1]\n",
    "res1[0] = expand(res1[0])\n",
    "res1[1] = fraction(simplify(res1[1]))[0] * fraction(simplify(res1[1]))[1]\n",
    "res1[1] = expand(res1[1])\n",
    "res1[2] = fraction(simplify(res1[2]))[0] * fraction(simplify(res1[2]))[1]\n",
    "res1[2] = expand(res1[2])\n",
    "x2 = fraction(simplify(x1))[0] * fraction(simplify(x1))[1]\n",
    "s1 = solveset(x2 >= 0, b, S.Reals)\n",
    "s2 = solveset(res1[0] >= 0, b, S.Reals)\n",
    "s3 = solveset(res1[1] >=0,b,S.Reals)\n",
    "s4 = solveset(res1[2] >=0,b,S.Reals)\n",
    "s5 = solveset(b >= 0,b,S.Reals)\n",
    "sol = Intersection(s1,s2,s3,s4,s5)\n",
    "sol"
   ]
  },
  {
   "cell_type": "code",
   "execution_count": 49,
   "id": "5db546ff-5651-4ec2-9467-3ed3378fa4b5",
   "metadata": {},
   "outputs": [
    {
     "name": "stdout",
     "output_type": "stream",
     "text": [
      "1.30842316219051\n"
     ]
    },
    {
     "data": {
      "text/latex": [
       "$\\displaystyle \\left[\\begin{matrix}150044.266458094\\\\17301.3223127297\\\\1255.19541710081\\end{matrix}\\right]$"
      ],
      "text/plain": [
       "Matrix([\n",
       "[150044.266458094],\n",
       "[17301.3223127297],\n",
       "[1255.19541710081]])"
      ]
     },
     "execution_count": 49,
     "metadata": {},
     "output_type": "execute_result"
    }
   ],
   "source": [
    "b1 = 10\n",
    "a3 = x1.subs(b,b1)\n",
    "A2 = Matrix([a3,a3*b1,1,b1])\n",
    "M1 = Matrix([[M,A2,Matrix(tens[2].reshape(4))]])\n",
    "M1_sub = M1[1:4,0:3]\n",
    "R = M1[1:4,3]\n",
    "print(a3)\n",
    "sol = M1_sub.inv() @ R\n",
    "sol"
   ]
  },
  {
   "cell_type": "code",
   "execution_count": 22,
   "id": "e7f8b045-39f1-4fe4-92e4-233d5f0a30be",
   "metadata": {},
   "outputs": [
    {
     "data": {
      "text/latex": [
       "$\\displaystyle 38022.0$"
      ],
      "text/plain": [
       "38022.0000000000"
      ]
     },
     "execution_count": 22,
     "metadata": {},
     "output_type": "execute_result"
    }
   ],
   "source": [
    "sol[0] * M[3,0] + sol[1] * M[3,1] + sol[2] *b1"
   ]
  },
  {
   "cell_type": "code",
   "execution_count": 534,
   "id": "86d18fbe-e328-4685-a247-e398e1216b6f",
   "metadata": {},
   "outputs": [
    {
     "data": {
      "text/latex": [
       "$\\displaystyle \\left[\\begin{matrix}- \\frac{1670.0 \\left(- 38235434973269.5 b^{2} + 6232566579894.77 b\\right)}{335415311473722.0 b - 735361505608343.0} + \\frac{8204.0 \\left(- 475872744554206.0 b^{2} + 724412708259327.0 b - 105438647461885.0\\right)}{335415311473722.0 b - 735361505608343.0} + \\frac{5748.0 \\left(336814697480797.0 b^{2} - 831567417226825.0 b + 126600258732122.0\\right)}{335415311473722.0 b - 735361505608343.0}\\\\\\frac{1670.0 \\left(245631480973854.0 b^{2} - 589294909971145.0 b\\right)}{335415311473722.0 b - 735361505608343.0} - \\frac{8204.0 \\left(- 180547267144371.0 b^{2} + 678565084187433.0 b - 588772728633766.0\\right)}{335415311473722.0 b - 735361505608343.0} - \\frac{5748.0 \\left(127788308660508.0 b^{2} - 341107606986848.0 b + 82842074462712.2\\right)}{335415311473722.0 b - 735361505608343.0}\\\\6441.55596576705\\end{matrix}\\right]$"
      ],
      "text/plain": [
       "Matrix([\n",
       "[-1670.0*(-38235434973269.5*b**2 + 6232566579894.77*b)/(335415311473722.0*b - 735361505608343.0) + 8204.0*(-475872744554206.0*b**2 + 724412708259327.0*b - 105438647461885.0)/(335415311473722.0*b - 735361505608343.0) + 5748.0*(336814697480797.0*b**2 - 831567417226825.0*b + 126600258732122.0)/(335415311473722.0*b - 735361505608343.0)],\n",
       "[ 1670.0*(245631480973854.0*b**2 - 589294909971145.0*b)/(335415311473722.0*b - 735361505608343.0) - 8204.0*(-180547267144371.0*b**2 + 678565084187433.0*b - 588772728633766.0)/(335415311473722.0*b - 735361505608343.0) - 5748.0*(127788308660508.0*b**2 - 341107606986848.0*b + 82842074462712.2)/(335415311473722.0*b - 735361505608343.0)],\n",
       "[                                                                                                                                                                                                                                                                                                                            6441.55596576705]])"
      ]
     },
     "execution_count": 534,
     "metadata": {},
     "output_type": "execute_result"
    }
   ],
   "source": [
    "A1 = Matrix([a1 *b,a1,b,1])\n",
    "M1 = Matrix([[M,A1,Matrix(tens[2].reshape(4))]])\n",
    "M2_sub = M1[0:3,0:3]\n",
    "R = M1[0:3,3]\n",
    "res = M2_sub.adjugate() @ R\n",
    "res"
   ]
  },
  {
   "cell_type": "code",
   "execution_count": 535,
   "id": "d9e2dbcc-ccf5-411e-ab43-e1152b54d0c6",
   "metadata": {},
   "outputs": [
    {
     "data": {
      "text/plain": [
       "[0.163004986977442 - 0.e-23*I,\n",
       " 0.442407478548126 + 0.e-20*I,\n",
       " 2.1923909864978 - 0.e-22*I]"
      ]
     },
     "execution_count": 535,
     "metadata": {},
     "output_type": "execute_result"
    }
   ],
   "source": [
    "res1 = res.copy()\n",
    "res1[0] = fraction(simplify(res[0]))[0] * fraction(simplify(res[0]))[1]\n",
    "res1[0] = expand(res1[0])\n",
    "solve(res1[0],b)"
   ]
  },
  {
   "cell_type": "code",
   "execution_count": 536,
   "id": "88773dbf-2feb-4af1-949d-adf8e656bbd9",
   "metadata": {},
   "outputs": [
    {
     "data": {
      "text/plain": [
       "[1.5687735388356 + 0.e-22*I,\n",
       " 2.1923909864982 + 0.e-23*I,\n",
       " 2.39910172602749 - 0.e-23*I]"
      ]
     },
     "execution_count": 536,
     "metadata": {},
     "output_type": "execute_result"
    }
   ],
   "source": [
    "res1[1] = fraction(simplify(res1[1]))[0] * fraction(simplify(res1[1]))[1]\n",
    "res1[1] = expand(res1[1])\n",
    "solve(res1[1],b)"
   ]
  },
  {
   "cell_type": "code",
   "execution_count": 537,
   "id": "1dc82e0c-c5c4-44a0-b99f-80dd191ce8eb",
   "metadata": {},
   "outputs": [
    {
     "data": {
      "text/plain": [
       "[]"
      ]
     },
     "execution_count": 537,
     "metadata": {},
     "output_type": "execute_result"
    }
   ],
   "source": [
    "solve(res1[2],b)"
   ]
  },
  {
   "cell_type": "code",
   "execution_count": 538,
   "id": "24467d02-d1ba-4767-ac53-a375ac6fc330",
   "metadata": {},
   "outputs": [
    {
     "name": "stdout",
     "output_type": "stream",
     "text": [
      "1.58951841958048e+29\n"
     ]
    },
    {
     "data": {
      "text/plain": [
       "[1.35927742265699, 2.19239098649781]"
      ]
     },
     "execution_count": 538,
     "metadata": {},
     "output_type": "execute_result"
    }
   ],
   "source": [
    "a2 = fraction(simplify(a1))[0] * fraction(simplify(a1))[1]\n",
    "print(LC(a2))\n",
    "solve(a2,b)"
   ]
  },
  {
   "cell_type": "code",
   "execution_count": 393,
   "id": "51bd0ebb-b1c2-49c0-a86d-6915799410e0",
   "metadata": {},
   "outputs": [
    {
     "data": {
      "text/latex": [
       "$\\displaystyle \\left[\\begin{matrix}20064.5114342207\\\\16074.895707293\\\\115.74843886333\\end{matrix}\\right]$"
      ],
      "text/plain": [
       "Matrix([\n",
       "[20064.5114342207],\n",
       "[ 16074.895707293],\n",
       "[ 115.74843886333]])"
      ]
     },
     "execution_count": 393,
     "metadata": {},
     "output_type": "execute_result"
    }
   ],
   "source": [
    "b1 = 2\n",
    "a3= a1.subs(b,b1)\n",
    "A1 = Matrix([a3 *b1,a3,b1,1])\n",
    "M1 = Matrix([[M,A1,Matrix(tens[2].reshape(4))]])\n",
    "M1_sub = M1[0:3,0:3]\n",
    "R = M1[0:3,3]\n",
    "M1_sub.inv() @ R"
   ]
  },
  {
   "cell_type": "code",
   "execution_count": 285,
   "id": "ff365200-b05c-44d1-b8fc-08b523c134c6",
   "metadata": {},
   "outputs": [
    {
     "name": "stdout",
     "output_type": "stream",
     "text": [
      "False True [1, 1, 1, 1, 1, 1, 0, 0, 0, 0, 0]\n"
     ]
    },
    {
     "data": {
      "text/plain": [
       "array([[[ 66614.,  79482.],\n",
       "        [194482., 223170.]],\n",
       "\n",
       "       [[ 52986.,  64296.],\n",
       "        [149370., 176632.]],\n",
       "\n",
       "       [[ 91325., 106374.],\n",
       "        [194521., 205894.]]])"
      ]
     },
     "execution_count": 285,
     "metadata": {},
     "output_type": "execute_result"
    }
   ],
   "source": [
    "c1 = False\n",
    "c2 = False\n",
    "c3 = False\n",
    "tens = rand_tensor()\n",
    "while not (c2 ):\n",
    "    tens = rank_tree(size = 60)\n",
    "    sols = test(tens)\n",
    "    c1 = sols[7] == 1\n",
    "    c2 = check_r2(tl.tensor([tens[0],tens[1]]))\n",
    "print(c1,c2,test(tens))\n",
    "tens"
   ]
  },
  {
   "cell_type": "code",
   "execution_count": 286,
   "id": "a41e5e43-0e76-4881-bcf0-ef64f0215ad6",
   "metadata": {},
   "outputs": [
    {
     "name": "stdout",
     "output_type": "stream",
     "text": [
      "False\n"
     ]
    }
   ],
   "source": [
    "a,b = symbols('a,b')\n",
    "A1 = Matrix([a*b,a,b,1])\n",
    "A2 = Matrix([a,a,b,b])\n",
    "M = init_mat(tens)\n",
    "print(test_simple(tens,M,A2))"
   ]
  },
  {
   "cell_type": "code",
   "execution_count": 296,
   "id": "81e8fdc8-8a2e-4525-a05d-ffd7919facf5",
   "metadata": {},
   "outputs": [],
   "source": [
    "for i in range(100):\n",
    "    c1 = False\n",
    "    c2 = False\n",
    "    c3 = False\n",
    "    tens = rank_tree()\n",
    "    while not (c2):\n",
    "        tens = rank_tree(size = 60)\n",
    "        c2 = check_r2(tl.tensor([tens[0],tens[1]]))\n",
    "    M = init_mat(tens)\n",
    "    a,b = symbols('a,b')\n",
    "    A2 = Matrix([a,a,b,b])\n",
    "    if test_simple(tens,M,A2):\n",
    "        if test(tens)[0] != 1:\n",
    "            print(\"yes\")\n",
    "    "
   ]
  },
  {
   "cell_type": "code",
   "execution_count": null,
   "id": "5b6048ab-2b17-4cea-9e0f-37723f108f1f",
   "metadata": {},
   "outputs": [],
   "source": []
  }
 ],
 "metadata": {
  "kernelspec": {
   "display_name": "Python 3 (ipykernel)",
   "language": "python",
   "name": "python3"
  },
  "language_info": {
   "codemirror_mode": {
    "name": "ipython",
    "version": 3
   },
   "file_extension": ".py",
   "mimetype": "text/x-python",
   "name": "python",
   "nbconvert_exporter": "python",
   "pygments_lexer": "ipython3",
   "version": "3.9.1"
  }
 },
 "nbformat": 4,
 "nbformat_minor": 5
}
