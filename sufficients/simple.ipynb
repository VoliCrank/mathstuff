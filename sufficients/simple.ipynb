{
 "cells": [
  {
   "cell_type": "code",
   "execution_count": 2,
   "id": "intimate-chaos",
   "metadata": {},
   "outputs": [],
   "source": [
    "import tensorly as tl\n",
    "import numpy as np\n",
    "from numpy import linalg as la\n",
    "from sympy import *\n",
    "from sympy import Matrix, symbols, solve_linear_system\n",
    "from sympy.solvers.solveset import linsolve\n",
    "import time\n",
    "from joblib import Parallel, delayed\n",
    "x,y,z_1,z_2,z_3 = symbols('x y z_1 z_2 z_3')\n",
    "x,y,z1,z2,z3 ,b= symbols(\"x,y,z1,z2,z3,b\")\n",
    "p_112, p_102, p_002, p_012 = symbols('p_112 p_102 p_002 p_012')\n",
    "p_000, p_001, p_100, p_101, p_200, p_201, p_010, p_011, p_020, p_021, p_110, p_111, p_210, p_211, p_120, p_121, p_220, p_221 = symbols('p_000 p_001 p_100 p_101 p_200 p_201 p_010 p_011 p_020 p_021 p_110 p_111 p_210 p_211 p_120 p_121 p_220 p_221')"
   ]
  },
  {
   "cell_type": "code",
   "execution_count": 3,
   "id": "27f9f040-b028-40d9-a4cf-d06e5e5fe2dd",
   "metadata": {},
   "outputs": [],
   "source": [
    "from tensorly.decomposition import parafac\n",
    "from tensorly.decomposition import non_negative_parafac_hals\n",
    "\n",
    "def check_rank(tensor, rank, non_neg=True, n=10, tol=0.001, p=False):\n",
    "    if non_neg:\n",
    "        for k in range(n):\n",
    "            weights, factors = non_negative_parafac_hals(tensor, n_iter_max=1000000, rank=rank, init='random')\n",
    "            full = tl.cp_to_tensor((weights, factors))\n",
    "            diff = (full - tensor) / tensor\n",
    "            if p:\n",
    "                print(factors)\n",
    "                print(tl.max(abs(diff)))\n",
    "            if tl.max(abs(diff)) < tol:\n",
    "                return True\n",
    "    else:\n",
    "        for k in range(n):\n",
    "            weights, factors = parafac(tensor, n_iter_max=1000000, rank=rank)\n",
    "            full = tl.cp_to_tensor((weights, factors))\n",
    "            diff = (full - tensor) / tensor\n",
    "            if p:\n",
    "                print(tl.max(abs(diff)))\n",
    "            if tl.max(abs(diff)) < tol:\n",
    "                return True\n",
    "    return False"
   ]
  },
  {
   "cell_type": "code",
   "execution_count": 4,
   "id": "infrared-place",
   "metadata": {},
   "outputs": [],
   "source": [
    "#generates random rank 3 tensors\n",
    "def rank_tree(size = 100):\n",
    "    return (low_tensor(size) + low_tensor(size) + low_tensor(size)) \n",
    "\n",
    "# random tensor of some dim\n",
    "def rand_tensor(size = 100000):\n",
    "    return tl.tensor(np.random.randint(1, size, size=(3,2,2)))*1.0\n",
    "\n",
    "# generates rank 1 tensors\n",
    "def low_tensor(size = 100):\n",
    "    a = np.random.randint(1, size, size=3) \n",
    "    b = np.random.randint(1, size, size=2)\n",
    "    c = np.random.randint(1, size, size=2)\n",
    "    tens = tl.tensor(np.kron(np.kron(a, b), c).reshape(3, 2, 2)) * 1.0\n",
    "    return tens\n",
    "\n",
    "# checks if all subtensors have nonneg rank 3\n",
    "def check(t):\n",
    "    t1 = tl.tensor([t[0], t[1]])\n",
    "    t2 = tl.tensor([t[1], t[2]])\n",
    "    t3 = tl.tensor([t[0], t[2]])\n",
    "    a1 = det(Matrix(t1[0]))\n",
    "    a2 = det(Matrix(t1[1]))\n",
    "    a3 = det(Matrix(t2[0]))\n",
    "    a4 = det(Matrix(t2[1]))\n",
    "    b1 = det(Matrix(t1[:,0]))\n",
    "    b2 = det(Matrix(t1[:,1]))\n",
    "    b3 = det(Matrix(t2[:,0]))\n",
    "    b4 = det(Matrix(t2[:,1]))\n",
    "    c1 = det(Matrix(t1[:,:,0]))\n",
    "    c2 = det(Matrix(t1[:,:,1]))\n",
    "    c3 = det(Matrix(t2[:,:,0]))\n",
    "    c4 = det(Matrix(t2[:,:,1]))\n",
    "\n",
    "    a5 = det(Matrix(t3[0]))\n",
    "    a6 = det(Matrix(t3[1]))\n",
    "\n",
    "    b5 = det(Matrix(t3[:,0]))\n",
    "    b6 = det(Matrix(t3[:,1]))\n",
    "\n",
    "    c5 = det(Matrix(t3[:,:,0]))\n",
    "    c6 = det(Matrix(t3[:,:,1]))\n",
    "    return sgn([a1, a2,a3,a4,a5,a6]) or sgn([b1,b2,b3,b4,b5,b6]) or sgn([c1,c2,c3,c4,c5,c6])\n",
    "\n",
    "# determines sign of a list\n",
    "def sgn(a):\n",
    "    t = 0\n",
    "    ab = 0\n",
    "    for a_i in a:\n",
    "        t+= abs(a_i)\n",
    "        ab += a_i\n",
    "    return t == abs(ab)\n",
    "\n",
    "\n",
    "# checks if the give 2x2x2 tensor has nonneg rank 3\n",
    "def check_r3(t):\n",
    "    a1 = det(Matrix(t[0]))\n",
    "    a2 = det(Matrix(t[1]))\n",
    "    b1 = det(Matrix(t[:,0]))\n",
    "    b2 = det(Matrix(t[:,1]))\n",
    "    c1 = det(Matrix(t[:,:,0]))\n",
    "    c2 = det(Matrix(t[:,:,1]))\n",
    "    return sgn([a1,a2]) or sgn([b1,b2]) or sgn([c1,c2])\n",
    "\n",
    "# checks if given 2x2x2 has nonneg rank 2\n",
    "def check_r2(t):\n",
    "    a1 = det(Matrix(t[0]))\n",
    "    a2 = det(Matrix(t[1]))\n",
    "    b1 = det(Matrix(t[:,0]))\n",
    "    b2 = det(Matrix(t[:,1]))\n",
    "    c1 = det(Matrix(t[:,:,0]))\n",
    "    c2 = det(Matrix(t[:,:,1]))\n",
    "    d1 = ineq(a1,a2,b1,b2,c1,c2,ge,ge,ge)\n",
    "    d2 = ineq(a1,a2,b1,b2,c1,c2,le,le,ge)\n",
    "    d3 = ineq(a1,a2,b1,b2,c1,c2,le,ge,le)\n",
    "    d4 = ineq(a1,a2,b1,b2,c1,c2,ge,le,le)\n",
    "    supermod = d1 or d2 or d3 or d4\n",
    "    return supermod\n",
    "\n",
    "\n",
    "# helpers\n",
    "def ineq(a1,a2,b1,b2,c1,c2,f1,f2,f3):\n",
    "    t1 = f1(a1,0) and f1(a2,0)\n",
    "    t2 = f2(b1,0) and f2(b2,0)\n",
    "    t3 = f3(c1,0) and f3(c2,0)\n",
    "    return t1 and t2 and t3\n",
    "    \n",
    "def ge(a1,a2):\n",
    "    return a1 >= a2\n",
    "\n",
    "def le(a1,a2):\n",
    "    return a1 <= a2\n",
    "\n",
    "# Checks if 2x2x3 contains a 2x2x2 with nonneg 4\n",
    "def check_r4(t, upper = 1):\n",
    "    a1 = not check_r3(tl.tensor([t[0],t[1]]))\n",
    "    a2 = not check_r3(tl.tensor([t[0],t[2]]))\n",
    "    a3 = not check_r3(tl.tensor([t[1],t[2]]))\n",
    "    return (a1 + a2 + a3) >= upper\n",
    "\n",
    "def r2_sub(t, upper = 1):\n",
    "    a = check_r2(tl.tensor([t[0],t[1]]))\n",
    "    b = check_r2(tl.tensor([t[0],t[2]]))\n",
    "    c = check_r2(tl.tensor([t[2],t[1]]))\n",
    "    return (bool(a)+bool(b)+bool(c)) >= upper"
   ]
  },
  {
   "cell_type": "code",
   "execution_count": 5,
   "id": "muslim-collector",
   "metadata": {},
   "outputs": [],
   "source": [
    "def mat_inv(t):\n",
    "    tens = t.copy()\n",
    "    M_1 = Matrix([Matrix(tens[0][1]).transpose(),Matrix(tens[0][0]).transpose()])\n",
    "    M_2 = Matrix([Matrix(tens[1][1]).transpose(),Matrix(tens[1][0]).transpose()])\n",
    "    M_3 = Matrix([Matrix(tens[2][1]).transpose(),Matrix(tens[2][0]).transpose()])\n",
    "    tens[0] = M_1\n",
    "    tens[1] = M_2\n",
    "    tens[2] = M_3\n",
    "    return tens\n",
    "\n",
    "def mat_trans(t):\n",
    "    tens = t.copy()\n",
    "    tens[0] = tens[0].transpose()\n",
    "    tens[1] = tens[1].transpose()\n",
    "    tens[2] = tens[2].transpose()\n",
    "    return tens\n",
    "\n",
    "def rotate(t):\n",
    "    return mat_inv(mat_trans(t))\n",
    "\n",
    "\n",
    "def proc_tensor(t):\n",
    "    tens = t.copy()\n",
    "    M_b = Matrix([[Matrix(tens[:,0,0]), Matrix(tens[:,0,1]), Matrix(tens[:,1,1])]]).transpose()\n",
    "    M_a = Matrix([[Matrix(tens[:,0,0]), Matrix(tens[:,0,1]), Matrix(tens[:,1,0])]]).transpose()\n",
    "    if abs(M_a.det()) < 10:\n",
    "        print(\"warning det too small\")\n",
    "    a = 1\n",
    "    b = M_b.det() / M_a.det()\n",
    "    M = Matrix([[tens[0][0][0],0,a,0,0],[0,tens[0][0][1],b,0,0],\n",
    "                [tens[1][0][0],0,0,a,0],[0,tens[1][0][1],0,b,0],\n",
    "                [tens[2][0][0],0,0,0,a],[0,tens[2][0][1],0,0,b]])\n",
    "    R = Matrix([Matrix(tens[0,1]),Matrix(tens[1,1]),Matrix(tens[2,1])])\n",
    "    M_sub = Matrix(M[0:5,0:5])\n",
    "    #sol = np.array(np.array(M_sub.inv(), dtype = \"float\") @ np.array(Matrix(R[0:5]), dtype = \"float\"), dtype = \"float\")\n",
    "    sol = la.solve(np.array(M.T@M,dtype = \"float\"), np.array(M.T@R, dtype = \"float\"))\n",
    "    return np.append(np.array([b], dtype = \"float\"),sol)\n",
    "\n",
    "\n",
    "def test(tens):\n",
    "    tens = rand_tensor()\n",
    "    #tens = rank_tree()\n",
    "    ret = [0] *11\n",
    "    c1 = proc_tensor(tens)\n",
    "    if np.all(c1>=0):\n",
    "        ret[1] = 1\n",
    "    c2 = proc_tensor(mat_trans(tens))\n",
    "    if np.all(c2>=0):\n",
    "        ret[2] = 1\n",
    "    c3 = proc_tensor(mat_inv(tens))\n",
    "    if np.all(c3>=0):\n",
    "        ret[3] = 1\n",
    "    c4 = proc_tensor(rotate(tens))\n",
    "    if np.all(c4>=0):\n",
    "        ret[4] = 1\n",
    "    total = sum(ret)\n",
    "    if total >= 1:\n",
    "        ret[0] = 1\n",
    "    r2 = r2_sub(tens, upper = 2)\n",
    "    ret[5] = r2\n",
    "    #if check_r4(tens, upper = 1):\n",
    "    #    ret[6] = 1\n",
    "    #    if r2_sub(tens, upper = 1):\n",
    "    #        ret[9] = 1\n",
    "    #        if ret[0] == 1:\n",
    "    #            ret[10] = 1\n",
    "    if not check_r4(tens) and r2:\n",
    "        ret[6] = 1\n",
    "        if ret[0] == 0:\n",
    "            ret[7] = 1\n",
    "    return ret"
   ]
  },
  {
   "cell_type": "code",
   "execution_count": 6,
   "id": "5d42bd52-47a5-46da-a342-ba5bdbc4903a",
   "metadata": {},
   "outputs": [],
   "source": [
    "def test_r2(tens):\n",
    "    A = Matrix(tens[0]) * Matrix(tens[1]).inv()\n",
    "    res1 = Matrix(A.eigenvects()[0][2])\n",
    "    res2 = Matrix(A.eigenvects()[1][2])\n",
    "\n",
    "    B = Matrix(tens[0]).transpose() * Matrix(tens[1]).transpose().inv()\n",
    "    res3 = Matrix(B.eigenvects()[0][2])\n",
    "    res4 = Matrix(B.eigenvects()[1][2])\n",
    "    \n",
    "    T1 = np.kron(res1,res3) * 1.0\n",
    "    T2 = np.kron(res2,res4) * 1.0\n",
    "    assert(np.all(T1 >= 0) or np.all(T1 <= 0))\n",
    "    assert(np.all(T2 >= 0) or np.all(T2 <= 0))\n",
    "    T1 = Matrix(abs(T1))\n",
    "    T2 = Matrix(abs(T2))\n",
    "\n",
    "    a = symbols('a')\n",
    "    M = Matrix([[T1,T2]])\n",
    "    A1 = Matrix([a,a,1,1])\n",
    "    A2 = Matrix([a,1,a,1])\n",
    "    M1 = Matrix([[M,A1,Matrix(tens[2].reshape(4))]])\n",
    "    M2 = Matrix([[M,A2,Matrix(tens[2].reshape(4))]])\n",
    "\n",
    "    a1 = solve(M1.det())[0]\n",
    "    A1 = Matrix([a1,a1,1,1])\n",
    "    M1 = Matrix([[M,A1,Matrix(tens[2].reshape(4))]])\n",
    "    M1_sub = M1[0:3,0:3]\n",
    "    R = M1[0:3,3]\n",
    "    d1 = False\n",
    "    if abs(M1_sub.det()) > 0:\n",
    "        c1 = np.array(M1_sub.inv() @ R, dtype = \"float\")\n",
    "        d1 = np.all(c1 >=0)\n",
    "\n",
    "    a2 = solve(M2.det())[0]\n",
    "    A2 = Matrix([a2,1,a2,1])\n",
    "    M2 = Matrix([[M,A2,Matrix(tens[2].reshape(4))]])\n",
    "    M2_sub = M2[0:3,0:3]\n",
    "    R = M2[0:3,3]\n",
    "    d2 = False\n",
    "    if abs(M2_sub.det()) > 0:\n",
    "        c2 = np.array(M2_sub.inv() @ R, dtype = \"float\")\n",
    "        d2 = np.all(c2 >=0)\n",
    "    return d1 or d2\n",
    "\n",
    "def check_comb(tens):\n",
    "    t = tens.copy()\n",
    "    a = check_r2(tl.tensor([t[0],t[1]]))\n",
    "    b = check_r2(tl.tensor([t[0],t[2]]))\n",
    "    c = check_r2(tl.tensor([t[1],t[2]]))\n",
    "    a1 = False\n",
    "    a2 = False\n",
    "    a3 = False\n",
    "    if a:\n",
    "        a1 = test_r2(t)\n",
    "    if b:\n",
    "        a2 = test_r2(tl.tensor([t[0],t[2],t[1]]))\n",
    "    if c:\n",
    "        a3 = test_r2(tl.tensor([t[1],t[2],t[0]]))   \n",
    "    return a1 or a2 or a3\n",
    "\n",
    "def loop_rotations(i):\n",
    "    tens = rand_tensor()\n",
    "    tens = rank_tree()\n",
    "    ret = [0] *11\n",
    "    c1 = proc_tensor(tens)\n",
    "    if np.all(c1>=0):\n",
    "        ret[1] = 1\n",
    "    c2 = proc_tensor(mat_trans(tens))\n",
    "    if np.all(c2>=0):\n",
    "        ret[2] = 1\n",
    "    c3 = proc_tensor(mat_inv(tens))\n",
    "    if np.all(c3>=0):\n",
    "        ret[3] = 1\n",
    "    c4 = proc_tensor(rotate(tens))\n",
    "    if np.all(c4>=0):\n",
    "        ret[4] = 1\n",
    "        \n",
    "    total = sum(ret)\n",
    "    if total >= 1:\n",
    "        ret[0] = 1\n",
    "    if check_comb(tens):\n",
    "        ret[5] = 1\n",
    "        if ret[0] == 0:\n",
    "            ret[8] = 1\n",
    "        ret[0] = 1\n",
    "    r2 = r2_sub(tens, upper = 2)\n",
    "    #ret[5] = r2\n",
    "    #if check_r4(tens, upper = 1):\n",
    "    #    ret[6] = 1\n",
    "    #    if r2_sub(tens, upper = 1):\n",
    "    #        ret[9] = 1\n",
    "    #        if ret[0] == 1:\n",
    "    #            ret[10] = 1\n",
    "    if not check_r4(tens) and r2:\n",
    "        ret[6] = 1\n",
    "        if ret[0] == 0:\n",
    "            ret[7] = 1\n",
    "    return ret"
   ]
  },
  {
   "cell_type": "code",
   "execution_count": 47,
   "id": "under-custom",
   "metadata": {},
   "outputs": [
    {
     "name": "stdout",
     "output_type": "stream",
     "text": [
      "[888, 304, 323, 332, 308, 446, 558, 66, 127, 0, 0]\n",
      "64.1226019859314\n"
     ]
    }
   ],
   "source": [
    "te = time.time()\n",
    "total = 1000\n",
    "results = Parallel(n_jobs=6)(delayed(loop_rotations)(i) for i in range(total))\n",
    "res = [sum(x) for x in zip(*results)]\n",
    "print(res)\n",
    "print(time.time() - te)"
   ]
  },
  {
   "cell_type": "code",
   "execution_count": 12,
   "id": "ebcd3a97-7389-488b-bb77-bfb31efdcef7",
   "metadata": {},
   "outputs": [
    {
     "name": "stdout",
     "output_type": "stream",
     "text": [
      "True False True\n"
     ]
    },
    {
     "data": {
      "text/plain": [
       "array([[[621772., 392908.],\n",
       "        [531806., 344476.]],\n",
       "\n",
       "       [[223119., 128911.],\n",
       "        [161290.,  98108.]],\n",
       "\n",
       "       [[642455., 410575.],\n",
       "        [589092., 379404.]]])"
      ]
     },
     "execution_count": 12,
     "metadata": {},
     "output_type": "execute_result"
    }
   ],
   "source": [
    "a = False\n",
    "b = False\n",
    "c = False\n",
    "tens = rand_tensor()\n",
    "while not (a):\n",
    "    tens = rank_tree()\n",
    "    t = tens\n",
    "    a = check_r2(tl.tensor([t[0],t[1]]))\n",
    "    b = check_r2(tl.tensor([t[0],t[2]]))\n",
    "    c = check_r2(tl.tensor([t[1],t[2]]))\n",
    "print(a,b,c)\n",
    "tens"
   ]
  },
  {
   "cell_type": "code",
   "execution_count": 14,
   "id": "8096e2c7-d1d6-4e05-9fae-543c9f07f1ba",
   "metadata": {},
   "outputs": [
    {
     "data": {
      "text/plain": [
       "array([[-0.641911910885065],\n",
       "       [-0.428669423027320],\n",
       "       [-0.605362647936252],\n",
       "       [-0.404261788280772]], dtype=object)"
      ]
     },
     "execution_count": 14,
     "metadata": {},
     "output_type": "execute_result"
    }
   ],
   "source": [
    "A = Matrix(tens[0]) * Matrix(tens[1]).inv()\n",
    "#a1\n",
    "res1 = Matrix(A.eigenvects()[0][2])\n",
    "#b1\n",
    "res2 = Matrix(A.eigenvects()[1][2])\n",
    "\n",
    "B = Matrix(tens[0]).transpose() * Matrix(tens[1]).transpose().inv()\n",
    "#a2\n",
    "res3 = Matrix(B.eigenvects()[0][2])\n",
    "#b2\n",
    "res4 = Matrix(B.eigenvects()[1][2])\n",
    "\n",
    "T1 = np.kron(res1,res3) * 1.0\n",
    "T2 = np.kron(res2,res4) * 1.0\n",
    "T2"
   ]
  },
  {
   "cell_type": "code",
   "execution_count": 15,
   "id": "46fcac51-3888-45bf-9b9e-1f260f7a06f6",
   "metadata": {},
   "outputs": [
    {
     "data": {
      "text/latex": [
       "$\\displaystyle - 1254.09257139102 a b + 2603.61940851738 a + 1368.04699245417 b - 2818.07396489711$"
      ],
      "text/plain": [
       "-1254.09257139102*a*b + 2603.61940851738*a + 1368.04699245417*b - 2818.07396489711"
      ]
     },
     "execution_count": 15,
     "metadata": {},
     "output_type": "execute_result"
    }
   ],
   "source": [
    "\n",
    "assert(np.all(T1 >= 0) or np.all(T1 <= 0))\n",
    "assert(np.all(T2 >= 0) or np.all(T2 <= 0))\n",
    "T1 = Matrix(abs(T1))\n",
    "T2 = Matrix(abs(T2))\n",
    "a,b = symbols('a,b')\n",
    "M = Matrix([[T1,T2]])\n",
    "A1 = Matrix([a*b,a,b,1])\n",
    "A2 = Matrix([a,1,a,1])\n",
    "M1 = Matrix([[M,A1,Matrix(tens[2].reshape(4))]])\n",
    "M2 = Matrix([[M,A2,Matrix(tens[2].reshape(4))]])\n",
    "M1.det()"
   ]
  },
  {
   "cell_type": "code",
   "execution_count": 16,
   "id": "67e7db5f-1af1-45f0-880c-3ed5bb3ce2b8",
   "metadata": {},
   "outputs": [
    {
     "data": {
      "text/latex": [
       "$\\displaystyle \\frac{0.166666666666667 \\left(136804699245417.0 b - 281807396489711.0\\right)}{20901542856517.0 b - 43393656808623.0}$"
      ],
      "text/plain": [
       "0.166666666666667*(136804699245417.0*b - 281807396489711.0)/(20901542856517.0*b - 43393656808623.0)"
      ]
     },
     "execution_count": 16,
     "metadata": {},
     "output_type": "execute_result"
    }
   ],
   "source": [
    "a1=solve(M1.det(),a)[0]\n",
    "a1"
   ]
  },
  {
   "cell_type": "code",
   "execution_count": 26,
   "id": "4b42c6ae-036d-4005-9179-eb6b564d996f",
   "metadata": {},
   "outputs": [
    {
     "data": {
      "text/latex": [
       "$\\displaystyle \\left[\\begin{matrix}\\frac{98182.0 b \\left(136804699245417.0 b - 281807396489711.0\\right)}{20901542856517.0 b - 43393656808623.0} + 786601.08044236\\\\425818.71276242 + \\frac{98182.0 \\left(136804699245417.0 b - 281807396489711.0\\right)}{20901542856517.0 b - 43393656808623.0}\\\\589092.0 b + 498551.163775446\\end{matrix}\\right]$"
      ],
      "text/plain": [
       "Matrix([\n",
       "[98182.0*b*(136804699245417.0*b - 281807396489711.0)/(20901542856517.0*b - 43393656808623.0) + 786601.08044236],\n",
       "[  425818.71276242 + 98182.0*(136804699245417.0*b - 281807396489711.0)/(20901542856517.0*b - 43393656808623.0)],\n",
       "[                                                                                589092.0*b + 498551.163775446]])"
      ]
     },
     "execution_count": 26,
     "metadata": {},
     "output_type": "execute_result"
    }
   ],
   "source": [
    "A1 = Matrix([a1 *b,a1,b,1])\n",
    "M1 = Matrix([[M,A1,Matrix(tens[2].reshape(4))]])\n",
    "M1_sub = M1[0:3,0:3]\n",
    "R = M1[0:3,3]\n",
    "res = M1_sub @ R\n",
    "res"
   ]
  },
  {
   "cell_type": "code",
   "execution_count": 27,
   "id": "2015452a-9e3d-4c66-9ac8-4b74a9cbc825",
   "metadata": {},
   "outputs": [
    {
     "data": {
      "text/latex": [
       "$\\displaystyle 2.80744485986332 \\cdot 10^{32} b^{3} - 8.1751972760153 \\cdot 10^{32} b^{2} - 2.26251861602347 \\cdot 10^{32} b + 1.48117726881641 \\cdot 10^{33}$"
      ],
      "text/plain": [
       "2.80744485986332e+32*b**3 - 8.1751972760153e+32*b**2 - 2.26251861602347e+32*b + 1.48117726881641e+33"
      ]
     },
     "execution_count": 27,
     "metadata": {},
     "output_type": "execute_result"
    }
   ],
   "source": [
    "res[0] = fraction(simplify(res[0]))[0] * fraction(simplify(res[0]))[1]\n",
    "res[0] = expand(res[0])\n",
    "res[0]"
   ]
  },
  {
   "cell_type": "code",
   "execution_count": 33,
   "id": "055e7942-815c-4dea-ba9a-962a442fca26",
   "metadata": {},
   "outputs": [
    {
     "data": {
      "text/latex": [
       "$\\displaystyle 2.80744485986332 \\cdot 10^{32}$"
      ],
      "text/plain": [
       "2.80744485986332e+32"
      ]
     },
     "execution_count": 33,
     "metadata": {},
     "output_type": "execute_result"
    }
   ],
   "source": [
    "LC(res[0])"
   ]
  },
  {
   "cell_type": "code",
   "execution_count": 34,
   "id": "79254206-14fe-43ba-aa0b-cbce9a5924aa",
   "metadata": {},
   "outputs": [
    {
     "data": {
      "text/plain": [
       "[-1.23006972866403 + 0.e-25*I,\n",
       " 2.06594220254668 - 0.e-23*I,\n",
       " 2.07609826253043 + 0.e-23*I]"
      ]
     },
     "execution_count": 34,
     "metadata": {},
     "output_type": "execute_result"
    }
   ],
   "source": [
    "solve(res[0],b)"
   ]
  },
  {
   "cell_type": "code",
   "execution_count": 29,
   "id": "56dafda8-72d4-4aec-9ad5-7e49c4b6904f",
   "metadata": {},
   "outputs": [
    {
     "data": {
      "text/latex": [
       "$\\displaystyle 4.66773820567665 \\cdot 10^{32} b^{2} - 1.93359603303685 \\cdot 10^{33} b + 2.0024543136095 \\cdot 10^{33}$"
      ],
      "text/plain": [
       "4.66773820567665e+32*b**2 - 1.93359603303685e+33*b + 2.0024543136095e+33"
      ]
     },
     "execution_count": 29,
     "metadata": {},
     "output_type": "execute_result"
    }
   ],
   "source": [
    "res[1] = fraction(simplify(res[1]))[0] * fraction(simplify(res[1]))[1]\n",
    "res[1] = expand(res[1])\n",
    "res[1]"
   ]
  },
  {
   "cell_type": "code",
   "execution_count": 30,
   "id": "4ec98a53-7d27-45c4-9dc8-2cf95bb75678",
   "metadata": {},
   "outputs": [
    {
     "data": {
      "text/plain": [
       "[2.06637063318601, 2.07609826253165]"
      ]
     },
     "execution_count": 30,
     "metadata": {},
     "output_type": "execute_result"
    }
   ],
   "source": [
    "solve(res[1],b)"
   ]
  },
  {
   "cell_type": "code",
   "execution_count": 31,
   "id": "35658107-6c17-4b53-b674-420098852e8b",
   "metadata": {},
   "outputs": [
    {
     "data": {
      "text/plain": [
       "[-0.846304420660009]"
      ]
     },
     "execution_count": 31,
     "metadata": {},
     "output_type": "execute_result"
    }
   ],
   "source": [
    "solve(res[2],b)"
   ]
  },
  {
   "cell_type": "code",
   "execution_count": 32,
   "id": "2bb1737b-45cd-4325-95ac-2bf3cfce8161",
   "metadata": {},
   "outputs": [
    {
     "data": {
      "text/latex": [
       "$\\displaystyle \\left[\\begin{matrix}\\frac{98182.0 b \\left(136804699245417.0 b - 281807396489711.0\\right)}{20901542856517.0 b - 43393656808623.0} + 786601.08044236\\\\425818.71276242 + \\frac{98182.0 \\left(136804699245417.0 b - 281807396489711.0\\right)}{20901542856517.0 b - 43393656808623.0}\\\\589092.0 b + 498551.163775446\\end{matrix}\\right]$"
      ],
      "text/plain": [
       "Matrix([\n",
       "[98182.0*b*(136804699245417.0*b - 281807396489711.0)/(20901542856517.0*b - 43393656808623.0) + 786601.08044236],\n",
       "[  425818.71276242 + 98182.0*(136804699245417.0*b - 281807396489711.0)/(20901542856517.0*b - 43393656808623.0)],\n",
       "[                                                                                589092.0*b + 498551.163775446]])"
      ]
     },
     "execution_count": 32,
     "metadata": {},
     "output_type": "execute_result"
    }
   ],
   "source": [
    "A1 = Matrix([a1 *b,a1,b,1])\n",
    "M1 = Matrix([[M,A1,Matrix(tens[2].reshape(4))]])\n",
    "M1_sub = M1[0:3,0:3]\n",
    "R = M1[0:3,3]\n",
    "M1_sub@R"
   ]
  },
  {
   "cell_type": "code",
   "execution_count": null,
   "id": "65a15fe7-2e13-4e96-bd5c-50bc4690bc4e",
   "metadata": {},
   "outputs": [],
   "source": [
    "a2= solve(M2.det())[0]\n",
    "A2 = Matrix([a2,1,a2,1])\n",
    "M2 = Matrix([[M,A2,Matrix(tens[2].reshape(4))]])\n",
    "M2_sub = M2[0:3,0:3]\n",
    "R = M2[0:3,3]\n",
    "M2_sub.inv() @ R\n",
    "M2_sub.det()"
   ]
  },
  {
   "cell_type": "code",
   "execution_count": null,
   "id": "759d23cc-beaf-45e6-afdc-755c666800ad",
   "metadata": {},
   "outputs": [],
   "source": []
  }
 ],
 "metadata": {
  "kernelspec": {
   "display_name": "Python 3 (ipykernel)",
   "language": "python",
   "name": "python3"
  },
  "language_info": {
   "codemirror_mode": {
    "name": "ipython",
    "version": 3
   },
   "file_extension": ".py",
   "mimetype": "text/x-python",
   "name": "python",
   "nbconvert_exporter": "python",
   "pygments_lexer": "ipython3",
   "version": "3.9.5"
  }
 },
 "nbformat": 4,
 "nbformat_minor": 5
}
