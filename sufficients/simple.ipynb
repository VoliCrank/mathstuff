{
 "cells": [
  {
   "cell_type": "code",
   "execution_count": 1,
   "id": "intimate-chaos",
   "metadata": {},
   "outputs": [],
   "source": [
    "import tensorly as tl\n",
    "import numpy as np\n",
    "from numpy import linalg as la\n",
    "from sympy import *\n",
    "from sympy import Matrix, symbols, solve_linear_system\n",
    "from sympy.solvers.inequalities import *\n",
    "from sympy.polys import Poly\n",
    "from sympy.abc import x\n",
    "from sympy.solvers.solveset import linsolve\n",
    "import time\n",
    "from joblib import Parallel, delayed\n",
    "x,y,z_1,z_2,z_3 = symbols('x y z_1 z_2 z_3')\n",
    "x,y,z1,z2,z3 ,b= symbols(\"x,y,z1,z2,z3,b\")\n",
    "p_112, p_102, p_002, p_012 = symbols('p_112 p_102 p_002 p_012')\n",
    "p_000, p_001, p_100, p_101, p_200, p_201, p_010, p_011, p_020, p_021, p_110, p_111, p_210, p_211, p_120, p_121, p_220, p_221 = symbols('p_000 p_001 p_100 p_101 p_200 p_201 p_010 p_011 p_020 p_021 p_110 p_111 p_210 p_211 p_120 p_121 p_220 p_221')"
   ]
  },
  {
   "cell_type": "code",
   "execution_count": 2,
   "id": "27f9f040-b028-40d9-a4cf-d06e5e5fe2dd",
   "metadata": {},
   "outputs": [],
   "source": [
    "from tensorly.decomposition import parafac\n",
    "from tensorly.decomposition import non_negative_parafac_hals\n",
    "\n",
    "def check_rank(tensor, rank, non_neg=True, n=10, tol=0.001, p=False):\n",
    "    if non_neg:\n",
    "        for k in range(n):\n",
    "            weights, factors = non_negative_parafac_hals(tensor, n_iter_max=1000000, rank=rank, init='random')\n",
    "            full = tl.cp_to_tensor((weights, factors))\n",
    "            diff = (full - tensor) / tensor\n",
    "            if p:\n",
    "                print(factors)\n",
    "                print(tl.max(abs(diff)))\n",
    "            if tl.max(abs(diff)) < tol:\n",
    "                return True\n",
    "    else:\n",
    "        for k in range(n):\n",
    "            weights, factors = parafac(tensor, n_iter_max=1000000, rank=rank)\n",
    "            full = tl.cp_to_tensor((weights, factors))\n",
    "            diff = (full - tensor) / tensor\n",
    "            if p:\n",
    "                print(tl.max(abs(diff)))\n",
    "            if tl.max(abs(diff)) < tol:\n",
    "                return True\n",
    "    return False"
   ]
  },
  {
   "cell_type": "code",
   "execution_count": 3,
   "id": "infrared-place",
   "metadata": {},
   "outputs": [],
   "source": [
    "#generates random rank 3 tensors\n",
    "def rank_tree(size = 100):\n",
    "    return (low_tensor(size) + low_tensor(size) + low_tensor(size)) \n",
    "\n",
    "# random tensor of some dim\n",
    "def rand_tensor(size = 100000):\n",
    "    return tl.tensor(np.random.randint(1, size, size=(3,2,2)))*1.0\n",
    "\n",
    "# generates rank 1 tensors\n",
    "def low_tensor(size = 100):\n",
    "    a = np.random.randint(1, size, size=3) \n",
    "    b = np.random.randint(1, size, size=2)\n",
    "    c = np.random.randint(1, size, size=2)\n",
    "    tens = tl.tensor(np.kron(np.kron(a, b), c).reshape(3, 2, 2)) * 1.0\n",
    "    return tens\n",
    "\n",
    "# checks if all subtensors have nonneg rank 3\n",
    "def check(t):\n",
    "    t1 = tl.tensor([t[0], t[1]])\n",
    "    t2 = tl.tensor([t[1], t[2]])\n",
    "    t3 = tl.tensor([t[0], t[2]])\n",
    "    a1 = det(Matrix(t1[0]))\n",
    "    a2 = det(Matrix(t1[1]))\n",
    "    a3 = det(Matrix(t2[0]))\n",
    "    a4 = det(Matrix(t2[1]))\n",
    "    b1 = det(Matrix(t1[:,0]))\n",
    "    b2 = det(Matrix(t1[:,1]))\n",
    "    b3 = det(Matrix(t2[:,0]))\n",
    "    b4 = det(Matrix(t2[:,1]))\n",
    "    c1 = det(Matrix(t1[:,:,0]))\n",
    "    c2 = det(Matrix(t1[:,:,1]))\n",
    "    c3 = det(Matrix(t2[:,:,0]))\n",
    "    c4 = det(Matrix(t2[:,:,1]))\n",
    "\n",
    "    a5 = det(Matrix(t3[0]))\n",
    "    a6 = det(Matrix(t3[1]))\n",
    "\n",
    "    b5 = det(Matrix(t3[:,0]))\n",
    "    b6 = det(Matrix(t3[:,1]))\n",
    "\n",
    "    c5 = det(Matrix(t3[:,:,0]))\n",
    "    c6 = det(Matrix(t3[:,:,1]))\n",
    "    return sgn([a1, a2,a3,a4,a5,a6]) or sgn([b1,b2,b3,b4,b5,b6]) or sgn([c1,c2,c3,c4,c5,c6])\n",
    "\n",
    "# determines sign of a list\n",
    "def sgn(a):\n",
    "    t = 0\n",
    "    ab = 0\n",
    "    for a_i in a:\n",
    "        t+= abs(a_i)\n",
    "        ab += a_i\n",
    "    return t == abs(ab)\n",
    "\n",
    "\n",
    "# checks if the give 2x2x2 tensor has nonneg rank 3\n",
    "def check_r3(t):\n",
    "    a1 = det(Matrix(t[0]))\n",
    "    a2 = det(Matrix(t[1]))\n",
    "    b1 = det(Matrix(t[:,0]))\n",
    "    b2 = det(Matrix(t[:,1]))\n",
    "    c1 = det(Matrix(t[:,:,0]))\n",
    "    c2 = det(Matrix(t[:,:,1]))\n",
    "    return sgn([a1,a2]) or sgn([b1,b2]) or sgn([c1,c2])\n",
    "\n",
    "# checks if given 2x2x2 has nonneg rank 2\n",
    "def check_r2(t):\n",
    "    a1 = det(Matrix(t[0]))\n",
    "    a2 = det(Matrix(t[1]))\n",
    "    b1 = det(Matrix(t[:,0]))\n",
    "    b2 = det(Matrix(t[:,1]))\n",
    "    c1 = det(Matrix(t[:,:,0]))\n",
    "    c2 = det(Matrix(t[:,:,1]))\n",
    "    d1 = ineq(a1,a2,b1,b2,c1,c2,ge,ge,ge)\n",
    "    d2 = ineq(a1,a2,b1,b2,c1,c2,le,le,ge)\n",
    "    d3 = ineq(a1,a2,b1,b2,c1,c2,le,ge,le)\n",
    "    d4 = ineq(a1,a2,b1,b2,c1,c2,ge,le,le)\n",
    "    supermod = d1 or d2 or d3 or d4\n",
    "    return supermod\n",
    "\n",
    "\n",
    "# helpers\n",
    "def ineq(a1,a2,b1,b2,c1,c2,f1,f2,f3):\n",
    "    t1 = f1(a1,0) and f1(a2,0)\n",
    "    t2 = f2(b1,0) and f2(b2,0)\n",
    "    t3 = f3(c1,0) and f3(c2,0)\n",
    "    return t1 and t2 and t3\n",
    "    \n",
    "def ge(a1,a2):\n",
    "    return a1 >= a2\n",
    "\n",
    "def le(a1,a2):\n",
    "    return a1 <= a2\n",
    "\n",
    "# Checks if 2x2x3 contains a 2x2x2 with nonneg 4\n",
    "def check_r4(t, upper = 1):\n",
    "    a1 = not check_r3(tl.tensor([t[0],t[1]]))\n",
    "    a2 = not check_r3(tl.tensor([t[0],t[2]]))\n",
    "    a3 = not check_r3(tl.tensor([t[1],t[2]]))\n",
    "    return (a1 + a2 + a3) >= upper\n",
    "\n",
    "def r2_sub(t, upper = 1):\n",
    "    a = check_r2(tl.tensor([t[0],t[1]]))\n",
    "    b = check_r2(tl.tensor([t[0],t[2]]))\n",
    "    c = check_r2(tl.tensor([t[2],t[1]]))\n",
    "    return (bool(a)+bool(b)+bool(c)) >= upper"
   ]
  },
  {
   "cell_type": "code",
   "execution_count": 170,
   "id": "muslim-collector",
   "metadata": {},
   "outputs": [],
   "source": [
    "def mat_inv(t):\n",
    "    tens = t.copy()\n",
    "    M_1 = Matrix([Matrix(tens[0][1]).transpose(),Matrix(tens[0][0]).transpose()])\n",
    "    M_2 = Matrix([Matrix(tens[1][1]).transpose(),Matrix(tens[1][0]).transpose()])\n",
    "    M_3 = Matrix([Matrix(tens[2][1]).transpose(),Matrix(tens[2][0]).transpose()])\n",
    "    tens[0] = M_1\n",
    "    tens[1] = M_2\n",
    "    tens[2] = M_3\n",
    "    return tens\n",
    "\n",
    "def mat_trans(t):\n",
    "    tens = t.copy()\n",
    "    tens[0] = tens[0].transpose()\n",
    "    tens[1] = tens[1].transpose()\n",
    "    tens[2] = tens[2].transpose()\n",
    "    return tens\n",
    "\n",
    "def rotate(t):\n",
    "    return mat_inv(mat_trans(t))\n",
    "\n",
    "\n",
    "def proc_tensor(t):\n",
    "    tens = t.copy()\n",
    "    M_b = Matrix([[Matrix(tens[:,0,0]), Matrix(tens[:,0,1]), Matrix(tens[:,1,1])]]).transpose()\n",
    "    M_a = Matrix([[Matrix(tens[:,0,0]), Matrix(tens[:,0,1]), Matrix(tens[:,1,0])]]).transpose()\n",
    "    if abs(M_a.det()) < 10:\n",
    "        print(\"warning det too small\")\n",
    "    a = 1\n",
    "    b = M_b.det() / M_a.det()\n",
    "    M = Matrix([[tens[0][0][0],0,a,0,0],[0,tens[0][0][1],b,0,0],\n",
    "                [tens[1][0][0],0,0,a,0],[0,tens[1][0][1],0,b,0],\n",
    "                [tens[2][0][0],0,0,0,a],[0,tens[2][0][1],0,0,b]])\n",
    "    R = Matrix([Matrix(tens[0,1]),Matrix(tens[1,1]),Matrix(tens[2,1])])\n",
    "    M_sub = Matrix(M[0:5,0:5])\n",
    "    #sol = np.array(np.array(M_sub.inv(), dtype = \"float\") @ np.array(Matrix(R[0:5]), dtype = \"float\"), dtype = \"float\")\n",
    "    sol = la.solve(np.array(M.T@M,dtype = \"float\"), np.array(M.T@R, dtype = \"float\"))\n",
    "    ret = np.append(np.array([b], dtype = \"float\"),sol)\n",
    "    return np.all(ret >=0)\n",
    "\n",
    "\n",
    "def test(tens):\n",
    "    ret = [0] *11\n",
    "    c1 = proc_tensor(tens)\n",
    "    if np.all(c1>=0):\n",
    "        ret[1] = 1\n",
    "    c2 = proc_tensor(mat_trans(tens))\n",
    "    if np.all(c2>=0):\n",
    "        ret[2] = 1\n",
    "    c3 = proc_tensor(mat_inv(tens))\n",
    "    if np.all(c3>=0):\n",
    "        ret[3] = 1\n",
    "    c4 = proc_tensor(rotate(tens))\n",
    "    if np.all(c4>=0):\n",
    "        ret[4] = 1\n",
    "        \n",
    "    total = sum(ret)\n",
    "    if total >= 1:\n",
    "        ret[0] = 1\n",
    "    if check_comb(tens):\n",
    "        ret[5] = 1\n",
    "        if ret[0] == 0:\n",
    "            ret[8] = 1\n",
    "        ret[0] = 1\n",
    "    r2 = r2_sub(tens, upper = 2)\n",
    "    #ret[5] = r2\n",
    "    #if check_r4(tens, upper = 1):\n",
    "    #    ret[6] = 1\n",
    "    #    if r2_sub(tens, upper = 1):\n",
    "    #        ret[9] = 1\n",
    "    #        if ret[0] == 1:\n",
    "    #            ret[10] = 1\n",
    "    if not check_r4(tens) and r2:\n",
    "        ret[6] = 1\n",
    "        if ret[0] == 0:\n",
    "            ret[7] = 1\n",
    "    return ret\n",
    "\n",
    "def test_r2(tens):\n",
    "    M = init_mat(tens)\n",
    "    A1 = Matrix([a,a,1,1])\n",
    "    A2 = Matrix([a,1,a,1])\n",
    "    M1 = Matrix([[M,A1,Matrix(tens[2].reshape(4))]])\n",
    "    M2 = Matrix([[M,A2,Matrix(tens[2].reshape(4))]])\n",
    "\n",
    "    a1 = solve(M1.det())[0]\n",
    "    A1 = Matrix([a1,a1,1,1])\n",
    "    M1 = Matrix([[M,A1,Matrix(tens[2].reshape(4))]])\n",
    "    M1_sub = M1[0:3,0:3]\n",
    "    R = M1[0:3,3]\n",
    "    d1 = False\n",
    "    if abs(M1_sub.det()) > 0:\n",
    "        c1 = np.array(M1_sub.inv() @ R, dtype = \"float\")\n",
    "        d1 = np.all(c1 >=0)\n",
    "\n",
    "    a2 = solve(M2.det())[0]\n",
    "    A2 = Matrix([a2,1,a2,1])\n",
    "    M2 = Matrix([[M,A2,Matrix(tens[2].reshape(4))]])\n",
    "    M2_sub = M2[0:3,0:3]\n",
    "    R = M2[0:3,3]\n",
    "    d2 = False\n",
    "    if abs(M2_sub.det()) > 0:\n",
    "        c2 = np.array(M2_sub.inv() @ R, dtype = \"float\")\n",
    "        d2 = np.all(c2 >=0)\n",
    "    return d1 or d2\n",
    "\n",
    "def check_comb(tens):\n",
    "    t = tens.copy()\n",
    "    a = check_r2(tl.tensor([t[0],t[1]]))\n",
    "    b = check_r2(tl.tensor([t[0],t[2]]))\n",
    "    c = check_r2(tl.tensor([t[1],t[2]]))\n",
    "    a1 = False\n",
    "    a2 = False\n",
    "    a3 = False\n",
    "    if a:\n",
    "        a1 = test_r2(t)\n",
    "        if a1:\n",
    "            return a1\n",
    "    if b:\n",
    "        a2 = test_r2(tl.tensor([t[0],t[2],t[1]]))\n",
    "        if a2:\n",
    "            return a2\n",
    "    if c:\n",
    "        a3 = test_r2(tl.tensor([t[1],t[2],t[0]]))\n",
    "        if a3:\n",
    "            return a3\n",
    "    return a1 or a2 or a3"
   ]
  },
  {
   "cell_type": "code",
   "execution_count": 171,
   "id": "5d42bd52-47a5-46da-a342-ba5bdbc4903a",
   "metadata": {},
   "outputs": [],
   "source": [
    "\n",
    "# assumes the nonnegative rank 2 subtensor are the first two slices\n",
    "def test_simple(tens, M, A1, tol = 0.01):\n",
    "    a,b = symbols('a,b')\n",
    "    M1 = Matrix([[M,A1,Matrix(tens[2].reshape(4))]])\n",
    "    a1 = solve(M1.det(),a)[0]\n",
    "    A1 = A1.subs(a,a1)\n",
    "    M1 = Matrix([[M,A1,Matrix(tens[2].reshape(4))]])\n",
    "    M1_sub = M1[1:4,0:3]\n",
    "    R = M1[1:4,3]\n",
    "    res1 = M1_sub.inv() @ R\n",
    "    return check_intervals(res1, tol = tol)\n",
    "\n",
    "\n",
    "# initializes the matrix with the appropriate rank 1 terms\n",
    "def init_mat(tens):\n",
    "    A = Matrix(tens[0]) * Matrix(tens[1]).inv()\n",
    "    #a1\n",
    "    res1 = Matrix(A.eigenvects()[0][2])\n",
    "    #b1\n",
    "    res2 = Matrix(A.eigenvects()[1][2])\n",
    "\n",
    "    B = Matrix(tens[0]).transpose() * Matrix(tens[1]).transpose().inv()\n",
    "    #a2\n",
    "    res3 = Matrix(B.eigenvects()[0][2])\n",
    "    #b2\n",
    "    res4 = Matrix(B.eigenvects()[1][2])\n",
    "\n",
    "    T1 = np.kron(res1,res3) * 1.0\n",
    "    T2 = np.kron(res2,res4) * 1.0\n",
    "    assert(np.all(T1 >= 0) or np.all(T1 <= 0))\n",
    "    assert(np.all(T2 >= 0) or np.all(T2 <= 0))\n",
    "    T1 = Matrix(abs(T1))\n",
    "    T2 = Matrix(abs(T2))\n",
    "\n",
    "    return Matrix([[T1,T2]])\n",
    "\n",
    "def check_intervals(res1, tol = 0.01):\n",
    "    res1[0] = fraction(simplify(res1[0]))[0] * fraction(simplify(res1[0]))[1]\n",
    "    res1[1] = fraction(simplify(res1[1]))[0] * fraction(simplify(res1[1]))[1]\n",
    "    res1[2] = fraction(simplify(res1[2]))[0] * fraction(simplify(res1[2]))[1]\n",
    "    a2 = fraction(simplify(a1))[0] * fraction(simplify(a1))[1]\n",
    "    s1 = solveset(a2 >= 0, b, S.Reals)\n",
    "    s2 = solveset(res1[0] >= 0, b, S.Reals)\n",
    "    s3 = solveset(res1[1] >=0,b,S.Reals)\n",
    "    s4 = solveset(res1[2] >=0,b,S.Reals)\n",
    "    s5 = solveset(b >=0,b,S.Reals)\n",
    "    sol = Intersection(s1,s2,s3,s4,s5)\n",
    "    return sol.measure > tol\n",
    "    \n",
    "def check_simple(tens):\n",
    "    t = tens.copy()\n",
    "    c1 = check_r2(tl.tensor([t[0],t[1]]))\n",
    "    c2 = check_r2(tl.tensor([t[0],t[2]]))\n",
    "    c3 = check_r2(tl.tensor([t[1],t[2]]))\n",
    "    a1 = False\n",
    "    a2 = False\n",
    "    a3 = False\n",
    "    if c1:\n",
    "        a,b = symbols('a,b')\n",
    "        A1 = Matrix([a*b,a,b,1])\n",
    "        A2 = Matrix([a,a*b,1,b])\n",
    "        temp = t\n",
    "        M = init_mat(temp)\n",
    "        a1 = test_simple(temp,M,A1) or test_simple(temp,M,A2)\n",
    "        if a1:\n",
    "            return a1\n",
    "    if c2:\n",
    "        a,b = symbols('a,b')\n",
    "        A1 = Matrix([a*b,a,b,1])\n",
    "        A2 = Matrix([a,a*b,1,b])\n",
    "        temp = tl.tensor([t[0],t[2],t[1]])\n",
    "        M = init_mat(temp)\n",
    "        a2 = test_simple(temp,M,A1) or test_simple(temp,M,A2)\n",
    "        if a2:\n",
    "            return a2\n",
    "    if c3:\n",
    "        a,b = symbols('a,b')\n",
    "        A1 = Matrix([a*b,a,b,1])\n",
    "        A2 = Matrix([a,a*b,1,b])\n",
    "        temp = tl.tensor([t[1],t[2],t[0]])\n",
    "        M = init_mat(temp)\n",
    "        a3 = test_simple(temp,M,A1) or test_simple(temp,M,A2)\n",
    "        if a3:\n",
    "            return a3\n",
    "    return False\n",
    "\n",
    "def loop_rotations(i):\n",
    "    tens = rand_tensor()\n",
    "    tens = rank_tree(size = 50)\n",
    "    tens = tensors[i]\n",
    "    ret = [0] *11\n",
    "    if proc_tensor(tens) or proc_tensor(mat_trans(tens)) or proc_tensor(mat_inv(tens)) or proc_tensor(rotate(tens)):\n",
    "        ret[1] = 1\n",
    "        ret[0] = 1\n",
    "    if check_simple(tens):\n",
    "        ret[2] = 1\n",
    "        if ret[0] == 0:\n",
    "            ret[8] = 1\n",
    "        ret[0] = 1\n",
    "    r2 = r2_sub(tens, upper = 2)\n",
    "    #ret[5] = r2\n",
    "    #if check_r4(tens, upper = 1):\n",
    "    #    ret[6] = 1\n",
    "    #    if r2_sub(tens, upper = 1):\n",
    "    #        ret[9] = 1\n",
    "    #        if ret[0] == 1:\n",
    "    #            ret[10] = 1\n",
    "    if not check_r4(tens) and r2:\n",
    "        ret[6] = 1\n",
    "        if ret[0] == 0:\n",
    "            ret[7] = 1\n",
    "    return ret\n",
    "\n",
    "def loop_rotations_old(i):\n",
    "    tens = rand_tensor()\n",
    "    tens = rank_tree(size = 50)\n",
    "    tens = tensors[i]\n",
    "    ret = [0] *11\n",
    "    if proc_tensor(tens) or proc_tensor(mat_trans(tens)) or proc_tensor(mat_inv(tens)) or proc_tensor(rotate(tens)):\n",
    "        ret[1] = 1\n",
    "        ret[0] = 1\n",
    "    if check_comb(tens):\n",
    "        ret[2] = 1\n",
    "        if ret[0] == 0:\n",
    "            ret[8] = 1\n",
    "        ret[0] = 1\n",
    "    r2 = r2_sub(tens, upper = 2)\n",
    "    #ret[5] = r2\n",
    "    #if check_r4(tens, upper = 1):\n",
    "    #    ret[6] = 1\n",
    "    #    if r2_sub(tens, upper = 1):\n",
    "    #        ret[9] = 1\n",
    "    #        if ret[0] == 1:\n",
    "    #            ret[10] = 1\n",
    "    if not check_r4(tens) and r2:\n",
    "        ret[6] = 1\n",
    "        if ret[0] == 0:\n",
    "            ret[7] = 1\n",
    "    return ret"
   ]
  },
  {
   "cell_type": "code",
   "execution_count": 177,
   "id": "under-custom",
   "metadata": {},
   "outputs": [
    {
     "name": "stdout",
     "output_type": "stream",
     "text": [
      "[885, 760, 393, 0, 0, 0, 531, 64, 125, 0, 0]\n",
      "127.52500081062317\n"
     ]
    }
   ],
   "source": [
    "te = time.time()\n",
    "total = 1000\n",
    "results = Parallel(n_jobs=6)(delayed(loop_rotations_old)(i) for i in range(total))\n",
    "res = [sum(x) for x in zip(*results)]\n",
    "print(res)\n",
    "print(time.time() - te)"
   ]
  },
  {
   "cell_type": "code",
   "execution_count": 178,
   "id": "b0805000-6ac3-47d4-bb26-45f8debdbad8",
   "metadata": {},
   "outputs": [
    {
     "name": "stdout",
     "output_type": "stream",
     "text": [
      "[956, 760, 711, 0, 0, 0, 531, 10, 196, 0, 0]\n",
      "235.91100072860718\n"
     ]
    }
   ],
   "source": [
    "te = time.time()\n",
    "total = 1000\n",
    "results = Parallel(n_jobs=6)(delayed(loop_rotations)(i) for i in range(total))\n",
    "res = [sum(x) for x in zip(*results)]\n",
    "print(res)\n",
    "print(time.time() - te)"
   ]
  },
  {
   "cell_type": "code",
   "execution_count": 176,
   "id": "6715bb66-112e-432e-b312-81ee3b8a3258",
   "metadata": {},
   "outputs": [],
   "source": [
    "total = 10000\n",
    "tensors = []\n",
    "for i in range(total):\n",
    "    tensors.append(rank_tree())"
   ]
  },
  {
   "cell_type": "code",
   "execution_count": 109,
   "id": "ebcd3a97-7389-488b-bb77-bfb31efdcef7",
   "metadata": {},
   "outputs": [
    {
     "name": "stdout",
     "output_type": "stream",
     "text": [
      "True True [0, 0, 0, 0, 0, 0, 1, 1, 0, 0, 0]\n"
     ]
    },
    {
     "data": {
      "text/plain": [
       "array([[[31290., 37464.],\n",
       "        [29504., 32412.]],\n",
       "\n",
       "       [[16549., 11553.],\n",
       "        [19336., 12264.]],\n",
       "\n",
       "       [[32221., 37353.],\n",
       "        [31176., 32856.]]])"
      ]
     },
     "execution_count": 109,
     "metadata": {},
     "output_type": "execute_result"
    }
   ],
   "source": [
    "c1 = False\n",
    "c2 = False\n",
    "c3 = False\n",
    "tens = rand_tensor()\n",
    "while not (c1 and c2 and c3):\n",
    "    tens = rank_tree(size = 40)\n",
    "    sols = test(tens)\n",
    "    c1 = sols[7] == 1\n",
    "    c2 = check_r2(tl.tensor([tens[0],tens[1]]))\n",
    "    a,b = symbols('a,b')\n",
    "    A1 = Matrix([a*b,a,b,1])\n",
    "    A2 = Matrix([a,a*b,1,b])\n",
    "    if c2:\n",
    "        c3 = test_simple(tens, A1) or test_simple(tens,A2)\n",
    "    else:\n",
    "        c3 = False\n",
    "print(c1,c2,test(tens))\n",
    "tens"
   ]
  },
  {
   "cell_type": "code",
   "execution_count": 110,
   "id": "8096e2c7-d1d6-4e05-9fae-543c9f07f1ba",
   "metadata": {},
   "outputs": [],
   "source": [
    "A = Matrix(tens[0]) * Matrix(tens[1]).inv()\n",
    "#a1\n",
    "res1 = Matrix(A.eigenvects()[0][2])\n",
    "#b1\n",
    "res2 = Matrix(A.eigenvects()[1][2])\n",
    "\n",
    "B = Matrix(tens[0]).transpose() * Matrix(tens[1]).transpose().inv()\n",
    "#a2\n",
    "res3 = Matrix(B.eigenvects()[0][2])\n",
    "#b2\n",
    "res4 = Matrix(B.eigenvects()[1][2])\n",
    "\n",
    "T1 = np.kron(res1,res3) * 1.0\n",
    "T2 = np.kron(res2,res4) * 1.0\n",
    "assert(np.all(T1 >= 0) or np.all(T1 <= 0))\n",
    "assert(np.all(T2 >= 0) or np.all(T2 <= 0))\n",
    "T1 = Matrix(abs(T1))\n",
    "T2 = Matrix(abs(T2))\n",
    "a,b = symbols('a,b')\n",
    "M = Matrix([[T1,T2]])\n",
    "A1 = Matrix([a*b,a,b,1])\n",
    "A2 = Matrix([a,a*b,1,b])\n",
    "M1 = Matrix([[M,A1,Matrix(tens[2].reshape(4))]])\n",
    "M2 = Matrix([[M,A2,Matrix(tens[2].reshape(4))]])"
   ]
  },
  {
   "cell_type": "code",
   "execution_count": 111,
   "id": "67e7db5f-1af1-45f0-880c-3ed5bb3ce2b8",
   "metadata": {},
   "outputs": [
    {
     "data": {
      "text/latex": [
       "$\\displaystyle \\frac{10.0 \\left(33723506725718.0 b - 85477364438257.0\\right)}{114274184394171.0 b - 615645429289735.0}$"
      ],
      "text/plain": [
       "10.0*(33723506725718.0*b - 85477364438257.0)/(114274184394171.0*b - 615645429289735.0)"
      ]
     },
     "execution_count": 111,
     "metadata": {},
     "output_type": "execute_result"
    }
   ],
   "source": [
    "a1 = solve(M1.det(),a)[0]\n",
    "a1\n",
    "x1 = solve(M2.det(),a)[0]\n",
    "x1"
   ]
  },
  {
   "cell_type": "code",
   "execution_count": 125,
   "id": "4b42c6ae-036d-4005-9179-eb6b564d996f",
   "metadata": {},
   "outputs": [
    {
     "data": {
      "text/latex": [
       "$\\displaystyle \\left[\\begin{matrix}\\frac{32856.0 \\left(- 35205915247665.6 b^{2} + 48006647971447.0 b - 16361942631046.3\\right)}{5421693322005.31 b^{2} - 14727317974513.0 b + 7447371267093.22} + \\frac{31176.0 \\left(- 0.001953125 b^{2} - 26520920073355.3 b + 17818364355822.3\\right)}{5421693322005.31 b^{2} - 14727317974513.0 b + 7447371267093.22} + \\frac{37353.0 \\left(44458371265478.9 b^{2} - 38122057370458.6 b + 5544345267750.98\\right)}{5421693322005.31 b^{2} - 14727317974513.0 b + 7447371267093.22}\\\\\\frac{31176.0 \\left(4405739547750.5 b - 9007569625801.68\\right)}{9578660454340.39 b^{2} - 26019173328820.4 b + 13157483540310.6} + \\frac{37353.0 \\left(- 28234728681622.6 b^{2} + 62966970137293.4 b - 10714943806875.3\\right)}{9578660454340.39 b^{2} - 26019173328820.4 b + 13157483540310.6} + \\frac{32856.0 \\left(34795886558995.9 b^{2} - 86606741006790.5 b + 31620919584990.8\\right)}{9578660454340.39 b^{2} - 26019173328820.4 b + 13157483540310.6}\\\\\\frac{37353.0 \\left(18930397279541.2 - 101986398954188.0 b\\right)}{32728292663834.5 b^{2} - 88902109395766.4 b + 44956387595067.4} + \\frac{31176.0 \\left(32728292663834.5 b - 6074923605115.08\\right)}{32728292663834.5 b^{2} - 88902109395766.4 b + 44956387595067.4} + \\frac{32856.0 \\left(58772640609585.7 b - 10909194238801.6\\right)}{32728292663834.5 b^{2} - 88902109395766.4 b + 44956387595067.4}\\end{matrix}\\right]$"
      ],
      "text/plain": [
       "Matrix([\n",
       "[32856.0*(-35205915247665.6*b**2 + 48006647971447.0*b - 16361942631046.3)/(5421693322005.31*b**2 - 14727317974513.0*b + 7447371267093.22) + 31176.0*(-0.001953125*b**2 - 26520920073355.3*b + 17818364355822.3)/(5421693322005.31*b**2 - 14727317974513.0*b + 7447371267093.22) + 37353.0*(44458371265478.9*b**2 - 38122057370458.6*b + 5544345267750.98)/(5421693322005.31*b**2 - 14727317974513.0*b + 7447371267093.22)],\n",
       "[                     31176.0*(4405739547750.5*b - 9007569625801.68)/(9578660454340.39*b**2 - 26019173328820.4*b + 13157483540310.6) + 37353.0*(-28234728681622.6*b**2 + 62966970137293.4*b - 10714943806875.3)/(9578660454340.39*b**2 - 26019173328820.4*b + 13157483540310.6) + 32856.0*(34795886558995.9*b**2 - 86606741006790.5*b + 31620919584990.8)/(9578660454340.39*b**2 - 26019173328820.4*b + 13157483540310.6)],\n",
       "[                                                                    37353.0*(18930397279541.2 - 101986398954188.0*b)/(32728292663834.5*b**2 - 88902109395766.4*b + 44956387595067.4) + 31176.0*(32728292663834.5*b - 6074923605115.08)/(32728292663834.5*b**2 - 88902109395766.4*b + 44956387595067.4) + 32856.0*(58772640609585.7*b - 10909194238801.6)/(32728292663834.5*b**2 - 88902109395766.4*b + 44956387595067.4)]])"
      ]
     },
     "execution_count": 125,
     "metadata": {},
     "output_type": "execute_result"
    }
   ],
   "source": [
    "A1 = Matrix([a1 *b,a1,b,1])\n",
    "M1 = Matrix([[M,A1,Matrix(tens[2].reshape(4))]])\n",
    "M1_sub = M1[1:4,0:3]\n",
    "R = M1[1:4,3]\n",
    "res = M1_sub.inv() @ R\n",
    "res"
   ]
  },
  {
   "cell_type": "code",
   "execution_count": 126,
   "id": "2015452a-9e3d-4c66-9ac8-4b74a9cbc825",
   "metadata": {},
   "outputs": [
    {
     "data": {
      "text/latex": [
       "$\\displaystyle \\left(1.59282825359567 \\cdot 10^{17} - 8.58126828179526 \\cdot 10^{17} b\\right) \\left(32728292663834.5 b^{2} - 88902109395766.4 b + 44956387595067.4\\right)$"
      ],
      "text/plain": [
       "(1.59282825359567e+17 - 8.58126828179526e+17*b)*(32728292663834.5*b**2 - 88902109395766.4*b + 44956387595067.4)"
      ]
     },
     "execution_count": 126,
     "metadata": {},
     "output_type": "execute_result"
    }
   ],
   "source": [
    "res1 = res.copy()\n",
    "res1[0] = fraction(simplify(res1[0]))[0] * fraction(simplify(res1[0]))[1]\n",
    "res1[1] = fraction(simplify(res1[1]))[0] * fraction(simplify(res1[1]))[1]\n",
    "res1[2] = fraction(simplify(res1[2]))[0] * fraction(simplify(res1[2]))[1]\n",
    "a2 = fraction(simplify(a1))[0] * fraction(simplify(a1))[1]\n",
    "res1[2]"
   ]
  },
  {
   "cell_type": "code",
   "execution_count": 127,
   "id": "da93ee77-509f-4fc2-bb1e-952d6ade29ab",
   "metadata": {},
   "outputs": [],
   "source": [
    "s1 = solveset(a2 >= 0, b, S.Reals)\n",
    "s2 = solveset(res1[0] >= 0, b, S.Reals)\n",
    "s3 = solveset(res1[1] >=0,b,S.Reals)\n",
    "s4 = solveset(res1[2] >=0,b,S.Reals)\n",
    "s5 = solveset(b >=0,b,S.Reals)"
   ]
  },
  {
   "cell_type": "code",
   "execution_count": 129,
   "id": "6bc55418-5d32-45e5-9745-2a530cbc5160",
   "metadata": {},
   "outputs": [
    {
     "data": {
      "text/latex": [
       "$\\displaystyle 0.18561688101219$"
      ],
      "text/plain": [
       "0.185616881012190"
      ]
     },
     "execution_count": 129,
     "metadata": {},
     "output_type": "execute_result"
    }
   ],
   "source": [
    "sol = Intersection(s1,s2,s3,s4,s5)\n",
    "sol.measure"
   ]
  },
  {
   "cell_type": "code",
   "execution_count": 130,
   "id": "12480c78-390e-4340-9b86-9fc96371288c",
   "metadata": {},
   "outputs": [
    {
     "name": "stdout",
     "output_type": "stream",
     "text": [
      "4.77631218541205\n"
     ]
    },
    {
     "data": {
      "text/latex": [
       "$\\displaystyle \\left[\\begin{matrix}26987.9126568622\\\\30338.7203593897\\\\2018.77324621513\\end{matrix}\\right]$"
      ],
      "text/plain": [
       "Matrix([\n",
       "[26987.9126568622],\n",
       "[30338.7203593897],\n",
       "[2018.77324621513]])"
      ]
     },
     "execution_count": 130,
     "metadata": {},
     "output_type": "execute_result"
    }
   ],
   "source": [
    "b1 = 0.1\n",
    "a3 = a1.subs(b,b1)\n",
    "A1 = Matrix([a3 *b1,a3,b1,1])\n",
    "M1 = Matrix([[M,A1,Matrix(tens[2].reshape(4))]])\n",
    "M1_sub = M1[1:4,0:3]\n",
    "R = M1[1:4,3]\n",
    "print(a3)\n",
    "M1_sub.inv() @ R"
   ]
  },
  {
   "cell_type": "code",
   "execution_count": 131,
   "id": "a6d24024-d9f9-45bf-b8b4-7bc9514714f8",
   "metadata": {},
   "outputs": [
    {
     "data": {
      "text/latex": [
       "$\\displaystyle \\left[\\begin{matrix}\\frac{32856.0 \\left(- 16361942631046.3 b^{2} + 48006647971447.0 b - 35205915247665.6\\right)}{7447371267093.22 b^{2} - 14727317974513.0 b + 5421693322005.31} + \\frac{37353.0 \\left(5544345267750.98 b^{2} - 38122057370458.6 b + 44458371265478.9\\right)}{7447371267093.22 b^{2} - 14727317974513.0 b + 5421693322005.31} + \\frac{31176.0 \\left(17818364355822.3 b^{2} - 26520920073355.3 b - 0.001953125\\right)}{7447371267093.22 b^{2} - 14727317974513.0 b + 5421693322005.31}\\\\\\frac{31176.0 \\left(- 9007569625801.68 b^{2} + 4405739547750.5 b\\right)}{13157483540310.6 b^{2} - 26019173328820.4 b + 9578660454340.39} + \\frac{37353.0 \\left(- 10714943806875.3 b^{2} + 62966970137293.4 b - 28234728681622.6\\right)}{13157483540310.6 b^{2} - 26019173328820.4 b + 9578660454340.39} + \\frac{32856.0 \\left(31620919584990.8 b^{2} - 86606741006790.5 b + 34795886558995.9\\right)}{13157483540310.6 b^{2} - 26019173328820.4 b + 9578660454340.39}\\\\\\frac{31176.0 \\left(32728292663834.5 - 6074923605115.08 b\\right)}{44956387595067.4 b^{2} - 88902109395766.4 b + 32728292663834.5} + \\frac{32856.0 \\left(58772640609585.7 - 10909194238801.6 b\\right)}{44956387595067.4 b^{2} - 88902109395766.4 b + 32728292663834.5} + \\frac{37353.0 \\left(18930397279541.2 b - 101986398954188.0\\right)}{44956387595067.4 b^{2} - 88902109395766.4 b + 32728292663834.5}\\end{matrix}\\right]$"
      ],
      "text/plain": [
       "Matrix([\n",
       "[32856.0*(-16361942631046.3*b**2 + 48006647971447.0*b - 35205915247665.6)/(7447371267093.22*b**2 - 14727317974513.0*b + 5421693322005.31) + 37353.0*(5544345267750.98*b**2 - 38122057370458.6*b + 44458371265478.9)/(7447371267093.22*b**2 - 14727317974513.0*b + 5421693322005.31) + 31176.0*(17818364355822.3*b**2 - 26520920073355.3*b - 0.001953125)/(7447371267093.22*b**2 - 14727317974513.0*b + 5421693322005.31)],\n",
       "[              31176.0*(-9007569625801.68*b**2 + 4405739547750.5*b)/(13157483540310.6*b**2 - 26019173328820.4*b + 9578660454340.39) + 37353.0*(-10714943806875.3*b**2 + 62966970137293.4*b - 28234728681622.6)/(13157483540310.6*b**2 - 26019173328820.4*b + 9578660454340.39) + 32856.0*(31620919584990.8*b**2 - 86606741006790.5*b + 34795886558995.9)/(13157483540310.6*b**2 - 26019173328820.4*b + 9578660454340.39)],\n",
       "[                                                                   31176.0*(32728292663834.5 - 6074923605115.08*b)/(44956387595067.4*b**2 - 88902109395766.4*b + 32728292663834.5) + 32856.0*(58772640609585.7 - 10909194238801.6*b)/(44956387595067.4*b**2 - 88902109395766.4*b + 32728292663834.5) + 37353.0*(18930397279541.2*b - 101986398954188.0)/(44956387595067.4*b**2 - 88902109395766.4*b + 32728292663834.5)]])"
      ]
     },
     "execution_count": 131,
     "metadata": {},
     "output_type": "execute_result"
    }
   ],
   "source": [
    "A2 = Matrix([x1,x1*b,1,b])\n",
    "M2 = Matrix([[M,A2,Matrix(tens[2].reshape(4))]])\n",
    "M2_sub = M2[1:4,0:3]\n",
    "R = M2[1:4,3]\n",
    "res = M2_sub.inv() @ R\n",
    "res"
   ]
  },
  {
   "cell_type": "code",
   "execution_count": 134,
   "id": "e223eb15-dd08-46e2-8ed7-cee8e4bad5f6",
   "metadata": {},
   "outputs": [
    {
     "data": {
      "text/latex": [
       "$\\displaystyle \\left[5.38744102662909, \\infty\\right)$"
      ],
      "text/plain": [
       "Interval(5.38744102662909, oo)"
      ]
     },
     "execution_count": 134,
     "metadata": {},
     "output_type": "execute_result"
    }
   ],
   "source": [
    "res1 = res.copy()\n",
    "res1[0] = fraction(simplify(res1[0]))[0] * fraction(simplify(res1[0]))[1]\n",
    "res1[0] = expand(res1[0])\n",
    "res1[1] = fraction(simplify(res1[1]))[0] * fraction(simplify(res1[1]))[1]\n",
    "res1[1] = expand(res1[1])\n",
    "res1[2] = fraction(simplify(res1[2]))[0] * fraction(simplify(res1[2]))[1]\n",
    "res1[2] = expand(res1[2])\n",
    "x2 = fraction(simplify(x1))[0] * fraction(simplify(x1))[1]\n",
    "s1 = solveset(x2 >= 0, b, S.Reals)\n",
    "s2 = solveset(res1[0] >= 0, b, S.Reals)\n",
    "s3 = solveset(res1[1] >=0,b,S.Reals)\n",
    "s4 = solveset(res1[2] >=0,b,S.Reals)\n",
    "s5 = solveset(b >= 0,b,S.Reals)\n",
    "sol = Intersection(s1,s2,s3,s4,s5)\n",
    "sol"
   ]
  },
  {
   "cell_type": "code",
   "execution_count": 140,
   "id": "5db546ff-5651-4ec2-9467-3ed3378fa4b5",
   "metadata": {},
   "outputs": [
    {
     "name": "stdout",
     "output_type": "stream",
     "text": [
      "-18.7783386479107\n"
     ]
    },
    {
     "data": {
      "text/latex": [
       "$\\displaystyle \\left[\\begin{matrix}23411.9621111801\\\\34808.0057130747\\\\-86.6596318298249\\end{matrix}\\right]$"
      ],
      "text/plain": [
       "Matrix([\n",
       "[ 23411.9621111801],\n",
       "[ 34808.0057130747],\n",
       "[-86.6596318298249]])"
      ]
     },
     "execution_count": 140,
     "metadata": {},
     "output_type": "execute_result"
    }
   ],
   "source": [
    "b1 = 5\n",
    "a3 = x1.subs(b,b1)\n",
    "A2 = Matrix([a3,a3*b1,1,b1])\n",
    "M1 = Matrix([[M,A2,Matrix(tens[2].reshape(4))]])\n",
    "M1_sub = M1[1:4,0:3]\n",
    "R = M1[1:4,3]\n",
    "print(a3)\n",
    "M1_sub.inv() @ R"
   ]
  },
  {
   "cell_type": "code",
   "execution_count": 533,
   "id": "e7f8b045-39f1-4fe4-92e4-233d5f0a30be",
   "metadata": {},
   "outputs": [
    {
     "data": {
      "text/latex": [
       "$\\displaystyle \\left[\\begin{matrix}0.914022530833753 & 0.16368505997965 & 0.135758216677981 & 5748.0\\\\0.380985316678126 & 1.00417209936221 & 0.832847014041152 & 1670.0\\\\0.128605689220069 & 0.196536767521583 & 0.163004986977444 & 8204.0\\\\0.0536057674523875 & 1.20571015136352 & 1 & 4949.0\\end{matrix}\\right]$"
      ],
      "text/plain": [
       "Matrix([\n",
       "[ 0.914022530833753,  0.16368505997965, 0.135758216677981, 5748.0],\n",
       "[ 0.380985316678126,  1.00417209936221, 0.832847014041152, 1670.0],\n",
       "[ 0.128605689220069, 0.196536767521583, 0.163004986977444, 8204.0],\n",
       "[0.0536057674523875,  1.20571015136352,                 1, 4949.0]])"
      ]
     },
     "execution_count": 533,
     "metadata": {},
     "output_type": "execute_result"
    }
   ],
   "source": [
    "M1"
   ]
  },
  {
   "cell_type": "code",
   "execution_count": 534,
   "id": "86d18fbe-e328-4685-a247-e398e1216b6f",
   "metadata": {},
   "outputs": [
    {
     "data": {
      "text/latex": [
       "$\\displaystyle \\left[\\begin{matrix}- \\frac{1670.0 \\left(- 38235434973269.5 b^{2} + 6232566579894.77 b\\right)}{335415311473722.0 b - 735361505608343.0} + \\frac{8204.0 \\left(- 475872744554206.0 b^{2} + 724412708259327.0 b - 105438647461885.0\\right)}{335415311473722.0 b - 735361505608343.0} + \\frac{5748.0 \\left(336814697480797.0 b^{2} - 831567417226825.0 b + 126600258732122.0\\right)}{335415311473722.0 b - 735361505608343.0}\\\\\\frac{1670.0 \\left(245631480973854.0 b^{2} - 589294909971145.0 b\\right)}{335415311473722.0 b - 735361505608343.0} - \\frac{8204.0 \\left(- 180547267144371.0 b^{2} + 678565084187433.0 b - 588772728633766.0\\right)}{335415311473722.0 b - 735361505608343.0} - \\frac{5748.0 \\left(127788308660508.0 b^{2} - 341107606986848.0 b + 82842074462712.2\\right)}{335415311473722.0 b - 735361505608343.0}\\\\6441.55596576705\\end{matrix}\\right]$"
      ],
      "text/plain": [
       "Matrix([\n",
       "[-1670.0*(-38235434973269.5*b**2 + 6232566579894.77*b)/(335415311473722.0*b - 735361505608343.0) + 8204.0*(-475872744554206.0*b**2 + 724412708259327.0*b - 105438647461885.0)/(335415311473722.0*b - 735361505608343.0) + 5748.0*(336814697480797.0*b**2 - 831567417226825.0*b + 126600258732122.0)/(335415311473722.0*b - 735361505608343.0)],\n",
       "[ 1670.0*(245631480973854.0*b**2 - 589294909971145.0*b)/(335415311473722.0*b - 735361505608343.0) - 8204.0*(-180547267144371.0*b**2 + 678565084187433.0*b - 588772728633766.0)/(335415311473722.0*b - 735361505608343.0) - 5748.0*(127788308660508.0*b**2 - 341107606986848.0*b + 82842074462712.2)/(335415311473722.0*b - 735361505608343.0)],\n",
       "[                                                                                                                                                                                                                                                                                                                            6441.55596576705]])"
      ]
     },
     "execution_count": 534,
     "metadata": {},
     "output_type": "execute_result"
    }
   ],
   "source": [
    "A1 = Matrix([a1 *b,a1,b,1])\n",
    "M1 = Matrix([[M,A1,Matrix(tens[2].reshape(4))]])\n",
    "M2_sub = M1[0:3,0:3]\n",
    "R = M1[0:3,3]\n",
    "res = M2_sub.adjugate() @ R\n",
    "res"
   ]
  },
  {
   "cell_type": "code",
   "execution_count": 535,
   "id": "d9e2dbcc-ccf5-411e-ab43-e1152b54d0c6",
   "metadata": {},
   "outputs": [
    {
     "data": {
      "text/plain": [
       "[0.163004986977442 - 0.e-23*I,\n",
       " 0.442407478548126 + 0.e-20*I,\n",
       " 2.1923909864978 - 0.e-22*I]"
      ]
     },
     "execution_count": 535,
     "metadata": {},
     "output_type": "execute_result"
    }
   ],
   "source": [
    "res1 = res.copy()\n",
    "res1[0] = fraction(simplify(res[0]))[0] * fraction(simplify(res[0]))[1]\n",
    "res1[0] = expand(res1[0])\n",
    "solve(res1[0],b)"
   ]
  },
  {
   "cell_type": "code",
   "execution_count": 536,
   "id": "88773dbf-2feb-4af1-949d-adf8e656bbd9",
   "metadata": {},
   "outputs": [
    {
     "data": {
      "text/plain": [
       "[1.5687735388356 + 0.e-22*I,\n",
       " 2.1923909864982 + 0.e-23*I,\n",
       " 2.39910172602749 - 0.e-23*I]"
      ]
     },
     "execution_count": 536,
     "metadata": {},
     "output_type": "execute_result"
    }
   ],
   "source": [
    "res1[1] = fraction(simplify(res1[1]))[0] * fraction(simplify(res1[1]))[1]\n",
    "res1[1] = expand(res1[1])\n",
    "solve(res1[1],b)"
   ]
  },
  {
   "cell_type": "code",
   "execution_count": 537,
   "id": "1dc82e0c-c5c4-44a0-b99f-80dd191ce8eb",
   "metadata": {},
   "outputs": [
    {
     "data": {
      "text/plain": [
       "[]"
      ]
     },
     "execution_count": 537,
     "metadata": {},
     "output_type": "execute_result"
    }
   ],
   "source": [
    "solve(res1[2],b)"
   ]
  },
  {
   "cell_type": "code",
   "execution_count": 538,
   "id": "24467d02-d1ba-4767-ac53-a375ac6fc330",
   "metadata": {},
   "outputs": [
    {
     "name": "stdout",
     "output_type": "stream",
     "text": [
      "1.58951841958048e+29\n"
     ]
    },
    {
     "data": {
      "text/plain": [
       "[1.35927742265699, 2.19239098649781]"
      ]
     },
     "execution_count": 538,
     "metadata": {},
     "output_type": "execute_result"
    }
   ],
   "source": [
    "a2 = fraction(simplify(a1))[0] * fraction(simplify(a1))[1]\n",
    "print(LC(a2))\n",
    "solve(a2,b)"
   ]
  },
  {
   "cell_type": "code",
   "execution_count": 393,
   "id": "51bd0ebb-b1c2-49c0-a86d-6915799410e0",
   "metadata": {},
   "outputs": [
    {
     "data": {
      "text/latex": [
       "$\\displaystyle \\left[\\begin{matrix}20064.5114342207\\\\16074.895707293\\\\115.74843886333\\end{matrix}\\right]$"
      ],
      "text/plain": [
       "Matrix([\n",
       "[20064.5114342207],\n",
       "[ 16074.895707293],\n",
       "[ 115.74843886333]])"
      ]
     },
     "execution_count": 393,
     "metadata": {},
     "output_type": "execute_result"
    }
   ],
   "source": [
    "b1 = 2\n",
    "a3= a1.subs(b,b1)\n",
    "A1 = Matrix([a3 *b1,a3,b1,1])\n",
    "M1 = Matrix([[M,A1,Matrix(tens[2].reshape(4))]])\n",
    "M1_sub = M1[0:3,0:3]\n",
    "R = M1[0:3,3]\n",
    "M1_sub.inv() @ R"
   ]
  },
  {
   "cell_type": "code",
   "execution_count": 107,
   "id": "ff365200-b05c-44d1-b8fc-08b523c134c6",
   "metadata": {},
   "outputs": [],
   "source": []
  },
  {
   "cell_type": "code",
   "execution_count": 144,
   "id": "a41e5e43-0e76-4881-bcf0-ef64f0215ad6",
   "metadata": {},
   "outputs": [
    {
     "ename": "TypeError",
     "evalue": "test_simple() missing 1 required positional argument: 'A1'",
     "output_type": "error",
     "traceback": [
      "\u001b[1;31m---------------------------------------------------------------------------\u001b[0m",
      "\u001b[1;31mTypeError\u001b[0m                                 Traceback (most recent call last)",
      "\u001b[1;32m~\\AppData\\Local\\Temp/ipykernel_23324/776711470.py\u001b[0m in \u001b[0;36m<module>\u001b[1;34m\u001b[0m\n\u001b[0;32m      2\u001b[0m \u001b[0mA1\u001b[0m \u001b[1;33m=\u001b[0m \u001b[0mMatrix\u001b[0m\u001b[1;33m(\u001b[0m\u001b[1;33m[\u001b[0m\u001b[0ma\u001b[0m\u001b[1;33m*\u001b[0m\u001b[0mb\u001b[0m\u001b[1;33m,\u001b[0m\u001b[0ma\u001b[0m\u001b[1;33m,\u001b[0m\u001b[0mb\u001b[0m\u001b[1;33m,\u001b[0m\u001b[1;36m1\u001b[0m\u001b[1;33m]\u001b[0m\u001b[1;33m)\u001b[0m\u001b[1;33m\u001b[0m\u001b[1;33m\u001b[0m\u001b[0m\n\u001b[0;32m      3\u001b[0m \u001b[0mA2\u001b[0m \u001b[1;33m=\u001b[0m \u001b[0mMatrix\u001b[0m\u001b[1;33m(\u001b[0m\u001b[1;33m[\u001b[0m\u001b[0ma\u001b[0m\u001b[1;33m,\u001b[0m\u001b[0ma\u001b[0m\u001b[1;33m*\u001b[0m\u001b[0mb\u001b[0m\u001b[1;33m,\u001b[0m\u001b[1;36m1\u001b[0m\u001b[1;33m,\u001b[0m\u001b[0mb\u001b[0m\u001b[1;33m]\u001b[0m\u001b[1;33m)\u001b[0m\u001b[1;33m\u001b[0m\u001b[1;33m\u001b[0m\u001b[0m\n\u001b[1;32m----> 4\u001b[1;33m \u001b[0mprint\u001b[0m\u001b[1;33m(\u001b[0m\u001b[0mtest_simple\u001b[0m\u001b[1;33m(\u001b[0m\u001b[0mtens\u001b[0m\u001b[1;33m)\u001b[0m\u001b[1;33m,\u001b[0m \u001b[0mtest_simple\u001b[0m\u001b[1;33m(\u001b[0m\u001b[0mtens\u001b[0m\u001b[1;33m)\u001b[0m\u001b[1;33m)\u001b[0m\u001b[1;33m\u001b[0m\u001b[1;33m\u001b[0m\u001b[0m\n\u001b[0m",
      "\u001b[1;31mTypeError\u001b[0m: test_simple() missing 1 required positional argument: 'A1'"
     ]
    }
   ],
   "source": [
    "a,b = symbols('a,b')\n",
    "A1 = Matrix([a*b,a,b,1])\n",
    "A2 = Matrix([a,a*b,1,b])\n",
    "print(test_simple(tens), test_simple(tens))"
   ]
  },
  {
   "cell_type": "code",
   "execution_count": null,
   "id": "81e8fdc8-8a2e-4525-a05d-ffd7919facf5",
   "metadata": {},
   "outputs": [],
   "source": []
  }
 ],
 "metadata": {
  "kernelspec": {
   "display_name": "Python 3 (ipykernel)",
   "language": "python",
   "name": "python3"
  },
  "language_info": {
   "codemirror_mode": {
    "name": "ipython",
    "version": 3
   },
   "file_extension": ".py",
   "mimetype": "text/x-python",
   "name": "python",
   "nbconvert_exporter": "python",
   "pygments_lexer": "ipython3",
   "version": "3.9.5"
  }
 },
 "nbformat": 4,
 "nbformat_minor": 5
}
