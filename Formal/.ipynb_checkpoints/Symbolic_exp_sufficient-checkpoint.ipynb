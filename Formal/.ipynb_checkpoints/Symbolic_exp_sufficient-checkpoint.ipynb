{
 "cells": [
  {
   "cell_type": "code",
   "execution_count": null,
   "id": "d30669db-f255-439d-8ade-5b051bff512f",
   "metadata": {},
   "outputs": [],
   "source": [
    "!pip install tensorly"
   ]
  },
  {
   "cell_type": "code",
   "execution_count": 24,
   "id": "restricted-carter",
   "metadata": {},
   "outputs": [],
   "source": [
    "import tensorly as tl\n",
    "import numpy as np\n",
    "from numpy import linalg as la\n",
    "from sympy import *\n",
    "from sympy import Matrix, symbols, solve_linear_system\n",
    "from sympy.solvers.solveset import linsolve\n",
    "import time\n",
    "from joblib import Parallel, delayed\n",
    "x,y,z_1,z_2,z_3 = symbols('x y z_1 z_2 z_3')\n",
    "x,y,z1,z2,z3 ,b= symbols(\"x,y,z1,z2,z3,b\")\n",
    "p_112, p_102, p_002, p_012 = symbols('p_112 p_102 p_002 p_012')\n",
    "p_000, p_001, p_100, p_101, p_200, p_201, p_010, p_011, p_020, p_021, p_110, p_111, p_210, p_211, p_120, p_121, p_220, p_221 = symbols('p_000 p_001 p_100 p_101 p_200 p_201 p_010 p_011 p_020 p_021 p_110 p_111 p_210 p_211 p_120 p_121 p_220 p_221')"
   ]
  },
  {
   "cell_type": "code",
   "execution_count": 25,
   "id": "opposed-campaign",
   "metadata": {},
   "outputs": [
    {
     "data": {
      "text/latex": [
       "$\\displaystyle \\left[\\begin{matrix}\\left[\\begin{matrix}p_{000} & p_{010}\\\\p_{100} & p_{110}\\end{matrix}\\right] & \\left[\\begin{matrix}p_{001} & p_{011}\\\\p_{101} & p_{111}\\end{matrix}\\right] & \\left[\\begin{matrix}p_{002} & p_{012}\\\\p_{102} & p_{112}\\end{matrix}\\right]\\end{matrix}\\right]$"
      ],
      "text/plain": [
       "[[[p_000, p_010], [p_100, p_110]], [[p_001, p_011], [p_101, p_111]], [[p_002, p_012], [p_102, p_112]]]"
      ]
     },
     "execution_count": 25,
     "metadata": {},
     "output_type": "execute_result"
    }
   ],
   "source": [
    "tens = Array([[[p_000, p_010],[p_100, p_110]],\n",
    "          [[p_001, p_011],[p_101, p_111]],\n",
    "           [[p_002, p_012],[p_102, p_112]]])\n",
    "tens"
   ]
  },
  {
   "cell_type": "code",
   "execution_count": 26,
   "id": "numerical-battlefield",
   "metadata": {},
   "outputs": [
    {
     "data": {
      "text/latex": [
       "$\\displaystyle p_{000} p_{011} p_{112} - p_{000} p_{012} p_{111} - p_{001} p_{010} p_{112} + p_{001} p_{012} p_{110} + p_{002} p_{010} p_{111} - p_{002} p_{011} p_{110}$"
      ],
      "text/plain": [
       "p_000*p_011*p_112 - p_000*p_012*p_111 - p_001*p_010*p_112 + p_001*p_012*p_110 + p_002*p_010*p_111 - p_002*p_011*p_110"
      ]
     },
     "execution_count": 26,
     "metadata": {},
     "output_type": "execute_result"
    }
   ],
   "source": [
    "M_b = Matrix([[Matrix(tens[:,0,0]), Matrix(tens[:,0,1]), Matrix(tens[:,1,1])]]).transpose()\n",
    "M_b.det()"
   ]
  },
  {
   "cell_type": "code",
   "execution_count": 27,
   "id": "interior-testimony",
   "metadata": {},
   "outputs": [
    {
     "data": {
      "text/latex": [
       "$\\displaystyle p_{000} p_{011} p_{102} - p_{000} p_{012} p_{101} - p_{001} p_{010} p_{102} + p_{001} p_{012} p_{100} + p_{002} p_{010} p_{101} - p_{002} p_{011} p_{100}$"
      ],
      "text/plain": [
       "p_000*p_011*p_102 - p_000*p_012*p_101 - p_001*p_010*p_102 + p_001*p_012*p_100 + p_002*p_010*p_101 - p_002*p_011*p_100"
      ]
     },
     "execution_count": 27,
     "metadata": {},
     "output_type": "execute_result"
    }
   ],
   "source": [
    "M_a = Matrix([[Matrix(tens[:,0,0]), Matrix(tens[:,0,1]), Matrix(tens[:,1,0])]]).transpose()\n",
    "M_a.det()"
   ]
  },
  {
   "cell_type": "code",
   "execution_count": 28,
   "id": "julian-berlin",
   "metadata": {},
   "outputs": [
    {
     "data": {
      "text/latex": [
       "$\\displaystyle \\left[\\begin{matrix}p_{000} & 0 & a & 0 & 0\\\\0 & p_{010} & b & 0 & 0\\\\p_{001} & 0 & 0 & a & 0\\\\0 & p_{011} & 0 & b & 0\\\\p_{002} & 0 & 0 & 0 & a\\\\0 & p_{012} & 0 & 0 & b\\end{matrix}\\right]$"
      ],
      "text/plain": [
       "Matrix([\n",
       "[p_000,     0, a, 0, 0],\n",
       "[    0, p_010, b, 0, 0],\n",
       "[p_001,     0, 0, a, 0],\n",
       "[    0, p_011, 0, b, 0],\n",
       "[p_002,     0, 0, 0, a],\n",
       "[    0, p_012, 0, 0, b]])"
      ]
     },
     "execution_count": 28,
     "metadata": {},
     "output_type": "execute_result"
    }
   ],
   "source": [
    "a, b = symbols(\"a b\")\n",
    "# M is the matrix we want to solve to find x,y,z1,z2,z3\n",
    "M = Matrix([[tens[0][0][0],0,a,0,0],[0,tens[0][0][1],b,0,0],\n",
    "            [tens[1][0][0],0,0,a,0],[0,tens[1][0][1],0,b,0],\n",
    "            [tens[2][0][0],0,0,0,a],[0,tens[2][0][1],0,0,b]])\n",
    "M"
   ]
  },
  {
   "cell_type": "code",
   "execution_count": 29,
   "id": "composed-daughter",
   "metadata": {},
   "outputs": [
    {
     "data": {
      "text/latex": [
       "$\\displaystyle \\left[\\begin{matrix}p_{100}\\\\p_{110}\\\\p_{101}\\\\p_{111}\\\\p_{102}\\\\p_{112}\\end{matrix}\\right]$"
      ],
      "text/plain": [
       "Matrix([\n",
       "[p_100],\n",
       "[p_110],\n",
       "[p_101],\n",
       "[p_111],\n",
       "[p_102],\n",
       "[p_112]])"
      ]
     },
     "execution_count": 29,
     "metadata": {},
     "output_type": "execute_result"
    }
   ],
   "source": [
    "R = Matrix([Matrix(tens[0,1]),Matrix(tens[1,1]),Matrix(tens[2,1])])\n",
    "R"
   ]
  },
  {
   "cell_type": "code",
   "execution_count": 30,
   "id": "maritime-siemens",
   "metadata": {},
   "outputs": [
    {
     "data": {
      "text/latex": [
       "$\\displaystyle \\left[\\begin{matrix}a \\left(a p_{010} p_{111} - a p_{011} p_{110} - b p_{010} p_{101} + b p_{011} p_{100}\\right)\\\\b \\left(a p_{000} p_{111} - a p_{001} p_{110} - b p_{000} p_{101} + b p_{001} p_{100}\\right)\\\\- a p_{000} p_{010} p_{111} + a p_{000} p_{011} p_{110} + b p_{000} p_{010} p_{101} - b p_{001} p_{010} p_{100}\\\\- a p_{001} p_{010} p_{111} + a p_{001} p_{011} p_{110} + b p_{000} p_{011} p_{101} - b p_{001} p_{011} p_{100}\\\\- a p_{002} p_{010} p_{111} + a p_{002} p_{011} p_{110} + b p_{002} p_{010} p_{101} - b p_{002} p_{011} p_{100} + b p_{102} \\left(p_{000} p_{011} - p_{001} p_{010}\\right)\\end{matrix}\\right]$"
      ],
      "text/plain": [
       "Matrix([\n",
       "[                                                           a*(a*p_010*p_111 - a*p_011*p_110 - b*p_010*p_101 + b*p_011*p_100)],\n",
       "[                                                           b*(a*p_000*p_111 - a*p_001*p_110 - b*p_000*p_101 + b*p_001*p_100)],\n",
       "[                                      -a*p_000*p_010*p_111 + a*p_000*p_011*p_110 + b*p_000*p_010*p_101 - b*p_001*p_010*p_100],\n",
       "[                                      -a*p_001*p_010*p_111 + a*p_001*p_011*p_110 + b*p_000*p_011*p_101 - b*p_001*p_011*p_100],\n",
       "[-a*p_002*p_010*p_111 + a*p_002*p_011*p_110 + b*p_002*p_010*p_101 - b*p_002*p_011*p_100 + b*p_102*(p_000*p_011 - p_001*p_010)]])"
      ]
     },
     "execution_count": 30,
     "metadata": {},
     "output_type": "execute_result"
    }
   ],
   "source": [
    "M_sub = Matrix(M[0:5,0:5])\n",
    "L = simplify((M_sub.adjugate() @ Matrix(R[0:5]))/a)\n",
    "L"
   ]
  },
  {
   "cell_type": "code",
   "execution_count": 31,
   "id": "forward-diving",
   "metadata": {},
   "outputs": [
    {
     "data": {
      "text/latex": [
       "$\\displaystyle p_{000} p_{011} p_{101} \\left(p_{000} p_{011} p_{112} - p_{000} p_{012} p_{111} - p_{001} p_{010} p_{112} + p_{001} p_{012} p_{110} + p_{002} p_{010} p_{111} - p_{002} p_{011} p_{110}\\right) - p_{001} p_{010} p_{111} \\left(p_{000} p_{011} p_{102} - p_{000} p_{012} p_{101} - p_{001} p_{010} p_{102} + p_{001} p_{012} p_{100} + p_{002} p_{010} p_{101} - p_{002} p_{011} p_{100}\\right) - p_{001} p_{011} p_{100} \\left(p_{000} p_{011} p_{112} - p_{000} p_{012} p_{111} - p_{001} p_{010} p_{112} + p_{001} p_{012} p_{110} + p_{002} p_{010} p_{111} - p_{002} p_{011} p_{110}\\right) + p_{001} p_{011} p_{110} \\left(p_{000} p_{011} p_{102} - p_{000} p_{012} p_{101} - p_{001} p_{010} p_{102} + p_{001} p_{012} p_{100} + p_{002} p_{010} p_{101} - p_{002} p_{011} p_{100}\\right)$"
      ],
      "text/plain": [
       "p_000*p_011*p_101*(p_000*p_011*p_112 - p_000*p_012*p_111 - p_001*p_010*p_112 + p_001*p_012*p_110 + p_002*p_010*p_111 - p_002*p_011*p_110) - p_001*p_010*p_111*(p_000*p_011*p_102 - p_000*p_012*p_101 - p_001*p_010*p_102 + p_001*p_012*p_100 + p_002*p_010*p_101 - p_002*p_011*p_100) - p_001*p_011*p_100*(p_000*p_011*p_112 - p_000*p_012*p_111 - p_001*p_010*p_112 + p_001*p_012*p_110 + p_002*p_010*p_111 - p_002*p_011*p_110) + p_001*p_011*p_110*(p_000*p_011*p_102 - p_000*p_012*p_101 - p_001*p_010*p_102 + p_001*p_012*p_100 + p_002*p_010*p_101 - p_002*p_011*p_100)"
      ]
     },
     "execution_count": 31,
     "metadata": {},
     "output_type": "execute_result"
    }
   ],
   "source": [
    "# symbolic equation with explicit values for a,b\n",
    "sol = factor(L.subs([(a, M_a.det()), (b,M_b.det())]))\n",
    "sol[3]"
   ]
  },
  {
   "cell_type": "code",
   "execution_count": 32,
   "id": "durable-omega",
   "metadata": {},
   "outputs": [
    {
     "data": {
      "text/latex": [
       "$\\displaystyle \\left(- p_{000} p_{101} \\left(p_{000} p_{011} p_{112} - p_{000} p_{012} p_{111} - p_{001} p_{010} p_{112} + p_{001} p_{012} p_{110} + p_{002} p_{010} p_{111} - p_{002} p_{011} p_{110}\\right) + p_{000} p_{111} \\left(p_{000} p_{011} p_{102} - p_{000} p_{012} p_{101} - p_{001} p_{010} p_{102} + p_{001} p_{012} p_{100} + p_{002} p_{010} p_{101} - p_{002} p_{011} p_{100}\\right) + p_{001} p_{100} \\left(p_{000} p_{011} p_{112} - p_{000} p_{012} p_{111} - p_{001} p_{010} p_{112} + p_{001} p_{012} p_{110} + p_{002} p_{010} p_{111} - p_{002} p_{011} p_{110}\\right) - p_{001} p_{110} \\left(p_{000} p_{011} p_{102} - p_{000} p_{012} p_{101} - p_{001} p_{010} p_{102} + p_{001} p_{012} p_{100} + p_{002} p_{010} p_{101} - p_{002} p_{011} p_{100}\\right)\\right) \\left(p_{000} p_{011} p_{112} - p_{000} p_{012} p_{111} - p_{001} p_{010} p_{112} + p_{001} p_{012} p_{110} + p_{002} p_{010} p_{111} - p_{002} p_{011} p_{110}\\right)$"
      ],
      "text/plain": [
       "(-p_000*p_101*(p_000*p_011*p_112 - p_000*p_012*p_111 - p_001*p_010*p_112 + p_001*p_012*p_110 + p_002*p_010*p_111 - p_002*p_011*p_110) + p_000*p_111*(p_000*p_011*p_102 - p_000*p_012*p_101 - p_001*p_010*p_102 + p_001*p_012*p_100 + p_002*p_010*p_101 - p_002*p_011*p_100) + p_001*p_100*(p_000*p_011*p_112 - p_000*p_012*p_111 - p_001*p_010*p_112 + p_001*p_012*p_110 + p_002*p_010*p_111 - p_002*p_011*p_110) - p_001*p_110*(p_000*p_011*p_102 - p_000*p_012*p_101 - p_001*p_010*p_102 + p_001*p_012*p_100 + p_002*p_010*p_101 - p_002*p_011*p_100))*(p_000*p_011*p_112 - p_000*p_012*p_111 - p_001*p_010*p_112 + p_001*p_012*p_110 + p_002*p_010*p_111 - p_002*p_011*p_110)"
      ]
     },
     "execution_count": 32,
     "metadata": {},
     "output_type": "execute_result"
    }
   ],
   "source": [
    "sol[1]"
   ]
  },
  {
   "cell_type": "code",
   "execution_count": 33,
   "id": "b4ab2552-6e4f-41b8-92dd-b6f6401025c7",
   "metadata": {},
   "outputs": [
    {
     "data": {
      "text/latex": [
       "$\\displaystyle \\left[\\begin{matrix}\\left(- p_{010} p_{101} \\left(p_{000} p_{011} p_{112} - p_{000} p_{012} p_{111} - p_{001} p_{010} p_{112} + p_{001} p_{012} p_{110} + p_{002} p_{010} p_{111} - p_{002} p_{011} p_{110}\\right) + p_{010} p_{111} \\left(p_{000} p_{011} p_{102} - p_{000} p_{012} p_{101} - p_{001} p_{010} p_{102} + p_{001} p_{012} p_{100} + p_{002} p_{010} p_{101} - p_{002} p_{011} p_{100}\\right) + p_{011} p_{100} \\left(p_{000} p_{011} p_{112} - p_{000} p_{012} p_{111} - p_{001} p_{010} p_{112} + p_{001} p_{012} p_{110} + p_{002} p_{010} p_{111} - p_{002} p_{011} p_{110}\\right) - p_{011} p_{110} \\left(p_{000} p_{011} p_{102} - p_{000} p_{012} p_{101} - p_{001} p_{010} p_{102} + p_{001} p_{012} p_{100} + p_{002} p_{010} p_{101} - p_{002} p_{011} p_{100}\\right)\\right) \\left(p_{000} p_{011} p_{102} - p_{000} p_{012} p_{101} - p_{001} p_{010} p_{102} + p_{001} p_{012} p_{100} + p_{002} p_{010} p_{101} - p_{002} p_{011} p_{100}\\right)\\\\\\left(- p_{000} p_{101} \\left(p_{000} p_{011} p_{112} - p_{000} p_{012} p_{111} - p_{001} p_{010} p_{112} + p_{001} p_{012} p_{110} + p_{002} p_{010} p_{111} - p_{002} p_{011} p_{110}\\right) + p_{000} p_{111} \\left(p_{000} p_{011} p_{102} - p_{000} p_{012} p_{101} - p_{001} p_{010} p_{102} + p_{001} p_{012} p_{100} + p_{002} p_{010} p_{101} - p_{002} p_{011} p_{100}\\right) + p_{001} p_{100} \\left(p_{000} p_{011} p_{112} - p_{000} p_{012} p_{111} - p_{001} p_{010} p_{112} + p_{001} p_{012} p_{110} + p_{002} p_{010} p_{111} - p_{002} p_{011} p_{110}\\right) - p_{001} p_{110} \\left(p_{000} p_{011} p_{102} - p_{000} p_{012} p_{101} - p_{001} p_{010} p_{102} + p_{001} p_{012} p_{100} + p_{002} p_{010} p_{101} - p_{002} p_{011} p_{100}\\right)\\right) \\left(p_{000} p_{011} p_{112} - p_{000} p_{012} p_{111} - p_{001} p_{010} p_{112} + p_{001} p_{012} p_{110} + p_{002} p_{010} p_{111} - p_{002} p_{011} p_{110}\\right)\\\\p_{000} p_{010} p_{101} \\left(p_{000} p_{011} p_{112} - p_{000} p_{012} p_{111} - p_{001} p_{010} p_{112} + p_{001} p_{012} p_{110} + p_{002} p_{010} p_{111} - p_{002} p_{011} p_{110}\\right) - p_{000} p_{010} p_{111} \\left(p_{000} p_{011} p_{102} - p_{000} p_{012} p_{101} - p_{001} p_{010} p_{102} + p_{001} p_{012} p_{100} + p_{002} p_{010} p_{101} - p_{002} p_{011} p_{100}\\right) + p_{000} p_{011} p_{110} \\left(p_{000} p_{011} p_{102} - p_{000} p_{012} p_{101} - p_{001} p_{010} p_{102} + p_{001} p_{012} p_{100} + p_{002} p_{010} p_{101} - p_{002} p_{011} p_{100}\\right) - p_{001} p_{010} p_{100} \\left(p_{000} p_{011} p_{112} - p_{000} p_{012} p_{111} - p_{001} p_{010} p_{112} + p_{001} p_{012} p_{110} + p_{002} p_{010} p_{111} - p_{002} p_{011} p_{110}\\right)\\\\p_{000} p_{011} p_{101} \\left(p_{000} p_{011} p_{112} - p_{000} p_{012} p_{111} - p_{001} p_{010} p_{112} + p_{001} p_{012} p_{110} + p_{002} p_{010} p_{111} - p_{002} p_{011} p_{110}\\right) - p_{001} p_{010} p_{111} \\left(p_{000} p_{011} p_{102} - p_{000} p_{012} p_{101} - p_{001} p_{010} p_{102} + p_{001} p_{012} p_{100} + p_{002} p_{010} p_{101} - p_{002} p_{011} p_{100}\\right) - p_{001} p_{011} p_{100} \\left(p_{000} p_{011} p_{112} - p_{000} p_{012} p_{111} - p_{001} p_{010} p_{112} + p_{001} p_{012} p_{110} + p_{002} p_{010} p_{111} - p_{002} p_{011} p_{110}\\right) + p_{001} p_{011} p_{110} \\left(p_{000} p_{011} p_{102} - p_{000} p_{012} p_{101} - p_{001} p_{010} p_{102} + p_{001} p_{012} p_{100} + p_{002} p_{010} p_{101} - p_{002} p_{011} p_{100}\\right)\\\\p_{002} p_{010} p_{101} \\left(p_{000} p_{011} p_{112} - p_{000} p_{012} p_{111} - p_{001} p_{010} p_{112} + p_{001} p_{012} p_{110} + p_{002} p_{010} p_{111} - p_{002} p_{011} p_{110}\\right) - p_{002} p_{010} p_{111} \\left(p_{000} p_{011} p_{102} - p_{000} p_{012} p_{101} - p_{001} p_{010} p_{102} + p_{001} p_{012} p_{100} + p_{002} p_{010} p_{101} - p_{002} p_{011} p_{100}\\right) - p_{002} p_{011} p_{100} \\left(p_{000} p_{011} p_{112} - p_{000} p_{012} p_{111} - p_{001} p_{010} p_{112} + p_{001} p_{012} p_{110} + p_{002} p_{010} p_{111} - p_{002} p_{011} p_{110}\\right) + p_{002} p_{011} p_{110} \\left(p_{000} p_{011} p_{102} - p_{000} p_{012} p_{101} - p_{001} p_{010} p_{102} + p_{001} p_{012} p_{100} + p_{002} p_{010} p_{101} - p_{002} p_{011} p_{100}\\right) + p_{102} \\left(p_{000} p_{011} - p_{001} p_{010}\\right) \\left(p_{000} p_{011} p_{112} - p_{000} p_{012} p_{111} - p_{001} p_{010} p_{112} + p_{001} p_{012} p_{110} + p_{002} p_{010} p_{111} - p_{002} p_{011} p_{110}\\right)\\end{matrix}\\right]$"
      ],
      "text/plain": [
       "Matrix([\n",
       "[                                                         (-p_010*p_101*(p_000*p_011*p_112 - p_000*p_012*p_111 - p_001*p_010*p_112 + p_001*p_012*p_110 + p_002*p_010*p_111 - p_002*p_011*p_110) + p_010*p_111*(p_000*p_011*p_102 - p_000*p_012*p_101 - p_001*p_010*p_102 + p_001*p_012*p_100 + p_002*p_010*p_101 - p_002*p_011*p_100) + p_011*p_100*(p_000*p_011*p_112 - p_000*p_012*p_111 - p_001*p_010*p_112 + p_001*p_012*p_110 + p_002*p_010*p_111 - p_002*p_011*p_110) - p_011*p_110*(p_000*p_011*p_102 - p_000*p_012*p_101 - p_001*p_010*p_102 + p_001*p_012*p_100 + p_002*p_010*p_101 - p_002*p_011*p_100))*(p_000*p_011*p_102 - p_000*p_012*p_101 - p_001*p_010*p_102 + p_001*p_012*p_100 + p_002*p_010*p_101 - p_002*p_011*p_100)],\n",
       "[                                                         (-p_000*p_101*(p_000*p_011*p_112 - p_000*p_012*p_111 - p_001*p_010*p_112 + p_001*p_012*p_110 + p_002*p_010*p_111 - p_002*p_011*p_110) + p_000*p_111*(p_000*p_011*p_102 - p_000*p_012*p_101 - p_001*p_010*p_102 + p_001*p_012*p_100 + p_002*p_010*p_101 - p_002*p_011*p_100) + p_001*p_100*(p_000*p_011*p_112 - p_000*p_012*p_111 - p_001*p_010*p_112 + p_001*p_012*p_110 + p_002*p_010*p_111 - p_002*p_011*p_110) - p_001*p_110*(p_000*p_011*p_102 - p_000*p_012*p_101 - p_001*p_010*p_102 + p_001*p_012*p_100 + p_002*p_010*p_101 - p_002*p_011*p_100))*(p_000*p_011*p_112 - p_000*p_012*p_111 - p_001*p_010*p_112 + p_001*p_012*p_110 + p_002*p_010*p_111 - p_002*p_011*p_110)],\n",
       "[                                                                                                                                                            p_000*p_010*p_101*(p_000*p_011*p_112 - p_000*p_012*p_111 - p_001*p_010*p_112 + p_001*p_012*p_110 + p_002*p_010*p_111 - p_002*p_011*p_110) - p_000*p_010*p_111*(p_000*p_011*p_102 - p_000*p_012*p_101 - p_001*p_010*p_102 + p_001*p_012*p_100 + p_002*p_010*p_101 - p_002*p_011*p_100) + p_000*p_011*p_110*(p_000*p_011*p_102 - p_000*p_012*p_101 - p_001*p_010*p_102 + p_001*p_012*p_100 + p_002*p_010*p_101 - p_002*p_011*p_100) - p_001*p_010*p_100*(p_000*p_011*p_112 - p_000*p_012*p_111 - p_001*p_010*p_112 + p_001*p_012*p_110 + p_002*p_010*p_111 - p_002*p_011*p_110)],\n",
       "[                                                                                                                                                            p_000*p_011*p_101*(p_000*p_011*p_112 - p_000*p_012*p_111 - p_001*p_010*p_112 + p_001*p_012*p_110 + p_002*p_010*p_111 - p_002*p_011*p_110) - p_001*p_010*p_111*(p_000*p_011*p_102 - p_000*p_012*p_101 - p_001*p_010*p_102 + p_001*p_012*p_100 + p_002*p_010*p_101 - p_002*p_011*p_100) - p_001*p_011*p_100*(p_000*p_011*p_112 - p_000*p_012*p_111 - p_001*p_010*p_112 + p_001*p_012*p_110 + p_002*p_010*p_111 - p_002*p_011*p_110) + p_001*p_011*p_110*(p_000*p_011*p_102 - p_000*p_012*p_101 - p_001*p_010*p_102 + p_001*p_012*p_100 + p_002*p_010*p_101 - p_002*p_011*p_100)],\n",
       "[p_002*p_010*p_101*(p_000*p_011*p_112 - p_000*p_012*p_111 - p_001*p_010*p_112 + p_001*p_012*p_110 + p_002*p_010*p_111 - p_002*p_011*p_110) - p_002*p_010*p_111*(p_000*p_011*p_102 - p_000*p_012*p_101 - p_001*p_010*p_102 + p_001*p_012*p_100 + p_002*p_010*p_101 - p_002*p_011*p_100) - p_002*p_011*p_100*(p_000*p_011*p_112 - p_000*p_012*p_111 - p_001*p_010*p_112 + p_001*p_012*p_110 + p_002*p_010*p_111 - p_002*p_011*p_110) + p_002*p_011*p_110*(p_000*p_011*p_102 - p_000*p_012*p_101 - p_001*p_010*p_102 + p_001*p_012*p_100 + p_002*p_010*p_101 - p_002*p_011*p_100) + p_102*(p_000*p_011 - p_001*p_010)*(p_000*p_011*p_112 - p_000*p_012*p_111 - p_001*p_010*p_112 + p_001*p_012*p_110 + p_002*p_010*p_111 - p_002*p_011*p_110)]])"
      ]
     },
     "execution_count": 33,
     "metadata": {},
     "output_type": "execute_result"
    }
   ],
   "source": [
    "sol"
   ]
  },
  {
   "cell_type": "code",
   "execution_count": 34,
   "id": "b19947f5-f037-4087-b4ad-8e4f4d6c5779",
   "metadata": {},
   "outputs": [],
   "source": [
    "# generates random rank 3 tensors\n",
    "def rank_tree():\n",
    "    return (low_tensor() + low_tensor() + low_tensor()) \n",
    "\n",
    "# generates random 2x2x3 tensors\n",
    "def rand_tensor():\n",
    "    return tl.tensor(np.random.randint(1, 100000, size=(3,2,2)))*1.0\n",
    "\n",
    "# generates rank 1 tensors\n",
    "def low_tensor():\n",
    "    max = 30\n",
    "    a = np.random.randint(1, max, size=3) \n",
    "    b = np.random.randint(1, max, size=2)\n",
    "    c = np.random.randint(1, max, size=2)\n",
    "    tens = tl.tensor(np.kron(np.kron(a, b), c).reshape(3, 2, 2)) * 1.0\n",
    "    return tens"
   ]
  },
  {
   "cell_type": "code",
   "execution_count": 35,
   "id": "welsh-pixel",
   "metadata": {},
   "outputs": [
    {
     "data": {
      "text/plain": [
       "array([[ 7.23242826e-01],\n",
       "       [ 7.03294949e-01],\n",
       "       [-8.04872317e+02],\n",
       "       [ 2.87066985e+02],\n",
       "       [ 1.75155573e+02]])"
      ]
     },
     "execution_count": 35,
     "metadata": {},
     "output_type": "execute_result"
    }
   ],
   "source": [
    "# numerical example of the symbolic stuff\n",
    "tens = rank_tree()\n",
    "# generic rank of 2x2x3 is 3 but nonnegative typical rank is 3,4 so uncomment for a truly random tensor\n",
    "# tens = rand_tensor()\n",
    "M_b = Matrix([[Matrix(tens[:,0,0]), Matrix(tens[:,0,1]), Matrix(tens[:,1,1])]]).transpose()\n",
    "M_a = Matrix([[Matrix(tens[:,0,0]), Matrix(tens[:,0,1]), Matrix(tens[:,1,0])]]).transpose()\n",
    "# a,b modified slightly to account for numerical stability\n",
    "a = 1\n",
    "b = M_b.det() / M_a.det()\n",
    "M = Matrix([[tens[0][0][0],0,a,0,0],[0,tens[0][0][1],b,0,0],\n",
    "            [tens[1][0][0],0,0,a,0],[0,tens[1][0][1],0,b,0],\n",
    "            [tens[2][0][0],0,0,0,a],[0,tens[2][0][1],0,0,b]])\n",
    "R = Matrix([Matrix(tens[0,1]),Matrix(tens[1,1]),Matrix(tens[2,1])])\n",
    "M_sub = Matrix(M[0:5,0:5])\n",
    "sol = np.array((M_sub.adjugate() @ Matrix(R[0:5])) /M_sub.det(), dtype = \"float\")\n",
    "# least squares solution\n",
    "sol1 = la.solve(np.array(M.T @ M, dtype = \"float\"), np.array(M.T @ R, dtype = \"float\"))\n",
    "sol"
   ]
  },
  {
   "cell_type": "code",
   "execution_count": 36,
   "id": "extensive-glenn",
   "metadata": {},
   "outputs": [
    {
     "data": {
      "text/plain": [
       "array([[ 7.23242826e-01],\n",
       "       [ 7.03294949e-01],\n",
       "       [-8.04872317e+02],\n",
       "       [ 2.87066985e+02],\n",
       "       [ 1.75155573e+02]])"
      ]
     },
     "execution_count": 36,
     "metadata": {},
     "output_type": "execute_result"
    }
   ],
   "source": [
    "sol1"
   ]
  },
  {
   "cell_type": "code",
   "execution_count": 37,
   "id": "honey-exhibit",
   "metadata": {},
   "outputs": [],
   "source": [
    "def mat_inv(t):\n",
    "    tens = t.copy()\n",
    "    M_1 = Matrix([Matrix(tens[0][1]).transpose(),Matrix(tens[0][0]).transpose()])\n",
    "    M_2 = Matrix([Matrix(tens[1][1]).transpose(),Matrix(tens[1][0]).transpose()])\n",
    "    M_3 = Matrix([Matrix(tens[2][1]).transpose(),Matrix(tens[2][0]).transpose()])\n",
    "    tens[0] = M_1\n",
    "    tens[1] = M_2\n",
    "    tens[2] = M_3\n",
    "    return tens\n",
    "\n",
    "def mat_trans(t):\n",
    "    tens = t.copy()\n",
    "    tens[0] = tens[0].transpose()\n",
    "    tens[1] = tens[1].transpose()\n",
    "    tens[2] = tens[2].transpose()\n",
    "    return tens"
   ]
  },
  {
   "cell_type": "code",
   "execution_count": 38,
   "id": "increasing-march",
   "metadata": {},
   "outputs": [
    {
     "data": {
      "text/plain": [
       "array([[[94965., 56073.],\n",
       "        [87298., 99429.]],\n",
       "\n",
       "       [[35318., 58735.],\n",
       "        [63927., 35647.]],\n",
       "\n",
       "       [[61394., 66254.],\n",
       "        [58545., 53997.]]])"
      ]
     },
     "execution_count": 38,
     "metadata": {},
     "output_type": "execute_result"
    }
   ],
   "source": [
    "tens = rand_tensor()\n",
    "tens"
   ]
  },
  {
   "cell_type": "code",
   "execution_count": 39,
   "id": "sweet-blond",
   "metadata": {},
   "outputs": [
    {
     "data": {
      "text/plain": [
       "array([[[56073., 99429.],\n",
       "        [94965., 87298.]],\n",
       "\n",
       "       [[58735., 35647.],\n",
       "        [35318., 63927.]],\n",
       "\n",
       "       [[66254., 53997.],\n",
       "        [61394., 58545.]]])"
      ]
     },
     "execution_count": 39,
     "metadata": {},
     "output_type": "execute_result"
    }
   ],
   "source": [
    "# illustrates one rotation\n",
    "mat_inv(mat_trans(tens))"
   ]
  }
 ],
 "metadata": {
  "kernelspec": {
   "display_name": "Python 3 (ipykernel)",
   "language": "python",
   "name": "python3"
  },
  "language_info": {
   "codemirror_mode": {
    "name": "ipython",
    "version": 3
   },
   "file_extension": ".py",
   "mimetype": "text/x-python",
   "name": "python",
   "nbconvert_exporter": "python",
   "pygments_lexer": "ipython3",
   "version": "3.9.5"
  }
 },
 "nbformat": 4,
 "nbformat_minor": 5
}
