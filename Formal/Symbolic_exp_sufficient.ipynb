{
 "cells": [
  {
   "cell_type": "code",
   "execution_count": 1,
   "id": "d30669db-f255-439d-8ade-5b051bff512f",
   "metadata": {},
   "outputs": [
    {
     "name": "stdout",
     "output_type": "stream",
     "text": [
      "Requirement already satisfied: tensorly in c:\\users\\alex\\appdata\\local\\programs\\python\\python39\\lib\\site-packages (0.6.0)\n",
      "Requirement already satisfied: scipy in c:\\users\\alex\\appdata\\local\\programs\\python\\python39\\lib\\site-packages (from tensorly) (1.7.1)\n",
      "Requirement already satisfied: numpy in c:\\users\\alex\\appdata\\local\\programs\\python\\python39\\lib\\site-packages (from tensorly) (1.21.3)\n",
      "Requirement already satisfied: nose in c:\\users\\alex\\appdata\\local\\programs\\python\\python39\\lib\\site-packages (from tensorly) (1.3.7)\n"
     ]
    }
   ],
   "source": [
    "!pip install tensorly"
   ]
  },
  {
   "cell_type": "code",
   "execution_count": 16,
   "id": "restricted-carter",
   "metadata": {},
   "outputs": [],
   "source": [
    "import tensorly as tl\n",
    "import numpy as np\n",
    "from numpy import linalg as la\n",
    "from sympy import *\n",
    "from sympy import Matrix, symbols, solve_linear_system\n",
    "from sympy.solvers.solveset import linsolve\n",
    "import time\n",
    "from joblib import Parallel, delayed\n",
    "x,y,z_1,z_2,z_3 = symbols('x y z_1 z_2 z_3')\n",
    "x,y,z1,z2,z3 ,b= symbols(\"x,y,z1,z2,z3,b\")\n",
    "p_112, p_102, p_002, p_012 = symbols('p_112 p_102 p_002 p_012')\n",
    "p_000, p_001, p_100, p_101, p_200, p_201, p_010, p_011, p_020, p_021, p_110, p_111, p_210, p_211, p_120, p_121, p_220, p_221 = symbols('p_000 p_001 p_100 p_101 p_200 p_201 p_010 p_011 p_020 p_021 p_110 p_111 p_210 p_211 p_120 p_121 p_220 p_221')"
   ]
  },
  {
   "cell_type": "code",
   "execution_count": 17,
   "id": "bright-front",
   "metadata": {},
   "outputs": [],
   "source": [
    "#generates random rank 3 tensors\n",
    "def rank_tree():\n",
    "    return (low_tensor() + low_tensor() + low_tensor()) \n",
    "\n",
    "# random tensor of some dim\n",
    "def rand_tensor():\n",
    "    return tl.tensor(np.random.randint(1, 100000, size=(3,2,2)))*1.0\n",
    "\n",
    "# generates rank 1 tensors\n",
    "def low_tensor():\n",
    "    max = 30\n",
    "    a = np.random.randint(1, max, size=3) \n",
    "    b = np.random.randint(1, max, size=2)\n",
    "    c = np.random.randint(1, max, size=2)\n",
    "    tens = tl.tensor(np.kron(np.kron(a, b), c).reshape(3, 2, 2)) * 1.0\n",
    "    return tens\n",
    "\n",
    "# checks if all subtensors have nonneg rank 3\n",
    "def check(t):\n",
    "    t1 = tl.tensor([t[0], t[1]])\n",
    "    t2 = tl.tensor([t[1], t[2]])\n",
    "    t3 = tl.tensor([t[0], t[2]])\n",
    "    a1 = det(Matrix(t1[0]))\n",
    "    a2 = det(Matrix(t1[1]))\n",
    "    a3 = det(Matrix(t2[0]))\n",
    "    a4 = det(Matrix(t2[1]))\n",
    "    b1 = det(Matrix(t1[:,0]))\n",
    "    b2 = det(Matrix(t1[:,1]))\n",
    "    b3 = det(Matrix(t2[:,0]))\n",
    "    b4 = det(Matrix(t2[:,1]))\n",
    "    c1 = det(Matrix(t1[:,:,0]))\n",
    "    c2 = det(Matrix(t1[:,:,1]))\n",
    "    c3 = det(Matrix(t2[:,:,0]))\n",
    "    c4 = det(Matrix(t2[:,:,1]))\n",
    "\n",
    "    a5 = det(Matrix(t3[0]))\n",
    "    a6 = det(Matrix(t3[1]))\n",
    "\n",
    "    b5 = det(Matrix(t3[:,0]))\n",
    "    b6 = det(Matrix(t3[:,1]))\n",
    "\n",
    "    c5 = det(Matrix(t3[:,:,0]))\n",
    "    c6 = det(Matrix(t3[:,:,1]))\n",
    "    return sgn([a1, a2,a3,a4,a5,a6]) or sgn([b1,b2,b3,b4,b5,b6]) or sgn([c1,c2,c3,c4,c5,c6])\n",
    "\n",
    "# determines sign of a list\n",
    "def sgn(a):\n",
    "    t = 0\n",
    "    ab = 0\n",
    "    for a_i in a:\n",
    "        t+= abs(a_i)\n",
    "        ab += a_i\n",
    "    return t == abs(ab)\n",
    "\n",
    "\n",
    "# checks if the give 2x2x2 tensor has nonneg rank 3\n",
    "def check_r3(t):\n",
    "    a1 = det(Matrix(t[0]))\n",
    "    a2 = det(Matrix(t[1]))\n",
    "    b1 = det(Matrix(t[:,0]))\n",
    "    b2 = det(Matrix(t[:,1]))\n",
    "    c1 = det(Matrix(t[:,:,0]))\n",
    "    c2 = det(Matrix(t[:,:,1]))\n",
    "    return sgn([a1,a2]) or sgn([b1,b2]) or sgn([c1,c2])\n",
    "\n",
    "# checks if given 2x2x2 has nonneg rank 2\n",
    "def check_r2(t):\n",
    "    a1 = det(Matrix(t[0]))\n",
    "    a2 = det(Matrix(t[1]))\n",
    "    b1 = det(Matrix(t[:,0]))\n",
    "    b2 = det(Matrix(t[:,1]))\n",
    "    c1 = det(Matrix(t[:,:,0]))\n",
    "    c2 = det(Matrix(t[:,:,1]))\n",
    "    d1 = ineq(a1,a2,b1,b2,c1,c2,ge,ge,ge)\n",
    "    d2 = ineq(a1,a2,b1,b2,c1,c2,le,le,ge)\n",
    "    d3 = ineq(a1,a2,b1,b2,c1,c2,le,ge,le)\n",
    "    d4 = ineq(a1,a2,b1,b2,c1,c2,ge,le,le)\n",
    "    supermod = d1 or d2 or d3 or d4\n",
    "    return supermod\n",
    "\n",
    "\n",
    "# helpers\n",
    "def ineq(a1,a2,b1,b2,c1,c2,f1,f2,f3):\n",
    "    t1 = f1(a1,0) and f1(a2,0)\n",
    "    t2 = f2(b1,0) and f2(b2,0)\n",
    "    t3 = f3(c1,0) and f3(c2,0)\n",
    "    return t1 and t2 and t3\n",
    "    \n",
    "def ge(a1,a2):\n",
    "    return a1 >= a2\n",
    "\n",
    "def le(a1,a2):\n",
    "    return a1 <= a2\n",
    "\n",
    "# Checks if 2x2x3 contains a 2x2x2 with nonneg 4\n",
    "def check_r4(t):\n",
    "    a1 = not check_r3(tl.tensor([t[0],t[1]]))\n",
    "    a2 = not check_r3(tl.tensor([t[0],t[2]]))\n",
    "    a3 = not check_r3(tl.tensor([t[1],t[2]]))\n",
    "    return a1 or a2 or a3 "
   ]
  },
  {
   "cell_type": "code",
   "execution_count": 18,
   "id": "opposed-campaign",
   "metadata": {},
   "outputs": [
    {
     "data": {
      "text/latex": [
       "$\\displaystyle \\left[\\begin{matrix}\\left[\\begin{matrix}p_{000} & p_{010}\\\\p_{100} & p_{110}\\end{matrix}\\right] & \\left[\\begin{matrix}p_{001} & p_{011}\\\\p_{101} & p_{111}\\end{matrix}\\right] & \\left[\\begin{matrix}p_{002} & p_{012}\\\\p_{102} & p_{112}\\end{matrix}\\right]\\end{matrix}\\right]$"
      ],
      "text/plain": [
       "[[[p_000, p_010], [p_100, p_110]], [[p_001, p_011], [p_101, p_111]], [[p_002, p_012], [p_102, p_112]]]"
      ]
     },
     "execution_count": 18,
     "metadata": {},
     "output_type": "execute_result"
    }
   ],
   "source": [
    "tens = Array([[[p_000, p_010],[p_100, p_110]],\n",
    "          [[p_001, p_011],[p_101, p_111]],\n",
    "           [[p_002, p_012],[p_102, p_112]]])\n",
    "tens"
   ]
  },
  {
   "cell_type": "code",
   "execution_count": 19,
   "id": "marine-blanket",
   "metadata": {},
   "outputs": [
    {
     "data": {
      "text/latex": [
       "$\\displaystyle \\left[\\begin{matrix}p_{100} & p_{101} & p_{102}\\end{matrix}\\right]$"
      ],
      "text/plain": [
       "[p_100, p_101, p_102]"
      ]
     },
     "execution_count": 19,
     "metadata": {},
     "output_type": "execute_result"
    }
   ],
   "source": [
    "tens[:,1,0]"
   ]
  },
  {
   "cell_type": "code",
   "execution_count": 20,
   "id": "numerical-battlefield",
   "metadata": {},
   "outputs": [
    {
     "data": {
      "text/latex": [
       "$\\displaystyle p_{000} p_{011} p_{112} - p_{000} p_{012} p_{111} - p_{001} p_{010} p_{112} + p_{001} p_{012} p_{110} + p_{002} p_{010} p_{111} - p_{002} p_{011} p_{110}$"
      ],
      "text/plain": [
       "p_000*p_011*p_112 - p_000*p_012*p_111 - p_001*p_010*p_112 + p_001*p_012*p_110 + p_002*p_010*p_111 - p_002*p_011*p_110"
      ]
     },
     "execution_count": 20,
     "metadata": {},
     "output_type": "execute_result"
    }
   ],
   "source": [
    "M_b = Matrix([[Matrix(tens[:,0,0]), Matrix(tens[:,0,1]), Matrix(tens[:,1,1])]]).transpose()\n",
    "M_b.det()"
   ]
  },
  {
   "cell_type": "code",
   "execution_count": 21,
   "id": "interior-testimony",
   "metadata": {},
   "outputs": [
    {
     "data": {
      "text/latex": [
       "$\\displaystyle p_{000} p_{011} p_{102} - p_{000} p_{012} p_{101} - p_{001} p_{010} p_{102} + p_{001} p_{012} p_{100} + p_{002} p_{010} p_{101} - p_{002} p_{011} p_{100}$"
      ],
      "text/plain": [
       "p_000*p_011*p_102 - p_000*p_012*p_101 - p_001*p_010*p_102 + p_001*p_012*p_100 + p_002*p_010*p_101 - p_002*p_011*p_100"
      ]
     },
     "execution_count": 21,
     "metadata": {},
     "output_type": "execute_result"
    }
   ],
   "source": [
    "M_a = Matrix([[Matrix(tens[:,0,0]), Matrix(tens[:,0,1]), Matrix(tens[:,1,0])]]).transpose()\n",
    "M_a.det()"
   ]
  },
  {
   "cell_type": "code",
   "execution_count": 22,
   "id": "julian-berlin",
   "metadata": {},
   "outputs": [
    {
     "data": {
      "text/latex": [
       "$\\displaystyle \\left[\\begin{matrix}p_{000} & 0 & a & 0 & 0\\\\0 & p_{010} & b & 0 & 0\\\\p_{001} & 0 & 0 & a & 0\\\\0 & p_{011} & 0 & b & 0\\\\p_{002} & 0 & 0 & 0 & a\\\\0 & p_{012} & 0 & 0 & b\\end{matrix}\\right]$"
      ],
      "text/plain": [
       "Matrix([\n",
       "[p_000,     0, a, 0, 0],\n",
       "[    0, p_010, b, 0, 0],\n",
       "[p_001,     0, 0, a, 0],\n",
       "[    0, p_011, 0, b, 0],\n",
       "[p_002,     0, 0, 0, a],\n",
       "[    0, p_012, 0, 0, b]])"
      ]
     },
     "execution_count": 22,
     "metadata": {},
     "output_type": "execute_result"
    }
   ],
   "source": [
    "a, b = symbols(\"a b\")\n",
    "M = Matrix([[tens[0][0][0],0,a,0,0],[0,tens[0][0][1],b,0,0],\n",
    "            [tens[1][0][0],0,0,a,0],[0,tens[1][0][1],0,b,0],\n",
    "            [tens[2][0][0],0,0,0,a],[0,tens[2][0][1],0,0,b]])\n",
    "M"
   ]
  },
  {
   "cell_type": "code",
   "execution_count": 23,
   "id": "composed-daughter",
   "metadata": {},
   "outputs": [
    {
     "data": {
      "text/latex": [
       "$\\displaystyle \\left[\\begin{matrix}p_{100}\\\\p_{110}\\\\p_{101}\\\\p_{111}\\\\p_{102}\\\\p_{112}\\end{matrix}\\right]$"
      ],
      "text/plain": [
       "Matrix([\n",
       "[p_100],\n",
       "[p_110],\n",
       "[p_101],\n",
       "[p_111],\n",
       "[p_102],\n",
       "[p_112]])"
      ]
     },
     "execution_count": 23,
     "metadata": {},
     "output_type": "execute_result"
    }
   ],
   "source": [
    "R = Matrix([Matrix(tens[0,1]),Matrix(tens[1,1]),Matrix(tens[2,1])])\n",
    "R"
   ]
  },
  {
   "cell_type": "code",
   "execution_count": 24,
   "id": "maritime-siemens",
   "metadata": {},
   "outputs": [
    {
     "data": {
      "text/latex": [
       "$\\displaystyle \\left[\\begin{matrix}a \\left(a p_{010} p_{111} - a p_{011} p_{110} - b p_{010} p_{101} + b p_{011} p_{100}\\right)\\\\b \\left(a p_{000} p_{111} - a p_{001} p_{110} - b p_{000} p_{101} + b p_{001} p_{100}\\right)\\\\- a p_{000} p_{010} p_{111} + a p_{000} p_{011} p_{110} + b p_{000} p_{010} p_{101} - b p_{001} p_{010} p_{100}\\\\- a p_{001} p_{010} p_{111} + a p_{001} p_{011} p_{110} + b p_{000} p_{011} p_{101} - b p_{001} p_{011} p_{100}\\\\- a p_{002} p_{010} p_{111} + a p_{002} p_{011} p_{110} + b p_{002} p_{010} p_{101} - b p_{002} p_{011} p_{100} + b p_{102} \\left(p_{000} p_{011} - p_{001} p_{010}\\right)\\end{matrix}\\right]$"
      ],
      "text/plain": [
       "Matrix([\n",
       "[                                                           a*(a*p_010*p_111 - a*p_011*p_110 - b*p_010*p_101 + b*p_011*p_100)],\n",
       "[                                                           b*(a*p_000*p_111 - a*p_001*p_110 - b*p_000*p_101 + b*p_001*p_100)],\n",
       "[                                      -a*p_000*p_010*p_111 + a*p_000*p_011*p_110 + b*p_000*p_010*p_101 - b*p_001*p_010*p_100],\n",
       "[                                      -a*p_001*p_010*p_111 + a*p_001*p_011*p_110 + b*p_000*p_011*p_101 - b*p_001*p_011*p_100],\n",
       "[-a*p_002*p_010*p_111 + a*p_002*p_011*p_110 + b*p_002*p_010*p_101 - b*p_002*p_011*p_100 + b*p_102*(p_000*p_011 - p_001*p_010)]])"
      ]
     },
     "execution_count": 24,
     "metadata": {},
     "output_type": "execute_result"
    }
   ],
   "source": [
    "M_sub = Matrix(M[0:5,0:5])\n",
    "L = simplify((M_sub.adjugate() @ Matrix(R[0:5]))/a)\n",
    "L"
   ]
  },
  {
   "cell_type": "code",
   "execution_count": 25,
   "id": "forward-diving",
   "metadata": {},
   "outputs": [
    {
     "data": {
      "text/latex": [
       "$\\displaystyle p_{000} p_{011} p_{101} \\left(p_{000} p_{011} p_{112} - p_{000} p_{012} p_{111} - p_{001} p_{010} p_{112} + p_{001} p_{012} p_{110} + p_{002} p_{010} p_{111} - p_{002} p_{011} p_{110}\\right) - p_{001} p_{010} p_{111} \\left(p_{000} p_{011} p_{102} - p_{000} p_{012} p_{101} - p_{001} p_{010} p_{102} + p_{001} p_{012} p_{100} + p_{002} p_{010} p_{101} - p_{002} p_{011} p_{100}\\right) - p_{001} p_{011} p_{100} \\left(p_{000} p_{011} p_{112} - p_{000} p_{012} p_{111} - p_{001} p_{010} p_{112} + p_{001} p_{012} p_{110} + p_{002} p_{010} p_{111} - p_{002} p_{011} p_{110}\\right) + p_{001} p_{011} p_{110} \\left(p_{000} p_{011} p_{102} - p_{000} p_{012} p_{101} - p_{001} p_{010} p_{102} + p_{001} p_{012} p_{100} + p_{002} p_{010} p_{101} - p_{002} p_{011} p_{100}\\right)$"
      ],
      "text/plain": [
       "p_000*p_011*p_101*(p_000*p_011*p_112 - p_000*p_012*p_111 - p_001*p_010*p_112 + p_001*p_012*p_110 + p_002*p_010*p_111 - p_002*p_011*p_110) - p_001*p_010*p_111*(p_000*p_011*p_102 - p_000*p_012*p_101 - p_001*p_010*p_102 + p_001*p_012*p_100 + p_002*p_010*p_101 - p_002*p_011*p_100) - p_001*p_011*p_100*(p_000*p_011*p_112 - p_000*p_012*p_111 - p_001*p_010*p_112 + p_001*p_012*p_110 + p_002*p_010*p_111 - p_002*p_011*p_110) + p_001*p_011*p_110*(p_000*p_011*p_102 - p_000*p_012*p_101 - p_001*p_010*p_102 + p_001*p_012*p_100 + p_002*p_010*p_101 - p_002*p_011*p_100)"
      ]
     },
     "execution_count": 25,
     "metadata": {},
     "output_type": "execute_result"
    }
   ],
   "source": [
    "# symbolic equation with explicit values for a,b\n",
    "sol = factor(L.subs([(a, M_a.det()), (b,M_b.det())]))\n",
    "sol[3]"
   ]
  },
  {
   "cell_type": "code",
   "execution_count": 15,
   "id": "durable-omega",
   "metadata": {},
   "outputs": [
    {
     "data": {
      "text/latex": [
       "$\\displaystyle \\left(- p_{000} p_{101} \\left(p_{000} p_{011} p_{112} - p_{000} p_{012} p_{111} - p_{001} p_{010} p_{112} + p_{001} p_{012} p_{110} + p_{002} p_{010} p_{111} - p_{002} p_{011} p_{110}\\right) + p_{000} p_{111} \\left(p_{000} p_{011} p_{102} - p_{000} p_{012} p_{101} - p_{001} p_{010} p_{102} + p_{001} p_{012} p_{100} + p_{002} p_{010} p_{101} - p_{002} p_{011} p_{100}\\right) + p_{001} p_{100} \\left(p_{000} p_{011} p_{112} - p_{000} p_{012} p_{111} - p_{001} p_{010} p_{112} + p_{001} p_{012} p_{110} + p_{002} p_{010} p_{111} - p_{002} p_{011} p_{110}\\right) - p_{001} p_{110} \\left(p_{000} p_{011} p_{102} - p_{000} p_{012} p_{101} - p_{001} p_{010} p_{102} + p_{001} p_{012} p_{100} + p_{002} p_{010} p_{101} - p_{002} p_{011} p_{100}\\right)\\right) \\left(p_{000} p_{011} p_{112} - p_{000} p_{012} p_{111} - p_{001} p_{010} p_{112} + p_{001} p_{012} p_{110} + p_{002} p_{010} p_{111} - p_{002} p_{011} p_{110}\\right)$"
      ],
      "text/plain": [
       "(-p_000*p_101*(p_000*p_011*p_112 - p_000*p_012*p_111 - p_001*p_010*p_112 + p_001*p_012*p_110 + p_002*p_010*p_111 - p_002*p_011*p_110) + p_000*p_111*(p_000*p_011*p_102 - p_000*p_012*p_101 - p_001*p_010*p_102 + p_001*p_012*p_100 + p_002*p_010*p_101 - p_002*p_011*p_100) + p_001*p_100*(p_000*p_011*p_112 - p_000*p_012*p_111 - p_001*p_010*p_112 + p_001*p_012*p_110 + p_002*p_010*p_111 - p_002*p_011*p_110) - p_001*p_110*(p_000*p_011*p_102 - p_000*p_012*p_101 - p_001*p_010*p_102 + p_001*p_012*p_100 + p_002*p_010*p_101 - p_002*p_011*p_100))*(p_000*p_011*p_112 - p_000*p_012*p_111 - p_001*p_010*p_112 + p_001*p_012*p_110 + p_002*p_010*p_111 - p_002*p_011*p_110)"
      ]
     },
     "execution_count": 15,
     "metadata": {},
     "output_type": "execute_result"
    }
   ],
   "source": [
    "sol[1]"
   ]
  },
  {
   "cell_type": "code",
   "execution_count": 31,
   "id": "turned-coalition",
   "metadata": {},
   "outputs": [
    {
     "name": "stdout",
     "output_type": "stream",
     "text": [
      "718733837284774.\n"
     ]
    },
    {
     "data": {
      "text/latex": [
       "$\\displaystyle \\left[\\begin{matrix}0.279100921444095\\\\3.32206827434548\\\\-4.21262530124438 \\cdot 10^{-10}\\\\-2.00355862561557 \\cdot 10^{-10}\\\\-1.60543344217581 \\cdot 10^{-10}\\end{matrix}\\right]$"
      ],
      "text/plain": [
       "Matrix([\n",
       "[    0.279100921444095],\n",
       "[     3.32206827434548],\n",
       "[-4.21262530124438e-10],\n",
       "[-2.00355862561557e-10],\n",
       "[-1.60543344217581e-10]])"
      ]
     },
     "execution_count": 31,
     "metadata": {},
     "output_type": "execute_result"
    }
   ],
   "source": [
    "#tens = tl.tensor(np.random.randint(1, 100000, size=(3,2,2)))*1.0\n",
    "\n",
    "M1 = Matrix([[M,R]])\n",
    "#display(Latex(latex(M1)))\n",
    "l = solve(M1.det()/b)[0]\n",
    "M_1 = Matrix([[tens[0][0][0],0,a,0,0],[0,tens[0][0][1],l,0,0],\n",
    "              [tens[1][0][0],0,0,a,0],[0,tens[1][0][1],0,l,0],\n",
    "              [tens[2][0][0],0,0,0,a],[0,tens[2][0][1],0,0,l]])\n",
    "M_2 = (M_1,R)\n",
    "print(l)\n",
    "N = np.array(M_1, dtype= 'float')\n",
    "sol = la.solve(N.T @ N, N.T @ np.array(R, dtype='float'))\n",
    "M_sub = Matrix(M_1[0:5,0:5])\n",
    "M_sub.adjugate() * Matrix(R[0:5]) /det(M_sub)"
   ]
  },
  {
   "cell_type": "code",
   "execution_count": 42,
   "id": "quiet-newfoundland",
   "metadata": {},
   "outputs": [
    {
     "data": {
      "text/latex": [
       "$\\displaystyle \\left[\\begin{matrix}9642.0 & 0 & 1 & 0 & 0\\\\0 & 4780.0 & 0.439354549529377 & 0 & 0\\\\12447.0 & 0 & 0 & 1 & 0\\\\0 & 7114.0 & 0 & 0.439354549529377 & 0\\\\7116.0 & 0 & 0 & 0 & 1\\\\0 & 4152.0 & 0 & 0 & 0.439354549529377\\end{matrix}\\right]$"
      ],
      "text/plain": [
       "Matrix([\n",
       "[ 9642.0,      0,                 1,                 0,                 0],\n",
       "[      0, 4780.0, 0.439354549529377,                 0,                 0],\n",
       "[12447.0,      0,                 0,                 1,                 0],\n",
       "[      0, 7114.0,                 0, 0.439354549529377,                 0],\n",
       "[ 7116.0,      0,                 0,                 0,                 1],\n",
       "[      0, 4152.0,                 0,                 0, 0.439354549529377]])"
      ]
     },
     "execution_count": 42,
     "metadata": {},
     "output_type": "execute_result"
    }
   ],
   "source": [
    "M_1"
   ]
  },
  {
   "cell_type": "code",
   "execution_count": 48,
   "id": "charming-biodiversity",
   "metadata": {},
   "outputs": [
    {
     "data": {
      "text/latex": [
       "$\\displaystyle \\left[\\begin{matrix}11890315.9809953\\\\9041167.66194879\\\\-61723436753.7098\\\\-79489029329.6207\\\\-45980343624.7638\\end{matrix}\\right]$"
      ],
      "text/plain": [
       "Matrix([\n",
       "[ 11890315.9809953],\n",
       "[ 9041167.66194879],\n",
       "[-61723436753.7098],\n",
       "[-79489029329.6207],\n",
       "[-45980343624.7638]])"
      ]
     },
     "execution_count": 48,
     "metadata": {},
     "output_type": "execute_result"
    }
   ],
   "source": [
    "M_sub = Matrix(M_1[0:5,0:5])\n",
    "M_sub.adjugate() * Matrix(R[0:5]) "
   ]
  },
  {
   "cell_type": "code",
   "execution_count": 28,
   "id": "substantial-animation",
   "metadata": {},
   "outputs": [
    {
     "data": {
      "text/plain": [
       "[{b: (p_000*p_011*p_112 - p_000*p_012*p_111 - p_001*p_010*p_112 + p_001*p_012*p_110 + p_002*p_010*p_111 - p_002*p_011*p_110)/(p_000*p_011*p_102 - p_000*p_012*p_101 - p_001*p_010*p_102 + p_001*p_012*p_100 + p_002*p_010*p_101 - p_002*p_011*p_100)}]"
      ]
     },
     "execution_count": 28,
     "metadata": {},
     "output_type": "execute_result"
    }
   ],
   "source": [
    "M = Matrix([[p_000,0,1,0,0],[0,p_010,b,0,0],\n",
    "       [p_001,0,0,1,0],[0,p_011,0,b,0],\n",
    "      [p_002,0,0,0,1],[0,p_012,0,0,b]])\n",
    "R = Matrix([p_100, p_110, p_101, p_111, p_102, p_112])\n",
    "a= 1\n",
    "bs = solve((Matrix([[M,R]]).det()/b).simplify())"
   ]
  },
  {
   "cell_type": "code",
   "execution_count": 29,
   "id": "continued-identity",
   "metadata": {},
   "outputs": [],
   "source": [
    "bs = solve((Matrix([[M,R]]).det()/b).simplify())\n",
    "bs"
   ]
  },
  {
   "cell_type": "code",
   "execution_count": 219,
   "id": "welsh-pixel",
   "metadata": {},
   "outputs": [
    {
     "data": {
      "text/plain": [
       "array([[ 7.23016156e-01],\n",
       "       [-1.12504981e-01],\n",
       "       [ 2.79275779e+04],\n",
       "       [ 1.84547833e+04],\n",
       "       [ 2.04832005e+04]])"
      ]
     },
     "execution_count": 219,
     "metadata": {},
     "output_type": "execute_result"
    }
   ],
   "source": [
    "tens = rank_tree()\n",
    "tens = tl.tensor(np.random.randint(1, 100000, size=(3,2,2)))*1.0\n",
    "M_b = Matrix([[Matrix(tens[:,0,0]), Matrix(tens[:,0,1]), Matrix(tens[:,1,1])]]).transpose()\n",
    "M_a = Matrix([[Matrix(tens[:,0,0]), Matrix(tens[:,0,1]), Matrix(tens[:,1,0])]]).transpose()\n",
    "a = 1\n",
    "b = M_b.det() / M_a.det()\n",
    "M = Matrix([[tens[0][0][0],0,a,0,0],[0,tens[0][0][1],b,0,0],\n",
    "            [tens[1][0][0],0,0,a,0],[0,tens[1][0][1],0,b,0],\n",
    "            [tens[2][0][0],0,0,0,a],[0,tens[2][0][1],0,0,b]])\n",
    "R = Matrix([Matrix(tens[0,1]),Matrix(tens[1,1]),Matrix(tens[2,1])])\n",
    "M_sub = Matrix(M[0:5,0:5])\n",
    "sol = np.array((M_sub.adjugate() @ Matrix(R[0:5])) /M_sub.det(), dtype = \"float\")\n",
    "sol1 = la.solve(np.array(M.T @ M, dtype = \"float\"), np.array(M.T @ R, dtype = \"float\"))\n",
    "sol\n"
   ]
  },
  {
   "cell_type": "code",
   "execution_count": 222,
   "id": "extensive-glenn",
   "metadata": {},
   "outputs": [
    {
     "data": {
      "text/plain": [
       "array([ 1.65354728e+00,  7.23016156e-01, -1.12504981e-01,  2.79275779e+04,\n",
       "        1.84547833e+04,  2.04832005e+04])"
      ]
     },
     "execution_count": 222,
     "metadata": {},
     "output_type": "execute_result"
    }
   ],
   "source": [
    "proc_tensor(tens)"
   ]
  },
  {
   "cell_type": "code",
   "execution_count": 228,
   "id": "honey-exhibit",
   "metadata": {},
   "outputs": [],
   "source": [
    "def mat_inv(t):\n",
    "    tens = t.copy()\n",
    "    M_1 = Matrix([Matrix(tens[0][1]).transpose(),Matrix(tens[0][0]).transpose()])\n",
    "    M_2 = Matrix([Matrix(tens[1][1]).transpose(),Matrix(tens[1][0]).transpose()])\n",
    "    M_3 = Matrix([Matrix(tens[2][1]).transpose(),Matrix(tens[2][0]).transpose()])\n",
    "    tens[0] = M_1\n",
    "    tens[1] = M_2\n",
    "    tens[2] = M_3\n",
    "    return tens\n",
    "\n",
    "def mat_trans(t):\n",
    "    tens = t.copy()\n",
    "    tens[0] = tens[0].transpose()\n",
    "    tens[1] = tens[1].transpose()\n",
    "    tens[2] = tens[2].transpose()\n",
    "    return tens\n",
    "\n",
    "def proc_tensor(t):\n",
    "    tens = t.copy()\n",
    "    M_b = Matrix([[Matrix(tens[:,0,0]), Matrix(tens[:,0,1]), Matrix(tens[:,1,1])]]).transpose()\n",
    "    M_a = Matrix([[Matrix(tens[:,0,0]), Matrix(tens[:,0,1]), Matrix(tens[:,1,0])]]).transpose()\n",
    "    a = 1\n",
    "    b = M_b.det() / M_a.det()\n",
    "    M = Matrix([[tens[0][0][0],0,a,0,0],[0,tens[0][0][1],b,0,0],\n",
    "                [tens[1][0][0],0,0,a,0],[0,tens[1][0][1],0,b,0],\n",
    "                [tens[2][0][0],0,0,0,a],[0,tens[2][0][1],0,0,b]])\n",
    "    R = Matrix([Matrix(tens[0,1]),Matrix(tens[1,1]),Matrix(tens[2,1])])\n",
    "    M_sub = Matrix(M[0:5,0:5])\n",
    "    sol = np.array(M_sub.adjugate() @ Matrix(R[0:5]) /M_sub.det(), dtype = \"float\")\n",
    "    return np.append(np.array([b], dtype = \"float\"),sol)\n",
    "\n",
    "def loop_rotations(i):\n",
    "    tens = tl.tensor(np.random.randint(1, 100000, size=(3,2,2)))*1.0\n",
    "    ret = [0,0,0,0]\n",
    "    c1 = proc_tensor(tens)\n",
    "    c2 = proc_tensor(mat_inv(tens))\n",
    "    c3 = proc_tensor(mat_trans(tens))\n",
    "    c4 = proc_tensor(mat_inv(mat_trans(tens)))\n",
    "    if np.all(c1>=0) or np.all(c2>=0) or np.all(c3>=0) or np.all(c4>=0):\n",
    "        return (1,0)\n",
    "    return (0,0)"
   ]
  },
  {
   "cell_type": "code",
   "execution_count": 229,
   "id": "popular-favor",
   "metadata": {},
   "outputs": [
    {
     "name": "stdout",
     "output_type": "stream",
     "text": [
      "[1463, 0]\n",
      "391.0539128780365\n"
     ]
    }
   ],
   "source": [
    "te = time.time()\n",
    "total = 10000\n",
    "results = Parallel(n_jobs=4)(delayed(loop_rotations)(i) for i in range(total))\n",
    "res = [sum(x) for x in zip(*results)]\n",
    "print(res)\n",
    "print(time.time() - te)"
   ]
  },
  {
   "cell_type": "code",
   "execution_count": 172,
   "id": "superior-religion",
   "metadata": {},
   "outputs": [
    {
     "data": {
      "text/plain": [
       "array([  5.66666667,   0.78571429,   0.78571429, 281.14285714,\n",
       "       632.57142857, 210.85714286])"
      ]
     },
     "execution_count": 172,
     "metadata": {},
     "output_type": "execute_result"
    }
   ],
   "source": [
    "proc_tensor(mat_inv(tens))"
   ]
  },
  {
   "cell_type": "code",
   "execution_count": 173,
   "id": "unnecessary-router",
   "metadata": {},
   "outputs": [
    {
     "data": {
      "text/plain": [
       "array([ 1.27272727e+00,  5.66666667e+00,  5.66666667e+00, -2.10100000e+03,\n",
       "       -4.44766667e+03, -2.23190000e+04])"
      ]
     },
     "execution_count": 173,
     "metadata": {},
     "output_type": "execute_result"
    }
   ],
   "source": [
    "proc_tensor(mat_trans(tens))"
   ]
  },
  {
   "cell_type": "code",
   "execution_count": 174,
   "id": "characteristic-villa",
   "metadata": {},
   "outputs": [
    {
     "data": {
      "text/plain": [
       "array([1.27272727e+00, 1.76470588e-01, 1.76470588e-01, 3.70764706e+02,\n",
       "       7.84882353e+02, 3.93864706e+03])"
      ]
     },
     "execution_count": 174,
     "metadata": {},
     "output_type": "execute_result"
    }
   ],
   "source": [
    "proc_tensor(mat_inv(mat_trans(tens)))"
   ]
  },
  {
   "cell_type": "code",
   "execution_count": 175,
   "id": "experimental-tackle",
   "metadata": {},
   "outputs": [
    {
     "data": {
      "text/plain": [
       "array([[[  927.,  3152.],\n",
       "        [  822.,  1984.]],\n",
       "\n",
       "       [[ 2017.,  6982.],\n",
       "        [ 1762.,  4324.]],\n",
       "\n",
       "       [[ 5604.,  9437.],\n",
       "        [ 6864., 10490.]]])"
      ]
     },
     "execution_count": 175,
     "metadata": {},
     "output_type": "execute_result"
    }
   ],
   "source": [
    "tens"
   ]
  },
  {
   "cell_type": "code",
   "execution_count": 178,
   "id": "cognitive-yield",
   "metadata": {},
   "outputs": [
    {
     "data": {
      "text/plain": [
       "array([[[  927.,   822.],\n",
       "        [ 3152.,  1984.]],\n",
       "\n",
       "       [[ 2017.,  1762.],\n",
       "        [ 6982.,  4324.]],\n",
       "\n",
       "       [[ 5604.,  6864.],\n",
       "        [ 9437., 10490.]]])"
      ]
     },
     "execution_count": 178,
     "metadata": {},
     "output_type": "execute_result"
    }
   ],
   "source": []
  },
  {
   "cell_type": "code",
   "execution_count": 197,
   "id": "dressed-ordinance",
   "metadata": {},
   "outputs": [],
   "source": [
    "def proc_new(i):\n",
    "    tens = rank_tree()\n",
    "    tens = tl.tensor(np.random.randint(1, 100000, size=(3,2,2)))*1.0\n",
    "    M_b = Matrix([[Matrix(tens[:,0,0]), Matrix(tens[:,0,1]), Matrix(tens[:,1,1])]]).transpose()\n",
    "    M_a = Matrix([[Matrix(tens[:,0,0]), Matrix(tens[:,0,1]), Matrix(tens[:,1,0])]]).transpose()\n",
    "    a = 1\n",
    "    b = M_b.det() / M_a.det()\n",
    "    M = Matrix([[tens[0][0][0],0,a,0,0],[0,tens[0][0][1],b,0,0],\n",
    "                [tens[1][0][0],0,0,a,0],[0,tens[1][0][1],0,b,0],\n",
    "                [tens[2][0][0],0,0,0,a],[0,tens[2][0][1],0,0,b]])\n",
    "    R = Matrix([Matrix(tens[0,1]),Matrix(tens[1,1]),Matrix(tens[2,1])])\n",
    "    M_sub = Matrix(M[0:5,0:5])\n",
    "    sol = np.array(M_sub.adjugate() * Matrix(R[0:5]) /M_sub.det(), dtype = \"float\")\n",
    "    #display(Latex(latex(M1)))\n",
    "    ret = [0,0,0,0]\n",
    "    cond = np.all(sol >= 0) and a >= 0 and b >= 0\n",
    "    cond1 = check_r4(tens)\n",
    "    if np.all(sol > 0) and b >= 0:\n",
    "        ret[3] = 1\n",
    "    if cond and cond1:\n",
    "        ret[0] = 1\n",
    "    if cond:\n",
    "        ret[1] = 1\n",
    "    if cond1:\n",
    "        ret[2] = 1\n",
    "    return tuple(ret)"
   ]
  },
  {
   "cell_type": "code",
   "execution_count": 203,
   "id": "decent-mapping",
   "metadata": {},
   "outputs": [
    {
     "name": "stdout",
     "output_type": "stream",
     "text": [
      "[0, 5, 53, 5]\n",
      "1.0617210865020752\n"
     ]
    }
   ],
   "source": [
    "te = time.time()\n",
    "total = 100\n",
    "results = Parallel(n_jobs=4)(delayed(proc_new)(i) for i in range(total))\n",
    "res = [sum(x) for x in zip(*results)]\n",
    "print(res)\n",
    "print(time.time() - te)"
   ]
  },
  {
   "cell_type": "code",
   "execution_count": 69,
   "id": "secondary-nomination",
   "metadata": {},
   "outputs": [
    {
     "data": {
      "text/plain": [
       "0.0499"
      ]
     },
     "execution_count": 69,
     "metadata": {},
     "output_type": "execute_result"
    }
   ],
   "source": [
    "499/10000"
   ]
  },
  {
   "cell_type": "code",
   "execution_count": 145,
   "id": "increasing-march",
   "metadata": {},
   "outputs": [
    {
     "data": {
      "text/plain": [
       "array([[[82580., 17454.],\n",
       "        [10171., 65847.]],\n",
       "\n",
       "       [[53559.,  5176.],\n",
       "        [91069.,  2536.]],\n",
       "\n",
       "       [[93689., 42512.],\n",
       "        [47881., 31643.]]])"
      ]
     },
     "execution_count": 145,
     "metadata": {},
     "output_type": "execute_result"
    }
   ],
   "source": [
    "tens = rand_tensor()\n",
    "tens"
   ]
  },
  {
   "cell_type": "code",
   "execution_count": 149,
   "id": "sweet-blond",
   "metadata": {},
   "outputs": [
    {
     "data": {
      "text/plain": [
       "array([[[17454., 65847.],\n",
       "        [82580., 10171.]],\n",
       "\n",
       "       [[ 5176.,  2536.],\n",
       "        [53559., 91069.]],\n",
       "\n",
       "       [[42512., 31643.],\n",
       "        [93689., 47881.]]])"
      ]
     },
     "execution_count": 149,
     "metadata": {},
     "output_type": "execute_result"
    }
   ],
   "source": [
    "mat_inv(mat_trans(tens))"
   ]
  },
  {
   "cell_type": "code",
   "execution_count": 130,
   "id": "tribal-helping",
   "metadata": {},
   "outputs": [
    {
     "data": {
      "text/plain": [
       "array([[[41198., 82052.],\n",
       "        [73393., 90038.]],\n",
       "\n",
       "       [[12086., 56125.],\n",
       "        [ 2736., 74152.]],\n",
       "\n",
       "       [[52246., 46756.],\n",
       "        [78573., 61659.]]])"
      ]
     },
     "execution_count": 130,
     "metadata": {},
     "output_type": "execute_result"
    }
   ],
   "source": [
    "tens[0] = tens[0].transpose()\n",
    "tens[1] = tens[1].transpose()\n",
    "tens[2] = tens[2].transpose()\n",
    "tens"
   ]
  },
  {
   "cell_type": "code",
   "execution_count": 133,
   "id": "round-correspondence",
   "metadata": {},
   "outputs": [
    {
     "data": {
      "text/latex": [
       "$\\displaystyle \\left[\\begin{matrix}73393.0\\\\90038.0\\end{matrix}\\right]$"
      ],
      "text/plain": [
       "Matrix([\n",
       "[73393.0],\n",
       "[90038.0]])"
      ]
     },
     "execution_count": 133,
     "metadata": {},
     "output_type": "execute_result"
    }
   ],
   "source": [
    "T = Matrix(tens[0,1].transpose())\n",
    "T"
   ]
  },
  {
   "cell_type": "code",
   "execution_count": 137,
   "id": "unlikely-easter",
   "metadata": {},
   "outputs": [
    {
     "data": {
      "text/latex": [
       "$\\displaystyle \\left[\\begin{matrix}2736.0 & 74152.0\\\\12086.0 & 56125.0\\end{matrix}\\right]$"
      ],
      "text/plain": [
       "Matrix([\n",
       "[ 2736.0, 74152.0],\n",
       "[12086.0, 56125.0]])"
      ]
     },
     "execution_count": 137,
     "metadata": {},
     "output_type": "execute_result"
    }
   ],
   "source": [
    "M = Matrix([Matrix(tens[1][1]).transpose(),Matrix(tens[1][0]).transpose()])\n",
    "M"
   ]
  },
  {
   "cell_type": "code",
   "execution_count": 142,
   "id": "opposite-meeting",
   "metadata": {},
   "outputs": [],
   "source": [
    "\n",
    "    "
   ]
  },
  {
   "cell_type": "code",
   "execution_count": 144,
   "id": "smooth-thanksgiving",
   "metadata": {},
   "outputs": [
    {
     "data": {
      "text/plain": [
       "array([[[73393., 41198.],\n",
       "        [90038., 82052.]],\n",
       "\n",
       "       [[ 2736., 12086.],\n",
       "        [74152., 56125.]],\n",
       "\n",
       "       [[78573., 52246.],\n",
       "        [61659., 46756.]]])"
      ]
     },
     "execution_count": 144,
     "metadata": {},
     "output_type": "execute_result"
    }
   ],
   "source": [
    "mat_trans(tens)"
   ]
  },
  {
   "cell_type": "code",
   "execution_count": null,
   "id": "assisted-output",
   "metadata": {},
   "outputs": [],
   "source": []
  },
  {
   "cell_type": "code",
   "execution_count": null,
   "id": "d4b8c3c5-d76b-49a8-a4ee-332422ab3fb2",
   "metadata": {},
   "outputs": [],
   "source": []
  }
 ],
 "metadata": {
  "kernelspec": {
   "display_name": "Python 3 (ipykernel)",
   "language": "python",
   "name": "python3"
  },
  "language_info": {
   "codemirror_mode": {
    "name": "ipython",
    "version": 3
   },
   "file_extension": ".py",
   "mimetype": "text/x-python",
   "name": "python",
   "nbconvert_exporter": "python",
   "pygments_lexer": "ipython3",
   "version": "3.9.5"
  }
 },
 "nbformat": 4,
 "nbformat_minor": 5
}
